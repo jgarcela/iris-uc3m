{
 "cells": [
  {
   "cell_type": "markdown",
   "metadata": {},
   "source": [
    "# Tema"
   ]
  },
  {
   "cell_type": "markdown",
   "metadata": {},
   "source": [
    "## Data"
   ]
  },
  {
   "cell_type": "code",
   "execution_count": null,
   "metadata": {},
   "outputs": [],
   "source": [
    "import newspaper\n",
    "import pandas as pd\n",
    "from tqdm import tqdm\n",
    "\n",
    "data = pd.read_csv(\"data/contenido_2023_04_05_matriz_not_julia.csv\")\n",
    "data"
   ]
  },
  {
   "cell_type": "code",
   "execution_count": null,
   "metadata": {},
   "outputs": [],
   "source": [
    "# Eliminar filas donde \"contenido\" esté vacío o NaN\n",
    "data = data.dropna(subset=['contenido'])\n",
    "\n",
    "# Verificar que ya no haya valores NaN\n",
    "print(data['contenido'].isna().sum())\n"
   ]
  },
  {
   "cell_type": "markdown",
   "metadata": {},
   "source": [
    "## Labels"
   ]
  },
  {
   "cell_type": "code",
   "execution_count": 27,
   "metadata": {},
   "outputs": [],
   "source": [
    "label2id = {\n",
    "    \"Otros\": 0,\n",
    "    \"Economía\": 1, \n",
    "    \"Expertos/as en IA\": 2, \n",
    "    \"Política\": 3, \n",
    "    \"Empresa\": 4, \n",
    "    \"Robótica\": 5,\n",
    "    \"Aplicaciones / software\": 6, \n",
    "    \"Comunicación\": 7, \n",
    "    \"Investigación\": 8, \n",
    "    \"Algoritmo\": 9,\n",
    "    \"Sesgos de género\": 10, \n",
    "    \"Sesgos de género y raza\": 11, \n",
    "    \"Premio\": 12, \n",
    "    \"Educación/cultura\": 13,\n",
    "}\n",
    "\n",
    "id2label = {\n",
    "    0: \"Otros\",\n",
    "    1: \"Economía\", \n",
    "    2: \"Expertos/as en IA\", \n",
    "    3: \"Política\", \n",
    "    4: \"Empresa\", \n",
    "    5: \"Robótica\",\n",
    "    6: \"Aplicaciones / software\", \n",
    "    7: \"Comunicación\", \n",
    "    8: \"Investigación\", \n",
    "    9: \"Algoritmo\",\n",
    "    10: \"Sesgos de género\", \n",
    "    11: \"Sesgos de género y raza\", \n",
    "    12: \"Premio\",\n",
    "    13: \"Educación/cultura\",\n",
    "}\n",
    "\n"
   ]
  },
  {
   "cell_type": "code",
   "execution_count": null,
   "metadata": {},
   "outputs": [],
   "source": [
    "import matplotlib.pyplot as plt\n",
    "import seaborn as sns\n",
    "\n",
    "# Contar la cantidad de artículos por tema\n",
    "tema_counts = data['Tema'].value_counts()\n",
    "\n",
    "# Crear el gráfico\n",
    "plt.figure(figsize=(12, 6))\n",
    "ax = sns.barplot(x=tema_counts.index-1, y=tema_counts.values, palette=\"viridis\")\n",
    "\n",
    "# Agregar los números en cada barra con la posición correcta\n",
    "for p in ax.patches:\n",
    "    ax.annotate(f\"{int(p.get_height())}\", \n",
    "                (p.get_x() + p.get_width() / 2., p.get_height()), \n",
    "                ha='center', va='bottom', \n",
    "                fontsize=12, fontweight='bold', color='black')\n",
    "\n",
    "# Rotar las etiquetas del eje x\n",
    "plt.xticks(rotation=45, ha=\"right\")\n",
    "\n",
    "# Agregar títulos y etiquetas\n",
    "plt.xlabel(\"Tema\")\n",
    "plt.ylabel(\"Número de artículos\")\n",
    "plt.title(\"Distribución de artículos por tema\")\n",
    "\n",
    "# Mostrar el gráfico\n",
    "plt.show()\n"
   ]
  },
  {
   "cell_type": "markdown",
   "metadata": {},
   "source": [
    "### Balanceo de clases"
   ]
  },
  {
   "cell_type": "code",
   "execution_count": null,
   "metadata": {},
   "outputs": [],
   "source": [
    "from sklearn.utils import resample\n",
    "\n",
    "# Obtener la cantidad máxima de artículos en una clase\n",
    "max_count = data['Tema'].value_counts().max()\n",
    "\n",
    "# Lista para almacenar los nuevos datos balanceados\n",
    "balanced_data = []\n",
    "\n",
    "# Aplicar sobremuestreo a cada clase\n",
    "for tema, subset in data.groupby('Tema'):\n",
    "    balanced_subset = resample(subset, replace=True, n_samples=max_count, random_state=42)\n",
    "    balanced_data.append(balanced_subset)\n",
    "\n",
    "# Combinar todas las clases balanceadas\n",
    "balanced_data = pd.concat(balanced_data)\n",
    "data = balanced_data\n",
    "\n",
    "# Mostrar la distribución después del balanceo\n",
    "print(balanced_data['Tema'].value_counts())\n",
    "\n",
    "# Graficar la nueva distribución\n",
    "plt.figure(figsize=(12, 6))\n",
    "ax = sns.barplot(x=balanced_data['Tema'].value_counts().index, \n",
    "                 y=balanced_data['Tema'].value_counts().values, palette=\"viridis\")\n",
    "\n",
    "# Agregar números en cada barra\n",
    "for p in ax.patches:\n",
    "    ax.annotate(f\"{int(p.get_height())}\", \n",
    "                (p.get_x() + p.get_width() / 2., p.get_height()), \n",
    "                ha='center', va='bottom', fontsize=12, fontweight='bold', color='black')\n",
    "\n",
    "plt.xticks(rotation=45, ha=\"right\")\n",
    "plt.xlabel(\"Tema\")\n",
    "plt.ylabel(\"Número de artículos\")\n",
    "plt.title(\"Distribución de artículos después del balanceo\")\n",
    "plt.show()\n"
   ]
  },
  {
   "cell_type": "markdown",
   "metadata": {},
   "source": [
    "## Train"
   ]
  },
  {
   "cell_type": "code",
   "execution_count": 30,
   "metadata": {},
   "outputs": [],
   "source": [
    "from sklearn.model_selection import train_test_split\n",
    "\n",
    "# Dividir en entrenamiento y prueba\n",
    "X_train, X_test, y_train, y_test = train_test_split(\n",
    "    data['contenido_clean'], data['Tema'], test_size=0.2, random_state=42, stratify=data['Tema'],\n",
    ")"
   ]
  },
  {
   "cell_type": "code",
   "execution_count": null,
   "metadata": {},
   "outputs": [],
   "source": [
    "from sklearn.feature_extraction.text import TfidfVectorizer\n",
    "from sklearn.linear_model import LogisticRegression\n",
    "from sklearn.pipeline import Pipeline\n",
    "from sklearn.metrics import classification_report\n",
    "\n",
    "# Crear pipeline de vectorización y modelo\n",
    "model = Pipeline([\n",
    "    ('tfidf', TfidfVectorizer(max_features=5000)),\n",
    "    ('clf', LogisticRegression(max_iter=1000))\n",
    "])\n",
    "\n",
    "# Entrenar modelo\n",
    "model.fit(X_train, y_train)\n",
    "\n",
    "# Evaluar modelo\n",
    "y_pred = model.predict(X_test)\n",
    "print(classification_report(y_test, y_pred, target_names=id2label.values()))\n"
   ]
  },
  {
   "cell_type": "markdown",
   "metadata": {},
   "source": [
    "## Explicabilidad"
   ]
  },
  {
   "cell_type": "markdown",
   "metadata": {},
   "source": [
    "### Por artículo"
   ]
  },
  {
   "cell_type": "code",
   "execution_count": null,
   "metadata": {},
   "outputs": [],
   "source": [
    "import numpy as np\n",
    "from lime.lime_text import LimeTextExplainer\n",
    "\n",
    "explainer = LimeTextExplainer(class_names=list(id2label.values()))\n",
    "\n",
    "def explain_instance_predicted_class(text, num_words=20):\n",
    "    # Obtener la clase predicha por el modelo\n",
    "    predicted_class = np.argmax(model.predict_proba([text]))\n",
    "\n",
    "    exp = explainer.explain_instance(\n",
    "        text, \n",
    "        model.predict_proba, \n",
    "        num_features=num_words,  # Número de palabras a mostrar\n",
    "        labels=[predicted_class]  # Explicar solo la clase predicha\n",
    "    )\n",
    "\n",
    "    print(f\"Clase predicha: {id2label[predicted_class]}\")  # Mostrar nombre de la clase\n",
    "    return exp.show_in_notebook()\n",
    "\n",
    "# Explicar un texto con su clase predicha\n",
    "explain_instance_predicted_class(X_test.iloc[3])\n"
   ]
  },
  {
   "cell_type": "markdown",
   "metadata": {},
   "source": [
    "### Por clase"
   ]
  },
  {
   "cell_type": "code",
   "execution_count": null,
   "metadata": {},
   "outputs": [],
   "source": [
    "import numpy as np\n",
    "import matplotlib.pyplot as plt\n",
    "import seaborn as sns\n",
    "\n",
    "def explain_instance_all_classes_heatmap(text, num_words=5):\n",
    "    # Obtener probabilidades del modelo\n",
    "    proba = model.predict_proba([text])[0]\n",
    "    predicted_class = np.argmax(proba)  # Clase predicha\n",
    "\n",
    "    # Generar la explicación con LIME\n",
    "    exp = explainer.explain_instance(\n",
    "        text, \n",
    "        model.predict_proba, \n",
    "        num_features=num_words,\n",
    "        labels=list(range(len(id2label)))  # Explicar TODAS las clases\n",
    "    )\n",
    "\n",
    "    print(f\"Clase predicha: {id2label[predicted_class]}\")\n",
    "    print(f\"Probabilidades de cada clase:\")\n",
    "    for i, prob in enumerate(proba):\n",
    "        print(f\"  {id2label[i]}: {prob:.2%}\")\n",
    "\n",
    "    # Crear una matriz donde cada fila es una palabra y cada columna una clase\n",
    "    word_importance = {}\n",
    "\n",
    "    for label in range(len(id2label)):\n",
    "        exp_list = exp.as_list(label=label)  # Explicación de la clase actual\n",
    "        for word, weight in exp_list:\n",
    "            if word not in word_importance:\n",
    "                word_importance[word] = [0] * len(id2label)  # Inicializar todas las clases en 0\n",
    "            word_importance[word][label] = weight  # Asignar peso\n",
    "\n",
    "    # Convertir a matriz para seaborn\n",
    "    words = list(word_importance.keys())\n",
    "    importance_matrix = np.array(list(word_importance.values()))\n",
    "\n",
    "    # Crear el heatmap\n",
    "    plt.figure(figsize=(12, len(words) * 0.5))\n",
    "    sns.heatmap(\n",
    "        importance_matrix, \n",
    "        xticklabels=[id2label[i] for i in range(len(id2label))], \n",
    "        yticklabels=words, \n",
    "        cmap=\"coolwarm\", \n",
    "        annot=True, \n",
    "        fmt=\".2f\"\n",
    "    )\n",
    "    plt.xlabel(\"Clases\")\n",
    "    plt.ylabel(\"Palabras\")\n",
    "    plt.title(f\"Importancia de palabras en todas las clases - Texto seleccionado\")\n",
    "    plt.show()\n",
    "\n",
    "# Explicar un texto con Heatmap para todas las clases\n",
    "explain_instance_all_classes_heatmap(X_test.iloc[3])\n"
   ]
  },
  {
   "cell_type": "markdown",
   "metadata": {},
   "source": [
    "### Con mayor confianza"
   ]
  },
  {
   "cell_type": "code",
   "execution_count": null,
   "metadata": {},
   "outputs": [],
   "source": [
    "# Obtener las predicciones de todo X_test\n",
    "probs = model.predict_proba(X_test)\n",
    "\n",
    "# Obtener la confianza más alta por cada texto\n",
    "confidence_scores = np.max(probs, axis=1)\n",
    "\n",
    "# Ordenar los textos por confianza descendente\n",
    "top_indices = np.argsort(confidence_scores)[::-1][:5]  # Top 5 textos mejor clasificados\n",
    "\n",
    "# Explicar los mejores clasificados\n",
    "for i in top_indices:\n",
    "    print(f\"\\nExplicando texto {i} con confianza {confidence_scores[i]:.2f}\")\n",
    "    explain_instance_predicted_class(X_test.iloc[i])\n"
   ]
  }
 ],
 "metadata": {
  "kernelspec": {
   "display_name": ".venv",
   "language": "python",
   "name": "python3"
  },
  "language_info": {
   "codemirror_mode": {
    "name": "ipython",
    "version": 3
   },
   "file_extension": ".py",
   "mimetype": "text/x-python",
   "name": "python",
   "nbconvert_exporter": "python",
   "pygments_lexer": "ipython3",
   "version": "3.12.3"
  }
 },
 "nbformat": 4,
 "nbformat_minor": 2
}
