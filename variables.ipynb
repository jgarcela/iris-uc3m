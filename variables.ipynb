{
 "cells": [
  {
   "cell_type": "markdown",
   "metadata": {},
   "source": [
    "## 0. Extraer Artículo"
   ]
  },
  {
   "cell_type": "code",
   "execution_count": 35,
   "metadata": {},
   "outputs": [
    {
     "name": "stdout",
     "output_type": "stream",
     "text": [
      "El gigante tecnológico surcoreano Samsung Electronics ha anunciado este miércoles que su beneficio neto para todo 2023 se vio recortado en un 72,2% con respecto al ejercicio anterior hasta quedar en 15,49 billones de wones (unos 10.750 millones de euros) ante una lenta recuperación de la demanda de chips que mostró signos de mejora en el último trimestre.\n",
      "\n",
      "El beneficio bruto de explotación (EBITDA) de la empresa en el pasado año fue de 11,01 billones de wones (7.650 millones de euros), un 71,98% menos que en 2022, mientras que su ganancia operativa sumó 6,56 billones de wones (4.550 millones de euros), un 84,9% menos. La facturación para la totalidad del ejercicio de la compañía con sede en Suwon (al sur de Seúl) fue de 258,93 billones de wones (180.000 millones de euros), lo que implica una caída del 14,3% con respecto a los datos del año anterior.\n",
      "\n",
      "En cuanto al trimestre octubre-diciembre de 2023, Samsung Electronics reportó un beneficio neto de 6,34 billones de wones (4.400 millones de euros), que supone una caída del 73,4% interanual, y un EBITDA de 3,52 billones de wones (2.440 millones de euros), lo que implica un 10,6% menos que en el mismo trimestre de 2022.\n",
      "\n",
      "El beneficio operativo para este periodo se redujo en un 34,4% hasta los 2,82 billones de wones (1.950 millones de euros), mientras que los ingresos por venta del último cuarto del año pasado sumaron 67,77 billones de wones (46.200 millones de euros), un 3,8% menos que en el mismo lapso del año precedente.\n",
      "\n",
      "Estas cifras están en línea con el pronóstico de resultados que Samsung publicó a principio de este mes y ligeramente por encima de lo que pronosticaban la mayoría de analistas locales. La facturación y las ganancias operativas del cuarto trimestre aumentaron con respecto al tercer trimestre (un 0,56% y un 16,04%, respectivamente) debido a un mejor desempeño en la rama semiconductores ante el incremento de precios y la persistente fortaleza de las ventas de productos premium del departamento de pantallas, explicó la compañía en un comunicado.\n",
      "\n",
      "Para el arranque de 2024 la empresa espera que el lanzamiento de nuevos productos como teléfonos inteligentes y ordenadores personales equipados con funciones de inteligencia artificial (IA) impulsen una mejora en la demanda de chips, su principal rama de negocio. Sin embargo, considera que la actual tesitura, en la que los clientes están tendiendo a reducir inventarios (algo que llevó al gigante surcoreano a recortar de manera importante producción este año), puede implicar “que los ingresos no se recuperen de manera significativa”.\n",
      "\n",
      "En todo caso, Samsung aseguró que sus fundidoras se centrarán en mejorar rendimientos y en optimizar sus circuitos integrados más avanzados de 3 nanómetros y 2 nanómetros, los cuales tiene previsto comenzar a producir en masa en 2025.\n"
     ]
    }
   ],
   "source": [
    "import newspaper\n",
    "\n",
    "url = 'https://www.eldiario.es/tecnologia/beneficios-samsung-hundieron-72-2023-caida-demanda-chips_1_10881590.html'\n",
    "\n",
    "article = newspaper.article(url)\n",
    "article.download()\n",
    "article.parse()\n",
    "print(article.text)"
   ]
  },
  {
   "cell_type": "markdown",
   "metadata": {},
   "source": [
    "#### More data"
   ]
  },
  {
   "cell_type": "code",
   "execution_count": null,
   "metadata": {},
   "outputs": [],
   "source": [
    "article.nlp()\n",
    "word_count = len(article.text.split())\n",
    "\n",
    "\n",
    "\n",
    "\n",
    "print(\"Contenido:\", article.text)\n",
    "print(\"Summary:\", article.summary) # uses nlp\n",
    "print(\"Palabras clave:\", article.keywords) # uses nlp\n",
    "print(\"Autores:\", article.authors)\n",
    "print(\"Cantidad de palabras:\", word_count)\n",
    "print(\"URL de la imagen:\", article.top_image)"
   ]
  },
  {
   "cell_type": "markdown",
   "metadata": {},
   "source": [
    "## 1. N Nº"
   ]
  },
  {
   "cell_type": "code",
   "execution_count": null,
   "metadata": {},
   "outputs": [],
   "source": []
  },
  {
   "cell_type": "markdown",
   "metadata": {},
   "source": [
    "## 2. Medio"
   ]
  },
  {
   "cell_type": "code",
   "execution_count": 62,
   "metadata": {},
   "outputs": [
    {
     "name": "stdout",
     "output_type": "stream",
     "text": [
      "URL: https://www.elmundo.es/tecnologia/2025/01/07/noticia.html\n",
      "Medio: 1\n",
      "\n",
      "URL: https://elpais.com/ciencia/2025/01/07/noticia.html\n",
      "Medio: 2\n",
      "\n",
      "URL: https://www.eldiario.es/sociedad/noticia.html\n",
      "Medio: 3\n",
      "\n",
      "URL: https://www.20minutos.es/noticia/5173441/0/noticia-de-ejemplo/\n",
      "Medio: 4\n",
      "\n",
      "URL: https://articulo14.com/noticia/ia-y-genero.html\n",
      "Medio: 5\n",
      "\n",
      "URL: https://unmedioinexistente.com/noticia.html\n",
      "Medio: 0\n",
      "\n"
     ]
    }
   ],
   "source": [
    "from urllib.parse import urlparse\n",
    "\n",
    "# Función para clasificar el medio según la URL\n",
    "def classify_media(url):\n",
    "    # Extraer el dominio de la URL\n",
    "    domain = urlparse(url).netloc.lower()\n",
    "    \n",
    "    # Diccionario de dominios y categorías\n",
    "    media_map = {\n",
    "        \"elmundo.es\": 1,\n",
    "        \"elpais.com\": 2,\n",
    "        \"eldiario.es\": 3,\n",
    "        \"20minutos.es\": 4,\n",
    "        \"articulo14.com\": 5\n",
    "    }\n",
    "    \n",
    "    # Buscar el dominio en el mapa\n",
    "    for key, value in media_map.items():\n",
    "        if key in domain:\n",
    "            return value\n",
    "    \n",
    "    # Si no coincide con ninguno, retornar None o 0\n",
    "    return 0\n",
    "\n",
    "# Ejemplo de URLs\n",
    "urls = [\n",
    "    \"https://www.elmundo.es/tecnologia/2025/01/07/noticia.html\",\n",
    "    \"https://elpais.com/ciencia/2025/01/07/noticia.html\",\n",
    "    \"https://www.eldiario.es/sociedad/noticia.html\",\n",
    "    \"https://www.20minutos.es/noticia/5173441/0/noticia-de-ejemplo/\",\n",
    "    \"https://articulo14.com/noticia/ia-y-genero.html\",\n",
    "    \"https://unmedioinexistente.com/noticia.html\"\n",
    "]\n",
    "\n",
    "# Clasificar cada URL\n",
    "for url in urls:\n",
    "    media_class = classify_media(url)\n",
    "    print(f\"URL: {url}\\nMedio: {media_class}\\n\")\n",
    "\n"
   ]
  },
  {
   "cell_type": "markdown",
   "metadata": {},
   "source": [
    "## 3. N periódico"
   ]
  },
  {
   "cell_type": "code",
   "execution_count": null,
   "metadata": {},
   "outputs": [],
   "source": []
  },
  {
   "cell_type": "markdown",
   "metadata": {},
   "source": [
    "## 4. Fecha"
   ]
  },
  {
   "cell_type": "code",
   "execution_count": 36,
   "metadata": {},
   "outputs": [
    {
     "name": "stdout",
     "output_type": "stream",
     "text": [
      "2024-01-31 11:08:27+01:00\n"
     ]
    }
   ],
   "source": [
    "print(article.publish_date)"
   ]
  },
  {
   "cell_type": "markdown",
   "metadata": {},
   "source": [
    "## 5. Enlace"
   ]
  },
  {
   "cell_type": "code",
   "execution_count": 37,
   "metadata": {},
   "outputs": [
    {
     "name": "stdout",
     "output_type": "stream",
     "text": [
      "https://www.eldiario.es/tecnologia/beneficios-samsung-hundieron-72-2023-caida-demanda-chips_1_10881590.html\n"
     ]
    }
   ],
   "source": [
    "print(url)"
   ]
  },
  {
   "cell_type": "markdown",
   "metadata": {},
   "source": [
    "## 6. Titular. Copia el titular"
   ]
  },
  {
   "cell_type": "code",
   "execution_count": 38,
   "metadata": {},
   "outputs": [
    {
     "name": "stdout",
     "output_type": "stream",
     "text": [
      "Los beneficios de Samsung se hundieron un 72% en 2023 por la caída de la demanda de chips\n"
     ]
    }
   ],
   "source": [
    "print(article.title)"
   ]
  },
  {
   "cell_type": "markdown",
   "metadata": {},
   "source": [
    "## 7. Nombre propio titular"
   ]
  },
  {
   "cell_type": "code",
   "execution_count": 55,
   "metadata": {},
   "outputs": [
    {
     "name": "stdout",
     "output_type": "stream",
     "text": [
      "2025-01-07 16:31:23,610 SequenceTagger predicts: Dictionary with 20 tags: <unk>, O, B-PER, E-PER, S-LOC, B-MISC, I-MISC, E-MISC, S-PER, B-ORG, E-ORG, S-ORG, I-ORG, B-LOC, E-LOC, S-MISC, I-PER, I-LOC, <START>, <STOP>\n",
      "Nombres propios: ['Pablo Casado']\n",
      "Nombre completo: Pablo Casado, Género: male\n",
      "Categoría: 1\n"
     ]
    }
   ],
   "source": [
    "from flair.models import SequenceTagger\n",
    "from flair.data import Sentence\n",
    "import requests\n",
    "\n",
    "# Cargar el modelo de NER\n",
    "tagger = SequenceTagger.load(\"ner-multi\")\n",
    "\n",
    "# Título del artículo\n",
    "title = \"La inteligencia artificial militar, una inversión que atrae cada vez más fondos como el de Pablo Casado\"\n",
    "#title = article.title\n",
    "\n",
    "# Procesar el texto con Flair\n",
    "sentence = Sentence(title)\n",
    "tagger.predict(sentence)\n",
    "\n",
    "# Identificar nombres propios (PERSON)\n",
    "names = [entity.text for entity in sentence.get_spans('ner') if entity.tag == \"PER\"]\n",
    "print(\"Nombres propios:\", names)\n",
    "\n",
    "# Función para obtener el primer nombre\n",
    "def get_first_name(full_name):\n",
    "    return full_name.split()[0]\n",
    "\n",
    "# Función para determinar género con Genderize.io\n",
    "def get_gender_with_genderize(name):\n",
    "    response = requests.get(f\"https://api.genderize.io?name={name}\")\n",
    "    if response.status_code == 200:\n",
    "        data = response.json()\n",
    "        return data.get(\"gender\")  # Retorna género ('male', 'female' o None)\n",
    "    else:\n",
    "        print(f\"Error con el nombre {name}: {response.status_code}\")\n",
    "        return None\n",
    "\n",
    "# Clasificar nombres en géneros\n",
    "genders = {\"male\": 0, \"female\": 0}\n",
    "\n",
    "# Procesar la lista de nombres completos\n",
    "for full_name in names:\n",
    "    first_name = get_first_name(full_name)\n",
    "    gender = get_gender_with_genderize(first_name)\n",
    "    print(f\"Nombre completo: {full_name}, Género: {gender}\")\n",
    "    if gender == \"male\":\n",
    "        genders[\"male\"] += 1\n",
    "    elif gender == \"female\":\n",
    "        genders[\"female\"] += 1\n",
    "\n",
    "# Determinar la categoría\n",
    "if genders[\"male\"] == 0 and genders[\"female\"] == 0:\n",
    "    category = 0  # No hay nombres\n",
    "elif genders[\"male\"] > 0 and genders[\"female\"] == 0:\n",
    "    category = 1  # Solo hombres\n",
    "elif genders[\"female\"] > 0 and genders[\"male\"] == 0:\n",
    "    category = 2  # Solo mujeres\n",
    "else:\n",
    "    category = 3  # Hombres y mujeres\n",
    "\n",
    "print(f\"Categoría: {category}\")\n"
   ]
  },
  {
   "cell_type": "markdown",
   "metadata": {},
   "source": [
    "## 8. Cita en el titular"
   ]
  },
  {
   "cell_type": "code",
   "execution_count": 58,
   "metadata": {},
   "outputs": [
    {
     "name": "stderr",
     "output_type": "stream",
     "text": [
      "Device set to use mps:0\n"
     ]
    },
    {
     "name": "stdout",
     "output_type": "stream",
     "text": [
      "Título: Pedro Sánchez dijo: 'La inteligencia artificial cambiará el futuro'\n",
      "Cita en el titular: 1\n",
      "\n",
      "Título: La inteligencia artificial es el futuro de la tecnología\n",
      "Cita en el titular: 0\n",
      "\n",
      "Título: El presidente afirmó que se realizará la inversión en robótica\n",
      "Cita en el titular: 1\n",
      "\n",
      "Título: La tecnología avanza sin precedentes\n",
      "Cita en el titular: 0\n",
      "\n"
     ]
    }
   ],
   "source": [
    "import re\n",
    "from transformers import pipeline\n",
    "\n",
    "# Configurar modelo Zero-Shot (opcional)\n",
    "zero_shot_classifier = pipeline(\"zero-shot-classification\", model=\"facebook/bart-large-mnli\")\n",
    "\n",
    "# Función para detectar citas textuales (comillas)\n",
    "def has_explicit_quote(title):\n",
    "    pattern = r'\"[^\"]+\"|\\'[^\\']+\\''\n",
    "    return bool(re.search(pattern, title))\n",
    "\n",
    "# Función para detectar palabras clave contextuales\n",
    "def has_contextual_quote(title):\n",
    "    keywords = [\"dijo\", \"afirmó\", \"expresó\", \"mencionó\", \"declaró\", \"aseguró\", \"comentó\", \"indicó\"]\n",
    "    return any(keyword in title.lower() for keyword in keywords)\n",
    "\n",
    "# Función para validar con zero-shot classification\n",
    "def validate_with_zero_shot(title):\n",
    "    candidate_labels = [\"cita\", \"sin cita\"]\n",
    "    result = zero_shot_classifier(title, candidate_labels)\n",
    "    # Considerar \"cita\" si es la categoría más probable\n",
    "    return result[\"labels\"][0] == \"cita\"\n",
    "\n",
    "# Función combinada para detectar citas\n",
    "def detect_quote(title, use_zero_shot=False):\n",
    "    if has_explicit_quote(title):\n",
    "        return 1  # Sí, hay cita explícita\n",
    "    elif has_contextual_quote(title):\n",
    "        return 1  # Sí, hay cita implícita\n",
    "    elif use_zero_shot and validate_with_zero_shot(title):\n",
    "        return 1  # Sí, cita validada por Zero-Shot\n",
    "    return 0  # No, no hay cita\n",
    "\n",
    "# Ejemplo de títulos\n",
    "titles = [\n",
    "    \"Pedro Sánchez dijo: 'La inteligencia artificial cambiará el futuro'\",\n",
    "    \"La inteligencia artificial es el futuro de la tecnología\",\n",
    "    \"El presidente afirmó que se realizará la inversión en robótica\",\n",
    "    \"La tecnología avanza sin precedentes\"\n",
    "]\n",
    "\n",
    "# Clasificar títulos\n",
    "for title in titles:\n",
    "    result = detect_quote(title, use_zero_shot=True)  # Cambiar a False si no quieres usar Zero-Shot\n",
    "    print(f\"Título: {title}\\nCita en el titular: {result}\\n\")\n"
   ]
  },
  {
   "cell_type": "markdown",
   "metadata": {},
   "source": [
    "## 9. Género personas que aparecen en la información"
   ]
  },
  {
   "cell_type": "code",
   "execution_count": 59,
   "metadata": {},
   "outputs": [
    {
     "name": "stdout",
     "output_type": "stream",
     "text": [
      "2025-01-07 16:37:03,830 SequenceTagger predicts: Dictionary with 20 tags: <unk>, O, B-PER, E-PER, S-LOC, B-MISC, I-MISC, E-MISC, S-PER, B-ORG, E-ORG, S-ORG, I-ORG, B-LOC, E-LOC, S-MISC, I-PER, I-LOC, <START>, <STOP>\n",
      "Nombres detectados: ['Pedro Sánchez', 'María Fernández', 'Miguel López', 'Ana García']\n",
      "Nombre completo: Pedro Sánchez, Género: male\n",
      "Nombre completo: María Fernández, Género: female\n",
      "Nombre completo: Miguel López, Género: male\n",
      "Nombre completo: Ana García, Género: female\n",
      "Género predominante en la información: 2\n"
     ]
    }
   ],
   "source": [
    "from flair.models import SequenceTagger\n",
    "from flair.data import Sentence\n",
    "import requests\n",
    "\n",
    "# Configurar el modelo de NER (Reconocimiento de Entidades Nombradas)\n",
    "tagger = SequenceTagger.load(\"ner-multi\")\n",
    "\n",
    "# Texto de la noticia completa (puedes reemplazar con article.text)\n",
    "text = \"\"\"\n",
    "El presidente Pedro Sánchez y la ministra María Fernández anunciaron un nuevo plan de inversión en inteligencia artificial. \n",
    "El profesor Miguel López también participó en la discusión, mientras que Ana García comentó sobre los beneficios educativos del programa.\n",
    "\"\"\"\n",
    "\n",
    "# Procesar el texto con Flair\n",
    "sentence = Sentence(text)\n",
    "tagger.predict(sentence)\n",
    "\n",
    "# Extraer entidades PERSON\n",
    "names = [entity.text for entity in sentence.get_spans('ner') if entity.tag == \"PER\"]\n",
    "print(\"Nombres detectados:\", names)\n",
    "\n",
    "# Contar géneros\n",
    "genders = {\"male\": 0, \"female\": 0}\n",
    "\n",
    "# Procesar los nombres detectados\n",
    "for full_name in names:\n",
    "    first_name = get_first_name(full_name)  # Extraer el primer nombre\n",
    "    gender = get_gender_with_genderize(first_name)  # Determinar género\n",
    "    print(f\"Nombre completo: {full_name}, Género: {gender}\")\n",
    "    if gender == \"male\":\n",
    "        genders[\"male\"] += 1\n",
    "    elif gender == \"female\":\n",
    "        genders[\"female\"] += 1\n",
    "\n",
    "# Clasificar el género predominante\n",
    "if genders[\"male\"] > 0 and genders[\"female\"] == 0:\n",
    "    category = 0  # Masculino\n",
    "elif genders[\"female\"] > 0 and genders[\"male\"] == 0:\n",
    "    category = 1  # Femenino\n",
    "elif genders[\"male\"] > 0 and genders[\"female\"] > 0:\n",
    "    category = 2  # Mixto\n",
    "else:\n",
    "    category = 3  # Neutro (no se detectaron personas)\n",
    "\n",
    "print(f\"Género predominante en la información: {category}\")\n"
   ]
  },
  {
   "cell_type": "code",
   "execution_count": 60,
   "metadata": {},
   "outputs": [
    {
     "name": "stderr",
     "output_type": "stream",
     "text": [
      "Device set to use mps:0\n"
     ]
    },
    {
     "name": "stdout",
     "output_type": "stream",
     "text": [
      "Clasificación Zero-Shot: mixto\n"
     ]
    }
   ],
   "source": [
    "from transformers import pipeline\n",
    "\n",
    "# Configurar modelo Zero-Shot\n",
    "zero_shot_classifier = pipeline(\"zero-shot-classification\", model=\"facebook/bart-large-mnli\")\n",
    "\n",
    "# Etiquetas candidatas\n",
    "candidate_labels = [\"solo hombres\", \"solo mujeres\", \"mixto\", \"neutro\"]\n",
    "\n",
    "# Clasificación Zero-Shot\n",
    "result = zero_shot_classifier(text, candidate_labels)\n",
    "print(\"Clasificación Zero-Shot:\", result[\"labels\"][0])  # Categoría más probable\n"
   ]
  },
  {
   "cell_type": "markdown",
   "metadata": {},
   "source": [
    "## 10. Tema"
   ]
  },
  {
   "cell_type": "code",
   "execution_count": 39,
   "metadata": {},
   "outputs": [
    {
     "name": "stderr",
     "output_type": "stream",
     "text": [
      "Device set to use mps:0\n"
     ]
    }
   ],
   "source": [
    "import tqdm as notebook_tqdm\n",
    "from transformers import pipeline\n",
    "\n",
    "classifier = pipeline(\"zero-shot-classification\", model=\"facebook/bart-large-mnli\")\n",
    "\n",
    "news_text = article.text\n",
    "candidate_labels = [\n",
    "    \"Economía\", \"Expertos/as en IA\", \"Política\", \"Empresa\", \"Robótica\",\n",
    "    \"Aplicaciones / software\", \"Comunicación\", \"Investigación\", \"Algoritmo\",\n",
    "    \"Sesgos de género\", \"Sesgos de género y raza\", \"Premio\", \"Educación/cultura\", \"Otros\"\n",
    "]\n",
    "\n",
    "result = classifier(news_text, candidate_labels)"
   ]
  },
  {
   "cell_type": "code",
   "execution_count": 40,
   "metadata": {},
   "outputs": [
    {
     "name": "stdout",
     "output_type": "stream",
     "text": [
      "Categoría más probable: Sesgos de género\n",
      "Probabilidad: 0.10406854748725891\n",
      "['Sesgos de género', 'Comunicación', 'Investigación', 'Sesgos de género y raza', 'Expertos/as en IA', 'Empresa', 'Robótica', 'Premio', 'Aplicaciones / software', 'Educación/cultura', 'Política', 'Algoritmo', 'Otros', 'Economía']\n",
      "[0.10406854748725891, 0.10189514607191086, 0.09641868621110916, 0.09276736527681351, 0.084066241979599, 0.0688750371336937, 0.06667280197143555, 0.06651706248521805, 0.06615614145994186, 0.05822814255952835, 0.05485827103257179, 0.05377970263361931, 0.049467094242572784, 0.036229804158210754]\n"
     ]
    }
   ],
   "source": [
    "print(\"Categoría más probable:\", result[\"labels\"][0])\n",
    "print(\"Probabilidad:\", result[\"scores\"][0])\n",
    "print(result[\"labels\"])\n",
    "print(result[\"scores\"])"
   ]
  },
  {
   "cell_type": "markdown",
   "metadata": {},
   "source": [
    "## 11. IA tema central"
   ]
  },
  {
   "cell_type": "code",
   "execution_count": 41,
   "metadata": {},
   "outputs": [
    {
     "name": "stderr",
     "output_type": "stream",
     "text": [
      "Device set to use mps:0\n"
     ]
    }
   ],
   "source": [
    "from transformers import pipeline\n",
    "\n",
    "classifier = pipeline(\"zero-shot-classification\", model=\"facebook/bart-large-mnli\")\n",
    "\n",
    "news_text = article.text\n",
    "candidate_labels = [\n",
    "    \"IA es el tema principal del texto\", \"IA no es el tema principal del texto\"\n",
    "]\n",
    "\n",
    "result = classifier(news_text, candidate_labels)"
   ]
  },
  {
   "cell_type": "code",
   "execution_count": 42,
   "metadata": {},
   "outputs": [
    {
     "name": "stdout",
     "output_type": "stream",
     "text": [
      "IA tema central: 1\n"
     ]
    }
   ],
   "source": [
    "# Determinar si el tema central es IA\n",
    "is_ia = 1 if result[\"labels\"][0] == \"IA es el tema principal del texto\" else 0\n",
    "print(\"IA tema central:\", is_ia)"
   ]
  },
  {
   "cell_type": "markdown",
   "metadata": {},
   "source": [
    "## 12. Número de caracteres sin espacios: escribir nº"
   ]
  },
  {
   "cell_type": "code",
   "execution_count": 61,
   "metadata": {},
   "outputs": [
    {
     "name": "stdout",
     "output_type": "stream",
     "text": [
      "Número de caracteres sin espacios: 2367\n"
     ]
    }
   ],
   "source": [
    "# Contar caracteres sin espacios\n",
    "num_characters_no_spaces = len(article.text.replace(\" \", \"\"))\n",
    "\n",
    "print(f\"Número de caracteres sin espacios: {num_characters_no_spaces}\")"
   ]
  },
  {
   "cell_type": "markdown",
   "metadata": {},
   "source": [
    "## 13. Nombre periodista = escribe su nombre o el de la agencia"
   ]
  },
  {
   "cell_type": "code",
   "execution_count": 64,
   "metadata": {},
   "outputs": [
    {
     "name": "stdout",
     "output_type": "stream",
     "text": [
      "Periodistas: ['ElDiario.es', 'Antón Losada', 'Raúl Sánchez', 'Victòria Oliveres', 'Pau Rodríguez', 'Oliver Holmes', 'Leyland Cecco', 'Javier Aroca', 'Bernardo Vergara', 'Amado Herrero']\n"
     ]
    }
   ],
   "source": [
    "print(\"Periodistas:\", article.authors)"
   ]
  },
  {
   "cell_type": "markdown",
   "metadata": {},
   "source": [
    "## 14. Género periodista"
   ]
  },
  {
   "cell_type": "code",
   "execution_count": 63,
   "metadata": {},
   "outputs": [
    {
     "name": "stderr",
     "output_type": "stream",
     "text": [
      "Device set to use mps:0\n"
     ]
    },
    {
     "name": "stdout",
     "output_type": "stream",
     "text": [
      "Categoría de género del periodista: 2\n"
     ]
    }
   ],
   "source": [
    "from transformers import pipeline\n",
    "\n",
    "# Configurar el modelo zero-shot classification\n",
    "classifier = pipeline(\"zero-shot-classification\", model=\"facebook/bart-large-mnli\")\n",
    "\n",
    "# Función para clasificar autores usando Zero-Shot\n",
    "def classify_authors_zero_shot(authors):\n",
    "    # Categoría predeterminada si no hay autores\n",
    "    if not authors:\n",
    "        return 3  # Ns/Nc\n",
    "    \n",
    "    # Texto que describe los autores\n",
    "    authors_text = \" y \".join(authors)\n",
    "\n",
    "    # Etiquetas candidatas\n",
    "    candidate_labels = [\n",
    "        \"solo hombres\",\n",
    "        \"solo mujeres\",\n",
    "        \"hombres y mujeres\",\n",
    "        \"sin especificar\",\n",
    "        \"agencia\",\n",
    "        \"redacción\"\n",
    "    ]\n",
    "\n",
    "    # Clasificar el texto usando zero-shot\n",
    "    result = classifier(authors_text, candidate_labels)\n",
    "    top_label = result[\"labels\"][0]\n",
    "\n",
    "    # Mapear etiquetas a categorías\n",
    "    label_to_category = {\n",
    "        \"solo hombres\": 0,\n",
    "        \"solo mujeres\": 1,\n",
    "        \"hombres y mujeres\": 2,\n",
    "        \"sin especificar\": 3,\n",
    "        \"agencia\": 4,\n",
    "        \"redacción\": 5\n",
    "    }\n",
    "\n",
    "    return label_to_category.get(top_label, 3)  # Retornar categoría o 3 (Ns/Nc) como predeterminada\n",
    "\n",
    "# Ejemplo de autores extraídos de article.authors\n",
    "article_authors = [\"Pedro Sánchez\", \"María Fernández\"]  # Cambiar según los datos\n",
    "\n",
    "# Clasificar el género de los autores\n",
    "author_category = classify_authors_zero_shot(article_authors)\n",
    "print(f\"Categoría de género del periodista: {author_category}\")\n"
   ]
  },
  {
   "cell_type": "markdown",
   "metadata": {},
   "source": [
    "## 20. Utiliza Fuentes"
   ]
  },
  {
   "cell_type": "code",
   "execution_count": 71,
   "metadata": {},
   "outputs": [
    {
     "name": "stderr",
     "output_type": "stream",
     "text": [
      "Some weights of the model checkpoint at mrm8488/bert-spanish-cased-finetuned-ner were not used when initializing BertForTokenClassification: ['bert.pooler.dense.bias', 'bert.pooler.dense.weight']\n",
      "- This IS expected if you are initializing BertForTokenClassification from the checkpoint of a model trained on another task or with another architecture (e.g. initializing a BertForSequenceClassification model from a BertForPreTraining model).\n",
      "- This IS NOT expected if you are initializing BertForTokenClassification from the checkpoint of a model that you expect to be exactly identical (initializing a BertForSequenceClassification model from a BertForSequenceClassification model).\n",
      "Device set to use mps:0\n"
     ]
    }
   ],
   "source": [
    "from transformers import pipeline\n",
    "import re\n",
    "\n",
    "# Configurar el modelo de NER\n",
    "ner_pipeline = pipeline(\n",
    "    \"ner\",\n",
    "    model=\"mrm8488/bert-spanish-cased-finetuned-ner\",  # Modelo en español\n",
    "    tokenizer=\"mrm8488/bert-spanish-cased-finetuned-ner\"\n",
    ")\n",
    "\n",
    "# Función para detectar si el texto utiliza fuentes\n",
    "def uses_sources(text):\n",
    "    # 1. Detectar entidades nombradas con NER\n",
    "    results = ner_pipeline(text)\n",
    "    sources = [entity[\"word\"] for entity in results if entity[\"entity\"] in [\"B-ORG\", \"B-PER\", \"I-ORG\", \"I-PER\"]]\n",
    "\n",
    "    # 2. Buscar patrones comunes de fuentes en el texto\n",
    "    patterns = r\"(según|reportado por|publicado por|afirmó|declaró|informó|escrito por|indicado por)\"\n",
    "    has_patterns = bool(re.search(patterns, text, re.IGNORECASE))\n",
    "\n",
    "    # Clasificar\n",
    "    if sources or has_patterns:\n",
    "        return 1  # Sí, utiliza fuentes\n",
    "    return 0  # No, no utiliza fuentes\n",
    "\n",
    "# Función para contar declaraciones (citas directas e indirectas)\n",
    "def count_statements(text):\n",
    "    # 1. Buscar citas directas\n",
    "    quotes_pattern = r'([\"“][^\"“”]+[\"”])'\n",
    "    direct_quotes = re.findall(quotes_pattern, text)\n",
    "\n",
    "    # 2. Buscar citas indirectas usando palabras clave\n",
    "    indirect_pattern = r'\\b(dijo|afirmó|comentó|indicó|expresó|declaró|aseguró|mencionó|anunció)\\b'\n",
    "    indirect_quotes = re.findall(indirect_pattern, text, re.IGNORECASE)\n",
    "\n",
    "    # Total declaraciones\n",
    "    total_statements = len(direct_quotes) + len(indirect_quotes)\n",
    "\n",
    "    return total_statements\n",
    "\n",
    "# Texto de ejemplo\n",
    "text = \"\"\"\n",
    "Según El País, la nueva variante del virus es menos agresiva. Además, el Ministerio de Salud afirmó que las medidas de prevención se mantendrán.\n",
    "Pedro Sánchez dijo: \"Estamos trabajando para asegurar la seguridad de todos\".\n",
    "\"\"\"\n",
    "\n"
   ]
  },
  {
   "cell_type": "code",
   "execution_count": 72,
   "metadata": {},
   "outputs": [
    {
     "name": "stderr",
     "output_type": "stream",
     "text": [
      "Asking to truncate to max_length but no maximum length is provided and the model has no predefined maximum length. Default to no truncation.\n"
     ]
    },
    {
     "name": "stdout",
     "output_type": "stream",
     "text": [
      "¿Utiliza fuentes?: 1\n"
     ]
    }
   ],
   "source": [
    "# Detectar si utiliza fuentes\n",
    "uses_sources_result = uses_sources(text)\n",
    "print(f\"¿Utiliza fuentes?: {uses_sources_result}\")"
   ]
  },
  {
   "cell_type": "markdown",
   "metadata": {},
   "source": [
    "## 21. Escribe el número de declaraciones"
   ]
  },
  {
   "cell_type": "code",
   "execution_count": 73,
   "metadata": {},
   "outputs": [
    {
     "name": "stdout",
     "output_type": "stream",
     "text": [
      "Número de declaraciones: 3\n"
     ]
    }
   ],
   "source": [
    "# Contar declaraciones\n",
    "num_statements = count_statements(text)\n",
    "print(f\"Número de declaraciones: {num_statements}\")"
   ]
  },
  {
   "cell_type": "markdown",
   "metadata": {},
   "source": [
    "## 22. Nombre"
   ]
  },
  {
   "cell_type": "code",
   "execution_count": null,
   "metadata": {},
   "outputs": [],
   "source": []
  },
  {
   "cell_type": "markdown",
   "metadata": {},
   "source": [
    "## 23. Género persona declara"
   ]
  },
  {
   "cell_type": "code",
   "execution_count": null,
   "metadata": {},
   "outputs": [],
   "source": []
  },
  {
   "cell_type": "markdown",
   "metadata": {},
   "source": [
    "## 24. Tipo de fuente"
   ]
  },
  {
   "cell_type": "code",
   "execution_count": null,
   "metadata": {},
   "outputs": [],
   "source": []
  },
  {
   "cell_type": "markdown",
   "metadata": {},
   "source": [
    "## 25. Biografía"
   ]
  },
  {
   "cell_type": "code",
   "execution_count": null,
   "metadata": {},
   "outputs": [],
   "source": []
  }
 ],
 "metadata": {
  "kernelspec": {
   "display_name": ".venv",
   "language": "python",
   "name": "python3"
  },
  "language_info": {
   "codemirror_mode": {
    "name": "ipython",
    "version": 3
   },
   "file_extension": ".py",
   "mimetype": "text/x-python",
   "name": "python",
   "nbconvert_exporter": "python",
   "pygments_lexer": "ipython3",
   "version": "3.9.6"
  }
 },
 "nbformat": 4,
 "nbformat_minor": 2
}
