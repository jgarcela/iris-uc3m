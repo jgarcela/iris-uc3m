{
 "cells": [
  {
   "cell_type": "markdown",
   "metadata": {},
   "source": [
    "## Extraer Artículo"
   ]
  },
  {
   "cell_type": "code",
   "execution_count": 1,
   "metadata": {},
   "outputs": [],
   "source": [
    "# import newspaper\n",
    "\n",
    "# url = 'https://www.eldiario.es/tecnologia/beneficios-samsung-hundieron-72-2023-caida-demanda-chips_1_10881590.html'\n",
    "\n",
    "# article = newspaper.article(url)\n",
    "# article.download()\n",
    "# article.parse()\n",
    "# print(article.text)"
   ]
  },
  {
   "cell_type": "markdown",
   "metadata": {},
   "source": [
    "#### More data"
   ]
  },
  {
   "cell_type": "code",
   "execution_count": 2,
   "metadata": {},
   "outputs": [],
   "source": [
    "# article.nlp()\n",
    "# word_count = len(article.text.split())\n",
    "\n",
    "\n",
    "\n",
    "\n",
    "# print(\"Contenido:\", article.text)\n",
    "# print(\"Summary:\", article.summary) # uses nlp\n",
    "# print(\"Palabras clave:\", article.keywords) # uses nlp\n",
    "# print(\"Autores:\", article.authors)\n",
    "# print(\"Cantidad de palabras:\", word_count)\n",
    "# print(\"URL de la imagen:\", article.top_image)"
   ]
  },
  {
   "cell_type": "markdown",
   "metadata": {},
   "source": [
    "## 0. Cargar datos"
   ]
  },
  {
   "cell_type": "code",
   "execution_count": 3,
   "metadata": {},
   "outputs": [
    {
     "data": {
      "text/html": [
       "<div>\n",
       "<style scoped>\n",
       "    .dataframe tbody tr th:only-of-type {\n",
       "        vertical-align: middle;\n",
       "    }\n",
       "\n",
       "    .dataframe tbody tr th {\n",
       "        vertical-align: top;\n",
       "    }\n",
       "\n",
       "    .dataframe thead th {\n",
       "        text-align: right;\n",
       "    }\n",
       "</style>\n",
       "<table border=\"1\" class=\"dataframe\">\n",
       "  <thead>\n",
       "    <tr style=\"text-align: right;\">\n",
       "      <th></th>\n",
       "      <th>Unnamed: 0</th>\n",
       "      <th>N</th>\n",
       "      <th>n_periodico</th>\n",
       "      <th>enlace</th>\n",
       "      <th>Medio</th>\n",
       "      <th>año</th>\n",
       "      <th>Fecha</th>\n",
       "      <th>Nombreperiodista</th>\n",
       "      <th>Nombreperiodista_A</th>\n",
       "      <th>Género_periodista</th>\n",
       "      <th>...</th>\n",
       "      <th>@25perspectiva</th>\n",
       "      <th>@25piedefoto</th>\n",
       "      <th>@26ge3ero1oto</th>\n",
       "      <th>@26perspectiva</th>\n",
       "      <th>@26piedefoto</th>\n",
       "      <th>@27ge3ero1oto</th>\n",
       "      <th>@27perspectiva</th>\n",
       "      <th>@27piedefoto</th>\n",
       "      <th>contenido</th>\n",
       "      <th>contenido_clean</th>\n",
       "    </tr>\n",
       "  </thead>\n",
       "  <tbody>\n",
       "    <tr>\n",
       "      <th>0</th>\n",
       "      <td>0</td>\n",
       "      <td>12</td>\n",
       "      <td>12</td>\n",
       "      <td>https://www.infolibre.es/videolibre/como-lo-ve...</td>\n",
       "      <td>1</td>\n",
       "      <td>2021</td>\n",
       "      <td>10/10/2021</td>\n",
       "      <td>Antonio Contreras</td>\n",
       "      <td>ANTONIO CONTRERAS</td>\n",
       "      <td>0</td>\n",
       "      <td>...</td>\n",
       "      <td></td>\n",
       "      <td></td>\n",
       "      <td></td>\n",
       "      <td></td>\n",
       "      <td></td>\n",
       "      <td></td>\n",
       "      <td></td>\n",
       "      <td></td>\n",
       "      <td>Antonio Lucas (Madrid, 1975) acaba de publicar...</td>\n",
       "      <td>antonio luca   madrid   1975   acabar publicar...</td>\n",
       "    </tr>\n",
       "    <tr>\n",
       "      <th>1</th>\n",
       "      <td>1</td>\n",
       "      <td>438</td>\n",
       "      <td>276</td>\n",
       "      <td>https://www.lavanguardia.com/participacion/car...</td>\n",
       "      <td>2</td>\n",
       "      <td>2021</td>\n",
       "      <td>28/1/2021</td>\n",
       "      <td>ANDREU YAKUBUV-TREMBACH</td>\n",
       "      <td>ANDREU YAKUBUV-TREMBACH</td>\n",
       "      <td>0</td>\n",
       "      <td>...</td>\n",
       "      <td></td>\n",
       "      <td></td>\n",
       "      <td></td>\n",
       "      <td></td>\n",
       "      <td></td>\n",
       "      <td></td>\n",
       "      <td></td>\n",
       "      <td></td>\n",
       "      <td>Distinguir entre las esferas íntima y privada ...</td>\n",
       "      <td>distinguir esfera íntimo privado vida persona ...</td>\n",
       "    </tr>\n",
       "    <tr>\n",
       "      <th>2</th>\n",
       "      <td>2</td>\n",
       "      <td>1411</td>\n",
       "      <td>414</td>\n",
       "      <td>https://www.elmundo.es/economia/2020/04/08/5e8...</td>\n",
       "      <td>3</td>\n",
       "      <td>2020</td>\n",
       "      <td>8/4/2020</td>\n",
       "      <td>EDUARDO FERNÁNDEZ</td>\n",
       "      <td>EDUARDO FERNÁNDEZ</td>\n",
       "      <td>0</td>\n",
       "      <td>...</td>\n",
       "      <td></td>\n",
       "      <td></td>\n",
       "      <td></td>\n",
       "      <td></td>\n",
       "      <td></td>\n",
       "      <td></td>\n",
       "      <td></td>\n",
       "      <td></td>\n",
       "      <td>Directo. Última hora sobre el coronavirus\\n\\nL...</td>\n",
       "      <td>directo   último hora coronavirus lanzamiento ...</td>\n",
       "    </tr>\n",
       "    <tr>\n",
       "      <th>3</th>\n",
       "      <td>3</td>\n",
       "      <td>1418</td>\n",
       "      <td>421</td>\n",
       "      <td>https://www.elmundo.es/vida-sana/familia-y-co/...</td>\n",
       "      <td>3</td>\n",
       "      <td>2020</td>\n",
       "      <td>20/3/2020</td>\n",
       "      <td>MAR MUÑIZ</td>\n",
       "      <td>MAR MUÑIZ</td>\n",
       "      <td>1</td>\n",
       "      <td>...</td>\n",
       "      <td></td>\n",
       "      <td></td>\n",
       "      <td></td>\n",
       "      <td></td>\n",
       "      <td></td>\n",
       "      <td></td>\n",
       "      <td></td>\n",
       "      <td></td>\n",
       "      <td>Coronavirus: ¿nos convalidarán Teleco por tele...</td>\n",
       "      <td>coronavirus    convalidacer teleco teletrabaja...</td>\n",
       "    </tr>\n",
       "    <tr>\n",
       "      <th>4</th>\n",
       "      <td>4</td>\n",
       "      <td>1836</td>\n",
       "      <td>839</td>\n",
       "      <td>https://www.elmundo.es/papel/historias/2019/03...</td>\n",
       "      <td>3</td>\n",
       "      <td>2019</td>\n",
       "      <td>3/3/2019</td>\n",
       "      <td>FERMÍN ELIZARI</td>\n",
       "      <td>FERMÍN ELIZARI</td>\n",
       "      <td>0</td>\n",
       "      <td>...</td>\n",
       "      <td></td>\n",
       "      <td></td>\n",
       "      <td></td>\n",
       "      <td></td>\n",
       "      <td></td>\n",
       "      <td></td>\n",
       "      <td></td>\n",
       "      <td></td>\n",
       "      <td>15.000 personas de todo el mundo revisan las p...</td>\n",
       "      <td>15 000 persona mundo revisar publicación recib...</td>\n",
       "    </tr>\n",
       "    <tr>\n",
       "      <th>...</th>\n",
       "      <td>...</td>\n",
       "      <td>...</td>\n",
       "      <td>...</td>\n",
       "      <td>...</td>\n",
       "      <td>...</td>\n",
       "      <td>...</td>\n",
       "      <td>...</td>\n",
       "      <td>...</td>\n",
       "      <td>...</td>\n",
       "      <td>...</td>\n",
       "      <td>...</td>\n",
       "      <td>...</td>\n",
       "      <td>...</td>\n",
       "      <td>...</td>\n",
       "      <td>...</td>\n",
       "      <td>...</td>\n",
       "      <td>...</td>\n",
       "      <td>...</td>\n",
       "      <td>...</td>\n",
       "      <td>...</td>\n",
       "      <td>...</td>\n",
       "    </tr>\n",
       "    <tr>\n",
       "      <th>4122</th>\n",
       "      <td>4130</td>\n",
       "      <td>4130</td>\n",
       "      <td>1325</td>\n",
       "      <td>https://elpais.com/tecnologia/2017/01/17/actua...</td>\n",
       "      <td>4</td>\n",
       "      <td>2017</td>\n",
       "      <td>18/1/2017</td>\n",
       "      <td>MARYA G. NIETO</td>\n",
       "      <td>MARYA G. NIETO</td>\n",
       "      <td>1</td>\n",
       "      <td>...</td>\n",
       "      <td></td>\n",
       "      <td></td>\n",
       "      <td></td>\n",
       "      <td></td>\n",
       "      <td></td>\n",
       "      <td></td>\n",
       "      <td></td>\n",
       "      <td></td>\n",
       "      <td>Dos algoritmos clave en el desarrollo de los a...</td>\n",
       "      <td>dos algoritmo clave desarrollo actual sistema ...</td>\n",
       "    </tr>\n",
       "    <tr>\n",
       "      <th>4123</th>\n",
       "      <td>4131</td>\n",
       "      <td>4131</td>\n",
       "      <td>1326</td>\n",
       "      <td>https://elpais.com/elpais/2017/01/05/eps/14835...</td>\n",
       "      <td>4</td>\n",
       "      <td>2017</td>\n",
       "      <td>5/1/2017</td>\n",
       "      <td>JAVIER MARTÍN DEL BARRIO</td>\n",
       "      <td>JAVIER MARTÍN DEL BARRIO</td>\n",
       "      <td>0</td>\n",
       "      <td>...</td>\n",
       "      <td></td>\n",
       "      <td></td>\n",
       "      <td></td>\n",
       "      <td></td>\n",
       "      <td></td>\n",
       "      <td></td>\n",
       "      <td></td>\n",
       "      <td></td>\n",
       "      <td>RANA EL KALIOUBY no es una estrella de la canc...</td>\n",
       "      <td>ranar kaliouby estrella canción   sino tecnolo...</td>\n",
       "    </tr>\n",
       "    <tr>\n",
       "      <th>4124</th>\n",
       "      <td>4132</td>\n",
       "      <td>4132</td>\n",
       "      <td>1327</td>\n",
       "      <td>https://elpais.com/elpais/2017/01/18/eps/14846...</td>\n",
       "      <td>4</td>\n",
       "      <td>2017</td>\n",
       "      <td>18/1/2017</td>\n",
       "      <td>GUILLERMO ABRIL</td>\n",
       "      <td>GUILLERMO ABRIL</td>\n",
       "      <td>0</td>\n",
       "      <td>...</td>\n",
       "      <td></td>\n",
       "      <td></td>\n",
       "      <td></td>\n",
       "      <td></td>\n",
       "      <td></td>\n",
       "      <td></td>\n",
       "      <td></td>\n",
       "      <td></td>\n",
       "      <td>CUANDO ATERRIZÓ en España, en septiembre de 20...</td>\n",
       "      <td>aterrizar españa   septiembre 2013   embajador...</td>\n",
       "    </tr>\n",
       "    <tr>\n",
       "      <th>4125</th>\n",
       "      <td>4133</td>\n",
       "      <td>4134</td>\n",
       "      <td>1329</td>\n",
       "      <td>https://elpais.com/elpais/2017/01/15/opinion/1...</td>\n",
       "      <td>4</td>\n",
       "      <td>2017</td>\n",
       "      <td>16/1/2017</td>\n",
       "      <td>JOAQUÍN PRIETO</td>\n",
       "      <td>JOAQUÍN PRIETO</td>\n",
       "      <td>0</td>\n",
       "      <td>...</td>\n",
       "      <td></td>\n",
       "      <td></td>\n",
       "      <td></td>\n",
       "      <td></td>\n",
       "      <td></td>\n",
       "      <td></td>\n",
       "      <td></td>\n",
       "      <td></td>\n",
       "      <td>Las últimas campañas electorales celebradas en...</td>\n",
       "      <td>último campaña electoral celebrado españa lanz...</td>\n",
       "    </tr>\n",
       "    <tr>\n",
       "      <th>4126</th>\n",
       "      <td>4134</td>\n",
       "      <td>4135</td>\n",
       "      <td>1330</td>\n",
       "      <td>https://elpais.com/elpais/2017/01/20/opinion/1...</td>\n",
       "      <td>4</td>\n",
       "      <td>2017</td>\n",
       "      <td>21/1/2017</td>\n",
       "      <td>ROSARIO G. GÓMEZ</td>\n",
       "      <td>ROSARIO G. GÓMEZ</td>\n",
       "      <td>1</td>\n",
       "      <td>...</td>\n",
       "      <td></td>\n",
       "      <td></td>\n",
       "      <td></td>\n",
       "      <td></td>\n",
       "      <td></td>\n",
       "      <td></td>\n",
       "      <td></td>\n",
       "      <td></td>\n",
       "      <td>Desde el monstruo de Frankenstein, descrito po...</td>\n",
       "      <td>monstruo frankenstein   descrito mary shelley ...</td>\n",
       "    </tr>\n",
       "  </tbody>\n",
       "</table>\n",
       "<p>4127 rows × 156 columns</p>\n",
       "</div>"
      ],
      "text/plain": [
       "      Unnamed: 0     N  n_periodico  \\\n",
       "0              0    12           12   \n",
       "1              1   438          276   \n",
       "2              2  1411          414   \n",
       "3              3  1418          421   \n",
       "4              4  1836          839   \n",
       "...          ...   ...          ...   \n",
       "4122        4130  4130         1325   \n",
       "4123        4131  4131         1326   \n",
       "4124        4132  4132         1327   \n",
       "4125        4133  4134         1329   \n",
       "4126        4134  4135         1330   \n",
       "\n",
       "                                                 enlace  Medio   año  \\\n",
       "0     https://www.infolibre.es/videolibre/como-lo-ve...      1  2021   \n",
       "1     https://www.lavanguardia.com/participacion/car...      2  2021   \n",
       "2     https://www.elmundo.es/economia/2020/04/08/5e8...      3  2020   \n",
       "3     https://www.elmundo.es/vida-sana/familia-y-co/...      3  2020   \n",
       "4     https://www.elmundo.es/papel/historias/2019/03...      3  2019   \n",
       "...                                                 ...    ...   ...   \n",
       "4122  https://elpais.com/tecnologia/2017/01/17/actua...      4  2017   \n",
       "4123  https://elpais.com/elpais/2017/01/05/eps/14835...      4  2017   \n",
       "4124  https://elpais.com/elpais/2017/01/18/eps/14846...      4  2017   \n",
       "4125  https://elpais.com/elpais/2017/01/15/opinion/1...      4  2017   \n",
       "4126  https://elpais.com/elpais/2017/01/20/opinion/1...      4  2017   \n",
       "\n",
       "           Fecha          Nombreperiodista        Nombreperiodista_A  \\\n",
       "0     10/10/2021         Antonio Contreras         ANTONIO CONTRERAS   \n",
       "1      28/1/2021   ANDREU YAKUBUV-TREMBACH   ANDREU YAKUBUV-TREMBACH   \n",
       "2       8/4/2020         EDUARDO FERNÁNDEZ         EDUARDO FERNÁNDEZ   \n",
       "3      20/3/2020                 MAR MUÑIZ                 MAR MUÑIZ   \n",
       "4       3/3/2019            FERMÍN ELIZARI            FERMÍN ELIZARI   \n",
       "...          ...                       ...                       ...   \n",
       "4122   18/1/2017            MARYA G. NIETO            MARYA G. NIETO   \n",
       "4123    5/1/2017  JAVIER MARTÍN DEL BARRIO  JAVIER MARTÍN DEL BARRIO   \n",
       "4124   18/1/2017           GUILLERMO ABRIL           GUILLERMO ABRIL   \n",
       "4125   16/1/2017            JOAQUÍN PRIETO            JOAQUÍN PRIETO   \n",
       "4126   21/1/2017          ROSARIO G. GÓMEZ          ROSARIO G. GÓMEZ   \n",
       "\n",
       "      Género_periodista  ... @25perspectiva  @25piedefoto  @26ge3ero1oto  \\\n",
       "0                     0  ...                                               \n",
       "1                     0  ...                                               \n",
       "2                     0  ...                                               \n",
       "3                     1  ...                                               \n",
       "4                     0  ...                                               \n",
       "...                 ...  ...            ...           ...            ...   \n",
       "4122                  1  ...                                               \n",
       "4123                  0  ...                                               \n",
       "4124                  0  ...                                               \n",
       "4125                  0  ...                                               \n",
       "4126                  1  ...                                               \n",
       "\n",
       "      @26perspectiva  @26piedefoto  @27ge3ero1oto  @27perspectiva  \\\n",
       "0                                                                   \n",
       "1                                                                   \n",
       "2                                                                   \n",
       "3                                                                   \n",
       "4                                                                   \n",
       "...              ...           ...            ...             ...   \n",
       "4122                                                                \n",
       "4123                                                                \n",
       "4124                                                                \n",
       "4125                                                                \n",
       "4126                                                                \n",
       "\n",
       "      @27piedefoto                                          contenido  \\\n",
       "0                   Antonio Lucas (Madrid, 1975) acaba de publicar...   \n",
       "1                   Distinguir entre las esferas íntima y privada ...   \n",
       "2                   Directo. Última hora sobre el coronavirus\\n\\nL...   \n",
       "3                   Coronavirus: ¿nos convalidarán Teleco por tele...   \n",
       "4                   15.000 personas de todo el mundo revisan las p...   \n",
       "...            ...                                                ...   \n",
       "4122                Dos algoritmos clave en el desarrollo de los a...   \n",
       "4123                RANA EL KALIOUBY no es una estrella de la canc...   \n",
       "4124                CUANDO ATERRIZÓ en España, en septiembre de 20...   \n",
       "4125                Las últimas campañas electorales celebradas en...   \n",
       "4126                Desde el monstruo de Frankenstein, descrito po...   \n",
       "\n",
       "                                        contenido_clean  \n",
       "0     antonio luca   madrid   1975   acabar publicar...  \n",
       "1     distinguir esfera íntimo privado vida persona ...  \n",
       "2     directo   último hora coronavirus lanzamiento ...  \n",
       "3     coronavirus    convalidacer teleco teletrabaja...  \n",
       "4     15 000 persona mundo revisar publicación recib...  \n",
       "...                                                 ...  \n",
       "4122  dos algoritmo clave desarrollo actual sistema ...  \n",
       "4123  ranar kaliouby estrella canción   sino tecnolo...  \n",
       "4124  aterrizar españa   septiembre 2013   embajador...  \n",
       "4125  último campaña electoral celebrado españa lanz...  \n",
       "4126  monstruo frankenstein   descrito mary shelley ...  \n",
       "\n",
       "[4127 rows x 156 columns]"
      ]
     },
     "execution_count": 3,
     "metadata": {},
     "output_type": "execute_result"
    }
   ],
   "source": [
    "import newspaper\n",
    "import pandas as pd\n",
    "from tqdm import tqdm\n",
    "\n",
    "data = pd.read_csv(\"data/contenido_clean_2023_04_05_matriz_not_julia.csv\")\n",
    "data"
   ]
  },
  {
   "cell_type": "code",
   "execution_count": 4,
   "metadata": {},
   "outputs": [
    {
     "data": {
      "text/plain": [
       "'Antonio Lucas (Madrid, 1975) acaba de publicar su primera novela, Buena mar (Alfaguara), después de haber recorrido un largo y brillante camino como poeta. Dedicado desde hace años al periodismo cultural en diario El Mundo, suele rehuir intervenir en el debate político. Para preparar su novela se embarcó junto a once marineros gallegos y africanos a surcar las aguas de Gran Sol: \"Yo encontré en esos hombres el quilate más puro del humano: la nobleza, la lealtad, la bondad, una bondad sin orillas. La lección que yo me llevo de Gran Sol, curiosamente, no es el mar. Son los hombres que surcan un mar, que saben que su vida es aquello que ese mismo mar no les ha querido arrancar\".\\n\\nImplicación en política\\n\\n\"Al trabajar en un periódico, aunque yo siempre he pertenecido a la parte de cultura, te impregnas del día a día, de ese pulso, de esa vibración de la política. Participé un par de años en alguna tertulia política en radio y me di cuenta de que no era mi territorio porque yo sé hablar bien de las cosas que me importan o de las cosas que me enfadan, pero me cuesta muchísimo ponerme a hablar de las cosas que otros propician o generan o hacen para que a nosotros nos gusten o nos enfaden, en este caso, los políticos. Yo tengo una clarísima identidad política, es decir, siempre he estado en el margen de la izquierda. Trabajo en un periódico de derechas. Mi relación con el periódico desde hace 25 años es extraordinaria, tengo bien acuñados los referentes de mi familia, tengo bien acuñadas las lecturas que me han importado, pero de ahí a entrar en la tangana de la discusión política diaria, paso\".\\n\\nDesafección política entre los jóvenes\\n\\n\"Hay que fijarse en lo ondulante que ha sido en estos cinco años la afección y desafección política por parte de la gente joven. Creo que uno de los momentos más importantes a nivel cívico de este país fue el 15M, donde, de repente, hubo una verdadera pulsión, o un apetito, por implicarse en la política, saber de política o estudiar política, o, por lo menos, discutir de política. Y, en cinco años, hemos hecho un camino terriblemente inquietante hacia atrás, porque ahora ya la política se ha convertido en un espacio de sospecha constante y permanente. Eso lo está aprovechando la extrema derecha de una manera asombrosa y muy eficaz por su parte. La desafección política, la indiferencia, siempre es un mal aliado social. Yo no digo que el activismo sea la alternativa, pero sí la implicación. Cuando veo que hay gente joven que se desconecta de las cuestiones naturales, que, además, les importan a ellos, me genera una cierta zozobra\".\\n\\nPolarización y vida cotidiana\\n\\n\"Escribo en un periódico con mucha libertad, pero no siempre en sintonía con la línea editorial. En los comentarios que se dejan abiertos para que los lectores puedan intervenir y dar sus impresiones, cosa que me parece bien, lo que yo leo ahí sobre las columnas que yo escribo, o las columnas de otros compañeros o compañeras y lo que les dicen, eso es uno de los síntomas realmente desagradables de la polarización. Y eso es un ejemplo pequeñito, porque yo sí noto la polarización también en la calle. Y, además, noto esa mecánica que tiene la polarización, tan untuosa, y es que termina impregnando todo, hasta la cosa más tonta, hasta elegir entre una cerveza rubia y una cerveza negra. Hasta gilipolleces absolutas en las que antes no nos habríamos detenido, ahora hay un gramaje de aspereza ¡Caray, que si noto la polarización! Lo noto en más cosas de las que yo pensaba que estaba\".\\n\\nInsulto como argumento\\n\\n\"Cuando escucho descalificaciones, pienso que es la peor parte del idioma. La peor parte del idioma es la que llega a convertirse en esa especie de compost, donde ya el argumento es el insulto y el ideario del otro se convierte, para ti, sencillamente en mofa, no lo discutes. Cuando uno tiene la poesía cerca como lector, como autor, muy probablemente tiene mejores argumentos emocionales contra toda esa guerra de vietnamitas de matorral, que todo lo resumen en el insulto, todo lo resumen en esa especie de impacto rápido, que es la descalificación del otro de manera vulgar. Tú piensa en Quevedo. Piensa en todos los grandes autores del Siglo de Oro, que fueron maestros del insulto. Incluso en el siglo XX. Piensa en Valle-Inclán. Hasta había un ejercicio casi intelectual del insulto. Pero lo que hoy tenemos es el quinqui de la palabra. Y el quinqui de la palabra desgrasa la palabra y si desgrasas la palabra, adulteras los sentidos, y si adulteras los sentidos, estás tirando el idioma\".\\n\\nGobierno progresista\\n\\n\"A mí me parece muy bien que haya una coalición progresista. Opino que tiene fisuras y que hay algunos puntos oscuros que me interesan menos. Tengo una enorme precaución con los nacionalismos. Tengo una enorme precaución con ciertos fanatismos encubiertos dentro de la idea de nación y de patria. Pero en el ámbito de lo social, que me importa mucho más, sí creo que una coalición progresista como es esta nos está propiciando y generando un nuevo suelo donde encontrar otras formas de sembrar. Esta coalición progresista nos va a permitir seguir abundando y seguir reflexionando y seguir probando las posibilidades que hay en ese horizonte de las coaliciones, de los espacios más abiertos, de intentar superar esas estructuras de los viejos partidos monumentales, que se compensaban entre ellos y que nos fue bien, pero el tiempo es otro y, sobre todo, quienes votamos también somos otros\".\\n\\nUltraderecha\\n\\n\"Me incomoda mucho la ultraderecha. Me incomoda mucho ver que somos uno de los escasísimos países potables de Europa que mantiene una cierta laxitud con la emergencia de una extrema derecha sulfurosa, vidriosa y con todos los pasos que da, que no son nuevos si uno conoce un poco la itinerancia de la extrema derecha en este país. Repite aquello que tendríamos que haber superado hace cuarenta años. Repite aquello que no tenía que haberse producido y genera esa polarización de la que hablábamos antes, esa agitación agria que hay en parte de la sociedad, esa especie de berrea a la que hemos llegado. Considero que la llegada de la extrema derecha no es un buen síntoma en un país. Es un síntoma de fragilidad, es un síntoma de desconcierto, es un síntoma, probablemente, hasta de intemperie. Y veremos qué pasa\".\\n\\nEl mundo post pandemia\\n\\n\"Considero que estamos en un momento de cierta transición en muchas cosas y la pandemia, además, ha acelerado todo esto. No podemos olvidar que hemos vivido y estamos viviendo un proceso absolutamente inédito en la historia de la convivencia del siglo XXI. Llevamos 21 años nada más, pero muy intensos, donde se están propiciando nuevos modelos de convivencia o laborales. Opino que eso nos altera. Estamos necesariamente alterados y también sanamente alterados. Hay que estar alterados, hay que estar siempre un poco en alerta. Mi impresión es que tenemos un mundo un poco histérico, pero tenemos un mundo con posibilidad, también, de amortiguar su propio histerismo. A mí me gusta el mundo en el que estamos a pesar de que esté en desacuerdo con muchas cosas. Me pasa lo mismo con España. Yo amo este país, aunque, a veces, no consigo que me guste. Pues me pasa lo mismo con el mundo. Soy un tío vital, creo\".\\n\\nLa sociedad que nos espera\\n\\n\"Estoy en una situación de mi vida entre expectante y un poco intimidado. Expectante porque todo esto de la inteligencia artificial, toda la avalancha digital, todas las posibilidades de la técnica me parece apasionante siempre y cuando se utilicen como herramientas que nos puedan servir de pértiga para algo mejor. Me parece intimidante porque sospecho que también hay una deshumanización en la aplicación de estas posibilidades tecnológicas y de estas herramientas. Esa deshumanización puede ser terrible. La tecnología sé que es un espacio infinito, donde tenemos un laboratorio fastuoso, que si sabemos amortizar, será, probablemente, para mejorarnos en muchas cosas. Pero me temo que hay corrientes oscuras y manos de sombra, que van a propiciar todo lo contrario, que sea la nueva cadena que se ataba al tobillo o a las muñecas de los galeotes\".\\n\\nRedes sociales\\n\\nPepa Bueno: \"Necesitamos lectores que paguen por el periodismo de calidad\"\\n\\nVer más\\n\\n\"No tengo redes sociales. Me quité la única que tenía, que era Twitter, hace ya cinco o seis años, por un problema que tuvimos mi mujer y yo de acoso hacia ella. Mi mujer es periodista. Trabaja en Televisión Española y tuvimos un problema grave de acoso y la policía nos sugirió quitarnos de las redes sociales. Si digo la verdad, para mí algunas de ellas son una absoluta fosa séptica. La que conozco, que es Twitter. A mí me parece la absoluta malversación de la vida en comunidad. Que hay cosas buenas, estupendo. Que hay información que llega antes y que a los periodistas nos sirve, fantástico. Seguramente, si tú tienes redes sociales, yo me enteraré de las cosas, igual que tú, solo que cinco minutos después. No hay prisa. La verdad llega. Así que mi relación con las redes sociales es de indiferencia\".\\n\\nLa cultura en España'"
      ]
     },
     "execution_count": 4,
     "metadata": {},
     "output_type": "execute_result"
    }
   ],
   "source": [
    "articulo = data.iloc[0]\n",
    "articulo_text = articulo['contenido']\n",
    "articulo_text"
   ]
  },
  {
   "cell_type": "markdown",
   "metadata": {},
   "source": [
    "## 1. N Nº"
   ]
  },
  {
   "cell_type": "code",
   "execution_count": 5,
   "metadata": {},
   "outputs": [
    {
     "name": "stdout",
     "output_type": "stream",
     "text": [
      "12\n"
     ]
    }
   ],
   "source": [
    "print(articulo['N'])"
   ]
  },
  {
   "cell_type": "markdown",
   "metadata": {},
   "source": [
    "## 2. Medio"
   ]
  },
  {
   "cell_type": "code",
   "execution_count": 6,
   "metadata": {},
   "outputs": [],
   "source": [
    "from urllib.parse import urlparse\n",
    "\n",
    "# Función para clasificar el medio según la URL\n",
    "def classify_media(url):\n",
    "    # Extraer el dominio de la URL\n",
    "    domain = urlparse(url).netloc.lower()\n",
    "    \n",
    "    # Diccionario de dominios y categorías\n",
    "    media_map = {\n",
    "        \"elmundo.es\": 1,\n",
    "        \"elpais.com\": 2,\n",
    "        \"eldiario.es\": 3,\n",
    "        \"20minutos.es\": 4,\n",
    "        \"articulo14.com\": 5,\n",
    "        \"infolibre.es\": 6 # datos 2023_04_05_matriz_not_julia\n",
    "    }\n",
    "    \n",
    "    # Buscar el dominio en el mapa\n",
    "    for key, value in media_map.items():\n",
    "        if key in domain:\n",
    "            return key, value\n",
    "    \n",
    "    # Si no coincide con ninguno, retornar None o 0\n",
    "    return 0"
   ]
  },
  {
   "cell_type": "code",
   "execution_count": 13,
   "metadata": {},
   "outputs": [
    {
     "name": "stdout",
     "output_type": "stream",
     "text": [
      "Medio: infolibre.es\n",
      "Categoría: 6\n"
     ]
    }
   ],
   "source": [
    "articulo_url = articulo['enlace']\n",
    "print(f\"Medio: {classify_media(articulo_url)[0]}\")\n",
    "print(f\"Categoría: {classify_media(articulo_url)[1]}\")"
   ]
  },
  {
   "cell_type": "markdown",
   "metadata": {},
   "source": [
    "## 3. N periódico"
   ]
  },
  {
   "cell_type": "code",
   "execution_count": 8,
   "metadata": {},
   "outputs": [
    {
     "name": "stdout",
     "output_type": "stream",
     "text": [
      "12\n"
     ]
    }
   ],
   "source": [
    "print(articulo['n_periodico'])"
   ]
  },
  {
   "cell_type": "markdown",
   "metadata": {},
   "source": [
    "## 4. Fecha"
   ]
  },
  {
   "cell_type": "code",
   "execution_count": 9,
   "metadata": {},
   "outputs": [
    {
     "name": "stdout",
     "output_type": "stream",
     "text": [
      "10/10/2021\n"
     ]
    }
   ],
   "source": [
    "print(articulo['Fecha'])"
   ]
  },
  {
   "cell_type": "markdown",
   "metadata": {},
   "source": [
    "## 5. Enlace"
   ]
  },
  {
   "cell_type": "code",
   "execution_count": 10,
   "metadata": {},
   "outputs": [
    {
     "name": "stdout",
     "output_type": "stream",
     "text": [
      "https://www.infolibre.es/videolibre/como-lo-ve/antonio-lucas-llegada-ultraderecha-sintoma-fragilidad-desconcierto-intemperie_1_1211642.html\n"
     ]
    }
   ],
   "source": [
    "print(articulo_url)"
   ]
  },
  {
   "cell_type": "markdown",
   "metadata": {},
   "source": [
    "## 6. Titular. Copia el titular"
   ]
  },
  {
   "cell_type": "code",
   "execution_count": 22,
   "metadata": {},
   "outputs": [
    {
     "name": "stdout",
     "output_type": "stream",
     "text": [
      "Antonio Lucas: \"La llegada de la ultraderecha es un 1ntoma de fragilidad, de desconcierto y de intemperie\"\n"
     ]
    }
   ],
   "source": [
    "articulo_titular = articulo['Titular']\n",
    "print(articulo_titular)"
   ]
  },
  {
   "cell_type": "markdown",
   "metadata": {},
   "source": [
    "## 7. Nombre propio titular"
   ]
  },
  {
   "cell_type": "code",
   "execution_count": 20,
   "metadata": {},
   "outputs": [
    {
     "name": "stdout",
     "output_type": "stream",
     "text": [
      "2025-02-25 12:49:02,961 SequenceTagger predicts: Dictionary with 20 tags: <unk>, O, S-LOC, S-ORG, B-PER, I-PER, E-PER, S-MISC, B-ORG, E-ORG, S-PER, I-ORG, B-LOC, E-LOC, B-MISC, E-MISC, I-MISC, I-LOC, <START>, <STOP>\n",
      "Nombres propios: ['Antonio Lucas']\n",
      "Nombre completo: Antonio Lucas, Género: male\n",
      "(Pred) Categoría: 1\n",
      "(Real) Categoría: 1\n"
     ]
    }
   ],
   "source": [
    "from flair.models import SequenceTagger\n",
    "from flair.data import Sentence\n",
    "import requests\n",
    "\n",
    "# Cargar el modelo de NER\n",
    "tagger = SequenceTagger.load(\"flair/ner-spanish-large\")\n",
    "\n",
    "# Procesar el texto con Flair\n",
    "sentence = Sentence(articulo_titular)\n",
    "tagger.predict(sentence)\n",
    "\n",
    "# Identificar nombres propios (PERSON)\n",
    "names = [entity.text for entity in sentence.get_spans('ner') if entity.tag == \"PER\"]\n",
    "print(\"Nombres propios:\", names)\n",
    "\n",
    "# Función para obtener el primer nombre\n",
    "def get_first_name(full_name):\n",
    "    return full_name.split()[0]\n",
    "\n",
    "# Función para determinar género con Genderize.io\n",
    "def get_gender_with_genderize(name):\n",
    "    response = requests.get(f\"https://api.genderize.io?name={name}\")\n",
    "    if response.status_code == 200:\n",
    "        data = response.json()\n",
    "        return data.get(\"gender\")  # Retorna género ('male', 'female' o None)\n",
    "    else:\n",
    "        print(f\"Error con el nombre {name}: {response.status_code}\")\n",
    "        return None\n",
    "\n",
    "# Clasificar nombres en géneros\n",
    "genders = {\"male\": 0, \"female\": 0}\n",
    "\n",
    "# Procesar la lista de nombres completos\n",
    "for full_name in names:\n",
    "    first_name = get_first_name(full_name)\n",
    "    gender = get_gender_with_genderize(first_name)\n",
    "    print(f\"Nombre completo: {full_name}, Género: {gender}\")\n",
    "    if gender == \"male\":\n",
    "        genders[\"male\"] += 1\n",
    "    elif gender == \"female\":\n",
    "        genders[\"female\"] += 1\n",
    "\n",
    "# Determinar la categoría\n",
    "if genders[\"male\"] == 0 and genders[\"female\"] == 0:\n",
    "    category = 0  # No hay nombres\n",
    "elif genders[\"male\"] > 0 and genders[\"female\"] == 0:\n",
    "    category = 1  # Solo hombres\n",
    "elif genders[\"female\"] > 0 and genders[\"male\"] == 0:\n",
    "    category = 2  # Solo mujeres\n",
    "else:\n",
    "    category = 3  # Hombres y mujeres\n",
    "\n",
    "\n",
    "print(f\"(Pred) Categoría: {category}\")\n",
    "print(f\"(Real) Categoría: {articulo['Nombre_propio_en_el_titular']}\")"
   ]
  },
  {
   "cell_type": "markdown",
   "metadata": {},
   "source": [
    "## 8. Cita en el titular"
   ]
  },
  {
   "cell_type": "code",
   "execution_count": 14,
   "metadata": {},
   "outputs": [],
   "source": [
    "import re\n",
    "from transformers import pipeline\n",
    "\n",
    "# Configurar modelo Zero-Shot (opcional)\n",
    "zero_shot_classifier = pipeline(\"zero-shot-classification\", model=\"facebook/bart-large-mnli\")\n",
    "\n",
    "# Función para detectar citas textuales (comillas)\n",
    "def has_explicit_quote(title):\n",
    "    pattern = r'\"[^\"]+\"|\\'[^\\']+\\''\n",
    "    return bool(re.search(pattern, title))\n",
    "\n",
    "# Función para detectar palabras clave contextuales\n",
    "def has_contextual_quote(title):\n",
    "    keywords = [\"dijo\", \"afirmó\", \"expresó\", \"mencionó\", \"declaró\", \"aseguró\", \"comentó\", \"indicó\"]\n",
    "    return any(keyword in title.lower() for keyword in keywords)\n",
    "\n",
    "# Función para validar con zero-shot classification\n",
    "def validate_with_zero_shot(title):\n",
    "    candidate_labels = [\"cita\", \"sin cita\"]\n",
    "    result = zero_shot_classifier(title, candidate_labels)\n",
    "    # Considerar \"cita\" si es la categoría más probable\n",
    "    return result[\"labels\"][0] == \"cita\"\n",
    "\n",
    "# Función combinada para detectar citas\n",
    "def detect_quote(title, use_zero_shot=False):\n",
    "    if has_explicit_quote(title):\n",
    "        return 1  # Sí, hay cita explícita\n",
    "    elif has_contextual_quote(title):\n",
    "        return 1  # Sí, hay cita implícita\n",
    "    elif use_zero_shot and validate_with_zero_shot(title):\n",
    "        return 1  # Sí, cita validada por Zero-Shot\n",
    "    return 0  # No, no hay cita\n"
   ]
  },
  {
   "cell_type": "code",
   "execution_count": 19,
   "metadata": {},
   "outputs": [
    {
     "name": "stdout",
     "output_type": "stream",
     "text": [
      "(Pred) Cita en el titular: 1\n",
      "(Real) Cita en el titular: 1\n"
     ]
    }
   ],
   "source": [
    "result = detect_quote(articulo_titular, use_zero_shot=True)  # Cambiar a False si no quieres usar Zero-Shot\n",
    "print(f\"(Pred) Cita en el titular: {result}\")\n",
    "print(f\"(Real) Cita en el titular: {articulo['Cita_en_titular']}\")"
   ]
  },
  {
   "cell_type": "markdown",
   "metadata": {},
   "source": [
    "## 9. Género personas que aparecen en la información"
   ]
  },
  {
   "cell_type": "markdown",
   "metadata": {},
   "source": [
    "### NER (tag de persona)"
   ]
  },
  {
   "cell_type": "code",
   "execution_count": 24,
   "metadata": {},
   "outputs": [
    {
     "name": "stdout",
     "output_type": "stream",
     "text": [
      "2025-02-25 12:51:44,490 SequenceTagger predicts: Dictionary with 20 tags: <unk>, O, S-LOC, S-ORG, B-PER, I-PER, E-PER, S-MISC, B-ORG, E-ORG, S-PER, I-ORG, B-LOC, E-LOC, B-MISC, E-MISC, I-MISC, I-LOC, <START>, <STOP>\n",
      "Nombres detectados: ['Antonio Lucas', 'Quevedo', 'Valle-Inclán', 'Pepa Bueno']\n",
      "Nombre completo: Antonio Lucas, Género: male\n",
      "Nombre completo: Quevedo, Género: male\n",
      "Nombre completo: Valle-Inclán, Género: None\n",
      "Nombre completo: Pepa Bueno, Género: female\n",
      "\n",
      "\n",
      "(Pred) Género predominante en la información: 2\n",
      "(Real) Género predominante en la información: 3\n"
     ]
    }
   ],
   "source": [
    "from flair.models import SequenceTagger\n",
    "from flair.data import Sentence\n",
    "import requests\n",
    "\n",
    "# Configurar el modelo de NER (Reconocimiento de Entidades Nombradas)\n",
    "tagger = SequenceTagger.load(\"flair/ner-spanish-large\")\n",
    "\n",
    "# Procesar el texto con Flair\n",
    "sentence = Sentence(articulo_text)\n",
    "tagger.predict(sentence)\n",
    "\n",
    "# Extraer entidades PERSON\n",
    "names = [entity.text for entity in sentence.get_spans('ner') if entity.tag == \"PER\"]\n",
    "print(\"Nombres detectados:\", names)\n",
    "\n",
    "# Contar géneros\n",
    "genders = {\"male\": 0, \"female\": 0}\n",
    "\n",
    "# Procesar los nombres detectados\n",
    "for full_name in names:\n",
    "    first_name = get_first_name(full_name)  # Extraer el primer nombre\n",
    "    gender = get_gender_with_genderize(first_name)  # Determinar género\n",
    "    print(f\"Nombre completo: {full_name}, Género: {gender}\")\n",
    "    if gender == \"male\":\n",
    "        genders[\"male\"] += 1\n",
    "    elif gender == \"female\":\n",
    "        genders[\"female\"] += 1\n",
    "\n",
    "# Clasificar el género predominante\n",
    "if genders[\"male\"] > 0 and genders[\"female\"] == 0:\n",
    "    category = 0  # Masculino\n",
    "elif genders[\"female\"] > 0 and genders[\"male\"] == 0:\n",
    "    category = 1  # Femenino\n",
    "elif genders[\"male\"] > 0 and genders[\"female\"] > 0:\n",
    "    category = 2  # Mixto\n",
    "else:\n",
    "    category = 3  # Neutro (no se detectaron personas)\n",
    "\n",
    "print(\"\\n\")\n",
    "print(f\"(Pred) Género predominante en la información: {category}\")\n",
    "print(f\"(Real) Género predominante en la información: {articulo['Genero_protagonista']}\")\n"
   ]
  },
  {
   "cell_type": "markdown",
   "metadata": {},
   "source": [
    "### Zero-shot"
   ]
  },
  {
   "cell_type": "code",
   "execution_count": 25,
   "metadata": {},
   "outputs": [
    {
     "name": "stdout",
     "output_type": "stream",
     "text": [
      "Clasificación Zero-Shot: mixto\n"
     ]
    }
   ],
   "source": [
    "from transformers import pipeline\n",
    "\n",
    "# Configurar modelo Zero-Shot\n",
    "zero_shot_classifier = pipeline(\"zero-shot-classification\", model=\"facebook/bart-large-mnli\")\n",
    "\n",
    "# Etiquetas candidatas\n",
    "candidate_labels = [\"solo hombres\", \"solo mujeres\", \"mixto\", \"neutro\"]\n",
    "\n",
    "# Clasificación Zero-Shot\n",
    "result = zero_shot_classifier(articulo_text, candidate_labels)\n",
    "print(\"Clasificación Zero-Shot:\", result[\"labels\"][0])  # Categoría más probable\n"
   ]
  },
  {
   "cell_type": "markdown",
   "metadata": {},
   "source": [
    "## 10. Tema"
   ]
  },
  {
   "cell_type": "code",
   "execution_count": null,
   "metadata": {},
   "outputs": [],
   "source": [
    "import tqdm as notebook_tqdm\n",
    "from transformers import pipeline\n",
    "\n",
    "classifier = pipeline(\"zero-shot-classification\", model=\"facebook/bart-large-mnli\")\n",
    "\n",
    "news_text = article.text\n",
    "candidate_labels = [\n",
    "    \"Economía\", \"Expertos/as en IA\", \"Política\", \"Empresa\", \"Robótica\",\n",
    "    \"Aplicaciones / software\", \"Comunicación\", \"Investigación\", \"Algoritmo\",\n",
    "    \"Sesgos de género\", \"Sesgos de género y raza\", \"Premio\", \"Educación/cultura\", \"Otros\"\n",
    "]\n",
    "\n",
    "result = classifier(news_text, candidate_labels)"
   ]
  },
  {
   "cell_type": "code",
   "execution_count": null,
   "metadata": {},
   "outputs": [],
   "source": [
    "print(\"Categoría más probable:\", result[\"labels\"][0])\n",
    "print(\"Probabilidad:\", result[\"scores\"][0])\n",
    "print(result[\"labels\"])\n",
    "print(result[\"scores\"])"
   ]
  },
  {
   "cell_type": "markdown",
   "metadata": {},
   "source": [
    "## 11. IA tema central"
   ]
  },
  {
   "cell_type": "code",
   "execution_count": null,
   "metadata": {},
   "outputs": [],
   "source": [
    "from transformers import pipeline\n",
    "\n",
    "classifier = pipeline(\"zero-shot-classification\", model=\"facebook/bart-large-mnli\")\n",
    "\n",
    "news_text = article.text\n",
    "candidate_labels = [\n",
    "    \"IA es el tema principal del texto\", \"IA no es el tema principal del texto\"\n",
    "]\n",
    "\n",
    "result = classifier(news_text, candidate_labels)"
   ]
  },
  {
   "cell_type": "code",
   "execution_count": null,
   "metadata": {},
   "outputs": [],
   "source": [
    "# Determinar si el tema central es IA\n",
    "is_ia = 1 if result[\"labels\"][0] == \"IA es el tema principal del texto\" else 0\n",
    "print(\"IA tema central:\", is_ia)"
   ]
  },
  {
   "cell_type": "markdown",
   "metadata": {},
   "source": [
    "## 12. Número de caracteres sin espacios: escribir nº"
   ]
  },
  {
   "cell_type": "code",
   "execution_count": 26,
   "metadata": {},
   "outputs": [
    {
     "name": "stdout",
     "output_type": "stream",
     "text": [
      "(Pred) Número de caracteres sin espacios: 7522\n",
      "(Real) Número de caracteres sin espacios: 8121\n"
     ]
    }
   ],
   "source": [
    "# Contar caracteres sin espacios\n",
    "num_characters_no_spaces = len(articulo_text.replace(\" \", \"\"))\n",
    "\n",
    "print(f\"(Pred) Número de caracteres sin espacios: {num_characters_no_spaces}\")\n",
    "print(f\"(Real) Número de caracteres sin espacios: {articulo['ncaracteres']}\")"
   ]
  },
  {
   "cell_type": "markdown",
   "metadata": {},
   "source": [
    "## 13. Nombre periodista = escribe su nombre o el de la agencia"
   ]
  },
  {
   "cell_type": "code",
   "execution_count": 29,
   "metadata": {},
   "outputs": [
    {
     "name": "stdout",
     "output_type": "stream",
     "text": [
      "Periodistas: Antonio Contreras\n"
     ]
    }
   ],
   "source": [
    "articulo_periodista = articulo['Nombreperiodista']\n",
    "print(\"Periodistas:\", articulo_periodista) # article.authors"
   ]
  },
  {
   "cell_type": "markdown",
   "metadata": {},
   "source": [
    "## 14. Género periodista"
   ]
  },
  {
   "cell_type": "code",
   "execution_count": null,
   "metadata": {},
   "outputs": [],
   "source": [
    "from transformers import pipeline\n",
    "\n",
    "# Configurar el modelo zero-shot classification\n",
    "classifier = pipeline(\"zero-shot-classification\", model=\"facebook/bart-large-mnli\")\n",
    "\n",
    "# Función para clasificar autores usando Zero-Shot\n",
    "def classify_authors_zero_shot(authors):\n",
    "    # Categoría predeterminada si no hay autores\n",
    "    if not authors:\n",
    "        return 3  # Ns/Nc\n",
    "    \n",
    "    # Texto que describe los autores\n",
    "    authors_text = \" y \".join(authors)\n",
    "\n",
    "    # Etiquetas candidatas\n",
    "    candidate_labels = [\n",
    "        \"solo hombres\",\n",
    "        \"solo mujeres\",\n",
    "        \"hombres y mujeres\",\n",
    "        \"sin especificar\",\n",
    "        \"agencia\",\n",
    "        \"redacción\"\n",
    "    ]\n",
    "\n",
    "    # Clasificar el texto usando zero-shot\n",
    "    result = classifier(authors_text, candidate_labels)\n",
    "    top_label = result[\"labels\"][0]\n",
    "\n",
    "    # Mapear etiquetas a categorías\n",
    "    label_to_category = {\n",
    "        \"solo hombres\": 0,\n",
    "        \"solo mujeres\": 1,\n",
    "        \"hombres y mujeres\": 2,\n",
    "        \"sin especificar\": 3,\n",
    "        \"agencia\": 4,\n",
    "        \"redacción\": 5\n",
    "    }\n",
    "\n",
    "    return label_to_category.get(top_label, 3)  # Retornar categoría o 3 (Ns/Nc) como predeterminada"
   ]
  },
  {
   "cell_type": "code",
   "execution_count": 35,
   "metadata": {},
   "outputs": [
    {
     "name": "stdout",
     "output_type": "stream",
     "text": [
      "Nombre completo: Antonio Contreras, Género: male\n",
      "(Pred) Categoría de género del periodista: 0\n",
      "(Real) Categoría de género del periodista: 0\n"
     ]
    }
   ],
   "source": [
    "# Mapear etiquetas a categorías\n",
    "label_to_category = {\n",
    "    \"solo hombres\": 0,\n",
    "    \"solo mujeres\": 1,\n",
    "    \"hombres y mujeres\": 2,\n",
    "    \"sin especificar\": 3,\n",
    "    \"agencia\": 4,\n",
    "    \"redacción\": 5\n",
    "}\n",
    "\n",
    "# Contar géneros\n",
    "genders = {\"male\": 0, \"female\": 0}\n",
    "\n",
    "# Procesar los nombres detectados\n",
    "first_name = get_first_name(articulo_periodista)  # Extraer el primer nombre\n",
    "gender = get_gender_with_genderize(first_name)  # Determinar género\n",
    "print(f\"Nombre completo: {articulo_periodista}, Género: {gender}\")\n",
    "\n",
    "\n",
    "if gender == \"male\":\n",
    "    genders[\"male\"] += 1\n",
    "elif gender == \"female\":\n",
    "    genders[\"female\"] += 1\n",
    "\n",
    "# Clasificar el género predominante\n",
    "if genders[\"male\"] > 0 and genders[\"female\"] == 0:\n",
    "    category = 0  # Masculino\n",
    "elif genders[\"female\"] > 0 and genders[\"male\"] == 0:\n",
    "    category = 1  # Femenino\n",
    "elif genders[\"male\"] > 0 and genders[\"female\"] > 0:\n",
    "    category = 2  # Mixto\n",
    "else:\n",
    "    category = 3  # Neutro (no se detectaron personas)\n",
    "\n",
    "print(f\"(Pred) Categoría de género del periodista: {category}\")\n",
    "print(f\"(Real) Categoría de género del periodista: {articulo['Género_periodista']}\")"
   ]
  },
  {
   "cell_type": "markdown",
   "metadata": {},
   "source": [
    "## 20. Utiliza Fuentes"
   ]
  },
  {
   "cell_type": "code",
   "execution_count": null,
   "metadata": {},
   "outputs": [],
   "source": [
    "from transformers import pipeline\n",
    "import re\n",
    "\n",
    "# Configurar el modelo de NER\n",
    "ner_pipeline = pipeline(\n",
    "    \"ner\",\n",
    "    model=\"mrm8488/bert-spanish-cased-finetuned-ner\",  # Modelo en español\n",
    "    tokenizer=\"mrm8488/bert-spanish-cased-finetuned-ner\"\n",
    ")\n",
    "\n",
    "# Función para detectar si el texto utiliza fuentes\n",
    "def uses_sources(text):\n",
    "    # 1. Detectar entidades nombradas con NER\n",
    "    results = ner_pipeline(text)\n",
    "    sources = [entity[\"word\"] for entity in results if entity[\"entity\"] in [\"B-ORG\", \"B-PER\", \"I-ORG\", \"I-PER\"]]\n",
    "\n",
    "    # 2. Buscar patrones comunes de fuentes en el texto\n",
    "    patterns = r\"(según|reportado por|publicado por|afirmó|declaró|informó|escrito por|indicado por)\"\n",
    "    has_patterns = bool(re.search(patterns, text, re.IGNORECASE))\n",
    "\n",
    "    # Clasificar\n",
    "    if sources or has_patterns:\n",
    "        return 1  # Sí, utiliza fuentes\n",
    "    return 0  # No, no utiliza fuentes\n",
    "\n",
    "# Función para contar y extraer declaraciones\n",
    "def extract_statements(text):\n",
    "    # 1. Buscar citas directas (entre comillas)\n",
    "    quotes_pattern = r'([\"“][^\"“”]+[\"”])'\n",
    "    direct_quotes = re.findall(quotes_pattern, text)\n",
    "\n",
    "    # 2. Buscar citas indirectas usando palabras clave\n",
    "    indirect_pattern = r'((?:\\b(?:dijo|afirmó|comentó|indicó|expresó|declaró|aseguró|mencionó|anunció)\\b[^.]+))'\n",
    "    indirect_quotes = re.findall(indirect_pattern, text, re.IGNORECASE)\n",
    "\n",
    "    # Total declaraciones\n",
    "    total_statements = len(direct_quotes) + len(indirect_quotes)\n",
    "\n",
    "    return {\n",
    "        \"total_statements\": total_statements,\n",
    "        \"direct_quotes\": direct_quotes,\n",
    "        \"indirect_quotes\": indirect_quotes\n",
    "    }\n",
    "\n",
    "# Función para extraer y resaltar declaraciones en HTML\n",
    "def highlight_statements(text):\n",
    "    # 1. Resaltar citas directas (entre comillas)\n",
    "    quotes_pattern = r'([\"“][^\"“”]+[\"”])'\n",
    "    text = re.sub(quotes_pattern, r'<span class=\"direct-quote\">\\1</span>', text)\n",
    "\n",
    "    # 2. Resaltar citas indirectas usando palabras clave\n",
    "    indirect_pattern = r'(\\b(?:dijo|afirmó|comentó|indicó|expresó|declaró|aseguró|mencionó|anunció)\\b[^.]+)'\n",
    "    text = re.sub(indirect_pattern, r'<span class=\"indirect-quote\">\\1</span>', text, flags=re.IGNORECASE)\n",
    "\n",
    "    return text\n",
    "\n",
    "# Texto de ejemplo\n",
    "text = \"\"\"\n",
    "Según El País, la nueva variante del virus es menos agresiva. Además, el Ministerio de Salud afirmó que las medidas de prevención se mantendrán.\n",
    "Pedro Sánchez dijo: \"Estamos trabajando para asegurar la seguridad de todos\".\n",
    "\"\"\"\n"
   ]
  },
  {
   "cell_type": "code",
   "execution_count": null,
   "metadata": {},
   "outputs": [],
   "source": [
    "# Detectar si utiliza fuentes\n",
    "print(\"¿Usa fuentes?\", uses_sources(text))\n",
    "statements = extract_statements(text)"
   ]
  },
  {
   "cell_type": "markdown",
   "metadata": {},
   "source": [
    "## 21. Escribe el número de declaraciones"
   ]
  },
  {
   "cell_type": "code",
   "execution_count": null,
   "metadata": {},
   "outputs": [],
   "source": [
    "# Contar declaraciones\n",
    "print(\"Total declaraciones:\", statements[\"total_statements\"])"
   ]
  },
  {
   "cell_type": "markdown",
   "metadata": {},
   "source": [
    "## 21a. Identifica las declaraciones"
   ]
  },
  {
   "cell_type": "code",
   "execution_count": null,
   "metadata": {},
   "outputs": [],
   "source": [
    "print(\"Citas directas:\", statements[\"direct_quotes\"])\n",
    "print(\"Citas indirectas:\", statements[\"indirect_quotes\"])"
   ]
  },
  {
   "cell_type": "code",
   "execution_count": null,
   "metadata": {},
   "outputs": [],
   "source": [
    "from IPython.core.display import display, HTML\n",
    "\n",
    "# Generar texto resaltado en HTML\n",
    "highlighted_text_html = highlight_statements(text)\n",
    "\n",
    "# Mostrar en Jupyter Notebook\n",
    "html_output = f\"\"\"\n",
    "<style>\n",
    "    .direct-quote {{\n",
    "        color: #007BFF;\n",
    "        font-weight: bold;\n",
    "    }}\n",
    "    .indirect-quote {{\n",
    "        color: #28A745;\n",
    "        font-style: italic;\n",
    "    }}\n",
    "    body {{\n",
    "        font-family: Arial, sans-serif;\n",
    "        line-height: 1.6;\n",
    "    }}\n",
    "</style>\n",
    "<p>{highlighted_text_html}</p>\n",
    "\"\"\"\n",
    "\n",
    "display(HTML(html_output))"
   ]
  },
  {
   "cell_type": "markdown",
   "metadata": {},
   "source": [
    "## 22. Nombre"
   ]
  },
  {
   "cell_type": "code",
   "execution_count": null,
   "metadata": {},
   "outputs": [],
   "source": []
  },
  {
   "cell_type": "markdown",
   "metadata": {},
   "source": [
    "## 23. Género persona declara"
   ]
  },
  {
   "cell_type": "code",
   "execution_count": null,
   "metadata": {},
   "outputs": [],
   "source": []
  },
  {
   "cell_type": "markdown",
   "metadata": {},
   "source": [
    "## 24. Tipo de fuente"
   ]
  },
  {
   "cell_type": "code",
   "execution_count": null,
   "metadata": {},
   "outputs": [],
   "source": []
  },
  {
   "cell_type": "markdown",
   "metadata": {},
   "source": [
    "## 25. Biografía"
   ]
  },
  {
   "cell_type": "code",
   "execution_count": null,
   "metadata": {},
   "outputs": [],
   "source": []
  }
 ],
 "metadata": {
  "kernelspec": {
   "display_name": ".venv",
   "language": "python",
   "name": "python3"
  },
  "language_info": {
   "codemirror_mode": {
    "name": "ipython",
    "version": 3
   },
   "file_extension": ".py",
   "mimetype": "text/x-python",
   "name": "python",
   "nbconvert_exporter": "python",
   "pygments_lexer": "ipython3",
   "version": "3.12.3"
  }
 },
 "nbformat": 4,
 "nbformat_minor": 2
}
