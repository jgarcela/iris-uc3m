{
 "cells": [
  {
   "cell_type": "markdown",
   "metadata": {},
   "source": [
    "## Extraer Artículo"
   ]
  },
  {
   "cell_type": "code",
   "execution_count": 24,
   "metadata": {},
   "outputs": [],
   "source": [
    "# import newspaper\n",
    "\n",
    "# url = 'https://www.eldiario.es/tecnologia/beneficios-samsung-hundieron-72-2023-caida-demanda-chips_1_10881590.html'\n",
    "\n",
    "# article = newspaper.article(url)\n",
    "# article.download()\n",
    "# article.parse()\n",
    "# print(article.text)"
   ]
  },
  {
   "cell_type": "markdown",
   "metadata": {},
   "source": [
    "#### More data"
   ]
  },
  {
   "cell_type": "code",
   "execution_count": 25,
   "metadata": {},
   "outputs": [],
   "source": [
    "# article.nlp()\n",
    "# word_count = len(article.text.split())\n",
    "\n",
    "\n",
    "\n",
    "\n",
    "# print(\"Contenido:\", article.text)\n",
    "# print(\"Summary:\", article.summary) # uses nlp\n",
    "# print(\"Palabras clave:\", article.keywords) # uses nlp\n",
    "# print(\"Autores:\", article.authors)\n",
    "# print(\"Cantidad de palabras:\", word_count)\n",
    "# print(\"URL de la imagen:\", article.top_image)"
   ]
  },
  {
   "cell_type": "markdown",
   "metadata": {},
   "source": [
    "## 0. Cargar datos"
   ]
  },
  {
   "cell_type": "code",
   "execution_count": 26,
   "metadata": {},
   "outputs": [
    {
     "data": {
      "text/html": [
       "<div>\n",
       "<style scoped>\n",
       "    .dataframe tbody tr th:only-of-type {\n",
       "        vertical-align: middle;\n",
       "    }\n",
       "\n",
       "    .dataframe tbody tr th {\n",
       "        vertical-align: top;\n",
       "    }\n",
       "\n",
       "    .dataframe thead th {\n",
       "        text-align: right;\n",
       "    }\n",
       "</style>\n",
       "<table border=\"1\" class=\"dataframe\">\n",
       "  <thead>\n",
       "    <tr style=\"text-align: right;\">\n",
       "      <th></th>\n",
       "      <th>Unnamed: 0</th>\n",
       "      <th>N</th>\n",
       "      <th>n_periodico</th>\n",
       "      <th>enlace</th>\n",
       "      <th>Medio</th>\n",
       "      <th>año</th>\n",
       "      <th>Fecha</th>\n",
       "      <th>Nombreperiodista</th>\n",
       "      <th>Nombreperiodista_A</th>\n",
       "      <th>Género_periodista</th>\n",
       "      <th>...</th>\n",
       "      <th>@25perspectiva</th>\n",
       "      <th>@25piedefoto</th>\n",
       "      <th>@26ge3ero1oto</th>\n",
       "      <th>@26perspectiva</th>\n",
       "      <th>@26piedefoto</th>\n",
       "      <th>@27ge3ero1oto</th>\n",
       "      <th>@27perspectiva</th>\n",
       "      <th>@27piedefoto</th>\n",
       "      <th>contenido</th>\n",
       "      <th>contenido_clean</th>\n",
       "    </tr>\n",
       "  </thead>\n",
       "  <tbody>\n",
       "    <tr>\n",
       "      <th>0</th>\n",
       "      <td>0</td>\n",
       "      <td>12</td>\n",
       "      <td>12</td>\n",
       "      <td>https://www.infolibre.es/videolibre/como-lo-ve...</td>\n",
       "      <td>1</td>\n",
       "      <td>2021</td>\n",
       "      <td>10/10/2021</td>\n",
       "      <td>Antonio Contreras</td>\n",
       "      <td>ANTONIO CONTRERAS</td>\n",
       "      <td>0</td>\n",
       "      <td>...</td>\n",
       "      <td></td>\n",
       "      <td></td>\n",
       "      <td></td>\n",
       "      <td></td>\n",
       "      <td></td>\n",
       "      <td></td>\n",
       "      <td></td>\n",
       "      <td></td>\n",
       "      <td>Antonio Lucas (Madrid, 1975) acaba de publicar...</td>\n",
       "      <td>antonio luca   madrid   1975   acabar publicar...</td>\n",
       "    </tr>\n",
       "    <tr>\n",
       "      <th>1</th>\n",
       "      <td>1</td>\n",
       "      <td>438</td>\n",
       "      <td>276</td>\n",
       "      <td>https://www.lavanguardia.com/participacion/car...</td>\n",
       "      <td>2</td>\n",
       "      <td>2021</td>\n",
       "      <td>28/1/2021</td>\n",
       "      <td>ANDREU YAKUBUV-TREMBACH</td>\n",
       "      <td>ANDREU YAKUBUV-TREMBACH</td>\n",
       "      <td>0</td>\n",
       "      <td>...</td>\n",
       "      <td></td>\n",
       "      <td></td>\n",
       "      <td></td>\n",
       "      <td></td>\n",
       "      <td></td>\n",
       "      <td></td>\n",
       "      <td></td>\n",
       "      <td></td>\n",
       "      <td>Distinguir entre las esferas íntima y privada ...</td>\n",
       "      <td>distinguir esfera íntimo privado vida persona ...</td>\n",
       "    </tr>\n",
       "    <tr>\n",
       "      <th>2</th>\n",
       "      <td>2</td>\n",
       "      <td>1411</td>\n",
       "      <td>414</td>\n",
       "      <td>https://www.elmundo.es/economia/2020/04/08/5e8...</td>\n",
       "      <td>3</td>\n",
       "      <td>2020</td>\n",
       "      <td>8/4/2020</td>\n",
       "      <td>EDUARDO FERNÁNDEZ</td>\n",
       "      <td>EDUARDO FERNÁNDEZ</td>\n",
       "      <td>0</td>\n",
       "      <td>...</td>\n",
       "      <td></td>\n",
       "      <td></td>\n",
       "      <td></td>\n",
       "      <td></td>\n",
       "      <td></td>\n",
       "      <td></td>\n",
       "      <td></td>\n",
       "      <td></td>\n",
       "      <td>Directo. Última hora sobre el coronavirus\\n\\nL...</td>\n",
       "      <td>directo   último hora coronavirus lanzamiento ...</td>\n",
       "    </tr>\n",
       "    <tr>\n",
       "      <th>3</th>\n",
       "      <td>3</td>\n",
       "      <td>1418</td>\n",
       "      <td>421</td>\n",
       "      <td>https://www.elmundo.es/vida-sana/familia-y-co/...</td>\n",
       "      <td>3</td>\n",
       "      <td>2020</td>\n",
       "      <td>20/3/2020</td>\n",
       "      <td>MAR MUÑIZ</td>\n",
       "      <td>MAR MUÑIZ</td>\n",
       "      <td>1</td>\n",
       "      <td>...</td>\n",
       "      <td></td>\n",
       "      <td></td>\n",
       "      <td></td>\n",
       "      <td></td>\n",
       "      <td></td>\n",
       "      <td></td>\n",
       "      <td></td>\n",
       "      <td></td>\n",
       "      <td>Coronavirus: ¿nos convalidarán Teleco por tele...</td>\n",
       "      <td>coronavirus    convalidacer teleco teletrabaja...</td>\n",
       "    </tr>\n",
       "    <tr>\n",
       "      <th>4</th>\n",
       "      <td>4</td>\n",
       "      <td>1836</td>\n",
       "      <td>839</td>\n",
       "      <td>https://www.elmundo.es/papel/historias/2019/03...</td>\n",
       "      <td>3</td>\n",
       "      <td>2019</td>\n",
       "      <td>3/3/2019</td>\n",
       "      <td>FERMÍN ELIZARI</td>\n",
       "      <td>FERMÍN ELIZARI</td>\n",
       "      <td>0</td>\n",
       "      <td>...</td>\n",
       "      <td></td>\n",
       "      <td></td>\n",
       "      <td></td>\n",
       "      <td></td>\n",
       "      <td></td>\n",
       "      <td></td>\n",
       "      <td></td>\n",
       "      <td></td>\n",
       "      <td>15.000 personas de todo el mundo revisan las p...</td>\n",
       "      <td>15 000 persona mundo revisar publicación recib...</td>\n",
       "    </tr>\n",
       "    <tr>\n",
       "      <th>...</th>\n",
       "      <td>...</td>\n",
       "      <td>...</td>\n",
       "      <td>...</td>\n",
       "      <td>...</td>\n",
       "      <td>...</td>\n",
       "      <td>...</td>\n",
       "      <td>...</td>\n",
       "      <td>...</td>\n",
       "      <td>...</td>\n",
       "      <td>...</td>\n",
       "      <td>...</td>\n",
       "      <td>...</td>\n",
       "      <td>...</td>\n",
       "      <td>...</td>\n",
       "      <td>...</td>\n",
       "      <td>...</td>\n",
       "      <td>...</td>\n",
       "      <td>...</td>\n",
       "      <td>...</td>\n",
       "      <td>...</td>\n",
       "      <td>...</td>\n",
       "    </tr>\n",
       "    <tr>\n",
       "      <th>4122</th>\n",
       "      <td>4130</td>\n",
       "      <td>4130</td>\n",
       "      <td>1325</td>\n",
       "      <td>https://elpais.com/tecnologia/2017/01/17/actua...</td>\n",
       "      <td>4</td>\n",
       "      <td>2017</td>\n",
       "      <td>18/1/2017</td>\n",
       "      <td>MARYA G. NIETO</td>\n",
       "      <td>MARYA G. NIETO</td>\n",
       "      <td>1</td>\n",
       "      <td>...</td>\n",
       "      <td></td>\n",
       "      <td></td>\n",
       "      <td></td>\n",
       "      <td></td>\n",
       "      <td></td>\n",
       "      <td></td>\n",
       "      <td></td>\n",
       "      <td></td>\n",
       "      <td>Dos algoritmos clave en el desarrollo de los a...</td>\n",
       "      <td>dos algoritmo clave desarrollo actual sistema ...</td>\n",
       "    </tr>\n",
       "    <tr>\n",
       "      <th>4123</th>\n",
       "      <td>4131</td>\n",
       "      <td>4131</td>\n",
       "      <td>1326</td>\n",
       "      <td>https://elpais.com/elpais/2017/01/05/eps/14835...</td>\n",
       "      <td>4</td>\n",
       "      <td>2017</td>\n",
       "      <td>5/1/2017</td>\n",
       "      <td>JAVIER MARTÍN DEL BARRIO</td>\n",
       "      <td>JAVIER MARTÍN DEL BARRIO</td>\n",
       "      <td>0</td>\n",
       "      <td>...</td>\n",
       "      <td></td>\n",
       "      <td></td>\n",
       "      <td></td>\n",
       "      <td></td>\n",
       "      <td></td>\n",
       "      <td></td>\n",
       "      <td></td>\n",
       "      <td></td>\n",
       "      <td>RANA EL KALIOUBY no es una estrella de la canc...</td>\n",
       "      <td>ranar kaliouby estrella canción   sino tecnolo...</td>\n",
       "    </tr>\n",
       "    <tr>\n",
       "      <th>4124</th>\n",
       "      <td>4132</td>\n",
       "      <td>4132</td>\n",
       "      <td>1327</td>\n",
       "      <td>https://elpais.com/elpais/2017/01/18/eps/14846...</td>\n",
       "      <td>4</td>\n",
       "      <td>2017</td>\n",
       "      <td>18/1/2017</td>\n",
       "      <td>GUILLERMO ABRIL</td>\n",
       "      <td>GUILLERMO ABRIL</td>\n",
       "      <td>0</td>\n",
       "      <td>...</td>\n",
       "      <td></td>\n",
       "      <td></td>\n",
       "      <td></td>\n",
       "      <td></td>\n",
       "      <td></td>\n",
       "      <td></td>\n",
       "      <td></td>\n",
       "      <td></td>\n",
       "      <td>CUANDO ATERRIZÓ en España, en septiembre de 20...</td>\n",
       "      <td>aterrizar españa   septiembre 2013   embajador...</td>\n",
       "    </tr>\n",
       "    <tr>\n",
       "      <th>4125</th>\n",
       "      <td>4133</td>\n",
       "      <td>4134</td>\n",
       "      <td>1329</td>\n",
       "      <td>https://elpais.com/elpais/2017/01/15/opinion/1...</td>\n",
       "      <td>4</td>\n",
       "      <td>2017</td>\n",
       "      <td>16/1/2017</td>\n",
       "      <td>JOAQUÍN PRIETO</td>\n",
       "      <td>JOAQUÍN PRIETO</td>\n",
       "      <td>0</td>\n",
       "      <td>...</td>\n",
       "      <td></td>\n",
       "      <td></td>\n",
       "      <td></td>\n",
       "      <td></td>\n",
       "      <td></td>\n",
       "      <td></td>\n",
       "      <td></td>\n",
       "      <td></td>\n",
       "      <td>Las últimas campañas electorales celebradas en...</td>\n",
       "      <td>último campaña electoral celebrado españa lanz...</td>\n",
       "    </tr>\n",
       "    <tr>\n",
       "      <th>4126</th>\n",
       "      <td>4134</td>\n",
       "      <td>4135</td>\n",
       "      <td>1330</td>\n",
       "      <td>https://elpais.com/elpais/2017/01/20/opinion/1...</td>\n",
       "      <td>4</td>\n",
       "      <td>2017</td>\n",
       "      <td>21/1/2017</td>\n",
       "      <td>ROSARIO G. GÓMEZ</td>\n",
       "      <td>ROSARIO G. GÓMEZ</td>\n",
       "      <td>1</td>\n",
       "      <td>...</td>\n",
       "      <td></td>\n",
       "      <td></td>\n",
       "      <td></td>\n",
       "      <td></td>\n",
       "      <td></td>\n",
       "      <td></td>\n",
       "      <td></td>\n",
       "      <td></td>\n",
       "      <td>Desde el monstruo de Frankenstein, descrito po...</td>\n",
       "      <td>monstruo frankenstein   descrito mary shelley ...</td>\n",
       "    </tr>\n",
       "  </tbody>\n",
       "</table>\n",
       "<p>4127 rows × 156 columns</p>\n",
       "</div>"
      ],
      "text/plain": [
       "      Unnamed: 0     N  n_periodico  \\\n",
       "0              0    12           12   \n",
       "1              1   438          276   \n",
       "2              2  1411          414   \n",
       "3              3  1418          421   \n",
       "4              4  1836          839   \n",
       "...          ...   ...          ...   \n",
       "4122        4130  4130         1325   \n",
       "4123        4131  4131         1326   \n",
       "4124        4132  4132         1327   \n",
       "4125        4133  4134         1329   \n",
       "4126        4134  4135         1330   \n",
       "\n",
       "                                                 enlace  Medio   año  \\\n",
       "0     https://www.infolibre.es/videolibre/como-lo-ve...      1  2021   \n",
       "1     https://www.lavanguardia.com/participacion/car...      2  2021   \n",
       "2     https://www.elmundo.es/economia/2020/04/08/5e8...      3  2020   \n",
       "3     https://www.elmundo.es/vida-sana/familia-y-co/...      3  2020   \n",
       "4     https://www.elmundo.es/papel/historias/2019/03...      3  2019   \n",
       "...                                                 ...    ...   ...   \n",
       "4122  https://elpais.com/tecnologia/2017/01/17/actua...      4  2017   \n",
       "4123  https://elpais.com/elpais/2017/01/05/eps/14835...      4  2017   \n",
       "4124  https://elpais.com/elpais/2017/01/18/eps/14846...      4  2017   \n",
       "4125  https://elpais.com/elpais/2017/01/15/opinion/1...      4  2017   \n",
       "4126  https://elpais.com/elpais/2017/01/20/opinion/1...      4  2017   \n",
       "\n",
       "           Fecha          Nombreperiodista        Nombreperiodista_A  \\\n",
       "0     10/10/2021         Antonio Contreras         ANTONIO CONTRERAS   \n",
       "1      28/1/2021   ANDREU YAKUBUV-TREMBACH   ANDREU YAKUBUV-TREMBACH   \n",
       "2       8/4/2020         EDUARDO FERNÁNDEZ         EDUARDO FERNÁNDEZ   \n",
       "3      20/3/2020                 MAR MUÑIZ                 MAR MUÑIZ   \n",
       "4       3/3/2019            FERMÍN ELIZARI            FERMÍN ELIZARI   \n",
       "...          ...                       ...                       ...   \n",
       "4122   18/1/2017            MARYA G. NIETO            MARYA G. NIETO   \n",
       "4123    5/1/2017  JAVIER MARTÍN DEL BARRIO  JAVIER MARTÍN DEL BARRIO   \n",
       "4124   18/1/2017           GUILLERMO ABRIL           GUILLERMO ABRIL   \n",
       "4125   16/1/2017            JOAQUÍN PRIETO            JOAQUÍN PRIETO   \n",
       "4126   21/1/2017          ROSARIO G. GÓMEZ          ROSARIO G. GÓMEZ   \n",
       "\n",
       "      Género_periodista  ... @25perspectiva  @25piedefoto  @26ge3ero1oto  \\\n",
       "0                     0  ...                                               \n",
       "1                     0  ...                                               \n",
       "2                     0  ...                                               \n",
       "3                     1  ...                                               \n",
       "4                     0  ...                                               \n",
       "...                 ...  ...            ...           ...            ...   \n",
       "4122                  1  ...                                               \n",
       "4123                  0  ...                                               \n",
       "4124                  0  ...                                               \n",
       "4125                  0  ...                                               \n",
       "4126                  1  ...                                               \n",
       "\n",
       "      @26perspectiva  @26piedefoto  @27ge3ero1oto  @27perspectiva  \\\n",
       "0                                                                   \n",
       "1                                                                   \n",
       "2                                                                   \n",
       "3                                                                   \n",
       "4                                                                   \n",
       "...              ...           ...            ...             ...   \n",
       "4122                                                                \n",
       "4123                                                                \n",
       "4124                                                                \n",
       "4125                                                                \n",
       "4126                                                                \n",
       "\n",
       "      @27piedefoto                                          contenido  \\\n",
       "0                   Antonio Lucas (Madrid, 1975) acaba de publicar...   \n",
       "1                   Distinguir entre las esferas íntima y privada ...   \n",
       "2                   Directo. Última hora sobre el coronavirus\\n\\nL...   \n",
       "3                   Coronavirus: ¿nos convalidarán Teleco por tele...   \n",
       "4                   15.000 personas de todo el mundo revisan las p...   \n",
       "...            ...                                                ...   \n",
       "4122                Dos algoritmos clave en el desarrollo de los a...   \n",
       "4123                RANA EL KALIOUBY no es una estrella de la canc...   \n",
       "4124                CUANDO ATERRIZÓ en España, en septiembre de 20...   \n",
       "4125                Las últimas campañas electorales celebradas en...   \n",
       "4126                Desde el monstruo de Frankenstein, descrito po...   \n",
       "\n",
       "                                        contenido_clean  \n",
       "0     antonio luca   madrid   1975   acabar publicar...  \n",
       "1     distinguir esfera íntimo privado vida persona ...  \n",
       "2     directo   último hora coronavirus lanzamiento ...  \n",
       "3     coronavirus    convalidacer teleco teletrabaja...  \n",
       "4     15 000 persona mundo revisar publicación recib...  \n",
       "...                                                 ...  \n",
       "4122  dos algoritmo clave desarrollo actual sistema ...  \n",
       "4123  ranar kaliouby estrella canción   sino tecnolo...  \n",
       "4124  aterrizar españa   septiembre 2013   embajador...  \n",
       "4125  último campaña electoral celebrado españa lanz...  \n",
       "4126  monstruo frankenstein   descrito mary shelley ...  \n",
       "\n",
       "[4127 rows x 156 columns]"
      ]
     },
     "execution_count": 26,
     "metadata": {},
     "output_type": "execute_result"
    }
   ],
   "source": [
    "import newspaper\n",
    "import pandas as pd\n",
    "from tqdm import tqdm\n",
    "\n",
    "data = pd.read_csv(\"data/contenido_clean_2023_04_05_matriz_not_julia.csv\")\n",
    "data"
   ]
  },
  {
   "cell_type": "code",
   "execution_count": 27,
   "metadata": {},
   "outputs": [
    {
     "data": {
      "text/plain": [
       "'La mayoría de foros femeninos ponen de manifiesto la falta de mujeres referentes para las generaciones más jóvenes. Acciones como las que lleva a cabo la Fundación Inspiring Girls, que ha galardonado a Alaska con el premio Mujer Inspiración Pionera, intentan paliar esta situación. Hablamos con ella.\\n\\nSole Giménez: \"La felicidad, de la que se habla mucho, es una actitud\"\\n\\nHace unos días se presentaba en el Jardín Botánico de Madrid la nueva edición del proyecto Inspiring Stories by Evax, un libro ilustrado que recoge historias de mujeres increíbles para inspirar a las jóvenes y que hagan realidad sus sueños, sin ningún tipo de límites. El libro se presentó en el marco de la gala de los premios Inspiring Girls en los que Alaska recibió el premio Mujer Inspiración Pionera. Además de ella, fueron galardonados Carlos Latre, premio Hombre Inspirador, y la diseñadora Agatha Ruiz de la Prada, premio Inspiración Artística.\\n\\nAcabas de cumplir 58 años. ¿Estás en el mejor momento de tu vida?\\n\\nNo lo sé, porque habrá que ver lo que viene después. Estaba mejor a los 50, eso lo tengo clarísimo, física y mentalmente. Aunque eso no quiere decir que no pueda estar mejor a los 68...\\n\\n¿Cambiarías algo de tu trayectoria profesional?\\n\\nNo, es la que yo he elegido con mis aciertos y mis errores. Y son MIS aciertos y MIS errores.\\n\\nAcabas de publicar con Fangoria \\'Existencialismo pop\\'. ¿Qué vamos a encontrar de nuevo en esta propuesta musical?\\n\\nComo su título indica es pop, pero con algo más, en las letras y en la producción. Es un álbum que ha surgido fruto del momento que vivimos.\\n\\nEn la canción \\'Momentismo absoluto\\', apostáis por el \\'carpe diem\\'. ¿No nos queda otra?\\n\\nNo es que no nos quede otra, es que es la vida. Al escuchar esta canción, todo el mundo la ha asociado a la pandemia, pero Nacho y yo pensamos en la vida. Nosotros somos un ejemplo de personas que en su carrera y en su vida han vivido así, al día, a lo que hay en cada momento.\\n\\n¿Cómo surgió la historia de este tema?\\n\\nSurgió por una frase de la genial vedette, cantante, actriz y presentadora argentina Moria Casán. Le hicieron una entrevista en la que ella estaba hablando de su vida sentimental y contestó que estaba en el \\'\\'momentismo absoluto\\'\". Nos pareció que reflejaba muy bien lo que queríamos contar.\\n\\nEn el libro \\'Inspiring Stories by Evax\\', ¿cuál de las siete historias te ha llegado más o te ha resultado más sorprendente?\\n\\nLa que más me llama la atención, por envidia insana, es la historia de la programadora de inteligencia artificial (IA) Nerea Luis. Lo más alucinante es que decide hacerse ingeniera gracias a Sailor Moon [personaje de la serie manga escrita e ilustrada por Naoko Takeuchi]. ¡Me parece maravilloso! Nos dicen que el manga, el cómic o lo pop no son inspiradores, que hay otras disciplinas más profundas, pero la inspiración está en cualquier sitio. Nerea, con 13 años, siendo fan de Sailor, se mete en internet a buscar información sobre ella, se da cuenta de que casi no hay y de que la que hay no está bien organizada. Entonces se pone a hacerlo ella. ¡Le tengo mucha envidia!\\n\\n¿Qué les dirías a las niñas que tienen una clara vocación profesional, sea la que sea, bombero o policía, para que no abandonen su sueño?\\n\\nQue piensen en esa vocación como una afición, que a lo mejor no se van a dedicar profesionalmente a ello, que quizás no van a vivir de eso... pero no tienen que abandonar su sueño. Yo sigo considerando que tengo una afición por la que a veces me pagan y otras me cuesta mucho dinero. No creo que puedas ser bombero como hobby, o quizás sí, trabajando como voluntario de Protección Civil en tus horas libres. Las vocaciones se pueden materializar siempre, no hay que frustrarse si no se convierten en una profesión. Si eso sucede, es un regalo. Así que, ¡adelante!\\n\\nTambién eres una de las galardonadas de los premios de la Fundación Inspiring Girls, ¿cuál crees que ha sido tu mensaje para recibir esta distinción?\\n\\nCon mi edad es muy fácil decirlo porque hay una trayectoria y podemos pararnos en muchos momentos de la historia de este país a través de la televisión y la música. Creo que se lo dan a mi yo de 14 años, que decide crear un grupo de música por las tardes, después del colegio, e iniciar lo que ella considera que es la vida real para así crear su mundo paralelo.\\n\\nEstás junto a grandes amigas, como Agatha Ruiz de la Prada. ¿Qué destacarías de esta artista multidisciplinar?\\n\\nTiene una trayectoria impresionante, pero yo me voy a la Agatha que conocí en los 80: esa chica que estaba esperando poder hacer sus diseños poniendo un hula-hoop a una falda y desfilando. Es una persona que ha sido dueña de su carrera y, quizás, las prendas que diseñaba no eran lo que su familia y la sociedad esperaban de ella. Yo recuerdo sus principios y lo que ella hace es un reflejo de lo que ella es.\\n\\n¿Qué mensaje le darías a las jóvenes que no saben qué hacer con su vida o que dudan sobre los estudios a elegir?\\n\\nEs algo en lo que es muy difícil aconsejar. Es muy fácil decirle a alguien que se dedique a lo que le gusta. Lo que me pasa últimamente es que te encuentras con mucha gente que no sabe ni lo que le gusta y ahí... ¡me desarman! Mi problema es poder elegir, hay muchas cosas que quiero hacer. Quizás ellas no han encontrado al profesor o a la persona adecuada que les descubra un nuevo mundo. Yo les diría que presten atención y que tengan los oídos y los ojos muy abiertos.\\n\\nPor último... ¿Un mensaje o consejo para que ellas sean dueñas de su vida?\\n\\nPrimero, no pidas consejos. Te tiene que importar cero lo que opinen los demás, ya sea con la mejor o la peor intención. No escuches consejos que no has pedido y lo que tengas en mente, hazlo. ¡Y punto!\\n\\n.\\n\\nConforme a los criterios de\\n\\nThe Trust Project\\n\\nSaber más'"
      ]
     },
     "execution_count": 27,
     "metadata": {},
     "output_type": "execute_result"
    }
   ],
   "source": [
    "articulo = data.iloc[19]\n",
    "articulo_text = articulo['contenido']\n",
    "articulo_text"
   ]
  },
  {
   "cell_type": "markdown",
   "metadata": {},
   "source": [
    "## 1. N Nº"
   ]
  },
  {
   "cell_type": "code",
   "execution_count": 28,
   "metadata": {},
   "outputs": [
    {
     "name": "stdout",
     "output_type": "stream",
     "text": [
      "1082\n"
     ]
    }
   ],
   "source": [
    "print(articulo['N'])"
   ]
  },
  {
   "cell_type": "markdown",
   "metadata": {},
   "source": [
    "## 2. Medio"
   ]
  },
  {
   "cell_type": "code",
   "execution_count": 29,
   "metadata": {},
   "outputs": [],
   "source": [
    "from urllib.parse import urlparse\n",
    "\n",
    "# Función para clasificar el medio según la URL\n",
    "def classify_media(url):\n",
    "    # Extraer el dominio de la URL\n",
    "    domain = urlparse(url).netloc.lower()\n",
    "    \n",
    "    # Diccionario de dominios y categorías\n",
    "    media_map = {\n",
    "        \"elmundo.es\": 1,\n",
    "        \"elpais.com\": 2,\n",
    "        \"eldiario.es\": 3,\n",
    "        \"20minutos.es\": 4,\n",
    "        \"articulo14.com\": 5,\n",
    "        \"infolibre.es\": 6 # datos 2023_04_05_matriz_not_julia\n",
    "    }\n",
    "    \n",
    "    # Buscar el dominio en el mapa\n",
    "    for key, value in media_map.items():\n",
    "        if key in domain:\n",
    "            return key, value\n",
    "    \n",
    "    # Si no coincide con ninguno, retornar None o 0\n",
    "    return 0"
   ]
  },
  {
   "cell_type": "code",
   "execution_count": 30,
   "metadata": {},
   "outputs": [
    {
     "name": "stdout",
     "output_type": "stream",
     "text": [
      "Medio: elmundo.es\n",
      "Categoría: 1\n"
     ]
    }
   ],
   "source": [
    "articulo_url = articulo['enlace']\n",
    "print(f\"Medio: {classify_media(articulo_url)[0]}\")\n",
    "print(f\"Categoría: {classify_media(articulo_url)[1]}\")"
   ]
  },
  {
   "cell_type": "markdown",
   "metadata": {},
   "source": [
    "## 3. N periódico"
   ]
  },
  {
   "cell_type": "code",
   "execution_count": 31,
   "metadata": {},
   "outputs": [
    {
     "name": "stdout",
     "output_type": "stream",
     "text": [
      "85\n"
     ]
    }
   ],
   "source": [
    "print(articulo['n_periodico'])"
   ]
  },
  {
   "cell_type": "markdown",
   "metadata": {},
   "source": [
    "## 4. Fecha"
   ]
  },
  {
   "cell_type": "code",
   "execution_count": 32,
   "metadata": {},
   "outputs": [
    {
     "name": "stdout",
     "output_type": "stream",
     "text": [
      "31/7/2021\n"
     ]
    }
   ],
   "source": [
    "print(articulo['Fecha'])"
   ]
  },
  {
   "cell_type": "markdown",
   "metadata": {},
   "source": [
    "## 5. Enlace"
   ]
  },
  {
   "cell_type": "code",
   "execution_count": 33,
   "metadata": {},
   "outputs": [
    {
     "name": "stdout",
     "output_type": "stream",
     "text": [
      "https://www.elmundo.es/yodona/actualidad/2021/07/31/60ffff9f21efa02c558b458c.html\n"
     ]
    }
   ],
   "source": [
    "print(articulo_url)"
   ]
  },
  {
   "cell_type": "markdown",
   "metadata": {},
   "source": [
    "## 6. Titular. Copia el titular"
   ]
  },
  {
   "cell_type": "code",
   "execution_count": 34,
   "metadata": {},
   "outputs": [
    {
     "name": "stdout",
     "output_type": "stream",
     "text": [
      "Alaska: ''A las jóvenes les tiene que importar cero lo que opinen los demás''\n"
     ]
    }
   ],
   "source": [
    "articulo_titular = articulo['Titular']\n",
    "print(articulo_titular)"
   ]
  },
  {
   "cell_type": "markdown",
   "metadata": {},
   "source": [
    "## 7. Nombre propio titular"
   ]
  },
  {
   "cell_type": "code",
   "execution_count": 35,
   "metadata": {},
   "outputs": [
    {
     "name": "stdout",
     "output_type": "stream",
     "text": [
      "2025-02-26 11:43:48,726 SequenceTagger predicts: Dictionary with 20 tags: <unk>, O, S-LOC, S-ORG, B-PER, I-PER, E-PER, S-MISC, B-ORG, E-ORG, S-PER, I-ORG, B-LOC, E-LOC, B-MISC, E-MISC, I-MISC, I-LOC, <START>, <STOP>\n",
      "Nombres propios: ['Alaska']\n",
      "Nombre completo: Alaska, Género: female\n",
      "(Pred) Categoría: 2\n",
      "(Real) Categoría: 2\n"
     ]
    }
   ],
   "source": [
    "from flair.models import SequenceTagger\n",
    "from flair.data import Sentence\n",
    "import requests\n",
    "\n",
    "# Cargar el modelo de NER\n",
    "tagger = SequenceTagger.load(\"flair/ner-spanish-large\")\n",
    "\n",
    "# Procesar el texto con Flair\n",
    "sentence = Sentence(articulo_titular)\n",
    "tagger.predict(sentence)\n",
    "\n",
    "# Identificar nombres propios (PERSON)\n",
    "names = [entity.text for entity in sentence.get_spans('ner') if entity.tag == \"PER\"]\n",
    "print(\"Nombres propios:\", names)\n",
    "\n",
    "# Función para obtener el primer nombre\n",
    "def get_first_name(full_name):\n",
    "    return full_name.split()[0]\n",
    "\n",
    "# Función para determinar género con Genderize.io\n",
    "def get_gender_with_genderize(name):\n",
    "    response = requests.get(f\"https://api.genderize.io?name={name}\")\n",
    "    if response.status_code == 200:\n",
    "        data = response.json()\n",
    "        return data.get(\"gender\")  # Retorna género ('male', 'female' o None)\n",
    "    else:\n",
    "        print(f\"Error con el nombre {name}: {response.status_code}\")\n",
    "        return None\n",
    "\n",
    "# Clasificar nombres en géneros\n",
    "genders = {\"male\": 0, \"female\": 0}\n",
    "\n",
    "# Procesar la lista de nombres completos\n",
    "for full_name in names:\n",
    "    first_name = get_first_name(full_name)\n",
    "    gender = get_gender_with_genderize(first_name)\n",
    "    print(f\"Nombre completo: {full_name}, Género: {gender}\")\n",
    "    if gender == \"male\":\n",
    "        genders[\"male\"] += 1\n",
    "    elif gender == \"female\":\n",
    "        genders[\"female\"] += 1\n",
    "\n",
    "# Determinar la categoría\n",
    "if genders[\"male\"] == 0 and genders[\"female\"] == 0:\n",
    "    category = 0  # No hay nombres\n",
    "elif genders[\"male\"] > 0 and genders[\"female\"] == 0:\n",
    "    category = 1  # Solo hombres\n",
    "elif genders[\"female\"] > 0 and genders[\"male\"] == 0:\n",
    "    category = 2  # Solo mujeres\n",
    "else:\n",
    "    category = 3  # Hombres y mujeres\n",
    "\n",
    "\n",
    "print(f\"(Pred) Categoría: {category}\")\n",
    "print(f\"(Real) Categoría: {articulo['Nombre_propio_en_el_titular']}\")"
   ]
  },
  {
   "cell_type": "markdown",
   "metadata": {},
   "source": [
    "## 8. Cita en el titular"
   ]
  },
  {
   "cell_type": "code",
   "execution_count": 36,
   "metadata": {},
   "outputs": [
    {
     "name": "stdout",
     "output_type": "stream",
     "text": [
      "2025-02-26 11:43:59,407 SequenceTagger predicts: Dictionary with 20 tags: <unk>, O, S-LOC, S-ORG, B-PER, I-PER, E-PER, S-MISC, B-ORG, E-ORG, S-PER, I-ORG, B-LOC, E-LOC, B-MISC, E-MISC, I-MISC, I-LOC, <START>, <STOP>\n"
     ]
    }
   ],
   "source": [
    "import re\n",
    "from flair.data import Sentence\n",
    "from flair.models import SequenceTagger\n",
    "from transformers import pipeline\n",
    "from IPython.display import display, HTML\n",
    "\n",
    "# Cargar modelo de NER en español (Flair)\n",
    "tagger = SequenceTagger.load(\"flair/ner-spanish-large\")\n",
    "\n",
    "# Modelo opcional Zero-Shot para clasificar citas\n",
    "zero_shot_classifier = pipeline(\"zero-shot-classification\", model=\"facebook/bart-large-mnli\")\n",
    "\n",
    "# Función para extraer fuentes con NER\n",
    "def extract_sources(text):\n",
    "    sentence = Sentence(text)\n",
    "    tagger.predict(sentence)\n",
    "   \n",
    "    sources = set()\n",
    "    for entity in sentence.get_spans(\"ner\"):\n",
    "        if entity.tag in [\"PER\", \"ORG\"]:  # Solo personas y organizaciones\n",
    "            sources.add(entity.text)\n",
    "   \n",
    "    return list(sources)\n",
    "\n",
    "# Función para extraer citas directas (entre comillas)\n",
    "def extract_explicit_quotes(text):\n",
    "    pattern = r'([\"“][^\"“”]+[\"”])'  # Busca texto entre comillas\n",
    "    quotes = re.findall(pattern, text)\n",
    "    return [{\"source\": \"Desconocido\", \"quote\": quote} for quote in quotes]\n",
    "\n",
    "# Función para extraer citas indirectas junto con su fuente\n",
    "def extract_indirect_quotes(text):\n",
    "    pattern = r'([A-ZÁÉÍÓÚ][a-záéíóú]+(?:\\s[A-ZÁÉÍÓÚ][a-záéíóú]+)?)?\\s*(dijo|afirmó|expresó|mencionó|declaró|aseguró|comentó|indicó)\\s*([^\\.\\n]+)'\n",
    "    matches = re.findall(pattern, text, re.IGNORECASE)\n",
    "   \n",
    "    extracted_quotes = []\n",
    "    for match in matches:\n",
    "        source = match[0].strip() if match[0] else \"Desconocido\"\n",
    "        verb = match[1]\n",
    "        quote = match[2].strip()\n",
    "       \n",
    "        extracted_quotes.append({\"source\": source, \"verb\": verb, \"quote\": quote})\n",
    "   \n",
    "    return extracted_quotes\n",
    "\n",
    "# Función para validar con zero-shot classification\n",
    "def validate_with_zero_shot(text):\n",
    "    candidate_labels = [\"cita\", \"sin cita\"]\n",
    "    result = zero_shot_classifier(text, candidate_labels)\n",
    "    return result[\"labels\"][0] == \"cita\"\n",
    "\n",
    "# Función combinada para detectar citas junto con la fuente\n",
    "def detect_and_extract_quotes(text, use_zero_shot=False):\n",
    "    explicit_quotes = extract_explicit_quotes(text)\n",
    "    indirect_quotes = extract_indirect_quotes(text)\n",
    "   \n",
    "    sources = extract_sources(text)\n",
    "\n",
    "    has_quote = bool(explicit_quotes or indirect_quotes)\n",
    "    if not has_quote and use_zero_shot:\n",
    "        has_quote = validate_with_zero_shot(text)\n",
    "   \n",
    "    return {\n",
    "        \"has_quote\": int(has_quote),\n",
    "        \"explicit_quotes\": explicit_quotes,\n",
    "        \"indirect_quotes\": indirect_quotes,\n",
    "        \"sources\": sources\n",
    "    }\n",
    "\n",
    "# Función para resaltar citas y fuentes en HTML\n",
    "def highlight_quotes_html(text):\n",
    "    text = re.sub(r'([\"“][^\"“”]+[\"”])', r'<span class=\"explicit-quote\">\\1</span>', text)\n",
    "    text = re.sub(r'([A-ZÁÉÍÓÚ][a-záéíóú]+(?:\\s[A-ZÁÉÍÓÚ][a-záéíóú]+)?)?\\s*(dijo|afirmó|expresó|mencionó|declaró|aseguró|comentó|indicó)\\s*([^\\.\\n]+)',\n",
    "                  r'<span class=\"source\">\\1</span> <span class=\"verb\">\\2</span> <span class=\"indirect-quote\">\\3</span>', text, flags=re.IGNORECASE)\n",
    "    return text"
   ]
  },
  {
   "cell_type": "code",
   "execution_count": 37,
   "metadata": {},
   "outputs": [
    {
     "name": "stdout",
     "output_type": "stream",
     "text": [
      "(Pred) Cita en el titular: {'has_quote': 0, 'explicit_quotes': [], 'indirect_quotes': [], 'sources': ['Alaska']}\n",
      "(Real) Cita en el titular: 1\n"
     ]
    },
    {
     "data": {
      "text/html": [
       "\n",
       "<style>\n",
       "    .explicit-quote { color: red; font-weight: bold; }\n",
       "    .indirect-quote { color: blue; font-style: italic; }\n",
       "    .source { color: green; font-weight: bold; }\n",
       "    .verb { color: purple; }\n",
       "</style>\n",
       "<p>Alaska: ''A las jóvenes les tiene que importar cero lo que opinen los demás''</p>\n"
      ],
      "text/plain": [
       "<IPython.core.display.HTML object>"
      ]
     },
     "metadata": {},
     "output_type": "display_data"
    }
   ],
   "source": [
    "# Detectar y extraer citas\n",
    "quote_info = detect_and_extract_quotes(articulo_titular)\n",
    "print(f\"(Pred) Cita en el titular: {quote_info}\")\n",
    "print(f\"(Real) Cita en el titular: {articulo['Cita_en_titular']}\")\n",
    "\n",
    "# Generar HTML con citas y fuentes resaltadas\n",
    "html_content = f\"\"\"\n",
    "<style>\n",
    "    .explicit-quote {{ color: red; font-weight: bold; }}\n",
    "    .indirect-quote {{ color: blue; font-style: italic; }}\n",
    "    .source {{ color: green; font-weight: bold; }}\n",
    "    .verb {{ color: purple; }}\n",
    "</style>\n",
    "<p>{highlight_quotes_html(articulo_titular)}</p>\n",
    "\"\"\"\n",
    "\n",
    "# Mostrar HTML en Jupyter Notebook\n",
    "display(HTML(html_content))"
   ]
  },
  {
   "cell_type": "markdown",
   "metadata": {},
   "source": [
    "## 9. Género personas que aparecen en la información"
   ]
  },
  {
   "cell_type": "markdown",
   "metadata": {},
   "source": [
    "### NER (tag de persona)"
   ]
  },
  {
   "cell_type": "code",
   "execution_count": 38,
   "metadata": {},
   "outputs": [
    {
     "name": "stdout",
     "output_type": "stream",
     "text": [
      "2025-02-26 11:44:10,994 SequenceTagger predicts: Dictionary with 20 tags: <unk>, O, S-LOC, S-ORG, B-PER, I-PER, E-PER, S-MISC, B-ORG, E-ORG, S-PER, I-ORG, B-LOC, E-LOC, B-MISC, E-MISC, I-MISC, I-LOC, <START>, <STOP>\n",
      "Nombres detectados: ['Alaska', 'Sole Giménez', 'Alaska', 'Carlos Latre', 'Agatha Ruiz de la Prada', 'Nacho', 'Moria Casán', 'Nerea Luis', 'Naoko Takeuchi', 'Nerea', 'Agatha Ruiz de la Prada', 'Agatha']\n",
      "Nombre completo: Alaska, Género: female\n",
      "Nombre completo: Sole Giménez, Género: female\n",
      "Nombre completo: Alaska, Género: female\n",
      "Nombre completo: Carlos Latre, Género: male\n",
      "Nombre completo: Agatha Ruiz de la Prada, Género: female\n",
      "Nombre completo: Nacho, Género: male\n",
      "Nombre completo: Moria Casán, Género: female\n",
      "Nombre completo: Nerea Luis, Género: female\n",
      "Nombre completo: Naoko Takeuchi, Género: female\n",
      "Nombre completo: Nerea, Género: female\n",
      "Nombre completo: Agatha Ruiz de la Prada, Género: female\n",
      "Nombre completo: Agatha, Género: female\n",
      "\n",
      "\n",
      "(Pred) Género predominante en la información: 2\n",
      "(Real) Género predominante en la información: 2\n"
     ]
    }
   ],
   "source": [
    "from flair.models import SequenceTagger\n",
    "from flair.data import Sentence\n",
    "import requests\n",
    "\n",
    "# Configurar el modelo de NER (Reconocimiento de Entidades Nombradas)\n",
    "tagger = SequenceTagger.load(\"flair/ner-spanish-large\")\n",
    "\n",
    "# Procesar el texto con Flair\n",
    "sentence = Sentence(articulo_text)\n",
    "tagger.predict(sentence)\n",
    "\n",
    "# Extraer entidades PERSON\n",
    "names = [entity.text for entity in sentence.get_spans('ner') if entity.tag == \"PER\"]\n",
    "print(\"Nombres detectados:\", names)\n",
    "\n",
    "# Contar géneros\n",
    "genders = {\"male\": 0, \"female\": 0}\n",
    "\n",
    "# Procesar los nombres detectados\n",
    "for full_name in names:\n",
    "    first_name = get_first_name(full_name)  # Extraer el primer nombre\n",
    "    gender = get_gender_with_genderize(first_name)  # Determinar género\n",
    "    print(f\"Nombre completo: {full_name}, Género: {gender}\")\n",
    "    if gender == \"male\":\n",
    "        genders[\"male\"] += 1\n",
    "    elif gender == \"female\":\n",
    "        genders[\"female\"] += 1\n",
    "\n",
    "# Clasificar el género predominante\n",
    "if genders[\"male\"] > 0 and genders[\"female\"] == 0:\n",
    "    category = 0  # Masculino\n",
    "elif genders[\"female\"] > 0 and genders[\"male\"] == 0:\n",
    "    category = 1  # Femenino\n",
    "elif genders[\"male\"] > 0 and genders[\"female\"] > 0:\n",
    "    category = 2  # Mixto\n",
    "else:\n",
    "    category = 3  # Neutro (no se detectaron personas)\n",
    "\n",
    "print(\"\\n\")\n",
    "print(f\"(Pred) Género predominante en la información: {category}\")\n",
    "print(f\"(Real) Género predominante en la información: {articulo['Genero_protagonista']}\")\n"
   ]
  },
  {
   "cell_type": "markdown",
   "metadata": {},
   "source": [
    "### Zero-shot"
   ]
  },
  {
   "cell_type": "code",
   "execution_count": 39,
   "metadata": {},
   "outputs": [
    {
     "name": "stdout",
     "output_type": "stream",
     "text": [
      "Clasificación Zero-Shot: mixto\n"
     ]
    }
   ],
   "source": [
    "from transformers import pipeline\n",
    "\n",
    "# Configurar modelo Zero-Shot\n",
    "zero_shot_classifier = pipeline(\"zero-shot-classification\", model=\"facebook/bart-large-mnli\")\n",
    "\n",
    "# Etiquetas candidatas\n",
    "candidate_labels = [\"solo hombres\", \"solo mujeres\", \"mixto\", \"neutro\"]\n",
    "\n",
    "# Clasificación Zero-Shot\n",
    "result = zero_shot_classifier(articulo_text, candidate_labels)\n",
    "print(\"Clasificación Zero-Shot:\", result[\"labels\"][0])  # Categoría más probable\n"
   ]
  },
  {
   "cell_type": "markdown",
   "metadata": {},
   "source": [
    "## 10. Tema"
   ]
  },
  {
   "cell_type": "code",
   "execution_count": 40,
   "metadata": {},
   "outputs": [
    {
     "ename": "NameError",
     "evalue": "name 'article' is not defined",
     "output_type": "error",
     "traceback": [
      "\u001b[0;31m---------------------------------------------------------------------------\u001b[0m",
      "\u001b[0;31mNameError\u001b[0m                                 Traceback (most recent call last)",
      "Cell \u001b[0;32mIn[40], line 6\u001b[0m\n\u001b[1;32m      2\u001b[0m \u001b[38;5;28;01mfrom\u001b[39;00m \u001b[38;5;21;01mtransformers\u001b[39;00m \u001b[38;5;28;01mimport\u001b[39;00m pipeline\n\u001b[1;32m      4\u001b[0m classifier \u001b[38;5;241m=\u001b[39m pipeline(\u001b[38;5;124m\"\u001b[39m\u001b[38;5;124mzero-shot-classification\u001b[39m\u001b[38;5;124m\"\u001b[39m, model\u001b[38;5;241m=\u001b[39m\u001b[38;5;124m\"\u001b[39m\u001b[38;5;124mfacebook/bart-large-mnli\u001b[39m\u001b[38;5;124m\"\u001b[39m)\n\u001b[0;32m----> 6\u001b[0m news_text \u001b[38;5;241m=\u001b[39m \u001b[43marticle\u001b[49m\u001b[38;5;241m.\u001b[39mtext\n\u001b[1;32m      7\u001b[0m candidate_labels \u001b[38;5;241m=\u001b[39m [\n\u001b[1;32m      8\u001b[0m     \u001b[38;5;124m\"\u001b[39m\u001b[38;5;124mEconomía\u001b[39m\u001b[38;5;124m\"\u001b[39m, \u001b[38;5;124m\"\u001b[39m\u001b[38;5;124mExpertos/as en IA\u001b[39m\u001b[38;5;124m\"\u001b[39m, \u001b[38;5;124m\"\u001b[39m\u001b[38;5;124mPolítica\u001b[39m\u001b[38;5;124m\"\u001b[39m, \u001b[38;5;124m\"\u001b[39m\u001b[38;5;124mEmpresa\u001b[39m\u001b[38;5;124m\"\u001b[39m, \u001b[38;5;124m\"\u001b[39m\u001b[38;5;124mRobótica\u001b[39m\u001b[38;5;124m\"\u001b[39m,\n\u001b[1;32m      9\u001b[0m     \u001b[38;5;124m\"\u001b[39m\u001b[38;5;124mAplicaciones / software\u001b[39m\u001b[38;5;124m\"\u001b[39m, \u001b[38;5;124m\"\u001b[39m\u001b[38;5;124mComunicación\u001b[39m\u001b[38;5;124m\"\u001b[39m, \u001b[38;5;124m\"\u001b[39m\u001b[38;5;124mInvestigación\u001b[39m\u001b[38;5;124m\"\u001b[39m, \u001b[38;5;124m\"\u001b[39m\u001b[38;5;124mAlgoritmo\u001b[39m\u001b[38;5;124m\"\u001b[39m,\n\u001b[1;32m     10\u001b[0m     \u001b[38;5;124m\"\u001b[39m\u001b[38;5;124mSesgos de género\u001b[39m\u001b[38;5;124m\"\u001b[39m, \u001b[38;5;124m\"\u001b[39m\u001b[38;5;124mSesgos de género y raza\u001b[39m\u001b[38;5;124m\"\u001b[39m, \u001b[38;5;124m\"\u001b[39m\u001b[38;5;124mPremio\u001b[39m\u001b[38;5;124m\"\u001b[39m, \u001b[38;5;124m\"\u001b[39m\u001b[38;5;124mEducación/cultura\u001b[39m\u001b[38;5;124m\"\u001b[39m, \u001b[38;5;124m\"\u001b[39m\u001b[38;5;124mOtros\u001b[39m\u001b[38;5;124m\"\u001b[39m\n\u001b[1;32m     11\u001b[0m ]\n\u001b[1;32m     13\u001b[0m result \u001b[38;5;241m=\u001b[39m classifier(news_text, candidate_labels)\n",
      "\u001b[0;31mNameError\u001b[0m: name 'article' is not defined"
     ]
    }
   ],
   "source": [
    "import tqdm as notebook_tqdm\n",
    "from transformers import pipeline\n",
    "\n",
    "classifier = pipeline(\"zero-shot-classification\", model=\"facebook/bart-large-mnli\")\n",
    "\n",
    "news_text = article.text\n",
    "candidate_labels = [\n",
    "    \"Economía\", \"Expertos/as en IA\", \"Política\", \"Empresa\", \"Robótica\",\n",
    "    \"Aplicaciones / software\", \"Comunicación\", \"Investigación\", \"Algoritmo\",\n",
    "    \"Sesgos de género\", \"Sesgos de género y raza\", \"Premio\", \"Educación/cultura\", \"Otros\"\n",
    "]\n",
    "\n",
    "result = classifier(news_text, candidate_labels)"
   ]
  },
  {
   "cell_type": "code",
   "execution_count": null,
   "metadata": {},
   "outputs": [],
   "source": [
    "print(\"Categoría más probable:\", result[\"labels\"][0])\n",
    "print(\"Probabilidad:\", result[\"scores\"][0])\n",
    "print(result[\"labels\"])\n",
    "print(result[\"scores\"])"
   ]
  },
  {
   "cell_type": "markdown",
   "metadata": {},
   "source": [
    "## 11. IA tema central"
   ]
  },
  {
   "cell_type": "code",
   "execution_count": null,
   "metadata": {},
   "outputs": [],
   "source": [
    "from transformers import pipeline\n",
    "\n",
    "classifier = pipeline(\"zero-shot-classification\", model=\"facebook/bart-large-mnli\")\n",
    "\n",
    "news_text = article.text\n",
    "candidate_labels = [\n",
    "    \"IA es el tema principal del texto\", \"IA no es el tema principal del texto\"\n",
    "]\n",
    "\n",
    "result = classifier(news_text, candidate_labels)"
   ]
  },
  {
   "cell_type": "code",
   "execution_count": null,
   "metadata": {},
   "outputs": [],
   "source": [
    "# Determinar si el tema central es IA\n",
    "is_ia = 1 if result[\"labels\"][0] == \"IA es el tema principal del texto\" else 0\n",
    "print(\"IA tema central:\", is_ia)"
   ]
  },
  {
   "cell_type": "markdown",
   "metadata": {},
   "source": [
    "## 12. Número de caracteres sin espacios: escribir nº"
   ]
  },
  {
   "cell_type": "code",
   "execution_count": null,
   "metadata": {},
   "outputs": [],
   "source": [
    "# Contar caracteres sin espacios\n",
    "num_characters_no_spaces = len(articulo_text.replace(\" \", \"\"))\n",
    "\n",
    "print(f\"(Pred) Número de caracteres sin espacios: {num_characters_no_spaces}\")\n",
    "print(f\"(Real) Número de caracteres sin espacios: {articulo['ncaracteres']}\")"
   ]
  },
  {
   "cell_type": "markdown",
   "metadata": {},
   "source": [
    "## 13. Nombre periodista = escribe su nombre o el de la agencia"
   ]
  },
  {
   "cell_type": "code",
   "execution_count": null,
   "metadata": {},
   "outputs": [],
   "source": [
    "articulo_periodista = articulo['Nombreperiodista']\n",
    "print(\"Periodistas:\", articulo_periodista) # article.authors"
   ]
  },
  {
   "cell_type": "markdown",
   "metadata": {},
   "source": [
    "## 14. Género periodista"
   ]
  },
  {
   "cell_type": "code",
   "execution_count": null,
   "metadata": {},
   "outputs": [],
   "source": [
    "from transformers import pipeline\n",
    "\n",
    "# Configurar el modelo zero-shot classification\n",
    "classifier = pipeline(\"zero-shot-classification\", model=\"facebook/bart-large-mnli\")\n",
    "\n",
    "# Función para clasificar autores usando Zero-Shot\n",
    "def classify_authors_zero_shot(authors):\n",
    "    # Categoría predeterminada si no hay autores\n",
    "    if not authors:\n",
    "        return 3  # Ns/Nc\n",
    "    \n",
    "    # Texto que describe los autores\n",
    "    authors_text = \" y \".join(authors)\n",
    "\n",
    "    # Etiquetas candidatas\n",
    "    candidate_labels = [\n",
    "        \"solo hombres\",\n",
    "        \"solo mujeres\",\n",
    "        \"hombres y mujeres\",\n",
    "        \"sin especificar\",\n",
    "        \"agencia\",\n",
    "        \"redacción\"\n",
    "    ]\n",
    "\n",
    "    # Clasificar el texto usando zero-shot\n",
    "    result = classifier(authors_text, candidate_labels)\n",
    "    top_label = result[\"labels\"][0]\n",
    "\n",
    "    # Mapear etiquetas a categorías\n",
    "    label_to_category = {\n",
    "        \"solo hombres\": 0,\n",
    "        \"solo mujeres\": 1,\n",
    "        \"hombres y mujeres\": 2,\n",
    "        \"sin especificar\": 3,\n",
    "        \"agencia\": 4,\n",
    "        \"redacción\": 5\n",
    "    }\n",
    "\n",
    "    return label_to_category.get(top_label, 3)  # Retornar categoría o 3 (Ns/Nc) como predeterminada"
   ]
  },
  {
   "cell_type": "code",
   "execution_count": null,
   "metadata": {},
   "outputs": [],
   "source": [
    "# Mapear etiquetas a categorías\n",
    "label_to_category = {\n",
    "    \"solo hombres\": 0,\n",
    "    \"solo mujeres\": 1,\n",
    "    \"hombres y mujeres\": 2,\n",
    "    \"sin especificar\": 3,\n",
    "    \"agencia\": 4,\n",
    "    \"redacción\": 5\n",
    "}\n",
    "\n",
    "# Contar géneros\n",
    "genders = {\"male\": 0, \"female\": 0}\n",
    "\n",
    "# Procesar los nombres detectados\n",
    "first_name = get_first_name(articulo_periodista)  # Extraer el primer nombre\n",
    "gender = get_gender_with_genderize(first_name)  # Determinar género\n",
    "print(f\"Nombre completo: {articulo_periodista}, Género: {gender}\")\n",
    "\n",
    "\n",
    "if gender == \"male\":\n",
    "    genders[\"male\"] += 1\n",
    "elif gender == \"female\":\n",
    "    genders[\"female\"] += 1\n",
    "\n",
    "# Clasificar el género predominante\n",
    "if genders[\"male\"] > 0 and genders[\"female\"] == 0:\n",
    "    category = 0  # Masculino\n",
    "elif genders[\"female\"] > 0 and genders[\"male\"] == 0:\n",
    "    category = 1  # Femenino\n",
    "elif genders[\"male\"] > 0 and genders[\"female\"] > 0:\n",
    "    category = 2  # Mixto\n",
    "else:\n",
    "    category = 3  # Neutro (no se detectaron personas)\n",
    "\n",
    "print(f\"(Pred) Categoría de género del periodista: {category}\")\n",
    "print(f\"(Real) Categoría de género del periodista: {articulo['Género_periodista']}\")"
   ]
  },
  {
   "cell_type": "markdown",
   "metadata": {},
   "source": [
    "## 20. Utiliza Fuentes"
   ]
  },
  {
   "cell_type": "code",
   "execution_count": 41,
   "metadata": {},
   "outputs": [
    {
     "name": "stdout",
     "output_type": "stream",
     "text": [
      "(Pred) Cita en el titular: {'has_quote': 1, 'explicit_quotes': [{'source': 'Desconocido', 'quote': '\"La felicidad, de la que se habla mucho, es una actitud\"'}], 'indirect_quotes': [], 'sources': ['Agatha', 'Naoko Takeuchi', 'Moria Casán', 'Nerea', 'Carlos Latre', 'Protección Civil', 'Nerea Luis', 'Nacho', 'Fangoria', 'Fundación Inspiring Girls', 'Agatha Ruiz de la Prada', 'Sole Giménez', 'Alaska']}\n",
      "(Real) Cita en el titular: 1\n",
      "Citas directas: [{'source': 'Desconocido', 'quote': '\"La felicidad, de la que se habla mucho, es una actitud\"'}]\n",
      "Citas indirectas: []\n"
     ]
    },
    {
     "data": {
      "text/html": [
       "\n",
       "<style>\n",
       "    .explicit-quote { color: red; font-weight: bold; }\n",
       "    .indirect-quote { color: blue; font-style: italic; }\n",
       "    .source { color: green; font-weight: bold; }\n",
       "    .verb { color: purple; }\n",
       "</style>\n",
       "<p>La mayoría de foros femeninos ponen de manifiesto la falta de mujeres referentes para las generaciones más jóvenes. Acciones como las que lleva a cabo la Fundación Inspiring Girls, que ha galardonado a Alaska con el premio Mujer Inspiración Pionera, intentan paliar esta situación. Hablamos con ella.\n",
       "\n",
       "Sole Giménez: <span class=\"explicit-quote\">\"La felicidad, de la que se habla mucho, es una actitud\"</span>\n",
       "\n",
       "Hace unos días se presentaba en el Jardín Botánico de Madrid la nueva edición del proyecto Inspiring Stories by Evax, un libro ilustrado que recoge historias de mujeres increíbles para inspirar a las jóvenes y que hagan realidad sus sueños, sin ningún tipo de límites. El libro se presentó en el marco de la gala de los premios Inspiring Girls en los que Alaska recibió el premio Mujer Inspiración Pionera. Además de ella, fueron galardonados Carlos Latre, premio Hombre Inspirador, y la diseñadora Agatha Ruiz de la Prada, premio Inspiración Artística.\n",
       "\n",
       "Acabas de cumplir 58 años. ¿Estás en el mejor momento de tu vida?\n",
       "\n",
       "No lo sé, porque habrá que ver lo que viene después. Estaba mejor a los 50, eso lo tengo clarísimo, física y mentalmente. Aunque eso no quiere decir que no pueda estar mejor a los 68...\n",
       "\n",
       "¿Cambiarías algo de tu trayectoria profesional?\n",
       "\n",
       "No, es la que yo he elegido con mis aciertos y mis errores. Y son MIS aciertos y MIS errores.\n",
       "\n",
       "Acabas de publicar con Fangoria 'Existencialismo pop'. ¿Qué vamos a encontrar de nuevo en esta propuesta musical?\n",
       "\n",
       "Como su título indica es pop, pero con algo más, en las letras y en la producción. Es un álbum que ha surgido fruto del momento que vivimos.\n",
       "\n",
       "En la canción 'Momentismo absoluto', apostáis por el 'carpe diem'. ¿No nos queda otra?\n",
       "\n",
       "No es que no nos quede otra, es que es la vida. Al escuchar esta canción, todo el mundo la ha asociado a la pandemia, pero Nacho y yo pensamos en la vida. Nosotros somos un ejemplo de personas que en su carrera y en su vida han vivido así, al día, a lo que hay en cada momento.\n",
       "\n",
       "¿Cómo surgió la historia de este tema?\n",
       "\n",
       "Surgió por una frase de la genial vedette, cantante, actriz y presentadora argentina Moria Casán. Le hicieron una entrevista en la que ella estaba hablando de su vida sentimental y contestó que estaba en el ''momentismo absoluto'\". Nos pareció que reflejaba muy bien lo que queríamos contar.\n",
       "\n",
       "En el libro 'Inspiring Stories by Evax', ¿cuál de las siete historias te ha llegado más o te ha resultado más sorprendente?\n",
       "\n",
       "La que más me llama la atención, por envidia insana, es la historia de la programadora de inteligencia artificial (IA) Nerea Luis. Lo más alucinante es que decide hacerse ingeniera gracias a Sailor Moon [personaje de la serie manga escrita e ilustrada por Naoko Takeuchi]. ¡Me parece maravilloso! Nos dicen que el manga, el cómic o lo pop no son inspiradores, que hay otras disciplinas más profundas, pero la inspiración está en cualquier sitio. Nerea, con 13 años, siendo fan de Sailor, se mete en internet a buscar información sobre ella, se da cuenta de que casi no hay y de que la que hay no está bien organizada. Entonces se pone a hacerlo ella. ¡Le tengo mucha envidia!\n",
       "\n",
       "¿Qué les dirías a las niñas que tienen una clara vocación profesional, sea la que sea, bombero o policía, para que no abandonen su sueño?\n",
       "\n",
       "Que piensen en esa vocación como una afición, que a lo mejor no se van a dedicar profesionalmente a ello, que quizás no van a vivir de eso... pero no tienen que abandonar su sueño. Yo sigo considerando que tengo una afición por la que a veces me pagan y otras me cuesta mucho dinero. No creo que puedas ser bombero como hobby, o quizás sí, trabajando como voluntario de Protección Civil en tus horas libres. Las vocaciones se pueden materializar siempre, no hay que frustrarse si no se convierten en una profesión. Si eso sucede, es un regalo. Así que, ¡adelante!\n",
       "\n",
       "También eres una de las galardonadas de los premios de la Fundación Inspiring Girls, ¿cuál crees que ha sido tu mensaje para recibir esta distinción?\n",
       "\n",
       "Con mi edad es muy fácil decirlo porque hay una trayectoria y podemos pararnos en muchos momentos de la historia de este país a través de la televisión y la música. Creo que se lo dan a mi yo de 14 años, que decide crear un grupo de música por las tardes, después del colegio, e iniciar lo que ella considera que es la vida real para así crear su mundo paralelo.\n",
       "\n",
       "Estás junto a grandes amigas, como Agatha Ruiz de la Prada. ¿Qué destacarías de esta artista multidisciplinar?\n",
       "\n",
       "Tiene una trayectoria impresionante, pero yo me voy a la Agatha que conocí en los 80: esa chica que estaba esperando poder hacer sus diseños poniendo un hula-hoop a una falda y desfilando. Es una persona que ha sido dueña de su carrera y, quizás, las prendas que diseñaba no eran lo que su familia y la sociedad esperaban de ella. Yo recuerdo sus principios y lo que ella hace es un reflejo de lo que ella es.\n",
       "\n",
       "¿Qué mensaje le darías a las jóvenes que no saben qué hacer con su vida o que dudan sobre los estudios a elegir?\n",
       "\n",
       "Es algo en lo que es muy difícil aconsejar. Es muy fácil decirle a alguien que se dedique a lo que le gusta. Lo que me pasa últimamente es que te encuentras con mucha gente que no sabe ni lo que le gusta y ahí... ¡me desarman! Mi problema es poder elegir, hay muchas cosas que quiero hacer. Quizás ellas no han encontrado al profesor o a la persona adecuada que les descubra un nuevo mundo. Yo les diría que presten atención y que tengan los oídos y los ojos muy abiertos.\n",
       "\n",
       "Por último... ¿Un mensaje o consejo para que ellas sean dueñas de su vida?\n",
       "\n",
       "Primero, no pidas consejos. Te tiene que importar cero lo que opinen los demás, ya sea con la mejor o la peor intención. No escuches consejos que no has pedido y lo que tengas en mente, hazlo. ¡Y punto!\n",
       "\n",
       ".\n",
       "\n",
       "Conforme a los criterios de\n",
       "\n",
       "The Trust Project\n",
       "\n",
       "Saber más</p>\n"
      ],
      "text/plain": [
       "<IPython.core.display.HTML object>"
      ]
     },
     "metadata": {},
     "output_type": "display_data"
    }
   ],
   "source": [
    "# Detectar y extraer citas\n",
    "quote_info = detect_and_extract_quotes(articulo_text)\n",
    "print(f\"(Pred) Cita en el titular: {quote_info}\")\n",
    "print(f\"(Real) Cita en el titular: {articulo['Cita_en_titular']}\")\n",
    "\n",
    "print(\"Citas directas:\", quote_info['explicit_quotes'])\n",
    "print(\"Citas indirectas:\", quote_info['indirect_quotes'])\n",
    "\n",
    "# Generar HTML con citas y fuentes resaltadas\n",
    "html_content = f\"\"\"\n",
    "<style>\n",
    "    .explicit-quote {{ color: red; font-weight: bold; }}\n",
    "    .indirect-quote {{ color: blue; font-style: italic; }}\n",
    "    .source {{ color: green; font-weight: bold; }}\n",
    "    .verb {{ color: purple; }}\n",
    "</style>\n",
    "<p>{highlight_quotes_html(articulo_text)}</p>\n",
    "\"\"\"\n",
    "\n",
    "# Mostrar HTML en Jupyter Notebook\n",
    "display(HTML(html_content))"
   ]
  },
  {
   "cell_type": "markdown",
   "metadata": {},
   "source": [
    "## 21. Escribe el número de declaraciones"
   ]
  },
  {
   "cell_type": "code",
   "execution_count": 42,
   "metadata": {},
   "outputs": [
    {
     "name": "stdout",
     "output_type": "stream",
     "text": [
      "(Pred) Total declaraciones: 1\n",
      "(Real) Total declaraciones: 11\n"
     ]
    }
   ],
   "source": [
    "# Contar declaraciones\n",
    "num_explicit_quotes = len(quote_info['explicit_quotes'])\n",
    "num_implicit_quotes = len(quote_info['indirect_quotes'])\n",
    "total_quotes = num_explicit_quotes + num_implicit_quotes\n",
    "print(\"(Pred) Total declaraciones:\", total_quotes)\n",
    "print(\"(Real) Total declaraciones:\", articulo['ndeclaracion'])"
   ]
  },
  {
   "cell_type": "markdown",
   "metadata": {},
   "source": [
    "## 22. Nombre"
   ]
  },
  {
   "cell_type": "code",
   "execution_count": null,
   "metadata": {},
   "outputs": [],
   "source": []
  },
  {
   "cell_type": "markdown",
   "metadata": {},
   "source": [
    "## 23. Género persona declara"
   ]
  },
  {
   "cell_type": "code",
   "execution_count": null,
   "metadata": {},
   "outputs": [],
   "source": []
  },
  {
   "cell_type": "markdown",
   "metadata": {},
   "source": [
    "## 24. Tipo de fuente"
   ]
  },
  {
   "cell_type": "code",
   "execution_count": null,
   "metadata": {},
   "outputs": [],
   "source": []
  },
  {
   "cell_type": "markdown",
   "metadata": {},
   "source": [
    "## 25. Biografía"
   ]
  },
  {
   "cell_type": "code",
   "execution_count": null,
   "metadata": {},
   "outputs": [],
   "source": []
  }
 ],
 "metadata": {
  "kernelspec": {
   "display_name": ".venv",
   "language": "python",
   "name": "python3"
  },
  "language_info": {
   "codemirror_mode": {
    "name": "ipython",
    "version": 3
   },
   "file_extension": ".py",
   "mimetype": "text/x-python",
   "name": "python",
   "nbconvert_exporter": "python",
   "pygments_lexer": "ipython3",
   "version": "3.12.3"
  }
 },
 "nbformat": 4,
 "nbformat_minor": 2
}
