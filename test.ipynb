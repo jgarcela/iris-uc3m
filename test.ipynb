{
 "cells": [
  {
   "cell_type": "markdown",
   "metadata": {},
   "source": [
    "# Pruebas"
   ]
  },
  {
   "cell_type": "code",
   "execution_count": 13,
   "metadata": {},
   "outputs": [
    {
     "name": "stderr",
     "output_type": "stream",
     "text": [
      "[nltk_data] Downloading package punkt to\n",
      "[nltk_data]     /Users/jorgegarcelan/nltk_data...\n",
      "[nltk_data]   Package punkt is already up-to-date!\n",
      "[nltk_data] Downloading package punkt_tab to\n",
      "[nltk_data]     /Users/jorgegarcelan/nltk_data...\n",
      "[nltk_data]   Package punkt_tab is already up-to-date!\n"
     ]
    },
    {
     "data": {
      "text/plain": [
       "True"
      ]
     },
     "execution_count": 13,
     "metadata": {},
     "output_type": "execute_result"
    }
   ],
   "source": [
    "import nltk\n",
    "nltk.download('punkt')\n",
    "nltk.download('punkt_tab')"
   ]
  },
  {
   "cell_type": "markdown",
   "metadata": {},
   "source": [
    "## Building a news source"
   ]
  },
  {
   "cell_type": "code",
   "execution_count": 16,
   "metadata": {},
   "outputs": [],
   "source": [
    "import newspaper\n",
    "elpais_paper = newspaper.build('https://elpais.com/')"
   ]
  },
  {
   "cell_type": "markdown",
   "metadata": {},
   "source": [
    "## Extracting articles"
   ]
  },
  {
   "cell_type": "code",
   "execution_count": 17,
   "metadata": {},
   "outputs": [
    {
     "name": "stdout",
     "output_type": "stream",
     "text": [
      "0\n"
     ]
    }
   ],
   "source": [
    "for article in elpais_paper.articles:\n",
    "    print(article.url)\n",
    "\n",
    "print(elpais_paper.size())"
   ]
  },
  {
   "cell_type": "markdown",
   "metadata": {},
   "source": [
    "## Extracting Source categories"
   ]
  },
  {
   "cell_type": "code",
   "execution_count": 18,
   "metadata": {},
   "outputs": [
    {
     "name": "stdout",
     "output_type": "stream",
     "text": [
      "https://elpais.com/\n",
      "https://elpais.com/mamas-papas\n",
      "https://elpais.com/expres\n",
      "https://descuentos.elpais.com\n",
      "https://elpais.com/television\n",
      "https://elpais.com/deportes\n",
      "https://elpais.com/america-colombia\n",
      "https://elpais.com/juegos\n",
      "https://elpais.com/economia\n",
      "https://cincodias.elpais.com\n",
      "https://elpais.com/opinion\n",
      "https://elpais.com/quadern\n",
      "https://elpais.com/educacion\n",
      "https://elpais.com/archivo\n",
      "https://elpais.com/mexico\n",
      "https://elpais.com/proyecto-tendencias\n",
      "https://elpais.com/ciencia\n",
      "https://elpais.com/ajedrez\n",
      "https://elpais.com/ideas\n",
      "https://elpais.com/ultimas-noticias\n",
      "https://elpais.com/escaparate\n",
      "https://elpais.com/lo-mas-visto\n",
      "https://elpais.com/babelia\n",
      "https://entradas.elpais.com\n",
      "https://elpais.com/videos\n",
      "https://elpais.com/internacional\n",
      "https://elpais.com/planeta-futuro\n",
      "https://elpais.com/podcasts\n",
      "https://elpais.com/salud-y-bienestar\n",
      "https://servicios.elpais.com\n",
      "https://elpais.com/fotos\n",
      "https://elpais.com/tecnologia\n",
      "https://elpais.com/elviajero\n",
      "https://elpais.com/america-futura\n",
      "https://elpais.com/extra\n",
      "https://elpais.com/loteria-del-nino\n",
      "https://motor.elpais.com\n",
      "https://elpais.com/actualidad\n",
      "https://elpais.com/us\n",
      "https://elpais.com/especiales\n",
      "https://elpais.com/sociedad\n",
      "https://elpais.com/eps\n",
      "https://elpais.com/america\n",
      "https://descuentos.elpais.com/descuento-samsung\n",
      "https://elpais.com/espana\n",
      "https://elpais.com/cultura\n",
      "https://elpais.com/gastronomia\n",
      "https://elpais.com/icon\n",
      "https://elpais.com/smoda\n",
      "https://elpais.com/argentina\n",
      "https://elpais.com/gente\n",
      "https://colecciones.elpais.com\n",
      "https://elpais.com/chile\n"
     ]
    }
   ],
   "source": [
    "for category in elpais_paper.category_urls():\n",
    "    print(category)"
   ]
  },
  {
   "cell_type": "markdown",
   "metadata": {},
   "source": [
    "## Extracting Source feeds"
   ]
  },
  {
   "cell_type": "code",
   "execution_count": 19,
   "metadata": {},
   "outputs": [
    {
     "name": "stdout",
     "output_type": "stream",
     "text": [
      "https://feeds.elpais.com/mrss-s/list/ep/site/elpais.com/section/salud-y-bienestar\n",
      "https://feeds.elpais.com/mrss-s/list/ep/site/elpais.com/section/icon\n",
      "https://feeds.elpais.com/mrss-s/pages/ep/site/elpais.com/section/ideas/portada\n",
      "https://feeds.elpais.com/mrss-s/pages/ep/site/elpais.com/section/america-colombia/portada\n",
      "https://feeds.elpais.com/mrss-s/list/ep/site/elpais.com/section/extra\n",
      "https://feeds.elpais.com/mrss-s/list/ep/site/elpais.com/section/proyecto-tendencias\n",
      "https://feeds.elpais.com/mrss-s/list/ep/site/elpais.com/section/smoda\n",
      "https://feeds.elpais.com/mrss-s/list/ep/site/elpais.com/section/ajedrez\n",
      "https://feeds.elpais.com/mrss-s/list/ep/site/elpais.com/section/actualidad\n",
      "https://feeds.elpais.com/mrss-s/pages/ep/site/elpais.com/portada\n",
      "https://feeds.elpais.com/mrss-s/list/ep/site/elpais.com/section/podcasts\n",
      "https://feeds.elpais.com/mrss-s/pages/ep/site/elpais.com/section/argentina/portada\n",
      "https://feeds.elpais.com/mrss-s/pages/ep/site/elpais.com/section/ultimas-noticias/portada\n",
      "https://feeds.elpais.com/mrss-s/pages/ep/site/elpais.com/section/us/portada\n",
      "https://feeds.elpais.com/mrss-s/list/ep/site/elpais.com/section/fotos\n",
      "https://motor.elpais.com/feed/\n",
      "https://feeds.elpais.com/mrss-s/list/ep/site/elpais.com/section/babelia\n",
      "https://feeds.elpais.com/mrss-s/pages/ep/site/cincodias.elpais.com/portada\n",
      "https://feeds.elpais.com/mrss-s/list/ep/site/elpais.com/section/internacional\n",
      "https://feeds.elpais.com/mrss-s/list/ep/site/elpais.com/section/eps\n",
      "https://feeds.elpais.com/mrss-s/list/ep/site/elpais.com/section/deportes\n",
      "https://feeds.elpais.com/mrss-s/list/ep/site/elpais.com/section/educacion\n",
      "https://feeds.elpais.com/mrss-s/pages/ep/site/elpais.com/section/lo-mas-visto/portada\n",
      "https://feeds.elpais.com/mrss-s/list/ep/site/elpais.com/section/gastronomia/\n",
      "https://feeds.elpais.com/mrss-s/list/ep/site/elpais.com/section/mamas-papas\n",
      "https://feeds.elpais.com/mrss-s/pages/ep/site/elpais.com/section/opinion/portada\n",
      "https://feeds.elpais.com/mrss-s/list/ep/site/elpais.com/section/television\n",
      "https://feeds.elpais.com/mrss-s/pages/ep/site/elpais.com/section/mexico/portada\n",
      "https://feeds.elpais.com/mrss-s/list/ep/site/elpais.com/section/loteria-del-nino\n",
      "https://feeds.elpais.com/mrss-s/list/ep/site/elpais.com/section/quadern/\n",
      "https://feeds.elpais.com/mrss-s/list/ep/site/elpais.com/section/elviajero\n",
      "https://feeds.elpais.com/mrss-s/pages/ep/site/elpais.com/section/america/portada\n",
      "https://feeds.elpais.com/mrss-s/list/ep/site/elpais.com/section/gente\n",
      "https://feeds.elpais.com/mrss-s/list/ep/site/elpais.com/section/espana\n",
      "https://feeds.elpais.com/mrss-s/list/ep/site/elpais.com/section/economia\n",
      "https://feeds.elpais.com/mrss-s/list/ep/site/elpais.com/section/america-futura/\n",
      "https://feeds.elpais.com/mrss-s/list/ep/site/elpais.com/section/planeta-futuro\n",
      "https://feeds.elpais.com/mrss-s/list/ep/site/elpais.com/section/sociedad\n",
      "https://feeds.elpais.com/mrss-s/list/ep/site/elpais.com/section/ciencia\n",
      "https://feeds.elpais.com/mrss-s/list/ep/site/elpais.com/section/tecnologia\n",
      "https://feeds.elpais.com/mrss-s/list/ep/site/elpais.com/section/videos\n",
      "https://feeds.elpais.com/mrss-s/pages/ep/site/elpais.com/section/chile/portada\n",
      "https://feeds.elpais.com/mrss-s/list/ep/site/elpais.com/section/escaparate\n",
      "https://feeds.elpais.com/mrss-s/list/ep/site/elpais.com/section/cultura\n"
     ]
    }
   ],
   "source": [
    "for feed_url in elpais_paper.feed_urls():\n",
    "    print(feed_url)"
   ]
  },
  {
   "cell_type": "markdown",
   "metadata": {},
   "source": [
    "## Extracting Source brand & description"
   ]
  },
  {
   "cell_type": "code",
   "execution_count": 33,
   "metadata": {},
   "outputs": [
    {
     "name": "stdout",
     "output_type": "stream",
     "text": [
      "elpais\n",
      "Noticias de última hora sobre la actualidad en España y el mundo: política, economía, deportes, cultura, sociedad, tecnología, gente, opinión, viajes, moda, televisión, los blogs y las firmas de EL PAÍS. Además especiales, vídeos, fotos, audios, gráficos, entrevistas, promociones y todos los servicios de EL PAÍS.\n"
     ]
    }
   ],
   "source": [
    "print(elpais_paper.brand)\n",
    "print(elpais_paper.description)"
   ]
  },
  {
   "cell_type": "markdown",
   "metadata": {},
   "source": [
    "## Extraer Artículo"
   ]
  },
  {
   "cell_type": "code",
   "execution_count": 15,
   "metadata": {},
   "outputs": [
    {
     "name": "stdout",
     "output_type": "stream",
     "text": [
      "Título: \"Un título mundial como despedida de Alonso sería una historia brillante\"\n",
      "Fecha de publicación: 2024-12-16 00:00:00\n",
      "Contenido: Fernando Alonso y Flavio Briatore tienen una muy buena relación. El italiano y el español compartieron muchos momentos juntos en su etapa en Renault, y ahora los dos continúan su andadura en la Fórmula 1, pero por caminos separados. El tiempo les ha llevado al mismo sitio a los dos, a seguir en el Gran Circo, pero ahora el de Oviedo está en Aston Martin, mientras que el directivo se encuentra en Alpine como asesor. El transalpino ha analizado la figura de su amigo y los siguientes pasos que tiene por delante en la máxima categoría del automovilismo.\n",
      "\n",
      "El '14' sigue dando guerra siendo el más veterano de la parrilla, y el futuro junto a Adrian Newey es esperanzador para él y para el equipo con sede en Silverstone. Eso lo sabe Flavio, y ahora se encuentra en una situación delicada, pues tiene sentimientos encontrados al querer que siempre le vaya bien al asturiano, pero ahora es rival de la escudería de la que él forma parte.\n",
      "\n",
      "Briatore se rinde ante Alonso\n",
      "\n",
      "El ahora asesor de Alpine conoce muy bien a Alonso de todo el tiempo y éxitos que han compartido, y es por ello que sabe perfectamente de lo que es capaz. \"Fernando es una excepción, soy su manager desde hace 22 años. Tiene dinero, pero no tiene hijos, y sigue teniendo hambre\", reflexiona Briatore sobre el que fuera su 'pupilo'.\n",
      "\n",
      "Actualmente, el '14' es el corredor más veterano de la parrilla, pero la edad no es un impedimento para que sus ganas y su ímpetu sigan intactos como el primer día. Su gran amigo está asombrado al ver que a sus 43 años tiene una actitud propia de un debutante, pues nunca se sacia con nada y siempre quiere más: \"Si termina 14º, quiere terminar 13º. Alguien de su edad simplemente haría lo que fuera si se tratara solo del 14º puesto\".\n",
      "\n",
      "Sentimientos encontrados para Briatore\n",
      "\n",
      "En este deporte se ha demostrado una y mil veces que no hay amigos en la pista, todas las amistades se olvidan cuando se apaga el semáforo. Es por ello que, aunque la relación entre ambos sea buena, al transalpino no le viene bien que Alonso obtenga los mejores resultados en este momento de su carrera. \"Ahora tengo dos sentimientos en el pecho. Por un lado, deseo que Fernando vuelva con Adrian Newey en Aston Martin en 2026, pero por otro lado, compite contra Alpine\", analiza el asesor de la escudería gala.\n",
      "Summary: Fernando Alonso y Flavio Briatore tienen una muy buena relación.\n",
      "El italiano y el español compartieron muchos momentos juntos en su etapa en Renault, y ahora los dos continúan su andadura en la Fórmula 1, pero por caminos separados.\n",
      "Briatore se rinde ante Alonso El ahora asesor de Alpine conoce muy bien a Alonso de todo el tiempo y éxitos que han compartido, y es por ello que sabe perfectamente de lo que es capaz.\n",
      "Es por ello que, aunque la relación entre ambos sea buena, al transalpino no le viene bien que Alonso obtenga los mejores resultados en este momento de su carrera.\n",
      "\"Ahora tengo dos sentimientos en el pecho.\n",
      "Palabras clave: ['título', 'mundial', 'despedida', 'historia', 'brillante', 'alonso', 'ahora', 'briatore', 'fernando', 'dos', 'alpine', 'asesor', 'sentimientos', 'bien', 'flavio', 'buena', 'relación', 'tiempo', 'gran', 'aston', 'martin', 'encuentra', 'transalpino', 'amigo', '14', 'sigue', 'veterano', 'parrilla', 'adrian', 'newey', 'sabe', 'pues', 'encontrados', 'siempre', 'escudería']\n",
      "Autores: ['Javier Pazos']\n",
      "Cantidad de palabras: 410\n",
      "URL de la imagen: https://e00-xlk-ue-marca.uecdn.es/files/phantom_desktop_1200w/uploads/2024/12/16/675fdedab601c.jpeg\n"
     ]
    }
   ],
   "source": [
    "from newspaper import Article\n",
    "\n",
    "url = 'https://www.marca.com/motor/formula1/2024/12/16/titulo-mundial-despedida-alonso-seria-historia-brillante.html'\n",
    "\n",
    "article = Article(url)\n",
    "article.download()\n",
    "article.parse()\n",
    "article.nlp()\n",
    "word_count = len(article.text.split())\n",
    "\n",
    "\n",
    "print(\"Título:\", article.title)\n",
    "print(\"Fecha de publicación:\", article.publish_date)\n",
    "print(\"Contenido:\", article.text)\n",
    "print(\"Summary:\", article.summary) # uses nlp\n",
    "print(\"Palabras clave:\", article.keywords) # uses nlp\n",
    "print(\"Autores:\", article.authors)\n",
    "print(\"Cantidad de palabras:\", word_count)\n",
    "print(\"URL de la imagen:\", article.top_image)"
   ]
  },
  {
   "cell_type": "markdown",
   "metadata": {},
   "source": [
    "## 10. Tema"
   ]
  },
  {
   "cell_type": "markdown",
   "metadata": {},
   "source": [
    "## Fuentes"
   ]
  },
  {
   "cell_type": "code",
   "execution_count": 12,
   "metadata": {},
   "outputs": [
    {
     "name": "stdout",
     "output_type": "stream",
     "text": [
      "2025-01-07 13:05:18,803 SequenceTagger predicts: Dictionary with 20 tags: <unk>, O, S-ORG, S-MISC, B-PER, E-PER, S-LOC, B-ORG, E-ORG, I-PER, S-PER, B-MISC, I-MISC, E-MISC, I-ORG, B-LOC, E-LOC, I-LOC, <START>, <STOP>\n",
      "Texto procesado: Sentence[26]: \"El estudio, que se publica en la revista 'Nature', muestra que la vacuna de Pfizer es eficaz contra la variante Ómicron.\" → [\"muestra que la vacuna de Pfizer es eficaz contra la variante Ómicron\"/ORG]\n",
      "\n",
      "Entidades reconocidas:\n",
      "muestra que la vacuna de Pfizer es eficaz contra la variante Ómicron (ORG)\n"
     ]
    }
   ],
   "source": [
    "from flair.models import SequenceTagger\n",
    "from flair.data import Sentence\n",
    "\n",
    "# Cargar el modelo preentrenado de NER en Flair\n",
    "tagger = SequenceTagger.load(\"ner\")\n",
    "\n",
    "# Texto de ejemplo\n",
    "text = \"El estudio, que se publica en la revista 'Nature', muestra que la vacuna de Pfizer es eficaz contra la variante Ómicron.\"\n",
    "\n",
    "# Crear un objeto Sentence para Flair\n",
    "sentence = Sentence(text)\n",
    "\n",
    "# Realizar la predicción\n",
    "tagger.predict(sentence)\n",
    "\n",
    "# Imprimir las entidades reconocidas\n",
    "print(\"Texto procesado:\", sentence.to_tagged_string())\n",
    "print(\"\\nEntidades reconocidas:\")\n",
    "for entity in sentence.get_spans(\"ner\"):\n",
    "    if entity.tag in [\"ORG\"]:  # Filtrar por fuentes periodísticas (organizaciones)\n",
    "        print(f\"{entity.text} ({entity.tag})\")\n"
   ]
  }
 ],
 "metadata": {
  "kernelspec": {
   "display_name": ".venv",
   "language": "python",
   "name": "python3"
  },
  "language_info": {
   "codemirror_mode": {
    "name": "ipython",
    "version": 3
   },
   "file_extension": ".py",
   "mimetype": "text/x-python",
   "name": "python",
   "nbconvert_exporter": "python",
   "pygments_lexer": "ipython3",
   "version": "3.9.6"
  }
 },
 "nbformat": 4,
 "nbformat_minor": 2
}
