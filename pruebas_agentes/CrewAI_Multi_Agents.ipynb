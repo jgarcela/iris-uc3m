{
  "cells": [
    {
      "cell_type": "markdown",
      "metadata": {
        "id": "5PQIQhK8Z2Kz"
      },
      "source": [
        "# Imports"
      ]
    },
    {
      "cell_type": "code",
      "execution_count": 51,
      "metadata": {
        "id": "NuxhN3l48W_9"
      },
      "outputs": [],
      "source": [
        "import warnings\n",
        "warnings.filterwarnings('ignore')"
      ]
    },
    {
      "cell_type": "code",
      "execution_count": 52,
      "metadata": {
        "id": "Cj-0i1n0TXJs"
      },
      "outputs": [],
      "source": [
        "import configparser\n",
        "import openai\n",
        "import os\n",
        "\n",
        "config = configparser.ConfigParser()\n",
        "config.read('../pruebas_openai/config.ini')\n",
        "\n",
        "OPENAI_MODEL = config['DEFAULT']['OPENAI_MODEL']\n",
        "openai.api_key = config['DEFAULT']['OPENAI_API_KEY']\n",
        "OPENAI_API_KEY = config['DEFAULT']['OPENAI_API_KEY']\n",
        "os.environ[\"OPENAI_API_KEY\"] = OPENAI_API_KEY"
      ]
    },
    {
      "cell_type": "code",
      "execution_count": 53,
      "metadata": {
        "id": "lEcd2r0LZoP1"
      },
      "outputs": [],
      "source": [
        "from crewai import Agent, Task, Crew\n",
        "from crewai.tools import BaseTool\n",
        "from langchain.chat_models import ChatOpenAI\n",
        "import requests\n",
        "from IPython.display import Markdown\n",
        "import pandas as pd"
      ]
    },
    {
      "cell_type": "markdown",
      "metadata": {},
      "source": [
        "# Artículos"
      ]
    },
    {
      "cell_type": "code",
      "execution_count": 54,
      "metadata": {},
      "outputs": [],
      "source": [
        "data = pd.read_csv(\"../data/contenido_2023_04_05_matriz_not_julia.csv\")\n",
        "data = data.iloc[[9]]"
      ]
    },
    {
      "cell_type": "code",
      "execution_count": 55,
      "metadata": {},
      "outputs": [
        {
          "data": {
            "text/plain": [
              "'Dice Esther Vivas (Sabadell, 1975) que \"la literatura de la maternidad parte a menudo de la propia experiencia\". ¿Quién iba, si no, a querer dedicar su tiempo a un asunto tan insignificante? El caso de esta periodista, que se había dedicado previamente al estudio del sistema agroalimentario y de los movimientos sociales, no es, dice, una excepción. A partir de su embarazo y de las primeras búsquedas de información sobre cómo se podría desarrollar el parto, comenzó a preguntarse por qué no le habían hablado de todo aquello. Por qué todo el mundo aceptaba esa violencia obstétrica. Mamá desobediente (editado por Capitán Swing en castellano y en catalán por Ara Llibres, bajo el título Mama desobedient) es el resultado de aquella primera \"indignación\", pero no se limita a ella. En el ensayo, que lleva por subtítulo Una mirada feminista a la maternidad, Vivas se ocupa primero de los mitos existentes en torno a ella, para centrarse luego en dos aspectos concretos de esta experiencia que generan un debate encendido: primero, la atención al parto; después, la lactancia.\\n\\nY no es casualidad que cuestiones aparentemente privadas sobre si una mujer le da el pecho o no a su hijo generen polémica. La autora no solo defiende que la maternidad es un asunto público, imbricado en la economía y la política, sino que la sitúa en el centro del feminismo de clase y el anticapitalismo. Si no se la ha considerado así, defiende en el libro, es porque existen intereses para ello.\\n\\nPregunta. ¿Por qué ser madre y feminista supone ser desobediente? ¿Desobediente con respecto al sistema neoliberal o con respecto a cierto feminismo?\\n\\nRespuesta. Ser madre implica desobedecer porque vivimos en un sistema que es hostil a la maternidad y a la crianza, y si eres feminista y de repente eres madre, esa maternidad te reafirma en tus valores feministas. ¿Qué sucede? Que en general el feminismo ha tenido una relación compleja con la maternidad, porque en la medida en que la maternidad ha sido utilizada por el patriarcado como un instrumento de control del cuerpo de las mujeres, cuando el feminismo se rebeló contra esta imposición, en los años sesenta o setenta, en la Segunda Ola, se creó un discurso antipaternal y antirreproductivo, y no se abordaron las contradicciones que implica la maternidad. Por eso creo que desde el feminismo es necesario reivindicar la experiencia materna, no en clave romántica sino en clave de experiencia que tenemos que poder vivir como mujeres, al margen de las imposiciones y restricciones del sistema.\\n\\nP. ¿Pensar la maternidad desde el feminismo supone repensar la idea que tenemos de la incorporación de la mujer al mundo laboral?\\n\\nR. Sí. En general, desde un cierto feminismo, a la hora de plantear la igualdad en el mercado de trabajo, se ha señalado la maternidad, el cuidado y la crianza como una carga. Desde este punto de vista, ante la maternidad patriarcal impuesta, ante ese modelo de feminidad abnegada cuyo fin último es ser madre, se ha planteado que la alternativa era supeditar la crianza al mercado y al empleo. Es necesario cambiar la mirada, porque el problema no es la maternidad, sino el mercado, una sociedad que es hostil a unas prácticas que son fundamentales para la reproducción de la vida, como son gestar, parir, dar de mamar y cuidar.\\n\\nP. ¿Cómo afecta esto a la manera en que el movimiento feminista se ha planteado la narrativa en torno a la igualdad en el trabajo?\\n\\nR. Aquí también hemos vistos distintos discursos y estrategias. Por un lado hay un cierto feminismo liberal que básicamente reivindica la igualdad para un sector de mujeres de clase media blanca. En Estados Unidos vemos en el partido demócrata y que aquí vemos a medio camino entre el PSOE y Ciudadanos. Por eso creo que hay que reivindicar el feminismo del 99%, el que reclama la igualdad del conjunto de las mujeres y que señala que las desigualdades de género vienen también de la desigualdades de clase y de etnia, y que por eso es necesario acabar con las desigualdades socioeconómicas para conseguir una igualdad de género real.\\n\\nP. Por lo heredado de la Segunda Ola, existe esta idea de que liberarse de la maternidad obligatoria ha sido algo emancipatorio, y que por tanto poner la maternidad en el centro del feminismo sería negar esa conquista. ¿Cómo se resuelve este conflicto?\\n\\nR. Lo que es necesario no es acabar con la experiencia de la maternidad, sino con lo que la activista feminista Adrienne Rich, ya en los años setenta, llamaba “la institución de la maternidad”. Es fundamental que la nueva oleada feminista incorpore la reivindicación de poder vivir la experiencia materna libre de imposiciones. La cuestión no es negar la maternidad sino reivindicarla. Esto no implica dar la razón a posturas reaccionarias en relación a la maternidad, sino reivindicar la maternidad en clave emancipadora. Yo como mujer tengo derecho a decidir cómo quiero vivir mi embarazo, mi parto y mi lactancia: esto es feminismo, como también es feminismo decidir si quiero tener un hijo o no, si quiero abortar o no. Reivindicar una maternidad feminista va de la mano con reivindicar el pleno control sobre nuestro cuerpo como mujeres.\\n\\nP. Le dedica parte del libro al debate sobre las bajas de maternidad y paternidad, y señala que las nuevas bajas intransferibles quieren reforzar la igualdad entre hombres y mujeres pero en realidad ignora la experiencia de la maternidad. ¿Qué posición cree que ha faltado en el debate?nuevas bajas intransferibles\\n\\nR. Se han obviado en gran medida las demandas de un sector del feminismo que reivindica una ampliación de los permisos de maternidad, porque en la actualidad el permiso de maternidad ni siquiera permite una lactancia materna en exclusiva hasta los seis meses, como recomiendan todas las instancias de salud. Y también es un debate que ha menospreciado el sentir de muchas madres. Hay varios estudios que señalan que cuando una mujer tiene un hijo, quiere estar con la criatura, y en cambio estos permisos iguales e intransferibles que se reivindican siguen estigmatizando la experiencia materna y la consideran una carga. Con esto no quiero decir que la maternidad sea tan solo una maternidad de las mujeres, es una responsabilidad de madres, de padres, de la sociedad en general, y que hay que darle el valor social, político y económico que realmente tiene.\\n\\nPor otro lado, es positivo plantear una ampliación del permiso de paternidad, pero hay que tener en cuenta que si este finalmente se amplía hasta las ocho semanas el año que viene, en tan solo tres años el permiso de paternidad habrá aumentado un 300%, pasando de una semana en 2015 a ocho semana en el 2019. Cuando el permiso de maternidad en treinta años, desde el 89, no se ha movido una coma, y es extremadamente corto. No se puede ampliar el permiso de paternidad sin reivindicar un aumento del de maternidad. Esto se dice que se hace en nombre de la igualdad, pero creo que no podemos atribuir la desigualdad en el mercado de trabajo solo a la experiencia materna, porque van mucho más allá.\\n\\nP. ¿En qué medida cree que estas bajas iguales e intransferibles contribuyen a estigmatizar la experiencia de la maternidad?R\\n\\n. Porque son unos permisos en los cuales básicamente se antepone el mercado y el empleo a la crianza. Porque si se considera, en relación al permiso de maternidad, que 16 semanas son suficientes para acompañar a la criatura después de nacer, son permisos que no tienen en cuenta esas necesidades de un bebé, que necesita estar con sus progenitores el máximo tiempo posible tras nacer, y que la fuente de alimento más beneficiosa es la leche materna.\\n\\nEste es un elemento del que no se acostumbra a hablar, pero que es una medida profundamente clasista. De los permisos actuales solo se benefician los progenitores que trabajan o han trabajado y cotizan, por lo que los sectores con menores recursos económicos no tienen acceso a ningún tipo de ayuda por maternidad o paternidad. Y en segundo lugar estos permisos iguales e intransferibles hacen que si tú como madre quieres estar más tiempo con tu criatura, quieres darle de mamar hasta los seis meses, solo aquellas mujeres con determinadas capacidades adquisitivas podrán hacerlo, porque solo ellas podrán tomarse una excedencia por su cuenta. Es una idea clasista que convierte la crianza en un privilegio.\\n\\nP. ¿Qué modelo, de los expuestos en el libro, considera más conveniente?\\n\\nR. Se tendrían que ampliar ambos permisos con un periodo de tiempo muy superior al actual, como de hecho hacen muchos países nórdicos, que dan un peso central a lo que es la ayuda a la maternidad y la crianza. Porque aquí cada año con los informes de la caída de la natalidad nos escandalizamos, pero no se hace absolutamente nada para revertirla. Apostaría por un modelo como los nórdicos, donde las bajas son más amplias que las que tenemos en el Estado español, y que pueden ser compartidas y una parte de ellas transferibles.\\n\\nP. ¿Por qué la lactancia tiene tanto espacio en el debate sobre la maternidad? Se discute desde sobre cómo y dónde se produce hasta qué forma es más conveniente.\\n\\nR. El parto y la lactancia son dos partes esenciales en la crianza. Quería profundizar en el debate sobre la lactancia materna porque también en los feminismos hay un cierto debate sobre si se impone la teta o el biberón. Y me parecía interesante señalar e investigar cómo, a pesar de que cada vez se ha recuperado la lactancia materna —algo que es positivo, porque en los años setenta prácticamente desapareció—, aún el contexto social es adverso, contrariamente a lo que puede parecer en un primer momento.\\n\\nP. En esa época se configura un discurso que asegura que el biberón da más libertad a las madres, y que además también facilita la incorporación al trabajo. ¿Cómo nos relacionamos hoy con estas dos ideas?\\n\\nR. Cuando yo reflexiono con una mirada crítica acerca de la lactancia artificial lo hago desde el punto de vista de los intereses económicos que hay detrás el negocio del biberón, no sobre lo que hace cada madre, porque por desgracia hacemos lo que buenamente podemos en nuestras circunstancias. Dicho esto, cuando se generalizó la lactancia artificial en los años setenta u ochenta, hay unos intereses empresariales claros. La generalización de la lactancia artificial supuso un negocio ingente para las empresas de la industria láctea y alimentaria, como Nestlé o Danone, de ahí que se promocionara como se hizo. Y lo que se hizo fue incidir en el personal sanitario para que este fuera proclive a promocionar la lactancia artificial en detrimento de la lactancia materna.\\n\\nPor otro lado, uno de los elementos que ha incomodado más al feminismo con respecto a la lactancia es el carácter biológico de la práctica, que es biosocial, hay un elemento cultural y otro biológico. Yo creo que desde el feminismo se trata de reconocer tanto el carácter biológico como cultural de la maternidad y de la lactancia, pero precisamente por esto, fruto de esta incomodidad, muchas veces se ha considerado que la maternidad era una práctica que encerraba a las madres en el hogar, que las alejaba del mercado de trabajo, y es necesario cambiar la mirada. Porque dar de mamar es una práctica profundamente feminista, e incluso diría que antineoliberal y anticapitalista. En la medida en que dar la teta no es solo lo mejor para la criatura (y hay determinadas circunstancias en las que dar el biberón es lo mejor), también es extremadamente beneficiosa para la mamá y en particular después del parto, por lo que implica de recuperación, de vínculo con la criatura. A la vez, la lactancia materna permite la autonomía de la mujer, porque no necesita gastar dinero, sabe lo que le da de comer, es kilómetro cero… Y si decía que dar la teta es antineoliberal es porque es una práctica que no beneficia al mercado, que necesita de unos tiempos y de un espacio que son contrarios a la lógica mercantil y productivista, y no tiene un impacto negativo en el medio ambiente.\\n\\nP. Las madres que optan por dar el pecho también suelen hablar de que esto supone una desigualdad insalvable con el padre en la tarea de cuidados.R\\n\\n. Dar el biberón per se no te hace más libre como mujer, ni es un mecanismo de igualdad. Basta con ver a las madres que dan el biberón y crían en soledad. Tampoco la teta per se te hace más libre. El carácter biológico de la lactancia es innegable, pero esto no implica que el padre no pueda implicarse en muchas otras tareas. Los bebés no solo se despiertan por la noche porque quieren mamar, sino por muchas otras circunstancias. Criar en igualdad no tiene tanto que ver con cómo alimentamos a la criatura nada más nacer, sino con muchos otros elementos vinculados a la relación de pareja y con un entorno social que es hostil a la maternidad y a la crianza.\\n\\nP. La tercera pata del libro aborda la violencia obstétrica, y habla de una evolución progresiva en los hospitales. ¿Cuál es el panorama general ahora mismo?violencia obstétrica\\n\\nR. Ha habido una serie de cambios muy significativos en relación a la atención al parto en el sistema hospitalario, que se han producido gracias y en parte a organizaciones de mujeres que han reivindicado un parto respetado. Sin El parto es nuestro no se entenderían los cambios en la atención sanitaria. Pero aún así, en la medida en que muchas de estas modificaciones que se han hecho a nivel gubernamental son de cumplimiento voluntario, aún existen muchas malas prácticas del personal sanitario, debido a que hay una serie de mitos y prejuicios en relación al nacimiento que acaban justificando estas prácticas. Y de hecho solo es necesario ver los porcentajes de cesáreas, de episiotomías, de partos instrumentales que se llevan a cabo, que son muy superiores de los que la Organización Mundial de la Salud considera razonables. Esto tiene un impacto físico y psíquico en las mujeres, y también en las criaturas.\\n\\nP. Llama particularmente la atención las cifras de episiotomía, que indican que se dan en España en el 43% de los partos frente al tope del 15% que recomienda la OMS. ¿Hay una carga cultural en esto?\\n\\nR. Más que una carga cultural hay unas prácticas médicas que consideran que en la medida en que el parto es una enfermedad, la atención al parto se aborda desde este punto de vista y esto dificulta que el proceso del parto se dé de manera natural. Estas prácticas facilitan el trabajo médico, pero tienen consecuencias negativas. En el caso de la episiotomía, particularmente, por lo que implica de problemas de micción, en las relaciones sexuales, etcétera. Hoy, cuatro de cada 10 mujeres que dan a luz sufren una episiotomía: hemos mejorado, porque en el año 95 eran 9 de cada 10. En los países nórdicos es 1 de cada 10. No creo que el periné de las mujeres españolas sea distinto al periné de las mujeres suecas. Si esto se produce es porque hay detrás unas prácticas médicas que consideran que esto es correcto. Hay que cambiar la formación médica para darle una perspectiva feminista y de género.\\n\\nP. En el libro se pregunta dónde están las comadronas, y también se plantea el problema de la formación. ¿Cómo se relacionan estos dos aspectos, qué se aprende en las universidades y quienes llegan a atender el parto?R\\n\\n. Decíamos que hay una visión por parte del personal sanitario patológica, que se ve como una enfermedad, y esta visión es compartida por la sociedad. Y en la medida en que la sociedad no reconoce el parto como un proceso fisiológico, es difícil conseguir que haya un parto respetado. Yo digo que la violencia obstétrica es la última frontera de la violencia de género porque es una violencia aceptada, por los profesionales, por las mujeres afectadas y por sus allegados. Se considera que el parto es eso. Y por eso pensamos siempre que el personal mejor preparado para atender al parto es un ginecólogo, cuando en los partos de bajo riesgo es la comadrona. Hay que reivindicar la figura de la comadrona en la atención al parto y su plena autonomía como profesionales de la salud.\\n\\nP. En ese sentido, ¿comadronas y madres son aliadas?R\\n\\n. Sí, por supuesto. Lo que señalan muchos estudios es que en la medida en que el parto es llevada por comadronas, el grado de satisfacción de las mujeres que dan a luz es superior. El problema es que hay una profunda relación jerárquica en el sistema hospitalario que tienes a menospreciarlas. A la vez hay una falta también de este personal en los hospitales, que va en detrimento de la calidad de la atención al parto. Que haya más comadronas revierte positivamente en la salud de las mujeres.\\n\\nEl 85% de excedencias para el cuidado de hijos tramitadas hasta marzo de 2021 fueron solicitadas por las madres\\n\\nVer más\\n\\nP. ¿Cuál considera que debe ser el lugar desde el que se reclamen estas reivindicaciones alrededor de la maternidad?R\\n\\n. Por un lado, es necesario que el feminismo reivindique la maternidad y la experiencia materna al margen de las imposiciones del sistema. Creo que esta nueva ola feminista, este feminismo del 99%, incorpore la maternidad a sus demandas y que se normalice la relación entre feminismos y maternidad. No como algo idílico o romántico, sino como experiencia y dándole el valor sociopolítico y económico que tiene. Luego están los grupos de crianza, los grupos de apoyo a la lactancia materna, creo que es importante que se sumen a esta oleada feminista en auge y que apuesten por una maternidad transformadora a la hora de llevar a cabo sus reivindicaciones. Porque la maternidad no es una cuestión individual, es una cuestión política. Porque si queremos vivir una maternidad digna lo que tenemos que hacer es cambiar el entorno socioeconómico. Y este cambio radical del sistema solo puede hacerse con el apoyo de otros movimientos sociales.'"
            ]
          },
          "execution_count": 55,
          "metadata": {},
          "output_type": "execute_result"
        }
      ],
      "source": [
        "# Texto de ejemplo\n",
        "texto_noticia = data['contenido'].values[0]\n",
        "texto_noticia"
      ]
    },
    {
      "cell_type": "markdown",
      "metadata": {
        "id": "zTseSPT2bemJ"
      },
      "source": [
        "# Define Agents"
      ]
    },
    {
      "cell_type": "code",
      "execution_count": 56,
      "metadata": {},
      "outputs": [],
      "source": [
        "from langchain.llms import HuggingFacePipeline\n",
        "from transformers import AutoModelForCausalLM, AutoTokenizer, pipeline"
      ]
    },
    {
      "cell_type": "code",
      "execution_count": 57,
      "metadata": {},
      "outputs": [],
      "source": [
        "llm_openai = True"
      ]
    },
    {
      "cell_type": "code",
      "execution_count": 58,
      "metadata": {
        "id": "ppU_JNBZuqIg"
      },
      "outputs": [],
      "source": [
        "# Usando OpenAI\n",
        "if llm_openai:\n",
        "    llm = ChatOpenAI(model_name=OPENAI_MODEL,\n",
        "                    api_key= OPENAI_API_KEY,\n",
        "                    temperature=0.2)\n",
        "\n",
        "# Usando Salamandra-2B\n",
        "else:\n",
        "    model_name = \"BSC-LT/salamandra-2b\"\n",
        "    tokenizer = AutoTokenizer.from_pretrained(model_name)\n",
        "    model = AutoModelForCausalLM.from_pretrained(model_name)\n",
        "\n",
        "    text_generator = pipeline(\n",
        "        \"text-generation\",\n",
        "        model=model,\n",
        "        tokenizer=tokenizer,\n",
        "        max_new_tokens=512,\n",
        "        temperature=0.7,\n",
        "        do_sample=True,\n",
        "    )\n",
        "\n",
        "    llm = HuggingFacePipeline(pipeline=text_generator)"
      ]
    },
    {
      "cell_type": "code",
      "execution_count": 59,
      "metadata": {},
      "outputs": [],
      "source": [
        "# ----------------------\n",
        "# 1. Agente Perfilador\n",
        "# ----------------------\n",
        "def crear_perfilador(profesion, genero, politica):\n",
        "    pronombre = \"ella\" if genero == \"mujer\" else \"él\"\n",
        "    articulo = \"una\" if genero == \"mujer\" else \"un\"\n",
        "    role = f\"Perfilador ({profesion}, {genero}, {politica})\"\n",
        "\n",
        "    goal = (\n",
        "        \"Describir el perfil de cada agente involucrado en el análisis del texto, \"\n",
        "        \"incluyendo su profesión, género e ideología política.\"\n",
        "    )\n",
        "\n",
        "    backstory = (\n",
        "        f\"{articulo.capitalize()} {profesion} con identidad de género {genero} \"\n",
        "        f\"y orientación política {politica}. Su único rol es identificar y comunicar el perfil \"\n",
        "        \"del agente, sin realizar interpretaciones adicionales.\"\n",
        "    )\n",
        "\n",
        "    return Agent(\n",
        "        role=role,\n",
        "        goal=goal,\n",
        "        backstory=backstory,\n",
        "        verbose=True,\n",
        "        llm=llm\n",
        "    )"
      ]
    },
    {
      "cell_type": "code",
      "execution_count": 60,
      "metadata": {},
      "outputs": [],
      "source": [
        "# ----------------------\n",
        "# 2. Agente Analista\n",
        "# ----------------------\n",
        "def crear_analista():\n",
        "    role = \"Analista\"\n",
        "    goal = \"Detectar estereotipos, sesgos de género o lenguaje sexista en textos periodísticos.\"\n",
        "    backstory = \"Su labor es identificar sesgos implícitos o explícitos en el texto.\"\n",
        "\n",
        "    return Agent(\n",
        "        role=role,\n",
        "        goal=goal,\n",
        "        backstory=backstory,\n",
        "        verbose=True,\n",
        "        llm=llm\n",
        "    )"
      ]
    },
    {
      "cell_type": "code",
      "execution_count": null,
      "metadata": {},
      "outputs": [],
      "source": [
        "# ----------------------\n",
        "# 3. Agente Redactor - Editora de Igualdad\n",
        "# ----------------------\n",
        "def crear_redactor():\n",
        "    role = \"Redactor\"\n",
        "    goal = \"Reescribir el texto original usando lenguaje inclusivo y eliminando estereotipos.\"\n",
        "    backstory = \"Se especializa en transformar lenguaje sesgado en narrativas igualitarias.\"\n",
        "\n",
        "    return Agent(\n",
        "        role=role,\n",
        "        goal=goal,\n",
        "        backstory=backstory,\n",
        "        verbose=True,\n",
        "        llm=llm\n",
        "    )"
      ]
    },
    {
      "cell_type": "code",
      "execution_count": null,
      "metadata": {},
      "outputs": [],
      "source": [
        "# ----------------------\n",
        "# 4. Agente Maquetador\n",
        "# ----------------------\n",
        "def crear_maquetador():\n",
        "    role = \"Maquetador\"\n",
        "    goal = \"Convertir los resultados anteriores en un informe estructurado en Markdown.\"\n",
        "    backstory = \"Asistente especializado en presentación clara de resultados. No realiza análisis, sino que organiza y mejora la visualización del contenido.\"\n",
        "\n",
        "    return Agent(\n",
        "        role=role,\n",
        "        goal=goal,\n",
        "        backstory=backstory,\n",
        "        verbose=True,\n",
        "        llm=llm\n",
        "    )"
      ]
    },
    {
      "cell_type": "markdown",
      "metadata": {
        "id": "JC1gVbotbhnX"
      },
      "source": [
        "## Crear agentes"
      ]
    },
    {
      "cell_type": "code",
      "execution_count": 63,
      "metadata": {
        "colab": {
          "base_uri": "https://localhost:8080/"
        },
        "collapsed": true,
        "id": "9u1XCX0ybpaU",
        "outputId": "7cf887b2-756e-47bc-967f-18178670ae40"
      },
      "outputs": [],
      "source": [
        "# Define los parámetros para el agente perfilador\n",
        "profesion = \"periodista\" # \"jueza\", \"abogada\", \"periodista\", \"investigadora\", \"profesora\", \"médica\", \"psicóloga\", \"trabajadora social\"\n",
        "genero = \"mujer\" # \"mujer\", \"hombre\"\n",
        "politica = \"progresista\" # \"progresista\", \"conservadora\", \"neutra\""
      ]
    },
    {
      "cell_type": "code",
      "execution_count": null,
      "metadata": {},
      "outputs": [],
      "source": [
        "# Crear agentes\n",
        "agentes = {}\n",
        "\n",
        "# Crear tipos de agentes\n",
        "agentes[\"perfilador\"] = crear_perfilador(profesion, genero, politica)\n",
        "agentes[\"analista\"] = crear_analista()\n",
        "agentes[\"redactor\"] = crear_redactor()\n",
        "agentes[\"maquetador\"] = crear_maquetador()\n"
      ]
    },
    {
      "cell_type": "markdown",
      "metadata": {
        "id": "qOybVgj9bsW1"
      },
      "source": [
        "## Crear tareas"
      ]
    },
    {
      "cell_type": "code",
      "execution_count": null,
      "metadata": {
        "id": "l67T3CiQb4Sm"
      },
      "outputs": [],
      "source": [
        "tareas = [\n",
        "    Task(\n",
        "        description=(\n",
        "            \"Tu tarea es describir el perfil del agente que ha realizado el análisis. \"\n",
        "            \"Solo debes identificar y comunicar las siguientes características del agente:\\n\\n\"\n",
        "            \"- Profesión del agente\\n\"\n",
        "            \"- Género del agente\\n\"\n",
        "            \"- Ideología política del agente\\n\\n\"\n",
        "            \"No debes hacer ningún análisis sobre el texto ni sobre el contenido de los análisis realizados.\"\n",
        "        ),\n",
        "        expected_output=(\n",
        "            \"Perfil del agente que ha realizado el análisis:\\n\"\n",
        "            f\"Profesión: {profesion}\\n\"\n",
        "            f\"Género: {genero}\\n\"\n",
        "            f\"Ideología política: {politica}\"\n",
        "        ),\n",
        "        agent=agentes[\"perfilador\"]\n",
        "    ),\n",
        "    Task(\n",
        "    description=(\n",
        "            f\"\"\"Analiza el siguiente texto completo con atención al contexto y la intención del autor.\n",
        "\n",
        "    Tu objetivo es detectar frases que perpetúen estereotipos, lenguaje sexista o sesgos de género de forma explícita o implícita.  \n",
        "    ⚠️ Ten en cuenta que algunas frases podrían parecer problemáticas en sí mismas, pero no lo son si el texto las está usando para **criticar** esos sesgos.  \n",
        "    No marques como sesgada ninguna frase si forma parte de una **denuncia o crítica** a ese mismo lenguaje.\n",
        "\n",
        "    1. Enumera las frases que verdaderamente refuercen o reproduzcan estereotipos o sesgos de género. Justifica cada una.\n",
        "    2. En el texto original:\n",
        "        - Usa `<span style=\"color: red; font-weight: bold;\">... </span>` para marcar frases con sesgos o estereotipos.\n",
        "\n",
        "    Texto original:\n",
        "    {texto_noticia}\n",
        "    \"\"\"\n",
        "        ),\n",
        "        expected_output=(\n",
        "            \"Frases problemáticas con justificación + texto original anotado con Markdown.\"\n",
        "        ),\n",
        "        agent=agentes[\"analista\"],\n",
        "        input=\"previous_task_output\"\n",
        "    ),\n",
        "    Task(\n",
        "        description=\"Reescribe el texto con lenguaje inclusivo y sin estereotipos.\",\n",
        "        expected_output=\"Nueva versión del texto con lenguaje igualitario.\",\n",
        "        agent=agentes[\"redactor\"],\n",
        "        input=\"previous_task_output\"\n",
        "    ),\n",
        "    Task(\n",
        "        description=\"Toma todos los análisis anteriores y preséntalos en un informe en formato Markdown con títulos, listas, separadores y claridad visual.\",\n",
        "        expected_output=\"Informe en Markdown limpio y bien estructurado.\",\n",
        "        agent=agentes[\"maquetador\"],\n",
        "        input=\"previous_task_output\"\n",
        "    )\n",
        "]"
      ]
    },
    {
      "cell_type": "markdown",
      "metadata": {
        "id": "g6Us-hNsda3k"
      },
      "source": [
        "# Orchestrate Agents"
      ]
    },
    {
      "cell_type": "code",
      "execution_count": 66,
      "metadata": {
        "id": "UFrPpP_AY5tz"
      },
      "outputs": [],
      "source": [
        "crew = Crew(\n",
        "    agents=list(agentes.values()),\n",
        "    tasks=tareas,\n",
        "    verbose=True\n",
        ")"
      ]
    },
    {
      "cell_type": "markdown",
      "metadata": {
        "id": "Sv8tdk1tezvL"
      },
      "source": [
        "# Execute"
      ]
    },
    {
      "cell_type": "code",
      "execution_count": 67,
      "metadata": {
        "colab": {
          "base_uri": "https://localhost:8080/"
        },
        "id": "9DfmRfn5e0J8",
        "outputId": "2e0d5166-e047-42d0-ff8e-dd20051a1acf"
      },
      "outputs": [
        {
          "data": {
            "text/html": [
              "<pre style=\"white-space:pre;overflow-x:auto;line-height:normal;font-family:Menlo,'DejaVu Sans Mono',consolas,'Courier New',monospace\"><span style=\"color: #008080; text-decoration-color: #008080\">╭──────────────────────────────────────────── Crew Execution Started ─────────────────────────────────────────────╮</span>\n",
              "<span style=\"color: #008080; text-decoration-color: #008080\">│</span>                                                                                                                 <span style=\"color: #008080; text-decoration-color: #008080\">│</span>\n",
              "<span style=\"color: #008080; text-decoration-color: #008080\">│</span>  <span style=\"color: #008080; text-decoration-color: #008080; font-weight: bold\">Crew Execution Started</span>                                                                                         <span style=\"color: #008080; text-decoration-color: #008080\">│</span>\n",
              "<span style=\"color: #008080; text-decoration-color: #008080\">│</span>  <span style=\"color: #c0c0c0; text-decoration-color: #c0c0c0\">Name: </span><span style=\"color: #008080; text-decoration-color: #008080\">crew</span>                                                                                                     <span style=\"color: #008080; text-decoration-color: #008080\">│</span>\n",
              "<span style=\"color: #008080; text-decoration-color: #008080\">│</span>  <span style=\"color: #c0c0c0; text-decoration-color: #c0c0c0\">ID: </span><span style=\"color: #008080; text-decoration-color: #008080\">2d9b064a-ba6c-499d-a6d5-3aad46d6a254</span>                                                                       <span style=\"color: #008080; text-decoration-color: #008080\">│</span>\n",
              "<span style=\"color: #008080; text-decoration-color: #008080\">│</span>                                                                                                                 <span style=\"color: #008080; text-decoration-color: #008080\">│</span>\n",
              "<span style=\"color: #008080; text-decoration-color: #008080\">│</span>                                                                                                                 <span style=\"color: #008080; text-decoration-color: #008080\">│</span>\n",
              "<span style=\"color: #008080; text-decoration-color: #008080\">╰─────────────────────────────────────────────────────────────────────────────────────────────────────────────────╯</span>\n",
              "</pre>\n"
            ],
            "text/plain": [
              "\u001b[36m╭─\u001b[0m\u001b[36m───────────────────────────────────────────\u001b[0m\u001b[36m Crew Execution Started \u001b[0m\u001b[36m────────────────────────────────────────────\u001b[0m\u001b[36m─╮\u001b[0m\n",
              "\u001b[36m│\u001b[0m                                                                                                                 \u001b[36m│\u001b[0m\n",
              "\u001b[36m│\u001b[0m  \u001b[1;36mCrew Execution Started\u001b[0m                                                                                         \u001b[36m│\u001b[0m\n",
              "\u001b[36m│\u001b[0m  \u001b[37mName: \u001b[0m\u001b[36mcrew\u001b[0m                                                                                                     \u001b[36m│\u001b[0m\n",
              "\u001b[36m│\u001b[0m  \u001b[37mID: \u001b[0m\u001b[36m2d9b064a-ba6c-499d-a6d5-3aad46d6a254\u001b[0m                                                                       \u001b[36m│\u001b[0m\n",
              "\u001b[36m│\u001b[0m                                                                                                                 \u001b[36m│\u001b[0m\n",
              "\u001b[36m│\u001b[0m                                                                                                                 \u001b[36m│\u001b[0m\n",
              "\u001b[36m╰─────────────────────────────────────────────────────────────────────────────────────────────────────────────────╯\u001b[0m\n"
            ]
          },
          "metadata": {},
          "output_type": "display_data"
        },
        {
          "data": {
            "text/html": [
              "<pre style=\"white-space:pre;overflow-x:auto;line-height:normal;font-family:Menlo,'DejaVu Sans Mono',consolas,'Courier New',monospace\">\n",
              "</pre>\n"
            ],
            "text/plain": [
              "\n"
            ]
          },
          "metadata": {},
          "output_type": "display_data"
        },
        {
          "data": {
            "text/html": [
              "<pre style=\"white-space:pre;overflow-x:auto;line-height:normal;font-family:Menlo,'DejaVu Sans Mono',consolas,'Courier New',monospace\"><span style=\"color: #008080; text-decoration-color: #008080; font-weight: bold\">🚀 Crew: crew</span>\n",
              "└── <span style=\"color: #808000; text-decoration-color: #808000; font-weight: bold\">📋 Task: 80b79f84-ca10-4423-afd1-3ff10c449918</span>\n",
              "    <span style=\"color: #c0c0c0; text-decoration-color: #c0c0c0\">   Status: </span><span style=\"color: #bfbf7f; text-decoration-color: #bfbf7f\">Executing Task...</span>\n",
              "</pre>\n"
            ],
            "text/plain": [
              "\u001b[1;36m🚀 Crew: \u001b[0m\u001b[1;36mcrew\u001b[0m\n",
              "└── \u001b[1;33m📋 Task: 80b79f84-ca10-4423-afd1-3ff10c449918\u001b[0m\n",
              "    \u001b[37m   Status: \u001b[0m\u001b[2;33mExecuting Task...\u001b[0m\n"
            ]
          },
          "metadata": {},
          "output_type": "display_data"
        },
        {
          "data": {
            "text/html": [
              "<pre style=\"white-space:pre;overflow-x:auto;line-height:normal;font-family:Menlo,'DejaVu Sans Mono',consolas,'Courier New',monospace\">\n",
              "</pre>\n"
            ],
            "text/plain": [
              "\n"
            ]
          },
          "metadata": {},
          "output_type": "display_data"
        },
        {
          "data": {
            "text/html": [
              "<pre style=\"white-space:pre;overflow-x:auto;line-height:normal;font-family:Menlo,'DejaVu Sans Mono',consolas,'Courier New',monospace\"><span style=\"color: #008080; text-decoration-color: #008080; font-weight: bold\">🚀 Crew: crew</span>\n",
              "└── <span style=\"color: #808000; text-decoration-color: #808000; font-weight: bold\">📋 Task: 80b79f84-ca10-4423-afd1-3ff10c449918</span>\n",
              "    <span style=\"color: #c0c0c0; text-decoration-color: #c0c0c0\">   Status: </span><span style=\"color: #bfbf7f; text-decoration-color: #bfbf7f\">Executing Task...</span>\n",
              "    └── <span style=\"color: #008000; text-decoration-color: #008000; font-weight: bold\">🤖 Agent: </span><span style=\"color: #008000; text-decoration-color: #008000\">Perfilador (periodista, mujer, progresista)</span>\n",
              "        <span style=\"color: #c0c0c0; text-decoration-color: #c0c0c0\">    Status: </span><span style=\"color: #008000; text-decoration-color: #008000; font-weight: bold\">In Progress</span>\n",
              "</pre>\n"
            ],
            "text/plain": [
              "\u001b[1;36m🚀 Crew: \u001b[0m\u001b[1;36mcrew\u001b[0m\n",
              "└── \u001b[1;33m📋 Task: 80b79f84-ca10-4423-afd1-3ff10c449918\u001b[0m\n",
              "    \u001b[37m   Status: \u001b[0m\u001b[2;33mExecuting Task...\u001b[0m\n",
              "    └── \u001b[1;32m🤖 Agent: \u001b[0m\u001b[32mPerfilador (periodista, mujer, progresista)\u001b[0m\n",
              "        \u001b[37m    Status: \u001b[0m\u001b[1;32mIn Progress\u001b[0m\n"
            ]
          },
          "metadata": {},
          "output_type": "display_data"
        },
        {
          "data": {
            "text/html": [
              "<pre style=\"white-space:pre;overflow-x:auto;line-height:normal;font-family:Menlo,'DejaVu Sans Mono',consolas,'Courier New',monospace\">\n",
              "</pre>\n"
            ],
            "text/plain": [
              "\n"
            ]
          },
          "metadata": {},
          "output_type": "display_data"
        },
        {
          "name": "stdout",
          "output_type": "stream",
          "text": [
            "\u001b[1m\u001b[95m# Agent:\u001b[00m \u001b[1m\u001b[92mPerfilador (periodista, mujer, progresista)\u001b[00m\n",
            "\u001b[95m## Task:\u001b[00m \u001b[92mTu tarea es describir el perfil del agente que ha realizado el análisis. Solo debes identificar y comunicar las siguientes características del agente:\n",
            "\n",
            "- Profesión del agente\n",
            "- Género del agente\n",
            "- Ideología política del agente\n",
            "\n",
            "No debes hacer ningún análisis sobre el texto ni sobre el contenido de los análisis realizados.\u001b[00m\n"
          ]
        },
        {
          "data": {
            "text/html": [
              "<pre style=\"white-space:pre;overflow-x:auto;line-height:normal;font-family:Menlo,'DejaVu Sans Mono',consolas,'Courier New',monospace\"><span style=\"color: #008080; text-decoration-color: #008080; font-weight: bold\">🚀 Crew: crew</span>\n",
              "└── <span style=\"color: #808000; text-decoration-color: #808000; font-weight: bold\">📋 Task: 80b79f84-ca10-4423-afd1-3ff10c449918</span>\n",
              "    <span style=\"color: #c0c0c0; text-decoration-color: #c0c0c0\">   Status: </span><span style=\"color: #bfbf7f; text-decoration-color: #bfbf7f\">Executing Task...</span>\n",
              "    └── <span style=\"color: #008000; text-decoration-color: #008000; font-weight: bold\">🤖 Agent: </span><span style=\"color: #008000; text-decoration-color: #008000\">Perfilador (periodista, mujer, progresista)</span>\n",
              "        <span style=\"color: #c0c0c0; text-decoration-color: #c0c0c0\">    Status: </span><span style=\"color: #008000; text-decoration-color: #008000; font-weight: bold\">In Progress</span>\n",
              "        └── <span style=\"color: #000080; text-decoration-color: #000080; font-weight: bold\">🧠 </span><span style=\"color: #000080; text-decoration-color: #000080\">Thinking...</span>\n",
              "</pre>\n"
            ],
            "text/plain": [
              "\u001b[1;36m🚀 Crew: \u001b[0m\u001b[1;36mcrew\u001b[0m\n",
              "└── \u001b[1;33m📋 Task: 80b79f84-ca10-4423-afd1-3ff10c449918\u001b[0m\n",
              "    \u001b[37m   Status: \u001b[0m\u001b[2;33mExecuting Task...\u001b[0m\n",
              "    └── \u001b[1;32m🤖 Agent: \u001b[0m\u001b[32mPerfilador (periodista, mujer, progresista)\u001b[0m\n",
              "        \u001b[37m    Status: \u001b[0m\u001b[1;32mIn Progress\u001b[0m\n",
              "        └── \u001b[1;34m🧠 \u001b[0m\u001b[34mThinking...\u001b[0m\n"
            ]
          },
          "metadata": {},
          "output_type": "display_data"
        },
        {
          "data": {
            "text/html": [
              "<pre style=\"white-space:pre;overflow-x:auto;line-height:normal;font-family:Menlo,'DejaVu Sans Mono',consolas,'Courier New',monospace\">\n",
              "</pre>\n"
            ],
            "text/plain": [
              "\n"
            ]
          },
          "metadata": {},
          "output_type": "display_data"
        },
        {
          "data": {
            "text/html": [
              "<pre style=\"white-space:pre;overflow-x:auto;line-height:normal;font-family:Menlo,'DejaVu Sans Mono',consolas,'Courier New',monospace\"><span style=\"color: #008080; text-decoration-color: #008080; font-weight: bold\">🚀 Crew: crew</span>\n",
              "└── <span style=\"color: #808000; text-decoration-color: #808000; font-weight: bold\">📋 Task: 80b79f84-ca10-4423-afd1-3ff10c449918</span>\n",
              "    <span style=\"color: #c0c0c0; text-decoration-color: #c0c0c0\">   Status: </span><span style=\"color: #bfbf7f; text-decoration-color: #bfbf7f\">Executing Task...</span>\n",
              "    └── <span style=\"color: #008000; text-decoration-color: #008000; font-weight: bold\">🤖 Agent: </span><span style=\"color: #008000; text-decoration-color: #008000\">Perfilador (periodista, mujer, progresista)</span>\n",
              "        <span style=\"color: #c0c0c0; text-decoration-color: #c0c0c0\">    Status: </span><span style=\"color: #008000; text-decoration-color: #008000; font-weight: bold\">In Progress</span>\n",
              "</pre>\n"
            ],
            "text/plain": [
              "\u001b[1;36m🚀 Crew: \u001b[0m\u001b[1;36mcrew\u001b[0m\n",
              "└── \u001b[1;33m📋 Task: 80b79f84-ca10-4423-afd1-3ff10c449918\u001b[0m\n",
              "    \u001b[37m   Status: \u001b[0m\u001b[2;33mExecuting Task...\u001b[0m\n",
              "    └── \u001b[1;32m🤖 Agent: \u001b[0m\u001b[32mPerfilador (periodista, mujer, progresista)\u001b[0m\n",
              "        \u001b[37m    Status: \u001b[0m\u001b[1;32mIn Progress\u001b[0m\n"
            ]
          },
          "metadata": {},
          "output_type": "display_data"
        },
        {
          "data": {
            "text/html": [
              "<pre style=\"white-space:pre;overflow-x:auto;line-height:normal;font-family:Menlo,'DejaVu Sans Mono',consolas,'Courier New',monospace\">\n",
              "</pre>\n"
            ],
            "text/plain": [
              "\n"
            ]
          },
          "metadata": {},
          "output_type": "display_data"
        },
        {
          "name": "stdout",
          "output_type": "stream",
          "text": [
            "\n",
            "\n",
            "\u001b[1m\u001b[95m# Agent:\u001b[00m \u001b[1m\u001b[92mPerfilador (periodista, mujer, progresista)\u001b[00m\n",
            "\u001b[95m## Final Answer:\u001b[00m \u001b[92m\n",
            "Perfil del agente que ha realizado el análisis:  \n",
            "Profesión: periodista  \n",
            "Género: mujer  \n",
            "Ideología política: progresista\u001b[00m\n",
            "\n",
            "\n"
          ]
        },
        {
          "data": {
            "text/html": [
              "<pre style=\"white-space:pre;overflow-x:auto;line-height:normal;font-family:Menlo,'DejaVu Sans Mono',consolas,'Courier New',monospace\"><span style=\"color: #008080; text-decoration-color: #008080; font-weight: bold\">🚀 Crew: crew</span>\n",
              "└── <span style=\"color: #808000; text-decoration-color: #808000; font-weight: bold\">📋 Task: 80b79f84-ca10-4423-afd1-3ff10c449918</span>\n",
              "    <span style=\"color: #c0c0c0; text-decoration-color: #c0c0c0\">   Status: </span><span style=\"color: #bfbf7f; text-decoration-color: #bfbf7f\">Executing Task...</span>\n",
              "    └── <span style=\"color: #008000; text-decoration-color: #008000; font-weight: bold\">🤖 Agent: </span><span style=\"color: #008000; text-decoration-color: #008000\">Perfilador (periodista, mujer, progresista)</span>\n",
              "        <span style=\"color: #c0c0c0; text-decoration-color: #c0c0c0\">    Status: </span><span style=\"color: #008000; text-decoration-color: #008000; font-weight: bold\">✅ Completed</span>\n",
              "</pre>\n"
            ],
            "text/plain": [
              "\u001b[1;36m🚀 Crew: \u001b[0m\u001b[1;36mcrew\u001b[0m\n",
              "└── \u001b[1;33m📋 Task: 80b79f84-ca10-4423-afd1-3ff10c449918\u001b[0m\n",
              "    \u001b[37m   Status: \u001b[0m\u001b[2;33mExecuting Task...\u001b[0m\n",
              "    └── \u001b[1;32m🤖 Agent: \u001b[0m\u001b[32mPerfilador (periodista, mujer, progresista)\u001b[0m\n",
              "        \u001b[37m    Status: \u001b[0m\u001b[1;32m✅ Completed\u001b[0m\n"
            ]
          },
          "metadata": {},
          "output_type": "display_data"
        },
        {
          "data": {
            "text/html": [
              "<pre style=\"white-space:pre;overflow-x:auto;line-height:normal;font-family:Menlo,'DejaVu Sans Mono',consolas,'Courier New',monospace\">\n",
              "</pre>\n"
            ],
            "text/plain": [
              "\n"
            ]
          },
          "metadata": {},
          "output_type": "display_data"
        },
        {
          "data": {
            "text/html": [
              "<pre style=\"white-space:pre;overflow-x:auto;line-height:normal;font-family:Menlo,'DejaVu Sans Mono',consolas,'Courier New',monospace\"><span style=\"color: #008080; text-decoration-color: #008080; font-weight: bold\">🚀 Crew: crew</span>\n",
              "└── <span style=\"color: #008000; text-decoration-color: #008000; font-weight: bold\">📋 Task: 80b79f84-ca10-4423-afd1-3ff10c449918</span>\n",
              "    <span style=\"color: #c0c0c0; text-decoration-color: #c0c0c0\">   Assigned to: </span><span style=\"color: #008000; text-decoration-color: #008000\">Perfilador (periodista, mujer, progresista)</span>\n",
              "    <span style=\"color: #c0c0c0; text-decoration-color: #c0c0c0\">   Status: </span><span style=\"color: #008000; text-decoration-color: #008000; font-weight: bold\">✅ Completed</span>\n",
              "    └── <span style=\"color: #008000; text-decoration-color: #008000; font-weight: bold\">🤖 Agent: </span><span style=\"color: #008000; text-decoration-color: #008000\">Perfilador (periodista, mujer, progresista)</span>\n",
              "        <span style=\"color: #c0c0c0; text-decoration-color: #c0c0c0\">    Status: </span><span style=\"color: #008000; text-decoration-color: #008000; font-weight: bold\">✅ Completed</span>\n",
              "</pre>\n"
            ],
            "text/plain": [
              "\u001b[1;36m🚀 Crew: \u001b[0m\u001b[1;36mcrew\u001b[0m\n",
              "└── \u001b[1;32m📋 Task: 80b79f84-ca10-4423-afd1-3ff10c449918\u001b[0m\n",
              "    \u001b[37m   Assigned to: \u001b[0m\u001b[32mPerfilador (periodista, mujer, progresista)\u001b[0m\n",
              "    \u001b[37m   Status: \u001b[0m\u001b[1;32m✅ Completed\u001b[0m\n",
              "    └── \u001b[1;32m🤖 Agent: \u001b[0m\u001b[32mPerfilador (periodista, mujer, progresista)\u001b[0m\n",
              "        \u001b[37m    Status: \u001b[0m\u001b[1;32m✅ Completed\u001b[0m\n"
            ]
          },
          "metadata": {},
          "output_type": "display_data"
        },
        {
          "data": {
            "text/html": [
              "<pre style=\"white-space:pre;overflow-x:auto;line-height:normal;font-family:Menlo,'DejaVu Sans Mono',consolas,'Courier New',monospace\"><span style=\"color: #008000; text-decoration-color: #008000\">╭──────────────────────────────────────────────── Task Completion ────────────────────────────────────────────────╮</span>\n",
              "<span style=\"color: #008000; text-decoration-color: #008000\">│</span>                                                                                                                 <span style=\"color: #008000; text-decoration-color: #008000\">│</span>\n",
              "<span style=\"color: #008000; text-decoration-color: #008000\">│</span>  <span style=\"color: #008000; text-decoration-color: #008000; font-weight: bold\">Task Completed</span>                                                                                                 <span style=\"color: #008000; text-decoration-color: #008000\">│</span>\n",
              "<span style=\"color: #008000; text-decoration-color: #008000\">│</span>  <span style=\"color: #c0c0c0; text-decoration-color: #c0c0c0\">Name: </span><span style=\"color: #008000; text-decoration-color: #008000\">80b79f84-ca10-4423-afd1-3ff10c449918</span>                                                                     <span style=\"color: #008000; text-decoration-color: #008000\">│</span>\n",
              "<span style=\"color: #008000; text-decoration-color: #008000\">│</span>  <span style=\"color: #c0c0c0; text-decoration-color: #c0c0c0\">Agent: </span><span style=\"color: #008000; text-decoration-color: #008000\">Perfilador (periodista, mujer, progresista)</span>                                                             <span style=\"color: #008000; text-decoration-color: #008000\">│</span>\n",
              "<span style=\"color: #008000; text-decoration-color: #008000\">│</span>                                                                                                                 <span style=\"color: #008000; text-decoration-color: #008000\">│</span>\n",
              "<span style=\"color: #008000; text-decoration-color: #008000\">│</span>                                                                                                                 <span style=\"color: #008000; text-decoration-color: #008000\">│</span>\n",
              "<span style=\"color: #008000; text-decoration-color: #008000\">╰─────────────────────────────────────────────────────────────────────────────────────────────────────────────────╯</span>\n",
              "</pre>\n"
            ],
            "text/plain": [
              "\u001b[32m╭─\u001b[0m\u001b[32m───────────────────────────────────────────────\u001b[0m\u001b[32m Task Completion \u001b[0m\u001b[32m───────────────────────────────────────────────\u001b[0m\u001b[32m─╮\u001b[0m\n",
              "\u001b[32m│\u001b[0m                                                                                                                 \u001b[32m│\u001b[0m\n",
              "\u001b[32m│\u001b[0m  \u001b[1;32mTask Completed\u001b[0m                                                                                                 \u001b[32m│\u001b[0m\n",
              "\u001b[32m│\u001b[0m  \u001b[37mName: \u001b[0m\u001b[32m80b79f84-ca10-4423-afd1-3ff10c449918\u001b[0m                                                                     \u001b[32m│\u001b[0m\n",
              "\u001b[32m│\u001b[0m  \u001b[37mAgent: \u001b[0m\u001b[32mPerfilador (periodista, mujer, progresista)\u001b[0m                                                             \u001b[32m│\u001b[0m\n",
              "\u001b[32m│\u001b[0m                                                                                                                 \u001b[32m│\u001b[0m\n",
              "\u001b[32m│\u001b[0m                                                                                                                 \u001b[32m│\u001b[0m\n",
              "\u001b[32m╰─────────────────────────────────────────────────────────────────────────────────────────────────────────────────╯\u001b[0m\n"
            ]
          },
          "metadata": {},
          "output_type": "display_data"
        },
        {
          "data": {
            "text/html": [
              "<pre style=\"white-space:pre;overflow-x:auto;line-height:normal;font-family:Menlo,'DejaVu Sans Mono',consolas,'Courier New',monospace\">\n",
              "</pre>\n"
            ],
            "text/plain": [
              "\n"
            ]
          },
          "metadata": {},
          "output_type": "display_data"
        },
        {
          "data": {
            "text/html": [
              "<pre style=\"white-space:pre;overflow-x:auto;line-height:normal;font-family:Menlo,'DejaVu Sans Mono',consolas,'Courier New',monospace\"><span style=\"color: #008080; text-decoration-color: #008080; font-weight: bold\">🚀 Crew: crew</span>\n",
              "├── <span style=\"color: #008000; text-decoration-color: #008000; font-weight: bold\">📋 Task: 80b79f84-ca10-4423-afd1-3ff10c449918</span>\n",
              "│   <span style=\"color: #c0c0c0; text-decoration-color: #c0c0c0\">   Assigned to: </span><span style=\"color: #008000; text-decoration-color: #008000\">Perfilador (periodista, mujer, progresista)</span>\n",
              "│   <span style=\"color: #c0c0c0; text-decoration-color: #c0c0c0\">   Status: </span><span style=\"color: #008000; text-decoration-color: #008000; font-weight: bold\">✅ Completed</span>\n",
              "│   └── <span style=\"color: #008000; text-decoration-color: #008000; font-weight: bold\">🤖 Agent: </span><span style=\"color: #008000; text-decoration-color: #008000\">Perfilador (periodista, mujer, progresista)</span>\n",
              "│       <span style=\"color: #c0c0c0; text-decoration-color: #c0c0c0\">    Status: </span><span style=\"color: #008000; text-decoration-color: #008000; font-weight: bold\">✅ Completed</span>\n",
              "└── <span style=\"color: #808000; text-decoration-color: #808000; font-weight: bold\">📋 Task: d54a7dbc-37b9-497b-a1bb-acaaf3c2269d</span>\n",
              "    <span style=\"color: #c0c0c0; text-decoration-color: #c0c0c0\">   Status: </span><span style=\"color: #bfbf7f; text-decoration-color: #bfbf7f\">Executing Task...</span>\n",
              "</pre>\n"
            ],
            "text/plain": [
              "\u001b[1;36m🚀 Crew: \u001b[0m\u001b[1;36mcrew\u001b[0m\n",
              "├── \u001b[1;32m📋 Task: 80b79f84-ca10-4423-afd1-3ff10c449918\u001b[0m\n",
              "│   \u001b[37m   Assigned to: \u001b[0m\u001b[32mPerfilador (periodista, mujer, progresista)\u001b[0m\n",
              "│   \u001b[37m   Status: \u001b[0m\u001b[1;32m✅ Completed\u001b[0m\n",
              "│   └── \u001b[1;32m🤖 Agent: \u001b[0m\u001b[32mPerfilador (periodista, mujer, progresista)\u001b[0m\n",
              "│       \u001b[37m    Status: \u001b[0m\u001b[1;32m✅ Completed\u001b[0m\n",
              "└── \u001b[1;33m📋 Task: d54a7dbc-37b9-497b-a1bb-acaaf3c2269d\u001b[0m\n",
              "    \u001b[37m   Status: \u001b[0m\u001b[2;33mExecuting Task...\u001b[0m\n"
            ]
          },
          "metadata": {},
          "output_type": "display_data"
        },
        {
          "data": {
            "text/html": [
              "<pre style=\"white-space:pre;overflow-x:auto;line-height:normal;font-family:Menlo,'DejaVu Sans Mono',consolas,'Courier New',monospace\">\n",
              "</pre>\n"
            ],
            "text/plain": [
              "\n"
            ]
          },
          "metadata": {},
          "output_type": "display_data"
        },
        {
          "data": {
            "text/html": [
              "<pre style=\"white-space:pre;overflow-x:auto;line-height:normal;font-family:Menlo,'DejaVu Sans Mono',consolas,'Courier New',monospace\"><span style=\"color: #008080; text-decoration-color: #008080; font-weight: bold\">🚀 Crew: crew</span>\n",
              "├── <span style=\"color: #008000; text-decoration-color: #008000; font-weight: bold\">📋 Task: 80b79f84-ca10-4423-afd1-3ff10c449918</span>\n",
              "│   <span style=\"color: #c0c0c0; text-decoration-color: #c0c0c0\">   Assigned to: </span><span style=\"color: #008000; text-decoration-color: #008000\">Perfilador (periodista, mujer, progresista)</span>\n",
              "│   <span style=\"color: #c0c0c0; text-decoration-color: #c0c0c0\">   Status: </span><span style=\"color: #008000; text-decoration-color: #008000; font-weight: bold\">✅ Completed</span>\n",
              "│   └── <span style=\"color: #008000; text-decoration-color: #008000; font-weight: bold\">🤖 Agent: </span><span style=\"color: #008000; text-decoration-color: #008000\">Perfilador (periodista, mujer, progresista)</span>\n",
              "│       <span style=\"color: #c0c0c0; text-decoration-color: #c0c0c0\">    Status: </span><span style=\"color: #008000; text-decoration-color: #008000; font-weight: bold\">✅ Completed</span>\n",
              "└── <span style=\"color: #808000; text-decoration-color: #808000; font-weight: bold\">📋 Task: d54a7dbc-37b9-497b-a1bb-acaaf3c2269d</span>\n",
              "    <span style=\"color: #c0c0c0; text-decoration-color: #c0c0c0\">   Status: </span><span style=\"color: #bfbf7f; text-decoration-color: #bfbf7f\">Executing Task...</span>\n",
              "    └── <span style=\"color: #008000; text-decoration-color: #008000; font-weight: bold\">🤖 Agent: </span><span style=\"color: #008000; text-decoration-color: #008000\">Analista</span>\n",
              "        <span style=\"color: #c0c0c0; text-decoration-color: #c0c0c0\">    Status: </span><span style=\"color: #008000; text-decoration-color: #008000; font-weight: bold\">In Progress</span>\n",
              "</pre>\n"
            ],
            "text/plain": [
              "\u001b[1;36m🚀 Crew: \u001b[0m\u001b[1;36mcrew\u001b[0m\n",
              "├── \u001b[1;32m📋 Task: 80b79f84-ca10-4423-afd1-3ff10c449918\u001b[0m\n",
              "│   \u001b[37m   Assigned to: \u001b[0m\u001b[32mPerfilador (periodista, mujer, progresista)\u001b[0m\n",
              "│   \u001b[37m   Status: \u001b[0m\u001b[1;32m✅ Completed\u001b[0m\n",
              "│   └── \u001b[1;32m🤖 Agent: \u001b[0m\u001b[32mPerfilador (periodista, mujer, progresista)\u001b[0m\n",
              "│       \u001b[37m    Status: \u001b[0m\u001b[1;32m✅ Completed\u001b[0m\n",
              "└── \u001b[1;33m📋 Task: d54a7dbc-37b9-497b-a1bb-acaaf3c2269d\u001b[0m\n",
              "    \u001b[37m   Status: \u001b[0m\u001b[2;33mExecuting Task...\u001b[0m\n",
              "    └── \u001b[1;32m🤖 Agent: \u001b[0m\u001b[32mAnalista\u001b[0m\n",
              "        \u001b[37m    Status: \u001b[0m\u001b[1;32mIn Progress\u001b[0m\n"
            ]
          },
          "metadata": {},
          "output_type": "display_data"
        },
        {
          "data": {
            "text/html": [
              "<pre style=\"white-space:pre;overflow-x:auto;line-height:normal;font-family:Menlo,'DejaVu Sans Mono',consolas,'Courier New',monospace\">\n",
              "</pre>\n"
            ],
            "text/plain": [
              "\n"
            ]
          },
          "metadata": {},
          "output_type": "display_data"
        },
        {
          "name": "stdout",
          "output_type": "stream",
          "text": [
            "\u001b[1m\u001b[95m# Agent:\u001b[00m \u001b[1m\u001b[92mAnalista\u001b[00m\n",
            "\u001b[95m## Task:\u001b[00m \u001b[92mAnaliza el siguiente texto completo con atención al contexto y la intención del autor.\n",
            "\n",
            "    Tu objetivo es detectar frases que perpetúen estereotipos, lenguaje sexista o sesgos de género de forma explícita o implícita.  \n",
            "    ⚠️ Ten en cuenta que algunas frases podrían parecer problemáticas en sí mismas, pero no lo son si el texto las está usando para **criticar** esos sesgos.  \n",
            "    No marques como sesgada ninguna frase si forma parte de una **denuncia o crítica** a ese mismo lenguaje.\n",
            "\n",
            "    1. Enumera las frases que verdaderamente refuercen o reproduzcan estereotipos o sesgos de género. Justifica cada una.\n",
            "    2. En el texto original:\n",
            "        - Usa `<span style=\"color: red; font-weight: bold;\">... </span>` para marcar frases con sesgos o estereotipos.\n",
            "\n",
            "    Texto original:\n",
            "    Dice Esther Vivas (Sabadell, 1975) que \"la literatura de la maternidad parte a menudo de la propia experiencia\". ¿Quién iba, si no, a querer dedicar su tiempo a un asunto tan insignificante? El caso de esta periodista, que se había dedicado previamente al estudio del sistema agroalimentario y de los movimientos sociales, no es, dice, una excepción. A partir de su embarazo y de las primeras búsquedas de información sobre cómo se podría desarrollar el parto, comenzó a preguntarse por qué no le habían hablado de todo aquello. Por qué todo el mundo aceptaba esa violencia obstétrica. Mamá desobediente (editado por Capitán Swing en castellano y en catalán por Ara Llibres, bajo el título Mama desobedient) es el resultado de aquella primera \"indignación\", pero no se limita a ella. En el ensayo, que lleva por subtítulo Una mirada feminista a la maternidad, Vivas se ocupa primero de los mitos existentes en torno a ella, para centrarse luego en dos aspectos concretos de esta experiencia que generan un debate encendido: primero, la atención al parto; después, la lactancia.\n",
            "\n",
            "Y no es casualidad que cuestiones aparentemente privadas sobre si una mujer le da el pecho o no a su hijo generen polémica. La autora no solo defiende que la maternidad es un asunto público, imbricado en la economía y la política, sino que la sitúa en el centro del feminismo de clase y el anticapitalismo. Si no se la ha considerado así, defiende en el libro, es porque existen intereses para ello.\n",
            "\n",
            "Pregunta. ¿Por qué ser madre y feminista supone ser desobediente? ¿Desobediente con respecto al sistema neoliberal o con respecto a cierto feminismo?\n",
            "\n",
            "Respuesta. Ser madre implica desobedecer porque vivimos en un sistema que es hostil a la maternidad y a la crianza, y si eres feminista y de repente eres madre, esa maternidad te reafirma en tus valores feministas. ¿Qué sucede? Que en general el feminismo ha tenido una relación compleja con la maternidad, porque en la medida en que la maternidad ha sido utilizada por el patriarcado como un instrumento de control del cuerpo de las mujeres, cuando el feminismo se rebeló contra esta imposición, en los años sesenta o setenta, en la Segunda Ola, se creó un discurso antipaternal y antirreproductivo, y no se abordaron las contradicciones que implica la maternidad. Por eso creo que desde el feminismo es necesario reivindicar la experiencia materna, no en clave romántica sino en clave de experiencia que tenemos que poder vivir como mujeres, al margen de las imposiciones y restricciones del sistema.\n",
            "\n",
            "P. ¿Pensar la maternidad desde el feminismo supone repensar la idea que tenemos de la incorporación de la mujer al mundo laboral?\n",
            "\n",
            "R. Sí. En general, desde un cierto feminismo, a la hora de plantear la igualdad en el mercado de trabajo, se ha señalado la maternidad, el cuidado y la crianza como una carga. Desde este punto de vista, ante la maternidad patriarcal impuesta, ante ese modelo de feminidad abnegada cuyo fin último es ser madre, se ha planteado que la alternativa era supeditar la crianza al mercado y al empleo. Es necesario cambiar la mirada, porque el problema no es la maternidad, sino el mercado, una sociedad que es hostil a unas prácticas que son fundamentales para la reproducción de la vida, como son gestar, parir, dar de mamar y cuidar.\n",
            "\n",
            "P. ¿Cómo afecta esto a la manera en que el movimiento feminista se ha planteado la narrativa en torno a la igualdad en el trabajo?\n",
            "\n",
            "R. Aquí también hemos vistos distintos discursos y estrategias. Por un lado hay un cierto feminismo liberal que básicamente reivindica la igualdad para un sector de mujeres de clase media blanca. En Estados Unidos vemos en el partido demócrata y que aquí vemos a medio camino entre el PSOE y Ciudadanos. Por eso creo que hay que reivindicar el feminismo del 99%, el que reclama la igualdad del conjunto de las mujeres y que señala que las desigualdades de género vienen también de la desigualdades de clase y de etnia, y que por eso es necesario acabar con las desigualdades socioeconómicas para conseguir una igualdad de género real.\n",
            "\n",
            "P. Por lo heredado de la Segunda Ola, existe esta idea de que liberarse de la maternidad obligatoria ha sido algo emancipatorio, y que por tanto poner la maternidad en el centro del feminismo sería negar esa conquista. ¿Cómo se resuelve este conflicto?\n",
            "\n",
            "R. Lo que es necesario no es acabar con la experiencia de la maternidad, sino con lo que la activista feminista Adrienne Rich, ya en los años setenta, llamaba “la institución de la maternidad”. Es fundamental que la nueva oleada feminista incorpore la reivindicación de poder vivir la experiencia materna libre de imposiciones. La cuestión no es negar la maternidad sino reivindicarla. Esto no implica dar la razón a posturas reaccionarias en relación a la maternidad, sino reivindicar la maternidad en clave emancipadora. Yo como mujer tengo derecho a decidir cómo quiero vivir mi embarazo, mi parto y mi lactancia: esto es feminismo, como también es feminismo decidir si quiero tener un hijo o no, si quiero abortar o no. Reivindicar una maternidad feminista va de la mano con reivindicar el pleno control sobre nuestro cuerpo como mujeres.\n",
            "\n",
            "P. Le dedica parte del libro al debate sobre las bajas de maternidad y paternidad, y señala que las nuevas bajas intransferibles quieren reforzar la igualdad entre hombres y mujeres pero en realidad ignora la experiencia de la maternidad. ¿Qué posición cree que ha faltado en el debate?nuevas bajas intransferibles\n",
            "\n",
            "R. Se han obviado en gran medida las demandas de un sector del feminismo que reivindica una ampliación de los permisos de maternidad, porque en la actualidad el permiso de maternidad ni siquiera permite una lactancia materna en exclusiva hasta los seis meses, como recomiendan todas las instancias de salud. Y también es un debate que ha menospreciado el sentir de muchas madres. Hay varios estudios que señalan que cuando una mujer tiene un hijo, quiere estar con la criatura, y en cambio estos permisos iguales e intransferibles que se reivindican siguen estigmatizando la experiencia materna y la consideran una carga. Con esto no quiero decir que la maternidad sea tan solo una maternidad de las mujeres, es una responsabilidad de madres, de padres, de la sociedad en general, y que hay que darle el valor social, político y económico que realmente tiene.\n",
            "\n",
            "Por otro lado, es positivo plantear una ampliación del permiso de paternidad, pero hay que tener en cuenta que si este finalmente se amplía hasta las ocho semanas el año que viene, en tan solo tres años el permiso de paternidad habrá aumentado un 300%, pasando de una semana en 2015 a ocho semana en el 2019. Cuando el permiso de maternidad en treinta años, desde el 89, no se ha movido una coma, y es extremadamente corto. No se puede ampliar el permiso de paternidad sin reivindicar un aumento del de maternidad. Esto se dice que se hace en nombre de la igualdad, pero creo que no podemos atribuir la desigualdad en el mercado de trabajo solo a la experiencia materna, porque van mucho más allá.\n",
            "\n",
            "P. ¿En qué medida cree que estas bajas iguales e intransferibles contribuyen a estigmatizar la experiencia de la maternidad?R\n",
            "\n",
            ". Porque son unos permisos en los cuales básicamente se antepone el mercado y el empleo a la crianza. Porque si se considera, en relación al permiso de maternidad, que 16 semanas son suficientes para acompañar a la criatura después de nacer, son permisos que no tienen en cuenta esas necesidades de un bebé, que necesita estar con sus progenitores el máximo tiempo posible tras nacer, y que la fuente de alimento más beneficiosa es la leche materna.\n",
            "\n",
            "Este es un elemento del que no se acostumbra a hablar, pero que es una medida profundamente clasista. De los permisos actuales solo se benefician los progenitores que trabajan o han trabajado y cotizan, por lo que los sectores con menores recursos económicos no tienen acceso a ningún tipo de ayuda por maternidad o paternidad. Y en segundo lugar estos permisos iguales e intransferibles hacen que si tú como madre quieres estar más tiempo con tu criatura, quieres darle de mamar hasta los seis meses, solo aquellas mujeres con determinadas capacidades adquisitivas podrán hacerlo, porque solo ellas podrán tomarse una excedencia por su cuenta. Es una idea clasista que convierte la crianza en un privilegio.\n",
            "\n",
            "P. ¿Qué modelo, de los expuestos en el libro, considera más conveniente?\n",
            "\n",
            "R. Se tendrían que ampliar ambos permisos con un periodo de tiempo muy superior al actual, como de hecho hacen muchos países nórdicos, que dan un peso central a lo que es la ayuda a la maternidad y la crianza. Porque aquí cada año con los informes de la caída de la natalidad nos escandalizamos, pero no se hace absolutamente nada para revertirla. Apostaría por un modelo como los nórdicos, donde las bajas son más amplias que las que tenemos en el Estado español, y que pueden ser compartidas y una parte de ellas transferibles.\n",
            "\n",
            "P. ¿Por qué la lactancia tiene tanto espacio en el debate sobre la maternidad? Se discute desde sobre cómo y dónde se produce hasta qué forma es más conveniente.\n",
            "\n",
            "R. El parto y la lactancia son dos partes esenciales en la crianza. Quería profundizar en el debate sobre la lactancia materna porque también en los feminismos hay un cierto debate sobre si se impone la teta o el biberón. Y me parecía interesante señalar e investigar cómo, a pesar de que cada vez se ha recuperado la lactancia materna —algo que es positivo, porque en los años setenta prácticamente desapareció—, aún el contexto social es adverso, contrariamente a lo que puede parecer en un primer momento.\n",
            "\n",
            "P. En esa época se configura un discurso que asegura que el biberón da más libertad a las madres, y que además también facilita la incorporación al trabajo. ¿Cómo nos relacionamos hoy con estas dos ideas?\n",
            "\n",
            "R. Cuando yo reflexiono con una mirada crítica acerca de la lactancia artificial lo hago desde el punto de vista de los intereses económicos que hay detrás el negocio del biberón, no sobre lo que hace cada madre, porque por desgracia hacemos lo que buenamente podemos en nuestras circunstancias. Dicho esto, cuando se generalizó la lactancia artificial en los años setenta u ochenta, hay unos intereses empresariales claros. La generalización de la lactancia artificial supuso un negocio ingente para las empresas de la industria láctea y alimentaria, como Nestlé o Danone, de ahí que se promocionara como se hizo. Y lo que se hizo fue incidir en el personal sanitario para que este fuera proclive a promocionar la lactancia artificial en detrimento de la lactancia materna.\n",
            "\n",
            "Por otro lado, uno de los elementos que ha incomodado más al feminismo con respecto a la lactancia es el carácter biológico de la práctica, que es biosocial, hay un elemento cultural y otro biológico. Yo creo que desde el feminismo se trata de reconocer tanto el carácter biológico como cultural de la maternidad y de la lactancia, pero precisamente por esto, fruto de esta incomodidad, muchas veces se ha considerado que la maternidad era una práctica que encerraba a las madres en el hogar, que las alejaba del mercado de trabajo, y es necesario cambiar la mirada. Porque dar de mamar es una práctica profundamente feminista, e incluso diría que antineoliberal y anticapitalista. En la medida en que dar la teta no es solo lo mejor para la criatura (y hay determinadas circunstancias en las que dar el biberón es lo mejor), también es extremadamente beneficiosa para la mamá y en particular después del parto, por lo que implica de recuperación, de vínculo con la criatura. A la vez, la lactancia materna permite la autonomía de la mujer, porque no necesita gastar dinero, sabe lo que le da de comer, es kilómetro cero… Y si decía que dar la teta es antineoliberal es porque es una práctica que no beneficia al mercado, que necesita de unos tiempos y de un espacio que son contrarios a la lógica mercantil y productivista, y no tiene un impacto negativo en el medio ambiente.\n",
            "\n",
            "P. Las madres que optan por dar el pecho también suelen hablar de que esto supone una desigualdad insalvable con el padre en la tarea de cuidados.R\n",
            "\n",
            ". Dar el biberón per se no te hace más libre como mujer, ni es un mecanismo de igualdad. Basta con ver a las madres que dan el biberón y crían en soledad. Tampoco la teta per se te hace más libre. El carácter biológico de la lactancia es innegable, pero esto no implica que el padre no pueda implicarse en muchas otras tareas. Los bebés no solo se despiertan por la noche porque quieren mamar, sino por muchas otras circunstancias. Criar en igualdad no tiene tanto que ver con cómo alimentamos a la criatura nada más nacer, sino con muchos otros elementos vinculados a la relación de pareja y con un entorno social que es hostil a la maternidad y a la crianza.\n",
            "\n",
            "P. La tercera pata del libro aborda la violencia obstétrica, y habla de una evolución progresiva en los hospitales. ¿Cuál es el panorama general ahora mismo?violencia obstétrica\n",
            "\n",
            "R. Ha habido una serie de cambios muy significativos en relación a la atención al parto en el sistema hospitalario, que se han producido gracias y en parte a organizaciones de mujeres que han reivindicado un parto respetado. Sin El parto es nuestro no se entenderían los cambios en la atención sanitaria. Pero aún así, en la medida en que muchas de estas modificaciones que se han hecho a nivel gubernamental son de cumplimiento voluntario, aún existen muchas malas prácticas del personal sanitario, debido a que hay una serie de mitos y prejuicios en relación al nacimiento que acaban justificando estas prácticas. Y de hecho solo es necesario ver los porcentajes de cesáreas, de episiotomías, de partos instrumentales que se llevan a cabo, que son muy superiores de los que la Organización Mundial de la Salud considera razonables. Esto tiene un impacto físico y psíquico en las mujeres, y también en las criaturas.\n",
            "\n",
            "P. Llama particularmente la atención las cifras de episiotomía, que indican que se dan en España en el 43% de los partos frente al tope del 15% que recomienda la OMS. ¿Hay una carga cultural en esto?\n",
            "\n",
            "R. Más que una carga cultural hay unas prácticas médicas que consideran que en la medida en que el parto es una enfermedad, la atención al parto se aborda desde este punto de vista y esto dificulta que el proceso del parto se dé de manera natural. Estas prácticas facilitan el trabajo médico, pero tienen consecuencias negativas. En el caso de la episiotomía, particularmente, por lo que implica de problemas de micción, en las relaciones sexuales, etcétera. Hoy, cuatro de cada 10 mujeres que dan a luz sufren una episiotomía: hemos mejorado, porque en el año 95 eran 9 de cada 10. En los países nórdicos es 1 de cada 10. No creo que el periné de las mujeres españolas sea distinto al periné de las mujeres suecas. Si esto se produce es porque hay detrás unas prácticas médicas que consideran que esto es correcto. Hay que cambiar la formación médica para darle una perspectiva feminista y de género.\n",
            "\n",
            "P. En el libro se pregunta dónde están las comadronas, y también se plantea el problema de la formación. ¿Cómo se relacionan estos dos aspectos, qué se aprende en las universidades y quienes llegan a atender el parto?R\n",
            "\n",
            ". Decíamos que hay una visión por parte del personal sanitario patológica, que se ve como una enfermedad, y esta visión es compartida por la sociedad. Y en la medida en que la sociedad no reconoce el parto como un proceso fisiológico, es difícil conseguir que haya un parto respetado. Yo digo que la violencia obstétrica es la última frontera de la violencia de género porque es una violencia aceptada, por los profesionales, por las mujeres afectadas y por sus allegados. Se considera que el parto es eso. Y por eso pensamos siempre que el personal mejor preparado para atender al parto es un ginecólogo, cuando en los partos de bajo riesgo es la comadrona. Hay que reivindicar la figura de la comadrona en la atención al parto y su plena autonomía como profesionales de la salud.\n",
            "\n",
            "P. En ese sentido, ¿comadronas y madres son aliadas?R\n",
            "\n",
            ". Sí, por supuesto. Lo que señalan muchos estudios es que en la medida en que el parto es llevada por comadronas, el grado de satisfacción de las mujeres que dan a luz es superior. El problema es que hay una profunda relación jerárquica en el sistema hospitalario que tienes a menospreciarlas. A la vez hay una falta también de este personal en los hospitales, que va en detrimento de la calidad de la atención al parto. Que haya más comadronas revierte positivamente en la salud de las mujeres.\n",
            "\n",
            "El 85% de excedencias para el cuidado de hijos tramitadas hasta marzo de 2021 fueron solicitadas por las madres\n",
            "\n",
            "Ver más\n",
            "\n",
            "P. ¿Cuál considera que debe ser el lugar desde el que se reclamen estas reivindicaciones alrededor de la maternidad?R\n",
            "\n",
            ". Por un lado, es necesario que el feminismo reivindique la maternidad y la experiencia materna al margen de las imposiciones del sistema. Creo que esta nueva ola feminista, este feminismo del 99%, incorpore la maternidad a sus demandas y que se normalice la relación entre feminismos y maternidad. No como algo idílico o romántico, sino como experiencia y dándole el valor sociopolítico y económico que tiene. Luego están los grupos de crianza, los grupos de apoyo a la lactancia materna, creo que es importante que se sumen a esta oleada feminista en auge y que apuesten por una maternidad transformadora a la hora de llevar a cabo sus reivindicaciones. Porque la maternidad no es una cuestión individual, es una cuestión política. Porque si queremos vivir una maternidad digna lo que tenemos que hacer es cambiar el entorno socioeconómico. Y este cambio radical del sistema solo puede hacerse con el apoyo de otros movimientos sociales.\n",
            "    \u001b[00m\n"
          ]
        },
        {
          "data": {
            "text/html": [
              "<pre style=\"white-space:pre;overflow-x:auto;line-height:normal;font-family:Menlo,'DejaVu Sans Mono',consolas,'Courier New',monospace\"><span style=\"color: #008080; text-decoration-color: #008080; font-weight: bold\">🚀 Crew: crew</span>\n",
              "├── <span style=\"color: #008000; text-decoration-color: #008000; font-weight: bold\">📋 Task: 80b79f84-ca10-4423-afd1-3ff10c449918</span>\n",
              "│   <span style=\"color: #c0c0c0; text-decoration-color: #c0c0c0\">   Assigned to: </span><span style=\"color: #008000; text-decoration-color: #008000\">Perfilador (periodista, mujer, progresista)</span>\n",
              "│   <span style=\"color: #c0c0c0; text-decoration-color: #c0c0c0\">   Status: </span><span style=\"color: #008000; text-decoration-color: #008000; font-weight: bold\">✅ Completed</span>\n",
              "│   └── <span style=\"color: #008000; text-decoration-color: #008000; font-weight: bold\">🤖 Agent: </span><span style=\"color: #008000; text-decoration-color: #008000\">Perfilador (periodista, mujer, progresista)</span>\n",
              "│       <span style=\"color: #c0c0c0; text-decoration-color: #c0c0c0\">    Status: </span><span style=\"color: #008000; text-decoration-color: #008000; font-weight: bold\">✅ Completed</span>\n",
              "└── <span style=\"color: #808000; text-decoration-color: #808000; font-weight: bold\">📋 Task: d54a7dbc-37b9-497b-a1bb-acaaf3c2269d</span>\n",
              "    <span style=\"color: #c0c0c0; text-decoration-color: #c0c0c0\">   Status: </span><span style=\"color: #bfbf7f; text-decoration-color: #bfbf7f\">Executing Task...</span>\n",
              "    └── <span style=\"color: #008000; text-decoration-color: #008000; font-weight: bold\">🤖 Agent: </span><span style=\"color: #008000; text-decoration-color: #008000\">Analista</span>\n",
              "        <span style=\"color: #c0c0c0; text-decoration-color: #c0c0c0\">    Status: </span><span style=\"color: #008000; text-decoration-color: #008000; font-weight: bold\">In Progress</span>\n",
              "        └── <span style=\"color: #000080; text-decoration-color: #000080; font-weight: bold\">🧠 </span><span style=\"color: #000080; text-decoration-color: #000080\">Thinking...</span>\n",
              "</pre>\n"
            ],
            "text/plain": [
              "\u001b[1;36m🚀 Crew: \u001b[0m\u001b[1;36mcrew\u001b[0m\n",
              "├── \u001b[1;32m📋 Task: 80b79f84-ca10-4423-afd1-3ff10c449918\u001b[0m\n",
              "│   \u001b[37m   Assigned to: \u001b[0m\u001b[32mPerfilador (periodista, mujer, progresista)\u001b[0m\n",
              "│   \u001b[37m   Status: \u001b[0m\u001b[1;32m✅ Completed\u001b[0m\n",
              "│   └── \u001b[1;32m🤖 Agent: \u001b[0m\u001b[32mPerfilador (periodista, mujer, progresista)\u001b[0m\n",
              "│       \u001b[37m    Status: \u001b[0m\u001b[1;32m✅ Completed\u001b[0m\n",
              "└── \u001b[1;33m📋 Task: d54a7dbc-37b9-497b-a1bb-acaaf3c2269d\u001b[0m\n",
              "    \u001b[37m   Status: \u001b[0m\u001b[2;33mExecuting Task...\u001b[0m\n",
              "    └── \u001b[1;32m🤖 Agent: \u001b[0m\u001b[32mAnalista\u001b[0m\n",
              "        \u001b[37m    Status: \u001b[0m\u001b[1;32mIn Progress\u001b[0m\n",
              "        └── \u001b[1;34m🧠 \u001b[0m\u001b[34mThinking...\u001b[0m\n"
            ]
          },
          "metadata": {},
          "output_type": "display_data"
        },
        {
          "data": {
            "text/html": [
              "<pre style=\"white-space:pre;overflow-x:auto;line-height:normal;font-family:Menlo,'DejaVu Sans Mono',consolas,'Courier New',monospace\">\n",
              "</pre>\n"
            ],
            "text/plain": [
              "\n"
            ]
          },
          "metadata": {},
          "output_type": "display_data"
        },
        {
          "data": {
            "text/html": [
              "<pre style=\"white-space:pre;overflow-x:auto;line-height:normal;font-family:Menlo,'DejaVu Sans Mono',consolas,'Courier New',monospace\"><span style=\"color: #008080; text-decoration-color: #008080; font-weight: bold\">🚀 Crew: crew</span>\n",
              "├── <span style=\"color: #008000; text-decoration-color: #008000; font-weight: bold\">📋 Task: 80b79f84-ca10-4423-afd1-3ff10c449918</span>\n",
              "│   <span style=\"color: #c0c0c0; text-decoration-color: #c0c0c0\">   Assigned to: </span><span style=\"color: #008000; text-decoration-color: #008000\">Perfilador (periodista, mujer, progresista)</span>\n",
              "│   <span style=\"color: #c0c0c0; text-decoration-color: #c0c0c0\">   Status: </span><span style=\"color: #008000; text-decoration-color: #008000; font-weight: bold\">✅ Completed</span>\n",
              "│   └── <span style=\"color: #008000; text-decoration-color: #008000; font-weight: bold\">🤖 Agent: </span><span style=\"color: #008000; text-decoration-color: #008000\">Perfilador (periodista, mujer, progresista)</span>\n",
              "│       <span style=\"color: #c0c0c0; text-decoration-color: #c0c0c0\">    Status: </span><span style=\"color: #008000; text-decoration-color: #008000; font-weight: bold\">✅ Completed</span>\n",
              "└── <span style=\"color: #808000; text-decoration-color: #808000; font-weight: bold\">📋 Task: d54a7dbc-37b9-497b-a1bb-acaaf3c2269d</span>\n",
              "    <span style=\"color: #c0c0c0; text-decoration-color: #c0c0c0\">   Status: </span><span style=\"color: #bfbf7f; text-decoration-color: #bfbf7f\">Executing Task...</span>\n",
              "    └── <span style=\"color: #008000; text-decoration-color: #008000; font-weight: bold\">🤖 Agent: </span><span style=\"color: #008000; text-decoration-color: #008000\">Analista</span>\n",
              "        <span style=\"color: #c0c0c0; text-decoration-color: #c0c0c0\">    Status: </span><span style=\"color: #008000; text-decoration-color: #008000; font-weight: bold\">In Progress</span>\n",
              "</pre>\n"
            ],
            "text/plain": [
              "\u001b[1;36m🚀 Crew: \u001b[0m\u001b[1;36mcrew\u001b[0m\n",
              "├── \u001b[1;32m📋 Task: 80b79f84-ca10-4423-afd1-3ff10c449918\u001b[0m\n",
              "│   \u001b[37m   Assigned to: \u001b[0m\u001b[32mPerfilador (periodista, mujer, progresista)\u001b[0m\n",
              "│   \u001b[37m   Status: \u001b[0m\u001b[1;32m✅ Completed\u001b[0m\n",
              "│   └── \u001b[1;32m🤖 Agent: \u001b[0m\u001b[32mPerfilador (periodista, mujer, progresista)\u001b[0m\n",
              "│       \u001b[37m    Status: \u001b[0m\u001b[1;32m✅ Completed\u001b[0m\n",
              "└── \u001b[1;33m📋 Task: d54a7dbc-37b9-497b-a1bb-acaaf3c2269d\u001b[0m\n",
              "    \u001b[37m   Status: \u001b[0m\u001b[2;33mExecuting Task...\u001b[0m\n",
              "    └── \u001b[1;32m🤖 Agent: \u001b[0m\u001b[32mAnalista\u001b[0m\n",
              "        \u001b[37m    Status: \u001b[0m\u001b[1;32mIn Progress\u001b[0m\n"
            ]
          },
          "metadata": {},
          "output_type": "display_data"
        },
        {
          "data": {
            "text/html": [
              "<pre style=\"white-space:pre;overflow-x:auto;line-height:normal;font-family:Menlo,'DejaVu Sans Mono',consolas,'Courier New',monospace\">\n",
              "</pre>\n"
            ],
            "text/plain": [
              "\n"
            ]
          },
          "metadata": {},
          "output_type": "display_data"
        },
        {
          "name": "stdout",
          "output_type": "stream",
          "text": [
            "\n",
            "\n",
            "\u001b[1m\u001b[95m# Agent:\u001b[00m \u001b[1m\u001b[92mAnalista\u001b[00m\n",
            "\u001b[95m## Final Answer:\u001b[00m \u001b[92m\n",
            "1. **Frases que refuerzan o reproducen estereotipos o sesgos de género:**\n",
            "\n",
            "   - **\"¿Quién iba, si no, a querer dedicar su tiempo a un asunto tan insignificante?\"**  \n",
            "     Justificación: Esta frase sugiere que la maternidad es un tema trivial y que solo se le puede dar importancia si se tiene una experiencia personal. Refuerza la idea de que las cuestiones de maternidad son menos relevantes en comparación con otros temas.\n",
            "\n",
            "   - **\"la maternidad ha sido utilizada por el patriarcado como un instrumento de control del cuerpo de las mujeres\"**  \n",
            "     Justificación: Aunque la frase critica el uso patriarcal de la maternidad, también puede perpetuar la idea de que la maternidad es inherentemente negativa o problemática, lo que puede deslegitimar la experiencia positiva de ser madre.\n",
            "\n",
            "   - **\"la maternidad patriarcal impuesta, ante ese modelo de feminidad abnegada cuyo fin último es ser madre\"**  \n",
            "     Justificación: Esta frase implica que ser madre es un objetivo impuesto por el patriarcado y que la feminidad está ligada a la abnegación, lo que puede reforzar estereotipos negativos sobre las mujeres que eligen ser madres.\n",
            "\n",
            "   - **\"dar de mamar es una práctica profundamente feminista, e incluso diría que antineoliberal y anticapitalista\"**  \n",
            "     Justificación: Aunque se presenta como una afirmación positiva, puede implicar que las mujeres que no eligen amamantar están en contra del feminismo o son menos comprometidas con la causa, lo que puede ser un juicio de valor.\n",
            "\n",
            "   - **\"la lactancia materna permite la autonomía de la mujer, porque no necesita gastar dinero\"**  \n",
            "     Justificación: Esta afirmación puede sugerir que las mujeres que no amamantan son menos autónomas o que dependen de opciones más costosas, lo que puede ser problemático y clasista.\n",
            "\n",
            "   - **\"la violencia obstétrica es la última frontera de la violencia de género porque es una violencia aceptada\"**  \n",
            "     Justificación: Aunque se critica la violencia obstétrica, la frase puede dar la impresión de que el parto y la maternidad son inherentemente violentos, lo que puede deslegitimar experiencias positivas de parto.\n",
            "\n",
            "2. **Texto original anotado:**\n",
            "\n",
            "   Dice Esther Vivas (Sabadell, 1975) que \"la literatura de la maternidad parte a menudo de la propia experiencia\". <span style=\"color: red; font-weight: bold;\">¿Quién iba, si no, a querer dedicar su tiempo a un asunto tan insignificante?</span> El caso de esta periodista, que se había dedicado previamente al estudio del sistema agroalimentario y de los movimientos sociales, no es, dice, una excepción. A partir de su embarazo y de las primeras búsquedas de información sobre cómo se podría desarrollar el parto, comenzó a preguntarse por qué no le habían hablado de todo aquello. Por qué todo el mundo aceptaba esa violencia obstétrica. Mamá desobediente (editado por Capitán Swing en castellano y en catalán por Ara Llibres, bajo el título Mama desobedient) es el resultado de aquella primera \"indignación\", pero no se limita a ella. En el ensayo, que lleva por subtítulo Una mirada feminista a la maternidad, Vivas se ocupa primero de los mitos existentes en torno a ella, para centrarse luego en dos aspectos concretos de esta experiencia que generan un debate encendido: primero, la atención al parto; después, la lactancia.\n",
            "\n",
            "Y no es casualidad que cuestiones aparentemente privadas sobre si una mujer le da el pecho o no a su hijo generen polémica. La autora no solo defiende que la maternidad es un asunto público, imbricado en la economía y la política, sino que la sitúa en el centro del feminismo de clase y el anticapitalismo. Si no se la ha considerado así, defiende en el libro, es porque existen intereses para ello.\n",
            "\n",
            "Pregunta. <span style=\"color: red; font-weight: bold;\">¿Por qué ser madre y feminista supone ser desobediente?</span> <span style=\"color: red; font-weight: bold;\">¿Desobediente con respecto al sistema neoliberal o con respecto a cierto feminismo?</span>\n",
            "\n",
            "Respuesta. Ser madre implica desobedecer porque vivimos en un sistema que es hostil a la maternidad y a la crianza, y si eres feminista y de repente eres madre, esa maternidad te reafirma en tus valores feministas. <span style=\"color: red; font-weight: bold;\">¿Qué sucede? Que en general el feminismo ha tenido una relación compleja con la maternidad, porque en la medida en que la maternidad ha sido utilizada por el patriarcado como un instrumento de control del cuerpo de las mujeres,</span> cuando el feminismo se rebeló contra esta imposición, en los años sesenta o setenta, en la Segunda Ola, se creó un discurso antipaternal y antirreproductivo, y no se abordaron las contradicciones que implica la maternidad. Por eso creo que desde el feminismo es necesario reivindicar la experiencia materna, no en clave romántica sino en clave de experiencia que tenemos que poder vivir como mujeres, al margen de las imposiciones y restricciones del sistema.\n",
            "\n",
            "P. <span style=\"color: red; font-weight: bold;\">¿Pensar la maternidad desde el feminismo supone repensar la idea que tenemos de la incorporación de la mujer al mundo laboral?</span>\n",
            "\n",
            "R. Sí. En general, desde un cierto feminismo, a la hora de plantear la igualdad en el mercado de trabajo, se ha señalado la maternidad, el cuidado y la crianza como una carga. Desde este punto de vista, ante la maternidad patriarcal impuesta, ante ese modelo de feminidad abnegada cuyo fin último es ser madre, <span style=\"color: red; font-weight: bold;\">se ha planteado que la alternativa era supeditar la crianza al mercado y al empleo.</span> Es necesario cambiar la mirada, porque el problema no es la maternidad, sino el mercado, una sociedad que es hostil a unas prácticas que son fundamentales para la reproducción de la vida, como son gestar, parir, dar de mamar y cuidar.\n",
            "\n",
            "P. <span style=\"color: red; font-weight: bold;\">¿Cómo afecta esto a la manera en que el movimiento feminista se ha planteado la narrativa en torno a la igualdad en el trabajo?</span>\n",
            "\n",
            "R. Aquí también hemos vistos distintos discursos y estrategias. Por un lado hay un cierto feminismo liberal que básicamente reivindica la igualdad para un sector de mujeres de clase media blanca. En Estados Unidos vemos en el partido demócrata y que aquí vemos a medio camino entre el PSOE y Ciudadanos. Por eso creo que hay que reivindicar el feminismo del 99%, el que reclama la igualdad del conjunto de las mujeres y que señala que las desigualdades de género vienen también de la desigualdades de clase y de etnia, y que por eso es necesario acabar con las desigualdades socioeconómicas para conseguir una igualdad de género real.\n",
            "\n",
            "P. <span style=\"color: red; font-weight: bold;\">Por lo heredado de la Segunda Ola, existe esta idea de que liberarse de la maternidad obligatoria ha sido algo emancipatorio, y que por tanto poner la maternidad en el centro del feminismo sería negar esa conquista.</span> <span style=\"color: red; font-weight: bold;\">¿Cómo se resuelve este conflicto?</span>\n",
            "\n",
            "R. Lo que es necesario no es acabar con la experiencia de la maternidad, sino con lo que la activista feminista Adrienne Rich, ya en los años setenta, llamaba “la institución de la maternidad”. Es fundamental que la nueva oleada feminista incorpore la reivindicación de poder vivir la experiencia materna libre de imposiciones. La cuestión no es negar la maternidad sino reivindicarla. Esto no implica dar la razón a posturas reaccionarias en relación a la maternidad, sino reivindicar la maternidad en clave emancipadora. Yo como mujer tengo derecho a decidir cómo quiero vivir mi embarazo, mi parto y mi lactancia: esto es feminismo, como también es feminismo decidir si quiero tener un hijo o no, si quiero abortar o no. Reivindicar una maternidad feminista va de la mano con reivindicar el pleno control sobre nuestro cuerpo como mujeres.\n",
            "\n",
            "P. Le dedica parte del libro al debate sobre las bajas de maternidad y paternidad, y señala que las nuevas bajas intransferibles quieren reforzar la igualdad entre hombres y mujeres pero en realidad ignora la experiencia de la maternidad. <span style=\"color: red; font-weight: bold;\">¿Qué posición cree que ha faltado en el debate?</span>\n",
            "\n",
            "R. Se han obviado en gran medida las demandas de un sector del feminismo que reivindica una ampliación de los permisos de maternidad, porque en la actualidad el permiso de maternidad ni siquiera permite una lactancia materna en exclusiva hasta los seis meses, como recomiendan todas las instancias de salud. Y también es un debate que ha menospreciado el sentir de muchas madres. Hay varios estudios que señalan que cuando una mujer tiene un hijo, quiere estar con la criatura, y en cambio estos permisos iguales e intransferibles que se reivindican <span style=\"color: red; font-weight: bold;\">siguen estigmatizando la experiencia materna y la consideran una carga.</span> Con esto no quiero decir que la maternidad sea tan solo una maternidad de las mujeres, es una responsabilidad de madres, de padres, de la sociedad en general, y que hay que darle el valor social, político y económico que realmente tiene.\n",
            "\n",
            "Por otro lado, es positivo plantear una ampliación del permiso de paternidad, pero hay que tener en cuenta que si este finalmente se amplía hasta las ocho semanas el año que viene, en tan solo tres años el permiso de paternidad habrá aumentado un 300%, pasando de una semana en 2015 a ocho semana en el 2019. Cuando el permiso de maternidad en treinta años, desde el 89, no se ha movido una coma, y es extremadamente corto. No se puede ampliar el permiso de paternidad sin reivindicar un aumento del de maternidad. Esto se dice que se hace en nombre de la igualdad, pero creo que no podemos atribuir la desigualdad en el mercado de trabajo solo a la experiencia materna, porque van mucho más allá.\n",
            "\n",
            "P. <span style=\"color: red; font-weight: bold;\">¿En qué medida cree que estas bajas iguales e intransferibles contribuyen a estigmatizar la experiencia de la maternidad?</span>\n",
            "\n",
            "R. Porque son unos permisos en los cuales básicamente se antepone el mercado y el empleo a la crianza. Porque si se considera, en relación al permiso de maternidad, que 16 semanas son suficientes para acompañar a la criatura después de nacer, son permisos que no tienen en cuenta esas necesidades de un bebé, que necesita estar con sus progenitores el máximo tiempo posible tras nacer, y que la fuente de alimento más beneficiosa es la leche materna.\n",
            "\n",
            "Este es un elemento del que no se acostumbra a hablar, pero que es una medida profundamente clasista. De los permisos actuales solo se benefician los progenitores que trabajan o han trabajado y cotizan, por lo que los sectores con menores recursos económicos no tienen acceso a ningún tipo de ayuda por maternidad o paternidad. Y en segundo lugar estos permisos iguales e intransferibles hacen que si tú como madre quieres estar más tiempo con tu criatura, quieres darle de mamar hasta los seis meses, solo aquellas mujeres con determinadas capacidades adquisitivas podrán hacerlo, porque solo ellas podrán tomarse una excedencia por su cuenta. <span style=\"color: red; font-weight: bold;\">Es una idea clasista que convierte la crianza en un privilegio.</span>\n",
            "\n",
            "P. <span style=\"color: red; font-weight: bold;\">¿Qué modelo, de los expuestos en el libro, considera más conveniente?</span>\n",
            "\n",
            "R. Se tendrían que ampliar ambos permisos con un periodo de tiempo muy superior al actual, como de hecho hacen muchos países nórdicos, que dan un peso central a lo que es la ayuda a la maternidad y la crianza. Porque aquí cada año con los informes de la caída de la natalidad nos escandalizamos, pero no se hace absolutamente nada para revertirla. Apostaría por un modelo como los nórdicos, donde las bajas son más amplias que las que tenemos en el Estado español, y que pueden ser compartidas y una parte de ellas transferibles.\n",
            "\n",
            "P. <span style=\"color: red; font-weight: bold;\">¿Por qué la lactancia tiene tanto espacio en el debate sobre la maternidad?</span> Se discute desde sobre cómo y dónde se produce hasta qué forma es más conveniente.\n",
            "\n",
            "R. El parto y la lactancia son dos partes esenciales en la crianza. Quería profundizar en el debate sobre la lactancia materna porque también en los feminismos hay un cierto debate sobre si se impone la teta o el biberón. Y me parecía interesante señalar e investigar cómo, a pesar de que cada vez se ha recuperado la lactancia materna —algo que es positivo, porque en los años setenta prácticamente desapareció—, aún el contexto social es adverso, contrariamente a lo que puede parecer en un primer momento.\n",
            "\n",
            "P. <span style=\"color: red; font-weight: bold;\">En esa época se configura un discurso que asegura que el biberón da más libertad a las madres, y que además también facilita la incorporación al trabajo.</span> <span style=\"color: red; font-weight: bold;\">¿Cómo nos relacionamos hoy con estas dos ideas?</span>\n",
            "\n",
            "R. Cuando yo reflexiono con una mirada crítica acerca de la lactancia artificial lo hago desde el punto de vista de los intereses económicos que hay detrás el negocio del biberón, no sobre lo que hace cada madre, porque por desgracia hacemos lo que buenamente podemos en nuestras circunstancias. Dicho esto, cuando se generalizó la lactancia artificial en los años setenta u ochenta, hay unos intereses empresariales claros. La generalización de la lactancia artificial supuso un negocio ingente para las empresas de la industria láctea y alimentaria, como Nestlé o Danone, de ahí que se promocionara como se hizo. Y lo que se hizo fue incidir en el personal sanitario para que este fuera proclive a promocionar la lactancia artificial en detrimento de la lactancia materna.\n",
            "\n",
            "Por otro lado, uno de los elementos que ha incomodado más al feminismo con respecto a la lactancia es el carácter biológico de la práctica, que es biosocial, hay un elemento cultural y otro biológico. Yo creo que desde el feminismo se trata de reconocer tanto el carácter biológico como cultural de la maternidad y de la lactancia, pero precisamente por esto, fruto de esta incomodidad, muchas veces se ha considerado que la maternidad era una práctica que encerraba a las madres en el hogar, que las alejaba del mercado de trabajo, y es necesario cambiar la mirada. Porque <span style=\"color: red; font-weight: bold;\">dar de mamar es una práctica profundamente feminista,</span> e incluso diría que antineoliberal y anticapitalista. En la medida en que dar la teta no es solo lo mejor para la criatura (y hay determinadas circunstancias en las que dar el biberón es lo mejor), también es extremadamente beneficiosa para la mamá y en particular después del parto, por lo que implica de recuperación, de vínculo con la criatura. A la vez, la lactancia materna permite la autonomía de la mujer, porque no necesita gastar dinero, sabe lo que le da de comer, es kilómetro cero… Y si decía que dar la teta es antineoliberal es porque es una práctica que no beneficia al mercado, que necesita de unos tiempos y de un espacio que son contrarios a la lógica mercantil y productivista, y no tiene un impacto negativo en el medio ambiente.\n",
            "\n",
            "P. <span style=\"color: red; font-weight: bold;\">Las madres que optan por dar el pecho también suelen hablar de que esto supone una desigualdad insalvable con el padre en la tarea de cuidados.</span>\n",
            "\n",
            "R. <span style=\"color: red; font-weight: bold;\">Dar el biberón per se no te hace más libre como mujer, ni es un mecanismo de igualdad.</span> Basta con ver a las madres que dan el biberón y crían en soledad. Tampoco la teta per se te hace más libre. El carácter biológico de la lactancia es innegable, pero esto no implica que el padre no pueda implicarse en muchas otras tareas. Los bebés no solo se despiertan por la noche porque quieren mamar, sino por muchas otras circunstancias. Criar en igualdad no tiene tanto que ver con cómo alimentamos a la criatura nada más nacer, sino con muchos otros elementos vinculados a la relación de pareja y con un entorno social que es hostil a la maternidad y a la crianza.\n",
            "\n",
            "P. <span style=\"color: red; font-weight: bold;\">La tercera pata del libro aborda la violencia obstétrica, y habla de una evolución progresiva en los hospitales.</span> <span style=\"color: red; font-weight: bold;\">¿Cuál es el panorama general ahora mismo?</span>\n",
            "\n",
            "R. Ha habido una serie de cambios muy significativos en relación a la atención al parto en el sistema hospitalario, que se han producido gracias y en parte a organizaciones de mujeres que han reivindicado un parto respetado. Sin El parto es nuestro no se entenderían los cambios en la atención sanitaria. Pero aún así, en la medida en que muchas de estas modificaciones que se han hecho a nivel gubernamental son de cumplimiento voluntario, aún existen muchas malas prácticas del personal sanitario, debido a que hay una serie de mitos y prejuicios en relación al nacimiento que acaban justificando estas prácticas. Y de hecho solo es necesario ver los porcentajes de cesáreas, de episiotomías, de partos instrumentales que se llevan a cabo, que son muy superiores de los que la Organización Mundial de la Salud considera razonables. Esto tiene un impacto físico y psíquico en las mujeres, y también en las criaturas.\n",
            "\n",
            "P. <span style=\"color: red; font-weight: bold;\">Llama particularmente la atención las cifras de episiotomía, que indican que se dan en España en el 43% de los partos frente al tope del 15% que recomienda la OMS.</span> <span style=\"color: red; font-weight: bold;\">¿Hay una carga cultural en esto?</span>\n",
            "\n",
            "R. Más que una carga cultural hay unas prácticas médicas que consideran que en la medida en que el parto es una enfermedad, la atención al parto se aborda desde este punto de vista y esto dificulta que el proceso del parto se dé de manera natural. Estas prácticas facilitan el trabajo médico, pero tienen consecuencias negativas. En el caso de la episiotomía, particularmente, por lo que implica de problemas de micción, en las relaciones sexuales, etcétera. Hoy, cuatro de cada 10 mujeres que dan a luz sufren una episiotomía: hemos mejorado, porque en el año 95 eran 9 de cada 10. En los países nórdicos es 1 de cada 10. No creo que el periné de las mujeres españolas sea distinto al periné de las mujeres suecas. Si esto se produce es porque hay detrás unas prácticas médicas que consideran que esto es correcto. Hay que cambiar la formación médica para darle una perspectiva feminista y de género.\n",
            "\n",
            "P. <span style=\"color: red; font-weight: bold;\">En el libro se pregunta dónde están las comadronas, y también se plantea el problema de la formación.</span> <span style=\"color: red; font-weight: bold;\">¿Cómo se relacionan estos dos aspectos, qué se aprende en las universidades y quienes llegan a atender el parto?</span>\n",
            "\n",
            "R. Decíamos que hay una visión por parte del personal sanitario patológica, que se ve como una enfermedad, y esta visión es compartida por la sociedad. Y en la medida en que la sociedad no reconoce el parto como un proceso fisiológico, es difícil conseguir que haya un parto respetado. Yo digo que la violencia obstétrica es la última frontera de la violencia de género porque es una violencia aceptada, por los profesionales, por las mujeres afectadas y por sus allegados. Se considera que el parto es eso. Y por eso pensamos siempre que el personal mejor preparado para atender al parto es un ginecólogo, cuando en los partos de bajo riesgo es la comadrona. Hay que reivindicar la figura de la comadrona en la atención al parto y su plena autonomía como profesionales de la salud.\n",
            "\n",
            "P. <span style=\"color: red; font-weight: bold;\">¿Comadronas y madres son aliadas?</span>\n",
            "\n",
            "R. Sí, por supuesto. Lo que señalan muchos estudios es que en la medida en que el parto es llevada por comadronas, el grado de satisfacción de las mujeres que dan a luz es superior. El problema es que hay una profunda relación jerárquica en el sistema hospitalario que tienes a menospreciarlas. A la vez hay una falta también de este personal en los hospitales, que va en detrimento de la calidad de la atención al parto. Que haya más comadronas revierte positivamente en la salud de las mujeres.\n",
            "\n",
            "El 85% de excedencias para el cuidado de hijos tramitadas hasta marzo de 2021 fueron solicitadas por las madres\n",
            "\n",
            "Ver más\n",
            "\n",
            "P. <span style=\"color: red; font-weight: bold;\">¿Cuál considera que debe ser el lugar desde el que se reclamen estas reivindicaciones alrededor de la maternidad?</span>\n",
            "\n",
            "R. Por un lado, es necesario que el feminismo reivindique la maternidad y la experiencia materna al margen de las imposiciones del sistema. Creo que esta nueva ola feminista, este feminismo del 99%, incorpore la maternidad a sus demandas y que se normalice la relación entre feminismos y maternidad. No como algo idílico o romántico, sino como experiencia y dándole el valor sociopolítico y económico que tiene. Luego están los grupos de crianza, los grupos de apoyo a la lactancia materna, creo que es importante que se sumen a esta oleada feminista en auge y que apuesten por una maternidad transformadora a la hora de llevar a cabo sus reivindicaciones. Porque la maternidad no es una cuestión individual, es una cuestión política. Porque si queremos vivir una maternidad digna lo que tenemos que hacer es cambiar el entorno socioeconómico. Y este cambio radical del sistema solo puede hacerse con el apoyo de otros movimientos sociales.\u001b[00m\n",
            "\n",
            "\n"
          ]
        },
        {
          "data": {
            "text/html": [
              "<pre style=\"white-space:pre;overflow-x:auto;line-height:normal;font-family:Menlo,'DejaVu Sans Mono',consolas,'Courier New',monospace\"><span style=\"color: #008080; text-decoration-color: #008080; font-weight: bold\">🚀 Crew: crew</span>\n",
              "├── <span style=\"color: #008000; text-decoration-color: #008000; font-weight: bold\">📋 Task: 80b79f84-ca10-4423-afd1-3ff10c449918</span>\n",
              "│   <span style=\"color: #c0c0c0; text-decoration-color: #c0c0c0\">   Assigned to: </span><span style=\"color: #008000; text-decoration-color: #008000\">Perfilador (periodista, mujer, progresista)</span>\n",
              "│   <span style=\"color: #c0c0c0; text-decoration-color: #c0c0c0\">   Status: </span><span style=\"color: #008000; text-decoration-color: #008000; font-weight: bold\">✅ Completed</span>\n",
              "│   └── <span style=\"color: #008000; text-decoration-color: #008000; font-weight: bold\">🤖 Agent: </span><span style=\"color: #008000; text-decoration-color: #008000\">Perfilador (periodista, mujer, progresista)</span>\n",
              "│       <span style=\"color: #c0c0c0; text-decoration-color: #c0c0c0\">    Status: </span><span style=\"color: #008000; text-decoration-color: #008000; font-weight: bold\">✅ Completed</span>\n",
              "└── <span style=\"color: #808000; text-decoration-color: #808000; font-weight: bold\">📋 Task: d54a7dbc-37b9-497b-a1bb-acaaf3c2269d</span>\n",
              "    <span style=\"color: #c0c0c0; text-decoration-color: #c0c0c0\">   Status: </span><span style=\"color: #bfbf7f; text-decoration-color: #bfbf7f\">Executing Task...</span>\n",
              "    └── <span style=\"color: #008000; text-decoration-color: #008000; font-weight: bold\">🤖 Agent: </span><span style=\"color: #008000; text-decoration-color: #008000\">Analista</span>\n",
              "        <span style=\"color: #c0c0c0; text-decoration-color: #c0c0c0\">    Status: </span><span style=\"color: #008000; text-decoration-color: #008000; font-weight: bold\">✅ Completed</span>\n",
              "</pre>\n"
            ],
            "text/plain": [
              "\u001b[1;36m🚀 Crew: \u001b[0m\u001b[1;36mcrew\u001b[0m\n",
              "├── \u001b[1;32m📋 Task: 80b79f84-ca10-4423-afd1-3ff10c449918\u001b[0m\n",
              "│   \u001b[37m   Assigned to: \u001b[0m\u001b[32mPerfilador (periodista, mujer, progresista)\u001b[0m\n",
              "│   \u001b[37m   Status: \u001b[0m\u001b[1;32m✅ Completed\u001b[0m\n",
              "│   └── \u001b[1;32m🤖 Agent: \u001b[0m\u001b[32mPerfilador (periodista, mujer, progresista)\u001b[0m\n",
              "│       \u001b[37m    Status: \u001b[0m\u001b[1;32m✅ Completed\u001b[0m\n",
              "└── \u001b[1;33m📋 Task: d54a7dbc-37b9-497b-a1bb-acaaf3c2269d\u001b[0m\n",
              "    \u001b[37m   Status: \u001b[0m\u001b[2;33mExecuting Task...\u001b[0m\n",
              "    └── \u001b[1;32m🤖 Agent: \u001b[0m\u001b[32mAnalista\u001b[0m\n",
              "        \u001b[37m    Status: \u001b[0m\u001b[1;32m✅ Completed\u001b[0m\n"
            ]
          },
          "metadata": {},
          "output_type": "display_data"
        },
        {
          "data": {
            "text/html": [
              "<pre style=\"white-space:pre;overflow-x:auto;line-height:normal;font-family:Menlo,'DejaVu Sans Mono',consolas,'Courier New',monospace\">\n",
              "</pre>\n"
            ],
            "text/plain": [
              "\n"
            ]
          },
          "metadata": {},
          "output_type": "display_data"
        },
        {
          "data": {
            "text/html": [
              "<pre style=\"white-space:pre;overflow-x:auto;line-height:normal;font-family:Menlo,'DejaVu Sans Mono',consolas,'Courier New',monospace\"><span style=\"color: #008080; text-decoration-color: #008080; font-weight: bold\">🚀 Crew: crew</span>\n",
              "├── <span style=\"color: #008000; text-decoration-color: #008000; font-weight: bold\">📋 Task: 80b79f84-ca10-4423-afd1-3ff10c449918</span>\n",
              "│   <span style=\"color: #c0c0c0; text-decoration-color: #c0c0c0\">   Assigned to: </span><span style=\"color: #008000; text-decoration-color: #008000\">Perfilador (periodista, mujer, progresista)</span>\n",
              "│   <span style=\"color: #c0c0c0; text-decoration-color: #c0c0c0\">   Status: </span><span style=\"color: #008000; text-decoration-color: #008000; font-weight: bold\">✅ Completed</span>\n",
              "│   └── <span style=\"color: #008000; text-decoration-color: #008000; font-weight: bold\">🤖 Agent: </span><span style=\"color: #008000; text-decoration-color: #008000\">Perfilador (periodista, mujer, progresista)</span>\n",
              "│       <span style=\"color: #c0c0c0; text-decoration-color: #c0c0c0\">    Status: </span><span style=\"color: #008000; text-decoration-color: #008000; font-weight: bold\">✅ Completed</span>\n",
              "└── <span style=\"color: #008000; text-decoration-color: #008000; font-weight: bold\">📋 Task: d54a7dbc-37b9-497b-a1bb-acaaf3c2269d</span>\n",
              "    <span style=\"color: #c0c0c0; text-decoration-color: #c0c0c0\">   Assigned to: </span><span style=\"color: #008000; text-decoration-color: #008000\">Analista</span>\n",
              "    <span style=\"color: #c0c0c0; text-decoration-color: #c0c0c0\">   Status: </span><span style=\"color: #008000; text-decoration-color: #008000; font-weight: bold\">✅ Completed</span>\n",
              "    └── <span style=\"color: #008000; text-decoration-color: #008000; font-weight: bold\">🤖 Agent: </span><span style=\"color: #008000; text-decoration-color: #008000\">Analista</span>\n",
              "        <span style=\"color: #c0c0c0; text-decoration-color: #c0c0c0\">    Status: </span><span style=\"color: #008000; text-decoration-color: #008000; font-weight: bold\">✅ Completed</span>\n",
              "</pre>\n"
            ],
            "text/plain": [
              "\u001b[1;36m🚀 Crew: \u001b[0m\u001b[1;36mcrew\u001b[0m\n",
              "├── \u001b[1;32m📋 Task: 80b79f84-ca10-4423-afd1-3ff10c449918\u001b[0m\n",
              "│   \u001b[37m   Assigned to: \u001b[0m\u001b[32mPerfilador (periodista, mujer, progresista)\u001b[0m\n",
              "│   \u001b[37m   Status: \u001b[0m\u001b[1;32m✅ Completed\u001b[0m\n",
              "│   └── \u001b[1;32m🤖 Agent: \u001b[0m\u001b[32mPerfilador (periodista, mujer, progresista)\u001b[0m\n",
              "│       \u001b[37m    Status: \u001b[0m\u001b[1;32m✅ Completed\u001b[0m\n",
              "└── \u001b[1;32m📋 Task: d54a7dbc-37b9-497b-a1bb-acaaf3c2269d\u001b[0m\n",
              "    \u001b[37m   Assigned to: \u001b[0m\u001b[32mAnalista\u001b[0m\n",
              "    \u001b[37m   Status: \u001b[0m\u001b[1;32m✅ Completed\u001b[0m\n",
              "    └── \u001b[1;32m🤖 Agent: \u001b[0m\u001b[32mAnalista\u001b[0m\n",
              "        \u001b[37m    Status: \u001b[0m\u001b[1;32m✅ Completed\u001b[0m\n"
            ]
          },
          "metadata": {},
          "output_type": "display_data"
        },
        {
          "data": {
            "text/html": [
              "<pre style=\"white-space:pre;overflow-x:auto;line-height:normal;font-family:Menlo,'DejaVu Sans Mono',consolas,'Courier New',monospace\"><span style=\"color: #008000; text-decoration-color: #008000\">╭──────────────────────────────────────────────── Task Completion ────────────────────────────────────────────────╮</span>\n",
              "<span style=\"color: #008000; text-decoration-color: #008000\">│</span>                                                                                                                 <span style=\"color: #008000; text-decoration-color: #008000\">│</span>\n",
              "<span style=\"color: #008000; text-decoration-color: #008000\">│</span>  <span style=\"color: #008000; text-decoration-color: #008000; font-weight: bold\">Task Completed</span>                                                                                                 <span style=\"color: #008000; text-decoration-color: #008000\">│</span>\n",
              "<span style=\"color: #008000; text-decoration-color: #008000\">│</span>  <span style=\"color: #c0c0c0; text-decoration-color: #c0c0c0\">Name: </span><span style=\"color: #008000; text-decoration-color: #008000\">d54a7dbc-37b9-497b-a1bb-acaaf3c2269d</span>                                                                     <span style=\"color: #008000; text-decoration-color: #008000\">│</span>\n",
              "<span style=\"color: #008000; text-decoration-color: #008000\">│</span>  <span style=\"color: #c0c0c0; text-decoration-color: #c0c0c0\">Agent: </span><span style=\"color: #008000; text-decoration-color: #008000\">Analista</span>                                                                                                <span style=\"color: #008000; text-decoration-color: #008000\">│</span>\n",
              "<span style=\"color: #008000; text-decoration-color: #008000\">│</span>                                                                                                                 <span style=\"color: #008000; text-decoration-color: #008000\">│</span>\n",
              "<span style=\"color: #008000; text-decoration-color: #008000\">│</span>                                                                                                                 <span style=\"color: #008000; text-decoration-color: #008000\">│</span>\n",
              "<span style=\"color: #008000; text-decoration-color: #008000\">╰─────────────────────────────────────────────────────────────────────────────────────────────────────────────────╯</span>\n",
              "</pre>\n"
            ],
            "text/plain": [
              "\u001b[32m╭─\u001b[0m\u001b[32m───────────────────────────────────────────────\u001b[0m\u001b[32m Task Completion \u001b[0m\u001b[32m───────────────────────────────────────────────\u001b[0m\u001b[32m─╮\u001b[0m\n",
              "\u001b[32m│\u001b[0m                                                                                                                 \u001b[32m│\u001b[0m\n",
              "\u001b[32m│\u001b[0m  \u001b[1;32mTask Completed\u001b[0m                                                                                                 \u001b[32m│\u001b[0m\n",
              "\u001b[32m│\u001b[0m  \u001b[37mName: \u001b[0m\u001b[32md54a7dbc-37b9-497b-a1bb-acaaf3c2269d\u001b[0m                                                                     \u001b[32m│\u001b[0m\n",
              "\u001b[32m│\u001b[0m  \u001b[37mAgent: \u001b[0m\u001b[32mAnalista\u001b[0m                                                                                                \u001b[32m│\u001b[0m\n",
              "\u001b[32m│\u001b[0m                                                                                                                 \u001b[32m│\u001b[0m\n",
              "\u001b[32m│\u001b[0m                                                                                                                 \u001b[32m│\u001b[0m\n",
              "\u001b[32m╰─────────────────────────────────────────────────────────────────────────────────────────────────────────────────╯\u001b[0m\n"
            ]
          },
          "metadata": {},
          "output_type": "display_data"
        },
        {
          "data": {
            "text/html": [
              "<pre style=\"white-space:pre;overflow-x:auto;line-height:normal;font-family:Menlo,'DejaVu Sans Mono',consolas,'Courier New',monospace\">\n",
              "</pre>\n"
            ],
            "text/plain": [
              "\n"
            ]
          },
          "metadata": {},
          "output_type": "display_data"
        },
        {
          "data": {
            "text/html": [
              "<pre style=\"white-space:pre;overflow-x:auto;line-height:normal;font-family:Menlo,'DejaVu Sans Mono',consolas,'Courier New',monospace\"><span style=\"color: #008080; text-decoration-color: #008080; font-weight: bold\">🚀 Crew: crew</span>\n",
              "├── <span style=\"color: #008000; text-decoration-color: #008000; font-weight: bold\">📋 Task: 80b79f84-ca10-4423-afd1-3ff10c449918</span>\n",
              "│   <span style=\"color: #c0c0c0; text-decoration-color: #c0c0c0\">   Assigned to: </span><span style=\"color: #008000; text-decoration-color: #008000\">Perfilador (periodista, mujer, progresista)</span>\n",
              "│   <span style=\"color: #c0c0c0; text-decoration-color: #c0c0c0\">   Status: </span><span style=\"color: #008000; text-decoration-color: #008000; font-weight: bold\">✅ Completed</span>\n",
              "│   └── <span style=\"color: #008000; text-decoration-color: #008000; font-weight: bold\">🤖 Agent: </span><span style=\"color: #008000; text-decoration-color: #008000\">Perfilador (periodista, mujer, progresista)</span>\n",
              "│       <span style=\"color: #c0c0c0; text-decoration-color: #c0c0c0\">    Status: </span><span style=\"color: #008000; text-decoration-color: #008000; font-weight: bold\">✅ Completed</span>\n",
              "├── <span style=\"color: #008000; text-decoration-color: #008000; font-weight: bold\">📋 Task: d54a7dbc-37b9-497b-a1bb-acaaf3c2269d</span>\n",
              "│   <span style=\"color: #c0c0c0; text-decoration-color: #c0c0c0\">   Assigned to: </span><span style=\"color: #008000; text-decoration-color: #008000\">Analista</span>\n",
              "│   <span style=\"color: #c0c0c0; text-decoration-color: #c0c0c0\">   Status: </span><span style=\"color: #008000; text-decoration-color: #008000; font-weight: bold\">✅ Completed</span>\n",
              "│   └── <span style=\"color: #008000; text-decoration-color: #008000; font-weight: bold\">🤖 Agent: </span><span style=\"color: #008000; text-decoration-color: #008000\">Analista</span>\n",
              "│       <span style=\"color: #c0c0c0; text-decoration-color: #c0c0c0\">    Status: </span><span style=\"color: #008000; text-decoration-color: #008000; font-weight: bold\">✅ Completed</span>\n",
              "└── <span style=\"color: #808000; text-decoration-color: #808000; font-weight: bold\">📋 Task: b951fad6-5cdd-401b-b93b-d278f52cac96</span>\n",
              "    <span style=\"color: #c0c0c0; text-decoration-color: #c0c0c0\">   Status: </span><span style=\"color: #bfbf7f; text-decoration-color: #bfbf7f\">Executing Task...</span>\n",
              "</pre>\n"
            ],
            "text/plain": [
              "\u001b[1;36m🚀 Crew: \u001b[0m\u001b[1;36mcrew\u001b[0m\n",
              "├── \u001b[1;32m📋 Task: 80b79f84-ca10-4423-afd1-3ff10c449918\u001b[0m\n",
              "│   \u001b[37m   Assigned to: \u001b[0m\u001b[32mPerfilador (periodista, mujer, progresista)\u001b[0m\n",
              "│   \u001b[37m   Status: \u001b[0m\u001b[1;32m✅ Completed\u001b[0m\n",
              "│   └── \u001b[1;32m🤖 Agent: \u001b[0m\u001b[32mPerfilador (periodista, mujer, progresista)\u001b[0m\n",
              "│       \u001b[37m    Status: \u001b[0m\u001b[1;32m✅ Completed\u001b[0m\n",
              "├── \u001b[1;32m📋 Task: d54a7dbc-37b9-497b-a1bb-acaaf3c2269d\u001b[0m\n",
              "│   \u001b[37m   Assigned to: \u001b[0m\u001b[32mAnalista\u001b[0m\n",
              "│   \u001b[37m   Status: \u001b[0m\u001b[1;32m✅ Completed\u001b[0m\n",
              "│   └── \u001b[1;32m🤖 Agent: \u001b[0m\u001b[32mAnalista\u001b[0m\n",
              "│       \u001b[37m    Status: \u001b[0m\u001b[1;32m✅ Completed\u001b[0m\n",
              "└── \u001b[1;33m📋 Task: b951fad6-5cdd-401b-b93b-d278f52cac96\u001b[0m\n",
              "    \u001b[37m   Status: \u001b[0m\u001b[2;33mExecuting Task...\u001b[0m\n"
            ]
          },
          "metadata": {},
          "output_type": "display_data"
        },
        {
          "data": {
            "text/html": [
              "<pre style=\"white-space:pre;overflow-x:auto;line-height:normal;font-family:Menlo,'DejaVu Sans Mono',consolas,'Courier New',monospace\">\n",
              "</pre>\n"
            ],
            "text/plain": [
              "\n"
            ]
          },
          "metadata": {},
          "output_type": "display_data"
        },
        {
          "data": {
            "text/html": [
              "<pre style=\"white-space:pre;overflow-x:auto;line-height:normal;font-family:Menlo,'DejaVu Sans Mono',consolas,'Courier New',monospace\"><span style=\"color: #008080; text-decoration-color: #008080; font-weight: bold\">🚀 Crew: crew</span>\n",
              "├── <span style=\"color: #008000; text-decoration-color: #008000; font-weight: bold\">📋 Task: 80b79f84-ca10-4423-afd1-3ff10c449918</span>\n",
              "│   <span style=\"color: #c0c0c0; text-decoration-color: #c0c0c0\">   Assigned to: </span><span style=\"color: #008000; text-decoration-color: #008000\">Perfilador (periodista, mujer, progresista)</span>\n",
              "│   <span style=\"color: #c0c0c0; text-decoration-color: #c0c0c0\">   Status: </span><span style=\"color: #008000; text-decoration-color: #008000; font-weight: bold\">✅ Completed</span>\n",
              "│   └── <span style=\"color: #008000; text-decoration-color: #008000; font-weight: bold\">🤖 Agent: </span><span style=\"color: #008000; text-decoration-color: #008000\">Perfilador (periodista, mujer, progresista)</span>\n",
              "│       <span style=\"color: #c0c0c0; text-decoration-color: #c0c0c0\">    Status: </span><span style=\"color: #008000; text-decoration-color: #008000; font-weight: bold\">✅ Completed</span>\n",
              "├── <span style=\"color: #008000; text-decoration-color: #008000; font-weight: bold\">📋 Task: d54a7dbc-37b9-497b-a1bb-acaaf3c2269d</span>\n",
              "│   <span style=\"color: #c0c0c0; text-decoration-color: #c0c0c0\">   Assigned to: </span><span style=\"color: #008000; text-decoration-color: #008000\">Analista</span>\n",
              "│   <span style=\"color: #c0c0c0; text-decoration-color: #c0c0c0\">   Status: </span><span style=\"color: #008000; text-decoration-color: #008000; font-weight: bold\">✅ Completed</span>\n",
              "│   └── <span style=\"color: #008000; text-decoration-color: #008000; font-weight: bold\">🤖 Agent: </span><span style=\"color: #008000; text-decoration-color: #008000\">Analista</span>\n",
              "│       <span style=\"color: #c0c0c0; text-decoration-color: #c0c0c0\">    Status: </span><span style=\"color: #008000; text-decoration-color: #008000; font-weight: bold\">✅ Completed</span>\n",
              "└── <span style=\"color: #808000; text-decoration-color: #808000; font-weight: bold\">📋 Task: b951fad6-5cdd-401b-b93b-d278f52cac96</span>\n",
              "    <span style=\"color: #c0c0c0; text-decoration-color: #c0c0c0\">   Status: </span><span style=\"color: #bfbf7f; text-decoration-color: #bfbf7f\">Executing Task...</span>\n",
              "    └── <span style=\"color: #008000; text-decoration-color: #008000; font-weight: bold\">🤖 Agent: </span><span style=\"color: #008000; text-decoration-color: #008000\">Redactor</span>\n",
              "        <span style=\"color: #c0c0c0; text-decoration-color: #c0c0c0\">    Status: </span><span style=\"color: #008000; text-decoration-color: #008000; font-weight: bold\">In Progress</span>\n",
              "</pre>\n"
            ],
            "text/plain": [
              "\u001b[1;36m🚀 Crew: \u001b[0m\u001b[1;36mcrew\u001b[0m\n",
              "├── \u001b[1;32m📋 Task: 80b79f84-ca10-4423-afd1-3ff10c449918\u001b[0m\n",
              "│   \u001b[37m   Assigned to: \u001b[0m\u001b[32mPerfilador (periodista, mujer, progresista)\u001b[0m\n",
              "│   \u001b[37m   Status: \u001b[0m\u001b[1;32m✅ Completed\u001b[0m\n",
              "│   └── \u001b[1;32m🤖 Agent: \u001b[0m\u001b[32mPerfilador (periodista, mujer, progresista)\u001b[0m\n",
              "│       \u001b[37m    Status: \u001b[0m\u001b[1;32m✅ Completed\u001b[0m\n",
              "├── \u001b[1;32m📋 Task: d54a7dbc-37b9-497b-a1bb-acaaf3c2269d\u001b[0m\n",
              "│   \u001b[37m   Assigned to: \u001b[0m\u001b[32mAnalista\u001b[0m\n",
              "│   \u001b[37m   Status: \u001b[0m\u001b[1;32m✅ Completed\u001b[0m\n",
              "│   └── \u001b[1;32m🤖 Agent: \u001b[0m\u001b[32mAnalista\u001b[0m\n",
              "│       \u001b[37m    Status: \u001b[0m\u001b[1;32m✅ Completed\u001b[0m\n",
              "└── \u001b[1;33m📋 Task: b951fad6-5cdd-401b-b93b-d278f52cac96\u001b[0m\n",
              "    \u001b[37m   Status: \u001b[0m\u001b[2;33mExecuting Task...\u001b[0m\n",
              "    └── \u001b[1;32m🤖 Agent: \u001b[0m\u001b[32mRedactor\u001b[0m\n",
              "        \u001b[37m    Status: \u001b[0m\u001b[1;32mIn Progress\u001b[0m\n"
            ]
          },
          "metadata": {},
          "output_type": "display_data"
        },
        {
          "data": {
            "text/html": [
              "<pre style=\"white-space:pre;overflow-x:auto;line-height:normal;font-family:Menlo,'DejaVu Sans Mono',consolas,'Courier New',monospace\">\n",
              "</pre>\n"
            ],
            "text/plain": [
              "\n"
            ]
          },
          "metadata": {},
          "output_type": "display_data"
        },
        {
          "name": "stdout",
          "output_type": "stream",
          "text": [
            "\u001b[1m\u001b[95m# Agent:\u001b[00m \u001b[1m\u001b[92mRedactor\u001b[00m\n",
            "\u001b[95m## Task:\u001b[00m \u001b[92mReescribe el texto con lenguaje inclusivo y sin estereotipos.\u001b[00m\n"
          ]
        },
        {
          "data": {
            "text/html": [
              "<pre style=\"white-space:pre;overflow-x:auto;line-height:normal;font-family:Menlo,'DejaVu Sans Mono',consolas,'Courier New',monospace\"><span style=\"color: #008080; text-decoration-color: #008080; font-weight: bold\">🚀 Crew: crew</span>\n",
              "├── <span style=\"color: #008000; text-decoration-color: #008000; font-weight: bold\">📋 Task: 80b79f84-ca10-4423-afd1-3ff10c449918</span>\n",
              "│   <span style=\"color: #c0c0c0; text-decoration-color: #c0c0c0\">   Assigned to: </span><span style=\"color: #008000; text-decoration-color: #008000\">Perfilador (periodista, mujer, progresista)</span>\n",
              "│   <span style=\"color: #c0c0c0; text-decoration-color: #c0c0c0\">   Status: </span><span style=\"color: #008000; text-decoration-color: #008000; font-weight: bold\">✅ Completed</span>\n",
              "│   └── <span style=\"color: #008000; text-decoration-color: #008000; font-weight: bold\">🤖 Agent: </span><span style=\"color: #008000; text-decoration-color: #008000\">Perfilador (periodista, mujer, progresista)</span>\n",
              "│       <span style=\"color: #c0c0c0; text-decoration-color: #c0c0c0\">    Status: </span><span style=\"color: #008000; text-decoration-color: #008000; font-weight: bold\">✅ Completed</span>\n",
              "├── <span style=\"color: #008000; text-decoration-color: #008000; font-weight: bold\">📋 Task: d54a7dbc-37b9-497b-a1bb-acaaf3c2269d</span>\n",
              "│   <span style=\"color: #c0c0c0; text-decoration-color: #c0c0c0\">   Assigned to: </span><span style=\"color: #008000; text-decoration-color: #008000\">Analista</span>\n",
              "│   <span style=\"color: #c0c0c0; text-decoration-color: #c0c0c0\">   Status: </span><span style=\"color: #008000; text-decoration-color: #008000; font-weight: bold\">✅ Completed</span>\n",
              "│   └── <span style=\"color: #008000; text-decoration-color: #008000; font-weight: bold\">🤖 Agent: </span><span style=\"color: #008000; text-decoration-color: #008000\">Analista</span>\n",
              "│       <span style=\"color: #c0c0c0; text-decoration-color: #c0c0c0\">    Status: </span><span style=\"color: #008000; text-decoration-color: #008000; font-weight: bold\">✅ Completed</span>\n",
              "└── <span style=\"color: #808000; text-decoration-color: #808000; font-weight: bold\">📋 Task: b951fad6-5cdd-401b-b93b-d278f52cac96</span>\n",
              "    <span style=\"color: #c0c0c0; text-decoration-color: #c0c0c0\">   Status: </span><span style=\"color: #bfbf7f; text-decoration-color: #bfbf7f\">Executing Task...</span>\n",
              "    └── <span style=\"color: #008000; text-decoration-color: #008000; font-weight: bold\">🤖 Agent: </span><span style=\"color: #008000; text-decoration-color: #008000\">Redactor</span>\n",
              "        <span style=\"color: #c0c0c0; text-decoration-color: #c0c0c0\">    Status: </span><span style=\"color: #008000; text-decoration-color: #008000; font-weight: bold\">In Progress</span>\n",
              "        └── <span style=\"color: #000080; text-decoration-color: #000080; font-weight: bold\">🧠 </span><span style=\"color: #000080; text-decoration-color: #000080\">Thinking...</span>\n",
              "</pre>\n"
            ],
            "text/plain": [
              "\u001b[1;36m🚀 Crew: \u001b[0m\u001b[1;36mcrew\u001b[0m\n",
              "├── \u001b[1;32m📋 Task: 80b79f84-ca10-4423-afd1-3ff10c449918\u001b[0m\n",
              "│   \u001b[37m   Assigned to: \u001b[0m\u001b[32mPerfilador (periodista, mujer, progresista)\u001b[0m\n",
              "│   \u001b[37m   Status: \u001b[0m\u001b[1;32m✅ Completed\u001b[0m\n",
              "│   └── \u001b[1;32m🤖 Agent: \u001b[0m\u001b[32mPerfilador (periodista, mujer, progresista)\u001b[0m\n",
              "│       \u001b[37m    Status: \u001b[0m\u001b[1;32m✅ Completed\u001b[0m\n",
              "├── \u001b[1;32m📋 Task: d54a7dbc-37b9-497b-a1bb-acaaf3c2269d\u001b[0m\n",
              "│   \u001b[37m   Assigned to: \u001b[0m\u001b[32mAnalista\u001b[0m\n",
              "│   \u001b[37m   Status: \u001b[0m\u001b[1;32m✅ Completed\u001b[0m\n",
              "│   └── \u001b[1;32m🤖 Agent: \u001b[0m\u001b[32mAnalista\u001b[0m\n",
              "│       \u001b[37m    Status: \u001b[0m\u001b[1;32m✅ Completed\u001b[0m\n",
              "└── \u001b[1;33m📋 Task: b951fad6-5cdd-401b-b93b-d278f52cac96\u001b[0m\n",
              "    \u001b[37m   Status: \u001b[0m\u001b[2;33mExecuting Task...\u001b[0m\n",
              "    └── \u001b[1;32m🤖 Agent: \u001b[0m\u001b[32mRedactor\u001b[0m\n",
              "        \u001b[37m    Status: \u001b[0m\u001b[1;32mIn Progress\u001b[0m\n",
              "        └── \u001b[1;34m🧠 \u001b[0m\u001b[34mThinking...\u001b[0m\n"
            ]
          },
          "metadata": {},
          "output_type": "display_data"
        },
        {
          "data": {
            "text/html": [
              "<pre style=\"white-space:pre;overflow-x:auto;line-height:normal;font-family:Menlo,'DejaVu Sans Mono',consolas,'Courier New',monospace\">\n",
              "</pre>\n"
            ],
            "text/plain": [
              "\n"
            ]
          },
          "metadata": {},
          "output_type": "display_data"
        },
        {
          "data": {
            "text/html": [
              "<pre style=\"white-space:pre;overflow-x:auto;line-height:normal;font-family:Menlo,'DejaVu Sans Mono',consolas,'Courier New',monospace\"><span style=\"color: #008080; text-decoration-color: #008080; font-weight: bold\">🚀 Crew: crew</span>\n",
              "├── <span style=\"color: #008000; text-decoration-color: #008000; font-weight: bold\">📋 Task: 80b79f84-ca10-4423-afd1-3ff10c449918</span>\n",
              "│   <span style=\"color: #c0c0c0; text-decoration-color: #c0c0c0\">   Assigned to: </span><span style=\"color: #008000; text-decoration-color: #008000\">Perfilador (periodista, mujer, progresista)</span>\n",
              "│   <span style=\"color: #c0c0c0; text-decoration-color: #c0c0c0\">   Status: </span><span style=\"color: #008000; text-decoration-color: #008000; font-weight: bold\">✅ Completed</span>\n",
              "│   └── <span style=\"color: #008000; text-decoration-color: #008000; font-weight: bold\">🤖 Agent: </span><span style=\"color: #008000; text-decoration-color: #008000\">Perfilador (periodista, mujer, progresista)</span>\n",
              "│       <span style=\"color: #c0c0c0; text-decoration-color: #c0c0c0\">    Status: </span><span style=\"color: #008000; text-decoration-color: #008000; font-weight: bold\">✅ Completed</span>\n",
              "├── <span style=\"color: #008000; text-decoration-color: #008000; font-weight: bold\">📋 Task: d54a7dbc-37b9-497b-a1bb-acaaf3c2269d</span>\n",
              "│   <span style=\"color: #c0c0c0; text-decoration-color: #c0c0c0\">   Assigned to: </span><span style=\"color: #008000; text-decoration-color: #008000\">Analista</span>\n",
              "│   <span style=\"color: #c0c0c0; text-decoration-color: #c0c0c0\">   Status: </span><span style=\"color: #008000; text-decoration-color: #008000; font-weight: bold\">✅ Completed</span>\n",
              "│   └── <span style=\"color: #008000; text-decoration-color: #008000; font-weight: bold\">🤖 Agent: </span><span style=\"color: #008000; text-decoration-color: #008000\">Analista</span>\n",
              "│       <span style=\"color: #c0c0c0; text-decoration-color: #c0c0c0\">    Status: </span><span style=\"color: #008000; text-decoration-color: #008000; font-weight: bold\">✅ Completed</span>\n",
              "└── <span style=\"color: #808000; text-decoration-color: #808000; font-weight: bold\">📋 Task: b951fad6-5cdd-401b-b93b-d278f52cac96</span>\n",
              "    <span style=\"color: #c0c0c0; text-decoration-color: #c0c0c0\">   Status: </span><span style=\"color: #bfbf7f; text-decoration-color: #bfbf7f\">Executing Task...</span>\n",
              "    └── <span style=\"color: #008000; text-decoration-color: #008000; font-weight: bold\">🤖 Agent: </span><span style=\"color: #008000; text-decoration-color: #008000\">Redactor</span>\n",
              "        <span style=\"color: #c0c0c0; text-decoration-color: #c0c0c0\">    Status: </span><span style=\"color: #008000; text-decoration-color: #008000; font-weight: bold\">In Progress</span>\n",
              "</pre>\n"
            ],
            "text/plain": [
              "\u001b[1;36m🚀 Crew: \u001b[0m\u001b[1;36mcrew\u001b[0m\n",
              "├── \u001b[1;32m📋 Task: 80b79f84-ca10-4423-afd1-3ff10c449918\u001b[0m\n",
              "│   \u001b[37m   Assigned to: \u001b[0m\u001b[32mPerfilador (periodista, mujer, progresista)\u001b[0m\n",
              "│   \u001b[37m   Status: \u001b[0m\u001b[1;32m✅ Completed\u001b[0m\n",
              "│   └── \u001b[1;32m🤖 Agent: \u001b[0m\u001b[32mPerfilador (periodista, mujer, progresista)\u001b[0m\n",
              "│       \u001b[37m    Status: \u001b[0m\u001b[1;32m✅ Completed\u001b[0m\n",
              "├── \u001b[1;32m📋 Task: d54a7dbc-37b9-497b-a1bb-acaaf3c2269d\u001b[0m\n",
              "│   \u001b[37m   Assigned to: \u001b[0m\u001b[32mAnalista\u001b[0m\n",
              "│   \u001b[37m   Status: \u001b[0m\u001b[1;32m✅ Completed\u001b[0m\n",
              "│   └── \u001b[1;32m🤖 Agent: \u001b[0m\u001b[32mAnalista\u001b[0m\n",
              "│       \u001b[37m    Status: \u001b[0m\u001b[1;32m✅ Completed\u001b[0m\n",
              "└── \u001b[1;33m📋 Task: b951fad6-5cdd-401b-b93b-d278f52cac96\u001b[0m\n",
              "    \u001b[37m   Status: \u001b[0m\u001b[2;33mExecuting Task...\u001b[0m\n",
              "    └── \u001b[1;32m🤖 Agent: \u001b[0m\u001b[32mRedactor\u001b[0m\n",
              "        \u001b[37m    Status: \u001b[0m\u001b[1;32mIn Progress\u001b[0m\n"
            ]
          },
          "metadata": {},
          "output_type": "display_data"
        },
        {
          "data": {
            "text/html": [
              "<pre style=\"white-space:pre;overflow-x:auto;line-height:normal;font-family:Menlo,'DejaVu Sans Mono',consolas,'Courier New',monospace\">\n",
              "</pre>\n"
            ],
            "text/plain": [
              "\n"
            ]
          },
          "metadata": {},
          "output_type": "display_data"
        },
        {
          "name": "stdout",
          "output_type": "stream",
          "text": [
            "\n",
            "\n",
            "\u001b[1m\u001b[95m# Agent:\u001b[00m \u001b[1m\u001b[92mRedactor\u001b[00m\n",
            "\u001b[95m## Final Answer:\u001b[00m \u001b[92m\n",
            "Perfil del agente que ha realizado el análisis:  \n",
            "Profesión: periodista  \n",
            "Género: persona  \n",
            "Ideología política: progresista\n",
            "\n",
            "----------\n",
            "\n",
            "1. **Frases que refuerzan o reproducen estereotipos o sesgos de género:**\n",
            "\n",
            "   - **\"¿Quién iba, si no, a querer dedicar su tiempo a un asunto tan insignificante?\"**  \n",
            "     Justificación: Esta frase sugiere que la maternidad es un tema trivial y que solo se le puede dar importancia si se tiene una experiencia personal. Refuerza la idea de que las cuestiones de maternidad son menos relevantes en comparación con otros temas.\n",
            "\n",
            "   - **\"la maternidad ha sido utilizada por el patriarcado como un instrumento de control del cuerpo de las mujeres\"**  \n",
            "     Justificación: Aunque la frase critica el uso patriarcal de la maternidad, también puede perpetuar la idea de que la maternidad es inherentemente negativa o problemática, lo que puede deslegitimar la experiencia positiva de ser madre.\n",
            "\n",
            "   - **\"la maternidad patriarcal impuesta, ante ese modelo de feminidad abnegada cuyo fin último es ser madre\"**  \n",
            "     Justificación: Esta frase implica que ser madre es un objetivo impuesto por el patriarcado y que la feminidad está ligada a la abnegación, lo que puede reforzar estereotipos negativos sobre las personas que eligen ser madres.\n",
            "\n",
            "   - **\"dar de mamar es una práctica profundamente feminista, e incluso diría que antineoliberal y anticapitalista\"**  \n",
            "     Justificación: Aunque se presenta como una afirmación positiva, puede implicar que las personas que no eligen amamantar están en contra del feminismo o son menos comprometidas con la causa, lo que puede ser un juicio de valor.\n",
            "\n",
            "   - **\"la lactancia materna permite la autonomía de la mujer, porque no necesita gastar dinero\"**  \n",
            "     Justificación: Esta afirmación puede sugerir que las personas que no amamantan son menos autónomas o que dependen de opciones más costosas, lo que puede ser problemático y clasista.\n",
            "\n",
            "   - **\"la violencia obstétrica es la última frontera de la violencia de género porque es una violencia aceptada\"**  \n",
            "     Justificación: Aunque se critica la violencia obstétrica, la frase puede dar la impresión de que el parto y la maternidad son inherentemente violentos, lo que puede deslegitimar experiencias positivas de parto.\n",
            "\n",
            "2. **Texto original anotado:**\n",
            "\n",
            "   Dice Esther Vivas (Sabadell, 1975) que \"la literatura de la maternidad parte a menudo de la propia experiencia\". <span style=\"color: red; font-weight: bold;\">¿Quién iba, si no, a querer dedicar su tiempo a un asunto tan insignificante?</span> El caso de esta persona periodista, que se había dedicado previamente al estudio del sistema agroalimentario y de los movimientos sociales, no es, dice, una excepción. A partir de su embarazo y de las primeras búsquedas de información sobre cómo se podría desarrollar el parto, comenzó a preguntarse por qué no le habían hablado de todo aquello. Por qué todo el mundo aceptaba esa violencia obstétrica. Mamá desobediente (editado por Capitán Swing en castellano y en catalán por Ara Llibres, bajo el título Mama desobedient) es el resultado de aquella primera \"indignación\", pero no se limita a ella. En el ensayo, que lleva por subtítulo Una mirada feminista a la maternidad, Vivas se ocupa primero de los mitos existentes en torno a ella, para centrarse luego en dos aspectos concretos de esta experiencia que generan un debate encendido: primero, la atención al parto; después, la lactancia.\n",
            "\n",
            "Y no es casualidad que cuestiones aparentemente privadas sobre si una persona le da el pecho o no a su hijo o hija generen polémica. La autora no solo defiende que la maternidad es un asunto público, imbricado en la economía y la política, sino que la sitúa en el centro del feminismo de clase y el anticapitalismo. Si no se la ha considerado así, defiende en el libro, es porque existen intereses para ello.\n",
            "\n",
            "Pregunta. <span style=\"color: red; font-weight: bold;\">¿Por qué ser madre y feminista supone ser desobediente?</span> <span style=\"color: red; font-weight: bold;\">¿Desobediente con respecto al sistema neoliberal o con respecto a cierto feminismo?</span>\n",
            "\n",
            "Respuesta. Ser madre implica desobedecer porque vivimos en un sistema que es hostil a la maternidad y a la crianza, y si eres feminista y de repente eres madre, esa maternidad te reafirma en tus valores feministas. <span style=\"color: red; font-weight: bold;\">¿Qué sucede? Que en general el feminismo ha tenido una relación compleja con la maternidad, porque en la medida en que la maternidad ha sido utilizada por el patriarcado como un instrumento de control del cuerpo de las mujeres,</span> cuando el feminismo se rebeló contra esta imposición, en los años sesenta o setenta, en la Segunda Ola, se creó un discurso antipaternal y antirreproductivo, y no se abordaron las contradicciones que implica la maternidad. Por eso creo que desde el feminismo es necesario reivindicar la experiencia materna, no en clave romántica sino en clave de experiencia que tenemos que poder vivir como personas, al margen de las imposiciones y restricciones del sistema.\n",
            "\n",
            "P. <span style=\"color: red; font-weight: bold;\">¿Pensar la maternidad desde el feminismo supone repensar la idea que tenemos de la incorporación de la mujer al mundo laboral?</span>\n",
            "\n",
            "R. Sí. En general, desde un cierto feminismo, a la hora de plantear la igualdad en el mercado de trabajo, se ha señalado la maternidad, el cuidado y la crianza como una carga. Desde este punto de vista, ante la maternidad patriarcal impuesta, ante ese modelo de feminidad abnegada cuyo fin último es ser madre, <span style=\"color: red; font-weight: bold;\">se ha planteado que la alternativa era supeditar la crianza al mercado y al empleo.</span> Es necesario cambiar la mirada, porque el problema no es la maternidad, sino el mercado, una sociedad que es hostil a unas prácticas que son fundamentales para la reproducción de la vida, como son gestar, parir, dar de mamar y cuidar.\n",
            "\n",
            "P. <span style=\"color: red; font-weight: bold;\">¿Cómo afecta esto a la manera en que el movimiento feminista se ha planteado la narrativa en torno a la igualdad en el trabajo?</span>\n",
            "\n",
            "R. Aquí también hemos visto distintos discursos y estrategias. Por un lado hay un cierto feminismo liberal que básicamente reivindica la igualdad para un sector de personas de clase media blanca. En Estados Unidos vemos en el partido demócrata y que aquí vemos a medio camino entre el PSOE y Ciudadanos. Por eso creo que hay que reivindicar el feminismo del 99%, el que reclama la igualdad del conjunto de las personas y que señala que las desigualdades de género vienen también de las desigualdades de clase y de etnia, y que por eso es necesario acabar con las desigualdades socioeconómicas para conseguir una igualdad de género real.\n",
            "\n",
            "P. <span style=\"color: red; font-weight: bold;\">Por lo heredado de la Segunda Ola, existe esta idea de que liberarse de la maternidad obligatoria ha sido algo emancipatorio, y que por tanto poner la maternidad en el centro del feminismo sería negar esa conquista.</span> <span style=\"color: red; font-weight: bold;\">¿Cómo se resuelve este conflicto?</span>\n",
            "\n",
            "R. Lo que es necesario no es acabar con la experiencia de la maternidad, sino con lo que la activista feminista Adrienne Rich, ya en los años setenta, llamaba “la institución de la maternidad”. Es fundamental que la nueva oleada feminista incorpore la reivindicación de poder vivir la experiencia materna libre de imposiciones. La cuestión no es negar la maternidad sino reivindicarla. Esto no implica dar la razón a posturas reaccionarias en relación a la maternidad, sino reivindicar la maternidad en clave emancipadora. Yo como persona tengo derecho a decidir cómo quiero vivir mi embarazo, mi parto y mi lactancia: esto es feminismo, como también es feminismo decidir si quiero tener un hijo o no, si quiero abortar o no. Reivindicar una maternidad feminista va de la mano con reivindicar el pleno control sobre nuestro cuerpo como personas.\n",
            "\n",
            "P. Le dedica parte del libro al debate sobre las bajas de maternidad y paternidad, y señala que las nuevas bajas intransferibles quieren reforzar la igualdad entre hombres y mujeres pero en realidad ignoran la experiencia de la maternidad. <span style=\"color: red; font-weight: bold;\">¿Qué posición cree que ha faltado en el debate?</span>\n",
            "\n",
            "R. Se han obviado en gran medida las demandas de un sector del feminismo que reivindica una ampliación de los permisos de maternidad, porque en la actualidad el permiso de maternidad ni siquiera permite una lactancia materna en exclusiva hasta los seis meses, como recomiendan todas las instancias de salud. Y también es un debate que ha menospreciado el sentir de muchas madres. Hay varios estudios que señalan que cuando una persona tiene un hijo o hija, quiere estar con la criatura, y en cambio estos permisos iguales e intransferibles que se reivindican <span style=\"color: red; font-weight: bold;\">siguen estigmatizando la experiencia materna y la consideran una carga.</span> Con esto no quiero decir que la maternidad sea tan solo una maternidad de las mujeres, es una responsabilidad de madres, de padres, de la sociedad en general, y que hay que darle el valor social, político y económico que realmente tiene.\n",
            "\n",
            "Por otro lado, es positivo plantear una ampliación del permiso de paternidad, pero hay que tener en cuenta que si este finalmente se amplía hasta las ocho semanas el año que viene, en tan solo tres años el permiso de paternidad habrá aumentado un 300%, pasando de una semana en 2015 a ocho semanas en 2019. Cuando el permiso de maternidad en treinta años, desde el 89, no se ha movido una coma, y es extremadamente corto. No se puede ampliar el permiso de paternidad sin reivindicar un aumento del de maternidad. Esto se dice que se hace en nombre de la igualdad, pero creo que no podemos atribuir la desigualdad en el mercado de trabajo solo a la experiencia materna, porque van mucho más allá.\n",
            "\n",
            "P. <span style=\"color: red; font-weight: bold;\">¿En qué medida cree que estas bajas iguales e intransferibles contribuyen a estigmatizar la experiencia de la maternidad?</span>\n",
            "\n",
            "R. Porque son unos permisos en los cuales básicamente se antepone el mercado y el empleo a la crianza. Porque si se considera, en relación al permiso de maternidad, que 16 semanas son suficientes para acompañar a la criatura después de nacer, son permisos que no tienen en cuenta esas necesidades de un bebé, que necesita estar con sus progenitores el máximo tiempo posible tras nacer, y que la fuente de alimento más beneficiosa es la leche materna.\n",
            "\n",
            "Este es un elemento del que no se acostumbra a hablar, pero que es una medida profundamente clasista. De los permisos actuales solo se benefician las personas progenitoras que trabajan o han trabajado y cotizan, por lo que los sectores con menores recursos económicos no tienen acceso a ningún tipo de ayuda por maternidad o paternidad. Y en segundo lugar estos permisos iguales e intransferibles hacen que si tú como madre quieres estar más tiempo con tu criatura, quieres darle de mamar hasta los seis meses, solo aquellas personas con determinadas capacidades adquisitivas podrán hacerlo, porque solo ellas podrán tomarse una excedencia por su cuenta. <span style=\"color: red; font-weight: bold;\">Es una idea clasista que convierte la crianza en un privilegio.</span>\n",
            "\n",
            "P. <span style=\"color: red; font-weight: bold;\">¿Qué modelo, de los expuestos en el libro, considera más conveniente?</span>\n",
            "\n",
            "R. Se tendrían que ampliar ambos permisos con un periodo de tiempo muy superior al actual, como de hecho hacen muchos países nórdicos, que dan un peso central a lo que es la ayuda a la maternidad y la crianza. Porque aquí cada año con los informes de la caída de la natalidad nos escandalizamos, pero no se hace absolutamente nada para revertirla. Apostaría por un modelo como los nórdicos, donde las bajas son más amplias que las que tenemos en el Estado español, y que pueden ser compartidas y una parte de ellas transferibles.\n",
            "\n",
            "P. <span style=\"color: red; font-weight: bold;\">¿Por qué la lactancia tiene tanto espacio en el debate sobre la maternidad?</span> Se discute desde sobre cómo y dónde se produce hasta qué forma es más conveniente.\n",
            "\n",
            "R. El parto y la lactancia son dos partes esenciales en la crianza. Quería profundizar en el debate sobre la lactancia materna porque también en los feminismos hay un cierto debate sobre si se impone la teta o el biberón. Y me parecía interesante señalar e investigar cómo, a pesar de que cada vez se ha recuperado la lactancia materna —algo que es positivo, porque en los años setenta prácticamente desapareció—, aún el contexto social es adverso, contrariamente a lo que puede parecer en un primer momento.\n",
            "\n",
            "P. <span style=\"color: red; font-weight: bold;\">En esa época se configura un discurso que asegura que el biberón da más libertad a las madres, y que además también facilita la incorporación al trabajo.</span> <span style=\"color: red; font-weight: bold;\">¿Cómo nos relacionamos hoy con estas dos ideas?</span>\n",
            "\n",
            "R. Cuando yo reflexiono con una mirada crítica acerca de la lactancia artificial lo hago desde el punto de vista de los intereses económicos que hay detrás del negocio del biberón, no sobre lo que hace cada madre, porque por desgracia hacemos lo que buenamente podemos en nuestras circunstancias. Dicho esto, cuando se generalizó la lactancia artificial en los años setenta u ochenta, hay unos intereses empresariales claros. La generalización de la lactancia artificial supuso un negocio ingente para las empresas de la industria láctea y alimentaria, como Nestlé o Danone, de ahí que se promocionara como se hizo. Y lo que se hizo fue incidir en el personal sanitario para que este fuera proclive a promocionar la lactancia artificial en detrimento de la lactancia materna.\n",
            "\n",
            "Por otro lado, uno de los elementos que ha incomodado más al feminismo con respecto a la lactancia es el carácter biológico de la práctica, que es biosocial, hay un elemento cultural y otro biológico. Yo creo que desde el feminismo se trata de reconocer tanto el carácter biológico como cultural de la maternidad y de la lactancia, pero precisamente por esto, fruto de esta incomodidad, muchas veces se ha considerado que la maternidad era una práctica que encerraba a las madres en el hogar, que las alejaba del mercado de trabajo, y es necesario cambiar la mirada. Porque <span style=\"color: red; font-weight: bold;\">dar de mamar es una práctica profundamente feminista,</span> e incluso diría que antineoliberal y anticapitalista. En la medida en que dar la teta no es solo lo mejor para la criatura (y hay determinadas circunstancias en las que dar el biberón es lo mejor), también es extremadamente beneficiosa para la mamá y en particular después del parto, por lo que implica de recuperación, de vínculo con la criatura. A la vez, la lactancia materna permite la autonomía de la persona, porque no necesita gastar dinero, sabe lo que le da de comer, es kilómetro cero… Y si decía que dar la teta es antineoliberal es porque es una práctica que no beneficia al mercado, que necesita de unos tiempos y de un espacio que son contrarios a la lógica mercantil y productivista, y no tiene un impacto negativo en el medio ambiente.\n",
            "\n",
            "P. <span style=\"color: red; font-weight: bold;\">Las personas que optan por dar el pecho también suelen hablar de que esto supone una desigualdad insalvable con el otro progenitor en la tarea de cuidados.</span>\n",
            "\n",
            "R. <span style=\"color: red; font-weight: bold;\">Dar el biberón per se no te hace más libre como persona, ni es un mecanismo de igualdad.</span> Basta con ver a las madres que dan el biberón y crían en soledad. Tampoco la teta per se te hace más libre. El carácter biológico de la lactancia es innegable, pero esto no implica que el otro progenitor no pueda implicarse en muchas otras tareas. Los bebés no solo se despiertan por la noche porque quieren mamar, sino por muchas otras circunstancias. Criar en igualdad no tiene tanto que ver con cómo alimentamos a la criatura nada más nacer, sino con muchos otros elementos vinculados a la relación de pareja y con un entorno social que es hostil a la maternidad y a la crianza.\n",
            "\n",
            "P. <span style=\"color: red; font-weight: bold;\">La tercera pata del libro aborda la violencia obstétrica, y habla de una evolución progresiva en los hospitales.</span> <span style=\"color: red; font-weight: bold;\">¿Cuál es el panorama general ahora mismo?</span>\n",
            "\n",
            "R. Ha habido una serie de cambios muy significativos en relación a la atención al parto en el sistema hospitalario, que se han producido gracias y en parte a organizaciones de personas que han reivindicado un parto respetado. Sin El parto es nuestro no se entenderían los cambios en la atención sanitaria. Pero aún así, en la medida en que muchas de estas modificaciones que se han hecho a nivel gubernamental son de cumplimiento voluntario, aún existen muchas malas prácticas del personal sanitario, debido a que hay una serie de mitos y prejuicios en relación al nacimiento que acaban justificando estas prácticas. Y de hecho solo es necesario ver los porcentajes de cesáreas, de episiotomías, de partos instrumentales que se llevan a cabo, que son muy superiores de los que la Organización Mundial de la Salud considera razonables. Esto tiene un impacto físico y psíquico en las personas gestantes, y también en los bebés.\n",
            "\n",
            "P. <span style=\"color: red; font-weight: bold;\">Llama particularmente la atención las cifras de episiotomía, que indican que se dan en España en el 43% de los partos frente al tope del 15% que recomienda la OMS.</span> <span style=\"color: red; font-weight: bold;\">¿Hay una carga cultural en esto?</span>\n",
            "\n",
            "R. Más que una carga cultural hay unas prácticas médicas que consideran que en la medida en que el parto es una enfermedad, la atención al parto se aborda desde este punto de vista y esto dificulta que el proceso del parto se dé de manera natural. Estas prácticas facilitan el trabajo médico, pero tienen consecuencias negativas. En el caso de la episiotomía, particularmente, por lo que implica de problemas de micción, en las relaciones sexuales, etcétera. Hoy, cuatro de cada 10 personas que dan a luz sufren una episiotomía: hemos mejorado, porque en el año 95 eran 9 de cada 10. En los países nórdicos es 1 de cada 10. No creo que el periné de las personas gestantes españolas sea distinto al periné de las personas gestantes suecas. Si esto se produce es porque hay detrás unas prácticas médicas que consideran que esto es correcto. Hay que cambiar la formación médica para darle una perspectiva feminista y de género.\n",
            "\n",
            "P. <span style=\"color: red; font-weight: bold;\">En el libro se pregunta dónde están las comadronas, y también se plantea el problema de la formación.</span> <span style=\"color: red; font-weight: bold;\">¿Cómo se relacionan estos dos aspectos, qué se aprende en las universidades y quienes llegan a atender el parto?</span>\n",
            "\n",
            "R. Decíamos que hay una visión por parte del personal sanitario patológica, que se ve como una enfermedad, y esta visión es compartida por la sociedad. Y en la medida en que la sociedad no reconoce el parto como un proceso fisiológico, es difícil conseguir que haya un parto respetado. Yo digo que la violencia obstétrica es la última frontera de la violencia de género porque es una violencia aceptada, por los profesionales, por las personas afectadas y por sus allegados. Se considera que el parto es eso. Y por eso pensamos siempre que el personal mejor preparado para atender al parto es un ginecólogo, cuando en los partos de bajo riesgo es la comadrona. Hay que reivindicar la figura de la comadrona en la atención al parto y su plena autonomía como profesionales de la salud.\n",
            "\n",
            "P. <span style=\"color: red; font-weight: bold;\">Comadronas y madres son aliadas?</span>\n",
            "\n",
            "R. Sí, por supuesto. Lo que señalan muchos estudios es que en la medida en que el parto es llevado por comadronas, el grado de satisfacción de las personas que dan a luz es superior. El problema es que hay una profunda relación jerárquica en el sistema hospitalario que menosprecia a este personal. A la vez hay una falta también de este personal en los hospitales, que va en detrimento de la calidad de la atención al parto. Que haya más comadronas revierte positivamente en la salud de las personas gestantes.\n",
            "\n",
            "El 85% de excedencias para el cuidado de hijos e hijas tramitadas hasta marzo de 2021 fueron solicitadas por las madres.\n",
            "\n",
            "P. <span style=\"color: red; font-weight: bold;\">¿Cuál considera que debe ser el lugar desde el que se reclamen estas reivindicaciones alrededor de la maternidad?</span>\n",
            "\n",
            "R. Por un lado, es necesario que el feminismo reivindique la maternidad y la experiencia materna al margen de las imposiciones del sistema. Creo que esta nueva ola feminista, este feminismo del 99%, incorpore la maternidad a sus demandas y que se normalice la relación entre feminismos y maternidad. No como algo idílico o romántico, sino como experiencia y dándole el valor sociopolítico y económico que tiene. Luego están los grupos de crianza, los grupos de apoyo a la lactancia materna, creo que es importante que se sumen a esta oleada feminista en auge y que apuesten por una maternidad transformadora a la hora de llevar a cabo sus reivindicaciones. Porque la maternidad no es una cuestión individual, es una cuestión política. Porque si queremos vivir una maternidad digna lo que tenemos que hacer es cambiar el entorno socioeconómico. Y este cambio radical del sistema solo puede hacerse con el apoyo de otros movimientos sociales.\u001b[00m\n",
            "\n",
            "\n"
          ]
        },
        {
          "data": {
            "text/html": [
              "<pre style=\"white-space:pre;overflow-x:auto;line-height:normal;font-family:Menlo,'DejaVu Sans Mono',consolas,'Courier New',monospace\"><span style=\"color: #008080; text-decoration-color: #008080; font-weight: bold\">🚀 Crew: crew</span>\n",
              "├── <span style=\"color: #008000; text-decoration-color: #008000; font-weight: bold\">📋 Task: 80b79f84-ca10-4423-afd1-3ff10c449918</span>\n",
              "│   <span style=\"color: #c0c0c0; text-decoration-color: #c0c0c0\">   Assigned to: </span><span style=\"color: #008000; text-decoration-color: #008000\">Perfilador (periodista, mujer, progresista)</span>\n",
              "│   <span style=\"color: #c0c0c0; text-decoration-color: #c0c0c0\">   Status: </span><span style=\"color: #008000; text-decoration-color: #008000; font-weight: bold\">✅ Completed</span>\n",
              "│   └── <span style=\"color: #008000; text-decoration-color: #008000; font-weight: bold\">🤖 Agent: </span><span style=\"color: #008000; text-decoration-color: #008000\">Perfilador (periodista, mujer, progresista)</span>\n",
              "│       <span style=\"color: #c0c0c0; text-decoration-color: #c0c0c0\">    Status: </span><span style=\"color: #008000; text-decoration-color: #008000; font-weight: bold\">✅ Completed</span>\n",
              "├── <span style=\"color: #008000; text-decoration-color: #008000; font-weight: bold\">📋 Task: d54a7dbc-37b9-497b-a1bb-acaaf3c2269d</span>\n",
              "│   <span style=\"color: #c0c0c0; text-decoration-color: #c0c0c0\">   Assigned to: </span><span style=\"color: #008000; text-decoration-color: #008000\">Analista</span>\n",
              "│   <span style=\"color: #c0c0c0; text-decoration-color: #c0c0c0\">   Status: </span><span style=\"color: #008000; text-decoration-color: #008000; font-weight: bold\">✅ Completed</span>\n",
              "│   └── <span style=\"color: #008000; text-decoration-color: #008000; font-weight: bold\">🤖 Agent: </span><span style=\"color: #008000; text-decoration-color: #008000\">Analista</span>\n",
              "│       <span style=\"color: #c0c0c0; text-decoration-color: #c0c0c0\">    Status: </span><span style=\"color: #008000; text-decoration-color: #008000; font-weight: bold\">✅ Completed</span>\n",
              "└── <span style=\"color: #808000; text-decoration-color: #808000; font-weight: bold\">📋 Task: b951fad6-5cdd-401b-b93b-d278f52cac96</span>\n",
              "    <span style=\"color: #c0c0c0; text-decoration-color: #c0c0c0\">   Status: </span><span style=\"color: #bfbf7f; text-decoration-color: #bfbf7f\">Executing Task...</span>\n",
              "    └── <span style=\"color: #008000; text-decoration-color: #008000; font-weight: bold\">🤖 Agent: </span><span style=\"color: #008000; text-decoration-color: #008000\">Redactor</span>\n",
              "        <span style=\"color: #c0c0c0; text-decoration-color: #c0c0c0\">    Status: </span><span style=\"color: #008000; text-decoration-color: #008000; font-weight: bold\">✅ Completed</span>\n",
              "</pre>\n"
            ],
            "text/plain": [
              "\u001b[1;36m🚀 Crew: \u001b[0m\u001b[1;36mcrew\u001b[0m\n",
              "├── \u001b[1;32m📋 Task: 80b79f84-ca10-4423-afd1-3ff10c449918\u001b[0m\n",
              "│   \u001b[37m   Assigned to: \u001b[0m\u001b[32mPerfilador (periodista, mujer, progresista)\u001b[0m\n",
              "│   \u001b[37m   Status: \u001b[0m\u001b[1;32m✅ Completed\u001b[0m\n",
              "│   └── \u001b[1;32m🤖 Agent: \u001b[0m\u001b[32mPerfilador (periodista, mujer, progresista)\u001b[0m\n",
              "│       \u001b[37m    Status: \u001b[0m\u001b[1;32m✅ Completed\u001b[0m\n",
              "├── \u001b[1;32m📋 Task: d54a7dbc-37b9-497b-a1bb-acaaf3c2269d\u001b[0m\n",
              "│   \u001b[37m   Assigned to: \u001b[0m\u001b[32mAnalista\u001b[0m\n",
              "│   \u001b[37m   Status: \u001b[0m\u001b[1;32m✅ Completed\u001b[0m\n",
              "│   └── \u001b[1;32m🤖 Agent: \u001b[0m\u001b[32mAnalista\u001b[0m\n",
              "│       \u001b[37m    Status: \u001b[0m\u001b[1;32m✅ Completed\u001b[0m\n",
              "└── \u001b[1;33m📋 Task: b951fad6-5cdd-401b-b93b-d278f52cac96\u001b[0m\n",
              "    \u001b[37m   Status: \u001b[0m\u001b[2;33mExecuting Task...\u001b[0m\n",
              "    └── \u001b[1;32m🤖 Agent: \u001b[0m\u001b[32mRedactor\u001b[0m\n",
              "        \u001b[37m    Status: \u001b[0m\u001b[1;32m✅ Completed\u001b[0m\n"
            ]
          },
          "metadata": {},
          "output_type": "display_data"
        },
        {
          "data": {
            "text/html": [
              "<pre style=\"white-space:pre;overflow-x:auto;line-height:normal;font-family:Menlo,'DejaVu Sans Mono',consolas,'Courier New',monospace\">\n",
              "</pre>\n"
            ],
            "text/plain": [
              "\n"
            ]
          },
          "metadata": {},
          "output_type": "display_data"
        },
        {
          "data": {
            "text/html": [
              "<pre style=\"white-space:pre;overflow-x:auto;line-height:normal;font-family:Menlo,'DejaVu Sans Mono',consolas,'Courier New',monospace\"><span style=\"color: #008080; text-decoration-color: #008080; font-weight: bold\">🚀 Crew: crew</span>\n",
              "├── <span style=\"color: #008000; text-decoration-color: #008000; font-weight: bold\">📋 Task: 80b79f84-ca10-4423-afd1-3ff10c449918</span>\n",
              "│   <span style=\"color: #c0c0c0; text-decoration-color: #c0c0c0\">   Assigned to: </span><span style=\"color: #008000; text-decoration-color: #008000\">Perfilador (periodista, mujer, progresista)</span>\n",
              "│   <span style=\"color: #c0c0c0; text-decoration-color: #c0c0c0\">   Status: </span><span style=\"color: #008000; text-decoration-color: #008000; font-weight: bold\">✅ Completed</span>\n",
              "│   └── <span style=\"color: #008000; text-decoration-color: #008000; font-weight: bold\">🤖 Agent: </span><span style=\"color: #008000; text-decoration-color: #008000\">Perfilador (periodista, mujer, progresista)</span>\n",
              "│       <span style=\"color: #c0c0c0; text-decoration-color: #c0c0c0\">    Status: </span><span style=\"color: #008000; text-decoration-color: #008000; font-weight: bold\">✅ Completed</span>\n",
              "├── <span style=\"color: #008000; text-decoration-color: #008000; font-weight: bold\">📋 Task: d54a7dbc-37b9-497b-a1bb-acaaf3c2269d</span>\n",
              "│   <span style=\"color: #c0c0c0; text-decoration-color: #c0c0c0\">   Assigned to: </span><span style=\"color: #008000; text-decoration-color: #008000\">Analista</span>\n",
              "│   <span style=\"color: #c0c0c0; text-decoration-color: #c0c0c0\">   Status: </span><span style=\"color: #008000; text-decoration-color: #008000; font-weight: bold\">✅ Completed</span>\n",
              "│   └── <span style=\"color: #008000; text-decoration-color: #008000; font-weight: bold\">🤖 Agent: </span><span style=\"color: #008000; text-decoration-color: #008000\">Analista</span>\n",
              "│       <span style=\"color: #c0c0c0; text-decoration-color: #c0c0c0\">    Status: </span><span style=\"color: #008000; text-decoration-color: #008000; font-weight: bold\">✅ Completed</span>\n",
              "└── <span style=\"color: #008000; text-decoration-color: #008000; font-weight: bold\">📋 Task: b951fad6-5cdd-401b-b93b-d278f52cac96</span>\n",
              "    <span style=\"color: #c0c0c0; text-decoration-color: #c0c0c0\">   Assigned to: </span><span style=\"color: #008000; text-decoration-color: #008000\">Redactor</span>\n",
              "    <span style=\"color: #c0c0c0; text-decoration-color: #c0c0c0\">   Status: </span><span style=\"color: #008000; text-decoration-color: #008000; font-weight: bold\">✅ Completed</span>\n",
              "    └── <span style=\"color: #008000; text-decoration-color: #008000; font-weight: bold\">🤖 Agent: </span><span style=\"color: #008000; text-decoration-color: #008000\">Redactor</span>\n",
              "        <span style=\"color: #c0c0c0; text-decoration-color: #c0c0c0\">    Status: </span><span style=\"color: #008000; text-decoration-color: #008000; font-weight: bold\">✅ Completed</span>\n",
              "</pre>\n"
            ],
            "text/plain": [
              "\u001b[1;36m🚀 Crew: \u001b[0m\u001b[1;36mcrew\u001b[0m\n",
              "├── \u001b[1;32m📋 Task: 80b79f84-ca10-4423-afd1-3ff10c449918\u001b[0m\n",
              "│   \u001b[37m   Assigned to: \u001b[0m\u001b[32mPerfilador (periodista, mujer, progresista)\u001b[0m\n",
              "│   \u001b[37m   Status: \u001b[0m\u001b[1;32m✅ Completed\u001b[0m\n",
              "│   └── \u001b[1;32m🤖 Agent: \u001b[0m\u001b[32mPerfilador (periodista, mujer, progresista)\u001b[0m\n",
              "│       \u001b[37m    Status: \u001b[0m\u001b[1;32m✅ Completed\u001b[0m\n",
              "├── \u001b[1;32m📋 Task: d54a7dbc-37b9-497b-a1bb-acaaf3c2269d\u001b[0m\n",
              "│   \u001b[37m   Assigned to: \u001b[0m\u001b[32mAnalista\u001b[0m\n",
              "│   \u001b[37m   Status: \u001b[0m\u001b[1;32m✅ Completed\u001b[0m\n",
              "│   └── \u001b[1;32m🤖 Agent: \u001b[0m\u001b[32mAnalista\u001b[0m\n",
              "│       \u001b[37m    Status: \u001b[0m\u001b[1;32m✅ Completed\u001b[0m\n",
              "└── \u001b[1;32m📋 Task: b951fad6-5cdd-401b-b93b-d278f52cac96\u001b[0m\n",
              "    \u001b[37m   Assigned to: \u001b[0m\u001b[32mRedactor\u001b[0m\n",
              "    \u001b[37m   Status: \u001b[0m\u001b[1;32m✅ Completed\u001b[0m\n",
              "    └── \u001b[1;32m🤖 Agent: \u001b[0m\u001b[32mRedactor\u001b[0m\n",
              "        \u001b[37m    Status: \u001b[0m\u001b[1;32m✅ Completed\u001b[0m\n"
            ]
          },
          "metadata": {},
          "output_type": "display_data"
        },
        {
          "data": {
            "text/html": [
              "<pre style=\"white-space:pre;overflow-x:auto;line-height:normal;font-family:Menlo,'DejaVu Sans Mono',consolas,'Courier New',monospace\"><span style=\"color: #008000; text-decoration-color: #008000\">╭──────────────────────────────────────────────── Task Completion ────────────────────────────────────────────────╮</span>\n",
              "<span style=\"color: #008000; text-decoration-color: #008000\">│</span>                                                                                                                 <span style=\"color: #008000; text-decoration-color: #008000\">│</span>\n",
              "<span style=\"color: #008000; text-decoration-color: #008000\">│</span>  <span style=\"color: #008000; text-decoration-color: #008000; font-weight: bold\">Task Completed</span>                                                                                                 <span style=\"color: #008000; text-decoration-color: #008000\">│</span>\n",
              "<span style=\"color: #008000; text-decoration-color: #008000\">│</span>  <span style=\"color: #c0c0c0; text-decoration-color: #c0c0c0\">Name: </span><span style=\"color: #008000; text-decoration-color: #008000\">b951fad6-5cdd-401b-b93b-d278f52cac96</span>                                                                     <span style=\"color: #008000; text-decoration-color: #008000\">│</span>\n",
              "<span style=\"color: #008000; text-decoration-color: #008000\">│</span>  <span style=\"color: #c0c0c0; text-decoration-color: #c0c0c0\">Agent: </span><span style=\"color: #008000; text-decoration-color: #008000\">Redactor</span>                                                                                                <span style=\"color: #008000; text-decoration-color: #008000\">│</span>\n",
              "<span style=\"color: #008000; text-decoration-color: #008000\">│</span>                                                                                                                 <span style=\"color: #008000; text-decoration-color: #008000\">│</span>\n",
              "<span style=\"color: #008000; text-decoration-color: #008000\">│</span>                                                                                                                 <span style=\"color: #008000; text-decoration-color: #008000\">│</span>\n",
              "<span style=\"color: #008000; text-decoration-color: #008000\">╰─────────────────────────────────────────────────────────────────────────────────────────────────────────────────╯</span>\n",
              "</pre>\n"
            ],
            "text/plain": [
              "\u001b[32m╭─\u001b[0m\u001b[32m───────────────────────────────────────────────\u001b[0m\u001b[32m Task Completion \u001b[0m\u001b[32m───────────────────────────────────────────────\u001b[0m\u001b[32m─╮\u001b[0m\n",
              "\u001b[32m│\u001b[0m                                                                                                                 \u001b[32m│\u001b[0m\n",
              "\u001b[32m│\u001b[0m  \u001b[1;32mTask Completed\u001b[0m                                                                                                 \u001b[32m│\u001b[0m\n",
              "\u001b[32m│\u001b[0m  \u001b[37mName: \u001b[0m\u001b[32mb951fad6-5cdd-401b-b93b-d278f52cac96\u001b[0m                                                                     \u001b[32m│\u001b[0m\n",
              "\u001b[32m│\u001b[0m  \u001b[37mAgent: \u001b[0m\u001b[32mRedactor\u001b[0m                                                                                                \u001b[32m│\u001b[0m\n",
              "\u001b[32m│\u001b[0m                                                                                                                 \u001b[32m│\u001b[0m\n",
              "\u001b[32m│\u001b[0m                                                                                                                 \u001b[32m│\u001b[0m\n",
              "\u001b[32m╰─────────────────────────────────────────────────────────────────────────────────────────────────────────────────╯\u001b[0m\n"
            ]
          },
          "metadata": {},
          "output_type": "display_data"
        },
        {
          "data": {
            "text/html": [
              "<pre style=\"white-space:pre;overflow-x:auto;line-height:normal;font-family:Menlo,'DejaVu Sans Mono',consolas,'Courier New',monospace\">\n",
              "</pre>\n"
            ],
            "text/plain": [
              "\n"
            ]
          },
          "metadata": {},
          "output_type": "display_data"
        },
        {
          "data": {
            "text/html": [
              "<pre style=\"white-space:pre;overflow-x:auto;line-height:normal;font-family:Menlo,'DejaVu Sans Mono',consolas,'Courier New',monospace\"><span style=\"color: #008080; text-decoration-color: #008080; font-weight: bold\">🚀 Crew: crew</span>\n",
              "├── <span style=\"color: #008000; text-decoration-color: #008000; font-weight: bold\">📋 Task: 80b79f84-ca10-4423-afd1-3ff10c449918</span>\n",
              "│   <span style=\"color: #c0c0c0; text-decoration-color: #c0c0c0\">   Assigned to: </span><span style=\"color: #008000; text-decoration-color: #008000\">Perfilador (periodista, mujer, progresista)</span>\n",
              "│   <span style=\"color: #c0c0c0; text-decoration-color: #c0c0c0\">   Status: </span><span style=\"color: #008000; text-decoration-color: #008000; font-weight: bold\">✅ Completed</span>\n",
              "│   └── <span style=\"color: #008000; text-decoration-color: #008000; font-weight: bold\">🤖 Agent: </span><span style=\"color: #008000; text-decoration-color: #008000\">Perfilador (periodista, mujer, progresista)</span>\n",
              "│       <span style=\"color: #c0c0c0; text-decoration-color: #c0c0c0\">    Status: </span><span style=\"color: #008000; text-decoration-color: #008000; font-weight: bold\">✅ Completed</span>\n",
              "├── <span style=\"color: #008000; text-decoration-color: #008000; font-weight: bold\">📋 Task: d54a7dbc-37b9-497b-a1bb-acaaf3c2269d</span>\n",
              "│   <span style=\"color: #c0c0c0; text-decoration-color: #c0c0c0\">   Assigned to: </span><span style=\"color: #008000; text-decoration-color: #008000\">Analista</span>\n",
              "│   <span style=\"color: #c0c0c0; text-decoration-color: #c0c0c0\">   Status: </span><span style=\"color: #008000; text-decoration-color: #008000; font-weight: bold\">✅ Completed</span>\n",
              "│   └── <span style=\"color: #008000; text-decoration-color: #008000; font-weight: bold\">🤖 Agent: </span><span style=\"color: #008000; text-decoration-color: #008000\">Analista</span>\n",
              "│       <span style=\"color: #c0c0c0; text-decoration-color: #c0c0c0\">    Status: </span><span style=\"color: #008000; text-decoration-color: #008000; font-weight: bold\">✅ Completed</span>\n",
              "├── <span style=\"color: #008000; text-decoration-color: #008000; font-weight: bold\">📋 Task: b951fad6-5cdd-401b-b93b-d278f52cac96</span>\n",
              "│   <span style=\"color: #c0c0c0; text-decoration-color: #c0c0c0\">   Assigned to: </span><span style=\"color: #008000; text-decoration-color: #008000\">Redactor</span>\n",
              "│   <span style=\"color: #c0c0c0; text-decoration-color: #c0c0c0\">   Status: </span><span style=\"color: #008000; text-decoration-color: #008000; font-weight: bold\">✅ Completed</span>\n",
              "│   └── <span style=\"color: #008000; text-decoration-color: #008000; font-weight: bold\">🤖 Agent: </span><span style=\"color: #008000; text-decoration-color: #008000\">Redactor</span>\n",
              "│       <span style=\"color: #c0c0c0; text-decoration-color: #c0c0c0\">    Status: </span><span style=\"color: #008000; text-decoration-color: #008000; font-weight: bold\">✅ Completed</span>\n",
              "└── <span style=\"color: #808000; text-decoration-color: #808000; font-weight: bold\">📋 Task: e9470ae4-a4a4-4411-9a54-0d709b782877</span>\n",
              "    <span style=\"color: #c0c0c0; text-decoration-color: #c0c0c0\">   Status: </span><span style=\"color: #bfbf7f; text-decoration-color: #bfbf7f\">Executing Task...</span>\n",
              "</pre>\n"
            ],
            "text/plain": [
              "\u001b[1;36m🚀 Crew: \u001b[0m\u001b[1;36mcrew\u001b[0m\n",
              "├── \u001b[1;32m📋 Task: 80b79f84-ca10-4423-afd1-3ff10c449918\u001b[0m\n",
              "│   \u001b[37m   Assigned to: \u001b[0m\u001b[32mPerfilador (periodista, mujer, progresista)\u001b[0m\n",
              "│   \u001b[37m   Status: \u001b[0m\u001b[1;32m✅ Completed\u001b[0m\n",
              "│   └── \u001b[1;32m🤖 Agent: \u001b[0m\u001b[32mPerfilador (periodista, mujer, progresista)\u001b[0m\n",
              "│       \u001b[37m    Status: \u001b[0m\u001b[1;32m✅ Completed\u001b[0m\n",
              "├── \u001b[1;32m📋 Task: d54a7dbc-37b9-497b-a1bb-acaaf3c2269d\u001b[0m\n",
              "│   \u001b[37m   Assigned to: \u001b[0m\u001b[32mAnalista\u001b[0m\n",
              "│   \u001b[37m   Status: \u001b[0m\u001b[1;32m✅ Completed\u001b[0m\n",
              "│   └── \u001b[1;32m🤖 Agent: \u001b[0m\u001b[32mAnalista\u001b[0m\n",
              "│       \u001b[37m    Status: \u001b[0m\u001b[1;32m✅ Completed\u001b[0m\n",
              "├── \u001b[1;32m📋 Task: b951fad6-5cdd-401b-b93b-d278f52cac96\u001b[0m\n",
              "│   \u001b[37m   Assigned to: \u001b[0m\u001b[32mRedactor\u001b[0m\n",
              "│   \u001b[37m   Status: \u001b[0m\u001b[1;32m✅ Completed\u001b[0m\n",
              "│   └── \u001b[1;32m🤖 Agent: \u001b[0m\u001b[32mRedactor\u001b[0m\n",
              "│       \u001b[37m    Status: \u001b[0m\u001b[1;32m✅ Completed\u001b[0m\n",
              "└── \u001b[1;33m📋 Task: e9470ae4-a4a4-4411-9a54-0d709b782877\u001b[0m\n",
              "    \u001b[37m   Status: \u001b[0m\u001b[2;33mExecuting Task...\u001b[0m\n"
            ]
          },
          "metadata": {},
          "output_type": "display_data"
        },
        {
          "data": {
            "text/html": [
              "<pre style=\"white-space:pre;overflow-x:auto;line-height:normal;font-family:Menlo,'DejaVu Sans Mono',consolas,'Courier New',monospace\">\n",
              "</pre>\n"
            ],
            "text/plain": [
              "\n"
            ]
          },
          "metadata": {},
          "output_type": "display_data"
        },
        {
          "data": {
            "text/html": [
              "<pre style=\"white-space:pre;overflow-x:auto;line-height:normal;font-family:Menlo,'DejaVu Sans Mono',consolas,'Courier New',monospace\"><span style=\"color: #008080; text-decoration-color: #008080; font-weight: bold\">🚀 Crew: crew</span>\n",
              "├── <span style=\"color: #008000; text-decoration-color: #008000; font-weight: bold\">📋 Task: 80b79f84-ca10-4423-afd1-3ff10c449918</span>\n",
              "│   <span style=\"color: #c0c0c0; text-decoration-color: #c0c0c0\">   Assigned to: </span><span style=\"color: #008000; text-decoration-color: #008000\">Perfilador (periodista, mujer, progresista)</span>\n",
              "│   <span style=\"color: #c0c0c0; text-decoration-color: #c0c0c0\">   Status: </span><span style=\"color: #008000; text-decoration-color: #008000; font-weight: bold\">✅ Completed</span>\n",
              "│   └── <span style=\"color: #008000; text-decoration-color: #008000; font-weight: bold\">🤖 Agent: </span><span style=\"color: #008000; text-decoration-color: #008000\">Perfilador (periodista, mujer, progresista)</span>\n",
              "│       <span style=\"color: #c0c0c0; text-decoration-color: #c0c0c0\">    Status: </span><span style=\"color: #008000; text-decoration-color: #008000; font-weight: bold\">✅ Completed</span>\n",
              "├── <span style=\"color: #008000; text-decoration-color: #008000; font-weight: bold\">📋 Task: d54a7dbc-37b9-497b-a1bb-acaaf3c2269d</span>\n",
              "│   <span style=\"color: #c0c0c0; text-decoration-color: #c0c0c0\">   Assigned to: </span><span style=\"color: #008000; text-decoration-color: #008000\">Analista</span>\n",
              "│   <span style=\"color: #c0c0c0; text-decoration-color: #c0c0c0\">   Status: </span><span style=\"color: #008000; text-decoration-color: #008000; font-weight: bold\">✅ Completed</span>\n",
              "│   └── <span style=\"color: #008000; text-decoration-color: #008000; font-weight: bold\">🤖 Agent: </span><span style=\"color: #008000; text-decoration-color: #008000\">Analista</span>\n",
              "│       <span style=\"color: #c0c0c0; text-decoration-color: #c0c0c0\">    Status: </span><span style=\"color: #008000; text-decoration-color: #008000; font-weight: bold\">✅ Completed</span>\n",
              "├── <span style=\"color: #008000; text-decoration-color: #008000; font-weight: bold\">📋 Task: b951fad6-5cdd-401b-b93b-d278f52cac96</span>\n",
              "│   <span style=\"color: #c0c0c0; text-decoration-color: #c0c0c0\">   Assigned to: </span><span style=\"color: #008000; text-decoration-color: #008000\">Redactor</span>\n",
              "│   <span style=\"color: #c0c0c0; text-decoration-color: #c0c0c0\">   Status: </span><span style=\"color: #008000; text-decoration-color: #008000; font-weight: bold\">✅ Completed</span>\n",
              "│   └── <span style=\"color: #008000; text-decoration-color: #008000; font-weight: bold\">🤖 Agent: </span><span style=\"color: #008000; text-decoration-color: #008000\">Redactor</span>\n",
              "│       <span style=\"color: #c0c0c0; text-decoration-color: #c0c0c0\">    Status: </span><span style=\"color: #008000; text-decoration-color: #008000; font-weight: bold\">✅ Completed</span>\n",
              "└── <span style=\"color: #808000; text-decoration-color: #808000; font-weight: bold\">📋 Task: e9470ae4-a4a4-4411-9a54-0d709b782877</span>\n",
              "    <span style=\"color: #c0c0c0; text-decoration-color: #c0c0c0\">   Status: </span><span style=\"color: #bfbf7f; text-decoration-color: #bfbf7f\">Executing Task...</span>\n",
              "    └── <span style=\"color: #008000; text-decoration-color: #008000; font-weight: bold\">🤖 Agent: </span><span style=\"color: #008000; text-decoration-color: #008000\">Estilizador</span>\n",
              "        <span style=\"color: #c0c0c0; text-decoration-color: #c0c0c0\">    Status: </span><span style=\"color: #008000; text-decoration-color: #008000; font-weight: bold\">In Progress</span>\n",
              "</pre>\n"
            ],
            "text/plain": [
              "\u001b[1;36m🚀 Crew: \u001b[0m\u001b[1;36mcrew\u001b[0m\n",
              "├── \u001b[1;32m📋 Task: 80b79f84-ca10-4423-afd1-3ff10c449918\u001b[0m\n",
              "│   \u001b[37m   Assigned to: \u001b[0m\u001b[32mPerfilador (periodista, mujer, progresista)\u001b[0m\n",
              "│   \u001b[37m   Status: \u001b[0m\u001b[1;32m✅ Completed\u001b[0m\n",
              "│   └── \u001b[1;32m🤖 Agent: \u001b[0m\u001b[32mPerfilador (periodista, mujer, progresista)\u001b[0m\n",
              "│       \u001b[37m    Status: \u001b[0m\u001b[1;32m✅ Completed\u001b[0m\n",
              "├── \u001b[1;32m📋 Task: d54a7dbc-37b9-497b-a1bb-acaaf3c2269d\u001b[0m\n",
              "│   \u001b[37m   Assigned to: \u001b[0m\u001b[32mAnalista\u001b[0m\n",
              "│   \u001b[37m   Status: \u001b[0m\u001b[1;32m✅ Completed\u001b[0m\n",
              "│   └── \u001b[1;32m🤖 Agent: \u001b[0m\u001b[32mAnalista\u001b[0m\n",
              "│       \u001b[37m    Status: \u001b[0m\u001b[1;32m✅ Completed\u001b[0m\n",
              "├── \u001b[1;32m📋 Task: b951fad6-5cdd-401b-b93b-d278f52cac96\u001b[0m\n",
              "│   \u001b[37m   Assigned to: \u001b[0m\u001b[32mRedactor\u001b[0m\n",
              "│   \u001b[37m   Status: \u001b[0m\u001b[1;32m✅ Completed\u001b[0m\n",
              "│   └── \u001b[1;32m🤖 Agent: \u001b[0m\u001b[32mRedactor\u001b[0m\n",
              "│       \u001b[37m    Status: \u001b[0m\u001b[1;32m✅ Completed\u001b[0m\n",
              "└── \u001b[1;33m📋 Task: e9470ae4-a4a4-4411-9a54-0d709b782877\u001b[0m\n",
              "    \u001b[37m   Status: \u001b[0m\u001b[2;33mExecuting Task...\u001b[0m\n",
              "    └── \u001b[1;32m🤖 Agent: \u001b[0m\u001b[32mEstilizador\u001b[0m\n",
              "        \u001b[37m    Status: \u001b[0m\u001b[1;32mIn Progress\u001b[0m\n"
            ]
          },
          "metadata": {},
          "output_type": "display_data"
        },
        {
          "data": {
            "text/html": [
              "<pre style=\"white-space:pre;overflow-x:auto;line-height:normal;font-family:Menlo,'DejaVu Sans Mono',consolas,'Courier New',monospace\">\n",
              "</pre>\n"
            ],
            "text/plain": [
              "\n"
            ]
          },
          "metadata": {},
          "output_type": "display_data"
        },
        {
          "name": "stdout",
          "output_type": "stream",
          "text": [
            "\u001b[1m\u001b[95m# Agent:\u001b[00m \u001b[1m\u001b[92mEstilizador\u001b[00m\n",
            "\u001b[95m## Task:\u001b[00m \u001b[92mToma todos los análisis anteriores y preséntalos en un informe en formato Markdown con títulos, listas, separadores y claridad visual.\u001b[00m\n"
          ]
        },
        {
          "data": {
            "text/html": [
              "<pre style=\"white-space:pre;overflow-x:auto;line-height:normal;font-family:Menlo,'DejaVu Sans Mono',consolas,'Courier New',monospace\"><span style=\"color: #008080; text-decoration-color: #008080; font-weight: bold\">🚀 Crew: crew</span>\n",
              "├── <span style=\"color: #008000; text-decoration-color: #008000; font-weight: bold\">📋 Task: 80b79f84-ca10-4423-afd1-3ff10c449918</span>\n",
              "│   <span style=\"color: #c0c0c0; text-decoration-color: #c0c0c0\">   Assigned to: </span><span style=\"color: #008000; text-decoration-color: #008000\">Perfilador (periodista, mujer, progresista)</span>\n",
              "│   <span style=\"color: #c0c0c0; text-decoration-color: #c0c0c0\">   Status: </span><span style=\"color: #008000; text-decoration-color: #008000; font-weight: bold\">✅ Completed</span>\n",
              "│   └── <span style=\"color: #008000; text-decoration-color: #008000; font-weight: bold\">🤖 Agent: </span><span style=\"color: #008000; text-decoration-color: #008000\">Perfilador (periodista, mujer, progresista)</span>\n",
              "│       <span style=\"color: #c0c0c0; text-decoration-color: #c0c0c0\">    Status: </span><span style=\"color: #008000; text-decoration-color: #008000; font-weight: bold\">✅ Completed</span>\n",
              "├── <span style=\"color: #008000; text-decoration-color: #008000; font-weight: bold\">📋 Task: d54a7dbc-37b9-497b-a1bb-acaaf3c2269d</span>\n",
              "│   <span style=\"color: #c0c0c0; text-decoration-color: #c0c0c0\">   Assigned to: </span><span style=\"color: #008000; text-decoration-color: #008000\">Analista</span>\n",
              "│   <span style=\"color: #c0c0c0; text-decoration-color: #c0c0c0\">   Status: </span><span style=\"color: #008000; text-decoration-color: #008000; font-weight: bold\">✅ Completed</span>\n",
              "│   └── <span style=\"color: #008000; text-decoration-color: #008000; font-weight: bold\">🤖 Agent: </span><span style=\"color: #008000; text-decoration-color: #008000\">Analista</span>\n",
              "│       <span style=\"color: #c0c0c0; text-decoration-color: #c0c0c0\">    Status: </span><span style=\"color: #008000; text-decoration-color: #008000; font-weight: bold\">✅ Completed</span>\n",
              "├── <span style=\"color: #008000; text-decoration-color: #008000; font-weight: bold\">📋 Task: b951fad6-5cdd-401b-b93b-d278f52cac96</span>\n",
              "│   <span style=\"color: #c0c0c0; text-decoration-color: #c0c0c0\">   Assigned to: </span><span style=\"color: #008000; text-decoration-color: #008000\">Redactor</span>\n",
              "│   <span style=\"color: #c0c0c0; text-decoration-color: #c0c0c0\">   Status: </span><span style=\"color: #008000; text-decoration-color: #008000; font-weight: bold\">✅ Completed</span>\n",
              "│   └── <span style=\"color: #008000; text-decoration-color: #008000; font-weight: bold\">🤖 Agent: </span><span style=\"color: #008000; text-decoration-color: #008000\">Redactor</span>\n",
              "│       <span style=\"color: #c0c0c0; text-decoration-color: #c0c0c0\">    Status: </span><span style=\"color: #008000; text-decoration-color: #008000; font-weight: bold\">✅ Completed</span>\n",
              "└── <span style=\"color: #808000; text-decoration-color: #808000; font-weight: bold\">📋 Task: e9470ae4-a4a4-4411-9a54-0d709b782877</span>\n",
              "    <span style=\"color: #c0c0c0; text-decoration-color: #c0c0c0\">   Status: </span><span style=\"color: #bfbf7f; text-decoration-color: #bfbf7f\">Executing Task...</span>\n",
              "    └── <span style=\"color: #008000; text-decoration-color: #008000; font-weight: bold\">🤖 Agent: </span><span style=\"color: #008000; text-decoration-color: #008000\">Estilizador</span>\n",
              "        <span style=\"color: #c0c0c0; text-decoration-color: #c0c0c0\">    Status: </span><span style=\"color: #008000; text-decoration-color: #008000; font-weight: bold\">In Progress</span>\n",
              "        └── <span style=\"color: #000080; text-decoration-color: #000080; font-weight: bold\">🧠 </span><span style=\"color: #000080; text-decoration-color: #000080\">Thinking...</span>\n",
              "</pre>\n"
            ],
            "text/plain": [
              "\u001b[1;36m🚀 Crew: \u001b[0m\u001b[1;36mcrew\u001b[0m\n",
              "├── \u001b[1;32m📋 Task: 80b79f84-ca10-4423-afd1-3ff10c449918\u001b[0m\n",
              "│   \u001b[37m   Assigned to: \u001b[0m\u001b[32mPerfilador (periodista, mujer, progresista)\u001b[0m\n",
              "│   \u001b[37m   Status: \u001b[0m\u001b[1;32m✅ Completed\u001b[0m\n",
              "│   └── \u001b[1;32m🤖 Agent: \u001b[0m\u001b[32mPerfilador (periodista, mujer, progresista)\u001b[0m\n",
              "│       \u001b[37m    Status: \u001b[0m\u001b[1;32m✅ Completed\u001b[0m\n",
              "├── \u001b[1;32m📋 Task: d54a7dbc-37b9-497b-a1bb-acaaf3c2269d\u001b[0m\n",
              "│   \u001b[37m   Assigned to: \u001b[0m\u001b[32mAnalista\u001b[0m\n",
              "│   \u001b[37m   Status: \u001b[0m\u001b[1;32m✅ Completed\u001b[0m\n",
              "│   └── \u001b[1;32m🤖 Agent: \u001b[0m\u001b[32mAnalista\u001b[0m\n",
              "│       \u001b[37m    Status: \u001b[0m\u001b[1;32m✅ Completed\u001b[0m\n",
              "├── \u001b[1;32m📋 Task: b951fad6-5cdd-401b-b93b-d278f52cac96\u001b[0m\n",
              "│   \u001b[37m   Assigned to: \u001b[0m\u001b[32mRedactor\u001b[0m\n",
              "│   \u001b[37m   Status: \u001b[0m\u001b[1;32m✅ Completed\u001b[0m\n",
              "│   └── \u001b[1;32m🤖 Agent: \u001b[0m\u001b[32mRedactor\u001b[0m\n",
              "│       \u001b[37m    Status: \u001b[0m\u001b[1;32m✅ Completed\u001b[0m\n",
              "└── \u001b[1;33m📋 Task: e9470ae4-a4a4-4411-9a54-0d709b782877\u001b[0m\n",
              "    \u001b[37m   Status: \u001b[0m\u001b[2;33mExecuting Task...\u001b[0m\n",
              "    └── \u001b[1;32m🤖 Agent: \u001b[0m\u001b[32mEstilizador\u001b[0m\n",
              "        \u001b[37m    Status: \u001b[0m\u001b[1;32mIn Progress\u001b[0m\n",
              "        └── \u001b[1;34m🧠 \u001b[0m\u001b[34mThinking...\u001b[0m\n"
            ]
          },
          "metadata": {},
          "output_type": "display_data"
        },
        {
          "data": {
            "text/html": [
              "<pre style=\"white-space:pre;overflow-x:auto;line-height:normal;font-family:Menlo,'DejaVu Sans Mono',consolas,'Courier New',monospace\">\n",
              "</pre>\n"
            ],
            "text/plain": [
              "\n"
            ]
          },
          "metadata": {},
          "output_type": "display_data"
        },
        {
          "data": {
            "text/html": [
              "<pre style=\"white-space:pre;overflow-x:auto;line-height:normal;font-family:Menlo,'DejaVu Sans Mono',consolas,'Courier New',monospace\"><span style=\"color: #008080; text-decoration-color: #008080; font-weight: bold\">🚀 Crew: crew</span>\n",
              "├── <span style=\"color: #008000; text-decoration-color: #008000; font-weight: bold\">📋 Task: 80b79f84-ca10-4423-afd1-3ff10c449918</span>\n",
              "│   <span style=\"color: #c0c0c0; text-decoration-color: #c0c0c0\">   Assigned to: </span><span style=\"color: #008000; text-decoration-color: #008000\">Perfilador (periodista, mujer, progresista)</span>\n",
              "│   <span style=\"color: #c0c0c0; text-decoration-color: #c0c0c0\">   Status: </span><span style=\"color: #008000; text-decoration-color: #008000; font-weight: bold\">✅ Completed</span>\n",
              "│   └── <span style=\"color: #008000; text-decoration-color: #008000; font-weight: bold\">🤖 Agent: </span><span style=\"color: #008000; text-decoration-color: #008000\">Perfilador (periodista, mujer, progresista)</span>\n",
              "│       <span style=\"color: #c0c0c0; text-decoration-color: #c0c0c0\">    Status: </span><span style=\"color: #008000; text-decoration-color: #008000; font-weight: bold\">✅ Completed</span>\n",
              "├── <span style=\"color: #008000; text-decoration-color: #008000; font-weight: bold\">📋 Task: d54a7dbc-37b9-497b-a1bb-acaaf3c2269d</span>\n",
              "│   <span style=\"color: #c0c0c0; text-decoration-color: #c0c0c0\">   Assigned to: </span><span style=\"color: #008000; text-decoration-color: #008000\">Analista</span>\n",
              "│   <span style=\"color: #c0c0c0; text-decoration-color: #c0c0c0\">   Status: </span><span style=\"color: #008000; text-decoration-color: #008000; font-weight: bold\">✅ Completed</span>\n",
              "│   └── <span style=\"color: #008000; text-decoration-color: #008000; font-weight: bold\">🤖 Agent: </span><span style=\"color: #008000; text-decoration-color: #008000\">Analista</span>\n",
              "│       <span style=\"color: #c0c0c0; text-decoration-color: #c0c0c0\">    Status: </span><span style=\"color: #008000; text-decoration-color: #008000; font-weight: bold\">✅ Completed</span>\n",
              "├── <span style=\"color: #008000; text-decoration-color: #008000; font-weight: bold\">📋 Task: b951fad6-5cdd-401b-b93b-d278f52cac96</span>\n",
              "│   <span style=\"color: #c0c0c0; text-decoration-color: #c0c0c0\">   Assigned to: </span><span style=\"color: #008000; text-decoration-color: #008000\">Redactor</span>\n",
              "│   <span style=\"color: #c0c0c0; text-decoration-color: #c0c0c0\">   Status: </span><span style=\"color: #008000; text-decoration-color: #008000; font-weight: bold\">✅ Completed</span>\n",
              "│   └── <span style=\"color: #008000; text-decoration-color: #008000; font-weight: bold\">🤖 Agent: </span><span style=\"color: #008000; text-decoration-color: #008000\">Redactor</span>\n",
              "│       <span style=\"color: #c0c0c0; text-decoration-color: #c0c0c0\">    Status: </span><span style=\"color: #008000; text-decoration-color: #008000; font-weight: bold\">✅ Completed</span>\n",
              "└── <span style=\"color: #808000; text-decoration-color: #808000; font-weight: bold\">📋 Task: e9470ae4-a4a4-4411-9a54-0d709b782877</span>\n",
              "    <span style=\"color: #c0c0c0; text-decoration-color: #c0c0c0\">   Status: </span><span style=\"color: #bfbf7f; text-decoration-color: #bfbf7f\">Executing Task...</span>\n",
              "    └── <span style=\"color: #008000; text-decoration-color: #008000; font-weight: bold\">🤖 Agent: </span><span style=\"color: #008000; text-decoration-color: #008000\">Estilizador</span>\n",
              "        <span style=\"color: #c0c0c0; text-decoration-color: #c0c0c0\">    Status: </span><span style=\"color: #008000; text-decoration-color: #008000; font-weight: bold\">In Progress</span>\n",
              "</pre>\n"
            ],
            "text/plain": [
              "\u001b[1;36m🚀 Crew: \u001b[0m\u001b[1;36mcrew\u001b[0m\n",
              "├── \u001b[1;32m📋 Task: 80b79f84-ca10-4423-afd1-3ff10c449918\u001b[0m\n",
              "│   \u001b[37m   Assigned to: \u001b[0m\u001b[32mPerfilador (periodista, mujer, progresista)\u001b[0m\n",
              "│   \u001b[37m   Status: \u001b[0m\u001b[1;32m✅ Completed\u001b[0m\n",
              "│   └── \u001b[1;32m🤖 Agent: \u001b[0m\u001b[32mPerfilador (periodista, mujer, progresista)\u001b[0m\n",
              "│       \u001b[37m    Status: \u001b[0m\u001b[1;32m✅ Completed\u001b[0m\n",
              "├── \u001b[1;32m📋 Task: d54a7dbc-37b9-497b-a1bb-acaaf3c2269d\u001b[0m\n",
              "│   \u001b[37m   Assigned to: \u001b[0m\u001b[32mAnalista\u001b[0m\n",
              "│   \u001b[37m   Status: \u001b[0m\u001b[1;32m✅ Completed\u001b[0m\n",
              "│   └── \u001b[1;32m🤖 Agent: \u001b[0m\u001b[32mAnalista\u001b[0m\n",
              "│       \u001b[37m    Status: \u001b[0m\u001b[1;32m✅ Completed\u001b[0m\n",
              "├── \u001b[1;32m📋 Task: b951fad6-5cdd-401b-b93b-d278f52cac96\u001b[0m\n",
              "│   \u001b[37m   Assigned to: \u001b[0m\u001b[32mRedactor\u001b[0m\n",
              "│   \u001b[37m   Status: \u001b[0m\u001b[1;32m✅ Completed\u001b[0m\n",
              "│   └── \u001b[1;32m🤖 Agent: \u001b[0m\u001b[32mRedactor\u001b[0m\n",
              "│       \u001b[37m    Status: \u001b[0m\u001b[1;32m✅ Completed\u001b[0m\n",
              "└── \u001b[1;33m📋 Task: e9470ae4-a4a4-4411-9a54-0d709b782877\u001b[0m\n",
              "    \u001b[37m   Status: \u001b[0m\u001b[2;33mExecuting Task...\u001b[0m\n",
              "    └── \u001b[1;32m🤖 Agent: \u001b[0m\u001b[32mEstilizador\u001b[0m\n",
              "        \u001b[37m    Status: \u001b[0m\u001b[1;32mIn Progress\u001b[0m\n"
            ]
          },
          "metadata": {},
          "output_type": "display_data"
        },
        {
          "data": {
            "text/html": [
              "<pre style=\"white-space:pre;overflow-x:auto;line-height:normal;font-family:Menlo,'DejaVu Sans Mono',consolas,'Courier New',monospace\">\n",
              "</pre>\n"
            ],
            "text/plain": [
              "\n"
            ]
          },
          "metadata": {},
          "output_type": "display_data"
        },
        {
          "name": "stdout",
          "output_type": "stream",
          "text": [
            "\n",
            "\n",
            "\u001b[1m\u001b[95m# Agent:\u001b[00m \u001b[1m\u001b[92mEstilizador\u001b[00m\n",
            "\u001b[95m## Final Answer:\u001b[00m \u001b[92m\n",
            "# Informe sobre Maternidad y Feminismo\n",
            "\n",
            "## 1. Frases que refuerzan o reproducen estereotipos o sesgos de género\n",
            "\n",
            "- **\"¿Quién iba, si no, a querer dedicar su tiempo a un asunto tan insignificante?\"**  \n",
            "  Justificación: Esta frase sugiere que la maternidad es un tema trivial y que solo se le puede dar importancia si se tiene una experiencia personal. Refuerza la idea de que las cuestiones de maternidad son menos relevantes en comparación con otros temas.\n",
            "\n",
            "- **\"la maternidad ha sido utilizada por el patriarcado como un instrumento de control del cuerpo de las mujeres\"**  \n",
            "  Justificación: Aunque la frase critica el uso patriarcal de la maternidad, también puede perpetuar la idea de que la maternidad es inherentemente negativa o problemática, lo que puede deslegitimar la experiencia positiva de ser madre.\n",
            "\n",
            "- **\"la maternidad patriarcal impuesta, ante ese modelo de feminidad abnegada cuyo fin último es ser madre\"**  \n",
            "  Justificación: Esta frase implica que ser madre es un objetivo impuesto por el patriarcado y que la feminidad está ligada a la abnegación, lo que puede reforzar estereotipos negativos sobre las mujeres que eligen ser madres.\n",
            "\n",
            "- **\"dar de mamar es una práctica profundamente feminista, e incluso diría que antineoliberal y anticapitalista\"**  \n",
            "  Justificación: Aunque se presenta como una afirmación positiva, puede implicar que las mujeres que no eligen amamantar están en contra del feminismo o son menos comprometidas con la causa, lo que puede ser un juicio de valor.\n",
            "\n",
            "- **\"la lactancia materna permite la autonomía de la mujer, porque no necesita gastar dinero\"**  \n",
            "  Justificación: Esta afirmación puede sugerir que las mujeres que no amamantan son menos autónomas o que dependen de opciones más costosas, lo que puede ser problemático y clasista.\n",
            "\n",
            "- **\"la violencia obstétrica es la última frontera de la violencia de género porque es una violencia aceptada\"**  \n",
            "  Justificación: Aunque se critica la violencia obstétrica, la frase puede dar la impresión de que el parto y la maternidad son inherentemente violentos, lo que puede deslegitimar experiencias positivas de parto.\n",
            "\n",
            "---\n",
            "\n",
            "## 2. Texto original anotado\n",
            "\n",
            "Dice Esther Vivas (Sabadell, 1975) que \"la literatura de la maternidad parte a menudo de la propia experiencia\". **¿Quién iba, si no, a querer dedicar su tiempo a un asunto tan insignificante?** El caso de esta periodista, que se había dedicado previamente al estudio del sistema agroalimentario y de los movimientos sociales, no es, dice, una excepción. A partir de su embarazo y de las primeras búsquedas de información sobre cómo se podría desarrollar el parto, comenzó a preguntarse por qué no le habían hablado de todo aquello. Por qué todo el mundo aceptaba esa violencia obstétrica. *Mamá desobediente* (editado por Capitán Swing en castellano y en catalán por Ara Llibres, bajo el título *Mama desobedient*) es el resultado de aquella primera \"indignación\", pero no se limita a ella. En el ensayo, que lleva por subtítulo *Una mirada feminista a la maternidad*, Vivas se ocupa primero de los mitos existentes en torno a ella, para centrarse luego en dos aspectos concretos de esta experiencia que generan un debate encendido: primero, la atención al parto; después, la lactancia.\n",
            "\n",
            "Y no es casualidad que cuestiones aparentemente privadas sobre si una mujer le da el pecho o no a su hijo generen polémica. La autora no solo defiende que la maternidad es un asunto público, imbricado en la economía y la política, sino que la sitúa en el centro del feminismo de clase y el anticapitalismo. Si no se la ha considerado así, defiende en el libro, es porque existen intereses para ello.\n",
            "\n",
            "### Preguntas y Respuestas\n",
            "\n",
            "**Pregunta:** ¿Por qué ser madre y feminista supone ser desobediente?  \n",
            "**Respuesta:** Ser madre implica desobedecer porque vivimos en un sistema que es hostil a la maternidad y a la crianza, y si eres feminista y de repente eres madre, esa maternidad te reafirma en tus valores feministas. **¿Qué sucede? Que en general el feminismo ha tenido una relación compleja con la maternidad, porque en la medida en que la maternidad ha sido utilizada por el patriarcado como un instrumento de control del cuerpo de las mujeres.**\n",
            "\n",
            "**Pregunta:** ¿Pensar la maternidad desde el feminismo supone repensar la idea que tenemos de la incorporación de la mujer al mundo laboral?  \n",
            "**Respuesta:** Sí. En general, desde un cierto feminismo, a la hora de plantear la igualdad en el mercado de trabajo, se ha señalado la maternidad, el cuidado y la crianza como una carga. Desde este punto de vista, ante la maternidad patriarcal impuesta, ante ese modelo de feminidad abnegada cuyo fin último es ser madre, **se ha planteado que la alternativa era supeditar la crianza al mercado y al empleo.** Es necesario cambiar la mirada, porque el problema no es la maternidad, sino el mercado, una sociedad que es hostil a unas prácticas que son fundamentales para la reproducción de la vida, como son gestar, parir, dar de mamar y cuidar.\n",
            "\n",
            "**Pregunta:** ¿Cómo afecta esto a la manera en que el movimiento feminista se ha planteado la narrativa en torno a la igualdad en el trabajo?  \n",
            "**Respuesta:** Aquí también hemos visto distintos discursos y estrategias. Por un lado hay un cierto feminismo liberal que básicamente reivindica la igualdad para un sector de mujeres de clase media blanca. En Estados Unidos vemos en el partido demócrata y que aquí vemos a medio camino entre el PSOE y Ciudadanos. Por eso creo que hay que reivindicar el feminismo del 99%, el que reclama la igualdad del conjunto de las mujeres y que señala que las desigualdades de género vienen también de las desigualdades de clase y de etnia, y que por eso es necesario acabar con las desigualdades socioeconómicas para conseguir una igualdad de género real.\n",
            "\n",
            "**Pregunta:** Por lo heredado de la Segunda Ola, existe esta idea de que liberarse de la maternidad obligatoria ha sido algo emancipatorio, y que por tanto poner la maternidad en el centro del feminismo sería negar esa conquista. **¿Cómo se resuelve este conflicto?**  \n",
            "**Respuesta:** Lo que es necesario no es acabar con la experiencia de la maternidad, sino con lo que la activista feminista Adrienne Rich, ya en los años setenta, llamaba “la institución de la maternidad”. Es fundamental que la nueva oleada feminista incorpore la reivindicación de poder vivir la experiencia materna libre de imposiciones. La cuestión no es negar la maternidad sino reivindicarla. Esto no implica dar la razón a posturas reaccionarias en relación a la maternidad, sino reivindicar la maternidad en clave emancipadora. Yo como mujer tengo derecho a decidir cómo quiero vivir mi embarazo, mi parto y mi lactancia: esto es feminismo, como también es feminismo decidir si quiero tener un hijo o no, si quiero abortar o no. Reivindicar una maternidad feminista va de la mano con reivindicar el pleno control sobre nuestro cuerpo como mujeres.\n",
            "\n",
            "**Pregunta:** Le dedica parte del libro al debate sobre las bajas de maternidad y paternidad, y señala que las nuevas bajas intransferibles quieren reforzar la igualdad entre hombres y mujeres pero en realidad ignoran la experiencia de la maternidad. **¿Qué posición cree que ha faltado en el debate?**  \n",
            "**Respuesta:** Se han obviado en gran medida las demandas de un sector del feminismo que reivindica una ampliación de los permisos de maternidad, porque en la actualidad el permiso de maternidad ni siquiera permite una lactancia materna en exclusiva hasta los seis meses, como recomiendan todas las instancias de salud. Y también es un debate que ha menospreciado el sentir de muchas madres. Hay varios estudios que señalan que cuando una mujer tiene un hijo, quiere estar con la criatura, y en cambio estos permisos iguales e intransferibles que se reivindican **siguen estigmatizando la experiencia materna y la consideran una carga.** Con esto no quiero decir que la maternidad sea tan solo una maternidad de las mujeres, es una responsabilidad de madres, de padres, de la sociedad en general, y que hay que darle el valor social, político y económico que realmente tiene.\n",
            "\n",
            "**Pregunta:** **¿En qué medida cree que estas bajas iguales e intransferibles contribuyen a estigmatizar la experiencia de la maternidad?**  \n",
            "**Respuesta:** Porque son unos permisos en los cuales básicamente se antepone el mercado y el empleo a la crianza. Porque si se considera, en relación al permiso de maternidad, que 16 semanas son suficientes para acompañar a la criatura después de nacer, son permisos que no tienen en cuenta esas necesidades de un bebé, que necesita estar con sus progenitores el máximo tiempo posible tras nacer, y que la fuente de alimento más beneficiosa es la leche materna.\n",
            "\n",
            "Este es un elemento del que no se acostumbra a hablar, pero que es una medida profundamente clasista. De los permisos actuales solo se benefician los progenitores que trabajan o han trabajado y cotizan, por lo que los sectores con menores recursos económicos no tienen acceso a ningún tipo de ayuda por maternidad o paternidad. Y en segundo lugar estos permisos iguales e intransferibles hacen que si tú como madre quieres estar más tiempo con tu criatura, quieres darle de mamar hasta los seis meses, solo aquellas mujeres con determinadas capacidades adquisitivas podrán hacerlo, porque solo ellas podrán tomarse una excedencia por su cuenta. **Es una idea clasista que convierte la crianza en un privilegio.**\n",
            "\n",
            "**Pregunta:** **¿Qué modelo, de los expuestos en el libro, considera más conveniente?**  \n",
            "**Respuesta:** Se tendrían que ampliar ambos permisos con un periodo de tiempo muy superior al actual, como de hecho hacen muchos países nórdicos, que dan un peso central a lo que es la ayuda a la maternidad y la crianza. Porque aquí cada año con los informes de la caída de la natalidad nos escandalizamos, pero no se hace absolutamente nada para revertirla. Apostaría por un modelo como los nórdicos, donde las bajas son más amplias que las que tenemos en el Estado español, y que pueden ser compartidas y una parte de ellas transferibles.\n",
            "\n",
            "**Pregunta:** **¿Por qué la lactancia tiene tanto espacio en el debate sobre la maternidad?**  \n",
            "**Respuesta:** El parto y la lactancia son dos partes esenciales en la crianza. Quería profundizar en el debate sobre la lactancia materna porque también en los feminismos hay un cierto debate sobre si se impone la teta o el biberón. Y me parecía interesante señalar e investigar cómo, a pesar de que cada vez se ha recuperado la lactancia materna —algo que es positivo, porque en los años setenta prácticamente desapareció—, aún el contexto social es adverso, contrariamente a lo que puede parecer en un primer momento.\n",
            "\n",
            "**Pregunta:** **En esa época se configura un discurso que asegura que el biberón da más libertad a las madres, y que además también facilita la incorporación al trabajo. ¿Cómo nos relacionamos hoy con estas dos ideas?**  \n",
            "**Respuesta:** Cuando yo reflexiono con una mirada crítica acerca de la lactancia artificial lo hago desde el punto de vista de los intereses económicos que hay detrás del negocio del biberón, no sobre lo que hace cada madre, porque por desgracia hacemos lo que buenamente podemos en nuestras circunstancias. Dicho esto, cuando se generalizó la lactancia artificial en los años setenta u ochenta, hay unos intereses empresariales claros. La generalización de la lactancia artificial supuso un negocio ingente para las empresas de la industria láctea y alimentaria, como Nestlé o Danone, de ahí que se promocionara como se hizo. Y lo que se hizo fue incidir en el personal sanitario para que este fuera proclive a promocionar la lactancia artificial en detrimento de la lactancia materna.\n",
            "\n",
            "Por otro lado, uno de los elementos que ha incomodado más al feminismo con respecto a la lactancia es el carácter biológico de la práctica, que es biosocial, hay un elemento cultural y otro biológico. Yo creo que desde el feminismo se trata de reconocer tanto el carácter biológico como cultural de la maternidad y de la lactancia, pero precisamente por esto, fruto de esta incomodidad, muchas veces se ha considerado que la maternidad era una práctica que encerraba a las madres en el hogar, que las alejaba del mercado de trabajo, y es necesario cambiar la mirada. Porque **dar de mamar es una práctica profundamente feminista,** e incluso diría que antineoliberal y anticapitalista. En la medida en que dar la teta no es solo lo mejor para la criatura (y hay determinadas circunstancias en las que dar el biberón es lo mejor), también es extremadamente beneficiosa para la mamá y en particular después del parto, por lo que implica de recuperación, de vínculo con la criatura. A la vez, la lactancia materna permite la autonomía de la mujer, porque no necesita gastar dinero, sabe lo que le da de comer, es kilómetro cero… Y si decía que dar la teta es antineoliberal es porque es una práctica que no beneficia al mercado, que necesita de unos tiempos y de un espacio que son contrarios a la lógica mercantil y productivista, y no tiene un impacto negativo en el medio ambiente.\n",
            "\n",
            "**Pregunta:** **Las madres que optan por dar el pecho también suelen hablar de que esto supone una desigualdad insalvable con el padre en la tarea de cuidados.**  \n",
            "**Respuesta:** **Dar el biberón per se no te hace más libre como mujer, ni es un mecanismo de igualdad.** Basta con ver a las madres que dan el biberón y crían en soledad. Tampoco la teta per se te hace más libre. El carácter biológico de la lactancia es innegable, pero esto no implica que el padre no pueda implicarse en muchas otras tareas. Los bebés no solo se despiertan por la noche porque quieren mamar, sino por muchas otras circunstancias. Criar en igualdad no tiene tanto que ver con cómo alimentamos a la criatura nada más nacer, sino con muchos otros elementos vinculados a la relación de pareja y con un entorno social que es hostil a la maternidad y a la crianza.\n",
            "\n",
            "**Pregunta:** **La tercera pata del libro aborda la violencia obstétrica, y habla de una evolución progresiva en los hospitales. ¿Cuál es el panorama general ahora mismo?**  \n",
            "**Respuesta:** Ha habido una serie de cambios muy significativos en relación a la atención al parto en el sistema hospitalario, que se han producido gracias y en parte a organizaciones de mujeres que han reivindicado un parto respetado. Sin *El parto es nuestro* no se entenderían los cambios en la atención sanitaria. Pero aún así, en la medida en que muchas de estas modificaciones que se han hecho a nivel gubernamental son de cumplimiento voluntario, aún existen muchas malas prácticas del personal sanitario, debido a que hay una serie de mitos y prejuicios en relación al nacimiento que acaban justificando estas prácticas. Y de hecho solo es necesario ver los porcentajes de cesáreas, de episiotomías, de partos instrumentales que se llevan a cabo, que son muy superiores de los que la Organización Mundial de la Salud considera razonables. Esto tiene un impacto físico y psíquico en las mujeres, y también en las criaturas.\n",
            "\n",
            "**Pregunta:** **Llama particularmente la atención las cifras de episiotomía, que indican que se dan en España en el 43% de los partos frente al tope del 15% que recomienda la OMS. ¿Hay una carga cultural en esto?**  \n",
            "**Respuesta:** Más que una carga cultural hay unas prácticas médicas que consideran que en la medida en que el parto es una enfermedad, la atención al parto se aborda desde este punto de vista y esto dificulta que el proceso del parto se dé de manera natural. Estas prácticas facilitan el trabajo médico, pero tienen consecuencias negativas. En el caso de la episiotomía, particularmente, por lo que implica de problemas de micción, en las relaciones sexuales, etcétera. Hoy, cuatro de cada 10 mujeres que dan a luz sufren una episiotomía: hemos mejorado, porque en el año 95 eran 9 de cada 10. En los países nórdicos es 1 de cada 10. No creo que el periné de las mujeres españolas sea distinto al periné de las mujeres suecas. Si esto se produce es porque hay detrás unas prácticas médicas que consideran que esto es correcto. Hay que cambiar la formación médica para darle una perspectiva feminista y de género.\n",
            "\n",
            "**Pregunta:** **En el libro se pregunta dónde están las comadronas, y también se plantea el problema de la formación. ¿Cómo se relacionan estos dos aspectos, qué se aprende en las universidades y quienes llegan a atender el parto?**  \n",
            "**Respuesta:** Decíamos que hay una visión por parte del personal sanitario patológica, que se ve como una enfermedad, y esta visión es compartida por la sociedad. Y en la medida en que la sociedad no reconoce el parto como un proceso fisiológico, es difícil conseguir que haya un parto respetado. Yo digo que la violencia obstétrica es la última frontera de la violencia de género porque es una violencia aceptada, por los profesionales, por las mujeres afectadas y por sus allegados. Se considera que el parto es eso. Y por eso pensamos siempre que el personal mejor preparado para atender al parto es un ginecólogo, cuando en los partos de bajo riesgo es la comadrona. Hay que reivindicar la figura de la comadrona en la atención al parto y su plena autonomía como profesionales de la salud.\n",
            "\n",
            "**Pregunta:** **¿Comadronas y madres son aliadas?**  \n",
            "**Respuesta:** Sí, por supuesto. Lo que señalan muchos estudios es que en la medida en que el parto es llevado por comadronas, el grado de satisfacción de las mujeres que dan a luz es superior. El problema es que hay una profunda relación jerárquica en el sistema hospitalario que tienes a menospreciarlas. A la vez hay una falta también de este personal en los hospitales, que va en detrimento de la calidad de la atención al parto. Que haya más comadronas revierte positivamente en la salud de las mujeres.\n",
            "\n",
            "El 85% de excedencias para el cuidado de hijos tramitadas hasta marzo de 2021 fueron solicitadas por las madres.\n",
            "\n",
            "**Pregunta:** **¿Cuál considera que debe ser el lugar desde el que se reclamen estas reivindicaciones alrededor de la maternidad?**  \n",
            "**Respuesta:** Por un lado, es necesario que el feminismo reivindique la maternidad y la experiencia materna al margen de las imposiciones del sistema. Creo que esta nueva ola feminista, este feminismo del 99%, incorpore la maternidad a sus demandas y que se normalice la relación entre feminismos y maternidad. No como algo idílico o romántico, sino como experiencia y dándole el valor sociopolítico y económico que tiene. Luego están los grupos de crianza, los grupos de apoyo a la lactancia materna, creo que es importante que se sumen a esta oleada feminista en auge y que apuesten por una maternidad transformadora a la hora de llevar a cabo sus reivindicaciones. Porque la maternidad no es una cuestión individual, es una cuestión política. Porque si queremos vivir una maternidad digna lo que tenemos que hacer es cambiar el entorno socioeconómico. Y este cambio radical del sistema solo puede hacerse con el apoyo de otros movimientos sociales.\u001b[00m\n",
            "\n",
            "\n"
          ]
        },
        {
          "data": {
            "text/html": [
              "<pre style=\"white-space:pre;overflow-x:auto;line-height:normal;font-family:Menlo,'DejaVu Sans Mono',consolas,'Courier New',monospace\"><span style=\"color: #008080; text-decoration-color: #008080; font-weight: bold\">🚀 Crew: crew</span>\n",
              "├── <span style=\"color: #008000; text-decoration-color: #008000; font-weight: bold\">📋 Task: 80b79f84-ca10-4423-afd1-3ff10c449918</span>\n",
              "│   <span style=\"color: #c0c0c0; text-decoration-color: #c0c0c0\">   Assigned to: </span><span style=\"color: #008000; text-decoration-color: #008000\">Perfilador (periodista, mujer, progresista)</span>\n",
              "│   <span style=\"color: #c0c0c0; text-decoration-color: #c0c0c0\">   Status: </span><span style=\"color: #008000; text-decoration-color: #008000; font-weight: bold\">✅ Completed</span>\n",
              "│   └── <span style=\"color: #008000; text-decoration-color: #008000; font-weight: bold\">🤖 Agent: </span><span style=\"color: #008000; text-decoration-color: #008000\">Perfilador (periodista, mujer, progresista)</span>\n",
              "│       <span style=\"color: #c0c0c0; text-decoration-color: #c0c0c0\">    Status: </span><span style=\"color: #008000; text-decoration-color: #008000; font-weight: bold\">✅ Completed</span>\n",
              "├── <span style=\"color: #008000; text-decoration-color: #008000; font-weight: bold\">📋 Task: d54a7dbc-37b9-497b-a1bb-acaaf3c2269d</span>\n",
              "│   <span style=\"color: #c0c0c0; text-decoration-color: #c0c0c0\">   Assigned to: </span><span style=\"color: #008000; text-decoration-color: #008000\">Analista</span>\n",
              "│   <span style=\"color: #c0c0c0; text-decoration-color: #c0c0c0\">   Status: </span><span style=\"color: #008000; text-decoration-color: #008000; font-weight: bold\">✅ Completed</span>\n",
              "│   └── <span style=\"color: #008000; text-decoration-color: #008000; font-weight: bold\">🤖 Agent: </span><span style=\"color: #008000; text-decoration-color: #008000\">Analista</span>\n",
              "│       <span style=\"color: #c0c0c0; text-decoration-color: #c0c0c0\">    Status: </span><span style=\"color: #008000; text-decoration-color: #008000; font-weight: bold\">✅ Completed</span>\n",
              "├── <span style=\"color: #008000; text-decoration-color: #008000; font-weight: bold\">📋 Task: b951fad6-5cdd-401b-b93b-d278f52cac96</span>\n",
              "│   <span style=\"color: #c0c0c0; text-decoration-color: #c0c0c0\">   Assigned to: </span><span style=\"color: #008000; text-decoration-color: #008000\">Redactor</span>\n",
              "│   <span style=\"color: #c0c0c0; text-decoration-color: #c0c0c0\">   Status: </span><span style=\"color: #008000; text-decoration-color: #008000; font-weight: bold\">✅ Completed</span>\n",
              "│   └── <span style=\"color: #008000; text-decoration-color: #008000; font-weight: bold\">🤖 Agent: </span><span style=\"color: #008000; text-decoration-color: #008000\">Redactor</span>\n",
              "│       <span style=\"color: #c0c0c0; text-decoration-color: #c0c0c0\">    Status: </span><span style=\"color: #008000; text-decoration-color: #008000; font-weight: bold\">✅ Completed</span>\n",
              "└── <span style=\"color: #808000; text-decoration-color: #808000; font-weight: bold\">📋 Task: e9470ae4-a4a4-4411-9a54-0d709b782877</span>\n",
              "    <span style=\"color: #c0c0c0; text-decoration-color: #c0c0c0\">   Status: </span><span style=\"color: #bfbf7f; text-decoration-color: #bfbf7f\">Executing Task...</span>\n",
              "    └── <span style=\"color: #008000; text-decoration-color: #008000; font-weight: bold\">🤖 Agent: </span><span style=\"color: #008000; text-decoration-color: #008000\">Estilizador</span>\n",
              "        <span style=\"color: #c0c0c0; text-decoration-color: #c0c0c0\">    Status: </span><span style=\"color: #008000; text-decoration-color: #008000; font-weight: bold\">✅ Completed</span>\n",
              "</pre>\n"
            ],
            "text/plain": [
              "\u001b[1;36m🚀 Crew: \u001b[0m\u001b[1;36mcrew\u001b[0m\n",
              "├── \u001b[1;32m📋 Task: 80b79f84-ca10-4423-afd1-3ff10c449918\u001b[0m\n",
              "│   \u001b[37m   Assigned to: \u001b[0m\u001b[32mPerfilador (periodista, mujer, progresista)\u001b[0m\n",
              "│   \u001b[37m   Status: \u001b[0m\u001b[1;32m✅ Completed\u001b[0m\n",
              "│   └── \u001b[1;32m🤖 Agent: \u001b[0m\u001b[32mPerfilador (periodista, mujer, progresista)\u001b[0m\n",
              "│       \u001b[37m    Status: \u001b[0m\u001b[1;32m✅ Completed\u001b[0m\n",
              "├── \u001b[1;32m📋 Task: d54a7dbc-37b9-497b-a1bb-acaaf3c2269d\u001b[0m\n",
              "│   \u001b[37m   Assigned to: \u001b[0m\u001b[32mAnalista\u001b[0m\n",
              "│   \u001b[37m   Status: \u001b[0m\u001b[1;32m✅ Completed\u001b[0m\n",
              "│   └── \u001b[1;32m🤖 Agent: \u001b[0m\u001b[32mAnalista\u001b[0m\n",
              "│       \u001b[37m    Status: \u001b[0m\u001b[1;32m✅ Completed\u001b[0m\n",
              "├── \u001b[1;32m📋 Task: b951fad6-5cdd-401b-b93b-d278f52cac96\u001b[0m\n",
              "│   \u001b[37m   Assigned to: \u001b[0m\u001b[32mRedactor\u001b[0m\n",
              "│   \u001b[37m   Status: \u001b[0m\u001b[1;32m✅ Completed\u001b[0m\n",
              "│   └── \u001b[1;32m🤖 Agent: \u001b[0m\u001b[32mRedactor\u001b[0m\n",
              "│       \u001b[37m    Status: \u001b[0m\u001b[1;32m✅ Completed\u001b[0m\n",
              "└── \u001b[1;33m📋 Task: e9470ae4-a4a4-4411-9a54-0d709b782877\u001b[0m\n",
              "    \u001b[37m   Status: \u001b[0m\u001b[2;33mExecuting Task...\u001b[0m\n",
              "    └── \u001b[1;32m🤖 Agent: \u001b[0m\u001b[32mEstilizador\u001b[0m\n",
              "        \u001b[37m    Status: \u001b[0m\u001b[1;32m✅ Completed\u001b[0m\n"
            ]
          },
          "metadata": {},
          "output_type": "display_data"
        },
        {
          "data": {
            "text/html": [
              "<pre style=\"white-space:pre;overflow-x:auto;line-height:normal;font-family:Menlo,'DejaVu Sans Mono',consolas,'Courier New',monospace\">\n",
              "</pre>\n"
            ],
            "text/plain": [
              "\n"
            ]
          },
          "metadata": {},
          "output_type": "display_data"
        },
        {
          "data": {
            "text/html": [
              "<pre style=\"white-space:pre;overflow-x:auto;line-height:normal;font-family:Menlo,'DejaVu Sans Mono',consolas,'Courier New',monospace\"><span style=\"color: #008080; text-decoration-color: #008080; font-weight: bold\">🚀 Crew: crew</span>\n",
              "├── <span style=\"color: #008000; text-decoration-color: #008000; font-weight: bold\">📋 Task: 80b79f84-ca10-4423-afd1-3ff10c449918</span>\n",
              "│   <span style=\"color: #c0c0c0; text-decoration-color: #c0c0c0\">   Assigned to: </span><span style=\"color: #008000; text-decoration-color: #008000\">Perfilador (periodista, mujer, progresista)</span>\n",
              "│   <span style=\"color: #c0c0c0; text-decoration-color: #c0c0c0\">   Status: </span><span style=\"color: #008000; text-decoration-color: #008000; font-weight: bold\">✅ Completed</span>\n",
              "│   └── <span style=\"color: #008000; text-decoration-color: #008000; font-weight: bold\">🤖 Agent: </span><span style=\"color: #008000; text-decoration-color: #008000\">Perfilador (periodista, mujer, progresista)</span>\n",
              "│       <span style=\"color: #c0c0c0; text-decoration-color: #c0c0c0\">    Status: </span><span style=\"color: #008000; text-decoration-color: #008000; font-weight: bold\">✅ Completed</span>\n",
              "├── <span style=\"color: #008000; text-decoration-color: #008000; font-weight: bold\">📋 Task: d54a7dbc-37b9-497b-a1bb-acaaf3c2269d</span>\n",
              "│   <span style=\"color: #c0c0c0; text-decoration-color: #c0c0c0\">   Assigned to: </span><span style=\"color: #008000; text-decoration-color: #008000\">Analista</span>\n",
              "│   <span style=\"color: #c0c0c0; text-decoration-color: #c0c0c0\">   Status: </span><span style=\"color: #008000; text-decoration-color: #008000; font-weight: bold\">✅ Completed</span>\n",
              "│   └── <span style=\"color: #008000; text-decoration-color: #008000; font-weight: bold\">🤖 Agent: </span><span style=\"color: #008000; text-decoration-color: #008000\">Analista</span>\n",
              "│       <span style=\"color: #c0c0c0; text-decoration-color: #c0c0c0\">    Status: </span><span style=\"color: #008000; text-decoration-color: #008000; font-weight: bold\">✅ Completed</span>\n",
              "├── <span style=\"color: #008000; text-decoration-color: #008000; font-weight: bold\">📋 Task: b951fad6-5cdd-401b-b93b-d278f52cac96</span>\n",
              "│   <span style=\"color: #c0c0c0; text-decoration-color: #c0c0c0\">   Assigned to: </span><span style=\"color: #008000; text-decoration-color: #008000\">Redactor</span>\n",
              "│   <span style=\"color: #c0c0c0; text-decoration-color: #c0c0c0\">   Status: </span><span style=\"color: #008000; text-decoration-color: #008000; font-weight: bold\">✅ Completed</span>\n",
              "│   └── <span style=\"color: #008000; text-decoration-color: #008000; font-weight: bold\">🤖 Agent: </span><span style=\"color: #008000; text-decoration-color: #008000\">Redactor</span>\n",
              "│       <span style=\"color: #c0c0c0; text-decoration-color: #c0c0c0\">    Status: </span><span style=\"color: #008000; text-decoration-color: #008000; font-weight: bold\">✅ Completed</span>\n",
              "└── <span style=\"color: #008000; text-decoration-color: #008000; font-weight: bold\">📋 Task: e9470ae4-a4a4-4411-9a54-0d709b782877</span>\n",
              "    <span style=\"color: #c0c0c0; text-decoration-color: #c0c0c0\">   Assigned to: </span><span style=\"color: #008000; text-decoration-color: #008000\">Estilizador</span>\n",
              "    <span style=\"color: #c0c0c0; text-decoration-color: #c0c0c0\">   Status: </span><span style=\"color: #008000; text-decoration-color: #008000; font-weight: bold\">✅ Completed</span>\n",
              "    └── <span style=\"color: #008000; text-decoration-color: #008000; font-weight: bold\">🤖 Agent: </span><span style=\"color: #008000; text-decoration-color: #008000\">Estilizador</span>\n",
              "        <span style=\"color: #c0c0c0; text-decoration-color: #c0c0c0\">    Status: </span><span style=\"color: #008000; text-decoration-color: #008000; font-weight: bold\">✅ Completed</span>\n",
              "</pre>\n"
            ],
            "text/plain": [
              "\u001b[1;36m🚀 Crew: \u001b[0m\u001b[1;36mcrew\u001b[0m\n",
              "├── \u001b[1;32m📋 Task: 80b79f84-ca10-4423-afd1-3ff10c449918\u001b[0m\n",
              "│   \u001b[37m   Assigned to: \u001b[0m\u001b[32mPerfilador (periodista, mujer, progresista)\u001b[0m\n",
              "│   \u001b[37m   Status: \u001b[0m\u001b[1;32m✅ Completed\u001b[0m\n",
              "│   └── \u001b[1;32m🤖 Agent: \u001b[0m\u001b[32mPerfilador (periodista, mujer, progresista)\u001b[0m\n",
              "│       \u001b[37m    Status: \u001b[0m\u001b[1;32m✅ Completed\u001b[0m\n",
              "├── \u001b[1;32m📋 Task: d54a7dbc-37b9-497b-a1bb-acaaf3c2269d\u001b[0m\n",
              "│   \u001b[37m   Assigned to: \u001b[0m\u001b[32mAnalista\u001b[0m\n",
              "│   \u001b[37m   Status: \u001b[0m\u001b[1;32m✅ Completed\u001b[0m\n",
              "│   └── \u001b[1;32m🤖 Agent: \u001b[0m\u001b[32mAnalista\u001b[0m\n",
              "│       \u001b[37m    Status: \u001b[0m\u001b[1;32m✅ Completed\u001b[0m\n",
              "├── \u001b[1;32m📋 Task: b951fad6-5cdd-401b-b93b-d278f52cac96\u001b[0m\n",
              "│   \u001b[37m   Assigned to: \u001b[0m\u001b[32mRedactor\u001b[0m\n",
              "│   \u001b[37m   Status: \u001b[0m\u001b[1;32m✅ Completed\u001b[0m\n",
              "│   └── \u001b[1;32m🤖 Agent: \u001b[0m\u001b[32mRedactor\u001b[0m\n",
              "│       \u001b[37m    Status: \u001b[0m\u001b[1;32m✅ Completed\u001b[0m\n",
              "└── \u001b[1;32m📋 Task: e9470ae4-a4a4-4411-9a54-0d709b782877\u001b[0m\n",
              "    \u001b[37m   Assigned to: \u001b[0m\u001b[32mEstilizador\u001b[0m\n",
              "    \u001b[37m   Status: \u001b[0m\u001b[1;32m✅ Completed\u001b[0m\n",
              "    └── \u001b[1;32m🤖 Agent: \u001b[0m\u001b[32mEstilizador\u001b[0m\n",
              "        \u001b[37m    Status: \u001b[0m\u001b[1;32m✅ Completed\u001b[0m\n"
            ]
          },
          "metadata": {},
          "output_type": "display_data"
        },
        {
          "data": {
            "text/html": [
              "<pre style=\"white-space:pre;overflow-x:auto;line-height:normal;font-family:Menlo,'DejaVu Sans Mono',consolas,'Courier New',monospace\"><span style=\"color: #008000; text-decoration-color: #008000\">╭──────────────────────────────────────────────── Task Completion ────────────────────────────────────────────────╮</span>\n",
              "<span style=\"color: #008000; text-decoration-color: #008000\">│</span>                                                                                                                 <span style=\"color: #008000; text-decoration-color: #008000\">│</span>\n",
              "<span style=\"color: #008000; text-decoration-color: #008000\">│</span>  <span style=\"color: #008000; text-decoration-color: #008000; font-weight: bold\">Task Completed</span>                                                                                                 <span style=\"color: #008000; text-decoration-color: #008000\">│</span>\n",
              "<span style=\"color: #008000; text-decoration-color: #008000\">│</span>  <span style=\"color: #c0c0c0; text-decoration-color: #c0c0c0\">Name: </span><span style=\"color: #008000; text-decoration-color: #008000\">e9470ae4-a4a4-4411-9a54-0d709b782877</span>                                                                     <span style=\"color: #008000; text-decoration-color: #008000\">│</span>\n",
              "<span style=\"color: #008000; text-decoration-color: #008000\">│</span>  <span style=\"color: #c0c0c0; text-decoration-color: #c0c0c0\">Agent: </span><span style=\"color: #008000; text-decoration-color: #008000\">Estilizador</span>                                                                                             <span style=\"color: #008000; text-decoration-color: #008000\">│</span>\n",
              "<span style=\"color: #008000; text-decoration-color: #008000\">│</span>                                                                                                                 <span style=\"color: #008000; text-decoration-color: #008000\">│</span>\n",
              "<span style=\"color: #008000; text-decoration-color: #008000\">│</span>                                                                                                                 <span style=\"color: #008000; text-decoration-color: #008000\">│</span>\n",
              "<span style=\"color: #008000; text-decoration-color: #008000\">╰─────────────────────────────────────────────────────────────────────────────────────────────────────────────────╯</span>\n",
              "</pre>\n"
            ],
            "text/plain": [
              "\u001b[32m╭─\u001b[0m\u001b[32m───────────────────────────────────────────────\u001b[0m\u001b[32m Task Completion \u001b[0m\u001b[32m───────────────────────────────────────────────\u001b[0m\u001b[32m─╮\u001b[0m\n",
              "\u001b[32m│\u001b[0m                                                                                                                 \u001b[32m│\u001b[0m\n",
              "\u001b[32m│\u001b[0m  \u001b[1;32mTask Completed\u001b[0m                                                                                                 \u001b[32m│\u001b[0m\n",
              "\u001b[32m│\u001b[0m  \u001b[37mName: \u001b[0m\u001b[32me9470ae4-a4a4-4411-9a54-0d709b782877\u001b[0m                                                                     \u001b[32m│\u001b[0m\n",
              "\u001b[32m│\u001b[0m  \u001b[37mAgent: \u001b[0m\u001b[32mEstilizador\u001b[0m                                                                                             \u001b[32m│\u001b[0m\n",
              "\u001b[32m│\u001b[0m                                                                                                                 \u001b[32m│\u001b[0m\n",
              "\u001b[32m│\u001b[0m                                                                                                                 \u001b[32m│\u001b[0m\n",
              "\u001b[32m╰─────────────────────────────────────────────────────────────────────────────────────────────────────────────────╯\u001b[0m\n"
            ]
          },
          "metadata": {},
          "output_type": "display_data"
        },
        {
          "data": {
            "text/html": [
              "<pre style=\"white-space:pre;overflow-x:auto;line-height:normal;font-family:Menlo,'DejaVu Sans Mono',consolas,'Courier New',monospace\">\n",
              "</pre>\n"
            ],
            "text/plain": [
              "\n"
            ]
          },
          "metadata": {},
          "output_type": "display_data"
        },
        {
          "data": {
            "text/html": [
              "<pre style=\"white-space:pre;overflow-x:auto;line-height:normal;font-family:Menlo,'DejaVu Sans Mono',consolas,'Courier New',monospace\"><span style=\"color: #008000; text-decoration-color: #008000\">╭──────────────────────────────────────────────── Crew Completion ────────────────────────────────────────────────╮</span>\n",
              "<span style=\"color: #008000; text-decoration-color: #008000\">│</span>                                                                                                                 <span style=\"color: #008000; text-decoration-color: #008000\">│</span>\n",
              "<span style=\"color: #008000; text-decoration-color: #008000\">│</span>  <span style=\"color: #008000; text-decoration-color: #008000; font-weight: bold\">Crew Execution Completed</span>                                                                                       <span style=\"color: #008000; text-decoration-color: #008000\">│</span>\n",
              "<span style=\"color: #008000; text-decoration-color: #008000\">│</span>  <span style=\"color: #c0c0c0; text-decoration-color: #c0c0c0\">Name: </span><span style=\"color: #008000; text-decoration-color: #008000\">crew</span>                                                                                                     <span style=\"color: #008000; text-decoration-color: #008000\">│</span>\n",
              "<span style=\"color: #008000; text-decoration-color: #008000\">│</span>  <span style=\"color: #c0c0c0; text-decoration-color: #c0c0c0\">ID: </span><span style=\"color: #008000; text-decoration-color: #008000\">2d9b064a-ba6c-499d-a6d5-3aad46d6a254</span>                                                                       <span style=\"color: #008000; text-decoration-color: #008000\">│</span>\n",
              "<span style=\"color: #008000; text-decoration-color: #008000\">│</span>                                                                                                                 <span style=\"color: #008000; text-decoration-color: #008000\">│</span>\n",
              "<span style=\"color: #008000; text-decoration-color: #008000\">│</span>                                                                                                                 <span style=\"color: #008000; text-decoration-color: #008000\">│</span>\n",
              "<span style=\"color: #008000; text-decoration-color: #008000\">╰─────────────────────────────────────────────────────────────────────────────────────────────────────────────────╯</span>\n",
              "</pre>\n"
            ],
            "text/plain": [
              "\u001b[32m╭─\u001b[0m\u001b[32m───────────────────────────────────────────────\u001b[0m\u001b[32m Crew Completion \u001b[0m\u001b[32m───────────────────────────────────────────────\u001b[0m\u001b[32m─╮\u001b[0m\n",
              "\u001b[32m│\u001b[0m                                                                                                                 \u001b[32m│\u001b[0m\n",
              "\u001b[32m│\u001b[0m  \u001b[1;32mCrew Execution Completed\u001b[0m                                                                                       \u001b[32m│\u001b[0m\n",
              "\u001b[32m│\u001b[0m  \u001b[37mName: \u001b[0m\u001b[32mcrew\u001b[0m                                                                                                     \u001b[32m│\u001b[0m\n",
              "\u001b[32m│\u001b[0m  \u001b[37mID: \u001b[0m\u001b[32m2d9b064a-ba6c-499d-a6d5-3aad46d6a254\u001b[0m                                                                       \u001b[32m│\u001b[0m\n",
              "\u001b[32m│\u001b[0m                                                                                                                 \u001b[32m│\u001b[0m\n",
              "\u001b[32m│\u001b[0m                                                                                                                 \u001b[32m│\u001b[0m\n",
              "\u001b[32m╰─────────────────────────────────────────────────────────────────────────────────────────────────────────────────╯\u001b[0m\n"
            ]
          },
          "metadata": {},
          "output_type": "display_data"
        },
        {
          "data": {
            "text/html": [
              "<pre style=\"white-space:pre;overflow-x:auto;line-height:normal;font-family:Menlo,'DejaVu Sans Mono',consolas,'Courier New',monospace\">\n",
              "</pre>\n"
            ],
            "text/plain": [
              "\n"
            ]
          },
          "metadata": {},
          "output_type": "display_data"
        }
      ],
      "source": [
        "resultado = crew.kickoff()"
      ]
    },
    {
      "cell_type": "code",
      "execution_count": 68,
      "metadata": {},
      "outputs": [
        {
          "data": {
            "text/markdown": [
              "Perfil del agente que ha realizado el análisis:  \n",
              "Profesión: periodista  \n",
              "Género: mujer  \n",
              "Ideología política: progresista"
            ],
            "text/plain": [
              "<IPython.core.display.Markdown object>"
            ]
          },
          "metadata": {},
          "output_type": "display_data"
        }
      ],
      "source": [
        "perfilador_output = resultado.tasks_output[0].raw\n",
        "display(Markdown(perfilador_output))"
      ]
    },
    {
      "cell_type": "code",
      "execution_count": 69,
      "metadata": {},
      "outputs": [
        {
          "data": {
            "text/markdown": [
              "1. **Frases que refuerzan o reproducen estereotipos o sesgos de género:**\n",
              "\n",
              "   - **\"¿Quién iba, si no, a querer dedicar su tiempo a un asunto tan insignificante?\"**  \n",
              "     Justificación: Esta frase sugiere que la maternidad es un tema trivial y que solo se le puede dar importancia si se tiene una experiencia personal. Refuerza la idea de que las cuestiones de maternidad son menos relevantes en comparación con otros temas.\n",
              "\n",
              "   - **\"la maternidad ha sido utilizada por el patriarcado como un instrumento de control del cuerpo de las mujeres\"**  \n",
              "     Justificación: Aunque la frase critica el uso patriarcal de la maternidad, también puede perpetuar la idea de que la maternidad es inherentemente negativa o problemática, lo que puede deslegitimar la experiencia positiva de ser madre.\n",
              "\n",
              "   - **\"la maternidad patriarcal impuesta, ante ese modelo de feminidad abnegada cuyo fin último es ser madre\"**  \n",
              "     Justificación: Esta frase implica que ser madre es un objetivo impuesto por el patriarcado y que la feminidad está ligada a la abnegación, lo que puede reforzar estereotipos negativos sobre las mujeres que eligen ser madres.\n",
              "\n",
              "   - **\"dar de mamar es una práctica profundamente feminista, e incluso diría que antineoliberal y anticapitalista\"**  \n",
              "     Justificación: Aunque se presenta como una afirmación positiva, puede implicar que las mujeres que no eligen amamantar están en contra del feminismo o son menos comprometidas con la causa, lo que puede ser un juicio de valor.\n",
              "\n",
              "   - **\"la lactancia materna permite la autonomía de la mujer, porque no necesita gastar dinero\"**  \n",
              "     Justificación: Esta afirmación puede sugerir que las mujeres que no amamantan son menos autónomas o que dependen de opciones más costosas, lo que puede ser problemático y clasista.\n",
              "\n",
              "   - **\"la violencia obstétrica es la última frontera de la violencia de género porque es una violencia aceptada\"**  \n",
              "     Justificación: Aunque se critica la violencia obstétrica, la frase puede dar la impresión de que el parto y la maternidad son inherentemente violentos, lo que puede deslegitimar experiencias positivas de parto.\n",
              "\n",
              "2. **Texto original anotado:**\n",
              "\n",
              "   Dice Esther Vivas (Sabadell, 1975) que \"la literatura de la maternidad parte a menudo de la propia experiencia\". <span style=\"color: red; font-weight: bold;\">¿Quién iba, si no, a querer dedicar su tiempo a un asunto tan insignificante?</span> El caso de esta periodista, que se había dedicado previamente al estudio del sistema agroalimentario y de los movimientos sociales, no es, dice, una excepción. A partir de su embarazo y de las primeras búsquedas de información sobre cómo se podría desarrollar el parto, comenzó a preguntarse por qué no le habían hablado de todo aquello. Por qué todo el mundo aceptaba esa violencia obstétrica. Mamá desobediente (editado por Capitán Swing en castellano y en catalán por Ara Llibres, bajo el título Mama desobedient) es el resultado de aquella primera \"indignación\", pero no se limita a ella. En el ensayo, que lleva por subtítulo Una mirada feminista a la maternidad, Vivas se ocupa primero de los mitos existentes en torno a ella, para centrarse luego en dos aspectos concretos de esta experiencia que generan un debate encendido: primero, la atención al parto; después, la lactancia.\n",
              "\n",
              "Y no es casualidad que cuestiones aparentemente privadas sobre si una mujer le da el pecho o no a su hijo generen polémica. La autora no solo defiende que la maternidad es un asunto público, imbricado en la economía y la política, sino que la sitúa en el centro del feminismo de clase y el anticapitalismo. Si no se la ha considerado así, defiende en el libro, es porque existen intereses para ello.\n",
              "\n",
              "Pregunta. <span style=\"color: red; font-weight: bold;\">¿Por qué ser madre y feminista supone ser desobediente?</span> <span style=\"color: red; font-weight: bold;\">¿Desobediente con respecto al sistema neoliberal o con respecto a cierto feminismo?</span>\n",
              "\n",
              "Respuesta. Ser madre implica desobedecer porque vivimos en un sistema que es hostil a la maternidad y a la crianza, y si eres feminista y de repente eres madre, esa maternidad te reafirma en tus valores feministas. <span style=\"color: red; font-weight: bold;\">¿Qué sucede? Que en general el feminismo ha tenido una relación compleja con la maternidad, porque en la medida en que la maternidad ha sido utilizada por el patriarcado como un instrumento de control del cuerpo de las mujeres,</span> cuando el feminismo se rebeló contra esta imposición, en los años sesenta o setenta, en la Segunda Ola, se creó un discurso antipaternal y antirreproductivo, y no se abordaron las contradicciones que implica la maternidad. Por eso creo que desde el feminismo es necesario reivindicar la experiencia materna, no en clave romántica sino en clave de experiencia que tenemos que poder vivir como mujeres, al margen de las imposiciones y restricciones del sistema.\n",
              "\n",
              "P. <span style=\"color: red; font-weight: bold;\">¿Pensar la maternidad desde el feminismo supone repensar la idea que tenemos de la incorporación de la mujer al mundo laboral?</span>\n",
              "\n",
              "R. Sí. En general, desde un cierto feminismo, a la hora de plantear la igualdad en el mercado de trabajo, se ha señalado la maternidad, el cuidado y la crianza como una carga. Desde este punto de vista, ante la maternidad patriarcal impuesta, ante ese modelo de feminidad abnegada cuyo fin último es ser madre, <span style=\"color: red; font-weight: bold;\">se ha planteado que la alternativa era supeditar la crianza al mercado y al empleo.</span> Es necesario cambiar la mirada, porque el problema no es la maternidad, sino el mercado, una sociedad que es hostil a unas prácticas que son fundamentales para la reproducción de la vida, como son gestar, parir, dar de mamar y cuidar.\n",
              "\n",
              "P. <span style=\"color: red; font-weight: bold;\">¿Cómo afecta esto a la manera en que el movimiento feminista se ha planteado la narrativa en torno a la igualdad en el trabajo?</span>\n",
              "\n",
              "R. Aquí también hemos vistos distintos discursos y estrategias. Por un lado hay un cierto feminismo liberal que básicamente reivindica la igualdad para un sector de mujeres de clase media blanca. En Estados Unidos vemos en el partido demócrata y que aquí vemos a medio camino entre el PSOE y Ciudadanos. Por eso creo que hay que reivindicar el feminismo del 99%, el que reclama la igualdad del conjunto de las mujeres y que señala que las desigualdades de género vienen también de la desigualdades de clase y de etnia, y que por eso es necesario acabar con las desigualdades socioeconómicas para conseguir una igualdad de género real.\n",
              "\n",
              "P. <span style=\"color: red; font-weight: bold;\">Por lo heredado de la Segunda Ola, existe esta idea de que liberarse de la maternidad obligatoria ha sido algo emancipatorio, y que por tanto poner la maternidad en el centro del feminismo sería negar esa conquista.</span> <span style=\"color: red; font-weight: bold;\">¿Cómo se resuelve este conflicto?</span>\n",
              "\n",
              "R. Lo que es necesario no es acabar con la experiencia de la maternidad, sino con lo que la activista feminista Adrienne Rich, ya en los años setenta, llamaba “la institución de la maternidad”. Es fundamental que la nueva oleada feminista incorpore la reivindicación de poder vivir la experiencia materna libre de imposiciones. La cuestión no es negar la maternidad sino reivindicarla. Esto no implica dar la razón a posturas reaccionarias en relación a la maternidad, sino reivindicar la maternidad en clave emancipadora. Yo como mujer tengo derecho a decidir cómo quiero vivir mi embarazo, mi parto y mi lactancia: esto es feminismo, como también es feminismo decidir si quiero tener un hijo o no, si quiero abortar o no. Reivindicar una maternidad feminista va de la mano con reivindicar el pleno control sobre nuestro cuerpo como mujeres.\n",
              "\n",
              "P. Le dedica parte del libro al debate sobre las bajas de maternidad y paternidad, y señala que las nuevas bajas intransferibles quieren reforzar la igualdad entre hombres y mujeres pero en realidad ignora la experiencia de la maternidad. <span style=\"color: red; font-weight: bold;\">¿Qué posición cree que ha faltado en el debate?</span>\n",
              "\n",
              "R. Se han obviado en gran medida las demandas de un sector del feminismo que reivindica una ampliación de los permisos de maternidad, porque en la actualidad el permiso de maternidad ni siquiera permite una lactancia materna en exclusiva hasta los seis meses, como recomiendan todas las instancias de salud. Y también es un debate que ha menospreciado el sentir de muchas madres. Hay varios estudios que señalan que cuando una mujer tiene un hijo, quiere estar con la criatura, y en cambio estos permisos iguales e intransferibles que se reivindican <span style=\"color: red; font-weight: bold;\">siguen estigmatizando la experiencia materna y la consideran una carga.</span> Con esto no quiero decir que la maternidad sea tan solo una maternidad de las mujeres, es una responsabilidad de madres, de padres, de la sociedad en general, y que hay que darle el valor social, político y económico que realmente tiene.\n",
              "\n",
              "Por otro lado, es positivo plantear una ampliación del permiso de paternidad, pero hay que tener en cuenta que si este finalmente se amplía hasta las ocho semanas el año que viene, en tan solo tres años el permiso de paternidad habrá aumentado un 300%, pasando de una semana en 2015 a ocho semana en el 2019. Cuando el permiso de maternidad en treinta años, desde el 89, no se ha movido una coma, y es extremadamente corto. No se puede ampliar el permiso de paternidad sin reivindicar un aumento del de maternidad. Esto se dice que se hace en nombre de la igualdad, pero creo que no podemos atribuir la desigualdad en el mercado de trabajo solo a la experiencia materna, porque van mucho más allá.\n",
              "\n",
              "P. <span style=\"color: red; font-weight: bold;\">¿En qué medida cree que estas bajas iguales e intransferibles contribuyen a estigmatizar la experiencia de la maternidad?</span>\n",
              "\n",
              "R. Porque son unos permisos en los cuales básicamente se antepone el mercado y el empleo a la crianza. Porque si se considera, en relación al permiso de maternidad, que 16 semanas son suficientes para acompañar a la criatura después de nacer, son permisos que no tienen en cuenta esas necesidades de un bebé, que necesita estar con sus progenitores el máximo tiempo posible tras nacer, y que la fuente de alimento más beneficiosa es la leche materna.\n",
              "\n",
              "Este es un elemento del que no se acostumbra a hablar, pero que es una medida profundamente clasista. De los permisos actuales solo se benefician los progenitores que trabajan o han trabajado y cotizan, por lo que los sectores con menores recursos económicos no tienen acceso a ningún tipo de ayuda por maternidad o paternidad. Y en segundo lugar estos permisos iguales e intransferibles hacen que si tú como madre quieres estar más tiempo con tu criatura, quieres darle de mamar hasta los seis meses, solo aquellas mujeres con determinadas capacidades adquisitivas podrán hacerlo, porque solo ellas podrán tomarse una excedencia por su cuenta. <span style=\"color: red; font-weight: bold;\">Es una idea clasista que convierte la crianza en un privilegio.</span>\n",
              "\n",
              "P. <span style=\"color: red; font-weight: bold;\">¿Qué modelo, de los expuestos en el libro, considera más conveniente?</span>\n",
              "\n",
              "R. Se tendrían que ampliar ambos permisos con un periodo de tiempo muy superior al actual, como de hecho hacen muchos países nórdicos, que dan un peso central a lo que es la ayuda a la maternidad y la crianza. Porque aquí cada año con los informes de la caída de la natalidad nos escandalizamos, pero no se hace absolutamente nada para revertirla. Apostaría por un modelo como los nórdicos, donde las bajas son más amplias que las que tenemos en el Estado español, y que pueden ser compartidas y una parte de ellas transferibles.\n",
              "\n",
              "P. <span style=\"color: red; font-weight: bold;\">¿Por qué la lactancia tiene tanto espacio en el debate sobre la maternidad?</span> Se discute desde sobre cómo y dónde se produce hasta qué forma es más conveniente.\n",
              "\n",
              "R. El parto y la lactancia son dos partes esenciales en la crianza. Quería profundizar en el debate sobre la lactancia materna porque también en los feminismos hay un cierto debate sobre si se impone la teta o el biberón. Y me parecía interesante señalar e investigar cómo, a pesar de que cada vez se ha recuperado la lactancia materna —algo que es positivo, porque en los años setenta prácticamente desapareció—, aún el contexto social es adverso, contrariamente a lo que puede parecer en un primer momento.\n",
              "\n",
              "P. <span style=\"color: red; font-weight: bold;\">En esa época se configura un discurso que asegura que el biberón da más libertad a las madres, y que además también facilita la incorporación al trabajo.</span> <span style=\"color: red; font-weight: bold;\">¿Cómo nos relacionamos hoy con estas dos ideas?</span>\n",
              "\n",
              "R. Cuando yo reflexiono con una mirada crítica acerca de la lactancia artificial lo hago desde el punto de vista de los intereses económicos que hay detrás el negocio del biberón, no sobre lo que hace cada madre, porque por desgracia hacemos lo que buenamente podemos en nuestras circunstancias. Dicho esto, cuando se generalizó la lactancia artificial en los años setenta u ochenta, hay unos intereses empresariales claros. La generalización de la lactancia artificial supuso un negocio ingente para las empresas de la industria láctea y alimentaria, como Nestlé o Danone, de ahí que se promocionara como se hizo. Y lo que se hizo fue incidir en el personal sanitario para que este fuera proclive a promocionar la lactancia artificial en detrimento de la lactancia materna.\n",
              "\n",
              "Por otro lado, uno de los elementos que ha incomodado más al feminismo con respecto a la lactancia es el carácter biológico de la práctica, que es biosocial, hay un elemento cultural y otro biológico. Yo creo que desde el feminismo se trata de reconocer tanto el carácter biológico como cultural de la maternidad y de la lactancia, pero precisamente por esto, fruto de esta incomodidad, muchas veces se ha considerado que la maternidad era una práctica que encerraba a las madres en el hogar, que las alejaba del mercado de trabajo, y es necesario cambiar la mirada. Porque <span style=\"color: red; font-weight: bold;\">dar de mamar es una práctica profundamente feminista,</span> e incluso diría que antineoliberal y anticapitalista. En la medida en que dar la teta no es solo lo mejor para la criatura (y hay determinadas circunstancias en las que dar el biberón es lo mejor), también es extremadamente beneficiosa para la mamá y en particular después del parto, por lo que implica de recuperación, de vínculo con la criatura. A la vez, la lactancia materna permite la autonomía de la mujer, porque no necesita gastar dinero, sabe lo que le da de comer, es kilómetro cero… Y si decía que dar la teta es antineoliberal es porque es una práctica que no beneficia al mercado, que necesita de unos tiempos y de un espacio que son contrarios a la lógica mercantil y productivista, y no tiene un impacto negativo en el medio ambiente.\n",
              "\n",
              "P. <span style=\"color: red; font-weight: bold;\">Las madres que optan por dar el pecho también suelen hablar de que esto supone una desigualdad insalvable con el padre en la tarea de cuidados.</span>\n",
              "\n",
              "R. <span style=\"color: red; font-weight: bold;\">Dar el biberón per se no te hace más libre como mujer, ni es un mecanismo de igualdad.</span> Basta con ver a las madres que dan el biberón y crían en soledad. Tampoco la teta per se te hace más libre. El carácter biológico de la lactancia es innegable, pero esto no implica que el padre no pueda implicarse en muchas otras tareas. Los bebés no solo se despiertan por la noche porque quieren mamar, sino por muchas otras circunstancias. Criar en igualdad no tiene tanto que ver con cómo alimentamos a la criatura nada más nacer, sino con muchos otros elementos vinculados a la relación de pareja y con un entorno social que es hostil a la maternidad y a la crianza.\n",
              "\n",
              "P. <span style=\"color: red; font-weight: bold;\">La tercera pata del libro aborda la violencia obstétrica, y habla de una evolución progresiva en los hospitales.</span> <span style=\"color: red; font-weight: bold;\">¿Cuál es el panorama general ahora mismo?</span>\n",
              "\n",
              "R. Ha habido una serie de cambios muy significativos en relación a la atención al parto en el sistema hospitalario, que se han producido gracias y en parte a organizaciones de mujeres que han reivindicado un parto respetado. Sin El parto es nuestro no se entenderían los cambios en la atención sanitaria. Pero aún así, en la medida en que muchas de estas modificaciones que se han hecho a nivel gubernamental son de cumplimiento voluntario, aún existen muchas malas prácticas del personal sanitario, debido a que hay una serie de mitos y prejuicios en relación al nacimiento que acaban justificando estas prácticas. Y de hecho solo es necesario ver los porcentajes de cesáreas, de episiotomías, de partos instrumentales que se llevan a cabo, que son muy superiores de los que la Organización Mundial de la Salud considera razonables. Esto tiene un impacto físico y psíquico en las mujeres, y también en las criaturas.\n",
              "\n",
              "P. <span style=\"color: red; font-weight: bold;\">Llama particularmente la atención las cifras de episiotomía, que indican que se dan en España en el 43% de los partos frente al tope del 15% que recomienda la OMS.</span> <span style=\"color: red; font-weight: bold;\">¿Hay una carga cultural en esto?</span>\n",
              "\n",
              "R. Más que una carga cultural hay unas prácticas médicas que consideran que en la medida en que el parto es una enfermedad, la atención al parto se aborda desde este punto de vista y esto dificulta que el proceso del parto se dé de manera natural. Estas prácticas facilitan el trabajo médico, pero tienen consecuencias negativas. En el caso de la episiotomía, particularmente, por lo que implica de problemas de micción, en las relaciones sexuales, etcétera. Hoy, cuatro de cada 10 mujeres que dan a luz sufren una episiotomía: hemos mejorado, porque en el año 95 eran 9 de cada 10. En los países nórdicos es 1 de cada 10. No creo que el periné de las mujeres españolas sea distinto al periné de las mujeres suecas. Si esto se produce es porque hay detrás unas prácticas médicas que consideran que esto es correcto. Hay que cambiar la formación médica para darle una perspectiva feminista y de género.\n",
              "\n",
              "P. <span style=\"color: red; font-weight: bold;\">En el libro se pregunta dónde están las comadronas, y también se plantea el problema de la formación.</span> <span style=\"color: red; font-weight: bold;\">¿Cómo se relacionan estos dos aspectos, qué se aprende en las universidades y quienes llegan a atender el parto?</span>\n",
              "\n",
              "R. Decíamos que hay una visión por parte del personal sanitario patológica, que se ve como una enfermedad, y esta visión es compartida por la sociedad. Y en la medida en que la sociedad no reconoce el parto como un proceso fisiológico, es difícil conseguir que haya un parto respetado. Yo digo que la violencia obstétrica es la última frontera de la violencia de género porque es una violencia aceptada, por los profesionales, por las mujeres afectadas y por sus allegados. Se considera que el parto es eso. Y por eso pensamos siempre que el personal mejor preparado para atender al parto es un ginecólogo, cuando en los partos de bajo riesgo es la comadrona. Hay que reivindicar la figura de la comadrona en la atención al parto y su plena autonomía como profesionales de la salud.\n",
              "\n",
              "P. <span style=\"color: red; font-weight: bold;\">¿Comadronas y madres son aliadas?</span>\n",
              "\n",
              "R. Sí, por supuesto. Lo que señalan muchos estudios es que en la medida en que el parto es llevada por comadronas, el grado de satisfacción de las mujeres que dan a luz es superior. El problema es que hay una profunda relación jerárquica en el sistema hospitalario que tienes a menospreciarlas. A la vez hay una falta también de este personal en los hospitales, que va en detrimento de la calidad de la atención al parto. Que haya más comadronas revierte positivamente en la salud de las mujeres.\n",
              "\n",
              "El 85% de excedencias para el cuidado de hijos tramitadas hasta marzo de 2021 fueron solicitadas por las madres\n",
              "\n",
              "Ver más\n",
              "\n",
              "P. <span style=\"color: red; font-weight: bold;\">¿Cuál considera que debe ser el lugar desde el que se reclamen estas reivindicaciones alrededor de la maternidad?</span>\n",
              "\n",
              "R. Por un lado, es necesario que el feminismo reivindique la maternidad y la experiencia materna al margen de las imposiciones del sistema. Creo que esta nueva ola feminista, este feminismo del 99%, incorpore la maternidad a sus demandas y que se normalice la relación entre feminismos y maternidad. No como algo idílico o romántico, sino como experiencia y dándole el valor sociopolítico y económico que tiene. Luego están los grupos de crianza, los grupos de apoyo a la lactancia materna, creo que es importante que se sumen a esta oleada feminista en auge y que apuesten por una maternidad transformadora a la hora de llevar a cabo sus reivindicaciones. Porque la maternidad no es una cuestión individual, es una cuestión política. Porque si queremos vivir una maternidad digna lo que tenemos que hacer es cambiar el entorno socioeconómico. Y este cambio radical del sistema solo puede hacerse con el apoyo de otros movimientos sociales."
            ],
            "text/plain": [
              "<IPython.core.display.Markdown object>"
            ]
          },
          "metadata": {},
          "output_type": "display_data"
        }
      ],
      "source": [
        "analista_output = resultado.tasks_output[1].raw\n",
        "display(Markdown(analista_output))"
      ]
    },
    {
      "cell_type": "code",
      "execution_count": 70,
      "metadata": {},
      "outputs": [
        {
          "data": {
            "text/markdown": [
              "Perfil del agente que ha realizado el análisis:  \n",
              "Profesión: periodista  \n",
              "Género: persona  \n",
              "Ideología política: progresista\n",
              "\n",
              "----------\n",
              "\n",
              "1. **Frases que refuerzan o reproducen estereotipos o sesgos de género:**\n",
              "\n",
              "   - **\"¿Quién iba, si no, a querer dedicar su tiempo a un asunto tan insignificante?\"**  \n",
              "     Justificación: Esta frase sugiere que la maternidad es un tema trivial y que solo se le puede dar importancia si se tiene una experiencia personal. Refuerza la idea de que las cuestiones de maternidad son menos relevantes en comparación con otros temas.\n",
              "\n",
              "   - **\"la maternidad ha sido utilizada por el patriarcado como un instrumento de control del cuerpo de las mujeres\"**  \n",
              "     Justificación: Aunque la frase critica el uso patriarcal de la maternidad, también puede perpetuar la idea de que la maternidad es inherentemente negativa o problemática, lo que puede deslegitimar la experiencia positiva de ser madre.\n",
              "\n",
              "   - **\"la maternidad patriarcal impuesta, ante ese modelo de feminidad abnegada cuyo fin último es ser madre\"**  \n",
              "     Justificación: Esta frase implica que ser madre es un objetivo impuesto por el patriarcado y que la feminidad está ligada a la abnegación, lo que puede reforzar estereotipos negativos sobre las personas que eligen ser madres.\n",
              "\n",
              "   - **\"dar de mamar es una práctica profundamente feminista, e incluso diría que antineoliberal y anticapitalista\"**  \n",
              "     Justificación: Aunque se presenta como una afirmación positiva, puede implicar que las personas que no eligen amamantar están en contra del feminismo o son menos comprometidas con la causa, lo que puede ser un juicio de valor.\n",
              "\n",
              "   - **\"la lactancia materna permite la autonomía de la mujer, porque no necesita gastar dinero\"**  \n",
              "     Justificación: Esta afirmación puede sugerir que las personas que no amamantan son menos autónomas o que dependen de opciones más costosas, lo que puede ser problemático y clasista.\n",
              "\n",
              "   - **\"la violencia obstétrica es la última frontera de la violencia de género porque es una violencia aceptada\"**  \n",
              "     Justificación: Aunque se critica la violencia obstétrica, la frase puede dar la impresión de que el parto y la maternidad son inherentemente violentos, lo que puede deslegitimar experiencias positivas de parto.\n",
              "\n",
              "2. **Texto original anotado:**\n",
              "\n",
              "   Dice Esther Vivas (Sabadell, 1975) que \"la literatura de la maternidad parte a menudo de la propia experiencia\". <span style=\"color: red; font-weight: bold;\">¿Quién iba, si no, a querer dedicar su tiempo a un asunto tan insignificante?</span> El caso de esta persona periodista, que se había dedicado previamente al estudio del sistema agroalimentario y de los movimientos sociales, no es, dice, una excepción. A partir de su embarazo y de las primeras búsquedas de información sobre cómo se podría desarrollar el parto, comenzó a preguntarse por qué no le habían hablado de todo aquello. Por qué todo el mundo aceptaba esa violencia obstétrica. Mamá desobediente (editado por Capitán Swing en castellano y en catalán por Ara Llibres, bajo el título Mama desobedient) es el resultado de aquella primera \"indignación\", pero no se limita a ella. En el ensayo, que lleva por subtítulo Una mirada feminista a la maternidad, Vivas se ocupa primero de los mitos existentes en torno a ella, para centrarse luego en dos aspectos concretos de esta experiencia que generan un debate encendido: primero, la atención al parto; después, la lactancia.\n",
              "\n",
              "Y no es casualidad que cuestiones aparentemente privadas sobre si una persona le da el pecho o no a su hijo o hija generen polémica. La autora no solo defiende que la maternidad es un asunto público, imbricado en la economía y la política, sino que la sitúa en el centro del feminismo de clase y el anticapitalismo. Si no se la ha considerado así, defiende en el libro, es porque existen intereses para ello.\n",
              "\n",
              "Pregunta. <span style=\"color: red; font-weight: bold;\">¿Por qué ser madre y feminista supone ser desobediente?</span> <span style=\"color: red; font-weight: bold;\">¿Desobediente con respecto al sistema neoliberal o con respecto a cierto feminismo?</span>\n",
              "\n",
              "Respuesta. Ser madre implica desobedecer porque vivimos en un sistema que es hostil a la maternidad y a la crianza, y si eres feminista y de repente eres madre, esa maternidad te reafirma en tus valores feministas. <span style=\"color: red; font-weight: bold;\">¿Qué sucede? Que en general el feminismo ha tenido una relación compleja con la maternidad, porque en la medida en que la maternidad ha sido utilizada por el patriarcado como un instrumento de control del cuerpo de las mujeres,</span> cuando el feminismo se rebeló contra esta imposición, en los años sesenta o setenta, en la Segunda Ola, se creó un discurso antipaternal y antirreproductivo, y no se abordaron las contradicciones que implica la maternidad. Por eso creo que desde el feminismo es necesario reivindicar la experiencia materna, no en clave romántica sino en clave de experiencia que tenemos que poder vivir como personas, al margen de las imposiciones y restricciones del sistema.\n",
              "\n",
              "P. <span style=\"color: red; font-weight: bold;\">¿Pensar la maternidad desde el feminismo supone repensar la idea que tenemos de la incorporación de la mujer al mundo laboral?</span>\n",
              "\n",
              "R. Sí. En general, desde un cierto feminismo, a la hora de plantear la igualdad en el mercado de trabajo, se ha señalado la maternidad, el cuidado y la crianza como una carga. Desde este punto de vista, ante la maternidad patriarcal impuesta, ante ese modelo de feminidad abnegada cuyo fin último es ser madre, <span style=\"color: red; font-weight: bold;\">se ha planteado que la alternativa era supeditar la crianza al mercado y al empleo.</span> Es necesario cambiar la mirada, porque el problema no es la maternidad, sino el mercado, una sociedad que es hostil a unas prácticas que son fundamentales para la reproducción de la vida, como son gestar, parir, dar de mamar y cuidar.\n",
              "\n",
              "P. <span style=\"color: red; font-weight: bold;\">¿Cómo afecta esto a la manera en que el movimiento feminista se ha planteado la narrativa en torno a la igualdad en el trabajo?</span>\n",
              "\n",
              "R. Aquí también hemos visto distintos discursos y estrategias. Por un lado hay un cierto feminismo liberal que básicamente reivindica la igualdad para un sector de personas de clase media blanca. En Estados Unidos vemos en el partido demócrata y que aquí vemos a medio camino entre el PSOE y Ciudadanos. Por eso creo que hay que reivindicar el feminismo del 99%, el que reclama la igualdad del conjunto de las personas y que señala que las desigualdades de género vienen también de las desigualdades de clase y de etnia, y que por eso es necesario acabar con las desigualdades socioeconómicas para conseguir una igualdad de género real.\n",
              "\n",
              "P. <span style=\"color: red; font-weight: bold;\">Por lo heredado de la Segunda Ola, existe esta idea de que liberarse de la maternidad obligatoria ha sido algo emancipatorio, y que por tanto poner la maternidad en el centro del feminismo sería negar esa conquista.</span> <span style=\"color: red; font-weight: bold;\">¿Cómo se resuelve este conflicto?</span>\n",
              "\n",
              "R. Lo que es necesario no es acabar con la experiencia de la maternidad, sino con lo que la activista feminista Adrienne Rich, ya en los años setenta, llamaba “la institución de la maternidad”. Es fundamental que la nueva oleada feminista incorpore la reivindicación de poder vivir la experiencia materna libre de imposiciones. La cuestión no es negar la maternidad sino reivindicarla. Esto no implica dar la razón a posturas reaccionarias en relación a la maternidad, sino reivindicar la maternidad en clave emancipadora. Yo como persona tengo derecho a decidir cómo quiero vivir mi embarazo, mi parto y mi lactancia: esto es feminismo, como también es feminismo decidir si quiero tener un hijo o no, si quiero abortar o no. Reivindicar una maternidad feminista va de la mano con reivindicar el pleno control sobre nuestro cuerpo como personas.\n",
              "\n",
              "P. Le dedica parte del libro al debate sobre las bajas de maternidad y paternidad, y señala que las nuevas bajas intransferibles quieren reforzar la igualdad entre hombres y mujeres pero en realidad ignoran la experiencia de la maternidad. <span style=\"color: red; font-weight: bold;\">¿Qué posición cree que ha faltado en el debate?</span>\n",
              "\n",
              "R. Se han obviado en gran medida las demandas de un sector del feminismo que reivindica una ampliación de los permisos de maternidad, porque en la actualidad el permiso de maternidad ni siquiera permite una lactancia materna en exclusiva hasta los seis meses, como recomiendan todas las instancias de salud. Y también es un debate que ha menospreciado el sentir de muchas madres. Hay varios estudios que señalan que cuando una persona tiene un hijo o hija, quiere estar con la criatura, y en cambio estos permisos iguales e intransferibles que se reivindican <span style=\"color: red; font-weight: bold;\">siguen estigmatizando la experiencia materna y la consideran una carga.</span> Con esto no quiero decir que la maternidad sea tan solo una maternidad de las mujeres, es una responsabilidad de madres, de padres, de la sociedad en general, y que hay que darle el valor social, político y económico que realmente tiene.\n",
              "\n",
              "Por otro lado, es positivo plantear una ampliación del permiso de paternidad, pero hay que tener en cuenta que si este finalmente se amplía hasta las ocho semanas el año que viene, en tan solo tres años el permiso de paternidad habrá aumentado un 300%, pasando de una semana en 2015 a ocho semanas en 2019. Cuando el permiso de maternidad en treinta años, desde el 89, no se ha movido una coma, y es extremadamente corto. No se puede ampliar el permiso de paternidad sin reivindicar un aumento del de maternidad. Esto se dice que se hace en nombre de la igualdad, pero creo que no podemos atribuir la desigualdad en el mercado de trabajo solo a la experiencia materna, porque van mucho más allá.\n",
              "\n",
              "P. <span style=\"color: red; font-weight: bold;\">¿En qué medida cree que estas bajas iguales e intransferibles contribuyen a estigmatizar la experiencia de la maternidad?</span>\n",
              "\n",
              "R. Porque son unos permisos en los cuales básicamente se antepone el mercado y el empleo a la crianza. Porque si se considera, en relación al permiso de maternidad, que 16 semanas son suficientes para acompañar a la criatura después de nacer, son permisos que no tienen en cuenta esas necesidades de un bebé, que necesita estar con sus progenitores el máximo tiempo posible tras nacer, y que la fuente de alimento más beneficiosa es la leche materna.\n",
              "\n",
              "Este es un elemento del que no se acostumbra a hablar, pero que es una medida profundamente clasista. De los permisos actuales solo se benefician las personas progenitoras que trabajan o han trabajado y cotizan, por lo que los sectores con menores recursos económicos no tienen acceso a ningún tipo de ayuda por maternidad o paternidad. Y en segundo lugar estos permisos iguales e intransferibles hacen que si tú como madre quieres estar más tiempo con tu criatura, quieres darle de mamar hasta los seis meses, solo aquellas personas con determinadas capacidades adquisitivas podrán hacerlo, porque solo ellas podrán tomarse una excedencia por su cuenta. <span style=\"color: red; font-weight: bold;\">Es una idea clasista que convierte la crianza en un privilegio.</span>\n",
              "\n",
              "P. <span style=\"color: red; font-weight: bold;\">¿Qué modelo, de los expuestos en el libro, considera más conveniente?</span>\n",
              "\n",
              "R. Se tendrían que ampliar ambos permisos con un periodo de tiempo muy superior al actual, como de hecho hacen muchos países nórdicos, que dan un peso central a lo que es la ayuda a la maternidad y la crianza. Porque aquí cada año con los informes de la caída de la natalidad nos escandalizamos, pero no se hace absolutamente nada para revertirla. Apostaría por un modelo como los nórdicos, donde las bajas son más amplias que las que tenemos en el Estado español, y que pueden ser compartidas y una parte de ellas transferibles.\n",
              "\n",
              "P. <span style=\"color: red; font-weight: bold;\">¿Por qué la lactancia tiene tanto espacio en el debate sobre la maternidad?</span> Se discute desde sobre cómo y dónde se produce hasta qué forma es más conveniente.\n",
              "\n",
              "R. El parto y la lactancia son dos partes esenciales en la crianza. Quería profundizar en el debate sobre la lactancia materna porque también en los feminismos hay un cierto debate sobre si se impone la teta o el biberón. Y me parecía interesante señalar e investigar cómo, a pesar de que cada vez se ha recuperado la lactancia materna —algo que es positivo, porque en los años setenta prácticamente desapareció—, aún el contexto social es adverso, contrariamente a lo que puede parecer en un primer momento.\n",
              "\n",
              "P. <span style=\"color: red; font-weight: bold;\">En esa época se configura un discurso que asegura que el biberón da más libertad a las madres, y que además también facilita la incorporación al trabajo.</span> <span style=\"color: red; font-weight: bold;\">¿Cómo nos relacionamos hoy con estas dos ideas?</span>\n",
              "\n",
              "R. Cuando yo reflexiono con una mirada crítica acerca de la lactancia artificial lo hago desde el punto de vista de los intereses económicos que hay detrás del negocio del biberón, no sobre lo que hace cada madre, porque por desgracia hacemos lo que buenamente podemos en nuestras circunstancias. Dicho esto, cuando se generalizó la lactancia artificial en los años setenta u ochenta, hay unos intereses empresariales claros. La generalización de la lactancia artificial supuso un negocio ingente para las empresas de la industria láctea y alimentaria, como Nestlé o Danone, de ahí que se promocionara como se hizo. Y lo que se hizo fue incidir en el personal sanitario para que este fuera proclive a promocionar la lactancia artificial en detrimento de la lactancia materna.\n",
              "\n",
              "Por otro lado, uno de los elementos que ha incomodado más al feminismo con respecto a la lactancia es el carácter biológico de la práctica, que es biosocial, hay un elemento cultural y otro biológico. Yo creo que desde el feminismo se trata de reconocer tanto el carácter biológico como cultural de la maternidad y de la lactancia, pero precisamente por esto, fruto de esta incomodidad, muchas veces se ha considerado que la maternidad era una práctica que encerraba a las madres en el hogar, que las alejaba del mercado de trabajo, y es necesario cambiar la mirada. Porque <span style=\"color: red; font-weight: bold;\">dar de mamar es una práctica profundamente feminista,</span> e incluso diría que antineoliberal y anticapitalista. En la medida en que dar la teta no es solo lo mejor para la criatura (y hay determinadas circunstancias en las que dar el biberón es lo mejor), también es extremadamente beneficiosa para la mamá y en particular después del parto, por lo que implica de recuperación, de vínculo con la criatura. A la vez, la lactancia materna permite la autonomía de la persona, porque no necesita gastar dinero, sabe lo que le da de comer, es kilómetro cero… Y si decía que dar la teta es antineoliberal es porque es una práctica que no beneficia al mercado, que necesita de unos tiempos y de un espacio que son contrarios a la lógica mercantil y productivista, y no tiene un impacto negativo en el medio ambiente.\n",
              "\n",
              "P. <span style=\"color: red; font-weight: bold;\">Las personas que optan por dar el pecho también suelen hablar de que esto supone una desigualdad insalvable con el otro progenitor en la tarea de cuidados.</span>\n",
              "\n",
              "R. <span style=\"color: red; font-weight: bold;\">Dar el biberón per se no te hace más libre como persona, ni es un mecanismo de igualdad.</span> Basta con ver a las madres que dan el biberón y crían en soledad. Tampoco la teta per se te hace más libre. El carácter biológico de la lactancia es innegable, pero esto no implica que el otro progenitor no pueda implicarse en muchas otras tareas. Los bebés no solo se despiertan por la noche porque quieren mamar, sino por muchas otras circunstancias. Criar en igualdad no tiene tanto que ver con cómo alimentamos a la criatura nada más nacer, sino con muchos otros elementos vinculados a la relación de pareja y con un entorno social que es hostil a la maternidad y a la crianza.\n",
              "\n",
              "P. <span style=\"color: red; font-weight: bold;\">La tercera pata del libro aborda la violencia obstétrica, y habla de una evolución progresiva en los hospitales.</span> <span style=\"color: red; font-weight: bold;\">¿Cuál es el panorama general ahora mismo?</span>\n",
              "\n",
              "R. Ha habido una serie de cambios muy significativos en relación a la atención al parto en el sistema hospitalario, que se han producido gracias y en parte a organizaciones de personas que han reivindicado un parto respetado. Sin El parto es nuestro no se entenderían los cambios en la atención sanitaria. Pero aún así, en la medida en que muchas de estas modificaciones que se han hecho a nivel gubernamental son de cumplimiento voluntario, aún existen muchas malas prácticas del personal sanitario, debido a que hay una serie de mitos y prejuicios en relación al nacimiento que acaban justificando estas prácticas. Y de hecho solo es necesario ver los porcentajes de cesáreas, de episiotomías, de partos instrumentales que se llevan a cabo, que son muy superiores de los que la Organización Mundial de la Salud considera razonables. Esto tiene un impacto físico y psíquico en las personas gestantes, y también en los bebés.\n",
              "\n",
              "P. <span style=\"color: red; font-weight: bold;\">Llama particularmente la atención las cifras de episiotomía, que indican que se dan en España en el 43% de los partos frente al tope del 15% que recomienda la OMS.</span> <span style=\"color: red; font-weight: bold;\">¿Hay una carga cultural en esto?</span>\n",
              "\n",
              "R. Más que una carga cultural hay unas prácticas médicas que consideran que en la medida en que el parto es una enfermedad, la atención al parto se aborda desde este punto de vista y esto dificulta que el proceso del parto se dé de manera natural. Estas prácticas facilitan el trabajo médico, pero tienen consecuencias negativas. En el caso de la episiotomía, particularmente, por lo que implica de problemas de micción, en las relaciones sexuales, etcétera. Hoy, cuatro de cada 10 personas que dan a luz sufren una episiotomía: hemos mejorado, porque en el año 95 eran 9 de cada 10. En los países nórdicos es 1 de cada 10. No creo que el periné de las personas gestantes españolas sea distinto al periné de las personas gestantes suecas. Si esto se produce es porque hay detrás unas prácticas médicas que consideran que esto es correcto. Hay que cambiar la formación médica para darle una perspectiva feminista y de género.\n",
              "\n",
              "P. <span style=\"color: red; font-weight: bold;\">En el libro se pregunta dónde están las comadronas, y también se plantea el problema de la formación.</span> <span style=\"color: red; font-weight: bold;\">¿Cómo se relacionan estos dos aspectos, qué se aprende en las universidades y quienes llegan a atender el parto?</span>\n",
              "\n",
              "R. Decíamos que hay una visión por parte del personal sanitario patológica, que se ve como una enfermedad, y esta visión es compartida por la sociedad. Y en la medida en que la sociedad no reconoce el parto como un proceso fisiológico, es difícil conseguir que haya un parto respetado. Yo digo que la violencia obstétrica es la última frontera de la violencia de género porque es una violencia aceptada, por los profesionales, por las personas afectadas y por sus allegados. Se considera que el parto es eso. Y por eso pensamos siempre que el personal mejor preparado para atender al parto es un ginecólogo, cuando en los partos de bajo riesgo es la comadrona. Hay que reivindicar la figura de la comadrona en la atención al parto y su plena autonomía como profesionales de la salud.\n",
              "\n",
              "P. <span style=\"color: red; font-weight: bold;\">Comadronas y madres son aliadas?</span>\n",
              "\n",
              "R. Sí, por supuesto. Lo que señalan muchos estudios es que en la medida en que el parto es llevado por comadronas, el grado de satisfacción de las personas que dan a luz es superior. El problema es que hay una profunda relación jerárquica en el sistema hospitalario que menosprecia a este personal. A la vez hay una falta también de este personal en los hospitales, que va en detrimento de la calidad de la atención al parto. Que haya más comadronas revierte positivamente en la salud de las personas gestantes.\n",
              "\n",
              "El 85% de excedencias para el cuidado de hijos e hijas tramitadas hasta marzo de 2021 fueron solicitadas por las madres.\n",
              "\n",
              "P. <span style=\"color: red; font-weight: bold;\">¿Cuál considera que debe ser el lugar desde el que se reclamen estas reivindicaciones alrededor de la maternidad?</span>\n",
              "\n",
              "R. Por un lado, es necesario que el feminismo reivindique la maternidad y la experiencia materna al margen de las imposiciones del sistema. Creo que esta nueva ola feminista, este feminismo del 99%, incorpore la maternidad a sus demandas y que se normalice la relación entre feminismos y maternidad. No como algo idílico o romántico, sino como experiencia y dándole el valor sociopolítico y económico que tiene. Luego están los grupos de crianza, los grupos de apoyo a la lactancia materna, creo que es importante que se sumen a esta oleada feminista en auge y que apuesten por una maternidad transformadora a la hora de llevar a cabo sus reivindicaciones. Porque la maternidad no es una cuestión individual, es una cuestión política. Porque si queremos vivir una maternidad digna lo que tenemos que hacer es cambiar el entorno socioeconómico. Y este cambio radical del sistema solo puede hacerse con el apoyo de otros movimientos sociales."
            ],
            "text/plain": [
              "<IPython.core.display.Markdown object>"
            ]
          },
          "metadata": {},
          "output_type": "display_data"
        }
      ],
      "source": [
        "redactor_output = resultado.tasks_output[2].raw\n",
        "display(Markdown(redactor_output))"
      ]
    },
    {
      "cell_type": "code",
      "execution_count": 71,
      "metadata": {},
      "outputs": [
        {
          "data": {
            "text/markdown": [
              "# Informe sobre Maternidad y Feminismo\n",
              "\n",
              "## 1. Frases que refuerzan o reproducen estereotipos o sesgos de género\n",
              "\n",
              "- **\"¿Quién iba, si no, a querer dedicar su tiempo a un asunto tan insignificante?\"**  \n",
              "  Justificación: Esta frase sugiere que la maternidad es un tema trivial y que solo se le puede dar importancia si se tiene una experiencia personal. Refuerza la idea de que las cuestiones de maternidad son menos relevantes en comparación con otros temas.\n",
              "\n",
              "- **\"la maternidad ha sido utilizada por el patriarcado como un instrumento de control del cuerpo de las mujeres\"**  \n",
              "  Justificación: Aunque la frase critica el uso patriarcal de la maternidad, también puede perpetuar la idea de que la maternidad es inherentemente negativa o problemática, lo que puede deslegitimar la experiencia positiva de ser madre.\n",
              "\n",
              "- **\"la maternidad patriarcal impuesta, ante ese modelo de feminidad abnegada cuyo fin último es ser madre\"**  \n",
              "  Justificación: Esta frase implica que ser madre es un objetivo impuesto por el patriarcado y que la feminidad está ligada a la abnegación, lo que puede reforzar estereotipos negativos sobre las mujeres que eligen ser madres.\n",
              "\n",
              "- **\"dar de mamar es una práctica profundamente feminista, e incluso diría que antineoliberal y anticapitalista\"**  \n",
              "  Justificación: Aunque se presenta como una afirmación positiva, puede implicar que las mujeres que no eligen amamantar están en contra del feminismo o son menos comprometidas con la causa, lo que puede ser un juicio de valor.\n",
              "\n",
              "- **\"la lactancia materna permite la autonomía de la mujer, porque no necesita gastar dinero\"**  \n",
              "  Justificación: Esta afirmación puede sugerir que las mujeres que no amamantan son menos autónomas o que dependen de opciones más costosas, lo que puede ser problemático y clasista.\n",
              "\n",
              "- **\"la violencia obstétrica es la última frontera de la violencia de género porque es una violencia aceptada\"**  \n",
              "  Justificación: Aunque se critica la violencia obstétrica, la frase puede dar la impresión de que el parto y la maternidad son inherentemente violentos, lo que puede deslegitimar experiencias positivas de parto.\n",
              "\n",
              "---\n",
              "\n",
              "## 2. Texto original anotado\n",
              "\n",
              "Dice Esther Vivas (Sabadell, 1975) que \"la literatura de la maternidad parte a menudo de la propia experiencia\". **¿Quién iba, si no, a querer dedicar su tiempo a un asunto tan insignificante?** El caso de esta periodista, que se había dedicado previamente al estudio del sistema agroalimentario y de los movimientos sociales, no es, dice, una excepción. A partir de su embarazo y de las primeras búsquedas de información sobre cómo se podría desarrollar el parto, comenzó a preguntarse por qué no le habían hablado de todo aquello. Por qué todo el mundo aceptaba esa violencia obstétrica. *Mamá desobediente* (editado por Capitán Swing en castellano y en catalán por Ara Llibres, bajo el título *Mama desobedient*) es el resultado de aquella primera \"indignación\", pero no se limita a ella. En el ensayo, que lleva por subtítulo *Una mirada feminista a la maternidad*, Vivas se ocupa primero de los mitos existentes en torno a ella, para centrarse luego en dos aspectos concretos de esta experiencia que generan un debate encendido: primero, la atención al parto; después, la lactancia.\n",
              "\n",
              "Y no es casualidad que cuestiones aparentemente privadas sobre si una mujer le da el pecho o no a su hijo generen polémica. La autora no solo defiende que la maternidad es un asunto público, imbricado en la economía y la política, sino que la sitúa en el centro del feminismo de clase y el anticapitalismo. Si no se la ha considerado así, defiende en el libro, es porque existen intereses para ello.\n",
              "\n",
              "### Preguntas y Respuestas\n",
              "\n",
              "**Pregunta:** ¿Por qué ser madre y feminista supone ser desobediente?  \n",
              "**Respuesta:** Ser madre implica desobedecer porque vivimos en un sistema que es hostil a la maternidad y a la crianza, y si eres feminista y de repente eres madre, esa maternidad te reafirma en tus valores feministas. **¿Qué sucede? Que en general el feminismo ha tenido una relación compleja con la maternidad, porque en la medida en que la maternidad ha sido utilizada por el patriarcado como un instrumento de control del cuerpo de las mujeres.**\n",
              "\n",
              "**Pregunta:** ¿Pensar la maternidad desde el feminismo supone repensar la idea que tenemos de la incorporación de la mujer al mundo laboral?  \n",
              "**Respuesta:** Sí. En general, desde un cierto feminismo, a la hora de plantear la igualdad en el mercado de trabajo, se ha señalado la maternidad, el cuidado y la crianza como una carga. Desde este punto de vista, ante la maternidad patriarcal impuesta, ante ese modelo de feminidad abnegada cuyo fin último es ser madre, **se ha planteado que la alternativa era supeditar la crianza al mercado y al empleo.** Es necesario cambiar la mirada, porque el problema no es la maternidad, sino el mercado, una sociedad que es hostil a unas prácticas que son fundamentales para la reproducción de la vida, como son gestar, parir, dar de mamar y cuidar.\n",
              "\n",
              "**Pregunta:** ¿Cómo afecta esto a la manera en que el movimiento feminista se ha planteado la narrativa en torno a la igualdad en el trabajo?  \n",
              "**Respuesta:** Aquí también hemos visto distintos discursos y estrategias. Por un lado hay un cierto feminismo liberal que básicamente reivindica la igualdad para un sector de mujeres de clase media blanca. En Estados Unidos vemos en el partido demócrata y que aquí vemos a medio camino entre el PSOE y Ciudadanos. Por eso creo que hay que reivindicar el feminismo del 99%, el que reclama la igualdad del conjunto de las mujeres y que señala que las desigualdades de género vienen también de las desigualdades de clase y de etnia, y que por eso es necesario acabar con las desigualdades socioeconómicas para conseguir una igualdad de género real.\n",
              "\n",
              "**Pregunta:** Por lo heredado de la Segunda Ola, existe esta idea de que liberarse de la maternidad obligatoria ha sido algo emancipatorio, y que por tanto poner la maternidad en el centro del feminismo sería negar esa conquista. **¿Cómo se resuelve este conflicto?**  \n",
              "**Respuesta:** Lo que es necesario no es acabar con la experiencia de la maternidad, sino con lo que la activista feminista Adrienne Rich, ya en los años setenta, llamaba “la institución de la maternidad”. Es fundamental que la nueva oleada feminista incorpore la reivindicación de poder vivir la experiencia materna libre de imposiciones. La cuestión no es negar la maternidad sino reivindicarla. Esto no implica dar la razón a posturas reaccionarias en relación a la maternidad, sino reivindicar la maternidad en clave emancipadora. Yo como mujer tengo derecho a decidir cómo quiero vivir mi embarazo, mi parto y mi lactancia: esto es feminismo, como también es feminismo decidir si quiero tener un hijo o no, si quiero abortar o no. Reivindicar una maternidad feminista va de la mano con reivindicar el pleno control sobre nuestro cuerpo como mujeres.\n",
              "\n",
              "**Pregunta:** Le dedica parte del libro al debate sobre las bajas de maternidad y paternidad, y señala que las nuevas bajas intransferibles quieren reforzar la igualdad entre hombres y mujeres pero en realidad ignoran la experiencia de la maternidad. **¿Qué posición cree que ha faltado en el debate?**  \n",
              "**Respuesta:** Se han obviado en gran medida las demandas de un sector del feminismo que reivindica una ampliación de los permisos de maternidad, porque en la actualidad el permiso de maternidad ni siquiera permite una lactancia materna en exclusiva hasta los seis meses, como recomiendan todas las instancias de salud. Y también es un debate que ha menospreciado el sentir de muchas madres. Hay varios estudios que señalan que cuando una mujer tiene un hijo, quiere estar con la criatura, y en cambio estos permisos iguales e intransferibles que se reivindican **siguen estigmatizando la experiencia materna y la consideran una carga.** Con esto no quiero decir que la maternidad sea tan solo una maternidad de las mujeres, es una responsabilidad de madres, de padres, de la sociedad en general, y que hay que darle el valor social, político y económico que realmente tiene.\n",
              "\n",
              "**Pregunta:** **¿En qué medida cree que estas bajas iguales e intransferibles contribuyen a estigmatizar la experiencia de la maternidad?**  \n",
              "**Respuesta:** Porque son unos permisos en los cuales básicamente se antepone el mercado y el empleo a la crianza. Porque si se considera, en relación al permiso de maternidad, que 16 semanas son suficientes para acompañar a la criatura después de nacer, son permisos que no tienen en cuenta esas necesidades de un bebé, que necesita estar con sus progenitores el máximo tiempo posible tras nacer, y que la fuente de alimento más beneficiosa es la leche materna.\n",
              "\n",
              "Este es un elemento del que no se acostumbra a hablar, pero que es una medida profundamente clasista. De los permisos actuales solo se benefician los progenitores que trabajan o han trabajado y cotizan, por lo que los sectores con menores recursos económicos no tienen acceso a ningún tipo de ayuda por maternidad o paternidad. Y en segundo lugar estos permisos iguales e intransferibles hacen que si tú como madre quieres estar más tiempo con tu criatura, quieres darle de mamar hasta los seis meses, solo aquellas mujeres con determinadas capacidades adquisitivas podrán hacerlo, porque solo ellas podrán tomarse una excedencia por su cuenta. **Es una idea clasista que convierte la crianza en un privilegio.**\n",
              "\n",
              "**Pregunta:** **¿Qué modelo, de los expuestos en el libro, considera más conveniente?**  \n",
              "**Respuesta:** Se tendrían que ampliar ambos permisos con un periodo de tiempo muy superior al actual, como de hecho hacen muchos países nórdicos, que dan un peso central a lo que es la ayuda a la maternidad y la crianza. Porque aquí cada año con los informes de la caída de la natalidad nos escandalizamos, pero no se hace absolutamente nada para revertirla. Apostaría por un modelo como los nórdicos, donde las bajas son más amplias que las que tenemos en el Estado español, y que pueden ser compartidas y una parte de ellas transferibles.\n",
              "\n",
              "**Pregunta:** **¿Por qué la lactancia tiene tanto espacio en el debate sobre la maternidad?**  \n",
              "**Respuesta:** El parto y la lactancia son dos partes esenciales en la crianza. Quería profundizar en el debate sobre la lactancia materna porque también en los feminismos hay un cierto debate sobre si se impone la teta o el biberón. Y me parecía interesante señalar e investigar cómo, a pesar de que cada vez se ha recuperado la lactancia materna —algo que es positivo, porque en los años setenta prácticamente desapareció—, aún el contexto social es adverso, contrariamente a lo que puede parecer en un primer momento.\n",
              "\n",
              "**Pregunta:** **En esa época se configura un discurso que asegura que el biberón da más libertad a las madres, y que además también facilita la incorporación al trabajo. ¿Cómo nos relacionamos hoy con estas dos ideas?**  \n",
              "**Respuesta:** Cuando yo reflexiono con una mirada crítica acerca de la lactancia artificial lo hago desde el punto de vista de los intereses económicos que hay detrás del negocio del biberón, no sobre lo que hace cada madre, porque por desgracia hacemos lo que buenamente podemos en nuestras circunstancias. Dicho esto, cuando se generalizó la lactancia artificial en los años setenta u ochenta, hay unos intereses empresariales claros. La generalización de la lactancia artificial supuso un negocio ingente para las empresas de la industria láctea y alimentaria, como Nestlé o Danone, de ahí que se promocionara como se hizo. Y lo que se hizo fue incidir en el personal sanitario para que este fuera proclive a promocionar la lactancia artificial en detrimento de la lactancia materna.\n",
              "\n",
              "Por otro lado, uno de los elementos que ha incomodado más al feminismo con respecto a la lactancia es el carácter biológico de la práctica, que es biosocial, hay un elemento cultural y otro biológico. Yo creo que desde el feminismo se trata de reconocer tanto el carácter biológico como cultural de la maternidad y de la lactancia, pero precisamente por esto, fruto de esta incomodidad, muchas veces se ha considerado que la maternidad era una práctica que encerraba a las madres en el hogar, que las alejaba del mercado de trabajo, y es necesario cambiar la mirada. Porque **dar de mamar es una práctica profundamente feminista,** e incluso diría que antineoliberal y anticapitalista. En la medida en que dar la teta no es solo lo mejor para la criatura (y hay determinadas circunstancias en las que dar el biberón es lo mejor), también es extremadamente beneficiosa para la mamá y en particular después del parto, por lo que implica de recuperación, de vínculo con la criatura. A la vez, la lactancia materna permite la autonomía de la mujer, porque no necesita gastar dinero, sabe lo que le da de comer, es kilómetro cero… Y si decía que dar la teta es antineoliberal es porque es una práctica que no beneficia al mercado, que necesita de unos tiempos y de un espacio que son contrarios a la lógica mercantil y productivista, y no tiene un impacto negativo en el medio ambiente.\n",
              "\n",
              "**Pregunta:** **Las madres que optan por dar el pecho también suelen hablar de que esto supone una desigualdad insalvable con el padre en la tarea de cuidados.**  \n",
              "**Respuesta:** **Dar el biberón per se no te hace más libre como mujer, ni es un mecanismo de igualdad.** Basta con ver a las madres que dan el biberón y crían en soledad. Tampoco la teta per se te hace más libre. El carácter biológico de la lactancia es innegable, pero esto no implica que el padre no pueda implicarse en muchas otras tareas. Los bebés no solo se despiertan por la noche porque quieren mamar, sino por muchas otras circunstancias. Criar en igualdad no tiene tanto que ver con cómo alimentamos a la criatura nada más nacer, sino con muchos otros elementos vinculados a la relación de pareja y con un entorno social que es hostil a la maternidad y a la crianza.\n",
              "\n",
              "**Pregunta:** **La tercera pata del libro aborda la violencia obstétrica, y habla de una evolución progresiva en los hospitales. ¿Cuál es el panorama general ahora mismo?**  \n",
              "**Respuesta:** Ha habido una serie de cambios muy significativos en relación a la atención al parto en el sistema hospitalario, que se han producido gracias y en parte a organizaciones de mujeres que han reivindicado un parto respetado. Sin *El parto es nuestro* no se entenderían los cambios en la atención sanitaria. Pero aún así, en la medida en que muchas de estas modificaciones que se han hecho a nivel gubernamental son de cumplimiento voluntario, aún existen muchas malas prácticas del personal sanitario, debido a que hay una serie de mitos y prejuicios en relación al nacimiento que acaban justificando estas prácticas. Y de hecho solo es necesario ver los porcentajes de cesáreas, de episiotomías, de partos instrumentales que se llevan a cabo, que son muy superiores de los que la Organización Mundial de la Salud considera razonables. Esto tiene un impacto físico y psíquico en las mujeres, y también en las criaturas.\n",
              "\n",
              "**Pregunta:** **Llama particularmente la atención las cifras de episiotomía, que indican que se dan en España en el 43% de los partos frente al tope del 15% que recomienda la OMS. ¿Hay una carga cultural en esto?**  \n",
              "**Respuesta:** Más que una carga cultural hay unas prácticas médicas que consideran que en la medida en que el parto es una enfermedad, la atención al parto se aborda desde este punto de vista y esto dificulta que el proceso del parto se dé de manera natural. Estas prácticas facilitan el trabajo médico, pero tienen consecuencias negativas. En el caso de la episiotomía, particularmente, por lo que implica de problemas de micción, en las relaciones sexuales, etcétera. Hoy, cuatro de cada 10 mujeres que dan a luz sufren una episiotomía: hemos mejorado, porque en el año 95 eran 9 de cada 10. En los países nórdicos es 1 de cada 10. No creo que el periné de las mujeres españolas sea distinto al periné de las mujeres suecas. Si esto se produce es porque hay detrás unas prácticas médicas que consideran que esto es correcto. Hay que cambiar la formación médica para darle una perspectiva feminista y de género.\n",
              "\n",
              "**Pregunta:** **En el libro se pregunta dónde están las comadronas, y también se plantea el problema de la formación. ¿Cómo se relacionan estos dos aspectos, qué se aprende en las universidades y quienes llegan a atender el parto?**  \n",
              "**Respuesta:** Decíamos que hay una visión por parte del personal sanitario patológica, que se ve como una enfermedad, y esta visión es compartida por la sociedad. Y en la medida en que la sociedad no reconoce el parto como un proceso fisiológico, es difícil conseguir que haya un parto respetado. Yo digo que la violencia obstétrica es la última frontera de la violencia de género porque es una violencia aceptada, por los profesionales, por las mujeres afectadas y por sus allegados. Se considera que el parto es eso. Y por eso pensamos siempre que el personal mejor preparado para atender al parto es un ginecólogo, cuando en los partos de bajo riesgo es la comadrona. Hay que reivindicar la figura de la comadrona en la atención al parto y su plena autonomía como profesionales de la salud.\n",
              "\n",
              "**Pregunta:** **¿Comadronas y madres son aliadas?**  \n",
              "**Respuesta:** Sí, por supuesto. Lo que señalan muchos estudios es que en la medida en que el parto es llevado por comadronas, el grado de satisfacción de las mujeres que dan a luz es superior. El problema es que hay una profunda relación jerárquica en el sistema hospitalario que tienes a menospreciarlas. A la vez hay una falta también de este personal en los hospitales, que va en detrimento de la calidad de la atención al parto. Que haya más comadronas revierte positivamente en la salud de las mujeres.\n",
              "\n",
              "El 85% de excedencias para el cuidado de hijos tramitadas hasta marzo de 2021 fueron solicitadas por las madres.\n",
              "\n",
              "**Pregunta:** **¿Cuál considera que debe ser el lugar desde el que se reclamen estas reivindicaciones alrededor de la maternidad?**  \n",
              "**Respuesta:** Por un lado, es necesario que el feminismo reivindique la maternidad y la experiencia materna al margen de las imposiciones del sistema. Creo que esta nueva ola feminista, este feminismo del 99%, incorpore la maternidad a sus demandas y que se normalice la relación entre feminismos y maternidad. No como algo idílico o romántico, sino como experiencia y dándole el valor sociopolítico y económico que tiene. Luego están los grupos de crianza, los grupos de apoyo a la lactancia materna, creo que es importante que se sumen a esta oleada feminista en auge y que apuesten por una maternidad transformadora a la hora de llevar a cabo sus reivindicaciones. Porque la maternidad no es una cuestión individual, es una cuestión política. Porque si queremos vivir una maternidad digna lo que tenemos que hacer es cambiar el entorno socioeconómico. Y este cambio radical del sistema solo puede hacerse con el apoyo de otros movimientos sociales."
            ],
            "text/plain": [
              "<IPython.core.display.Markdown object>"
            ]
          },
          "metadata": {},
          "output_type": "display_data"
        }
      ],
      "source": [
        "estilizador_output = resultado.tasks_output[3].raw\n",
        "display(Markdown(estilizador_output))"
      ]
    },
    {
      "cell_type": "code",
      "execution_count": 72,
      "metadata": {
        "colab": {
          "base_uri": "https://localhost:8080/",
          "height": 1000
        },
        "id": "ttNiC_LV1UGu",
        "outputId": "ae2913d1-b454-4e6d-ea04-7b5bffd95f13"
      },
      "outputs": [],
      "source": [
        "# display(Markdown(resultado.raw))"
      ]
    }
  ],
  "metadata": {
    "colab": {
      "provenance": []
    },
    "kernelspec": {
      "display_name": ".venv",
      "language": "python",
      "name": "python3"
    },
    "language_info": {
      "codemirror_mode": {
        "name": "ipython",
        "version": 3
      },
      "file_extension": ".py",
      "mimetype": "text/x-python",
      "name": "python",
      "nbconvert_exporter": "python",
      "pygments_lexer": "ipython3",
      "version": "3.12.3"
    }
  },
  "nbformat": 4,
  "nbformat_minor": 0
}
