{
  "cells": [
    {
      "cell_type": "markdown",
      "metadata": {
        "id": "5PQIQhK8Z2Kz"
      },
      "source": [
        "# Imports"
      ]
    },
    {
      "cell_type": "code",
      "execution_count": 1,
      "metadata": {
        "id": "NuxhN3l48W_9"
      },
      "outputs": [],
      "source": [
        "import warnings\n",
        "warnings.filterwarnings('ignore')"
      ]
    },
    {
      "cell_type": "code",
      "execution_count": 2,
      "metadata": {
        "id": "Cj-0i1n0TXJs"
      },
      "outputs": [],
      "source": [
        "import configparser\n",
        "import openai\n",
        "import os\n",
        "\n",
        "config = configparser.ConfigParser()\n",
        "config.read('../pruebas_openai/config.ini')\n",
        "\n",
        "OPENAI_MODEL = config['DEFAULT']['OPENAI_MODEL']\n",
        "openai.api_key = config['DEFAULT']['OPENAI_API_KEY']\n",
        "OPENAI_API_KEY = config['DEFAULT']['OPENAI_API_KEY']\n",
        "os.environ[\"OPENAI_API_KEY\"] = OPENAI_API_KEY"
      ]
    },
    {
      "cell_type": "code",
      "execution_count": 3,
      "metadata": {
        "id": "lEcd2r0LZoP1"
      },
      "outputs": [],
      "source": [
        "from crewai import Agent, Task, Crew\n",
        "from crewai.tools import BaseTool\n",
        "from langchain.chat_models import ChatOpenAI\n",
        "import requests\n",
        "from IPython.display import Markdown\n",
        "import pandas as pd"
      ]
    },
    {
      "cell_type": "markdown",
      "metadata": {},
      "source": [
        "# Artículos"
      ]
    },
    {
      "cell_type": "code",
      "execution_count": 4,
      "metadata": {},
      "outputs": [],
      "source": [
        "data = pd.read_csv(\"../data/contenido_2023_04_05_matriz_not_julia.csv\")\n",
        "data = data.iloc[[23]]"
      ]
    },
    {
      "cell_type": "code",
      "execution_count": 5,
      "metadata": {},
      "outputs": [
        {
          "data": {
            "text/plain": [
              "'Ni la pandemia ni el cáncer de mama del que le operaron hace ahora un año han parado a Mabel Lozano en su lucha contra la prostitución y la trata, temas sobre los que tiene mucho que decir. Ganadora de un Goya al mejor cortometraje documental por \\'Biografía del cadáver de una mujer\\', ahora está metida en dos proyectos, un corto y un largo, escribiendo un libro sobre esa enfermedad y leyendo guiones que le han ofrecido como directora.\\n\\nMabel Lozano: \"La prostitución sigue funcionando, porque los clientes encuentran triquiñuelas para ir a los pisos\"\\n\\nHablamos hace un año, en pleno confinamiento, y me dijiste que la prostitución seguía funcionando incluso en esos momentos. ¿Qué consecuencias ha tenido en ella la pandemia?\\n\\nHa sido terrible. Las prostitutas son las más vulnerables: algunas han llegado a pasar mucha hambre, otras han aumentado su deuda y no han tenido ni 10 dólares para mandar a sus países de origen... y en numerosos casos hemos visto que la prostitución ha migrado a las fronteras digitales. Muchas, sobre todo las jóvenes, han estado recibiendo a ese demandante de sexo de pago a través de las nuevas tecnologías.\\n\\nEl Gobierno se mueve en torno a este tema.\\n\\nLa ministra de Igualdad, Irene Montero, está preparando una ley que se va a presentar ya en el Congreso, la de Libertad sexual, la famosa del \\'sí es sí\\', en la que se va a abordar el tema de las tercerías locativas, es decir, el proxenetismo consentido. En España las mujeres ejercen la prostitución por cuenta de un tercero, que es el que se lucra. Hay que ir hacia el lobby proxeneta para que nadie pueda lucrarse de la prostitución de otro. Lo que no aborda esta ley, y sería muy importante, es que las fuerzas y cuerpos de seguridad del Estado, la judicatura y sobre todo la fiscalía contaran con especialistas en este tema, igual que lo han hecho con la violencia de género.\\n\\n¿Estás a favor de esta ley?\\n\\nAbsolutamente a favor de que introduzca el tema de las tercerías locativas. Pero podría haber sido mucho más valiente y haber abordado la fiscalía especializada. En el ámbito de la violencia de género se ha dado un paso al frente porque se ha hecho esto.\\n\\n¿Y las Comunidades Autónomas están haciendo algo?\\n\\nEstamos viendo iniciativas para hacer políticas abolicionistas, es decir, revestir de derechos a las mujeres, abordar el tema de la reinserción, de la educación sexual de los jóvenes... Eso está muy bien, pero es un parche, porque lo que necesitamos de verdad es una ley orgánica abolicionista. ¿Por qué no la hacemos?\\n\\n¿Hay algún país que haya legislado y estés de acuerdo con cómo lo ha hecho?\\n\\nEl último en legislar estas políticas abolicionistas es Francia, con una ley mucho más avanzada, que viste de derechos a las mujeres. Porque de lo que se trata es de dar alternativas y oportunidades. ¿Erradica la prostitucion y la trata al cien por cien? No, y en muchos casos la esconde, pero hay menos explotación.\\n\\n¿En qué cifras nos movemos en España de clientes de la prostitución? ¿Es el país con más clientes de Europa?\\n\\nHay una encuesta que dice, y no lo digo yo, porque a todos los que les pregunto me dicen que no, que un 38% de los hombres españoles reconoce utilizarla, lo que corresponde a 8 millones y medio. Es el país de Europa que más consume y uno de los más del mundo, porque la prostitución está muy normalizada y legitimada.\\n\\n¿A qué puede deberse esto?\\n\\nA que está enquistada desde siempre, de toda la vida, y se normaliza también por la falta de educación sexual. No la hay. Nuestros chavales están \\'educando\\' la sexualidad en la pornografía, lo que les hace creer que tienen derecho a comprar a un ser humano. Nos hace falta muchísima educación en los entornos familiares y en los colegios. La Ley Celáa, de la que todo el mundo habla pestes, aborda la sexualidad como una asignatura, lo cual es magnífico.\\n\\n¿Cómo se enfrentan los jóvenes a la prostitución, es decir, cómo viene el futuro?\\n\\nViene lleno de pornografía, lo que llamo prostitución 2.0, la pornografía en vivo. Para escribir mi último libro, \\'PornoXplotación\\', investigué durante casi cinco años junto a un inspector de la policía y vimos que la prostitución está migrando a esas fronteras digitales, y es a eso a lo que vamos a tener que enfretarnos. La inteligencia artificial, que es magnífica y nos facilita la vida, también va a dejar muchas víctimas en los dos lados: por una parte niñas explotadas, secuestradas, engañadas, grooming, sexting..., y al otro lado de la pantalla niños cada vez más jóvenes que llegan a la pornografía sin un pensamiento crítico. Es un fenómeno que parece inocuo pero es peligrosísimo, turbio y en muchos casos a quienes la consumen desde muy temprana edad los vemos comprando mujeres en las rotondas a los 18, 19, 20 años... Es algo que no debería tener cabida en este siglo.\\n\\n¿Cuál es tu solución a esta lacra?\\n\\nNo es una lacra, sino un fenómeno delictivo, porque trata y prostitución van de la mano. Porque no se puede hablar de prostitución sin hablar de trata sexual, ni de esta sin la primera, y no se puede hablar de pornografía sin hablar de prostitución. Hay dos pilares muy importantes: la legislación -leyes orgánicas que penalicen este fenómeno delictivo, a los proxenetas y a los demandantes de sexo de pago como cómplices, y que den derechos a las mujeres- y la educación sexual de los jóvenes. A partir de ahí intentaremos poner un grano de arena todos, madres y padres, como educadores, porque si no lo dejamos todo en el tejado de los políticos. ¿Qué puedo hacer yo en mi casa? Soy educador. ¿Qué hago yo? Soy cineasta y utilizo el cine como herramienta de transformación social, acabo de ganar un Goya con \\'Biografía del cadáver de una mujer\\' y esto ha supuesto un altavoz de gran impacto, veo cómo se empieza a mover ficha. Hasta ahora no ha habido una voluntad política ni en el PP ni en el PSOE, pero no es el momento de parchear, sino de hacer leyes con valentía.\\n\\nConforme a los criterios de\\n\\nThe Trust Project\\n\\nSaber más'"
            ]
          },
          "execution_count": 5,
          "metadata": {},
          "output_type": "execute_result"
        }
      ],
      "source": [
        "# Texto de ejemplo\n",
        "texto_noticia = data['contenido'].values[0]\n",
        "texto_noticia"
      ]
    },
    {
      "cell_type": "markdown",
      "metadata": {
        "id": "zTseSPT2bemJ"
      },
      "source": [
        "# Define Agents"
      ]
    },
    {
      "cell_type": "code",
      "execution_count": 6,
      "metadata": {},
      "outputs": [
        {
          "name": "stderr",
          "output_type": "stream",
          "text": [
            "2025-04-08 13:41:40.282909: E external/local_xla/xla/stream_executor/cuda/cuda_fft.cc:477] Unable to register cuFFT factory: Attempting to register factory for plugin cuFFT when one has already been registered\n",
            "WARNING: All log messages before absl::InitializeLog() is called are written to STDERR\n",
            "E0000 00:00:1744112500.299275   26502 cuda_dnn.cc:8310] Unable to register cuDNN factory: Attempting to register factory for plugin cuDNN when one has already been registered\n",
            "E0000 00:00:1744112500.304400   26502 cuda_blas.cc:1418] Unable to register cuBLAS factory: Attempting to register factory for plugin cuBLAS when one has already been registered\n",
            "2025-04-08 13:41:40.320843: I tensorflow/core/platform/cpu_feature_guard.cc:210] This TensorFlow binary is optimized to use available CPU instructions in performance-critical operations.\n",
            "To enable the following instructions: AVX2 FMA, in other operations, rebuild TensorFlow with the appropriate compiler flags.\n"
          ]
        }
      ],
      "source": [
        "from langchain.llms import HuggingFacePipeline\n",
        "from transformers import AutoModelForCausalLM, AutoTokenizer, pipeline"
      ]
    },
    {
      "cell_type": "code",
      "execution_count": 7,
      "metadata": {},
      "outputs": [],
      "source": [
        "llm_openai = True"
      ]
    },
    {
      "cell_type": "code",
      "execution_count": 8,
      "metadata": {
        "id": "ppU_JNBZuqIg"
      },
      "outputs": [
        {
          "name": "stderr",
          "output_type": "stream",
          "text": [
            "/tmp/ipykernel_26502/479705634.py:3: LangChainDeprecationWarning: The class `ChatOpenAI` was deprecated in LangChain 0.0.10 and will be removed in 1.0. An updated version of the class exists in the :class:`~langchain-openai package and should be used instead. To use it run `pip install -U :class:`~langchain-openai` and import as `from :class:`~langchain_openai import ChatOpenAI``.\n",
            "  llm = ChatOpenAI(model_name=OPENAI_MODEL,\n"
          ]
        }
      ],
      "source": [
        "# Usando OpenAI\n",
        "if llm_openai:\n",
        "    llm = ChatOpenAI(model_name=OPENAI_MODEL,\n",
        "                    api_key= OPENAI_API_KEY,\n",
        "                    temperature=0.2)\n",
        "\n",
        "# Usando Salamandra-2B\n",
        "else:\n",
        "    model_name = \"BSC-LT/salamandra-2b\"\n",
        "    tokenizer = AutoTokenizer.from_pretrained(model_name)\n",
        "    model = AutoModelForCausalLM.from_pretrained(model_name)\n",
        "\n",
        "    text_generator = pipeline(\n",
        "        \"text-generation\",\n",
        "        model=model,\n",
        "        tokenizer=tokenizer,\n",
        "        max_new_tokens=512,\n",
        "        temperature=0.7,\n",
        "        do_sample=True,\n",
        "    )\n",
        "\n",
        "    llm = HuggingFacePipeline(pipeline=text_generator)"
      ]
    },
    {
      "cell_type": "code",
      "execution_count": 9,
      "metadata": {},
      "outputs": [],
      "source": [
        "# ----------------------\n",
        "# 1. Agente Perfilador\n",
        "# ----------------------\n",
        "def crear_perfilador(profesion, genero, politica):\n",
        "    pronombre = \"ella\" if genero == \"mujer\" else \"él\"\n",
        "    articulo = \"una\" if genero == \"mujer\" else \"un\"\n",
        "    role = f\"Perfilador ({profesion}, {genero}, {politica})\"\n",
        "\n",
        "    goal = (\n",
        "        \"Describir el perfil de cada agente involucrado en el análisis del texto, \"\n",
        "        \"incluyendo su profesión, género e ideología política.\"\n",
        "    )\n",
        "\n",
        "    backstory = (\n",
        "        f\"{articulo.capitalize()} {profesion} con identidad de género {genero} \"\n",
        "        f\"y orientación política {politica}. Su único rol es identificar y comunicar el perfil \"\n",
        "        \"del agente, sin realizar interpretaciones adicionales.\"\n",
        "    )\n",
        "\n",
        "    return Agent(\n",
        "        role=role,\n",
        "        goal=goal,\n",
        "        backstory=backstory,\n",
        "        verbose=True,\n",
        "        llm=llm\n",
        "    )"
      ]
    },
    {
      "cell_type": "code",
      "execution_count": 10,
      "metadata": {},
      "outputs": [],
      "source": [
        "# ----------------------\n",
        "# 2. Agente Analista\n",
        "# ----------------------\n",
        "def crear_analista():\n",
        "    role = \"Analista\"\n",
        "\n",
        "    goal = \"Detectar estereotipos, sesgos de género o lenguaje sexista en textos periodísticos.\"\n",
        "    backstory = \"Su labor es identificar sesgos implícitos o explícitos en el texto.\"\n",
        "\n",
        "    return Agent(\n",
        "        role=role,\n",
        "        goal=goal,\n",
        "        backstory=backstory,\n",
        "        verbose=True,\n",
        "        llm=llm\n",
        "    )"
      ]
    },
    {
      "cell_type": "code",
      "execution_count": 11,
      "metadata": {},
      "outputs": [],
      "source": [
        "# ----------------------\n",
        "# 3. Agente Redactor\n",
        "# ----------------------\n",
        "def crear_redactor():\n",
        "    role = \"Redactor\"\n",
        "    goal = \"Reescribir el texto original usando lenguaje inclusivo y eliminando estereotipos.\"\n",
        "    backstory = \"Se especializa en transformar lenguaje sesgado en narrativas igualitarias.\"\n",
        "\n",
        "    return Agent(\n",
        "        role=role,\n",
        "        goal=goal,\n",
        "        backstory=backstory,\n",
        "        verbose=True,\n",
        "        llm=llm\n",
        "    )"
      ]
    },
    {
      "cell_type": "code",
      "execution_count": 12,
      "metadata": {},
      "outputs": [],
      "source": [
        "# ----------------------\n",
        "# 4. Agente Estilizador\n",
        "# ----------------------\n",
        "def crear_estilizador():\n",
        "    role = \"Estilizador\"\n",
        "    goal = \"Convertir los resultados anteriores en un informe estructurado en Markdown.\"\n",
        "    backstory = \"Asistente especializado en presentación clara de resultados. No realiza análisis, sino que organiza y mejora la visualización del contenido.\"\n",
        "\n",
        "    return Agent(\n",
        "        role=role,\n",
        "        goal=goal,\n",
        "        backstory=backstory,\n",
        "        verbose=True,\n",
        "        llm=llm\n",
        "    )"
      ]
    },
    {
      "cell_type": "markdown",
      "metadata": {
        "id": "JC1gVbotbhnX"
      },
      "source": [
        "## Crear agentes"
      ]
    },
    {
      "cell_type": "code",
      "execution_count": 13,
      "metadata": {
        "colab": {
          "base_uri": "https://localhost:8080/"
        },
        "collapsed": true,
        "id": "9u1XCX0ybpaU",
        "outputId": "7cf887b2-756e-47bc-967f-18178670ae40"
      },
      "outputs": [],
      "source": [
        "# Define los parámetros para el agente perfilador\n",
        "profesion = \"obrero\" # \"jueza\", \"abogada\", \"periodista\", \"investigadora\", \"profesora\", \"médica\", \"psicóloga\", \"trabajadora social\"\n",
        "genero = \"hombre\" # \"mujer\", \"hombre\"\n",
        "politica = \"conservadora\" # \"progresista\", \"conservadora\", \"neutra\""
      ]
    },
    {
      "cell_type": "code",
      "execution_count": 14,
      "metadata": {},
      "outputs": [],
      "source": [
        "# Crear agentes\n",
        "agentes = {}\n",
        "\n",
        "# Crear tipos de agentes\n",
        "agentes[\"perfilador\"] = crear_perfilador(profesion, genero, politica)\n",
        "agentes[\"analista\"] = crear_analista()\n",
        "agentes[\"redactor\"] = crear_redactor()\n",
        "agentes[\"estilizador\"] = crear_estilizador()\n"
      ]
    },
    {
      "cell_type": "markdown",
      "metadata": {
        "id": "qOybVgj9bsW1"
      },
      "source": [
        "## Crear tareas"
      ]
    },
    {
      "cell_type": "code",
      "execution_count": 15,
      "metadata": {
        "id": "l67T3CiQb4Sm"
      },
      "outputs": [],
      "source": [
        "tareas = [\n",
        "    Task(\n",
        "        description=(\n",
        "            \"Tu tarea es describir el perfil del agente que ha realizado el análisis. \"\n",
        "            \"Solo debes identificar y comunicar las siguientes características del agente:\\n\\n\"\n",
        "            \"- Profesión del agente\\n\"\n",
        "            \"- Género del agente\\n\"\n",
        "            \"- Ideología política del agente\\n\\n\"\n",
        "            \"No debes hacer ningún análisis sobre el texto ni sobre el contenido de los análisis realizados.\"\n",
        "        ),\n",
        "        expected_output=(\n",
        "            \"Perfil del agente que ha realizado el análisis:\\n\"\n",
        "            f\"Profesión: {profesion}\\n\"\n",
        "            f\"Género: {genero}\\n\"\n",
        "            f\"Ideología política: {politica}\"\n",
        "        ),\n",
        "        agent=agentes[\"perfilador\"]\n",
        "    ),\n",
        "    Task(\n",
        "    description=(\n",
        "            f\"\"\"Analiza el siguiente texto completo con atención al contexto y la intención del autor.\n",
        "\n",
        "    Tu objetivo es detectar frases que perpetúen estereotipos, lenguaje sexista o sesgos de género de forma explícita o implícita.  \n",
        "    ⚠️ Ten en cuenta que algunas frases podrían parecer problemáticas en sí mismas, pero no lo son si el texto las está usando para **criticar** esos sesgos.  \n",
        "    No marques como sesgada ninguna frase si forma parte de una **denuncia o crítica** a ese mismo lenguaje.\n",
        "\n",
        "    1. Enumera las frases que verdaderamente refuercen o reproduzcan estereotipos o sesgos de género. Justifica cada una.\n",
        "    2. En el texto original:\n",
        "        - Usa `<span style=\"color: red; font-weight: bold;\">... </span>` para marcar frases con sesgos o estereotipos.\n",
        "\n",
        "    Texto original:\n",
        "    {texto_noticia}\n",
        "    \"\"\"\n",
        "        ),\n",
        "        expected_output=(\n",
        "            \"Frases problemáticas con justificación + texto original anotado con Markdown.\"\n",
        "        ),\n",
        "        agent=agentes[\"analista\"]\n",
        "    ),\n",
        "    Task(\n",
        "        description=\"Reescribe el texto con lenguaje inclusivo y sin estereotipos.\",\n",
        "        expected_output=\"Nueva versión del texto con lenguaje igualitario.\",\n",
        "        agent=agentes[\"redactor\"],\n",
        "        input=\"previous_task_output\"\n",
        "    ),\n",
        "    Task(\n",
        "        description=\"Toma todos los análisis anteriores y preséntalos en un informe en formato Markdown con títulos, listas, separadores y claridad visual.\",\n",
        "        expected_output=\"Informe en Markdown limpio y bien estructurado.\",\n",
        "        agent=agentes[\"estilizador\"],\n",
        "        input=\"previous_task_output\"\n",
        "    )\n",
        "]"
      ]
    },
    {
      "cell_type": "markdown",
      "metadata": {
        "id": "g6Us-hNsda3k"
      },
      "source": [
        "# Orchestrate Agents"
      ]
    },
    {
      "cell_type": "code",
      "execution_count": 16,
      "metadata": {
        "id": "UFrPpP_AY5tz"
      },
      "outputs": [],
      "source": [
        "crew = Crew(\n",
        "    agents=list(agentes.values()),\n",
        "    tasks=tareas,\n",
        "    verbose=True\n",
        ")"
      ]
    },
    {
      "cell_type": "markdown",
      "metadata": {
        "id": "Sv8tdk1tezvL"
      },
      "source": [
        "# Execute"
      ]
    },
    {
      "cell_type": "code",
      "execution_count": 17,
      "metadata": {
        "colab": {
          "base_uri": "https://localhost:8080/"
        },
        "id": "9DfmRfn5e0J8",
        "outputId": "2e0d5166-e047-42d0-ff8e-dd20051a1acf"
      },
      "outputs": [
        {
          "data": {
            "text/html": [
              "<pre style=\"white-space:pre;overflow-x:auto;line-height:normal;font-family:Menlo,'DejaVu Sans Mono',consolas,'Courier New',monospace\"><span style=\"color: #008080; text-decoration-color: #008080\">╭──────────────────────────────────────────── Crew Execution Started ─────────────────────────────────────────────╮</span>\n",
              "<span style=\"color: #008080; text-decoration-color: #008080\">│</span>                                                                                                                 <span style=\"color: #008080; text-decoration-color: #008080\">│</span>\n",
              "<span style=\"color: #008080; text-decoration-color: #008080\">│</span>  <span style=\"color: #008080; text-decoration-color: #008080; font-weight: bold\">Crew Execution Started</span>                                                                                         <span style=\"color: #008080; text-decoration-color: #008080\">│</span>\n",
              "<span style=\"color: #008080; text-decoration-color: #008080\">│</span>  <span style=\"color: #c0c0c0; text-decoration-color: #c0c0c0\">Name: </span><span style=\"color: #008080; text-decoration-color: #008080\">crew</span>                                                                                                     <span style=\"color: #008080; text-decoration-color: #008080\">│</span>\n",
              "<span style=\"color: #008080; text-decoration-color: #008080\">│</span>  <span style=\"color: #c0c0c0; text-decoration-color: #c0c0c0\">ID: </span><span style=\"color: #008080; text-decoration-color: #008080\">8e48eb0d-ac5e-4630-81a7-be3dc2086bc9</span>                                                                       <span style=\"color: #008080; text-decoration-color: #008080\">│</span>\n",
              "<span style=\"color: #008080; text-decoration-color: #008080\">│</span>                                                                                                                 <span style=\"color: #008080; text-decoration-color: #008080\">│</span>\n",
              "<span style=\"color: #008080; text-decoration-color: #008080\">│</span>                                                                                                                 <span style=\"color: #008080; text-decoration-color: #008080\">│</span>\n",
              "<span style=\"color: #008080; text-decoration-color: #008080\">╰─────────────────────────────────────────────────────────────────────────────────────────────────────────────────╯</span>\n",
              "</pre>\n"
            ],
            "text/plain": [
              "\u001b[36m╭─\u001b[0m\u001b[36m───────────────────────────────────────────\u001b[0m\u001b[36m Crew Execution Started \u001b[0m\u001b[36m────────────────────────────────────────────\u001b[0m\u001b[36m─╮\u001b[0m\n",
              "\u001b[36m│\u001b[0m                                                                                                                 \u001b[36m│\u001b[0m\n",
              "\u001b[36m│\u001b[0m  \u001b[1;36mCrew Execution Started\u001b[0m                                                                                         \u001b[36m│\u001b[0m\n",
              "\u001b[36m│\u001b[0m  \u001b[37mName: \u001b[0m\u001b[36mcrew\u001b[0m                                                                                                     \u001b[36m│\u001b[0m\n",
              "\u001b[36m│\u001b[0m  \u001b[37mID: \u001b[0m\u001b[36m8e48eb0d-ac5e-4630-81a7-be3dc2086bc9\u001b[0m                                                                       \u001b[36m│\u001b[0m\n",
              "\u001b[36m│\u001b[0m                                                                                                                 \u001b[36m│\u001b[0m\n",
              "\u001b[36m│\u001b[0m                                                                                                                 \u001b[36m│\u001b[0m\n",
              "\u001b[36m╰─────────────────────────────────────────────────────────────────────────────────────────────────────────────────╯\u001b[0m\n"
            ]
          },
          "metadata": {},
          "output_type": "display_data"
        },
        {
          "data": {
            "text/html": [
              "<pre style=\"white-space:pre;overflow-x:auto;line-height:normal;font-family:Menlo,'DejaVu Sans Mono',consolas,'Courier New',monospace\">\n",
              "</pre>\n"
            ],
            "text/plain": [
              "\n"
            ]
          },
          "metadata": {},
          "output_type": "display_data"
        },
        {
          "data": {
            "text/html": [
              "<pre style=\"white-space:pre;overflow-x:auto;line-height:normal;font-family:Menlo,'DejaVu Sans Mono',consolas,'Courier New',monospace\"><span style=\"color: #008080; text-decoration-color: #008080; font-weight: bold\">🚀 Crew: crew</span>\n",
              "└── <span style=\"color: #808000; text-decoration-color: #808000; font-weight: bold\">📋 Task: 96d5fd14-9b65-4fb2-90d8-6701356d1bf2</span>\n",
              "    <span style=\"color: #c0c0c0; text-decoration-color: #c0c0c0\">   Status: </span><span style=\"color: #bfbf7f; text-decoration-color: #bfbf7f\">Executing Task...</span>\n",
              "</pre>\n"
            ],
            "text/plain": [
              "\u001b[1;36m🚀 Crew: \u001b[0m\u001b[1;36mcrew\u001b[0m\n",
              "└── \u001b[1;33m📋 Task: 96d5fd14-9b65-4fb2-90d8-6701356d1bf2\u001b[0m\n",
              "    \u001b[37m   Status: \u001b[0m\u001b[2;33mExecuting Task...\u001b[0m\n"
            ]
          },
          "metadata": {},
          "output_type": "display_data"
        },
        {
          "data": {
            "text/html": [
              "<pre style=\"white-space:pre;overflow-x:auto;line-height:normal;font-family:Menlo,'DejaVu Sans Mono',consolas,'Courier New',monospace\">\n",
              "</pre>\n"
            ],
            "text/plain": [
              "\n"
            ]
          },
          "metadata": {},
          "output_type": "display_data"
        },
        {
          "data": {
            "text/html": [
              "<pre style=\"white-space:pre;overflow-x:auto;line-height:normal;font-family:Menlo,'DejaVu Sans Mono',consolas,'Courier New',monospace\"><span style=\"color: #008080; text-decoration-color: #008080; font-weight: bold\">🚀 Crew: crew</span>\n",
              "└── <span style=\"color: #808000; text-decoration-color: #808000; font-weight: bold\">📋 Task: 96d5fd14-9b65-4fb2-90d8-6701356d1bf2</span>\n",
              "    <span style=\"color: #c0c0c0; text-decoration-color: #c0c0c0\">   Status: </span><span style=\"color: #bfbf7f; text-decoration-color: #bfbf7f\">Executing Task...</span>\n",
              "    └── <span style=\"color: #008000; text-decoration-color: #008000; font-weight: bold\">🤖 Agent: </span><span style=\"color: #008000; text-decoration-color: #008000\">Perfilador (obrero, hombre, conservadora)</span>\n",
              "        <span style=\"color: #c0c0c0; text-decoration-color: #c0c0c0\">    Status: </span><span style=\"color: #008000; text-decoration-color: #008000; font-weight: bold\">In Progress</span>\n",
              "</pre>\n"
            ],
            "text/plain": [
              "\u001b[1;36m🚀 Crew: \u001b[0m\u001b[1;36mcrew\u001b[0m\n",
              "└── \u001b[1;33m📋 Task: 96d5fd14-9b65-4fb2-90d8-6701356d1bf2\u001b[0m\n",
              "    \u001b[37m   Status: \u001b[0m\u001b[2;33mExecuting Task...\u001b[0m\n",
              "    └── \u001b[1;32m🤖 Agent: \u001b[0m\u001b[32mPerfilador (obrero, hombre, conservadora)\u001b[0m\n",
              "        \u001b[37m    Status: \u001b[0m\u001b[1;32mIn Progress\u001b[0m\n"
            ]
          },
          "metadata": {},
          "output_type": "display_data"
        },
        {
          "data": {
            "text/html": [
              "<pre style=\"white-space:pre;overflow-x:auto;line-height:normal;font-family:Menlo,'DejaVu Sans Mono',consolas,'Courier New',monospace\">\n",
              "</pre>\n"
            ],
            "text/plain": [
              "\n"
            ]
          },
          "metadata": {},
          "output_type": "display_data"
        },
        {
          "name": "stdout",
          "output_type": "stream",
          "text": [
            "\u001b[1m\u001b[95m# Agent:\u001b[00m \u001b[1m\u001b[92mPerfilador (obrero, hombre, conservadora)\u001b[00m\n",
            "\u001b[95m## Task:\u001b[00m \u001b[92mTu tarea es describir el perfil del agente que ha realizado el análisis. Solo debes identificar y comunicar las siguientes características del agente:\n",
            "\n",
            "- Profesión del agente\n",
            "- Género del agente\n",
            "- Ideología política del agente\n",
            "\n",
            "No debes hacer ningún análisis sobre el texto ni sobre el contenido de los análisis realizados.\u001b[00m\n"
          ]
        },
        {
          "data": {
            "text/html": [
              "<pre style=\"white-space:pre;overflow-x:auto;line-height:normal;font-family:Menlo,'DejaVu Sans Mono',consolas,'Courier New',monospace\"><span style=\"color: #008080; text-decoration-color: #008080; font-weight: bold\">🚀 Crew: crew</span>\n",
              "└── <span style=\"color: #808000; text-decoration-color: #808000; font-weight: bold\">📋 Task: 96d5fd14-9b65-4fb2-90d8-6701356d1bf2</span>\n",
              "    <span style=\"color: #c0c0c0; text-decoration-color: #c0c0c0\">   Status: </span><span style=\"color: #bfbf7f; text-decoration-color: #bfbf7f\">Executing Task...</span>\n",
              "    └── <span style=\"color: #008000; text-decoration-color: #008000; font-weight: bold\">🤖 Agent: </span><span style=\"color: #008000; text-decoration-color: #008000\">Perfilador (obrero, hombre, conservadora)</span>\n",
              "        <span style=\"color: #c0c0c0; text-decoration-color: #c0c0c0\">    Status: </span><span style=\"color: #008000; text-decoration-color: #008000; font-weight: bold\">In Progress</span>\n",
              "        └── <span style=\"color: #000080; text-decoration-color: #000080; font-weight: bold\">🧠 </span><span style=\"color: #000080; text-decoration-color: #000080\">Thinking...</span>\n",
              "</pre>\n"
            ],
            "text/plain": [
              "\u001b[1;36m🚀 Crew: \u001b[0m\u001b[1;36mcrew\u001b[0m\n",
              "└── \u001b[1;33m📋 Task: 96d5fd14-9b65-4fb2-90d8-6701356d1bf2\u001b[0m\n",
              "    \u001b[37m   Status: \u001b[0m\u001b[2;33mExecuting Task...\u001b[0m\n",
              "    └── \u001b[1;32m🤖 Agent: \u001b[0m\u001b[32mPerfilador (obrero, hombre, conservadora)\u001b[0m\n",
              "        \u001b[37m    Status: \u001b[0m\u001b[1;32mIn Progress\u001b[0m\n",
              "        └── \u001b[1;34m🧠 \u001b[0m\u001b[34mThinking...\u001b[0m\n"
            ]
          },
          "metadata": {},
          "output_type": "display_data"
        },
        {
          "data": {
            "text/html": [
              "<pre style=\"white-space:pre;overflow-x:auto;line-height:normal;font-family:Menlo,'DejaVu Sans Mono',consolas,'Courier New',monospace\">\n",
              "</pre>\n"
            ],
            "text/plain": [
              "\n"
            ]
          },
          "metadata": {},
          "output_type": "display_data"
        },
        {
          "data": {
            "text/html": [
              "<pre style=\"white-space:pre;overflow-x:auto;line-height:normal;font-family:Menlo,'DejaVu Sans Mono',consolas,'Courier New',monospace\"><span style=\"color: #008080; text-decoration-color: #008080; font-weight: bold\">🚀 Crew: crew</span>\n",
              "└── <span style=\"color: #808000; text-decoration-color: #808000; font-weight: bold\">📋 Task: 96d5fd14-9b65-4fb2-90d8-6701356d1bf2</span>\n",
              "    <span style=\"color: #c0c0c0; text-decoration-color: #c0c0c0\">   Status: </span><span style=\"color: #bfbf7f; text-decoration-color: #bfbf7f\">Executing Task...</span>\n",
              "    └── <span style=\"color: #008000; text-decoration-color: #008000; font-weight: bold\">🤖 Agent: </span><span style=\"color: #008000; text-decoration-color: #008000\">Perfilador (obrero, hombre, conservadora)</span>\n",
              "        <span style=\"color: #c0c0c0; text-decoration-color: #c0c0c0\">    Status: </span><span style=\"color: #008000; text-decoration-color: #008000; font-weight: bold\">In Progress</span>\n",
              "</pre>\n"
            ],
            "text/plain": [
              "\u001b[1;36m🚀 Crew: \u001b[0m\u001b[1;36mcrew\u001b[0m\n",
              "└── \u001b[1;33m📋 Task: 96d5fd14-9b65-4fb2-90d8-6701356d1bf2\u001b[0m\n",
              "    \u001b[37m   Status: \u001b[0m\u001b[2;33mExecuting Task...\u001b[0m\n",
              "    └── \u001b[1;32m🤖 Agent: \u001b[0m\u001b[32mPerfilador (obrero, hombre, conservadora)\u001b[0m\n",
              "        \u001b[37m    Status: \u001b[0m\u001b[1;32mIn Progress\u001b[0m\n"
            ]
          },
          "metadata": {},
          "output_type": "display_data"
        },
        {
          "data": {
            "text/html": [
              "<pre style=\"white-space:pre;overflow-x:auto;line-height:normal;font-family:Menlo,'DejaVu Sans Mono',consolas,'Courier New',monospace\">\n",
              "</pre>\n"
            ],
            "text/plain": [
              "\n"
            ]
          },
          "metadata": {},
          "output_type": "display_data"
        },
        {
          "name": "stdout",
          "output_type": "stream",
          "text": [
            "\n",
            "\n",
            "\u001b[1m\u001b[95m# Agent:\u001b[00m \u001b[1m\u001b[92mPerfilador (obrero, hombre, conservadora)\u001b[00m\n",
            "\u001b[95m## Final Answer:\u001b[00m \u001b[92m\n",
            "Perfil del agente que ha realizado el análisis:  \n",
            "Profesión: obrero  \n",
            "Género: hombre  \n",
            "Ideología política: conservadora\u001b[00m\n",
            "\n",
            "\n"
          ]
        },
        {
          "data": {
            "text/html": [
              "<pre style=\"white-space:pre;overflow-x:auto;line-height:normal;font-family:Menlo,'DejaVu Sans Mono',consolas,'Courier New',monospace\"><span style=\"color: #008080; text-decoration-color: #008080; font-weight: bold\">🚀 Crew: crew</span>\n",
              "└── <span style=\"color: #808000; text-decoration-color: #808000; font-weight: bold\">📋 Task: 96d5fd14-9b65-4fb2-90d8-6701356d1bf2</span>\n",
              "    <span style=\"color: #c0c0c0; text-decoration-color: #c0c0c0\">   Status: </span><span style=\"color: #bfbf7f; text-decoration-color: #bfbf7f\">Executing Task...</span>\n",
              "    └── <span style=\"color: #008000; text-decoration-color: #008000; font-weight: bold\">🤖 Agent: </span><span style=\"color: #008000; text-decoration-color: #008000\">Perfilador (obrero, hombre, conservadora)</span>\n",
              "        <span style=\"color: #c0c0c0; text-decoration-color: #c0c0c0\">    Status: </span><span style=\"color: #008000; text-decoration-color: #008000; font-weight: bold\">✅ Completed</span>\n",
              "</pre>\n"
            ],
            "text/plain": [
              "\u001b[1;36m🚀 Crew: \u001b[0m\u001b[1;36mcrew\u001b[0m\n",
              "└── \u001b[1;33m📋 Task: 96d5fd14-9b65-4fb2-90d8-6701356d1bf2\u001b[0m\n",
              "    \u001b[37m   Status: \u001b[0m\u001b[2;33mExecuting Task...\u001b[0m\n",
              "    └── \u001b[1;32m🤖 Agent: \u001b[0m\u001b[32mPerfilador (obrero, hombre, conservadora)\u001b[0m\n",
              "        \u001b[37m    Status: \u001b[0m\u001b[1;32m✅ Completed\u001b[0m\n"
            ]
          },
          "metadata": {},
          "output_type": "display_data"
        },
        {
          "data": {
            "text/html": [
              "<pre style=\"white-space:pre;overflow-x:auto;line-height:normal;font-family:Menlo,'DejaVu Sans Mono',consolas,'Courier New',monospace\">\n",
              "</pre>\n"
            ],
            "text/plain": [
              "\n"
            ]
          },
          "metadata": {},
          "output_type": "display_data"
        },
        {
          "data": {
            "text/html": [
              "<pre style=\"white-space:pre;overflow-x:auto;line-height:normal;font-family:Menlo,'DejaVu Sans Mono',consolas,'Courier New',monospace\"><span style=\"color: #008080; text-decoration-color: #008080; font-weight: bold\">🚀 Crew: crew</span>\n",
              "└── <span style=\"color: #008000; text-decoration-color: #008000; font-weight: bold\">📋 Task: 96d5fd14-9b65-4fb2-90d8-6701356d1bf2</span>\n",
              "    <span style=\"color: #c0c0c0; text-decoration-color: #c0c0c0\">   Assigned to: </span><span style=\"color: #008000; text-decoration-color: #008000\">Perfilador (obrero, hombre, conservadora)</span>\n",
              "    <span style=\"color: #c0c0c0; text-decoration-color: #c0c0c0\">   Status: </span><span style=\"color: #008000; text-decoration-color: #008000; font-weight: bold\">✅ Completed</span>\n",
              "    └── <span style=\"color: #008000; text-decoration-color: #008000; font-weight: bold\">🤖 Agent: </span><span style=\"color: #008000; text-decoration-color: #008000\">Perfilador (obrero, hombre, conservadora)</span>\n",
              "        <span style=\"color: #c0c0c0; text-decoration-color: #c0c0c0\">    Status: </span><span style=\"color: #008000; text-decoration-color: #008000; font-weight: bold\">✅ Completed</span>\n",
              "</pre>\n"
            ],
            "text/plain": [
              "\u001b[1;36m🚀 Crew: \u001b[0m\u001b[1;36mcrew\u001b[0m\n",
              "└── \u001b[1;32m📋 Task: 96d5fd14-9b65-4fb2-90d8-6701356d1bf2\u001b[0m\n",
              "    \u001b[37m   Assigned to: \u001b[0m\u001b[32mPerfilador (obrero, hombre, conservadora)\u001b[0m\n",
              "    \u001b[37m   Status: \u001b[0m\u001b[1;32m✅ Completed\u001b[0m\n",
              "    └── \u001b[1;32m🤖 Agent: \u001b[0m\u001b[32mPerfilador (obrero, hombre, conservadora)\u001b[0m\n",
              "        \u001b[37m    Status: \u001b[0m\u001b[1;32m✅ Completed\u001b[0m\n"
            ]
          },
          "metadata": {},
          "output_type": "display_data"
        },
        {
          "data": {
            "text/html": [
              "<pre style=\"white-space:pre;overflow-x:auto;line-height:normal;font-family:Menlo,'DejaVu Sans Mono',consolas,'Courier New',monospace\"><span style=\"color: #008000; text-decoration-color: #008000\">╭──────────────────────────────────────────────── Task Completion ────────────────────────────────────────────────╮</span>\n",
              "<span style=\"color: #008000; text-decoration-color: #008000\">│</span>                                                                                                                 <span style=\"color: #008000; text-decoration-color: #008000\">│</span>\n",
              "<span style=\"color: #008000; text-decoration-color: #008000\">│</span>  <span style=\"color: #008000; text-decoration-color: #008000; font-weight: bold\">Task Completed</span>                                                                                                 <span style=\"color: #008000; text-decoration-color: #008000\">│</span>\n",
              "<span style=\"color: #008000; text-decoration-color: #008000\">│</span>  <span style=\"color: #c0c0c0; text-decoration-color: #c0c0c0\">Name: </span><span style=\"color: #008000; text-decoration-color: #008000\">96d5fd14-9b65-4fb2-90d8-6701356d1bf2</span>                                                                     <span style=\"color: #008000; text-decoration-color: #008000\">│</span>\n",
              "<span style=\"color: #008000; text-decoration-color: #008000\">│</span>  <span style=\"color: #c0c0c0; text-decoration-color: #c0c0c0\">Agent: </span><span style=\"color: #008000; text-decoration-color: #008000\">Perfilador (obrero, hombre, conservadora)</span>                                                               <span style=\"color: #008000; text-decoration-color: #008000\">│</span>\n",
              "<span style=\"color: #008000; text-decoration-color: #008000\">│</span>                                                                                                                 <span style=\"color: #008000; text-decoration-color: #008000\">│</span>\n",
              "<span style=\"color: #008000; text-decoration-color: #008000\">│</span>                                                                                                                 <span style=\"color: #008000; text-decoration-color: #008000\">│</span>\n",
              "<span style=\"color: #008000; text-decoration-color: #008000\">╰─────────────────────────────────────────────────────────────────────────────────────────────────────────────────╯</span>\n",
              "</pre>\n"
            ],
            "text/plain": [
              "\u001b[32m╭─\u001b[0m\u001b[32m───────────────────────────────────────────────\u001b[0m\u001b[32m Task Completion \u001b[0m\u001b[32m───────────────────────────────────────────────\u001b[0m\u001b[32m─╮\u001b[0m\n",
              "\u001b[32m│\u001b[0m                                                                                                                 \u001b[32m│\u001b[0m\n",
              "\u001b[32m│\u001b[0m  \u001b[1;32mTask Completed\u001b[0m                                                                                                 \u001b[32m│\u001b[0m\n",
              "\u001b[32m│\u001b[0m  \u001b[37mName: \u001b[0m\u001b[32m96d5fd14-9b65-4fb2-90d8-6701356d1bf2\u001b[0m                                                                     \u001b[32m│\u001b[0m\n",
              "\u001b[32m│\u001b[0m  \u001b[37mAgent: \u001b[0m\u001b[32mPerfilador (obrero, hombre, conservadora)\u001b[0m                                                               \u001b[32m│\u001b[0m\n",
              "\u001b[32m│\u001b[0m                                                                                                                 \u001b[32m│\u001b[0m\n",
              "\u001b[32m│\u001b[0m                                                                                                                 \u001b[32m│\u001b[0m\n",
              "\u001b[32m╰─────────────────────────────────────────────────────────────────────────────────────────────────────────────────╯\u001b[0m\n"
            ]
          },
          "metadata": {},
          "output_type": "display_data"
        },
        {
          "data": {
            "text/html": [
              "<pre style=\"white-space:pre;overflow-x:auto;line-height:normal;font-family:Menlo,'DejaVu Sans Mono',consolas,'Courier New',monospace\">\n",
              "</pre>\n"
            ],
            "text/plain": [
              "\n"
            ]
          },
          "metadata": {},
          "output_type": "display_data"
        },
        {
          "data": {
            "text/html": [
              "<pre style=\"white-space:pre;overflow-x:auto;line-height:normal;font-family:Menlo,'DejaVu Sans Mono',consolas,'Courier New',monospace\"><span style=\"color: #008080; text-decoration-color: #008080; font-weight: bold\">🚀 Crew: crew</span>\n",
              "├── <span style=\"color: #008000; text-decoration-color: #008000; font-weight: bold\">📋 Task: 96d5fd14-9b65-4fb2-90d8-6701356d1bf2</span>\n",
              "│   <span style=\"color: #c0c0c0; text-decoration-color: #c0c0c0\">   Assigned to: </span><span style=\"color: #008000; text-decoration-color: #008000\">Perfilador (obrero, hombre, conservadora)</span>\n",
              "│   <span style=\"color: #c0c0c0; text-decoration-color: #c0c0c0\">   Status: </span><span style=\"color: #008000; text-decoration-color: #008000; font-weight: bold\">✅ Completed</span>\n",
              "│   └── <span style=\"color: #008000; text-decoration-color: #008000; font-weight: bold\">🤖 Agent: </span><span style=\"color: #008000; text-decoration-color: #008000\">Perfilador (obrero, hombre, conservadora)</span>\n",
              "│       <span style=\"color: #c0c0c0; text-decoration-color: #c0c0c0\">    Status: </span><span style=\"color: #008000; text-decoration-color: #008000; font-weight: bold\">✅ Completed</span>\n",
              "└── <span style=\"color: #808000; text-decoration-color: #808000; font-weight: bold\">📋 Task: 6d23f0a6-83cc-4de8-b39c-a7d077256932</span>\n",
              "    <span style=\"color: #c0c0c0; text-decoration-color: #c0c0c0\">   Status: </span><span style=\"color: #bfbf7f; text-decoration-color: #bfbf7f\">Executing Task...</span>\n",
              "</pre>\n"
            ],
            "text/plain": [
              "\u001b[1;36m🚀 Crew: \u001b[0m\u001b[1;36mcrew\u001b[0m\n",
              "├── \u001b[1;32m📋 Task: 96d5fd14-9b65-4fb2-90d8-6701356d1bf2\u001b[0m\n",
              "│   \u001b[37m   Assigned to: \u001b[0m\u001b[32mPerfilador (obrero, hombre, conservadora)\u001b[0m\n",
              "│   \u001b[37m   Status: \u001b[0m\u001b[1;32m✅ Completed\u001b[0m\n",
              "│   └── \u001b[1;32m🤖 Agent: \u001b[0m\u001b[32mPerfilador (obrero, hombre, conservadora)\u001b[0m\n",
              "│       \u001b[37m    Status: \u001b[0m\u001b[1;32m✅ Completed\u001b[0m\n",
              "└── \u001b[1;33m📋 Task: 6d23f0a6-83cc-4de8-b39c-a7d077256932\u001b[0m\n",
              "    \u001b[37m   Status: \u001b[0m\u001b[2;33mExecuting Task...\u001b[0m\n"
            ]
          },
          "metadata": {},
          "output_type": "display_data"
        },
        {
          "data": {
            "text/html": [
              "<pre style=\"white-space:pre;overflow-x:auto;line-height:normal;font-family:Menlo,'DejaVu Sans Mono',consolas,'Courier New',monospace\">\n",
              "</pre>\n"
            ],
            "text/plain": [
              "\n"
            ]
          },
          "metadata": {},
          "output_type": "display_data"
        },
        {
          "data": {
            "text/html": [
              "<pre style=\"white-space:pre;overflow-x:auto;line-height:normal;font-family:Menlo,'DejaVu Sans Mono',consolas,'Courier New',monospace\"><span style=\"color: #008080; text-decoration-color: #008080; font-weight: bold\">🚀 Crew: crew</span>\n",
              "├── <span style=\"color: #008000; text-decoration-color: #008000; font-weight: bold\">📋 Task: 96d5fd14-9b65-4fb2-90d8-6701356d1bf2</span>\n",
              "│   <span style=\"color: #c0c0c0; text-decoration-color: #c0c0c0\">   Assigned to: </span><span style=\"color: #008000; text-decoration-color: #008000\">Perfilador (obrero, hombre, conservadora)</span>\n",
              "│   <span style=\"color: #c0c0c0; text-decoration-color: #c0c0c0\">   Status: </span><span style=\"color: #008000; text-decoration-color: #008000; font-weight: bold\">✅ Completed</span>\n",
              "│   └── <span style=\"color: #008000; text-decoration-color: #008000; font-weight: bold\">🤖 Agent: </span><span style=\"color: #008000; text-decoration-color: #008000\">Perfilador (obrero, hombre, conservadora)</span>\n",
              "│       <span style=\"color: #c0c0c0; text-decoration-color: #c0c0c0\">    Status: </span><span style=\"color: #008000; text-decoration-color: #008000; font-weight: bold\">✅ Completed</span>\n",
              "└── <span style=\"color: #808000; text-decoration-color: #808000; font-weight: bold\">📋 Task: 6d23f0a6-83cc-4de8-b39c-a7d077256932</span>\n",
              "    <span style=\"color: #c0c0c0; text-decoration-color: #c0c0c0\">   Status: </span><span style=\"color: #bfbf7f; text-decoration-color: #bfbf7f\">Executing Task...</span>\n",
              "    └── <span style=\"color: #008000; text-decoration-color: #008000; font-weight: bold\">🤖 Agent: </span><span style=\"color: #008000; text-decoration-color: #008000\">Analista</span>\n",
              "        <span style=\"color: #c0c0c0; text-decoration-color: #c0c0c0\">    Status: </span><span style=\"color: #008000; text-decoration-color: #008000; font-weight: bold\">In Progress</span>\n",
              "</pre>\n"
            ],
            "text/plain": [
              "\u001b[1;36m🚀 Crew: \u001b[0m\u001b[1;36mcrew\u001b[0m\n",
              "├── \u001b[1;32m📋 Task: 96d5fd14-9b65-4fb2-90d8-6701356d1bf2\u001b[0m\n",
              "│   \u001b[37m   Assigned to: \u001b[0m\u001b[32mPerfilador (obrero, hombre, conservadora)\u001b[0m\n",
              "│   \u001b[37m   Status: \u001b[0m\u001b[1;32m✅ Completed\u001b[0m\n",
              "│   └── \u001b[1;32m🤖 Agent: \u001b[0m\u001b[32mPerfilador (obrero, hombre, conservadora)\u001b[0m\n",
              "│       \u001b[37m    Status: \u001b[0m\u001b[1;32m✅ Completed\u001b[0m\n",
              "└── \u001b[1;33m📋 Task: 6d23f0a6-83cc-4de8-b39c-a7d077256932\u001b[0m\n",
              "    \u001b[37m   Status: \u001b[0m\u001b[2;33mExecuting Task...\u001b[0m\n",
              "    └── \u001b[1;32m🤖 Agent: \u001b[0m\u001b[32mAnalista\u001b[0m\n",
              "        \u001b[37m    Status: \u001b[0m\u001b[1;32mIn Progress\u001b[0m\n"
            ]
          },
          "metadata": {},
          "output_type": "display_data"
        },
        {
          "data": {
            "text/html": [
              "<pre style=\"white-space:pre;overflow-x:auto;line-height:normal;font-family:Menlo,'DejaVu Sans Mono',consolas,'Courier New',monospace\">\n",
              "</pre>\n"
            ],
            "text/plain": [
              "\n"
            ]
          },
          "metadata": {},
          "output_type": "display_data"
        },
        {
          "name": "stdout",
          "output_type": "stream",
          "text": [
            "\u001b[1m\u001b[95m# Agent:\u001b[00m \u001b[1m\u001b[92mAnalista\u001b[00m\n",
            "\u001b[95m## Task:\u001b[00m \u001b[92mAnaliza el siguiente texto completo con atención al contexto y la intención del autor.\n",
            "\n",
            "    Tu objetivo es detectar frases que perpetúen estereotipos, lenguaje sexista o sesgos de género de forma explícita o implícita.  \n",
            "    ⚠️ Ten en cuenta que algunas frases podrían parecer problemáticas en sí mismas, pero no lo son si el texto las está usando para **criticar** esos sesgos.  \n",
            "    No marques como sesgada ninguna frase si forma parte de una **denuncia o crítica** a ese mismo lenguaje.\n",
            "\n",
            "    1. Enumera las frases que verdaderamente refuercen o reproduzcan estereotipos o sesgos de género. Justifica cada una.\n",
            "    2. En el texto original:\n",
            "        - Usa `<span style=\"color: red; font-weight: bold;\">... </span>` para marcar frases con sesgos o estereotipos.\n",
            "\n",
            "    Texto original:\n",
            "    Ni la pandemia ni el cáncer de mama del que le operaron hace ahora un año han parado a Mabel Lozano en su lucha contra la prostitución y la trata, temas sobre los que tiene mucho que decir. Ganadora de un Goya al mejor cortometraje documental por 'Biografía del cadáver de una mujer', ahora está metida en dos proyectos, un corto y un largo, escribiendo un libro sobre esa enfermedad y leyendo guiones que le han ofrecido como directora.\n",
            "\n",
            "Mabel Lozano: \"La prostitución sigue funcionando, porque los clientes encuentran triquiñuelas para ir a los pisos\"\n",
            "\n",
            "Hablamos hace un año, en pleno confinamiento, y me dijiste que la prostitución seguía funcionando incluso en esos momentos. ¿Qué consecuencias ha tenido en ella la pandemia?\n",
            "\n",
            "Ha sido terrible. Las prostitutas son las más vulnerables: algunas han llegado a pasar mucha hambre, otras han aumentado su deuda y no han tenido ni 10 dólares para mandar a sus países de origen... y en numerosos casos hemos visto que la prostitución ha migrado a las fronteras digitales. Muchas, sobre todo las jóvenes, han estado recibiendo a ese demandante de sexo de pago a través de las nuevas tecnologías.\n",
            "\n",
            "El Gobierno se mueve en torno a este tema.\n",
            "\n",
            "La ministra de Igualdad, Irene Montero, está preparando una ley que se va a presentar ya en el Congreso, la de Libertad sexual, la famosa del 'sí es sí', en la que se va a abordar el tema de las tercerías locativas, es decir, el proxenetismo consentido. En España las mujeres ejercen la prostitución por cuenta de un tercero, que es el que se lucra. Hay que ir hacia el lobby proxeneta para que nadie pueda lucrarse de la prostitución de otro. Lo que no aborda esta ley, y sería muy importante, es que las fuerzas y cuerpos de seguridad del Estado, la judicatura y sobre todo la fiscalía contaran con especialistas en este tema, igual que lo han hecho con la violencia de género.\n",
            "\n",
            "¿Estás a favor de esta ley?\n",
            "\n",
            "Absolutamente a favor de que introduzca el tema de las tercerías locativas. Pero podría haber sido mucho más valiente y haber abordado la fiscalía especializada. En el ámbito de la violencia de género se ha dado un paso al frente porque se ha hecho esto.\n",
            "\n",
            "¿Y las Comunidades Autónomas están haciendo algo?\n",
            "\n",
            "Estamos viendo iniciativas para hacer políticas abolicionistas, es decir, revestir de derechos a las mujeres, abordar el tema de la reinserción, de la educación sexual de los jóvenes... Eso está muy bien, pero es un parche, porque lo que necesitamos de verdad es una ley orgánica abolicionista. ¿Por qué no la hacemos?\n",
            "\n",
            "¿Hay algún país que haya legislado y estés de acuerdo con cómo lo ha hecho?\n",
            "\n",
            "El último en legislar estas políticas abolicionistas es Francia, con una ley mucho más avanzada, que viste de derechos a las mujeres. Porque de lo que se trata es de dar alternativas y oportunidades. ¿Erradica la prostitucion y la trata al cien por cien? No, y en muchos casos la esconde, pero hay menos explotación.\n",
            "\n",
            "¿En qué cifras nos movemos en España de clientes de la prostitución? ¿Es el país con más clientes de Europa?\n",
            "\n",
            "Hay una encuesta que dice, y no lo digo yo, porque a todos los que les pregunto me dicen que no, que un 38% de los hombres españoles reconoce utilizarla, lo que corresponde a 8 millones y medio. Es el país de Europa que más consume y uno de los más del mundo, porque la prostitución está muy normalizada y legitimada.\n",
            "\n",
            "¿A qué puede deberse esto?\n",
            "\n",
            "A que está enquistada desde siempre, de toda la vida, y se normaliza también por la falta de educación sexual. No la hay. Nuestros chavales están 'educando' la sexualidad en la pornografía, lo que les hace creer que tienen derecho a comprar a un ser humano. Nos hace falta muchísima educación en los entornos familiares y en los colegios. La Ley Celáa, de la que todo el mundo habla pestes, aborda la sexualidad como una asignatura, lo cual es magnífico.\n",
            "\n",
            "¿Cómo se enfrentan los jóvenes a la prostitución, es decir, cómo viene el futuro?\n",
            "\n",
            "Viene lleno de pornografía, lo que llamo prostitución 2.0, la pornografía en vivo. Para escribir mi último libro, 'PornoXplotación', investigué durante casi cinco años junto a un inspector de la policía y vimos que la prostitución está migrando a esas fronteras digitales, y es a eso a lo que vamos a tener que enfretarnos. La inteligencia artificial, que es magnífica y nos facilita la vida, también va a dejar muchas víctimas en los dos lados: por una parte niñas explotadas, secuestradas, engañadas, grooming, sexting..., y al otro lado de la pantalla niños cada vez más jóvenes que llegan a la pornografía sin un pensamiento crítico. Es un fenómeno que parece inocuo pero es peligrosísimo, turbio y en muchos casos a quienes la consumen desde muy temprana edad los vemos comprando mujeres en las rotondas a los 18, 19, 20 años... Es algo que no debería tener cabida en este siglo.\n",
            "\n",
            "¿Cuál es tu solución a esta lacra?\n",
            "\n",
            "No es una lacra, sino un fenómeno delictivo, porque trata y prostitución van de la mano. Porque no se puede hablar de prostitución sin hablar de trata sexual, ni de esta sin la primera, y no se puede hablar de pornografía sin hablar de prostitución. Hay dos pilares muy importantes: la legislación -leyes orgánicas que penalicen este fenómeno delictivo, a los proxenetas y a los demandantes de sexo de pago como cómplices, y que den derechos a las mujeres- y la educación sexual de los jóvenes. A partir de ahí intentaremos poner un grano de arena todos, madres y padres, como educadores, porque si no lo dejamos todo en el tejado de los políticos. ¿Qué puedo hacer yo en mi casa? Soy educador. ¿Qué hago yo? Soy cineasta y utilizo el cine como herramienta de transformación social, acabo de ganar un Goya con 'Biografía del cadáver de una mujer' y esto ha supuesto un altavoz de gran impacto, veo cómo se empieza a mover ficha. Hasta ahora no ha habido una voluntad política ni en el PP ni en el PSOE, pero no es el momento de parchear, sino de hacer leyes con valentía.\n",
            "\n",
            "Conforme a los criterios de\n",
            "\n",
            "The Trust Project\n",
            "\n",
            "Saber más\n",
            "    \u001b[00m\n"
          ]
        },
        {
          "data": {
            "text/html": [
              "<pre style=\"white-space:pre;overflow-x:auto;line-height:normal;font-family:Menlo,'DejaVu Sans Mono',consolas,'Courier New',monospace\"><span style=\"color: #008080; text-decoration-color: #008080; font-weight: bold\">🚀 Crew: crew</span>\n",
              "├── <span style=\"color: #008000; text-decoration-color: #008000; font-weight: bold\">📋 Task: 96d5fd14-9b65-4fb2-90d8-6701356d1bf2</span>\n",
              "│   <span style=\"color: #c0c0c0; text-decoration-color: #c0c0c0\">   Assigned to: </span><span style=\"color: #008000; text-decoration-color: #008000\">Perfilador (obrero, hombre, conservadora)</span>\n",
              "│   <span style=\"color: #c0c0c0; text-decoration-color: #c0c0c0\">   Status: </span><span style=\"color: #008000; text-decoration-color: #008000; font-weight: bold\">✅ Completed</span>\n",
              "│   └── <span style=\"color: #008000; text-decoration-color: #008000; font-weight: bold\">🤖 Agent: </span><span style=\"color: #008000; text-decoration-color: #008000\">Perfilador (obrero, hombre, conservadora)</span>\n",
              "│       <span style=\"color: #c0c0c0; text-decoration-color: #c0c0c0\">    Status: </span><span style=\"color: #008000; text-decoration-color: #008000; font-weight: bold\">✅ Completed</span>\n",
              "└── <span style=\"color: #808000; text-decoration-color: #808000; font-weight: bold\">📋 Task: 6d23f0a6-83cc-4de8-b39c-a7d077256932</span>\n",
              "    <span style=\"color: #c0c0c0; text-decoration-color: #c0c0c0\">   Status: </span><span style=\"color: #bfbf7f; text-decoration-color: #bfbf7f\">Executing Task...</span>\n",
              "    └── <span style=\"color: #008000; text-decoration-color: #008000; font-weight: bold\">🤖 Agent: </span><span style=\"color: #008000; text-decoration-color: #008000\">Analista</span>\n",
              "        <span style=\"color: #c0c0c0; text-decoration-color: #c0c0c0\">    Status: </span><span style=\"color: #008000; text-decoration-color: #008000; font-weight: bold\">In Progress</span>\n",
              "        └── <span style=\"color: #000080; text-decoration-color: #000080; font-weight: bold\">🧠 </span><span style=\"color: #000080; text-decoration-color: #000080\">Thinking...</span>\n",
              "</pre>\n"
            ],
            "text/plain": [
              "\u001b[1;36m🚀 Crew: \u001b[0m\u001b[1;36mcrew\u001b[0m\n",
              "├── \u001b[1;32m📋 Task: 96d5fd14-9b65-4fb2-90d8-6701356d1bf2\u001b[0m\n",
              "│   \u001b[37m   Assigned to: \u001b[0m\u001b[32mPerfilador (obrero, hombre, conservadora)\u001b[0m\n",
              "│   \u001b[37m   Status: \u001b[0m\u001b[1;32m✅ Completed\u001b[0m\n",
              "│   └── \u001b[1;32m🤖 Agent: \u001b[0m\u001b[32mPerfilador (obrero, hombre, conservadora)\u001b[0m\n",
              "│       \u001b[37m    Status: \u001b[0m\u001b[1;32m✅ Completed\u001b[0m\n",
              "└── \u001b[1;33m📋 Task: 6d23f0a6-83cc-4de8-b39c-a7d077256932\u001b[0m\n",
              "    \u001b[37m   Status: \u001b[0m\u001b[2;33mExecuting Task...\u001b[0m\n",
              "    └── \u001b[1;32m🤖 Agent: \u001b[0m\u001b[32mAnalista\u001b[0m\n",
              "        \u001b[37m    Status: \u001b[0m\u001b[1;32mIn Progress\u001b[0m\n",
              "        └── \u001b[1;34m🧠 \u001b[0m\u001b[34mThinking...\u001b[0m\n"
            ]
          },
          "metadata": {},
          "output_type": "display_data"
        },
        {
          "data": {
            "text/html": [
              "<pre style=\"white-space:pre;overflow-x:auto;line-height:normal;font-family:Menlo,'DejaVu Sans Mono',consolas,'Courier New',monospace\">\n",
              "</pre>\n"
            ],
            "text/plain": [
              "\n"
            ]
          },
          "metadata": {},
          "output_type": "display_data"
        },
        {
          "data": {
            "text/html": [
              "<pre style=\"white-space:pre;overflow-x:auto;line-height:normal;font-family:Menlo,'DejaVu Sans Mono',consolas,'Courier New',monospace\"><span style=\"color: #008080; text-decoration-color: #008080; font-weight: bold\">🚀 Crew: crew</span>\n",
              "├── <span style=\"color: #008000; text-decoration-color: #008000; font-weight: bold\">📋 Task: 96d5fd14-9b65-4fb2-90d8-6701356d1bf2</span>\n",
              "│   <span style=\"color: #c0c0c0; text-decoration-color: #c0c0c0\">   Assigned to: </span><span style=\"color: #008000; text-decoration-color: #008000\">Perfilador (obrero, hombre, conservadora)</span>\n",
              "│   <span style=\"color: #c0c0c0; text-decoration-color: #c0c0c0\">   Status: </span><span style=\"color: #008000; text-decoration-color: #008000; font-weight: bold\">✅ Completed</span>\n",
              "│   └── <span style=\"color: #008000; text-decoration-color: #008000; font-weight: bold\">🤖 Agent: </span><span style=\"color: #008000; text-decoration-color: #008000\">Perfilador (obrero, hombre, conservadora)</span>\n",
              "│       <span style=\"color: #c0c0c0; text-decoration-color: #c0c0c0\">    Status: </span><span style=\"color: #008000; text-decoration-color: #008000; font-weight: bold\">✅ Completed</span>\n",
              "└── <span style=\"color: #808000; text-decoration-color: #808000; font-weight: bold\">📋 Task: 6d23f0a6-83cc-4de8-b39c-a7d077256932</span>\n",
              "    <span style=\"color: #c0c0c0; text-decoration-color: #c0c0c0\">   Status: </span><span style=\"color: #bfbf7f; text-decoration-color: #bfbf7f\">Executing Task...</span>\n",
              "    └── <span style=\"color: #008000; text-decoration-color: #008000; font-weight: bold\">🤖 Agent: </span><span style=\"color: #008000; text-decoration-color: #008000\">Analista</span>\n",
              "        <span style=\"color: #c0c0c0; text-decoration-color: #c0c0c0\">    Status: </span><span style=\"color: #008000; text-decoration-color: #008000; font-weight: bold\">In Progress</span>\n",
              "</pre>\n"
            ],
            "text/plain": [
              "\u001b[1;36m🚀 Crew: \u001b[0m\u001b[1;36mcrew\u001b[0m\n",
              "├── \u001b[1;32m📋 Task: 96d5fd14-9b65-4fb2-90d8-6701356d1bf2\u001b[0m\n",
              "│   \u001b[37m   Assigned to: \u001b[0m\u001b[32mPerfilador (obrero, hombre, conservadora)\u001b[0m\n",
              "│   \u001b[37m   Status: \u001b[0m\u001b[1;32m✅ Completed\u001b[0m\n",
              "│   └── \u001b[1;32m🤖 Agent: \u001b[0m\u001b[32mPerfilador (obrero, hombre, conservadora)\u001b[0m\n",
              "│       \u001b[37m    Status: \u001b[0m\u001b[1;32m✅ Completed\u001b[0m\n",
              "└── \u001b[1;33m📋 Task: 6d23f0a6-83cc-4de8-b39c-a7d077256932\u001b[0m\n",
              "    \u001b[37m   Status: \u001b[0m\u001b[2;33mExecuting Task...\u001b[0m\n",
              "    └── \u001b[1;32m🤖 Agent: \u001b[0m\u001b[32mAnalista\u001b[0m\n",
              "        \u001b[37m    Status: \u001b[0m\u001b[1;32mIn Progress\u001b[0m\n"
            ]
          },
          "metadata": {},
          "output_type": "display_data"
        },
        {
          "data": {
            "text/html": [
              "<pre style=\"white-space:pre;overflow-x:auto;line-height:normal;font-family:Menlo,'DejaVu Sans Mono',consolas,'Courier New',monospace\">\n",
              "</pre>\n"
            ],
            "text/plain": [
              "\n"
            ]
          },
          "metadata": {},
          "output_type": "display_data"
        },
        {
          "name": "stdout",
          "output_type": "stream",
          "text": [
            "\n",
            "\n",
            "\u001b[1m\u001b[95m# Agent:\u001b[00m \u001b[1m\u001b[92mAnalista\u001b[00m\n",
            "\u001b[95m## Final Answer:\u001b[00m \u001b[92m\n",
            "1. Frases que refuerzan o reproducen estereotipos o sesgos de género:\n",
            "\n",
            "   - \"Las prostitutas son las más vulnerables: algunas han llegado a pasar mucha hambre, otras han aumentado su deuda y no han tenido ni 10 dólares para mandar a sus países de origen...\"\n",
            "     - Justificación: Esta frase perpetúa el estereotipo de que las mujeres en la prostitución son siempre víctimas y no menciona su agencia o capacidad de decisión. Además, refuerza la idea de que las mujeres en esta situación son inherentemente débiles y dependientes.\n",
            "\n",
            "   - \"Nuestros chavales están 'educando' la sexualidad en la pornografía, lo que les hace creer que tienen derecho a comprar a un ser humano.\"\n",
            "     - Justificación: Aunque la frase critica la educación sexual deficiente, también implica que los hombres jóvenes son inherentemente consumidores de mujeres, lo que refuerza un estereotipo de género que asocia a los hombres con la objetivación y compra de mujeres.\n",
            "\n",
            "   - \"Es algo que no debería tener cabida en este siglo.\"\n",
            "     - Justificación: Esta frase puede interpretarse como una crítica a la prostitución, pero también puede implicar que la prostitución es un fenómeno que debería ser erradicado, lo que puede desestimar las experiencias y decisiones de las mujeres que eligen este camino, perpetuando la idea de que las mujeres no pueden tomar decisiones informadas sobre su propio cuerpo.\n",
            "\n",
            "2. Texto original anotado con Markdown:\n",
            "\n",
            "   Ni la pandemia ni el cáncer de mama del que le operaron hace ahora un año han parado a Mabel Lozano en su lucha contra la prostitución y la trata, temas sobre los que tiene mucho que decir. Ganadora de un Goya al mejor cortometraje documental por 'Biografía del cadáver de una mujer', ahora está metida en dos proyectos, un corto y un largo, escribiendo un libro sobre esa enfermedad y leyendo guiones que le han ofrecido como directora.\n",
            "\n",
            "   Mabel Lozano: \"La prostitución sigue funcionando, porque los clientes encuentran triquiñuelas para ir a los pisos\"\n",
            "\n",
            "   Hablamos hace un año, en pleno confinamiento, y me dijiste que la prostitución seguía funcionando incluso en esos momentos. ¿Qué consecuencias ha tenido en ella la pandemia?\n",
            "\n",
            "   Ha sido terrible. <span style=\"color: red; font-weight: bold;\">Las prostitutas son las más vulnerables: algunas han llegado a pasar mucha hambre, otras han aumentado su deuda y no han tenido ni 10 dólares para mandar a sus países de origen...</span> y en numerosos casos hemos visto que la prostitución ha migrado a las fronteras digitales. Muchas, sobre todo las jóvenes, han estado recibiendo a ese demandante de sexo de pago a través de las nuevas tecnologías.\n",
            "\n",
            "   El Gobierno se mueve en torno a este tema.\n",
            "\n",
            "   La ministra de Igualdad, Irene Montero, está preparando una ley que se va a presentar ya en el Congreso, la de Libertad sexual, la famosa del 'sí es sí', en la que se va a abordar el tema de las tercerías locativas, es decir, el proxenetismo consentido. En España las mujeres ejercen la prostitución por cuenta de un tercero, que es el que se lucra. Hay que ir hacia el lobby proxeneta para que nadie pueda lucrarse de la prostitución de otro. Lo que no aborda esta ley, y sería muy importante, es que las fuerzas y cuerpos de seguridad del Estado, la judicatura y sobre todo la fiscalía contaran con especialistas en este tema, igual que lo han hecho con la violencia de género.\n",
            "\n",
            "   ¿Estás a favor de esta ley?\n",
            "\n",
            "   Absolutamente a favor de que introduzca el tema de las tercerías locativas. Pero podría haber sido mucho más valiente y haber abordado la fiscalía especializada. En el ámbito de la violencia de género se ha dado un paso al frente porque se ha hecho esto.\n",
            "\n",
            "   ¿Y las Comunidades Autónomas están haciendo algo?\n",
            "\n",
            "   Estamos viendo iniciativas para hacer políticas abolicionistas, es decir, revestir de derechos a las mujeres, abordar el tema de la reinserción, de la educación sexual de los jóvenes... Eso está muy bien, pero es un parche, porque lo que necesitamos de verdad es una ley orgánica abolicionista. ¿Por qué no la hacemos?\n",
            "\n",
            "   ¿Hay algún país que haya legislado y estés de acuerdo con cómo lo ha hecho?\n",
            "\n",
            "   El último en legislar estas políticas abolicionistas es Francia, con una ley mucho más avanzada, que viste de derechos a las mujeres. Porque de lo que se trata es de dar alternativas y oportunidades. ¿Erradica la prostitución y la trata al cien por cien? No, y en muchos casos la esconde, pero hay menos explotación.\n",
            "\n",
            "   ¿En qué cifras nos movemos en España de clientes de la prostitución? ¿Es el país con más clientes de Europa?\n",
            "\n",
            "   Hay una encuesta que dice, y no lo digo yo, porque a todos los que les pregunto me dicen que no, que un 38% de los hombres españoles reconoce utilizarla, lo que corresponde a 8 millones y medio. Es el país de Europa que más consume y uno de los más del mundo, porque la prostitución está muy normalizada y legitimada.\n",
            "\n",
            "   ¿A qué puede deberse esto?\n",
            "\n",
            "   A que está enquistada desde siempre, de toda la vida, y se normaliza también por la falta de educación sexual. <span style=\"color: red; font-weight: bold;\">No la hay. Nuestros chavales están 'educando' la sexualidad en la pornografía, lo que les hace creer que tienen derecho a comprar a un ser humano.</span> Nos hace falta muchísima educación en los entornos familiares y en los colegios. La Ley Celáa, de la que todo el mundo habla pestes, aborda la sexualidad como una asignatura, lo cual es magnífico.\n",
            "\n",
            "   ¿Cómo se enfrentan los jóvenes a la prostitución, es decir, cómo viene el futuro?\n",
            "\n",
            "   Viene lleno de pornografía, lo que llamo prostitución 2.0, la pornografía en vivo. Para escribir mi último libro, 'PornoXplotación', investigué durante casi cinco años junto a un inspector de la policía y vimos que la prostitución está migrando a esas fronteras digitales, y es a eso a lo que vamos a tener que enfrentarnos. La inteligencia artificial, que es magnífica y nos facilita la vida, también va a dejar muchas víctimas en los dos lados: por una parte niñas explotadas, secuestradas, engañadas, grooming, sexting..., y al otro lado de la pantalla niños cada vez más jóvenes que llegan a la pornografía sin un pensamiento crítico. Es un fenómeno que parece inocuo pero es peligrosísimo, turbio y en muchos casos a quienes la consumen desde muy temprana edad los vemos comprando mujeres en las rotondas a los 18, 19, 20 años... <span style=\"color: red; font-weight: bold;\">Es algo que no debería tener cabida en este siglo.</span>\n",
            "\n",
            "   ¿Cuál es tu solución a esta lacra?\n",
            "\n",
            "   No es una lacra, sino un fenómeno delictivo, porque trata y prostitución van de la mano. Porque no se puede hablar de prostitución sin hablar de trata sexual, ni de esta sin la primera, y no se puede hablar de pornografía sin hablar de prostitución. Hay dos pilares muy importantes: la legislación -leyes orgánicas que penalicen este fenómeno delictivo, a los proxenetas y a los demandantes de sexo de pago como cómplices, y que den derechos a las mujeres- y la educación sexual de los jóvenes. A partir de ahí intentaremos poner un grano de arena todos, madres y padres, como educadores, porque si no lo dejamos todo en el tejado de los políticos. ¿Qué puedo hacer yo en mi casa? Soy educador. ¿Qué hago yo? Soy cineasta y utilizo el cine como herramienta de transformación social, acabo de ganar un Goya con 'Biografía del cadáver de una mujer' y esto ha supuesto un altavoz de gran impacto, veo cómo se empieza a mover ficha. Hasta ahora no ha habido una voluntad política ni en el PP ni en el PSOE, pero no es el momento de parchear, sino de hacer leyes con valentía.\u001b[00m\n",
            "\n",
            "\n"
          ]
        },
        {
          "data": {
            "text/html": [
              "<pre style=\"white-space:pre;overflow-x:auto;line-height:normal;font-family:Menlo,'DejaVu Sans Mono',consolas,'Courier New',monospace\"><span style=\"color: #008080; text-decoration-color: #008080; font-weight: bold\">🚀 Crew: crew</span>\n",
              "├── <span style=\"color: #008000; text-decoration-color: #008000; font-weight: bold\">📋 Task: 96d5fd14-9b65-4fb2-90d8-6701356d1bf2</span>\n",
              "│   <span style=\"color: #c0c0c0; text-decoration-color: #c0c0c0\">   Assigned to: </span><span style=\"color: #008000; text-decoration-color: #008000\">Perfilador (obrero, hombre, conservadora)</span>\n",
              "│   <span style=\"color: #c0c0c0; text-decoration-color: #c0c0c0\">   Status: </span><span style=\"color: #008000; text-decoration-color: #008000; font-weight: bold\">✅ Completed</span>\n",
              "│   └── <span style=\"color: #008000; text-decoration-color: #008000; font-weight: bold\">🤖 Agent: </span><span style=\"color: #008000; text-decoration-color: #008000\">Perfilador (obrero, hombre, conservadora)</span>\n",
              "│       <span style=\"color: #c0c0c0; text-decoration-color: #c0c0c0\">    Status: </span><span style=\"color: #008000; text-decoration-color: #008000; font-weight: bold\">✅ Completed</span>\n",
              "└── <span style=\"color: #808000; text-decoration-color: #808000; font-weight: bold\">📋 Task: 6d23f0a6-83cc-4de8-b39c-a7d077256932</span>\n",
              "    <span style=\"color: #c0c0c0; text-decoration-color: #c0c0c0\">   Status: </span><span style=\"color: #bfbf7f; text-decoration-color: #bfbf7f\">Executing Task...</span>\n",
              "    └── <span style=\"color: #008000; text-decoration-color: #008000; font-weight: bold\">🤖 Agent: </span><span style=\"color: #008000; text-decoration-color: #008000\">Analista</span>\n",
              "        <span style=\"color: #c0c0c0; text-decoration-color: #c0c0c0\">    Status: </span><span style=\"color: #008000; text-decoration-color: #008000; font-weight: bold\">✅ Completed</span>\n",
              "</pre>\n"
            ],
            "text/plain": [
              "\u001b[1;36m🚀 Crew: \u001b[0m\u001b[1;36mcrew\u001b[0m\n",
              "├── \u001b[1;32m📋 Task: 96d5fd14-9b65-4fb2-90d8-6701356d1bf2\u001b[0m\n",
              "│   \u001b[37m   Assigned to: \u001b[0m\u001b[32mPerfilador (obrero, hombre, conservadora)\u001b[0m\n",
              "│   \u001b[37m   Status: \u001b[0m\u001b[1;32m✅ Completed\u001b[0m\n",
              "│   └── \u001b[1;32m🤖 Agent: \u001b[0m\u001b[32mPerfilador (obrero, hombre, conservadora)\u001b[0m\n",
              "│       \u001b[37m    Status: \u001b[0m\u001b[1;32m✅ Completed\u001b[0m\n",
              "└── \u001b[1;33m📋 Task: 6d23f0a6-83cc-4de8-b39c-a7d077256932\u001b[0m\n",
              "    \u001b[37m   Status: \u001b[0m\u001b[2;33mExecuting Task...\u001b[0m\n",
              "    └── \u001b[1;32m🤖 Agent: \u001b[0m\u001b[32mAnalista\u001b[0m\n",
              "        \u001b[37m    Status: \u001b[0m\u001b[1;32m✅ Completed\u001b[0m\n"
            ]
          },
          "metadata": {},
          "output_type": "display_data"
        },
        {
          "data": {
            "text/html": [
              "<pre style=\"white-space:pre;overflow-x:auto;line-height:normal;font-family:Menlo,'DejaVu Sans Mono',consolas,'Courier New',monospace\">\n",
              "</pre>\n"
            ],
            "text/plain": [
              "\n"
            ]
          },
          "metadata": {},
          "output_type": "display_data"
        },
        {
          "data": {
            "text/html": [
              "<pre style=\"white-space:pre;overflow-x:auto;line-height:normal;font-family:Menlo,'DejaVu Sans Mono',consolas,'Courier New',monospace\"><span style=\"color: #008080; text-decoration-color: #008080; font-weight: bold\">🚀 Crew: crew</span>\n",
              "├── <span style=\"color: #008000; text-decoration-color: #008000; font-weight: bold\">📋 Task: 96d5fd14-9b65-4fb2-90d8-6701356d1bf2</span>\n",
              "│   <span style=\"color: #c0c0c0; text-decoration-color: #c0c0c0\">   Assigned to: </span><span style=\"color: #008000; text-decoration-color: #008000\">Perfilador (obrero, hombre, conservadora)</span>\n",
              "│   <span style=\"color: #c0c0c0; text-decoration-color: #c0c0c0\">   Status: </span><span style=\"color: #008000; text-decoration-color: #008000; font-weight: bold\">✅ Completed</span>\n",
              "│   └── <span style=\"color: #008000; text-decoration-color: #008000; font-weight: bold\">🤖 Agent: </span><span style=\"color: #008000; text-decoration-color: #008000\">Perfilador (obrero, hombre, conservadora)</span>\n",
              "│       <span style=\"color: #c0c0c0; text-decoration-color: #c0c0c0\">    Status: </span><span style=\"color: #008000; text-decoration-color: #008000; font-weight: bold\">✅ Completed</span>\n",
              "└── <span style=\"color: #008000; text-decoration-color: #008000; font-weight: bold\">📋 Task: 6d23f0a6-83cc-4de8-b39c-a7d077256932</span>\n",
              "    <span style=\"color: #c0c0c0; text-decoration-color: #c0c0c0\">   Assigned to: </span><span style=\"color: #008000; text-decoration-color: #008000\">Analista</span>\n",
              "    <span style=\"color: #c0c0c0; text-decoration-color: #c0c0c0\">   Status: </span><span style=\"color: #008000; text-decoration-color: #008000; font-weight: bold\">✅ Completed</span>\n",
              "    └── <span style=\"color: #008000; text-decoration-color: #008000; font-weight: bold\">🤖 Agent: </span><span style=\"color: #008000; text-decoration-color: #008000\">Analista</span>\n",
              "        <span style=\"color: #c0c0c0; text-decoration-color: #c0c0c0\">    Status: </span><span style=\"color: #008000; text-decoration-color: #008000; font-weight: bold\">✅ Completed</span>\n",
              "</pre>\n"
            ],
            "text/plain": [
              "\u001b[1;36m🚀 Crew: \u001b[0m\u001b[1;36mcrew\u001b[0m\n",
              "├── \u001b[1;32m📋 Task: 96d5fd14-9b65-4fb2-90d8-6701356d1bf2\u001b[0m\n",
              "│   \u001b[37m   Assigned to: \u001b[0m\u001b[32mPerfilador (obrero, hombre, conservadora)\u001b[0m\n",
              "│   \u001b[37m   Status: \u001b[0m\u001b[1;32m✅ Completed\u001b[0m\n",
              "│   └── \u001b[1;32m🤖 Agent: \u001b[0m\u001b[32mPerfilador (obrero, hombre, conservadora)\u001b[0m\n",
              "│       \u001b[37m    Status: \u001b[0m\u001b[1;32m✅ Completed\u001b[0m\n",
              "└── \u001b[1;32m📋 Task: 6d23f0a6-83cc-4de8-b39c-a7d077256932\u001b[0m\n",
              "    \u001b[37m   Assigned to: \u001b[0m\u001b[32mAnalista\u001b[0m\n",
              "    \u001b[37m   Status: \u001b[0m\u001b[1;32m✅ Completed\u001b[0m\n",
              "    └── \u001b[1;32m🤖 Agent: \u001b[0m\u001b[32mAnalista\u001b[0m\n",
              "        \u001b[37m    Status: \u001b[0m\u001b[1;32m✅ Completed\u001b[0m\n"
            ]
          },
          "metadata": {},
          "output_type": "display_data"
        },
        {
          "data": {
            "text/html": [
              "<pre style=\"white-space:pre;overflow-x:auto;line-height:normal;font-family:Menlo,'DejaVu Sans Mono',consolas,'Courier New',monospace\"><span style=\"color: #008000; text-decoration-color: #008000\">╭──────────────────────────────────────────────── Task Completion ────────────────────────────────────────────────╮</span>\n",
              "<span style=\"color: #008000; text-decoration-color: #008000\">│</span>                                                                                                                 <span style=\"color: #008000; text-decoration-color: #008000\">│</span>\n",
              "<span style=\"color: #008000; text-decoration-color: #008000\">│</span>  <span style=\"color: #008000; text-decoration-color: #008000; font-weight: bold\">Task Completed</span>                                                                                                 <span style=\"color: #008000; text-decoration-color: #008000\">│</span>\n",
              "<span style=\"color: #008000; text-decoration-color: #008000\">│</span>  <span style=\"color: #c0c0c0; text-decoration-color: #c0c0c0\">Name: </span><span style=\"color: #008000; text-decoration-color: #008000\">6d23f0a6-83cc-4de8-b39c-a7d077256932</span>                                                                     <span style=\"color: #008000; text-decoration-color: #008000\">│</span>\n",
              "<span style=\"color: #008000; text-decoration-color: #008000\">│</span>  <span style=\"color: #c0c0c0; text-decoration-color: #c0c0c0\">Agent: </span><span style=\"color: #008000; text-decoration-color: #008000\">Analista</span>                                                                                                <span style=\"color: #008000; text-decoration-color: #008000\">│</span>\n",
              "<span style=\"color: #008000; text-decoration-color: #008000\">│</span>                                                                                                                 <span style=\"color: #008000; text-decoration-color: #008000\">│</span>\n",
              "<span style=\"color: #008000; text-decoration-color: #008000\">│</span>                                                                                                                 <span style=\"color: #008000; text-decoration-color: #008000\">│</span>\n",
              "<span style=\"color: #008000; text-decoration-color: #008000\">╰─────────────────────────────────────────────────────────────────────────────────────────────────────────────────╯</span>\n",
              "</pre>\n"
            ],
            "text/plain": [
              "\u001b[32m╭─\u001b[0m\u001b[32m───────────────────────────────────────────────\u001b[0m\u001b[32m Task Completion \u001b[0m\u001b[32m───────────────────────────────────────────────\u001b[0m\u001b[32m─╮\u001b[0m\n",
              "\u001b[32m│\u001b[0m                                                                                                                 \u001b[32m│\u001b[0m\n",
              "\u001b[32m│\u001b[0m  \u001b[1;32mTask Completed\u001b[0m                                                                                                 \u001b[32m│\u001b[0m\n",
              "\u001b[32m│\u001b[0m  \u001b[37mName: \u001b[0m\u001b[32m6d23f0a6-83cc-4de8-b39c-a7d077256932\u001b[0m                                                                     \u001b[32m│\u001b[0m\n",
              "\u001b[32m│\u001b[0m  \u001b[37mAgent: \u001b[0m\u001b[32mAnalista\u001b[0m                                                                                                \u001b[32m│\u001b[0m\n",
              "\u001b[32m│\u001b[0m                                                                                                                 \u001b[32m│\u001b[0m\n",
              "\u001b[32m│\u001b[0m                                                                                                                 \u001b[32m│\u001b[0m\n",
              "\u001b[32m╰─────────────────────────────────────────────────────────────────────────────────────────────────────────────────╯\u001b[0m\n"
            ]
          },
          "metadata": {},
          "output_type": "display_data"
        },
        {
          "data": {
            "text/html": [
              "<pre style=\"white-space:pre;overflow-x:auto;line-height:normal;font-family:Menlo,'DejaVu Sans Mono',consolas,'Courier New',monospace\">\n",
              "</pre>\n"
            ],
            "text/plain": [
              "\n"
            ]
          },
          "metadata": {},
          "output_type": "display_data"
        },
        {
          "data": {
            "text/html": [
              "<pre style=\"white-space:pre;overflow-x:auto;line-height:normal;font-family:Menlo,'DejaVu Sans Mono',consolas,'Courier New',monospace\"><span style=\"color: #008080; text-decoration-color: #008080; font-weight: bold\">🚀 Crew: crew</span>\n",
              "├── <span style=\"color: #008000; text-decoration-color: #008000; font-weight: bold\">📋 Task: 96d5fd14-9b65-4fb2-90d8-6701356d1bf2</span>\n",
              "│   <span style=\"color: #c0c0c0; text-decoration-color: #c0c0c0\">   Assigned to: </span><span style=\"color: #008000; text-decoration-color: #008000\">Perfilador (obrero, hombre, conservadora)</span>\n",
              "│   <span style=\"color: #c0c0c0; text-decoration-color: #c0c0c0\">   Status: </span><span style=\"color: #008000; text-decoration-color: #008000; font-weight: bold\">✅ Completed</span>\n",
              "│   └── <span style=\"color: #008000; text-decoration-color: #008000; font-weight: bold\">🤖 Agent: </span><span style=\"color: #008000; text-decoration-color: #008000\">Perfilador (obrero, hombre, conservadora)</span>\n",
              "│       <span style=\"color: #c0c0c0; text-decoration-color: #c0c0c0\">    Status: </span><span style=\"color: #008000; text-decoration-color: #008000; font-weight: bold\">✅ Completed</span>\n",
              "├── <span style=\"color: #008000; text-decoration-color: #008000; font-weight: bold\">📋 Task: 6d23f0a6-83cc-4de8-b39c-a7d077256932</span>\n",
              "│   <span style=\"color: #c0c0c0; text-decoration-color: #c0c0c0\">   Assigned to: </span><span style=\"color: #008000; text-decoration-color: #008000\">Analista</span>\n",
              "│   <span style=\"color: #c0c0c0; text-decoration-color: #c0c0c0\">   Status: </span><span style=\"color: #008000; text-decoration-color: #008000; font-weight: bold\">✅ Completed</span>\n",
              "│   └── <span style=\"color: #008000; text-decoration-color: #008000; font-weight: bold\">🤖 Agent: </span><span style=\"color: #008000; text-decoration-color: #008000\">Analista</span>\n",
              "│       <span style=\"color: #c0c0c0; text-decoration-color: #c0c0c0\">    Status: </span><span style=\"color: #008000; text-decoration-color: #008000; font-weight: bold\">✅ Completed</span>\n",
              "└── <span style=\"color: #808000; text-decoration-color: #808000; font-weight: bold\">📋 Task: d1ca8720-34ac-4784-9d66-bc1b07a2f02c</span>\n",
              "    <span style=\"color: #c0c0c0; text-decoration-color: #c0c0c0\">   Status: </span><span style=\"color: #bfbf7f; text-decoration-color: #bfbf7f\">Executing Task...</span>\n",
              "</pre>\n"
            ],
            "text/plain": [
              "\u001b[1;36m🚀 Crew: \u001b[0m\u001b[1;36mcrew\u001b[0m\n",
              "├── \u001b[1;32m📋 Task: 96d5fd14-9b65-4fb2-90d8-6701356d1bf2\u001b[0m\n",
              "│   \u001b[37m   Assigned to: \u001b[0m\u001b[32mPerfilador (obrero, hombre, conservadora)\u001b[0m\n",
              "│   \u001b[37m   Status: \u001b[0m\u001b[1;32m✅ Completed\u001b[0m\n",
              "│   └── \u001b[1;32m🤖 Agent: \u001b[0m\u001b[32mPerfilador (obrero, hombre, conservadora)\u001b[0m\n",
              "│       \u001b[37m    Status: \u001b[0m\u001b[1;32m✅ Completed\u001b[0m\n",
              "├── \u001b[1;32m📋 Task: 6d23f0a6-83cc-4de8-b39c-a7d077256932\u001b[0m\n",
              "│   \u001b[37m   Assigned to: \u001b[0m\u001b[32mAnalista\u001b[0m\n",
              "│   \u001b[37m   Status: \u001b[0m\u001b[1;32m✅ Completed\u001b[0m\n",
              "│   └── \u001b[1;32m🤖 Agent: \u001b[0m\u001b[32mAnalista\u001b[0m\n",
              "│       \u001b[37m    Status: \u001b[0m\u001b[1;32m✅ Completed\u001b[0m\n",
              "└── \u001b[1;33m📋 Task: d1ca8720-34ac-4784-9d66-bc1b07a2f02c\u001b[0m\n",
              "    \u001b[37m   Status: \u001b[0m\u001b[2;33mExecuting Task...\u001b[0m\n"
            ]
          },
          "metadata": {},
          "output_type": "display_data"
        },
        {
          "data": {
            "text/html": [
              "<pre style=\"white-space:pre;overflow-x:auto;line-height:normal;font-family:Menlo,'DejaVu Sans Mono',consolas,'Courier New',monospace\">\n",
              "</pre>\n"
            ],
            "text/plain": [
              "\n"
            ]
          },
          "metadata": {},
          "output_type": "display_data"
        },
        {
          "data": {
            "text/html": [
              "<pre style=\"white-space:pre;overflow-x:auto;line-height:normal;font-family:Menlo,'DejaVu Sans Mono',consolas,'Courier New',monospace\"><span style=\"color: #008080; text-decoration-color: #008080; font-weight: bold\">🚀 Crew: crew</span>\n",
              "├── <span style=\"color: #008000; text-decoration-color: #008000; font-weight: bold\">📋 Task: 96d5fd14-9b65-4fb2-90d8-6701356d1bf2</span>\n",
              "│   <span style=\"color: #c0c0c0; text-decoration-color: #c0c0c0\">   Assigned to: </span><span style=\"color: #008000; text-decoration-color: #008000\">Perfilador (obrero, hombre, conservadora)</span>\n",
              "│   <span style=\"color: #c0c0c0; text-decoration-color: #c0c0c0\">   Status: </span><span style=\"color: #008000; text-decoration-color: #008000; font-weight: bold\">✅ Completed</span>\n",
              "│   └── <span style=\"color: #008000; text-decoration-color: #008000; font-weight: bold\">🤖 Agent: </span><span style=\"color: #008000; text-decoration-color: #008000\">Perfilador (obrero, hombre, conservadora)</span>\n",
              "│       <span style=\"color: #c0c0c0; text-decoration-color: #c0c0c0\">    Status: </span><span style=\"color: #008000; text-decoration-color: #008000; font-weight: bold\">✅ Completed</span>\n",
              "├── <span style=\"color: #008000; text-decoration-color: #008000; font-weight: bold\">📋 Task: 6d23f0a6-83cc-4de8-b39c-a7d077256932</span>\n",
              "│   <span style=\"color: #c0c0c0; text-decoration-color: #c0c0c0\">   Assigned to: </span><span style=\"color: #008000; text-decoration-color: #008000\">Analista</span>\n",
              "│   <span style=\"color: #c0c0c0; text-decoration-color: #c0c0c0\">   Status: </span><span style=\"color: #008000; text-decoration-color: #008000; font-weight: bold\">✅ Completed</span>\n",
              "│   └── <span style=\"color: #008000; text-decoration-color: #008000; font-weight: bold\">🤖 Agent: </span><span style=\"color: #008000; text-decoration-color: #008000\">Analista</span>\n",
              "│       <span style=\"color: #c0c0c0; text-decoration-color: #c0c0c0\">    Status: </span><span style=\"color: #008000; text-decoration-color: #008000; font-weight: bold\">✅ Completed</span>\n",
              "└── <span style=\"color: #808000; text-decoration-color: #808000; font-weight: bold\">📋 Task: d1ca8720-34ac-4784-9d66-bc1b07a2f02c</span>\n",
              "    <span style=\"color: #c0c0c0; text-decoration-color: #c0c0c0\">   Status: </span><span style=\"color: #bfbf7f; text-decoration-color: #bfbf7f\">Executing Task...</span>\n",
              "    └── <span style=\"color: #008000; text-decoration-color: #008000; font-weight: bold\">🤖 Agent: </span><span style=\"color: #008000; text-decoration-color: #008000\">Redactor</span>\n",
              "        <span style=\"color: #c0c0c0; text-decoration-color: #c0c0c0\">    Status: </span><span style=\"color: #008000; text-decoration-color: #008000; font-weight: bold\">In Progress</span>\n",
              "</pre>\n"
            ],
            "text/plain": [
              "\u001b[1;36m🚀 Crew: \u001b[0m\u001b[1;36mcrew\u001b[0m\n",
              "├── \u001b[1;32m📋 Task: 96d5fd14-9b65-4fb2-90d8-6701356d1bf2\u001b[0m\n",
              "│   \u001b[37m   Assigned to: \u001b[0m\u001b[32mPerfilador (obrero, hombre, conservadora)\u001b[0m\n",
              "│   \u001b[37m   Status: \u001b[0m\u001b[1;32m✅ Completed\u001b[0m\n",
              "│   └── \u001b[1;32m🤖 Agent: \u001b[0m\u001b[32mPerfilador (obrero, hombre, conservadora)\u001b[0m\n",
              "│       \u001b[37m    Status: \u001b[0m\u001b[1;32m✅ Completed\u001b[0m\n",
              "├── \u001b[1;32m📋 Task: 6d23f0a6-83cc-4de8-b39c-a7d077256932\u001b[0m\n",
              "│   \u001b[37m   Assigned to: \u001b[0m\u001b[32mAnalista\u001b[0m\n",
              "│   \u001b[37m   Status: \u001b[0m\u001b[1;32m✅ Completed\u001b[0m\n",
              "│   └── \u001b[1;32m🤖 Agent: \u001b[0m\u001b[32mAnalista\u001b[0m\n",
              "│       \u001b[37m    Status: \u001b[0m\u001b[1;32m✅ Completed\u001b[0m\n",
              "└── \u001b[1;33m📋 Task: d1ca8720-34ac-4784-9d66-bc1b07a2f02c\u001b[0m\n",
              "    \u001b[37m   Status: \u001b[0m\u001b[2;33mExecuting Task...\u001b[0m\n",
              "    └── \u001b[1;32m🤖 Agent: \u001b[0m\u001b[32mRedactor\u001b[0m\n",
              "        \u001b[37m    Status: \u001b[0m\u001b[1;32mIn Progress\u001b[0m\n"
            ]
          },
          "metadata": {},
          "output_type": "display_data"
        },
        {
          "data": {
            "text/html": [
              "<pre style=\"white-space:pre;overflow-x:auto;line-height:normal;font-family:Menlo,'DejaVu Sans Mono',consolas,'Courier New',monospace\">\n",
              "</pre>\n"
            ],
            "text/plain": [
              "\n"
            ]
          },
          "metadata": {},
          "output_type": "display_data"
        },
        {
          "name": "stdout",
          "output_type": "stream",
          "text": [
            "\u001b[1m\u001b[95m# Agent:\u001b[00m \u001b[1m\u001b[92mRedactor\u001b[00m\n",
            "\u001b[95m## Task:\u001b[00m \u001b[92mReescribe el texto con lenguaje inclusivo y sin estereotipos.\u001b[00m\n"
          ]
        },
        {
          "data": {
            "text/html": [
              "<pre style=\"white-space:pre;overflow-x:auto;line-height:normal;font-family:Menlo,'DejaVu Sans Mono',consolas,'Courier New',monospace\"><span style=\"color: #008080; text-decoration-color: #008080; font-weight: bold\">🚀 Crew: crew</span>\n",
              "├── <span style=\"color: #008000; text-decoration-color: #008000; font-weight: bold\">📋 Task: 96d5fd14-9b65-4fb2-90d8-6701356d1bf2</span>\n",
              "│   <span style=\"color: #c0c0c0; text-decoration-color: #c0c0c0\">   Assigned to: </span><span style=\"color: #008000; text-decoration-color: #008000\">Perfilador (obrero, hombre, conservadora)</span>\n",
              "│   <span style=\"color: #c0c0c0; text-decoration-color: #c0c0c0\">   Status: </span><span style=\"color: #008000; text-decoration-color: #008000; font-weight: bold\">✅ Completed</span>\n",
              "│   └── <span style=\"color: #008000; text-decoration-color: #008000; font-weight: bold\">🤖 Agent: </span><span style=\"color: #008000; text-decoration-color: #008000\">Perfilador (obrero, hombre, conservadora)</span>\n",
              "│       <span style=\"color: #c0c0c0; text-decoration-color: #c0c0c0\">    Status: </span><span style=\"color: #008000; text-decoration-color: #008000; font-weight: bold\">✅ Completed</span>\n",
              "├── <span style=\"color: #008000; text-decoration-color: #008000; font-weight: bold\">📋 Task: 6d23f0a6-83cc-4de8-b39c-a7d077256932</span>\n",
              "│   <span style=\"color: #c0c0c0; text-decoration-color: #c0c0c0\">   Assigned to: </span><span style=\"color: #008000; text-decoration-color: #008000\">Analista</span>\n",
              "│   <span style=\"color: #c0c0c0; text-decoration-color: #c0c0c0\">   Status: </span><span style=\"color: #008000; text-decoration-color: #008000; font-weight: bold\">✅ Completed</span>\n",
              "│   └── <span style=\"color: #008000; text-decoration-color: #008000; font-weight: bold\">🤖 Agent: </span><span style=\"color: #008000; text-decoration-color: #008000\">Analista</span>\n",
              "│       <span style=\"color: #c0c0c0; text-decoration-color: #c0c0c0\">    Status: </span><span style=\"color: #008000; text-decoration-color: #008000; font-weight: bold\">✅ Completed</span>\n",
              "└── <span style=\"color: #808000; text-decoration-color: #808000; font-weight: bold\">📋 Task: d1ca8720-34ac-4784-9d66-bc1b07a2f02c</span>\n",
              "    <span style=\"color: #c0c0c0; text-decoration-color: #c0c0c0\">   Status: </span><span style=\"color: #bfbf7f; text-decoration-color: #bfbf7f\">Executing Task...</span>\n",
              "    └── <span style=\"color: #008000; text-decoration-color: #008000; font-weight: bold\">🤖 Agent: </span><span style=\"color: #008000; text-decoration-color: #008000\">Redactor</span>\n",
              "        <span style=\"color: #c0c0c0; text-decoration-color: #c0c0c0\">    Status: </span><span style=\"color: #008000; text-decoration-color: #008000; font-weight: bold\">In Progress</span>\n",
              "        └── <span style=\"color: #000080; text-decoration-color: #000080; font-weight: bold\">🧠 </span><span style=\"color: #000080; text-decoration-color: #000080\">Thinking...</span>\n",
              "</pre>\n"
            ],
            "text/plain": [
              "\u001b[1;36m🚀 Crew: \u001b[0m\u001b[1;36mcrew\u001b[0m\n",
              "├── \u001b[1;32m📋 Task: 96d5fd14-9b65-4fb2-90d8-6701356d1bf2\u001b[0m\n",
              "│   \u001b[37m   Assigned to: \u001b[0m\u001b[32mPerfilador (obrero, hombre, conservadora)\u001b[0m\n",
              "│   \u001b[37m   Status: \u001b[0m\u001b[1;32m✅ Completed\u001b[0m\n",
              "│   └── \u001b[1;32m🤖 Agent: \u001b[0m\u001b[32mPerfilador (obrero, hombre, conservadora)\u001b[0m\n",
              "│       \u001b[37m    Status: \u001b[0m\u001b[1;32m✅ Completed\u001b[0m\n",
              "├── \u001b[1;32m📋 Task: 6d23f0a6-83cc-4de8-b39c-a7d077256932\u001b[0m\n",
              "│   \u001b[37m   Assigned to: \u001b[0m\u001b[32mAnalista\u001b[0m\n",
              "│   \u001b[37m   Status: \u001b[0m\u001b[1;32m✅ Completed\u001b[0m\n",
              "│   └── \u001b[1;32m🤖 Agent: \u001b[0m\u001b[32mAnalista\u001b[0m\n",
              "│       \u001b[37m    Status: \u001b[0m\u001b[1;32m✅ Completed\u001b[0m\n",
              "└── \u001b[1;33m📋 Task: d1ca8720-34ac-4784-9d66-bc1b07a2f02c\u001b[0m\n",
              "    \u001b[37m   Status: \u001b[0m\u001b[2;33mExecuting Task...\u001b[0m\n",
              "    └── \u001b[1;32m🤖 Agent: \u001b[0m\u001b[32mRedactor\u001b[0m\n",
              "        \u001b[37m    Status: \u001b[0m\u001b[1;32mIn Progress\u001b[0m\n",
              "        └── \u001b[1;34m🧠 \u001b[0m\u001b[34mThinking...\u001b[0m\n"
            ]
          },
          "metadata": {},
          "output_type": "display_data"
        },
        {
          "data": {
            "text/html": [
              "<pre style=\"white-space:pre;overflow-x:auto;line-height:normal;font-family:Menlo,'DejaVu Sans Mono',consolas,'Courier New',monospace\">\n",
              "</pre>\n"
            ],
            "text/plain": [
              "\n"
            ]
          },
          "metadata": {},
          "output_type": "display_data"
        },
        {
          "data": {
            "text/html": [
              "<pre style=\"white-space:pre;overflow-x:auto;line-height:normal;font-family:Menlo,'DejaVu Sans Mono',consolas,'Courier New',monospace\"><span style=\"color: #008080; text-decoration-color: #008080; font-weight: bold\">🚀 Crew: crew</span>\n",
              "├── <span style=\"color: #008000; text-decoration-color: #008000; font-weight: bold\">📋 Task: 96d5fd14-9b65-4fb2-90d8-6701356d1bf2</span>\n",
              "│   <span style=\"color: #c0c0c0; text-decoration-color: #c0c0c0\">   Assigned to: </span><span style=\"color: #008000; text-decoration-color: #008000\">Perfilador (obrero, hombre, conservadora)</span>\n",
              "│   <span style=\"color: #c0c0c0; text-decoration-color: #c0c0c0\">   Status: </span><span style=\"color: #008000; text-decoration-color: #008000; font-weight: bold\">✅ Completed</span>\n",
              "│   └── <span style=\"color: #008000; text-decoration-color: #008000; font-weight: bold\">🤖 Agent: </span><span style=\"color: #008000; text-decoration-color: #008000\">Perfilador (obrero, hombre, conservadora)</span>\n",
              "│       <span style=\"color: #c0c0c0; text-decoration-color: #c0c0c0\">    Status: </span><span style=\"color: #008000; text-decoration-color: #008000; font-weight: bold\">✅ Completed</span>\n",
              "├── <span style=\"color: #008000; text-decoration-color: #008000; font-weight: bold\">📋 Task: 6d23f0a6-83cc-4de8-b39c-a7d077256932</span>\n",
              "│   <span style=\"color: #c0c0c0; text-decoration-color: #c0c0c0\">   Assigned to: </span><span style=\"color: #008000; text-decoration-color: #008000\">Analista</span>\n",
              "│   <span style=\"color: #c0c0c0; text-decoration-color: #c0c0c0\">   Status: </span><span style=\"color: #008000; text-decoration-color: #008000; font-weight: bold\">✅ Completed</span>\n",
              "│   └── <span style=\"color: #008000; text-decoration-color: #008000; font-weight: bold\">🤖 Agent: </span><span style=\"color: #008000; text-decoration-color: #008000\">Analista</span>\n",
              "│       <span style=\"color: #c0c0c0; text-decoration-color: #c0c0c0\">    Status: </span><span style=\"color: #008000; text-decoration-color: #008000; font-weight: bold\">✅ Completed</span>\n",
              "└── <span style=\"color: #808000; text-decoration-color: #808000; font-weight: bold\">📋 Task: d1ca8720-34ac-4784-9d66-bc1b07a2f02c</span>\n",
              "    <span style=\"color: #c0c0c0; text-decoration-color: #c0c0c0\">   Status: </span><span style=\"color: #bfbf7f; text-decoration-color: #bfbf7f\">Executing Task...</span>\n",
              "    └── <span style=\"color: #008000; text-decoration-color: #008000; font-weight: bold\">🤖 Agent: </span><span style=\"color: #008000; text-decoration-color: #008000\">Redactor</span>\n",
              "        <span style=\"color: #c0c0c0; text-decoration-color: #c0c0c0\">    Status: </span><span style=\"color: #008000; text-decoration-color: #008000; font-weight: bold\">In Progress</span>\n",
              "</pre>\n"
            ],
            "text/plain": [
              "\u001b[1;36m🚀 Crew: \u001b[0m\u001b[1;36mcrew\u001b[0m\n",
              "├── \u001b[1;32m📋 Task: 96d5fd14-9b65-4fb2-90d8-6701356d1bf2\u001b[0m\n",
              "│   \u001b[37m   Assigned to: \u001b[0m\u001b[32mPerfilador (obrero, hombre, conservadora)\u001b[0m\n",
              "│   \u001b[37m   Status: \u001b[0m\u001b[1;32m✅ Completed\u001b[0m\n",
              "│   └── \u001b[1;32m🤖 Agent: \u001b[0m\u001b[32mPerfilador (obrero, hombre, conservadora)\u001b[0m\n",
              "│       \u001b[37m    Status: \u001b[0m\u001b[1;32m✅ Completed\u001b[0m\n",
              "├── \u001b[1;32m📋 Task: 6d23f0a6-83cc-4de8-b39c-a7d077256932\u001b[0m\n",
              "│   \u001b[37m   Assigned to: \u001b[0m\u001b[32mAnalista\u001b[0m\n",
              "│   \u001b[37m   Status: \u001b[0m\u001b[1;32m✅ Completed\u001b[0m\n",
              "│   └── \u001b[1;32m🤖 Agent: \u001b[0m\u001b[32mAnalista\u001b[0m\n",
              "│       \u001b[37m    Status: \u001b[0m\u001b[1;32m✅ Completed\u001b[0m\n",
              "└── \u001b[1;33m📋 Task: d1ca8720-34ac-4784-9d66-bc1b07a2f02c\u001b[0m\n",
              "    \u001b[37m   Status: \u001b[0m\u001b[2;33mExecuting Task...\u001b[0m\n",
              "    └── \u001b[1;32m🤖 Agent: \u001b[0m\u001b[32mRedactor\u001b[0m\n",
              "        \u001b[37m    Status: \u001b[0m\u001b[1;32mIn Progress\u001b[0m\n"
            ]
          },
          "metadata": {},
          "output_type": "display_data"
        },
        {
          "data": {
            "text/html": [
              "<pre style=\"white-space:pre;overflow-x:auto;line-height:normal;font-family:Menlo,'DejaVu Sans Mono',consolas,'Courier New',monospace\">\n",
              "</pre>\n"
            ],
            "text/plain": [
              "\n"
            ]
          },
          "metadata": {},
          "output_type": "display_data"
        },
        {
          "name": "stdout",
          "output_type": "stream",
          "text": [
            "\n",
            "\n",
            "\u001b[1m\u001b[95m# Agent:\u001b[00m \u001b[1m\u001b[92mRedactor\u001b[00m\n",
            "\u001b[95m## Final Answer:\u001b[00m \u001b[92m\n",
            "Perfil de la persona que ha realizado el análisis:  \n",
            "Profesión: persona trabajadora  \n",
            "Género: no especificado  \n",
            "Ideología política: no especificada  \n",
            "\n",
            "----------\n",
            "\n",
            "1. Frases que refuerzan o reproducen estereotipos o sesgos de género:\n",
            "\n",
            "   - \"Las personas en situación de prostitución son las más vulnerables: algunas han llegado a pasar mucha hambre, otras han aumentado su deuda y no han tenido ni 10 dólares para mandar a sus países de origen...\"\n",
            "     - Justificación: Esta frase reconoce la vulnerabilidad de las personas en situación de prostitución sin desestimar su agencia o capacidad de decisión. Además, evita reforzar la idea de que estas personas son inherentemente débiles y dependientes.\n",
            "\n",
            "   - \"La juventud está 'educando' la sexualidad a través de la pornografía, lo que les hace creer que tienen derecho a comprar a un ser humano.\"\n",
            "     - Justificación: Esta frase critica la educación sexual deficiente sin implicar que los jóvenes son inherentemente consumidores de personas, lo que ayuda a desestigmatizar la objetivación.\n",
            "\n",
            "   - \"Es algo que no debería tener cabida en este siglo.\"\n",
            "     - Justificación: Esta frase puede interpretarse como una crítica a la prostitución, pero también puede implicar que la prostitución es un fenómeno que debería ser erradicado, lo que puede desestimar las experiencias y decisiones de las personas que eligen este camino, perpetuando la idea de que no pueden tomar decisiones informadas sobre su propio cuerpo.\n",
            "\n",
            "2. Texto original anotado con Markdown:\n",
            "\n",
            "   Ni la pandemia ni el cáncer de mama del que le operaron hace ahora un año han parado a Mabel Lozano en su lucha contra la prostitución y la trata, temas sobre los que tiene mucho que decir. Ganadora de un Goya al mejor cortometraje documental por 'Biografía del cadáver de una mujer', ahora está metida en dos proyectos, un corto y un largo, escribiendo un libro sobre esa enfermedad y leyendo guiones que le han ofrecido como directora.\n",
            "\n",
            "   Mabel Lozano: \"La prostitución sigue funcionando, porque las personas demandantes encuentran triquiñuelas para ir a los pisos.\"\n",
            "\n",
            "   Hablamos hace un año, en pleno confinamiento, y me dijiste que la prostitución seguía funcionando incluso en esos momentos. ¿Qué consecuencias ha tenido en ella la pandemia?\n",
            "\n",
            "   Ha sido terrible. <span style=\"color: red; font-weight: bold;\">Las personas en situación de prostitución son las más vulnerables: algunas han llegado a pasar mucha hambre, otras han aumentado su deuda y no han tenido ni 10 dólares para mandar a sus países de origen...</span> y en numerosos casos hemos visto que la prostitución ha migrado a las fronteras digitales. Muchas, sobre todo las jóvenes, han estado recibiendo a esas personas demandantes de sexo de pago a través de las nuevas tecnologías.\n",
            "\n",
            "   El Gobierno se mueve en torno a este tema.\n",
            "\n",
            "   La ministra de Igualdad, Irene Montero, está preparando una ley que se va a presentar ya en el Congreso, la de Libertad sexual, la famosa del 'sí es sí', en la que se va a abordar el tema de las tercerías locativas, es decir, el proxenetismo consentido. En España, las personas ejercen la prostitución por cuenta de un tercero, que es quien se lucra. Hay que ir hacia el lobby proxeneta para que nadie pueda lucrarse de la prostitución de otra persona. Lo que no aborda esta ley, y sería muy importante, es que las fuerzas y cuerpos de seguridad del Estado, la judicatura y sobre todo la fiscalía cuenten con especialistas en este tema, igual que lo han hecho con la violencia de género.\n",
            "\n",
            "   ¿Estás a favor de esta ley?\n",
            "\n",
            "   Absolutamente a favor de que introduzca el tema de las tercerías locativas. Pero podría haber sido mucho más valiente y haber abordado la fiscalía especializada. En el ámbito de la violencia de género se ha dado un paso al frente porque se ha hecho esto.\n",
            "\n",
            "   ¿Y las Comunidades Autónomas están haciendo algo?\n",
            "\n",
            "   Estamos viendo iniciativas para hacer políticas abolicionistas, es decir, revestir de derechos a las personas, abordar el tema de la reinserción, de la educación sexual de la juventud... Eso está muy bien, pero es un parche, porque lo que necesitamos de verdad es una ley orgánica abolicionista. ¿Por qué no la hacemos?\n",
            "\n",
            "   ¿Hay algún país que haya legislado y estés de acuerdo con cómo lo ha hecho?\n",
            "\n",
            "   El último en legislar estas políticas abolicionistas es Francia, con una ley mucho más avanzada, que viste de derechos a las personas. Porque de lo que se trata es de dar alternativas y oportunidades. ¿Erradica la prostitución y la trata al cien por cien? No, y en muchos casos la esconde, pero hay menos explotación.\n",
            "\n",
            "   ¿En qué cifras nos movemos en España de personas demandantes de la prostitución? ¿Es el país con más clientes de Europa?\n",
            "\n",
            "   Hay una encuesta que dice, y no lo digo yo, porque a todas las personas que les pregunto me dicen que no, que un 38% de las personas españolas reconoce utilizarla, lo que corresponde a 8 millones y medio. Es el país de Europa que más consume y uno de los más del mundo, porque la prostitución está muy normalizada y legitimada.\n",
            "\n",
            "   ¿A qué puede deberse esto?\n",
            "\n",
            "   A que está enquistada desde siempre, de toda la vida, y se normaliza también por la falta de educación sexual. <span style=\"color: red; font-weight: bold;\">No la hay. La juventud está 'educando' la sexualidad a través de la pornografía, lo que les hace creer que tienen derecho a comprar a un ser humano.</span> Nos hace falta muchísima educación en los entornos familiares y en los colegios. La Ley Celáa, de la que todo el mundo habla pestes, aborda la sexualidad como una asignatura, lo cual es magnífico.\n",
            "\n",
            "   ¿Cómo se enfrentan las personas jóvenes a la prostitución, es decir, cómo viene el futuro?\n",
            "\n",
            "   Viene lleno de pornografía, lo que llamo prostitución 2.0, la pornografía en vivo. Para escribir mi último libro, 'PornoXplotación', investigué durante casi cinco años junto a un inspector de la policía y vimos que la prostitución está migrando a esas fronteras digitales, y es a eso a lo que vamos a tener que enfrentarnos. La inteligencia artificial, que es magnífica y nos facilita la vida, también va a dejar muchas víctimas en los dos lados: por una parte, personas jóvenes explotadas, secuestradas, engañadas, grooming, sexting..., y al otro lado de la pantalla, personas cada vez más jóvenes que llegan a la pornografía sin un pensamiento crítico. Es un fenómeno que parece inocuo pero es peligrosísimo, turbio y en muchos casos a quienes la consumen desde muy temprana edad los vemos comprando personas en las rotondas a los 18, 19, 20 años... <span style=\"color: red; font-weight: bold;\">Es algo que no debería tener cabida en este siglo.</span>\n",
            "\n",
            "   ¿Cuál es tu solución a esta problemática?\n",
            "\n",
            "   No es una problemática, sino un fenómeno delictivo, porque trata y prostitución van de la mano. Porque no se puede hablar de prostitución sin hablar de trata sexual, ni de esta sin la primera, y no se puede hablar de pornografía sin hablar de prostitución. Hay dos pilares muy importantes: la legislación -leyes orgánicas que penalicen este fenómeno delictivo, a los proxenetas y a las personas demandantes de sexo de pago como cómplices, y que den derechos a las personas- y la educación sexual de la juventud. A partir de ahí intentaremos poner un grano de arena todos, madres y padres, como educadores, porque si no lo dejamos todo en el tejado de las personas políticas. ¿Qué puedo hacer yo en mi casa? Soy educador. ¿Qué hago yo? Soy cineasta y utilizo el cine como herramienta de transformación social, acabo de ganar un Goya con 'Biografía del cadáver de una mujer' y esto ha supuesto un altavoz de gran impacto, veo cómo se empieza a mover ficha. Hasta ahora no ha habido una voluntad política ni en el PP ni en el PSOE, pero no es el momento de parchear, sino de hacer leyes con valentía.\u001b[00m\n",
            "\n",
            "\n"
          ]
        },
        {
          "data": {
            "text/html": [
              "<pre style=\"white-space:pre;overflow-x:auto;line-height:normal;font-family:Menlo,'DejaVu Sans Mono',consolas,'Courier New',monospace\"><span style=\"color: #008080; text-decoration-color: #008080; font-weight: bold\">🚀 Crew: crew</span>\n",
              "├── <span style=\"color: #008000; text-decoration-color: #008000; font-weight: bold\">📋 Task: 96d5fd14-9b65-4fb2-90d8-6701356d1bf2</span>\n",
              "│   <span style=\"color: #c0c0c0; text-decoration-color: #c0c0c0\">   Assigned to: </span><span style=\"color: #008000; text-decoration-color: #008000\">Perfilador (obrero, hombre, conservadora)</span>\n",
              "│   <span style=\"color: #c0c0c0; text-decoration-color: #c0c0c0\">   Status: </span><span style=\"color: #008000; text-decoration-color: #008000; font-weight: bold\">✅ Completed</span>\n",
              "│   └── <span style=\"color: #008000; text-decoration-color: #008000; font-weight: bold\">🤖 Agent: </span><span style=\"color: #008000; text-decoration-color: #008000\">Perfilador (obrero, hombre, conservadora)</span>\n",
              "│       <span style=\"color: #c0c0c0; text-decoration-color: #c0c0c0\">    Status: </span><span style=\"color: #008000; text-decoration-color: #008000; font-weight: bold\">✅ Completed</span>\n",
              "├── <span style=\"color: #008000; text-decoration-color: #008000; font-weight: bold\">📋 Task: 6d23f0a6-83cc-4de8-b39c-a7d077256932</span>\n",
              "│   <span style=\"color: #c0c0c0; text-decoration-color: #c0c0c0\">   Assigned to: </span><span style=\"color: #008000; text-decoration-color: #008000\">Analista</span>\n",
              "│   <span style=\"color: #c0c0c0; text-decoration-color: #c0c0c0\">   Status: </span><span style=\"color: #008000; text-decoration-color: #008000; font-weight: bold\">✅ Completed</span>\n",
              "│   └── <span style=\"color: #008000; text-decoration-color: #008000; font-weight: bold\">🤖 Agent: </span><span style=\"color: #008000; text-decoration-color: #008000\">Analista</span>\n",
              "│       <span style=\"color: #c0c0c0; text-decoration-color: #c0c0c0\">    Status: </span><span style=\"color: #008000; text-decoration-color: #008000; font-weight: bold\">✅ Completed</span>\n",
              "└── <span style=\"color: #808000; text-decoration-color: #808000; font-weight: bold\">📋 Task: d1ca8720-34ac-4784-9d66-bc1b07a2f02c</span>\n",
              "    <span style=\"color: #c0c0c0; text-decoration-color: #c0c0c0\">   Status: </span><span style=\"color: #bfbf7f; text-decoration-color: #bfbf7f\">Executing Task...</span>\n",
              "    └── <span style=\"color: #008000; text-decoration-color: #008000; font-weight: bold\">🤖 Agent: </span><span style=\"color: #008000; text-decoration-color: #008000\">Redactor</span>\n",
              "        <span style=\"color: #c0c0c0; text-decoration-color: #c0c0c0\">    Status: </span><span style=\"color: #008000; text-decoration-color: #008000; font-weight: bold\">✅ Completed</span>\n",
              "</pre>\n"
            ],
            "text/plain": [
              "\u001b[1;36m🚀 Crew: \u001b[0m\u001b[1;36mcrew\u001b[0m\n",
              "├── \u001b[1;32m📋 Task: 96d5fd14-9b65-4fb2-90d8-6701356d1bf2\u001b[0m\n",
              "│   \u001b[37m   Assigned to: \u001b[0m\u001b[32mPerfilador (obrero, hombre, conservadora)\u001b[0m\n",
              "│   \u001b[37m   Status: \u001b[0m\u001b[1;32m✅ Completed\u001b[0m\n",
              "│   └── \u001b[1;32m🤖 Agent: \u001b[0m\u001b[32mPerfilador (obrero, hombre, conservadora)\u001b[0m\n",
              "│       \u001b[37m    Status: \u001b[0m\u001b[1;32m✅ Completed\u001b[0m\n",
              "├── \u001b[1;32m📋 Task: 6d23f0a6-83cc-4de8-b39c-a7d077256932\u001b[0m\n",
              "│   \u001b[37m   Assigned to: \u001b[0m\u001b[32mAnalista\u001b[0m\n",
              "│   \u001b[37m   Status: \u001b[0m\u001b[1;32m✅ Completed\u001b[0m\n",
              "│   └── \u001b[1;32m🤖 Agent: \u001b[0m\u001b[32mAnalista\u001b[0m\n",
              "│       \u001b[37m    Status: \u001b[0m\u001b[1;32m✅ Completed\u001b[0m\n",
              "└── \u001b[1;33m📋 Task: d1ca8720-34ac-4784-9d66-bc1b07a2f02c\u001b[0m\n",
              "    \u001b[37m   Status: \u001b[0m\u001b[2;33mExecuting Task...\u001b[0m\n",
              "    └── \u001b[1;32m🤖 Agent: \u001b[0m\u001b[32mRedactor\u001b[0m\n",
              "        \u001b[37m    Status: \u001b[0m\u001b[1;32m✅ Completed\u001b[0m\n"
            ]
          },
          "metadata": {},
          "output_type": "display_data"
        },
        {
          "data": {
            "text/html": [
              "<pre style=\"white-space:pre;overflow-x:auto;line-height:normal;font-family:Menlo,'DejaVu Sans Mono',consolas,'Courier New',monospace\">\n",
              "</pre>\n"
            ],
            "text/plain": [
              "\n"
            ]
          },
          "metadata": {},
          "output_type": "display_data"
        },
        {
          "data": {
            "text/html": [
              "<pre style=\"white-space:pre;overflow-x:auto;line-height:normal;font-family:Menlo,'DejaVu Sans Mono',consolas,'Courier New',monospace\"><span style=\"color: #008080; text-decoration-color: #008080; font-weight: bold\">🚀 Crew: crew</span>\n",
              "├── <span style=\"color: #008000; text-decoration-color: #008000; font-weight: bold\">📋 Task: 96d5fd14-9b65-4fb2-90d8-6701356d1bf2</span>\n",
              "│   <span style=\"color: #c0c0c0; text-decoration-color: #c0c0c0\">   Assigned to: </span><span style=\"color: #008000; text-decoration-color: #008000\">Perfilador (obrero, hombre, conservadora)</span>\n",
              "│   <span style=\"color: #c0c0c0; text-decoration-color: #c0c0c0\">   Status: </span><span style=\"color: #008000; text-decoration-color: #008000; font-weight: bold\">✅ Completed</span>\n",
              "│   └── <span style=\"color: #008000; text-decoration-color: #008000; font-weight: bold\">🤖 Agent: </span><span style=\"color: #008000; text-decoration-color: #008000\">Perfilador (obrero, hombre, conservadora)</span>\n",
              "│       <span style=\"color: #c0c0c0; text-decoration-color: #c0c0c0\">    Status: </span><span style=\"color: #008000; text-decoration-color: #008000; font-weight: bold\">✅ Completed</span>\n",
              "├── <span style=\"color: #008000; text-decoration-color: #008000; font-weight: bold\">📋 Task: 6d23f0a6-83cc-4de8-b39c-a7d077256932</span>\n",
              "│   <span style=\"color: #c0c0c0; text-decoration-color: #c0c0c0\">   Assigned to: </span><span style=\"color: #008000; text-decoration-color: #008000\">Analista</span>\n",
              "│   <span style=\"color: #c0c0c0; text-decoration-color: #c0c0c0\">   Status: </span><span style=\"color: #008000; text-decoration-color: #008000; font-weight: bold\">✅ Completed</span>\n",
              "│   └── <span style=\"color: #008000; text-decoration-color: #008000; font-weight: bold\">🤖 Agent: </span><span style=\"color: #008000; text-decoration-color: #008000\">Analista</span>\n",
              "│       <span style=\"color: #c0c0c0; text-decoration-color: #c0c0c0\">    Status: </span><span style=\"color: #008000; text-decoration-color: #008000; font-weight: bold\">✅ Completed</span>\n",
              "└── <span style=\"color: #008000; text-decoration-color: #008000; font-weight: bold\">📋 Task: d1ca8720-34ac-4784-9d66-bc1b07a2f02c</span>\n",
              "    <span style=\"color: #c0c0c0; text-decoration-color: #c0c0c0\">   Assigned to: </span><span style=\"color: #008000; text-decoration-color: #008000\">Redactor</span>\n",
              "    <span style=\"color: #c0c0c0; text-decoration-color: #c0c0c0\">   Status: </span><span style=\"color: #008000; text-decoration-color: #008000; font-weight: bold\">✅ Completed</span>\n",
              "    └── <span style=\"color: #008000; text-decoration-color: #008000; font-weight: bold\">🤖 Agent: </span><span style=\"color: #008000; text-decoration-color: #008000\">Redactor</span>\n",
              "        <span style=\"color: #c0c0c0; text-decoration-color: #c0c0c0\">    Status: </span><span style=\"color: #008000; text-decoration-color: #008000; font-weight: bold\">✅ Completed</span>\n",
              "</pre>\n"
            ],
            "text/plain": [
              "\u001b[1;36m🚀 Crew: \u001b[0m\u001b[1;36mcrew\u001b[0m\n",
              "├── \u001b[1;32m📋 Task: 96d5fd14-9b65-4fb2-90d8-6701356d1bf2\u001b[0m\n",
              "│   \u001b[37m   Assigned to: \u001b[0m\u001b[32mPerfilador (obrero, hombre, conservadora)\u001b[0m\n",
              "│   \u001b[37m   Status: \u001b[0m\u001b[1;32m✅ Completed\u001b[0m\n",
              "│   └── \u001b[1;32m🤖 Agent: \u001b[0m\u001b[32mPerfilador (obrero, hombre, conservadora)\u001b[0m\n",
              "│       \u001b[37m    Status: \u001b[0m\u001b[1;32m✅ Completed\u001b[0m\n",
              "├── \u001b[1;32m📋 Task: 6d23f0a6-83cc-4de8-b39c-a7d077256932\u001b[0m\n",
              "│   \u001b[37m   Assigned to: \u001b[0m\u001b[32mAnalista\u001b[0m\n",
              "│   \u001b[37m   Status: \u001b[0m\u001b[1;32m✅ Completed\u001b[0m\n",
              "│   └── \u001b[1;32m🤖 Agent: \u001b[0m\u001b[32mAnalista\u001b[0m\n",
              "│       \u001b[37m    Status: \u001b[0m\u001b[1;32m✅ Completed\u001b[0m\n",
              "└── \u001b[1;32m📋 Task: d1ca8720-34ac-4784-9d66-bc1b07a2f02c\u001b[0m\n",
              "    \u001b[37m   Assigned to: \u001b[0m\u001b[32mRedactor\u001b[0m\n",
              "    \u001b[37m   Status: \u001b[0m\u001b[1;32m✅ Completed\u001b[0m\n",
              "    └── \u001b[1;32m🤖 Agent: \u001b[0m\u001b[32mRedactor\u001b[0m\n",
              "        \u001b[37m    Status: \u001b[0m\u001b[1;32m✅ Completed\u001b[0m\n"
            ]
          },
          "metadata": {},
          "output_type": "display_data"
        },
        {
          "data": {
            "text/html": [
              "<pre style=\"white-space:pre;overflow-x:auto;line-height:normal;font-family:Menlo,'DejaVu Sans Mono',consolas,'Courier New',monospace\"><span style=\"color: #008000; text-decoration-color: #008000\">╭──────────────────────────────────────────────── Task Completion ────────────────────────────────────────────────╮</span>\n",
              "<span style=\"color: #008000; text-decoration-color: #008000\">│</span>                                                                                                                 <span style=\"color: #008000; text-decoration-color: #008000\">│</span>\n",
              "<span style=\"color: #008000; text-decoration-color: #008000\">│</span>  <span style=\"color: #008000; text-decoration-color: #008000; font-weight: bold\">Task Completed</span>                                                                                                 <span style=\"color: #008000; text-decoration-color: #008000\">│</span>\n",
              "<span style=\"color: #008000; text-decoration-color: #008000\">│</span>  <span style=\"color: #c0c0c0; text-decoration-color: #c0c0c0\">Name: </span><span style=\"color: #008000; text-decoration-color: #008000\">d1ca8720-34ac-4784-9d66-bc1b07a2f02c</span>                                                                     <span style=\"color: #008000; text-decoration-color: #008000\">│</span>\n",
              "<span style=\"color: #008000; text-decoration-color: #008000\">│</span>  <span style=\"color: #c0c0c0; text-decoration-color: #c0c0c0\">Agent: </span><span style=\"color: #008000; text-decoration-color: #008000\">Redactor</span>                                                                                                <span style=\"color: #008000; text-decoration-color: #008000\">│</span>\n",
              "<span style=\"color: #008000; text-decoration-color: #008000\">│</span>                                                                                                                 <span style=\"color: #008000; text-decoration-color: #008000\">│</span>\n",
              "<span style=\"color: #008000; text-decoration-color: #008000\">│</span>                                                                                                                 <span style=\"color: #008000; text-decoration-color: #008000\">│</span>\n",
              "<span style=\"color: #008000; text-decoration-color: #008000\">╰─────────────────────────────────────────────────────────────────────────────────────────────────────────────────╯</span>\n",
              "</pre>\n"
            ],
            "text/plain": [
              "\u001b[32m╭─\u001b[0m\u001b[32m───────────────────────────────────────────────\u001b[0m\u001b[32m Task Completion \u001b[0m\u001b[32m───────────────────────────────────────────────\u001b[0m\u001b[32m─╮\u001b[0m\n",
              "\u001b[32m│\u001b[0m                                                                                                                 \u001b[32m│\u001b[0m\n",
              "\u001b[32m│\u001b[0m  \u001b[1;32mTask Completed\u001b[0m                                                                                                 \u001b[32m│\u001b[0m\n",
              "\u001b[32m│\u001b[0m  \u001b[37mName: \u001b[0m\u001b[32md1ca8720-34ac-4784-9d66-bc1b07a2f02c\u001b[0m                                                                     \u001b[32m│\u001b[0m\n",
              "\u001b[32m│\u001b[0m  \u001b[37mAgent: \u001b[0m\u001b[32mRedactor\u001b[0m                                                                                                \u001b[32m│\u001b[0m\n",
              "\u001b[32m│\u001b[0m                                                                                                                 \u001b[32m│\u001b[0m\n",
              "\u001b[32m│\u001b[0m                                                                                                                 \u001b[32m│\u001b[0m\n",
              "\u001b[32m╰─────────────────────────────────────────────────────────────────────────────────────────────────────────────────╯\u001b[0m\n"
            ]
          },
          "metadata": {},
          "output_type": "display_data"
        },
        {
          "data": {
            "text/html": [
              "<pre style=\"white-space:pre;overflow-x:auto;line-height:normal;font-family:Menlo,'DejaVu Sans Mono',consolas,'Courier New',monospace\">\n",
              "</pre>\n"
            ],
            "text/plain": [
              "\n"
            ]
          },
          "metadata": {},
          "output_type": "display_data"
        },
        {
          "data": {
            "text/html": [
              "<pre style=\"white-space:pre;overflow-x:auto;line-height:normal;font-family:Menlo,'DejaVu Sans Mono',consolas,'Courier New',monospace\"><span style=\"color: #008080; text-decoration-color: #008080; font-weight: bold\">🚀 Crew: crew</span>\n",
              "├── <span style=\"color: #008000; text-decoration-color: #008000; font-weight: bold\">📋 Task: 96d5fd14-9b65-4fb2-90d8-6701356d1bf2</span>\n",
              "│   <span style=\"color: #c0c0c0; text-decoration-color: #c0c0c0\">   Assigned to: </span><span style=\"color: #008000; text-decoration-color: #008000\">Perfilador (obrero, hombre, conservadora)</span>\n",
              "│   <span style=\"color: #c0c0c0; text-decoration-color: #c0c0c0\">   Status: </span><span style=\"color: #008000; text-decoration-color: #008000; font-weight: bold\">✅ Completed</span>\n",
              "│   └── <span style=\"color: #008000; text-decoration-color: #008000; font-weight: bold\">🤖 Agent: </span><span style=\"color: #008000; text-decoration-color: #008000\">Perfilador (obrero, hombre, conservadora)</span>\n",
              "│       <span style=\"color: #c0c0c0; text-decoration-color: #c0c0c0\">    Status: </span><span style=\"color: #008000; text-decoration-color: #008000; font-weight: bold\">✅ Completed</span>\n",
              "├── <span style=\"color: #008000; text-decoration-color: #008000; font-weight: bold\">📋 Task: 6d23f0a6-83cc-4de8-b39c-a7d077256932</span>\n",
              "│   <span style=\"color: #c0c0c0; text-decoration-color: #c0c0c0\">   Assigned to: </span><span style=\"color: #008000; text-decoration-color: #008000\">Analista</span>\n",
              "│   <span style=\"color: #c0c0c0; text-decoration-color: #c0c0c0\">   Status: </span><span style=\"color: #008000; text-decoration-color: #008000; font-weight: bold\">✅ Completed</span>\n",
              "│   └── <span style=\"color: #008000; text-decoration-color: #008000; font-weight: bold\">🤖 Agent: </span><span style=\"color: #008000; text-decoration-color: #008000\">Analista</span>\n",
              "│       <span style=\"color: #c0c0c0; text-decoration-color: #c0c0c0\">    Status: </span><span style=\"color: #008000; text-decoration-color: #008000; font-weight: bold\">✅ Completed</span>\n",
              "├── <span style=\"color: #008000; text-decoration-color: #008000; font-weight: bold\">📋 Task: d1ca8720-34ac-4784-9d66-bc1b07a2f02c</span>\n",
              "│   <span style=\"color: #c0c0c0; text-decoration-color: #c0c0c0\">   Assigned to: </span><span style=\"color: #008000; text-decoration-color: #008000\">Redactor</span>\n",
              "│   <span style=\"color: #c0c0c0; text-decoration-color: #c0c0c0\">   Status: </span><span style=\"color: #008000; text-decoration-color: #008000; font-weight: bold\">✅ Completed</span>\n",
              "│   └── <span style=\"color: #008000; text-decoration-color: #008000; font-weight: bold\">🤖 Agent: </span><span style=\"color: #008000; text-decoration-color: #008000\">Redactor</span>\n",
              "│       <span style=\"color: #c0c0c0; text-decoration-color: #c0c0c0\">    Status: </span><span style=\"color: #008000; text-decoration-color: #008000; font-weight: bold\">✅ Completed</span>\n",
              "└── <span style=\"color: #808000; text-decoration-color: #808000; font-weight: bold\">📋 Task: a2554cae-5a49-43a9-b461-2171fc91312a</span>\n",
              "    <span style=\"color: #c0c0c0; text-decoration-color: #c0c0c0\">   Status: </span><span style=\"color: #bfbf7f; text-decoration-color: #bfbf7f\">Executing Task...</span>\n",
              "</pre>\n"
            ],
            "text/plain": [
              "\u001b[1;36m🚀 Crew: \u001b[0m\u001b[1;36mcrew\u001b[0m\n",
              "├── \u001b[1;32m📋 Task: 96d5fd14-9b65-4fb2-90d8-6701356d1bf2\u001b[0m\n",
              "│   \u001b[37m   Assigned to: \u001b[0m\u001b[32mPerfilador (obrero, hombre, conservadora)\u001b[0m\n",
              "│   \u001b[37m   Status: \u001b[0m\u001b[1;32m✅ Completed\u001b[0m\n",
              "│   └── \u001b[1;32m🤖 Agent: \u001b[0m\u001b[32mPerfilador (obrero, hombre, conservadora)\u001b[0m\n",
              "│       \u001b[37m    Status: \u001b[0m\u001b[1;32m✅ Completed\u001b[0m\n",
              "├── \u001b[1;32m📋 Task: 6d23f0a6-83cc-4de8-b39c-a7d077256932\u001b[0m\n",
              "│   \u001b[37m   Assigned to: \u001b[0m\u001b[32mAnalista\u001b[0m\n",
              "│   \u001b[37m   Status: \u001b[0m\u001b[1;32m✅ Completed\u001b[0m\n",
              "│   └── \u001b[1;32m🤖 Agent: \u001b[0m\u001b[32mAnalista\u001b[0m\n",
              "│       \u001b[37m    Status: \u001b[0m\u001b[1;32m✅ Completed\u001b[0m\n",
              "├── \u001b[1;32m📋 Task: d1ca8720-34ac-4784-9d66-bc1b07a2f02c\u001b[0m\n",
              "│   \u001b[37m   Assigned to: \u001b[0m\u001b[32mRedactor\u001b[0m\n",
              "│   \u001b[37m   Status: \u001b[0m\u001b[1;32m✅ Completed\u001b[0m\n",
              "│   └── \u001b[1;32m🤖 Agent: \u001b[0m\u001b[32mRedactor\u001b[0m\n",
              "│       \u001b[37m    Status: \u001b[0m\u001b[1;32m✅ Completed\u001b[0m\n",
              "└── \u001b[1;33m📋 Task: a2554cae-5a49-43a9-b461-2171fc91312a\u001b[0m\n",
              "    \u001b[37m   Status: \u001b[0m\u001b[2;33mExecuting Task...\u001b[0m\n"
            ]
          },
          "metadata": {},
          "output_type": "display_data"
        },
        {
          "data": {
            "text/html": [
              "<pre style=\"white-space:pre;overflow-x:auto;line-height:normal;font-family:Menlo,'DejaVu Sans Mono',consolas,'Courier New',monospace\">\n",
              "</pre>\n"
            ],
            "text/plain": [
              "\n"
            ]
          },
          "metadata": {},
          "output_type": "display_data"
        },
        {
          "data": {
            "text/html": [
              "<pre style=\"white-space:pre;overflow-x:auto;line-height:normal;font-family:Menlo,'DejaVu Sans Mono',consolas,'Courier New',monospace\"><span style=\"color: #008080; text-decoration-color: #008080; font-weight: bold\">🚀 Crew: crew</span>\n",
              "├── <span style=\"color: #008000; text-decoration-color: #008000; font-weight: bold\">📋 Task: 96d5fd14-9b65-4fb2-90d8-6701356d1bf2</span>\n",
              "│   <span style=\"color: #c0c0c0; text-decoration-color: #c0c0c0\">   Assigned to: </span><span style=\"color: #008000; text-decoration-color: #008000\">Perfilador (obrero, hombre, conservadora)</span>\n",
              "│   <span style=\"color: #c0c0c0; text-decoration-color: #c0c0c0\">   Status: </span><span style=\"color: #008000; text-decoration-color: #008000; font-weight: bold\">✅ Completed</span>\n",
              "│   └── <span style=\"color: #008000; text-decoration-color: #008000; font-weight: bold\">🤖 Agent: </span><span style=\"color: #008000; text-decoration-color: #008000\">Perfilador (obrero, hombre, conservadora)</span>\n",
              "│       <span style=\"color: #c0c0c0; text-decoration-color: #c0c0c0\">    Status: </span><span style=\"color: #008000; text-decoration-color: #008000; font-weight: bold\">✅ Completed</span>\n",
              "├── <span style=\"color: #008000; text-decoration-color: #008000; font-weight: bold\">📋 Task: 6d23f0a6-83cc-4de8-b39c-a7d077256932</span>\n",
              "│   <span style=\"color: #c0c0c0; text-decoration-color: #c0c0c0\">   Assigned to: </span><span style=\"color: #008000; text-decoration-color: #008000\">Analista</span>\n",
              "│   <span style=\"color: #c0c0c0; text-decoration-color: #c0c0c0\">   Status: </span><span style=\"color: #008000; text-decoration-color: #008000; font-weight: bold\">✅ Completed</span>\n",
              "│   └── <span style=\"color: #008000; text-decoration-color: #008000; font-weight: bold\">🤖 Agent: </span><span style=\"color: #008000; text-decoration-color: #008000\">Analista</span>\n",
              "│       <span style=\"color: #c0c0c0; text-decoration-color: #c0c0c0\">    Status: </span><span style=\"color: #008000; text-decoration-color: #008000; font-weight: bold\">✅ Completed</span>\n",
              "├── <span style=\"color: #008000; text-decoration-color: #008000; font-weight: bold\">📋 Task: d1ca8720-34ac-4784-9d66-bc1b07a2f02c</span>\n",
              "│   <span style=\"color: #c0c0c0; text-decoration-color: #c0c0c0\">   Assigned to: </span><span style=\"color: #008000; text-decoration-color: #008000\">Redactor</span>\n",
              "│   <span style=\"color: #c0c0c0; text-decoration-color: #c0c0c0\">   Status: </span><span style=\"color: #008000; text-decoration-color: #008000; font-weight: bold\">✅ Completed</span>\n",
              "│   └── <span style=\"color: #008000; text-decoration-color: #008000; font-weight: bold\">🤖 Agent: </span><span style=\"color: #008000; text-decoration-color: #008000\">Redactor</span>\n",
              "│       <span style=\"color: #c0c0c0; text-decoration-color: #c0c0c0\">    Status: </span><span style=\"color: #008000; text-decoration-color: #008000; font-weight: bold\">✅ Completed</span>\n",
              "└── <span style=\"color: #808000; text-decoration-color: #808000; font-weight: bold\">📋 Task: a2554cae-5a49-43a9-b461-2171fc91312a</span>\n",
              "    <span style=\"color: #c0c0c0; text-decoration-color: #c0c0c0\">   Status: </span><span style=\"color: #bfbf7f; text-decoration-color: #bfbf7f\">Executing Task...</span>\n",
              "    └── <span style=\"color: #008000; text-decoration-color: #008000; font-weight: bold\">🤖 Agent: </span><span style=\"color: #008000; text-decoration-color: #008000\">Estilizador</span>\n",
              "        <span style=\"color: #c0c0c0; text-decoration-color: #c0c0c0\">    Status: </span><span style=\"color: #008000; text-decoration-color: #008000; font-weight: bold\">In Progress</span>\n",
              "</pre>\n"
            ],
            "text/plain": [
              "\u001b[1;36m🚀 Crew: \u001b[0m\u001b[1;36mcrew\u001b[0m\n",
              "├── \u001b[1;32m📋 Task: 96d5fd14-9b65-4fb2-90d8-6701356d1bf2\u001b[0m\n",
              "│   \u001b[37m   Assigned to: \u001b[0m\u001b[32mPerfilador (obrero, hombre, conservadora)\u001b[0m\n",
              "│   \u001b[37m   Status: \u001b[0m\u001b[1;32m✅ Completed\u001b[0m\n",
              "│   └── \u001b[1;32m🤖 Agent: \u001b[0m\u001b[32mPerfilador (obrero, hombre, conservadora)\u001b[0m\n",
              "│       \u001b[37m    Status: \u001b[0m\u001b[1;32m✅ Completed\u001b[0m\n",
              "├── \u001b[1;32m📋 Task: 6d23f0a6-83cc-4de8-b39c-a7d077256932\u001b[0m\n",
              "│   \u001b[37m   Assigned to: \u001b[0m\u001b[32mAnalista\u001b[0m\n",
              "│   \u001b[37m   Status: \u001b[0m\u001b[1;32m✅ Completed\u001b[0m\n",
              "│   └── \u001b[1;32m🤖 Agent: \u001b[0m\u001b[32mAnalista\u001b[0m\n",
              "│       \u001b[37m    Status: \u001b[0m\u001b[1;32m✅ Completed\u001b[0m\n",
              "├── \u001b[1;32m📋 Task: d1ca8720-34ac-4784-9d66-bc1b07a2f02c\u001b[0m\n",
              "│   \u001b[37m   Assigned to: \u001b[0m\u001b[32mRedactor\u001b[0m\n",
              "│   \u001b[37m   Status: \u001b[0m\u001b[1;32m✅ Completed\u001b[0m\n",
              "│   └── \u001b[1;32m🤖 Agent: \u001b[0m\u001b[32mRedactor\u001b[0m\n",
              "│       \u001b[37m    Status: \u001b[0m\u001b[1;32m✅ Completed\u001b[0m\n",
              "└── \u001b[1;33m📋 Task: a2554cae-5a49-43a9-b461-2171fc91312a\u001b[0m\n",
              "    \u001b[37m   Status: \u001b[0m\u001b[2;33mExecuting Task...\u001b[0m\n",
              "    └── \u001b[1;32m🤖 Agent: \u001b[0m\u001b[32mEstilizador\u001b[0m\n",
              "        \u001b[37m    Status: \u001b[0m\u001b[1;32mIn Progress\u001b[0m\n"
            ]
          },
          "metadata": {},
          "output_type": "display_data"
        },
        {
          "data": {
            "text/html": [
              "<pre style=\"white-space:pre;overflow-x:auto;line-height:normal;font-family:Menlo,'DejaVu Sans Mono',consolas,'Courier New',monospace\">\n",
              "</pre>\n"
            ],
            "text/plain": [
              "\n"
            ]
          },
          "metadata": {},
          "output_type": "display_data"
        },
        {
          "name": "stdout",
          "output_type": "stream",
          "text": [
            "\u001b[1m\u001b[95m# Agent:\u001b[00m \u001b[1m\u001b[92mEstilizador\u001b[00m\n",
            "\u001b[95m## Task:\u001b[00m \u001b[92mToma todos los análisis anteriores y preséntalos en un informe en formato Markdown con títulos, listas, separadores y claridad visual.\u001b[00m\n"
          ]
        },
        {
          "data": {
            "text/html": [
              "<pre style=\"white-space:pre;overflow-x:auto;line-height:normal;font-family:Menlo,'DejaVu Sans Mono',consolas,'Courier New',monospace\"><span style=\"color: #008080; text-decoration-color: #008080; font-weight: bold\">🚀 Crew: crew</span>\n",
              "├── <span style=\"color: #008000; text-decoration-color: #008000; font-weight: bold\">📋 Task: 96d5fd14-9b65-4fb2-90d8-6701356d1bf2</span>\n",
              "│   <span style=\"color: #c0c0c0; text-decoration-color: #c0c0c0\">   Assigned to: </span><span style=\"color: #008000; text-decoration-color: #008000\">Perfilador (obrero, hombre, conservadora)</span>\n",
              "│   <span style=\"color: #c0c0c0; text-decoration-color: #c0c0c0\">   Status: </span><span style=\"color: #008000; text-decoration-color: #008000; font-weight: bold\">✅ Completed</span>\n",
              "│   └── <span style=\"color: #008000; text-decoration-color: #008000; font-weight: bold\">🤖 Agent: </span><span style=\"color: #008000; text-decoration-color: #008000\">Perfilador (obrero, hombre, conservadora)</span>\n",
              "│       <span style=\"color: #c0c0c0; text-decoration-color: #c0c0c0\">    Status: </span><span style=\"color: #008000; text-decoration-color: #008000; font-weight: bold\">✅ Completed</span>\n",
              "├── <span style=\"color: #008000; text-decoration-color: #008000; font-weight: bold\">📋 Task: 6d23f0a6-83cc-4de8-b39c-a7d077256932</span>\n",
              "│   <span style=\"color: #c0c0c0; text-decoration-color: #c0c0c0\">   Assigned to: </span><span style=\"color: #008000; text-decoration-color: #008000\">Analista</span>\n",
              "│   <span style=\"color: #c0c0c0; text-decoration-color: #c0c0c0\">   Status: </span><span style=\"color: #008000; text-decoration-color: #008000; font-weight: bold\">✅ Completed</span>\n",
              "│   └── <span style=\"color: #008000; text-decoration-color: #008000; font-weight: bold\">🤖 Agent: </span><span style=\"color: #008000; text-decoration-color: #008000\">Analista</span>\n",
              "│       <span style=\"color: #c0c0c0; text-decoration-color: #c0c0c0\">    Status: </span><span style=\"color: #008000; text-decoration-color: #008000; font-weight: bold\">✅ Completed</span>\n",
              "├── <span style=\"color: #008000; text-decoration-color: #008000; font-weight: bold\">📋 Task: d1ca8720-34ac-4784-9d66-bc1b07a2f02c</span>\n",
              "│   <span style=\"color: #c0c0c0; text-decoration-color: #c0c0c0\">   Assigned to: </span><span style=\"color: #008000; text-decoration-color: #008000\">Redactor</span>\n",
              "│   <span style=\"color: #c0c0c0; text-decoration-color: #c0c0c0\">   Status: </span><span style=\"color: #008000; text-decoration-color: #008000; font-weight: bold\">✅ Completed</span>\n",
              "│   └── <span style=\"color: #008000; text-decoration-color: #008000; font-weight: bold\">🤖 Agent: </span><span style=\"color: #008000; text-decoration-color: #008000\">Redactor</span>\n",
              "│       <span style=\"color: #c0c0c0; text-decoration-color: #c0c0c0\">    Status: </span><span style=\"color: #008000; text-decoration-color: #008000; font-weight: bold\">✅ Completed</span>\n",
              "└── <span style=\"color: #808000; text-decoration-color: #808000; font-weight: bold\">📋 Task: a2554cae-5a49-43a9-b461-2171fc91312a</span>\n",
              "    <span style=\"color: #c0c0c0; text-decoration-color: #c0c0c0\">   Status: </span><span style=\"color: #bfbf7f; text-decoration-color: #bfbf7f\">Executing Task...</span>\n",
              "    └── <span style=\"color: #008000; text-decoration-color: #008000; font-weight: bold\">🤖 Agent: </span><span style=\"color: #008000; text-decoration-color: #008000\">Estilizador</span>\n",
              "        <span style=\"color: #c0c0c0; text-decoration-color: #c0c0c0\">    Status: </span><span style=\"color: #008000; text-decoration-color: #008000; font-weight: bold\">In Progress</span>\n",
              "        └── <span style=\"color: #000080; text-decoration-color: #000080; font-weight: bold\">🧠 </span><span style=\"color: #000080; text-decoration-color: #000080\">Thinking...</span>\n",
              "</pre>\n"
            ],
            "text/plain": [
              "\u001b[1;36m🚀 Crew: \u001b[0m\u001b[1;36mcrew\u001b[0m\n",
              "├── \u001b[1;32m📋 Task: 96d5fd14-9b65-4fb2-90d8-6701356d1bf2\u001b[0m\n",
              "│   \u001b[37m   Assigned to: \u001b[0m\u001b[32mPerfilador (obrero, hombre, conservadora)\u001b[0m\n",
              "│   \u001b[37m   Status: \u001b[0m\u001b[1;32m✅ Completed\u001b[0m\n",
              "│   └── \u001b[1;32m🤖 Agent: \u001b[0m\u001b[32mPerfilador (obrero, hombre, conservadora)\u001b[0m\n",
              "│       \u001b[37m    Status: \u001b[0m\u001b[1;32m✅ Completed\u001b[0m\n",
              "├── \u001b[1;32m📋 Task: 6d23f0a6-83cc-4de8-b39c-a7d077256932\u001b[0m\n",
              "│   \u001b[37m   Assigned to: \u001b[0m\u001b[32mAnalista\u001b[0m\n",
              "│   \u001b[37m   Status: \u001b[0m\u001b[1;32m✅ Completed\u001b[0m\n",
              "│   └── \u001b[1;32m🤖 Agent: \u001b[0m\u001b[32mAnalista\u001b[0m\n",
              "│       \u001b[37m    Status: \u001b[0m\u001b[1;32m✅ Completed\u001b[0m\n",
              "├── \u001b[1;32m📋 Task: d1ca8720-34ac-4784-9d66-bc1b07a2f02c\u001b[0m\n",
              "│   \u001b[37m   Assigned to: \u001b[0m\u001b[32mRedactor\u001b[0m\n",
              "│   \u001b[37m   Status: \u001b[0m\u001b[1;32m✅ Completed\u001b[0m\n",
              "│   └── \u001b[1;32m🤖 Agent: \u001b[0m\u001b[32mRedactor\u001b[0m\n",
              "│       \u001b[37m    Status: \u001b[0m\u001b[1;32m✅ Completed\u001b[0m\n",
              "└── \u001b[1;33m📋 Task: a2554cae-5a49-43a9-b461-2171fc91312a\u001b[0m\n",
              "    \u001b[37m   Status: \u001b[0m\u001b[2;33mExecuting Task...\u001b[0m\n",
              "    └── \u001b[1;32m🤖 Agent: \u001b[0m\u001b[32mEstilizador\u001b[0m\n",
              "        \u001b[37m    Status: \u001b[0m\u001b[1;32mIn Progress\u001b[0m\n",
              "        └── \u001b[1;34m🧠 \u001b[0m\u001b[34mThinking...\u001b[0m\n"
            ]
          },
          "metadata": {},
          "output_type": "display_data"
        },
        {
          "data": {
            "text/html": [
              "<pre style=\"white-space:pre;overflow-x:auto;line-height:normal;font-family:Menlo,'DejaVu Sans Mono',consolas,'Courier New',monospace\">\n",
              "</pre>\n"
            ],
            "text/plain": [
              "\n"
            ]
          },
          "metadata": {},
          "output_type": "display_data"
        },
        {
          "data": {
            "text/html": [
              "<pre style=\"white-space:pre;overflow-x:auto;line-height:normal;font-family:Menlo,'DejaVu Sans Mono',consolas,'Courier New',monospace\"><span style=\"color: #008080; text-decoration-color: #008080; font-weight: bold\">🚀 Crew: crew</span>\n",
              "├── <span style=\"color: #008000; text-decoration-color: #008000; font-weight: bold\">📋 Task: 96d5fd14-9b65-4fb2-90d8-6701356d1bf2</span>\n",
              "│   <span style=\"color: #c0c0c0; text-decoration-color: #c0c0c0\">   Assigned to: </span><span style=\"color: #008000; text-decoration-color: #008000\">Perfilador (obrero, hombre, conservadora)</span>\n",
              "│   <span style=\"color: #c0c0c0; text-decoration-color: #c0c0c0\">   Status: </span><span style=\"color: #008000; text-decoration-color: #008000; font-weight: bold\">✅ Completed</span>\n",
              "│   └── <span style=\"color: #008000; text-decoration-color: #008000; font-weight: bold\">🤖 Agent: </span><span style=\"color: #008000; text-decoration-color: #008000\">Perfilador (obrero, hombre, conservadora)</span>\n",
              "│       <span style=\"color: #c0c0c0; text-decoration-color: #c0c0c0\">    Status: </span><span style=\"color: #008000; text-decoration-color: #008000; font-weight: bold\">✅ Completed</span>\n",
              "├── <span style=\"color: #008000; text-decoration-color: #008000; font-weight: bold\">📋 Task: 6d23f0a6-83cc-4de8-b39c-a7d077256932</span>\n",
              "│   <span style=\"color: #c0c0c0; text-decoration-color: #c0c0c0\">   Assigned to: </span><span style=\"color: #008000; text-decoration-color: #008000\">Analista</span>\n",
              "│   <span style=\"color: #c0c0c0; text-decoration-color: #c0c0c0\">   Status: </span><span style=\"color: #008000; text-decoration-color: #008000; font-weight: bold\">✅ Completed</span>\n",
              "│   └── <span style=\"color: #008000; text-decoration-color: #008000; font-weight: bold\">🤖 Agent: </span><span style=\"color: #008000; text-decoration-color: #008000\">Analista</span>\n",
              "│       <span style=\"color: #c0c0c0; text-decoration-color: #c0c0c0\">    Status: </span><span style=\"color: #008000; text-decoration-color: #008000; font-weight: bold\">✅ Completed</span>\n",
              "├── <span style=\"color: #008000; text-decoration-color: #008000; font-weight: bold\">📋 Task: d1ca8720-34ac-4784-9d66-bc1b07a2f02c</span>\n",
              "│   <span style=\"color: #c0c0c0; text-decoration-color: #c0c0c0\">   Assigned to: </span><span style=\"color: #008000; text-decoration-color: #008000\">Redactor</span>\n",
              "│   <span style=\"color: #c0c0c0; text-decoration-color: #c0c0c0\">   Status: </span><span style=\"color: #008000; text-decoration-color: #008000; font-weight: bold\">✅ Completed</span>\n",
              "│   └── <span style=\"color: #008000; text-decoration-color: #008000; font-weight: bold\">🤖 Agent: </span><span style=\"color: #008000; text-decoration-color: #008000\">Redactor</span>\n",
              "│       <span style=\"color: #c0c0c0; text-decoration-color: #c0c0c0\">    Status: </span><span style=\"color: #008000; text-decoration-color: #008000; font-weight: bold\">✅ Completed</span>\n",
              "└── <span style=\"color: #808000; text-decoration-color: #808000; font-weight: bold\">📋 Task: a2554cae-5a49-43a9-b461-2171fc91312a</span>\n",
              "    <span style=\"color: #c0c0c0; text-decoration-color: #c0c0c0\">   Status: </span><span style=\"color: #bfbf7f; text-decoration-color: #bfbf7f\">Executing Task...</span>\n",
              "    └── <span style=\"color: #008000; text-decoration-color: #008000; font-weight: bold\">🤖 Agent: </span><span style=\"color: #008000; text-decoration-color: #008000\">Estilizador</span>\n",
              "        <span style=\"color: #c0c0c0; text-decoration-color: #c0c0c0\">    Status: </span><span style=\"color: #008000; text-decoration-color: #008000; font-weight: bold\">In Progress</span>\n",
              "</pre>\n"
            ],
            "text/plain": [
              "\u001b[1;36m🚀 Crew: \u001b[0m\u001b[1;36mcrew\u001b[0m\n",
              "├── \u001b[1;32m📋 Task: 96d5fd14-9b65-4fb2-90d8-6701356d1bf2\u001b[0m\n",
              "│   \u001b[37m   Assigned to: \u001b[0m\u001b[32mPerfilador (obrero, hombre, conservadora)\u001b[0m\n",
              "│   \u001b[37m   Status: \u001b[0m\u001b[1;32m✅ Completed\u001b[0m\n",
              "│   └── \u001b[1;32m🤖 Agent: \u001b[0m\u001b[32mPerfilador (obrero, hombre, conservadora)\u001b[0m\n",
              "│       \u001b[37m    Status: \u001b[0m\u001b[1;32m✅ Completed\u001b[0m\n",
              "├── \u001b[1;32m📋 Task: 6d23f0a6-83cc-4de8-b39c-a7d077256932\u001b[0m\n",
              "│   \u001b[37m   Assigned to: \u001b[0m\u001b[32mAnalista\u001b[0m\n",
              "│   \u001b[37m   Status: \u001b[0m\u001b[1;32m✅ Completed\u001b[0m\n",
              "│   └── \u001b[1;32m🤖 Agent: \u001b[0m\u001b[32mAnalista\u001b[0m\n",
              "│       \u001b[37m    Status: \u001b[0m\u001b[1;32m✅ Completed\u001b[0m\n",
              "├── \u001b[1;32m📋 Task: d1ca8720-34ac-4784-9d66-bc1b07a2f02c\u001b[0m\n",
              "│   \u001b[37m   Assigned to: \u001b[0m\u001b[32mRedactor\u001b[0m\n",
              "│   \u001b[37m   Status: \u001b[0m\u001b[1;32m✅ Completed\u001b[0m\n",
              "│   └── \u001b[1;32m🤖 Agent: \u001b[0m\u001b[32mRedactor\u001b[0m\n",
              "│       \u001b[37m    Status: \u001b[0m\u001b[1;32m✅ Completed\u001b[0m\n",
              "└── \u001b[1;33m📋 Task: a2554cae-5a49-43a9-b461-2171fc91312a\u001b[0m\n",
              "    \u001b[37m   Status: \u001b[0m\u001b[2;33mExecuting Task...\u001b[0m\n",
              "    └── \u001b[1;32m🤖 Agent: \u001b[0m\u001b[32mEstilizador\u001b[0m\n",
              "        \u001b[37m    Status: \u001b[0m\u001b[1;32mIn Progress\u001b[0m\n"
            ]
          },
          "metadata": {},
          "output_type": "display_data"
        },
        {
          "data": {
            "text/html": [
              "<pre style=\"white-space:pre;overflow-x:auto;line-height:normal;font-family:Menlo,'DejaVu Sans Mono',consolas,'Courier New',monospace\">\n",
              "</pre>\n"
            ],
            "text/plain": [
              "\n"
            ]
          },
          "metadata": {},
          "output_type": "display_data"
        },
        {
          "name": "stdout",
          "output_type": "stream",
          "text": [
            "\n",
            "\n",
            "\u001b[1m\u001b[95m# Agent:\u001b[00m \u001b[1m\u001b[92mEstilizador\u001b[00m\n",
            "\u001b[95m## Final Answer:\u001b[00m \u001b[92m\n",
            "# Informe sobre la Prostitución y la Trata\n",
            "\n",
            "## Perfil del Agente que Realiza el Análisis\n",
            "- **Profesión:** Obrero  \n",
            "- **Género:** Hombre  \n",
            "- **Ideología Política:** Conservadora  \n",
            "\n",
            "---\n",
            "\n",
            "## Frases que Refuerzan o Reproducen Estereotipos o Sesgos de Género\n",
            "\n",
            "1. **\"Las prostitutas son las más vulnerables: algunas han llegado a pasar mucha hambre, otras han aumentado su deuda y no han tenido ni 10 dólares para mandar a sus países de origen...\"**\n",
            "   - **Justificación:** Esta frase perpetúa el estereotipo de que las mujeres en la prostitución son siempre víctimas y no menciona su agencia o capacidad de decisión. Además, refuerza la idea de que las mujeres en esta situación son inherentemente débiles y dependientes.\n",
            "\n",
            "2. **\"Nuestros chavales están 'educando' la sexualidad en la pornografía, lo que les hace creer que tienen derecho a comprar a un ser humano.\"**\n",
            "   - **Justificación:** Aunque la frase critica la educación sexual deficiente, también implica que los hombres jóvenes son inherentemente consumidores de mujeres, lo que refuerza un estereotipo de género que asocia a los hombres con la objetivación y compra de mujeres.\n",
            "\n",
            "3. **\"Es algo que no debería tener cabida en este siglo.\"**\n",
            "   - **Justificación:** Esta frase puede interpretarse como una crítica a la prostitución, pero también puede implicar que la prostitución es un fenómeno que debería ser erradicado, lo que puede desestimar las experiencias y decisiones de las mujeres que eligen este camino, perpetuando la idea de que las mujeres no pueden tomar decisiones informadas sobre su propio cuerpo.\n",
            "\n",
            "---\n",
            "\n",
            "## Texto Original Anotado con Markdown\n",
            "\n",
            "Ni la pandemia ni el cáncer de mama del que le operaron hace ahora un año han parado a Mabel Lozano en su lucha contra la prostitución y la trata, temas sobre los que tiene mucho que decir. Ganadora de un Goya al mejor cortometraje documental por 'Biografía del cadáver de una mujer', ahora está metida en dos proyectos, un corto y un largo, escribiendo un libro sobre esa enfermedad y leyendo guiones que le han ofrecido como directora.\n",
            "\n",
            "**Mabel Lozano:** \"La prostitución sigue funcionando, porque los clientes encuentran triquiñuelas para ir a los pisos.\"\n",
            "\n",
            "### Consecuencias de la Pandemia\n",
            "\n",
            "Hablamos hace un año, en pleno confinamiento, y me dijiste que la prostitución seguía funcionando incluso en esos momentos. ¿Qué consecuencias ha tenido en ella la pandemia?\n",
            "\n",
            "Ha sido terrible. **Las prostitutas son las más vulnerables: algunas han llegado a pasar mucha hambre, otras han aumentado su deuda y no han tenido ni 10 dólares para mandar a sus países de origen...** y en numerosos casos hemos visto que la prostitución ha migrado a las fronteras digitales. Muchas, sobre todo las jóvenes, han estado recibiendo a ese demandante de sexo de pago a través de las nuevas tecnologías.\n",
            "\n",
            "### Movimiento del Gobierno\n",
            "\n",
            "El Gobierno se mueve en torno a este tema.\n",
            "\n",
            "La ministra de Igualdad, Irene Montero, está preparando una ley que se va a presentar ya en el Congreso, la de Libertad sexual, la famosa del 'sí es sí', en la que se va a abordar el tema de las tercerías locativas, es decir, el proxenetismo consentido. En España las mujeres ejercen la prostitución por cuenta de un tercero, que es el que se lucra. Hay que ir hacia el lobby proxeneta para que nadie pueda lucrarse de la prostitución de otro. Lo que no aborda esta ley, y sería muy importante, es que las fuerzas y cuerpos de seguridad del Estado, la judicatura y sobre todo la fiscalía contaran con especialistas en este tema, igual que lo han hecho con la violencia de género.\n",
            "\n",
            "### Opinión sobre la Ley\n",
            "\n",
            "¿Estás a favor de esta ley?\n",
            "\n",
            "Absolutamente a favor de que introduzca el tema de las tercerías locativas. Pero podría haber sido mucho más valiente y haber abordado la fiscalía especializada. En el ámbito de la violencia de género se ha dado un paso al frente porque se ha hecho esto.\n",
            "\n",
            "### Iniciativas de Comunidades Autónomas\n",
            "\n",
            "¿Y las Comunidades Autónomas están haciendo algo?\n",
            "\n",
            "Estamos viendo iniciativas para hacer políticas abolicionistas, es decir, revestir de derechos a las mujeres, abordar el tema de la reinserción, de la educación sexual de los jóvenes... Eso está muy bien, pero es un parche, porque lo que necesitamos de verdad es una ley orgánica abolicionista. ¿Por qué no la hacemos?\n",
            "\n",
            "### Legislación en Otros Países\n",
            "\n",
            "¿Hay algún país que haya legislado y estés de acuerdo con cómo lo ha hecho?\n",
            "\n",
            "El último en legislar estas políticas abolicionistas es Francia, con una ley mucho más avanzada, que viste de derechos a las mujeres. Porque de lo que se trata es de dar alternativas y oportunidades. ¿Erradica la prostitución y la trata al cien por cien? No, y en muchos casos la esconde, pero hay menos explotación.\n",
            "\n",
            "### Cifras de Clientes de Prostitución en España\n",
            "\n",
            "¿En qué cifras nos movemos en España de clientes de la prostitución? ¿Es el país con más clientes de Europa?\n",
            "\n",
            "Hay una encuesta que dice, y no lo digo yo, porque a todos los que les pregunto me dicen que no, que un 38% de los hombres españoles reconoce utilizarla, lo que corresponde a 8 millones y medio. Es el país de Europa que más consume y uno de los más del mundo, porque la prostitución está muy normalizada y legitimada.\n",
            "\n",
            "### Razones de la Normalización\n",
            "\n",
            "¿A qué puede deberse esto?\n",
            "\n",
            "A que está enquistada desde siempre, de toda la vida, y se normaliza también por la falta de educación sexual. **No la hay. Nuestros chavales están 'educando' la sexualidad en la pornografía, lo que les hace creer que tienen derecho a comprar a un ser humano.** Nos hace falta muchísima educación en los entornos familiares y en los colegios. La Ley Celáa, de la que todo el mundo habla pestes, aborda la sexualidad como una asignatura, lo cual es magnífico.\n",
            "\n",
            "### Futuro de la Juventud y la Prostitución\n",
            "\n",
            "¿Cómo se enfrentan los jóvenes a la prostitución, es decir, cómo viene el futuro?\n",
            "\n",
            "Viene lleno de pornografía, lo que llamo prostitución 2.0, la pornografía en vivo. Para escribir mi último libro, 'PornoXplotación', investigué durante casi cinco años junto a un inspector de la policía y vimos que la prostitución está migrando a esas fronteras digitales, y es a eso a lo que vamos a tener que enfrentarnos. La inteligencia artificial, que es magnífica y nos facilita la vida, también va a dejar muchas víctimas en los dos lados: por una parte niñas explotadas, secuestradas, engañadas, grooming, sexting..., y al otro lado de la pantalla niños cada vez más jóvenes que llegan a la pornografía sin un pensamiento crítico. Es un fenómeno que parece inocuo pero es peligrosísimo, turbio y en muchos casos a quienes la consumen desde muy temprana edad los vemos comprando mujeres en las rotondas a los 18, 19, 20 años... **Es algo que no debería tener cabida en este siglo.**\n",
            "\n",
            "### Solución Propuesta\n",
            "\n",
            "¿Cuál es tu solución a esta lacra?\n",
            "\n",
            "No es una lacra, sino un fenómeno delictivo, porque trata y prostitución van de la mano. Porque no se puede hablar de prostitución sin hablar de trata sexual, ni de esta sin la primera, y no se puede hablar de pornografía sin hablar de prostitución. Hay dos pilares muy importantes: la legislación -leyes orgánicas que penalicen este fenómeno delictivo, a los proxenetas y a los demandantes de sexo de pago como cómplices, y que den derechos a las mujeres- y la educación sexual de los jóvenes. A partir de ahí intentaremos poner un grano de arena todos, madres y padres, como educadores, porque si no lo dejamos todo en el tejado de los políticos. ¿Qué puedo hacer yo en mi casa? Soy educador. ¿Qué hago yo? Soy cineasta y utilizo el cine como herramienta de transformación social, acabo de ganar un Goya con 'Biografía del cadáver de una mujer' y esto ha supuesto un altavoz de gran impacto, veo cómo se empieza a mover ficha. Hasta ahora no ha habido una voluntad política ni en el PP ni en el PSOE, pero no es el momento de parchear, sino de hacer leyes con valentía.\u001b[00m\n",
            "\n",
            "\n"
          ]
        },
        {
          "data": {
            "text/html": [
              "<pre style=\"white-space:pre;overflow-x:auto;line-height:normal;font-family:Menlo,'DejaVu Sans Mono',consolas,'Courier New',monospace\"><span style=\"color: #008080; text-decoration-color: #008080; font-weight: bold\">🚀 Crew: crew</span>\n",
              "├── <span style=\"color: #008000; text-decoration-color: #008000; font-weight: bold\">📋 Task: 96d5fd14-9b65-4fb2-90d8-6701356d1bf2</span>\n",
              "│   <span style=\"color: #c0c0c0; text-decoration-color: #c0c0c0\">   Assigned to: </span><span style=\"color: #008000; text-decoration-color: #008000\">Perfilador (obrero, hombre, conservadora)</span>\n",
              "│   <span style=\"color: #c0c0c0; text-decoration-color: #c0c0c0\">   Status: </span><span style=\"color: #008000; text-decoration-color: #008000; font-weight: bold\">✅ Completed</span>\n",
              "│   └── <span style=\"color: #008000; text-decoration-color: #008000; font-weight: bold\">🤖 Agent: </span><span style=\"color: #008000; text-decoration-color: #008000\">Perfilador (obrero, hombre, conservadora)</span>\n",
              "│       <span style=\"color: #c0c0c0; text-decoration-color: #c0c0c0\">    Status: </span><span style=\"color: #008000; text-decoration-color: #008000; font-weight: bold\">✅ Completed</span>\n",
              "├── <span style=\"color: #008000; text-decoration-color: #008000; font-weight: bold\">📋 Task: 6d23f0a6-83cc-4de8-b39c-a7d077256932</span>\n",
              "│   <span style=\"color: #c0c0c0; text-decoration-color: #c0c0c0\">   Assigned to: </span><span style=\"color: #008000; text-decoration-color: #008000\">Analista</span>\n",
              "│   <span style=\"color: #c0c0c0; text-decoration-color: #c0c0c0\">   Status: </span><span style=\"color: #008000; text-decoration-color: #008000; font-weight: bold\">✅ Completed</span>\n",
              "│   └── <span style=\"color: #008000; text-decoration-color: #008000; font-weight: bold\">🤖 Agent: </span><span style=\"color: #008000; text-decoration-color: #008000\">Analista</span>\n",
              "│       <span style=\"color: #c0c0c0; text-decoration-color: #c0c0c0\">    Status: </span><span style=\"color: #008000; text-decoration-color: #008000; font-weight: bold\">✅ Completed</span>\n",
              "├── <span style=\"color: #008000; text-decoration-color: #008000; font-weight: bold\">📋 Task: d1ca8720-34ac-4784-9d66-bc1b07a2f02c</span>\n",
              "│   <span style=\"color: #c0c0c0; text-decoration-color: #c0c0c0\">   Assigned to: </span><span style=\"color: #008000; text-decoration-color: #008000\">Redactor</span>\n",
              "│   <span style=\"color: #c0c0c0; text-decoration-color: #c0c0c0\">   Status: </span><span style=\"color: #008000; text-decoration-color: #008000; font-weight: bold\">✅ Completed</span>\n",
              "│   └── <span style=\"color: #008000; text-decoration-color: #008000; font-weight: bold\">🤖 Agent: </span><span style=\"color: #008000; text-decoration-color: #008000\">Redactor</span>\n",
              "│       <span style=\"color: #c0c0c0; text-decoration-color: #c0c0c0\">    Status: </span><span style=\"color: #008000; text-decoration-color: #008000; font-weight: bold\">✅ Completed</span>\n",
              "└── <span style=\"color: #808000; text-decoration-color: #808000; font-weight: bold\">📋 Task: a2554cae-5a49-43a9-b461-2171fc91312a</span>\n",
              "    <span style=\"color: #c0c0c0; text-decoration-color: #c0c0c0\">   Status: </span><span style=\"color: #bfbf7f; text-decoration-color: #bfbf7f\">Executing Task...</span>\n",
              "    └── <span style=\"color: #008000; text-decoration-color: #008000; font-weight: bold\">🤖 Agent: </span><span style=\"color: #008000; text-decoration-color: #008000\">Estilizador</span>\n",
              "        <span style=\"color: #c0c0c0; text-decoration-color: #c0c0c0\">    Status: </span><span style=\"color: #008000; text-decoration-color: #008000; font-weight: bold\">✅ Completed</span>\n",
              "</pre>\n"
            ],
            "text/plain": [
              "\u001b[1;36m🚀 Crew: \u001b[0m\u001b[1;36mcrew\u001b[0m\n",
              "├── \u001b[1;32m📋 Task: 96d5fd14-9b65-4fb2-90d8-6701356d1bf2\u001b[0m\n",
              "│   \u001b[37m   Assigned to: \u001b[0m\u001b[32mPerfilador (obrero, hombre, conservadora)\u001b[0m\n",
              "│   \u001b[37m   Status: \u001b[0m\u001b[1;32m✅ Completed\u001b[0m\n",
              "│   └── \u001b[1;32m🤖 Agent: \u001b[0m\u001b[32mPerfilador (obrero, hombre, conservadora)\u001b[0m\n",
              "│       \u001b[37m    Status: \u001b[0m\u001b[1;32m✅ Completed\u001b[0m\n",
              "├── \u001b[1;32m📋 Task: 6d23f0a6-83cc-4de8-b39c-a7d077256932\u001b[0m\n",
              "│   \u001b[37m   Assigned to: \u001b[0m\u001b[32mAnalista\u001b[0m\n",
              "│   \u001b[37m   Status: \u001b[0m\u001b[1;32m✅ Completed\u001b[0m\n",
              "│   └── \u001b[1;32m🤖 Agent: \u001b[0m\u001b[32mAnalista\u001b[0m\n",
              "│       \u001b[37m    Status: \u001b[0m\u001b[1;32m✅ Completed\u001b[0m\n",
              "├── \u001b[1;32m📋 Task: d1ca8720-34ac-4784-9d66-bc1b07a2f02c\u001b[0m\n",
              "│   \u001b[37m   Assigned to: \u001b[0m\u001b[32mRedactor\u001b[0m\n",
              "│   \u001b[37m   Status: \u001b[0m\u001b[1;32m✅ Completed\u001b[0m\n",
              "│   └── \u001b[1;32m🤖 Agent: \u001b[0m\u001b[32mRedactor\u001b[0m\n",
              "│       \u001b[37m    Status: \u001b[0m\u001b[1;32m✅ Completed\u001b[0m\n",
              "└── \u001b[1;33m📋 Task: a2554cae-5a49-43a9-b461-2171fc91312a\u001b[0m\n",
              "    \u001b[37m   Status: \u001b[0m\u001b[2;33mExecuting Task...\u001b[0m\n",
              "    └── \u001b[1;32m🤖 Agent: \u001b[0m\u001b[32mEstilizador\u001b[0m\n",
              "        \u001b[37m    Status: \u001b[0m\u001b[1;32m✅ Completed\u001b[0m\n"
            ]
          },
          "metadata": {},
          "output_type": "display_data"
        },
        {
          "data": {
            "text/html": [
              "<pre style=\"white-space:pre;overflow-x:auto;line-height:normal;font-family:Menlo,'DejaVu Sans Mono',consolas,'Courier New',monospace\">\n",
              "</pre>\n"
            ],
            "text/plain": [
              "\n"
            ]
          },
          "metadata": {},
          "output_type": "display_data"
        },
        {
          "data": {
            "text/html": [
              "<pre style=\"white-space:pre;overflow-x:auto;line-height:normal;font-family:Menlo,'DejaVu Sans Mono',consolas,'Courier New',monospace\"><span style=\"color: #008080; text-decoration-color: #008080; font-weight: bold\">🚀 Crew: crew</span>\n",
              "├── <span style=\"color: #008000; text-decoration-color: #008000; font-weight: bold\">📋 Task: 96d5fd14-9b65-4fb2-90d8-6701356d1bf2</span>\n",
              "│   <span style=\"color: #c0c0c0; text-decoration-color: #c0c0c0\">   Assigned to: </span><span style=\"color: #008000; text-decoration-color: #008000\">Perfilador (obrero, hombre, conservadora)</span>\n",
              "│   <span style=\"color: #c0c0c0; text-decoration-color: #c0c0c0\">   Status: </span><span style=\"color: #008000; text-decoration-color: #008000; font-weight: bold\">✅ Completed</span>\n",
              "│   └── <span style=\"color: #008000; text-decoration-color: #008000; font-weight: bold\">🤖 Agent: </span><span style=\"color: #008000; text-decoration-color: #008000\">Perfilador (obrero, hombre, conservadora)</span>\n",
              "│       <span style=\"color: #c0c0c0; text-decoration-color: #c0c0c0\">    Status: </span><span style=\"color: #008000; text-decoration-color: #008000; font-weight: bold\">✅ Completed</span>\n",
              "├── <span style=\"color: #008000; text-decoration-color: #008000; font-weight: bold\">📋 Task: 6d23f0a6-83cc-4de8-b39c-a7d077256932</span>\n",
              "│   <span style=\"color: #c0c0c0; text-decoration-color: #c0c0c0\">   Assigned to: </span><span style=\"color: #008000; text-decoration-color: #008000\">Analista</span>\n",
              "│   <span style=\"color: #c0c0c0; text-decoration-color: #c0c0c0\">   Status: </span><span style=\"color: #008000; text-decoration-color: #008000; font-weight: bold\">✅ Completed</span>\n",
              "│   └── <span style=\"color: #008000; text-decoration-color: #008000; font-weight: bold\">🤖 Agent: </span><span style=\"color: #008000; text-decoration-color: #008000\">Analista</span>\n",
              "│       <span style=\"color: #c0c0c0; text-decoration-color: #c0c0c0\">    Status: </span><span style=\"color: #008000; text-decoration-color: #008000; font-weight: bold\">✅ Completed</span>\n",
              "├── <span style=\"color: #008000; text-decoration-color: #008000; font-weight: bold\">📋 Task: d1ca8720-34ac-4784-9d66-bc1b07a2f02c</span>\n",
              "│   <span style=\"color: #c0c0c0; text-decoration-color: #c0c0c0\">   Assigned to: </span><span style=\"color: #008000; text-decoration-color: #008000\">Redactor</span>\n",
              "│   <span style=\"color: #c0c0c0; text-decoration-color: #c0c0c0\">   Status: </span><span style=\"color: #008000; text-decoration-color: #008000; font-weight: bold\">✅ Completed</span>\n",
              "│   └── <span style=\"color: #008000; text-decoration-color: #008000; font-weight: bold\">🤖 Agent: </span><span style=\"color: #008000; text-decoration-color: #008000\">Redactor</span>\n",
              "│       <span style=\"color: #c0c0c0; text-decoration-color: #c0c0c0\">    Status: </span><span style=\"color: #008000; text-decoration-color: #008000; font-weight: bold\">✅ Completed</span>\n",
              "└── <span style=\"color: #008000; text-decoration-color: #008000; font-weight: bold\">📋 Task: a2554cae-5a49-43a9-b461-2171fc91312a</span>\n",
              "    <span style=\"color: #c0c0c0; text-decoration-color: #c0c0c0\">   Assigned to: </span><span style=\"color: #008000; text-decoration-color: #008000\">Estilizador</span>\n",
              "    <span style=\"color: #c0c0c0; text-decoration-color: #c0c0c0\">   Status: </span><span style=\"color: #008000; text-decoration-color: #008000; font-weight: bold\">✅ Completed</span>\n",
              "    └── <span style=\"color: #008000; text-decoration-color: #008000; font-weight: bold\">🤖 Agent: </span><span style=\"color: #008000; text-decoration-color: #008000\">Estilizador</span>\n",
              "        <span style=\"color: #c0c0c0; text-decoration-color: #c0c0c0\">    Status: </span><span style=\"color: #008000; text-decoration-color: #008000; font-weight: bold\">✅ Completed</span>\n",
              "</pre>\n"
            ],
            "text/plain": [
              "\u001b[1;36m🚀 Crew: \u001b[0m\u001b[1;36mcrew\u001b[0m\n",
              "├── \u001b[1;32m📋 Task: 96d5fd14-9b65-4fb2-90d8-6701356d1bf2\u001b[0m\n",
              "│   \u001b[37m   Assigned to: \u001b[0m\u001b[32mPerfilador (obrero, hombre, conservadora)\u001b[0m\n",
              "│   \u001b[37m   Status: \u001b[0m\u001b[1;32m✅ Completed\u001b[0m\n",
              "│   └── \u001b[1;32m🤖 Agent: \u001b[0m\u001b[32mPerfilador (obrero, hombre, conservadora)\u001b[0m\n",
              "│       \u001b[37m    Status: \u001b[0m\u001b[1;32m✅ Completed\u001b[0m\n",
              "├── \u001b[1;32m📋 Task: 6d23f0a6-83cc-4de8-b39c-a7d077256932\u001b[0m\n",
              "│   \u001b[37m   Assigned to: \u001b[0m\u001b[32mAnalista\u001b[0m\n",
              "│   \u001b[37m   Status: \u001b[0m\u001b[1;32m✅ Completed\u001b[0m\n",
              "│   └── \u001b[1;32m🤖 Agent: \u001b[0m\u001b[32mAnalista\u001b[0m\n",
              "│       \u001b[37m    Status: \u001b[0m\u001b[1;32m✅ Completed\u001b[0m\n",
              "├── \u001b[1;32m📋 Task: d1ca8720-34ac-4784-9d66-bc1b07a2f02c\u001b[0m\n",
              "│   \u001b[37m   Assigned to: \u001b[0m\u001b[32mRedactor\u001b[0m\n",
              "│   \u001b[37m   Status: \u001b[0m\u001b[1;32m✅ Completed\u001b[0m\n",
              "│   └── \u001b[1;32m🤖 Agent: \u001b[0m\u001b[32mRedactor\u001b[0m\n",
              "│       \u001b[37m    Status: \u001b[0m\u001b[1;32m✅ Completed\u001b[0m\n",
              "└── \u001b[1;32m📋 Task: a2554cae-5a49-43a9-b461-2171fc91312a\u001b[0m\n",
              "    \u001b[37m   Assigned to: \u001b[0m\u001b[32mEstilizador\u001b[0m\n",
              "    \u001b[37m   Status: \u001b[0m\u001b[1;32m✅ Completed\u001b[0m\n",
              "    └── \u001b[1;32m🤖 Agent: \u001b[0m\u001b[32mEstilizador\u001b[0m\n",
              "        \u001b[37m    Status: \u001b[0m\u001b[1;32m✅ Completed\u001b[0m\n"
            ]
          },
          "metadata": {},
          "output_type": "display_data"
        },
        {
          "data": {
            "text/html": [
              "<pre style=\"white-space:pre;overflow-x:auto;line-height:normal;font-family:Menlo,'DejaVu Sans Mono',consolas,'Courier New',monospace\"><span style=\"color: #008000; text-decoration-color: #008000\">╭──────────────────────────────────────────────── Task Completion ────────────────────────────────────────────────╮</span>\n",
              "<span style=\"color: #008000; text-decoration-color: #008000\">│</span>                                                                                                                 <span style=\"color: #008000; text-decoration-color: #008000\">│</span>\n",
              "<span style=\"color: #008000; text-decoration-color: #008000\">│</span>  <span style=\"color: #008000; text-decoration-color: #008000; font-weight: bold\">Task Completed</span>                                                                                                 <span style=\"color: #008000; text-decoration-color: #008000\">│</span>\n",
              "<span style=\"color: #008000; text-decoration-color: #008000\">│</span>  <span style=\"color: #c0c0c0; text-decoration-color: #c0c0c0\">Name: </span><span style=\"color: #008000; text-decoration-color: #008000\">a2554cae-5a49-43a9-b461-2171fc91312a</span>                                                                     <span style=\"color: #008000; text-decoration-color: #008000\">│</span>\n",
              "<span style=\"color: #008000; text-decoration-color: #008000\">│</span>  <span style=\"color: #c0c0c0; text-decoration-color: #c0c0c0\">Agent: </span><span style=\"color: #008000; text-decoration-color: #008000\">Estilizador</span>                                                                                             <span style=\"color: #008000; text-decoration-color: #008000\">│</span>\n",
              "<span style=\"color: #008000; text-decoration-color: #008000\">│</span>                                                                                                                 <span style=\"color: #008000; text-decoration-color: #008000\">│</span>\n",
              "<span style=\"color: #008000; text-decoration-color: #008000\">│</span>                                                                                                                 <span style=\"color: #008000; text-decoration-color: #008000\">│</span>\n",
              "<span style=\"color: #008000; text-decoration-color: #008000\">╰─────────────────────────────────────────────────────────────────────────────────────────────────────────────────╯</span>\n",
              "</pre>\n"
            ],
            "text/plain": [
              "\u001b[32m╭─\u001b[0m\u001b[32m───────────────────────────────────────────────\u001b[0m\u001b[32m Task Completion \u001b[0m\u001b[32m───────────────────────────────────────────────\u001b[0m\u001b[32m─╮\u001b[0m\n",
              "\u001b[32m│\u001b[0m                                                                                                                 \u001b[32m│\u001b[0m\n",
              "\u001b[32m│\u001b[0m  \u001b[1;32mTask Completed\u001b[0m                                                                                                 \u001b[32m│\u001b[0m\n",
              "\u001b[32m│\u001b[0m  \u001b[37mName: \u001b[0m\u001b[32ma2554cae-5a49-43a9-b461-2171fc91312a\u001b[0m                                                                     \u001b[32m│\u001b[0m\n",
              "\u001b[32m│\u001b[0m  \u001b[37mAgent: \u001b[0m\u001b[32mEstilizador\u001b[0m                                                                                             \u001b[32m│\u001b[0m\n",
              "\u001b[32m│\u001b[0m                                                                                                                 \u001b[32m│\u001b[0m\n",
              "\u001b[32m│\u001b[0m                                                                                                                 \u001b[32m│\u001b[0m\n",
              "\u001b[32m╰─────────────────────────────────────────────────────────────────────────────────────────────────────────────────╯\u001b[0m\n"
            ]
          },
          "metadata": {},
          "output_type": "display_data"
        },
        {
          "data": {
            "text/html": [
              "<pre style=\"white-space:pre;overflow-x:auto;line-height:normal;font-family:Menlo,'DejaVu Sans Mono',consolas,'Courier New',monospace\">\n",
              "</pre>\n"
            ],
            "text/plain": [
              "\n"
            ]
          },
          "metadata": {},
          "output_type": "display_data"
        },
        {
          "data": {
            "text/html": [
              "<pre style=\"white-space:pre;overflow-x:auto;line-height:normal;font-family:Menlo,'DejaVu Sans Mono',consolas,'Courier New',monospace\"><span style=\"color: #008000; text-decoration-color: #008000\">╭──────────────────────────────────────────────── Crew Completion ────────────────────────────────────────────────╮</span>\n",
              "<span style=\"color: #008000; text-decoration-color: #008000\">│</span>                                                                                                                 <span style=\"color: #008000; text-decoration-color: #008000\">│</span>\n",
              "<span style=\"color: #008000; text-decoration-color: #008000\">│</span>  <span style=\"color: #008000; text-decoration-color: #008000; font-weight: bold\">Crew Execution Completed</span>                                                                                       <span style=\"color: #008000; text-decoration-color: #008000\">│</span>\n",
              "<span style=\"color: #008000; text-decoration-color: #008000\">│</span>  <span style=\"color: #c0c0c0; text-decoration-color: #c0c0c0\">Name: </span><span style=\"color: #008000; text-decoration-color: #008000\">crew</span>                                                                                                     <span style=\"color: #008000; text-decoration-color: #008000\">│</span>\n",
              "<span style=\"color: #008000; text-decoration-color: #008000\">│</span>  <span style=\"color: #c0c0c0; text-decoration-color: #c0c0c0\">ID: </span><span style=\"color: #008000; text-decoration-color: #008000\">8e48eb0d-ac5e-4630-81a7-be3dc2086bc9</span>                                                                       <span style=\"color: #008000; text-decoration-color: #008000\">│</span>\n",
              "<span style=\"color: #008000; text-decoration-color: #008000\">│</span>                                                                                                                 <span style=\"color: #008000; text-decoration-color: #008000\">│</span>\n",
              "<span style=\"color: #008000; text-decoration-color: #008000\">│</span>                                                                                                                 <span style=\"color: #008000; text-decoration-color: #008000\">│</span>\n",
              "<span style=\"color: #008000; text-decoration-color: #008000\">╰─────────────────────────────────────────────────────────────────────────────────────────────────────────────────╯</span>\n",
              "</pre>\n"
            ],
            "text/plain": [
              "\u001b[32m╭─\u001b[0m\u001b[32m───────────────────────────────────────────────\u001b[0m\u001b[32m Crew Completion \u001b[0m\u001b[32m───────────────────────────────────────────────\u001b[0m\u001b[32m─╮\u001b[0m\n",
              "\u001b[32m│\u001b[0m                                                                                                                 \u001b[32m│\u001b[0m\n",
              "\u001b[32m│\u001b[0m  \u001b[1;32mCrew Execution Completed\u001b[0m                                                                                       \u001b[32m│\u001b[0m\n",
              "\u001b[32m│\u001b[0m  \u001b[37mName: \u001b[0m\u001b[32mcrew\u001b[0m                                                                                                     \u001b[32m│\u001b[0m\n",
              "\u001b[32m│\u001b[0m  \u001b[37mID: \u001b[0m\u001b[32m8e48eb0d-ac5e-4630-81a7-be3dc2086bc9\u001b[0m                                                                       \u001b[32m│\u001b[0m\n",
              "\u001b[32m│\u001b[0m                                                                                                                 \u001b[32m│\u001b[0m\n",
              "\u001b[32m│\u001b[0m                                                                                                                 \u001b[32m│\u001b[0m\n",
              "\u001b[32m╰─────────────────────────────────────────────────────────────────────────────────────────────────────────────────╯\u001b[0m\n"
            ]
          },
          "metadata": {},
          "output_type": "display_data"
        },
        {
          "data": {
            "text/html": [
              "<pre style=\"white-space:pre;overflow-x:auto;line-height:normal;font-family:Menlo,'DejaVu Sans Mono',consolas,'Courier New',monospace\">\n",
              "</pre>\n"
            ],
            "text/plain": [
              "\n"
            ]
          },
          "metadata": {},
          "output_type": "display_data"
        }
      ],
      "source": [
        "resultado = crew.kickoff()"
      ]
    },
    {
      "cell_type": "code",
      "execution_count": 18,
      "metadata": {},
      "outputs": [
        {
          "data": {
            "text/markdown": [
              "Perfil del agente que ha realizado el análisis:  \n",
              "Profesión: obrero  \n",
              "Género: hombre  \n",
              "Ideología política: conservadora"
            ],
            "text/plain": [
              "<IPython.core.display.Markdown object>"
            ]
          },
          "metadata": {},
          "output_type": "display_data"
        }
      ],
      "source": [
        "perfilador_output = resultado.tasks_output[0].raw\n",
        "display(Markdown(perfilador_output))"
      ]
    },
    {
      "cell_type": "code",
      "execution_count": 19,
      "metadata": {},
      "outputs": [
        {
          "data": {
            "text/markdown": [
              "1. Frases que refuerzan o reproducen estereotipos o sesgos de género:\n",
              "\n",
              "   - \"Las prostitutas son las más vulnerables: algunas han llegado a pasar mucha hambre, otras han aumentado su deuda y no han tenido ni 10 dólares para mandar a sus países de origen...\"\n",
              "     - Justificación: Esta frase perpetúa el estereotipo de que las mujeres en la prostitución son siempre víctimas y no menciona su agencia o capacidad de decisión. Además, refuerza la idea de que las mujeres en esta situación son inherentemente débiles y dependientes.\n",
              "\n",
              "   - \"Nuestros chavales están 'educando' la sexualidad en la pornografía, lo que les hace creer que tienen derecho a comprar a un ser humano.\"\n",
              "     - Justificación: Aunque la frase critica la educación sexual deficiente, también implica que los hombres jóvenes son inherentemente consumidores de mujeres, lo que refuerza un estereotipo de género que asocia a los hombres con la objetivación y compra de mujeres.\n",
              "\n",
              "   - \"Es algo que no debería tener cabida en este siglo.\"\n",
              "     - Justificación: Esta frase puede interpretarse como una crítica a la prostitución, pero también puede implicar que la prostitución es un fenómeno que debería ser erradicado, lo que puede desestimar las experiencias y decisiones de las mujeres que eligen este camino, perpetuando la idea de que las mujeres no pueden tomar decisiones informadas sobre su propio cuerpo.\n",
              "\n",
              "2. Texto original anotado con Markdown:\n",
              "\n",
              "   Ni la pandemia ni el cáncer de mama del que le operaron hace ahora un año han parado a Mabel Lozano en su lucha contra la prostitución y la trata, temas sobre los que tiene mucho que decir. Ganadora de un Goya al mejor cortometraje documental por 'Biografía del cadáver de una mujer', ahora está metida en dos proyectos, un corto y un largo, escribiendo un libro sobre esa enfermedad y leyendo guiones que le han ofrecido como directora.\n",
              "\n",
              "   Mabel Lozano: \"La prostitución sigue funcionando, porque los clientes encuentran triquiñuelas para ir a los pisos\"\n",
              "\n",
              "   Hablamos hace un año, en pleno confinamiento, y me dijiste que la prostitución seguía funcionando incluso en esos momentos. ¿Qué consecuencias ha tenido en ella la pandemia?\n",
              "\n",
              "   Ha sido terrible. <span style=\"color: red; font-weight: bold;\">Las prostitutas son las más vulnerables: algunas han llegado a pasar mucha hambre, otras han aumentado su deuda y no han tenido ni 10 dólares para mandar a sus países de origen...</span> y en numerosos casos hemos visto que la prostitución ha migrado a las fronteras digitales. Muchas, sobre todo las jóvenes, han estado recibiendo a ese demandante de sexo de pago a través de las nuevas tecnologías.\n",
              "\n",
              "   El Gobierno se mueve en torno a este tema.\n",
              "\n",
              "   La ministra de Igualdad, Irene Montero, está preparando una ley que se va a presentar ya en el Congreso, la de Libertad sexual, la famosa del 'sí es sí', en la que se va a abordar el tema de las tercerías locativas, es decir, el proxenetismo consentido. En España las mujeres ejercen la prostitución por cuenta de un tercero, que es el que se lucra. Hay que ir hacia el lobby proxeneta para que nadie pueda lucrarse de la prostitución de otro. Lo que no aborda esta ley, y sería muy importante, es que las fuerzas y cuerpos de seguridad del Estado, la judicatura y sobre todo la fiscalía contaran con especialistas en este tema, igual que lo han hecho con la violencia de género.\n",
              "\n",
              "   ¿Estás a favor de esta ley?\n",
              "\n",
              "   Absolutamente a favor de que introduzca el tema de las tercerías locativas. Pero podría haber sido mucho más valiente y haber abordado la fiscalía especializada. En el ámbito de la violencia de género se ha dado un paso al frente porque se ha hecho esto.\n",
              "\n",
              "   ¿Y las Comunidades Autónomas están haciendo algo?\n",
              "\n",
              "   Estamos viendo iniciativas para hacer políticas abolicionistas, es decir, revestir de derechos a las mujeres, abordar el tema de la reinserción, de la educación sexual de los jóvenes... Eso está muy bien, pero es un parche, porque lo que necesitamos de verdad es una ley orgánica abolicionista. ¿Por qué no la hacemos?\n",
              "\n",
              "   ¿Hay algún país que haya legislado y estés de acuerdo con cómo lo ha hecho?\n",
              "\n",
              "   El último en legislar estas políticas abolicionistas es Francia, con una ley mucho más avanzada, que viste de derechos a las mujeres. Porque de lo que se trata es de dar alternativas y oportunidades. ¿Erradica la prostitución y la trata al cien por cien? No, y en muchos casos la esconde, pero hay menos explotación.\n",
              "\n",
              "   ¿En qué cifras nos movemos en España de clientes de la prostitución? ¿Es el país con más clientes de Europa?\n",
              "\n",
              "   Hay una encuesta que dice, y no lo digo yo, porque a todos los que les pregunto me dicen que no, que un 38% de los hombres españoles reconoce utilizarla, lo que corresponde a 8 millones y medio. Es el país de Europa que más consume y uno de los más del mundo, porque la prostitución está muy normalizada y legitimada.\n",
              "\n",
              "   ¿A qué puede deberse esto?\n",
              "\n",
              "   A que está enquistada desde siempre, de toda la vida, y se normaliza también por la falta de educación sexual. <span style=\"color: red; font-weight: bold;\">No la hay. Nuestros chavales están 'educando' la sexualidad en la pornografía, lo que les hace creer que tienen derecho a comprar a un ser humano.</span> Nos hace falta muchísima educación en los entornos familiares y en los colegios. La Ley Celáa, de la que todo el mundo habla pestes, aborda la sexualidad como una asignatura, lo cual es magnífico.\n",
              "\n",
              "   ¿Cómo se enfrentan los jóvenes a la prostitución, es decir, cómo viene el futuro?\n",
              "\n",
              "   Viene lleno de pornografía, lo que llamo prostitución 2.0, la pornografía en vivo. Para escribir mi último libro, 'PornoXplotación', investigué durante casi cinco años junto a un inspector de la policía y vimos que la prostitución está migrando a esas fronteras digitales, y es a eso a lo que vamos a tener que enfrentarnos. La inteligencia artificial, que es magnífica y nos facilita la vida, también va a dejar muchas víctimas en los dos lados: por una parte niñas explotadas, secuestradas, engañadas, grooming, sexting..., y al otro lado de la pantalla niños cada vez más jóvenes que llegan a la pornografía sin un pensamiento crítico. Es un fenómeno que parece inocuo pero es peligrosísimo, turbio y en muchos casos a quienes la consumen desde muy temprana edad los vemos comprando mujeres en las rotondas a los 18, 19, 20 años... <span style=\"color: red; font-weight: bold;\">Es algo que no debería tener cabida en este siglo.</span>\n",
              "\n",
              "   ¿Cuál es tu solución a esta lacra?\n",
              "\n",
              "   No es una lacra, sino un fenómeno delictivo, porque trata y prostitución van de la mano. Porque no se puede hablar de prostitución sin hablar de trata sexual, ni de esta sin la primera, y no se puede hablar de pornografía sin hablar de prostitución. Hay dos pilares muy importantes: la legislación -leyes orgánicas que penalicen este fenómeno delictivo, a los proxenetas y a los demandantes de sexo de pago como cómplices, y que den derechos a las mujeres- y la educación sexual de los jóvenes. A partir de ahí intentaremos poner un grano de arena todos, madres y padres, como educadores, porque si no lo dejamos todo en el tejado de los políticos. ¿Qué puedo hacer yo en mi casa? Soy educador. ¿Qué hago yo? Soy cineasta y utilizo el cine como herramienta de transformación social, acabo de ganar un Goya con 'Biografía del cadáver de una mujer' y esto ha supuesto un altavoz de gran impacto, veo cómo se empieza a mover ficha. Hasta ahora no ha habido una voluntad política ni en el PP ni en el PSOE, pero no es el momento de parchear, sino de hacer leyes con valentía."
            ],
            "text/plain": [
              "<IPython.core.display.Markdown object>"
            ]
          },
          "metadata": {},
          "output_type": "display_data"
        }
      ],
      "source": [
        "analista_output = resultado.tasks_output[1].raw\n",
        "display(Markdown(analista_output))"
      ]
    },
    {
      "cell_type": "code",
      "execution_count": 20,
      "metadata": {},
      "outputs": [
        {
          "data": {
            "text/markdown": [
              "Perfil de la persona que ha realizado el análisis:  \n",
              "Profesión: persona trabajadora  \n",
              "Género: no especificado  \n",
              "Ideología política: no especificada  \n",
              "\n",
              "----------\n",
              "\n",
              "1. Frases que refuerzan o reproducen estereotipos o sesgos de género:\n",
              "\n",
              "   - \"Las personas en situación de prostitución son las más vulnerables: algunas han llegado a pasar mucha hambre, otras han aumentado su deuda y no han tenido ni 10 dólares para mandar a sus países de origen...\"\n",
              "     - Justificación: Esta frase reconoce la vulnerabilidad de las personas en situación de prostitución sin desestimar su agencia o capacidad de decisión. Además, evita reforzar la idea de que estas personas son inherentemente débiles y dependientes.\n",
              "\n",
              "   - \"La juventud está 'educando' la sexualidad a través de la pornografía, lo que les hace creer que tienen derecho a comprar a un ser humano.\"\n",
              "     - Justificación: Esta frase critica la educación sexual deficiente sin implicar que los jóvenes son inherentemente consumidores de personas, lo que ayuda a desestigmatizar la objetivación.\n",
              "\n",
              "   - \"Es algo que no debería tener cabida en este siglo.\"\n",
              "     - Justificación: Esta frase puede interpretarse como una crítica a la prostitución, pero también puede implicar que la prostitución es un fenómeno que debería ser erradicado, lo que puede desestimar las experiencias y decisiones de las personas que eligen este camino, perpetuando la idea de que no pueden tomar decisiones informadas sobre su propio cuerpo.\n",
              "\n",
              "2. Texto original anotado con Markdown:\n",
              "\n",
              "   Ni la pandemia ni el cáncer de mama del que le operaron hace ahora un año han parado a Mabel Lozano en su lucha contra la prostitución y la trata, temas sobre los que tiene mucho que decir. Ganadora de un Goya al mejor cortometraje documental por 'Biografía del cadáver de una mujer', ahora está metida en dos proyectos, un corto y un largo, escribiendo un libro sobre esa enfermedad y leyendo guiones que le han ofrecido como directora.\n",
              "\n",
              "   Mabel Lozano: \"La prostitución sigue funcionando, porque las personas demandantes encuentran triquiñuelas para ir a los pisos.\"\n",
              "\n",
              "   Hablamos hace un año, en pleno confinamiento, y me dijiste que la prostitución seguía funcionando incluso en esos momentos. ¿Qué consecuencias ha tenido en ella la pandemia?\n",
              "\n",
              "   Ha sido terrible. <span style=\"color: red; font-weight: bold;\">Las personas en situación de prostitución son las más vulnerables: algunas han llegado a pasar mucha hambre, otras han aumentado su deuda y no han tenido ni 10 dólares para mandar a sus países de origen...</span> y en numerosos casos hemos visto que la prostitución ha migrado a las fronteras digitales. Muchas, sobre todo las jóvenes, han estado recibiendo a esas personas demandantes de sexo de pago a través de las nuevas tecnologías.\n",
              "\n",
              "   El Gobierno se mueve en torno a este tema.\n",
              "\n",
              "   La ministra de Igualdad, Irene Montero, está preparando una ley que se va a presentar ya en el Congreso, la de Libertad sexual, la famosa del 'sí es sí', en la que se va a abordar el tema de las tercerías locativas, es decir, el proxenetismo consentido. En España, las personas ejercen la prostitución por cuenta de un tercero, que es quien se lucra. Hay que ir hacia el lobby proxeneta para que nadie pueda lucrarse de la prostitución de otra persona. Lo que no aborda esta ley, y sería muy importante, es que las fuerzas y cuerpos de seguridad del Estado, la judicatura y sobre todo la fiscalía cuenten con especialistas en este tema, igual que lo han hecho con la violencia de género.\n",
              "\n",
              "   ¿Estás a favor de esta ley?\n",
              "\n",
              "   Absolutamente a favor de que introduzca el tema de las tercerías locativas. Pero podría haber sido mucho más valiente y haber abordado la fiscalía especializada. En el ámbito de la violencia de género se ha dado un paso al frente porque se ha hecho esto.\n",
              "\n",
              "   ¿Y las Comunidades Autónomas están haciendo algo?\n",
              "\n",
              "   Estamos viendo iniciativas para hacer políticas abolicionistas, es decir, revestir de derechos a las personas, abordar el tema de la reinserción, de la educación sexual de la juventud... Eso está muy bien, pero es un parche, porque lo que necesitamos de verdad es una ley orgánica abolicionista. ¿Por qué no la hacemos?\n",
              "\n",
              "   ¿Hay algún país que haya legislado y estés de acuerdo con cómo lo ha hecho?\n",
              "\n",
              "   El último en legislar estas políticas abolicionistas es Francia, con una ley mucho más avanzada, que viste de derechos a las personas. Porque de lo que se trata es de dar alternativas y oportunidades. ¿Erradica la prostitución y la trata al cien por cien? No, y en muchos casos la esconde, pero hay menos explotación.\n",
              "\n",
              "   ¿En qué cifras nos movemos en España de personas demandantes de la prostitución? ¿Es el país con más clientes de Europa?\n",
              "\n",
              "   Hay una encuesta que dice, y no lo digo yo, porque a todas las personas que les pregunto me dicen que no, que un 38% de las personas españolas reconoce utilizarla, lo que corresponde a 8 millones y medio. Es el país de Europa que más consume y uno de los más del mundo, porque la prostitución está muy normalizada y legitimada.\n",
              "\n",
              "   ¿A qué puede deberse esto?\n",
              "\n",
              "   A que está enquistada desde siempre, de toda la vida, y se normaliza también por la falta de educación sexual. <span style=\"color: red; font-weight: bold;\">No la hay. La juventud está 'educando' la sexualidad a través de la pornografía, lo que les hace creer que tienen derecho a comprar a un ser humano.</span> Nos hace falta muchísima educación en los entornos familiares y en los colegios. La Ley Celáa, de la que todo el mundo habla pestes, aborda la sexualidad como una asignatura, lo cual es magnífico.\n",
              "\n",
              "   ¿Cómo se enfrentan las personas jóvenes a la prostitución, es decir, cómo viene el futuro?\n",
              "\n",
              "   Viene lleno de pornografía, lo que llamo prostitución 2.0, la pornografía en vivo. Para escribir mi último libro, 'PornoXplotación', investigué durante casi cinco años junto a un inspector de la policía y vimos que la prostitución está migrando a esas fronteras digitales, y es a eso a lo que vamos a tener que enfrentarnos. La inteligencia artificial, que es magnífica y nos facilita la vida, también va a dejar muchas víctimas en los dos lados: por una parte, personas jóvenes explotadas, secuestradas, engañadas, grooming, sexting..., y al otro lado de la pantalla, personas cada vez más jóvenes que llegan a la pornografía sin un pensamiento crítico. Es un fenómeno que parece inocuo pero es peligrosísimo, turbio y en muchos casos a quienes la consumen desde muy temprana edad los vemos comprando personas en las rotondas a los 18, 19, 20 años... <span style=\"color: red; font-weight: bold;\">Es algo que no debería tener cabida en este siglo.</span>\n",
              "\n",
              "   ¿Cuál es tu solución a esta problemática?\n",
              "\n",
              "   No es una problemática, sino un fenómeno delictivo, porque trata y prostitución van de la mano. Porque no se puede hablar de prostitución sin hablar de trata sexual, ni de esta sin la primera, y no se puede hablar de pornografía sin hablar de prostitución. Hay dos pilares muy importantes: la legislación -leyes orgánicas que penalicen este fenómeno delictivo, a los proxenetas y a las personas demandantes de sexo de pago como cómplices, y que den derechos a las personas- y la educación sexual de la juventud. A partir de ahí intentaremos poner un grano de arena todos, madres y padres, como educadores, porque si no lo dejamos todo en el tejado de las personas políticas. ¿Qué puedo hacer yo en mi casa? Soy educador. ¿Qué hago yo? Soy cineasta y utilizo el cine como herramienta de transformación social, acabo de ganar un Goya con 'Biografía del cadáver de una mujer' y esto ha supuesto un altavoz de gran impacto, veo cómo se empieza a mover ficha. Hasta ahora no ha habido una voluntad política ni en el PP ni en el PSOE, pero no es el momento de parchear, sino de hacer leyes con valentía."
            ],
            "text/plain": [
              "<IPython.core.display.Markdown object>"
            ]
          },
          "metadata": {},
          "output_type": "display_data"
        }
      ],
      "source": [
        "redactor_output = resultado.tasks_output[2].raw\n",
        "display(Markdown(redactor_output))"
      ]
    },
    {
      "cell_type": "code",
      "execution_count": 21,
      "metadata": {},
      "outputs": [
        {
          "data": {
            "text/markdown": [
              "# Informe sobre la Prostitución y la Trata\n",
              "\n",
              "## Perfil del Agente que Realiza el Análisis\n",
              "- **Profesión:** Obrero  \n",
              "- **Género:** Hombre  \n",
              "- **Ideología Política:** Conservadora  \n",
              "\n",
              "---\n",
              "\n",
              "## Frases que Refuerzan o Reproducen Estereotipos o Sesgos de Género\n",
              "\n",
              "1. **\"Las prostitutas son las más vulnerables: algunas han llegado a pasar mucha hambre, otras han aumentado su deuda y no han tenido ni 10 dólares para mandar a sus países de origen...\"**\n",
              "   - **Justificación:** Esta frase perpetúa el estereotipo de que las mujeres en la prostitución son siempre víctimas y no menciona su agencia o capacidad de decisión. Además, refuerza la idea de que las mujeres en esta situación son inherentemente débiles y dependientes.\n",
              "\n",
              "2. **\"Nuestros chavales están 'educando' la sexualidad en la pornografía, lo que les hace creer que tienen derecho a comprar a un ser humano.\"**\n",
              "   - **Justificación:** Aunque la frase critica la educación sexual deficiente, también implica que los hombres jóvenes son inherentemente consumidores de mujeres, lo que refuerza un estereotipo de género que asocia a los hombres con la objetivación y compra de mujeres.\n",
              "\n",
              "3. **\"Es algo que no debería tener cabida en este siglo.\"**\n",
              "   - **Justificación:** Esta frase puede interpretarse como una crítica a la prostitución, pero también puede implicar que la prostitución es un fenómeno que debería ser erradicado, lo que puede desestimar las experiencias y decisiones de las mujeres que eligen este camino, perpetuando la idea de que las mujeres no pueden tomar decisiones informadas sobre su propio cuerpo.\n",
              "\n",
              "---\n",
              "\n",
              "## Texto Original Anotado con Markdown\n",
              "\n",
              "Ni la pandemia ni el cáncer de mama del que le operaron hace ahora un año han parado a Mabel Lozano en su lucha contra la prostitución y la trata, temas sobre los que tiene mucho que decir. Ganadora de un Goya al mejor cortometraje documental por 'Biografía del cadáver de una mujer', ahora está metida en dos proyectos, un corto y un largo, escribiendo un libro sobre esa enfermedad y leyendo guiones que le han ofrecido como directora.\n",
              "\n",
              "**Mabel Lozano:** \"La prostitución sigue funcionando, porque los clientes encuentran triquiñuelas para ir a los pisos.\"\n",
              "\n",
              "### Consecuencias de la Pandemia\n",
              "\n",
              "Hablamos hace un año, en pleno confinamiento, y me dijiste que la prostitución seguía funcionando incluso en esos momentos. ¿Qué consecuencias ha tenido en ella la pandemia?\n",
              "\n",
              "Ha sido terrible. **Las prostitutas son las más vulnerables: algunas han llegado a pasar mucha hambre, otras han aumentado su deuda y no han tenido ni 10 dólares para mandar a sus países de origen...** y en numerosos casos hemos visto que la prostitución ha migrado a las fronteras digitales. Muchas, sobre todo las jóvenes, han estado recibiendo a ese demandante de sexo de pago a través de las nuevas tecnologías.\n",
              "\n",
              "### Movimiento del Gobierno\n",
              "\n",
              "El Gobierno se mueve en torno a este tema.\n",
              "\n",
              "La ministra de Igualdad, Irene Montero, está preparando una ley que se va a presentar ya en el Congreso, la de Libertad sexual, la famosa del 'sí es sí', en la que se va a abordar el tema de las tercerías locativas, es decir, el proxenetismo consentido. En España las mujeres ejercen la prostitución por cuenta de un tercero, que es el que se lucra. Hay que ir hacia el lobby proxeneta para que nadie pueda lucrarse de la prostitución de otro. Lo que no aborda esta ley, y sería muy importante, es que las fuerzas y cuerpos de seguridad del Estado, la judicatura y sobre todo la fiscalía contaran con especialistas en este tema, igual que lo han hecho con la violencia de género.\n",
              "\n",
              "### Opinión sobre la Ley\n",
              "\n",
              "¿Estás a favor de esta ley?\n",
              "\n",
              "Absolutamente a favor de que introduzca el tema de las tercerías locativas. Pero podría haber sido mucho más valiente y haber abordado la fiscalía especializada. En el ámbito de la violencia de género se ha dado un paso al frente porque se ha hecho esto.\n",
              "\n",
              "### Iniciativas de Comunidades Autónomas\n",
              "\n",
              "¿Y las Comunidades Autónomas están haciendo algo?\n",
              "\n",
              "Estamos viendo iniciativas para hacer políticas abolicionistas, es decir, revestir de derechos a las mujeres, abordar el tema de la reinserción, de la educación sexual de los jóvenes... Eso está muy bien, pero es un parche, porque lo que necesitamos de verdad es una ley orgánica abolicionista. ¿Por qué no la hacemos?\n",
              "\n",
              "### Legislación en Otros Países\n",
              "\n",
              "¿Hay algún país que haya legislado y estés de acuerdo con cómo lo ha hecho?\n",
              "\n",
              "El último en legislar estas políticas abolicionistas es Francia, con una ley mucho más avanzada, que viste de derechos a las mujeres. Porque de lo que se trata es de dar alternativas y oportunidades. ¿Erradica la prostitución y la trata al cien por cien? No, y en muchos casos la esconde, pero hay menos explotación.\n",
              "\n",
              "### Cifras de Clientes de Prostitución en España\n",
              "\n",
              "¿En qué cifras nos movemos en España de clientes de la prostitución? ¿Es el país con más clientes de Europa?\n",
              "\n",
              "Hay una encuesta que dice, y no lo digo yo, porque a todos los que les pregunto me dicen que no, que un 38% de los hombres españoles reconoce utilizarla, lo que corresponde a 8 millones y medio. Es el país de Europa que más consume y uno de los más del mundo, porque la prostitución está muy normalizada y legitimada.\n",
              "\n",
              "### Razones de la Normalización\n",
              "\n",
              "¿A qué puede deberse esto?\n",
              "\n",
              "A que está enquistada desde siempre, de toda la vida, y se normaliza también por la falta de educación sexual. **No la hay. Nuestros chavales están 'educando' la sexualidad en la pornografía, lo que les hace creer que tienen derecho a comprar a un ser humano.** Nos hace falta muchísima educación en los entornos familiares y en los colegios. La Ley Celáa, de la que todo el mundo habla pestes, aborda la sexualidad como una asignatura, lo cual es magnífico.\n",
              "\n",
              "### Futuro de la Juventud y la Prostitución\n",
              "\n",
              "¿Cómo se enfrentan los jóvenes a la prostitución, es decir, cómo viene el futuro?\n",
              "\n",
              "Viene lleno de pornografía, lo que llamo prostitución 2.0, la pornografía en vivo. Para escribir mi último libro, 'PornoXplotación', investigué durante casi cinco años junto a un inspector de la policía y vimos que la prostitución está migrando a esas fronteras digitales, y es a eso a lo que vamos a tener que enfrentarnos. La inteligencia artificial, que es magnífica y nos facilita la vida, también va a dejar muchas víctimas en los dos lados: por una parte niñas explotadas, secuestradas, engañadas, grooming, sexting..., y al otro lado de la pantalla niños cada vez más jóvenes que llegan a la pornografía sin un pensamiento crítico. Es un fenómeno que parece inocuo pero es peligrosísimo, turbio y en muchos casos a quienes la consumen desde muy temprana edad los vemos comprando mujeres en las rotondas a los 18, 19, 20 años... **Es algo que no debería tener cabida en este siglo.**\n",
              "\n",
              "### Solución Propuesta\n",
              "\n",
              "¿Cuál es tu solución a esta lacra?\n",
              "\n",
              "No es una lacra, sino un fenómeno delictivo, porque trata y prostitución van de la mano. Porque no se puede hablar de prostitución sin hablar de trata sexual, ni de esta sin la primera, y no se puede hablar de pornografía sin hablar de prostitución. Hay dos pilares muy importantes: la legislación -leyes orgánicas que penalicen este fenómeno delictivo, a los proxenetas y a los demandantes de sexo de pago como cómplices, y que den derechos a las mujeres- y la educación sexual de los jóvenes. A partir de ahí intentaremos poner un grano de arena todos, madres y padres, como educadores, porque si no lo dejamos todo en el tejado de los políticos. ¿Qué puedo hacer yo en mi casa? Soy educador. ¿Qué hago yo? Soy cineasta y utilizo el cine como herramienta de transformación social, acabo de ganar un Goya con 'Biografía del cadáver de una mujer' y esto ha supuesto un altavoz de gran impacto, veo cómo se empieza a mover ficha. Hasta ahora no ha habido una voluntad política ni en el PP ni en el PSOE, pero no es el momento de parchear, sino de hacer leyes con valentía."
            ],
            "text/plain": [
              "<IPython.core.display.Markdown object>"
            ]
          },
          "metadata": {},
          "output_type": "display_data"
        }
      ],
      "source": [
        "estilizador_output = resultado.tasks_output[3].raw\n",
        "display(Markdown(estilizador_output))"
      ]
    },
    {
      "cell_type": "code",
      "execution_count": 22,
      "metadata": {
        "colab": {
          "base_uri": "https://localhost:8080/",
          "height": 1000
        },
        "id": "ttNiC_LV1UGu",
        "outputId": "ae2913d1-b454-4e6d-ea04-7b5bffd95f13"
      },
      "outputs": [],
      "source": [
        "# display(Markdown(resultado.raw))"
      ]
    }
  ],
  "metadata": {
    "colab": {
      "provenance": []
    },
    "kernelspec": {
      "display_name": ".venv",
      "language": "python",
      "name": "python3"
    },
    "language_info": {
      "codemirror_mode": {
        "name": "ipython",
        "version": 3
      },
      "file_extension": ".py",
      "mimetype": "text/x-python",
      "name": "python",
      "nbconvert_exporter": "python",
      "pygments_lexer": "ipython3",
      "version": "3.12.3"
    }
  },
  "nbformat": 4,
  "nbformat_minor": 0
}
