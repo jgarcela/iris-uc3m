{
  "cells": [
    {
      "cell_type": "markdown",
      "metadata": {
        "id": "KlFmjIkxZcpp"
      },
      "source": [
        "# CrewAI Multi-Agents Demo\n",
        "\n",
        "# Installs"
      ]
    },
    {
      "cell_type": "markdown",
      "metadata": {
        "id": "5PQIQhK8Z2Kz"
      },
      "source": [
        "# Imports"
      ]
    },
    {
      "cell_type": "code",
      "execution_count": 1,
      "metadata": {
        "id": "NuxhN3l48W_9"
      },
      "outputs": [],
      "source": [
        "import warnings\n",
        "warnings.filterwarnings('ignore')"
      ]
    },
    {
      "cell_type": "code",
      "execution_count": 2,
      "metadata": {
        "id": "Cj-0i1n0TXJs"
      },
      "outputs": [],
      "source": [
        "import configparser\n",
        "import openai\n",
        "import os\n",
        "\n",
        "config = configparser.ConfigParser()\n",
        "config.read('../pruebas_openai/config.ini')\n",
        "\n",
        "OPENAI_MODEL = config['DEFAULT']['OPENAI_MODEL']\n",
        "openai.api_key = config['DEFAULT']['OPENAI_API_KEY']\n",
        "OPENAI_API_KEY = config['DEFAULT']['OPENAI_API_KEY']\n",
        "os.environ[\"OPENAI_API_KEY\"] = OPENAI_API_KEY"
      ]
    },
    {
      "cell_type": "code",
      "execution_count": null,
      "metadata": {
        "id": "lEcd2r0LZoP1"
      },
      "outputs": [],
      "source": [
        "from crewai import Agent, Task, Crew\n",
        "from crewai.tools import BaseTool\n",
        "from langchain.chat_models import ChatOpenAI\n",
        "import requests\n",
        "from IPython.display import Markdown\n",
        "import pandas as pd"
      ]
    },
    {
      "cell_type": "markdown",
      "metadata": {},
      "source": [
        "# Artículos"
      ]
    },
    {
      "cell_type": "code",
      "execution_count": null,
      "metadata": {},
      "outputs": [],
      "source": [
        "data = pd.read_csv(\"../data/contenido_2023_04_05_matriz_not_julia.csv\")\n",
        "data = data.iloc[[23]]"
      ]
    },
    {
      "cell_type": "code",
      "execution_count": null,
      "metadata": {},
      "outputs": [],
      "source": [
        "# Texto de ejemplo\n",
        "texto_noticia = data['contenido'].values[0]\n",
        "texto_noticia"
      ]
    },
    {
      "cell_type": "markdown",
      "metadata": {
        "id": "zTseSPT2bemJ"
      },
      "source": [
        "# Define Agents"
      ]
    },
    {
      "cell_type": "code",
      "execution_count": null,
      "metadata": {},
      "outputs": [],
      "source": [
        "from langchain.llms import HuggingFacePipeline\n",
        "from transformers import AutoModelForCausalLM, AutoTokenizer, pipeline"
      ]
    },
    {
      "cell_type": "code",
      "execution_count": null,
      "metadata": {},
      "outputs": [],
      "source": [
        "llm_openai = True"
      ]
    },
    {
      "cell_type": "code",
      "execution_count": null,
      "metadata": {
        "id": "ppU_JNBZuqIg"
      },
      "outputs": [],
      "source": [
        "# Usando OpenAI\n",
        "if llm_openai:\n",
        "    llm = ChatOpenAI(model_name=OPENAI_MODEL,\n",
        "                    api_key= OPENAI_API_KEY,\n",
        "                    temperature=0.2)\n",
        "\n",
        "# Usando Salamandra-2B\n",
        "else:\n",
        "    model_name = \"BSC-LT/salamandra-2b\"\n",
        "    tokenizer = AutoTokenizer.from_pretrained(model_name)\n",
        "    model = AutoModelForCausalLM.from_pretrained(model_name)\n",
        "\n",
        "    text_generator = pipeline(\n",
        "        \"text-generation\",\n",
        "        model=model,\n",
        "        tokenizer=tokenizer,\n",
        "        max_new_tokens=512,\n",
        "        temperature=0.7,\n",
        "        do_sample=True,\n",
        "    )\n",
        "\n",
        "    llm = HuggingFacePipeline(pipeline=text_generator)"
      ]
    },
    {
      "cell_type": "code",
      "execution_count": null,
      "metadata": {},
      "outputs": [],
      "source": [
        "def crear_agente(tipo, profesion, genero, politica):\n",
        "    pronombre = \"ella\" if genero == \"mujer\" else \"él\"\n",
        "    articulo = \"una\" if genero == \"mujer\" else \"un\"\n",
        "    role = f\"{tipo.capitalize()} ({profesion}, {genero}, {politica})\"\n",
        "\n",
        "    contexto = (\n",
        "        f\"{articulo.capitalize()} {profesion} con identidad de género {genero} \"\n",
        "        f\"y orientación política {politica}. {pronombre.capitalize()} aporta \"\n",
        "        f\"una perspectiva particular sobre el lenguaje y los sesgos debido a su trasfondo.\"\n",
        "    )\n",
        "\n",
        "    # ----------------------\n",
        "    # 1. Agente Analista\n",
        "    # ----------------------\n",
        "    if tipo == \"analista\":\n",
        "        goal = \"Detectar estereotipos, sesgos de género o lenguaje sexista en textos periodísticos.\"\n",
        "        backstory = contexto + \" Su labor es identificar sesgos implícitos o explícitos en el texto.\"\n",
        "\n",
        "    # ----------------------\n",
        "    # 2. Agente Crítico\n",
        "    # ----------------------\n",
        "    elif tipo == \"critico\":\n",
        "        goal = \"Explicar el impacto de los sesgos detectados sobre la percepción del rol de la mujer en la sociedad.\"\n",
        "        backstory = contexto + \" Analiza cómo estos sesgos afectan la forma en que se perciben las mujeres en contextos profesionales y sociales.\"\n",
        "\n",
        "    # ----------------------\n",
        "    # 3. Agente Redactor\n",
        "    # ----------------------\n",
        "    elif tipo == \"redactor\":\n",
        "        goal = \"Reescribir el texto original usando lenguaje inclusivo y eliminando estereotipos.\"\n",
        "        backstory = contexto + \" Se especializa en transformar lenguaje sesgado en narrativas igualitarias.\"\n",
        "\n",
        "    # ----------------------\n",
        "    # 4. Agente Comparador\n",
        "    # ----------------------\n",
        "    elif tipo == \"comparador\":\n",
        "        goal = \"Comparar los análisis de otros agentes y reflexionar sobre cómo la identidad influye en la detección de sesgos.\"\n",
        "        backstory = contexto + \" Observa cómo las variables de identidad (profesión, género, política) afectan la interpretación del texto.\"\n",
        "    else:\n",
        "        raise ValueError(f\"Tipo de agente no válido: {tipo}\")\n",
        "\n",
        "    return Agent(\n",
        "        role=role,\n",
        "        goal=goal,\n",
        "        backstory=backstory,\n",
        "        verbose=True,\n",
        "        llm=llm\n",
        "    )"
      ]
    },
    {
      "cell_type": "code",
      "execution_count": null,
      "metadata": {},
      "outputs": [],
      "source": [
        "# ----------------------\n",
        "# 5. Agente Estilizador\n",
        "# ----------------------\n",
        "def crear_estilizador():\n",
        "    return Agent(\n",
        "        role=\"Estilizador (asistente técnico neutral)\",\n",
        "        goal=\"Convertir los resultados anteriores en un informe estructurado en Markdown.\",\n",
        "        backstory=\"Asistente especializado en presentación clara de resultados. No realiza análisis, sino que organiza y mejora la visualización del contenido.\",\n",
        "        verbose=True,\n",
        "        llm=llm\n",
        "    )"
      ]
    },
    {
      "cell_type": "markdown",
      "metadata": {
        "id": "JC1gVbotbhnX"
      },
      "source": [
        "## Crear agentes"
      ]
    },
    {
      "cell_type": "code",
      "execution_count": null,
      "metadata": {
        "colab": {
          "base_uri": "https://localhost:8080/"
        },
        "collapsed": true,
        "id": "9u1XCX0ybpaU",
        "outputId": "7cf887b2-756e-47bc-967f-18178670ae40"
      },
      "outputs": [],
      "source": [
        "# Define los parámetros para cada uno de los 5 agentes funcionales\n",
        "profesion = \"juez\" # \"jueza\", \"abogada\", \"periodista\", \"investigadora\", \"profesora\", \"médica\", \"psicóloga\", \"trabajadora social\"\n",
        "genero = \"mujer\" # \"mujer\", \"hombre\"\n",
        "politica = \"progresista\" # \"progresista\", \"conservadora\", \"neutra\"\n",
        "\n",
        "# Define los perfiles de los agentes\n",
        "perfiles = {\n",
        "    \"analista\":    {\"profesion\": profesion, \"genero\": genero, \"politica\": politica},\n",
        "    \"critico\":     {\"profesion\": profesion, \"genero\": genero, \"politica\": politica},\n",
        "    \"redactor\":    {\"profesion\": profesion, \"genero\": genero, \"politica\": politica},\n",
        "    \"comparador\":  {\"profesion\": profesion, \"genero\": genero, \"politica\": politica},\n",
        "}"
      ]
    },
    {
      "cell_type": "code",
      "execution_count": null,
      "metadata": {},
      "outputs": [],
      "source": [
        "# Crear agentes\n",
        "agentes = {\n",
        "    tipo: crear_agente(tipo, **params)\n",
        "    for tipo, params in perfiles.items() if tipo != \"estilizador\"\n",
        "}\n",
        "agentes[\"estilizador\"] = crear_estilizador()\n"
      ]
    },
    {
      "cell_type": "markdown",
      "metadata": {
        "id": "qOybVgj9bsW1"
      },
      "source": [
        "## Crear tareas"
      ]
    },
    {
      "cell_type": "code",
      "execution_count": null,
      "metadata": {
        "id": "l67T3CiQb4Sm"
      },
      "outputs": [],
      "source": [
        "tareas = [\n",
        "    Task(\n",
        "    description=(\n",
        "            f\"\"\"Analiza el siguiente texto completo con atención al contexto y la intención del autor.\n",
        "\n",
        "    Tu objetivo es detectar frases que perpetúen estereotipos, lenguaje sexista o sesgos de género de forma explícita o implícita.  \n",
        "    ⚠️ Ten en cuenta que algunas frases podrían parecer problemáticas en sí mismas, pero no lo son si el texto las está usando para **criticar** esos sesgos.  \n",
        "    No marques como sesgada ninguna frase si forma parte de una **denuncia o crítica** a ese mismo lenguaje.\n",
        "\n",
        "    1. Enumera las frases que verdaderamente refuercen o reproduzcan estereotipos o sesgos de género. Justifica cada una.\n",
        "    2. En el texto original:\n",
        "        - Usa `<span style=\"color: red; font-weight: bold;\">... </span>` para marcar frases con sesgos o estereotipos.\n",
        "\n",
        "    Texto original:\n",
        "    {texto_noticia}\n",
        "    \"\"\"\n",
        "        ),\n",
        "        expected_output=(\n",
        "            \"Frases problemáticas con justificación + texto original anotado con Markdown.\"\n",
        "        ),\n",
        "        agent=agentes[\"analista\"]\n",
        "    ),\n",
        "    Task(\n",
        "        description=\"Explica cómo los sesgos detectados afectan la percepción de la mujer en la sociedad.\",\n",
        "        expected_output=\"Análisis crítico del impacto social.\",\n",
        "        agent=agentes[\"critico\"],\n",
        "        input=\"previous_task_output\"\n",
        "    ),\n",
        "    Task(\n",
        "        description=\"Reescribe el texto con lenguaje inclusivo y sin estereotipos.\",\n",
        "        expected_output=\"Nueva versión del texto con lenguaje igualitario.\",\n",
        "        agent=agentes[\"redactor\"],\n",
        "        input=\"previous_task_output\"\n",
        "    ),\n",
        "    Task(\n",
        "        description=\"Compara los análisis anteriores y reflexiona sobre cómo influyen la profesión, género y política de cada agente.\",\n",
        "        expected_output=\"Reflexión comparativa desde una perspectiva neutral.\",\n",
        "        agent=agentes[\"comparador\"],\n",
        "        input=\"previous_task_output\"\n",
        "    ),\n",
        "    Task(\n",
        "        description=\"Toma todos los análisis anteriores y preséntalos en un informe en formato Markdown con títulos, listas, separadores y claridad visual.\",\n",
        "        expected_output=\"Informe en Markdown limpio y bien estructurado.\",\n",
        "        agent=agentes[\"estilizador\"],\n",
        "        input=\"previous_task_output\"\n",
        "    )\n",
        "]"
      ]
    },
    {
      "cell_type": "markdown",
      "metadata": {
        "id": "g6Us-hNsda3k"
      },
      "source": [
        "# Orchestrate Agents"
      ]
    },
    {
      "cell_type": "code",
      "execution_count": null,
      "metadata": {
        "id": "UFrPpP_AY5tz"
      },
      "outputs": [],
      "source": [
        "crew = Crew(\n",
        "    agents=list(agentes.values()),\n",
        "    tasks=tareas,\n",
        "    verbose=True\n",
        ")"
      ]
    },
    {
      "cell_type": "markdown",
      "metadata": {
        "id": "Sv8tdk1tezvL"
      },
      "source": [
        "# Execute"
      ]
    },
    {
      "cell_type": "code",
      "execution_count": null,
      "metadata": {
        "colab": {
          "base_uri": "https://localhost:8080/"
        },
        "id": "9DfmRfn5e0J8",
        "outputId": "2e0d5166-e047-42d0-ff8e-dd20051a1acf"
      },
      "outputs": [],
      "source": [
        "resultado = crew.kickoff()"
      ]
    },
    {
      "cell_type": "code",
      "execution_count": null,
      "metadata": {},
      "outputs": [],
      "source": [
        "analista_output = resultado.tasks_output[0].raw\n",
        "display(Markdown(analista_output))"
      ]
    },
    {
      "cell_type": "code",
      "execution_count": null,
      "metadata": {},
      "outputs": [],
      "source": [
        "critico_output = resultado.tasks_output[1].raw\n",
        "display(Markdown(critico_output))"
      ]
    },
    {
      "cell_type": "code",
      "execution_count": null,
      "metadata": {},
      "outputs": [],
      "source": [
        "redactor_output = resultado.tasks_output[2].raw\n",
        "display(Markdown(redactor_output))"
      ]
    },
    {
      "cell_type": "code",
      "execution_count": null,
      "metadata": {},
      "outputs": [],
      "source": [
        "comparador_output = resultado.tasks_output[3].raw\n",
        "display(Markdown(comparador_output))"
      ]
    },
    {
      "cell_type": "code",
      "execution_count": null,
      "metadata": {
        "colab": {
          "base_uri": "https://localhost:8080/",
          "height": 1000
        },
        "id": "ttNiC_LV1UGu",
        "outputId": "ae2913d1-b454-4e6d-ea04-7b5bffd95f13"
      },
      "outputs": [],
      "source": [
        "# display(Markdown(resultado.raw))"
      ]
    }
  ],
  "metadata": {
    "colab": {
      "provenance": []
    },
    "kernelspec": {
      "display_name": ".venv",
      "language": "python",
      "name": "python3"
    },
    "language_info": {
      "codemirror_mode": {
        "name": "ipython",
        "version": 3
      },
      "file_extension": ".py",
      "mimetype": "text/x-python",
      "name": "python",
      "nbconvert_exporter": "python",
      "pygments_lexer": "ipython3",
      "version": "3.12.3"
    }
  },
  "nbformat": 4,
  "nbformat_minor": 0
}
