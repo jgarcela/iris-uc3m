{
  "cells": [
    {
      "cell_type": "markdown",
      "metadata": {
        "id": "KlFmjIkxZcpp"
      },
      "source": [
        "# CrewAI Multi-Agents Demo\n",
        "\n",
        "# Installs"
      ]
    },
    {
      "cell_type": "code",
      "execution_count": 1,
      "metadata": {},
      "outputs": [
        {
          "name": "stdout",
          "output_type": "stream",
          "text": [
            "Requirement already satisfied: openai in /Users/jorgegarcelan/Desktop/UNI/6-LAB TSC/iris-uc3m/.venv/lib/python3.11/site-packages (1.70.0)\n",
            "Requirement already satisfied: crewai in /Users/jorgegarcelan/Desktop/UNI/6-LAB TSC/iris-uc3m/.venv/lib/python3.11/site-packages (0.108.0)\n",
            "Requirement already satisfied: crewai-tools in /Users/jorgegarcelan/Desktop/UNI/6-LAB TSC/iris-uc3m/.venv/lib/python3.11/site-packages (0.38.1)\n",
            "Requirement already satisfied: langchain_community in /Users/jorgegarcelan/Desktop/UNI/6-LAB TSC/iris-uc3m/.venv/lib/python3.11/site-packages (0.3.20)\n",
            "Requirement already satisfied: anyio<5,>=3.5.0 in /Users/jorgegarcelan/Desktop/UNI/6-LAB TSC/iris-uc3m/.venv/lib/python3.11/site-packages (from openai) (4.9.0)\n",
            "Requirement already satisfied: distro<2,>=1.7.0 in /Users/jorgegarcelan/Desktop/UNI/6-LAB TSC/iris-uc3m/.venv/lib/python3.11/site-packages (from openai) (1.9.0)\n",
            "Requirement already satisfied: httpx<1,>=0.23.0 in /Users/jorgegarcelan/Desktop/UNI/6-LAB TSC/iris-uc3m/.venv/lib/python3.11/site-packages (from openai) (0.27.2)\n",
            "Requirement already satisfied: jiter<1,>=0.4.0 in /Users/jorgegarcelan/Desktop/UNI/6-LAB TSC/iris-uc3m/.venv/lib/python3.11/site-packages (from openai) (0.8.2)\n",
            "Requirement already satisfied: pydantic<3,>=1.9.0 in /Users/jorgegarcelan/Desktop/UNI/6-LAB TSC/iris-uc3m/.venv/lib/python3.11/site-packages (from openai) (2.11.2)\n",
            "Requirement already satisfied: sniffio in /Users/jorgegarcelan/Desktop/UNI/6-LAB TSC/iris-uc3m/.venv/lib/python3.11/site-packages (from openai) (1.3.1)\n",
            "Requirement already satisfied: tqdm>4 in /Users/jorgegarcelan/Desktop/UNI/6-LAB TSC/iris-uc3m/.venv/lib/python3.11/site-packages (from openai) (4.67.1)\n",
            "Requirement already satisfied: typing-extensions<5,>=4.11 in /Users/jorgegarcelan/Desktop/UNI/6-LAB TSC/iris-uc3m/.venv/lib/python3.11/site-packages (from openai) (4.13.1)\n",
            "Requirement already satisfied: appdirs>=1.4.4 in /Users/jorgegarcelan/Desktop/UNI/6-LAB TSC/iris-uc3m/.venv/lib/python3.11/site-packages (from crewai) (1.4.4)\n",
            "Requirement already satisfied: auth0-python>=4.7.1 in /Users/jorgegarcelan/Desktop/UNI/6-LAB TSC/iris-uc3m/.venv/lib/python3.11/site-packages (from crewai) (4.9.0)\n",
            "Requirement already satisfied: blinker>=1.9.0 in /Users/jorgegarcelan/Desktop/UNI/6-LAB TSC/iris-uc3m/.venv/lib/python3.11/site-packages (from crewai) (1.9.0)\n",
            "Requirement already satisfied: chromadb>=0.5.23 in /Users/jorgegarcelan/Desktop/UNI/6-LAB TSC/iris-uc3m/.venv/lib/python3.11/site-packages (from crewai) (0.5.23)\n",
            "Requirement already satisfied: click>=8.1.7 in /Users/jorgegarcelan/Desktop/UNI/6-LAB TSC/iris-uc3m/.venv/lib/python3.11/site-packages (from crewai) (8.1.8)\n",
            "Requirement already satisfied: instructor>=1.3.3 in /Users/jorgegarcelan/Desktop/UNI/6-LAB TSC/iris-uc3m/.venv/lib/python3.11/site-packages (from crewai) (1.7.9)\n",
            "Requirement already satisfied: json-repair>=0.25.2 in /Users/jorgegarcelan/Desktop/UNI/6-LAB TSC/iris-uc3m/.venv/lib/python3.11/site-packages (from crewai) (0.40.0)\n",
            "Requirement already satisfied: json5>=0.10.0 in /Users/jorgegarcelan/Desktop/UNI/6-LAB TSC/iris-uc3m/.venv/lib/python3.11/site-packages (from crewai) (0.12.0)\n",
            "Requirement already satisfied: jsonref>=1.1.0 in /Users/jorgegarcelan/Desktop/UNI/6-LAB TSC/iris-uc3m/.venv/lib/python3.11/site-packages (from crewai) (1.1.0)\n",
            "Requirement already satisfied: litellm==1.60.2 in /Users/jorgegarcelan/Desktop/UNI/6-LAB TSC/iris-uc3m/.venv/lib/python3.11/site-packages (from crewai) (1.60.2)\n",
            "Requirement already satisfied: openpyxl>=3.1.5 in /Users/jorgegarcelan/Desktop/UNI/6-LAB TSC/iris-uc3m/.venv/lib/python3.11/site-packages (from crewai) (3.1.5)\n",
            "Requirement already satisfied: opentelemetry-api>=1.22.0 in /Users/jorgegarcelan/Desktop/UNI/6-LAB TSC/iris-uc3m/.venv/lib/python3.11/site-packages (from crewai) (1.31.1)\n",
            "Requirement already satisfied: opentelemetry-exporter-otlp-proto-http>=1.22.0 in /Users/jorgegarcelan/Desktop/UNI/6-LAB TSC/iris-uc3m/.venv/lib/python3.11/site-packages (from crewai) (1.31.1)\n",
            "Requirement already satisfied: opentelemetry-sdk>=1.22.0 in /Users/jorgegarcelan/Desktop/UNI/6-LAB TSC/iris-uc3m/.venv/lib/python3.11/site-packages (from crewai) (1.31.1)\n",
            "Requirement already satisfied: pdfplumber>=0.11.4 in /Users/jorgegarcelan/Desktop/UNI/6-LAB TSC/iris-uc3m/.venv/lib/python3.11/site-packages (from crewai) (0.11.6)\n",
            "Requirement already satisfied: python-dotenv>=1.0.0 in /Users/jorgegarcelan/Desktop/UNI/6-LAB TSC/iris-uc3m/.venv/lib/python3.11/site-packages (from crewai) (1.1.0)\n",
            "Requirement already satisfied: pyvis>=0.3.2 in /Users/jorgegarcelan/Desktop/UNI/6-LAB TSC/iris-uc3m/.venv/lib/python3.11/site-packages (from crewai) (0.3.2)\n",
            "Requirement already satisfied: regex>=2024.9.11 in /Users/jorgegarcelan/Desktop/UNI/6-LAB TSC/iris-uc3m/.venv/lib/python3.11/site-packages (from crewai) (2024.11.6)\n",
            "Requirement already satisfied: tomli-w>=1.1.0 in /Users/jorgegarcelan/Desktop/UNI/6-LAB TSC/iris-uc3m/.venv/lib/python3.11/site-packages (from crewai) (1.2.0)\n",
            "Requirement already satisfied: tomli>=2.0.2 in /Users/jorgegarcelan/Desktop/UNI/6-LAB TSC/iris-uc3m/.venv/lib/python3.11/site-packages (from crewai) (2.2.1)\n",
            "Requirement already satisfied: uv>=0.4.25 in /Users/jorgegarcelan/Desktop/UNI/6-LAB TSC/iris-uc3m/.venv/lib/python3.11/site-packages (from crewai) (0.6.12)\n",
            "Requirement already satisfied: aiohttp in /Users/jorgegarcelan/Desktop/UNI/6-LAB TSC/iris-uc3m/.venv/lib/python3.11/site-packages (from litellm==1.60.2->crewai) (3.11.16)\n",
            "Requirement already satisfied: importlib-metadata>=6.8.0 in /Users/jorgegarcelan/Desktop/UNI/6-LAB TSC/iris-uc3m/.venv/lib/python3.11/site-packages (from litellm==1.60.2->crewai) (8.6.1)\n",
            "Requirement already satisfied: jinja2<4.0.0,>=3.1.2 in /Users/jorgegarcelan/Desktop/UNI/6-LAB TSC/iris-uc3m/.venv/lib/python3.11/site-packages (from litellm==1.60.2->crewai) (3.1.6)\n",
            "Requirement already satisfied: jsonschema<5.0.0,>=4.22.0 in /Users/jorgegarcelan/Desktop/UNI/6-LAB TSC/iris-uc3m/.venv/lib/python3.11/site-packages (from litellm==1.60.2->crewai) (4.23.0)\n",
            "Requirement already satisfied: tiktoken>=0.7.0 in /Users/jorgegarcelan/Desktop/UNI/6-LAB TSC/iris-uc3m/.venv/lib/python3.11/site-packages (from litellm==1.60.2->crewai) (0.9.0)\n",
            "Requirement already satisfied: tokenizers in /Users/jorgegarcelan/Desktop/UNI/6-LAB TSC/iris-uc3m/.venv/lib/python3.11/site-packages (from litellm==1.60.2->crewai) (0.20.3)\n",
            "Requirement already satisfied: docker>=7.1.0 in /Users/jorgegarcelan/Desktop/UNI/6-LAB TSC/iris-uc3m/.venv/lib/python3.11/site-packages (from crewai-tools) (7.1.0)\n",
            "Requirement already satisfied: embedchain>=0.1.114 in /Users/jorgegarcelan/Desktop/UNI/6-LAB TSC/iris-uc3m/.venv/lib/python3.11/site-packages (from crewai-tools) (0.1.128)\n",
            "Requirement already satisfied: lancedb>=0.5.4 in /Users/jorgegarcelan/Desktop/UNI/6-LAB TSC/iris-uc3m/.venv/lib/python3.11/site-packages (from crewai-tools) (0.21.2)\n",
            "Requirement already satisfied: pyright>=1.1.350 in /Users/jorgegarcelan/Desktop/UNI/6-LAB TSC/iris-uc3m/.venv/lib/python3.11/site-packages (from crewai-tools) (1.1.398)\n",
            "Requirement already satisfied: pytube>=15.0.0 in /Users/jorgegarcelan/Desktop/UNI/6-LAB TSC/iris-uc3m/.venv/lib/python3.11/site-packages (from crewai-tools) (15.0.0)\n",
            "Requirement already satisfied: requests>=2.31.0 in /Users/jorgegarcelan/Desktop/UNI/6-LAB TSC/iris-uc3m/.venv/lib/python3.11/site-packages (from crewai-tools) (2.32.3)\n",
            "Requirement already satisfied: langchain-core<1.0.0,>=0.3.45 in /Users/jorgegarcelan/Desktop/UNI/6-LAB TSC/iris-uc3m/.venv/lib/python3.11/site-packages (from langchain_community) (0.3.50)\n",
            "Requirement already satisfied: langchain<1.0.0,>=0.3.21 in /Users/jorgegarcelan/Desktop/UNI/6-LAB TSC/iris-uc3m/.venv/lib/python3.11/site-packages (from langchain_community) (0.3.22)\n",
            "Requirement already satisfied: SQLAlchemy<3,>=1.4 in /Users/jorgegarcelan/Desktop/UNI/6-LAB TSC/iris-uc3m/.venv/lib/python3.11/site-packages (from langchain_community) (2.0.40)\n",
            "Requirement already satisfied: PyYAML>=5.3 in /Users/jorgegarcelan/Desktop/UNI/6-LAB TSC/iris-uc3m/.venv/lib/python3.11/site-packages (from langchain_community) (6.0.2)\n",
            "Requirement already satisfied: tenacity!=8.4.0,<10,>=8.1.0 in /Users/jorgegarcelan/Desktop/UNI/6-LAB TSC/iris-uc3m/.venv/lib/python3.11/site-packages (from langchain_community) (9.1.2)\n",
            "Requirement already satisfied: dataclasses-json<0.7,>=0.5.7 in /Users/jorgegarcelan/Desktop/UNI/6-LAB TSC/iris-uc3m/.venv/lib/python3.11/site-packages (from langchain_community) (0.6.7)\n",
            "Requirement already satisfied: pydantic-settings<3.0.0,>=2.4.0 in /Users/jorgegarcelan/Desktop/UNI/6-LAB TSC/iris-uc3m/.venv/lib/python3.11/site-packages (from langchain_community) (2.8.1)\n",
            "Requirement already satisfied: langsmith<0.4,>=0.1.125 in /Users/jorgegarcelan/Desktop/UNI/6-LAB TSC/iris-uc3m/.venv/lib/python3.11/site-packages (from langchain_community) (0.3.24)\n",
            "Requirement already satisfied: httpx-sse<1.0.0,>=0.4.0 in /Users/jorgegarcelan/Desktop/UNI/6-LAB TSC/iris-uc3m/.venv/lib/python3.11/site-packages (from langchain_community) (0.4.0)\n",
            "Requirement already satisfied: numpy<3,>=1.26.2 in /Users/jorgegarcelan/Desktop/UNI/6-LAB TSC/iris-uc3m/.venv/lib/python3.11/site-packages (from langchain_community) (2.2.4)\n",
            "Requirement already satisfied: aiohappyeyeballs>=2.3.0 in /Users/jorgegarcelan/Desktop/UNI/6-LAB TSC/iris-uc3m/.venv/lib/python3.11/site-packages (from aiohttp->litellm==1.60.2->crewai) (2.6.1)\n",
            "Requirement already satisfied: aiosignal>=1.1.2 in /Users/jorgegarcelan/Desktop/UNI/6-LAB TSC/iris-uc3m/.venv/lib/python3.11/site-packages (from aiohttp->litellm==1.60.2->crewai) (1.3.2)\n",
            "Requirement already satisfied: attrs>=17.3.0 in /Users/jorgegarcelan/Desktop/UNI/6-LAB TSC/iris-uc3m/.venv/lib/python3.11/site-packages (from aiohttp->litellm==1.60.2->crewai) (25.3.0)\n",
            "Requirement already satisfied: frozenlist>=1.1.1 in /Users/jorgegarcelan/Desktop/UNI/6-LAB TSC/iris-uc3m/.venv/lib/python3.11/site-packages (from aiohttp->litellm==1.60.2->crewai) (1.5.0)\n",
            "Requirement already satisfied: multidict<7.0,>=4.5 in /Users/jorgegarcelan/Desktop/UNI/6-LAB TSC/iris-uc3m/.venv/lib/python3.11/site-packages (from aiohttp->litellm==1.60.2->crewai) (6.3.2)\n",
            "Requirement already satisfied: propcache>=0.2.0 in /Users/jorgegarcelan/Desktop/UNI/6-LAB TSC/iris-uc3m/.venv/lib/python3.11/site-packages (from aiohttp->litellm==1.60.2->crewai) (0.3.1)\n",
            "Requirement already satisfied: yarl<2.0,>=1.17.0 in /Users/jorgegarcelan/Desktop/UNI/6-LAB TSC/iris-uc3m/.venv/lib/python3.11/site-packages (from aiohttp->litellm==1.60.2->crewai) (1.18.3)\n",
            "Requirement already satisfied: idna>=2.8 in /Users/jorgegarcelan/Desktop/UNI/6-LAB TSC/iris-uc3m/.venv/lib/python3.11/site-packages (from anyio<5,>=3.5.0->openai) (3.10)\n",
            "Requirement already satisfied: cryptography>=43.0.1 in /Users/jorgegarcelan/Desktop/UNI/6-LAB TSC/iris-uc3m/.venv/lib/python3.11/site-packages (from auth0-python>=4.7.1->crewai) (44.0.2)\n",
            "Requirement already satisfied: pyjwt>=2.8.0 in /Users/jorgegarcelan/Desktop/UNI/6-LAB TSC/iris-uc3m/.venv/lib/python3.11/site-packages (from auth0-python>=4.7.1->crewai) (2.10.1)\n",
            "Requirement already satisfied: urllib3>=2.2.3 in /Users/jorgegarcelan/Desktop/UNI/6-LAB TSC/iris-uc3m/.venv/lib/python3.11/site-packages (from auth0-python>=4.7.1->crewai) (2.3.0)\n",
            "Requirement already satisfied: build>=1.0.3 in /Users/jorgegarcelan/Desktop/UNI/6-LAB TSC/iris-uc3m/.venv/lib/python3.11/site-packages (from chromadb>=0.5.23->crewai) (1.2.2.post1)\n",
            "Requirement already satisfied: chroma-hnswlib==0.7.6 in /Users/jorgegarcelan/Desktop/UNI/6-LAB TSC/iris-uc3m/.venv/lib/python3.11/site-packages (from chromadb>=0.5.23->crewai) (0.7.6)\n",
            "Requirement already satisfied: fastapi>=0.95.2 in /Users/jorgegarcelan/Desktop/UNI/6-LAB TSC/iris-uc3m/.venv/lib/python3.11/site-packages (from chromadb>=0.5.23->crewai) (0.115.9)\n",
            "Requirement already satisfied: uvicorn>=0.18.3 in /Users/jorgegarcelan/Desktop/UNI/6-LAB TSC/iris-uc3m/.venv/lib/python3.11/site-packages (from uvicorn[standard]>=0.18.3->chromadb>=0.5.23->crewai) (0.34.0)\n",
            "Requirement already satisfied: posthog>=2.4.0 in /Users/jorgegarcelan/Desktop/UNI/6-LAB TSC/iris-uc3m/.venv/lib/python3.11/site-packages (from chromadb>=0.5.23->crewai) (3.23.0)\n",
            "Requirement already satisfied: onnxruntime>=1.14.1 in /Users/jorgegarcelan/Desktop/UNI/6-LAB TSC/iris-uc3m/.venv/lib/python3.11/site-packages (from chromadb>=0.5.23->crewai) (1.21.0)\n",
            "Requirement already satisfied: opentelemetry-exporter-otlp-proto-grpc>=1.2.0 in /Users/jorgegarcelan/Desktop/UNI/6-LAB TSC/iris-uc3m/.venv/lib/python3.11/site-packages (from chromadb>=0.5.23->crewai) (1.31.1)\n",
            "Requirement already satisfied: opentelemetry-instrumentation-fastapi>=0.41b0 in /Users/jorgegarcelan/Desktop/UNI/6-LAB TSC/iris-uc3m/.venv/lib/python3.11/site-packages (from chromadb>=0.5.23->crewai) (0.52b1)\n",
            "Requirement already satisfied: pypika>=0.48.9 in /Users/jorgegarcelan/Desktop/UNI/6-LAB TSC/iris-uc3m/.venv/lib/python3.11/site-packages (from chromadb>=0.5.23->crewai) (0.48.9)\n",
            "Requirement already satisfied: overrides>=7.3.1 in /Users/jorgegarcelan/Desktop/UNI/6-LAB TSC/iris-uc3m/.venv/lib/python3.11/site-packages (from chromadb>=0.5.23->crewai) (7.7.0)\n",
            "Requirement already satisfied: importlib-resources in /Users/jorgegarcelan/Desktop/UNI/6-LAB TSC/iris-uc3m/.venv/lib/python3.11/site-packages (from chromadb>=0.5.23->crewai) (6.5.2)\n",
            "Requirement already satisfied: grpcio>=1.58.0 in /Users/jorgegarcelan/Desktop/UNI/6-LAB TSC/iris-uc3m/.venv/lib/python3.11/site-packages (from chromadb>=0.5.23->crewai) (1.71.0)\n",
            "Requirement already satisfied: bcrypt>=4.0.1 in /Users/jorgegarcelan/Desktop/UNI/6-LAB TSC/iris-uc3m/.venv/lib/python3.11/site-packages (from chromadb>=0.5.23->crewai) (4.3.0)\n",
            "Requirement already satisfied: typer>=0.9.0 in /Users/jorgegarcelan/Desktop/UNI/6-LAB TSC/iris-uc3m/.venv/lib/python3.11/site-packages (from chromadb>=0.5.23->crewai) (0.15.2)\n",
            "Requirement already satisfied: kubernetes>=28.1.0 in /Users/jorgegarcelan/Desktop/UNI/6-LAB TSC/iris-uc3m/.venv/lib/python3.11/site-packages (from chromadb>=0.5.23->crewai) (32.0.1)\n",
            "Requirement already satisfied: mmh3>=4.0.1 in /Users/jorgegarcelan/Desktop/UNI/6-LAB TSC/iris-uc3m/.venv/lib/python3.11/site-packages (from chromadb>=0.5.23->crewai) (5.1.0)\n",
            "Requirement already satisfied: orjson>=3.9.12 in /Users/jorgegarcelan/Desktop/UNI/6-LAB TSC/iris-uc3m/.venv/lib/python3.11/site-packages (from chromadb>=0.5.23->crewai) (3.10.16)\n",
            "Requirement already satisfied: rich>=10.11.0 in /Users/jorgegarcelan/Desktop/UNI/6-LAB TSC/iris-uc3m/.venv/lib/python3.11/site-packages (from chromadb>=0.5.23->crewai) (13.9.4)\n",
            "Requirement already satisfied: marshmallow<4.0.0,>=3.18.0 in /Users/jorgegarcelan/Desktop/UNI/6-LAB TSC/iris-uc3m/.venv/lib/python3.11/site-packages (from dataclasses-json<0.7,>=0.5.7->langchain_community) (3.26.1)\n",
            "Requirement already satisfied: typing-inspect<1,>=0.4.0 in /Users/jorgegarcelan/Desktop/UNI/6-LAB TSC/iris-uc3m/.venv/lib/python3.11/site-packages (from dataclasses-json<0.7,>=0.5.7->langchain_community) (0.9.0)\n",
            "Requirement already satisfied: alembic<2.0.0,>=1.13.1 in /Users/jorgegarcelan/Desktop/UNI/6-LAB TSC/iris-uc3m/.venv/lib/python3.11/site-packages (from embedchain>=0.1.114->crewai-tools) (1.15.2)\n",
            "Requirement already satisfied: beautifulsoup4<5.0.0,>=4.12.2 in /Users/jorgegarcelan/Desktop/UNI/6-LAB TSC/iris-uc3m/.venv/lib/python3.11/site-packages (from embedchain>=0.1.114->crewai-tools) (4.13.3)\n",
            "Requirement already satisfied: gptcache<0.2.0,>=0.1.43 in /Users/jorgegarcelan/Desktop/UNI/6-LAB TSC/iris-uc3m/.venv/lib/python3.11/site-packages (from embedchain>=0.1.114->crewai-tools) (0.1.44)\n",
            "Requirement already satisfied: langchain-cohere<0.4.0,>=0.3.0 in /Users/jorgegarcelan/Desktop/UNI/6-LAB TSC/iris-uc3m/.venv/lib/python3.11/site-packages (from embedchain>=0.1.114->crewai-tools) (0.3.5)\n",
            "Requirement already satisfied: langchain-openai<0.3.0,>=0.2.1 in /Users/jorgegarcelan/Desktop/UNI/6-LAB TSC/iris-uc3m/.venv/lib/python3.11/site-packages (from embedchain>=0.1.114->crewai-tools) (0.2.14)\n",
            "Requirement already satisfied: mem0ai<0.2.0,>=0.1.54 in /Users/jorgegarcelan/Desktop/UNI/6-LAB TSC/iris-uc3m/.venv/lib/python3.11/site-packages (from embedchain>=0.1.114->crewai-tools) (0.1.81)\n",
            "Requirement already satisfied: pypdf<6.0.0,>=5.0.0 in /Users/jorgegarcelan/Desktop/UNI/6-LAB TSC/iris-uc3m/.venv/lib/python3.11/site-packages (from embedchain>=0.1.114->crewai-tools) (5.4.0)\n",
            "Requirement already satisfied: pysbd<0.4.0,>=0.3.4 in /Users/jorgegarcelan/Desktop/UNI/6-LAB TSC/iris-uc3m/.venv/lib/python3.11/site-packages (from embedchain>=0.1.114->crewai-tools) (0.3.4)\n",
            "Requirement already satisfied: schema<0.8.0,>=0.7.5 in /Users/jorgegarcelan/Desktop/UNI/6-LAB TSC/iris-uc3m/.venv/lib/python3.11/site-packages (from embedchain>=0.1.114->crewai-tools) (0.7.7)\n",
            "Requirement already satisfied: certifi in /Users/jorgegarcelan/Desktop/UNI/6-LAB TSC/iris-uc3m/.venv/lib/python3.11/site-packages (from httpx<1,>=0.23.0->openai) (2025.1.31)\n",
            "Requirement already satisfied: httpcore==1.* in /Users/jorgegarcelan/Desktop/UNI/6-LAB TSC/iris-uc3m/.venv/lib/python3.11/site-packages (from httpx<1,>=0.23.0->openai) (1.0.7)\n",
            "Requirement already satisfied: h11<0.15,>=0.13 in /Users/jorgegarcelan/Desktop/UNI/6-LAB TSC/iris-uc3m/.venv/lib/python3.11/site-packages (from httpcore==1.*->httpx<1,>=0.23.0->openai) (0.14.0)\n",
            "Requirement already satisfied: docstring-parser<1.0,>=0.16 in /Users/jorgegarcelan/Desktop/UNI/6-LAB TSC/iris-uc3m/.venv/lib/python3.11/site-packages (from instructor>=1.3.3->crewai) (0.16)\n",
            "Requirement already satisfied: pydantic-core<3.0.0,>=2.18.0 in /Users/jorgegarcelan/Desktop/UNI/6-LAB TSC/iris-uc3m/.venv/lib/python3.11/site-packages (from instructor>=1.3.3->crewai) (2.33.1)\n",
            "Requirement already satisfied: deprecation in /Users/jorgegarcelan/Desktop/UNI/6-LAB TSC/iris-uc3m/.venv/lib/python3.11/site-packages (from lancedb>=0.5.4->crewai-tools) (2.1.0)\n",
            "Requirement already satisfied: pyarrow>=14 in /Users/jorgegarcelan/Desktop/UNI/6-LAB TSC/iris-uc3m/.venv/lib/python3.11/site-packages (from lancedb>=0.5.4->crewai-tools) (19.0.1)\n",
            "Requirement already satisfied: packaging in /Users/jorgegarcelan/Desktop/UNI/6-LAB TSC/iris-uc3m/.venv/lib/python3.11/site-packages (from lancedb>=0.5.4->crewai-tools) (24.2)\n",
            "Requirement already satisfied: langchain-text-splitters<1.0.0,>=0.3.7 in /Users/jorgegarcelan/Desktop/UNI/6-LAB TSC/iris-uc3m/.venv/lib/python3.11/site-packages (from langchain<1.0.0,>=0.3.21->langchain_community) (0.3.7)\n",
            "Requirement already satisfied: jsonpatch<2.0,>=1.33 in /Users/jorgegarcelan/Desktop/UNI/6-LAB TSC/iris-uc3m/.venv/lib/python3.11/site-packages (from langchain-core<1.0.0,>=0.3.45->langchain_community) (1.33)\n",
            "Requirement already satisfied: requests-toolbelt<2.0.0,>=1.0.0 in /Users/jorgegarcelan/Desktop/UNI/6-LAB TSC/iris-uc3m/.venv/lib/python3.11/site-packages (from langsmith<0.4,>=0.1.125->langchain_community) (1.0.0)\n",
            "Requirement already satisfied: zstandard<0.24.0,>=0.23.0 in /Users/jorgegarcelan/Desktop/UNI/6-LAB TSC/iris-uc3m/.venv/lib/python3.11/site-packages (from langsmith<0.4,>=0.1.125->langchain_community) (0.23.0)\n",
            "Requirement already satisfied: et-xmlfile in /Users/jorgegarcelan/Desktop/UNI/6-LAB TSC/iris-uc3m/.venv/lib/python3.11/site-packages (from openpyxl>=3.1.5->crewai) (2.0.0)\n",
            "Requirement already satisfied: deprecated>=1.2.6 in /Users/jorgegarcelan/Desktop/UNI/6-LAB TSC/iris-uc3m/.venv/lib/python3.11/site-packages (from opentelemetry-api>=1.22.0->crewai) (1.2.18)\n",
            "Requirement already satisfied: googleapis-common-protos~=1.52 in /Users/jorgegarcelan/Desktop/UNI/6-LAB TSC/iris-uc3m/.venv/lib/python3.11/site-packages (from opentelemetry-exporter-otlp-proto-http>=1.22.0->crewai) (1.69.2)\n",
            "Requirement already satisfied: opentelemetry-exporter-otlp-proto-common==1.31.1 in /Users/jorgegarcelan/Desktop/UNI/6-LAB TSC/iris-uc3m/.venv/lib/python3.11/site-packages (from opentelemetry-exporter-otlp-proto-http>=1.22.0->crewai) (1.31.1)\n",
            "Requirement already satisfied: opentelemetry-proto==1.31.1 in /Users/jorgegarcelan/Desktop/UNI/6-LAB TSC/iris-uc3m/.venv/lib/python3.11/site-packages (from opentelemetry-exporter-otlp-proto-http>=1.22.0->crewai) (1.31.1)\n",
            "Requirement already satisfied: protobuf<6.0,>=5.0 in /Users/jorgegarcelan/Desktop/UNI/6-LAB TSC/iris-uc3m/.venv/lib/python3.11/site-packages (from opentelemetry-proto==1.31.1->opentelemetry-exporter-otlp-proto-http>=1.22.0->crewai) (5.29.4)\n",
            "Requirement already satisfied: opentelemetry-semantic-conventions==0.52b1 in /Users/jorgegarcelan/Desktop/UNI/6-LAB TSC/iris-uc3m/.venv/lib/python3.11/site-packages (from opentelemetry-sdk>=1.22.0->crewai) (0.52b1)\n",
            "Requirement already satisfied: pdfminer.six==20250327 in /Users/jorgegarcelan/Desktop/UNI/6-LAB TSC/iris-uc3m/.venv/lib/python3.11/site-packages (from pdfplumber>=0.11.4->crewai) (20250327)\n",
            "Requirement already satisfied: Pillow>=9.1 in /Users/jorgegarcelan/Desktop/UNI/6-LAB TSC/iris-uc3m/.venv/lib/python3.11/site-packages (from pdfplumber>=0.11.4->crewai) (11.1.0)\n",
            "Requirement already satisfied: pypdfium2>=4.18.0 in /Users/jorgegarcelan/Desktop/UNI/6-LAB TSC/iris-uc3m/.venv/lib/python3.11/site-packages (from pdfplumber>=0.11.4->crewai) (4.30.1)\n",
            "Requirement already satisfied: charset-normalizer>=2.0.0 in /Users/jorgegarcelan/Desktop/UNI/6-LAB TSC/iris-uc3m/.venv/lib/python3.11/site-packages (from pdfminer.six==20250327->pdfplumber>=0.11.4->crewai) (3.4.1)\n",
            "Requirement already satisfied: annotated-types>=0.6.0 in /Users/jorgegarcelan/Desktop/UNI/6-LAB TSC/iris-uc3m/.venv/lib/python3.11/site-packages (from pydantic<3,>=1.9.0->openai) (0.7.0)\n",
            "Requirement already satisfied: typing-inspection>=0.4.0 in /Users/jorgegarcelan/Desktop/UNI/6-LAB TSC/iris-uc3m/.venv/lib/python3.11/site-packages (from pydantic<3,>=1.9.0->openai) (0.4.0)\n",
            "Requirement already satisfied: nodeenv>=1.6.0 in /Users/jorgegarcelan/Desktop/UNI/6-LAB TSC/iris-uc3m/.venv/lib/python3.11/site-packages (from pyright>=1.1.350->crewai-tools) (1.9.1)\n",
            "Requirement already satisfied: ipython>=5.3.0 in /Users/jorgegarcelan/Desktop/UNI/6-LAB TSC/iris-uc3m/.venv/lib/python3.11/site-packages (from pyvis>=0.3.2->crewai) (9.0.2)\n",
            "Requirement already satisfied: jsonpickle>=1.4.1 in /Users/jorgegarcelan/Desktop/UNI/6-LAB TSC/iris-uc3m/.venv/lib/python3.11/site-packages (from pyvis>=0.3.2->crewai) (4.0.5)\n",
            "Requirement already satisfied: networkx>=1.11 in /Users/jorgegarcelan/Desktop/UNI/6-LAB TSC/iris-uc3m/.venv/lib/python3.11/site-packages (from pyvis>=0.3.2->crewai) (3.4.2)\n",
            "Requirement already satisfied: Mako in /Users/jorgegarcelan/Desktop/UNI/6-LAB TSC/iris-uc3m/.venv/lib/python3.11/site-packages (from alembic<2.0.0,>=1.13.1->embedchain>=0.1.114->crewai-tools) (1.3.9)\n",
            "Requirement already satisfied: soupsieve>1.2 in /Users/jorgegarcelan/Desktop/UNI/6-LAB TSC/iris-uc3m/.venv/lib/python3.11/site-packages (from beautifulsoup4<5.0.0,>=4.12.2->embedchain>=0.1.114->crewai-tools) (2.6)\n",
            "Requirement already satisfied: pyproject_hooks in /Users/jorgegarcelan/Desktop/UNI/6-LAB TSC/iris-uc3m/.venv/lib/python3.11/site-packages (from build>=1.0.3->chromadb>=0.5.23->crewai) (1.2.0)\n",
            "Requirement already satisfied: cffi>=1.12 in /Users/jorgegarcelan/Desktop/UNI/6-LAB TSC/iris-uc3m/.venv/lib/python3.11/site-packages (from cryptography>=43.0.1->auth0-python>=4.7.1->crewai) (1.17.1)\n",
            "Requirement already satisfied: wrapt<2,>=1.10 in /Users/jorgegarcelan/Desktop/UNI/6-LAB TSC/iris-uc3m/.venv/lib/python3.11/site-packages (from deprecated>=1.2.6->opentelemetry-api>=1.22.0->crewai) (1.17.2)\n",
            "Requirement already satisfied: starlette<0.46.0,>=0.40.0 in /Users/jorgegarcelan/Desktop/UNI/6-LAB TSC/iris-uc3m/.venv/lib/python3.11/site-packages (from fastapi>=0.95.2->chromadb>=0.5.23->crewai) (0.45.3)\n",
            "Requirement already satisfied: cachetools in /Users/jorgegarcelan/Desktop/UNI/6-LAB TSC/iris-uc3m/.venv/lib/python3.11/site-packages (from gptcache<0.2.0,>=0.1.43->embedchain>=0.1.114->crewai-tools) (5.5.2)\n",
            "Requirement already satisfied: zipp>=3.20 in /Users/jorgegarcelan/Desktop/UNI/6-LAB TSC/iris-uc3m/.venv/lib/python3.11/site-packages (from importlib-metadata>=6.8.0->litellm==1.60.2->crewai) (3.21.0)\n",
            "Requirement already satisfied: decorator in /Users/jorgegarcelan/Desktop/UNI/6-LAB TSC/iris-uc3m/.venv/lib/python3.11/site-packages (from ipython>=5.3.0->pyvis>=0.3.2->crewai) (5.2.1)\n",
            "Requirement already satisfied: ipython-pygments-lexers in /Users/jorgegarcelan/Desktop/UNI/6-LAB TSC/iris-uc3m/.venv/lib/python3.11/site-packages (from ipython>=5.3.0->pyvis>=0.3.2->crewai) (1.1.1)\n",
            "Requirement already satisfied: jedi>=0.16 in /Users/jorgegarcelan/Desktop/UNI/6-LAB TSC/iris-uc3m/.venv/lib/python3.11/site-packages (from ipython>=5.3.0->pyvis>=0.3.2->crewai) (0.19.2)\n",
            "Requirement already satisfied: matplotlib-inline in /Users/jorgegarcelan/Desktop/UNI/6-LAB TSC/iris-uc3m/.venv/lib/python3.11/site-packages (from ipython>=5.3.0->pyvis>=0.3.2->crewai) (0.1.7)\n",
            "Requirement already satisfied: pexpect>4.3 in /Users/jorgegarcelan/Desktop/UNI/6-LAB TSC/iris-uc3m/.venv/lib/python3.11/site-packages (from ipython>=5.3.0->pyvis>=0.3.2->crewai) (4.9.0)\n",
            "Requirement already satisfied: prompt_toolkit<3.1.0,>=3.0.41 in /Users/jorgegarcelan/Desktop/UNI/6-LAB TSC/iris-uc3m/.venv/lib/python3.11/site-packages (from ipython>=5.3.0->pyvis>=0.3.2->crewai) (3.0.50)\n",
            "Requirement already satisfied: pygments>=2.4.0 in /Users/jorgegarcelan/Desktop/UNI/6-LAB TSC/iris-uc3m/.venv/lib/python3.11/site-packages (from ipython>=5.3.0->pyvis>=0.3.2->crewai) (2.19.1)\n",
            "Requirement already satisfied: stack_data in /Users/jorgegarcelan/Desktop/UNI/6-LAB TSC/iris-uc3m/.venv/lib/python3.11/site-packages (from ipython>=5.3.0->pyvis>=0.3.2->crewai) (0.6.3)\n",
            "Requirement already satisfied: traitlets>=5.13.0 in /Users/jorgegarcelan/Desktop/UNI/6-LAB TSC/iris-uc3m/.venv/lib/python3.11/site-packages (from ipython>=5.3.0->pyvis>=0.3.2->crewai) (5.14.3)\n",
            "Requirement already satisfied: MarkupSafe>=2.0 in /Users/jorgegarcelan/Desktop/UNI/6-LAB TSC/iris-uc3m/.venv/lib/python3.11/site-packages (from jinja2<4.0.0,>=3.1.2->litellm==1.60.2->crewai) (3.0.2)\n",
            "Requirement already satisfied: jsonpointer>=1.9 in /Users/jorgegarcelan/Desktop/UNI/6-LAB TSC/iris-uc3m/.venv/lib/python3.11/site-packages (from jsonpatch<2.0,>=1.33->langchain-core<1.0.0,>=0.3.45->langchain_community) (3.0.0)\n",
            "Requirement already satisfied: jsonschema-specifications>=2023.03.6 in /Users/jorgegarcelan/Desktop/UNI/6-LAB TSC/iris-uc3m/.venv/lib/python3.11/site-packages (from jsonschema<5.0.0,>=4.22.0->litellm==1.60.2->crewai) (2024.10.1)\n",
            "Requirement already satisfied: referencing>=0.28.4 in /Users/jorgegarcelan/Desktop/UNI/6-LAB TSC/iris-uc3m/.venv/lib/python3.11/site-packages (from jsonschema<5.0.0,>=4.22.0->litellm==1.60.2->crewai) (0.36.2)\n",
            "Requirement already satisfied: rpds-py>=0.7.1 in /Users/jorgegarcelan/Desktop/UNI/6-LAB TSC/iris-uc3m/.venv/lib/python3.11/site-packages (from jsonschema<5.0.0,>=4.22.0->litellm==1.60.2->crewai) (0.24.0)\n",
            "Requirement already satisfied: six>=1.9.0 in /Users/jorgegarcelan/Desktop/UNI/6-LAB TSC/iris-uc3m/.venv/lib/python3.11/site-packages (from kubernetes>=28.1.0->chromadb>=0.5.23->crewai) (1.17.0)\n",
            "Requirement already satisfied: python-dateutil>=2.5.3 in /Users/jorgegarcelan/Desktop/UNI/6-LAB TSC/iris-uc3m/.venv/lib/python3.11/site-packages (from kubernetes>=28.1.0->chromadb>=0.5.23->crewai) (2.9.0.post0)\n",
            "Requirement already satisfied: google-auth>=1.0.1 in /Users/jorgegarcelan/Desktop/UNI/6-LAB TSC/iris-uc3m/.venv/lib/python3.11/site-packages (from kubernetes>=28.1.0->chromadb>=0.5.23->crewai) (2.38.0)\n",
            "Requirement already satisfied: websocket-client!=0.40.0,!=0.41.*,!=0.42.*,>=0.32.0 in /Users/jorgegarcelan/Desktop/UNI/6-LAB TSC/iris-uc3m/.venv/lib/python3.11/site-packages (from kubernetes>=28.1.0->chromadb>=0.5.23->crewai) (1.8.0)\n",
            "Requirement already satisfied: requests-oauthlib in /Users/jorgegarcelan/Desktop/UNI/6-LAB TSC/iris-uc3m/.venv/lib/python3.11/site-packages (from kubernetes>=28.1.0->chromadb>=0.5.23->crewai) (2.0.0)\n",
            "Requirement already satisfied: oauthlib>=3.2.2 in /Users/jorgegarcelan/Desktop/UNI/6-LAB TSC/iris-uc3m/.venv/lib/python3.11/site-packages (from kubernetes>=28.1.0->chromadb>=0.5.23->crewai) (3.2.2)\n",
            "Requirement already satisfied: durationpy>=0.7 in /Users/jorgegarcelan/Desktop/UNI/6-LAB TSC/iris-uc3m/.venv/lib/python3.11/site-packages (from kubernetes>=28.1.0->chromadb>=0.5.23->crewai) (0.9)\n",
            "Requirement already satisfied: cohere<6.0,>=5.5.6 in /Users/jorgegarcelan/Desktop/UNI/6-LAB TSC/iris-uc3m/.venv/lib/python3.11/site-packages (from langchain-cohere<0.4.0,>=0.3.0->embedchain>=0.1.114->crewai-tools) (5.14.2)\n",
            "Requirement already satisfied: langchain-experimental<0.4.0,>=0.3.0 in /Users/jorgegarcelan/Desktop/UNI/6-LAB TSC/iris-uc3m/.venv/lib/python3.11/site-packages (from langchain-cohere<0.4.0,>=0.3.0->embedchain>=0.1.114->crewai-tools) (0.3.4)\n",
            "Requirement already satisfied: pandas>=1.4.3 in /Users/jorgegarcelan/Desktop/UNI/6-LAB TSC/iris-uc3m/.venv/lib/python3.11/site-packages (from langchain-cohere<0.4.0,>=0.3.0->embedchain>=0.1.114->crewai-tools) (2.2.3)\n",
            "Requirement already satisfied: tabulate<0.10.0,>=0.9.0 in /Users/jorgegarcelan/Desktop/UNI/6-LAB TSC/iris-uc3m/.venv/lib/python3.11/site-packages (from langchain-cohere<0.4.0,>=0.3.0->embedchain>=0.1.114->crewai-tools) (0.9.0)\n",
            "Requirement already satisfied: azure-search-documents<12.0.0,>=11.5.0 in /Users/jorgegarcelan/Desktop/UNI/6-LAB TSC/iris-uc3m/.venv/lib/python3.11/site-packages (from mem0ai<0.2.0,>=0.1.54->embedchain>=0.1.114->crewai-tools) (11.5.2)\n",
            "Requirement already satisfied: psycopg2-binary<3.0.0,>=2.9.10 in /Users/jorgegarcelan/Desktop/UNI/6-LAB TSC/iris-uc3m/.venv/lib/python3.11/site-packages (from mem0ai<0.2.0,>=0.1.54->embedchain>=0.1.114->crewai-tools) (2.9.10)\n",
            "Requirement already satisfied: pytz<2025.0,>=2024.1 in /Users/jorgegarcelan/Desktop/UNI/6-LAB TSC/iris-uc3m/.venv/lib/python3.11/site-packages (from mem0ai<0.2.0,>=0.1.54->embedchain>=0.1.114->crewai-tools) (2024.2)\n",
            "Requirement already satisfied: qdrant-client<2.0.0,>=1.9.1 in /Users/jorgegarcelan/Desktop/UNI/6-LAB TSC/iris-uc3m/.venv/lib/python3.11/site-packages (from mem0ai<0.2.0,>=0.1.54->embedchain>=0.1.114->crewai-tools) (1.13.3)\n",
            "Requirement already satisfied: coloredlogs in /Users/jorgegarcelan/Desktop/UNI/6-LAB TSC/iris-uc3m/.venv/lib/python3.11/site-packages (from onnxruntime>=1.14.1->chromadb>=0.5.23->crewai) (15.0.1)\n",
            "Requirement already satisfied: flatbuffers in /Users/jorgegarcelan/Desktop/UNI/6-LAB TSC/iris-uc3m/.venv/lib/python3.11/site-packages (from onnxruntime>=1.14.1->chromadb>=0.5.23->crewai) (25.2.10)\n",
            "Requirement already satisfied: sympy in /Users/jorgegarcelan/Desktop/UNI/6-LAB TSC/iris-uc3m/.venv/lib/python3.11/site-packages (from onnxruntime>=1.14.1->chromadb>=0.5.23->crewai) (1.13.3)\n",
            "Requirement already satisfied: opentelemetry-instrumentation-asgi==0.52b1 in /Users/jorgegarcelan/Desktop/UNI/6-LAB TSC/iris-uc3m/.venv/lib/python3.11/site-packages (from opentelemetry-instrumentation-fastapi>=0.41b0->chromadb>=0.5.23->crewai) (0.52b1)\n",
            "Requirement already satisfied: opentelemetry-instrumentation==0.52b1 in /Users/jorgegarcelan/Desktop/UNI/6-LAB TSC/iris-uc3m/.venv/lib/python3.11/site-packages (from opentelemetry-instrumentation-fastapi>=0.41b0->chromadb>=0.5.23->crewai) (0.52b1)\n",
            "Requirement already satisfied: opentelemetry-util-http==0.52b1 in /Users/jorgegarcelan/Desktop/UNI/6-LAB TSC/iris-uc3m/.venv/lib/python3.11/site-packages (from opentelemetry-instrumentation-fastapi>=0.41b0->chromadb>=0.5.23->crewai) (0.52b1)\n",
            "Requirement already satisfied: asgiref~=3.0 in /Users/jorgegarcelan/Desktop/UNI/6-LAB TSC/iris-uc3m/.venv/lib/python3.11/site-packages (from opentelemetry-instrumentation-asgi==0.52b1->opentelemetry-instrumentation-fastapi>=0.41b0->chromadb>=0.5.23->crewai) (3.8.1)\n",
            "Requirement already satisfied: monotonic>=1.5 in /Users/jorgegarcelan/Desktop/UNI/6-LAB TSC/iris-uc3m/.venv/lib/python3.11/site-packages (from posthog>=2.4.0->chromadb>=0.5.23->crewai) (1.6)\n",
            "Requirement already satisfied: backoff>=1.10.0 in /Users/jorgegarcelan/Desktop/UNI/6-LAB TSC/iris-uc3m/.venv/lib/python3.11/site-packages (from posthog>=2.4.0->chromadb>=0.5.23->crewai) (2.2.1)\n",
            "Requirement already satisfied: markdown-it-py>=2.2.0 in /Users/jorgegarcelan/Desktop/UNI/6-LAB TSC/iris-uc3m/.venv/lib/python3.11/site-packages (from rich>=10.11.0->chromadb>=0.5.23->crewai) (3.0.0)\n",
            "Requirement already satisfied: huggingface-hub<1.0,>=0.16.4 in /Users/jorgegarcelan/Desktop/UNI/6-LAB TSC/iris-uc3m/.venv/lib/python3.11/site-packages (from tokenizers->litellm==1.60.2->crewai) (0.30.1)\n",
            "Requirement already satisfied: shellingham>=1.3.0 in /Users/jorgegarcelan/Desktop/UNI/6-LAB TSC/iris-uc3m/.venv/lib/python3.11/site-packages (from typer>=0.9.0->chromadb>=0.5.23->crewai) (1.5.4)\n",
            "Requirement already satisfied: mypy-extensions>=0.3.0 in /Users/jorgegarcelan/Desktop/UNI/6-LAB TSC/iris-uc3m/.venv/lib/python3.11/site-packages (from typing-inspect<1,>=0.4.0->dataclasses-json<0.7,>=0.5.7->langchain_community) (1.0.0)\n",
            "Requirement already satisfied: httptools>=0.6.3 in /Users/jorgegarcelan/Desktop/UNI/6-LAB TSC/iris-uc3m/.venv/lib/python3.11/site-packages (from uvicorn[standard]>=0.18.3->chromadb>=0.5.23->crewai) (0.6.4)\n",
            "Requirement already satisfied: uvloop!=0.15.0,!=0.15.1,>=0.14.0 in /Users/jorgegarcelan/Desktop/UNI/6-LAB TSC/iris-uc3m/.venv/lib/python3.11/site-packages (from uvicorn[standard]>=0.18.3->chromadb>=0.5.23->crewai) (0.21.0)\n",
            "Requirement already satisfied: watchfiles>=0.13 in /Users/jorgegarcelan/Desktop/UNI/6-LAB TSC/iris-uc3m/.venv/lib/python3.11/site-packages (from uvicorn[standard]>=0.18.3->chromadb>=0.5.23->crewai) (1.0.4)\n",
            "Requirement already satisfied: websockets>=10.4 in /Users/jorgegarcelan/Desktop/UNI/6-LAB TSC/iris-uc3m/.venv/lib/python3.11/site-packages (from uvicorn[standard]>=0.18.3->chromadb>=0.5.23->crewai) (15.0.1)\n",
            "Requirement already satisfied: azure-core>=1.28.0 in /Users/jorgegarcelan/Desktop/UNI/6-LAB TSC/iris-uc3m/.venv/lib/python3.11/site-packages (from azure-search-documents<12.0.0,>=11.5.0->mem0ai<0.2.0,>=0.1.54->embedchain>=0.1.114->crewai-tools) (1.33.0)\n",
            "Requirement already satisfied: azure-common>=1.1 in /Users/jorgegarcelan/Desktop/UNI/6-LAB TSC/iris-uc3m/.venv/lib/python3.11/site-packages (from azure-search-documents<12.0.0,>=11.5.0->mem0ai<0.2.0,>=0.1.54->embedchain>=0.1.114->crewai-tools) (1.1.28)\n",
            "Requirement already satisfied: isodate>=0.6.0 in /Users/jorgegarcelan/Desktop/UNI/6-LAB TSC/iris-uc3m/.venv/lib/python3.11/site-packages (from azure-search-documents<12.0.0,>=11.5.0->mem0ai<0.2.0,>=0.1.54->embedchain>=0.1.114->crewai-tools) (0.7.2)\n",
            "Requirement already satisfied: pycparser in /Users/jorgegarcelan/Desktop/UNI/6-LAB TSC/iris-uc3m/.venv/lib/python3.11/site-packages (from cffi>=1.12->cryptography>=43.0.1->auth0-python>=4.7.1->crewai) (2.22)\n",
            "Requirement already satisfied: fastavro<2.0.0,>=1.9.4 in /Users/jorgegarcelan/Desktop/UNI/6-LAB TSC/iris-uc3m/.venv/lib/python3.11/site-packages (from cohere<6.0,>=5.5.6->langchain-cohere<0.4.0,>=0.3.0->embedchain>=0.1.114->crewai-tools) (1.10.0)\n",
            "Requirement already satisfied: types-requests<3.0.0,>=2.0.0 in /Users/jorgegarcelan/Desktop/UNI/6-LAB TSC/iris-uc3m/.venv/lib/python3.11/site-packages (from cohere<6.0,>=5.5.6->langchain-cohere<0.4.0,>=0.3.0->embedchain>=0.1.114->crewai-tools) (2.32.0.20250328)\n",
            "Requirement already satisfied: pyasn1-modules>=0.2.1 in /Users/jorgegarcelan/Desktop/UNI/6-LAB TSC/iris-uc3m/.venv/lib/python3.11/site-packages (from google-auth>=1.0.1->kubernetes>=28.1.0->chromadb>=0.5.23->crewai) (0.4.2)\n",
            "Requirement already satisfied: rsa<5,>=3.1.4 in /Users/jorgegarcelan/Desktop/UNI/6-LAB TSC/iris-uc3m/.venv/lib/python3.11/site-packages (from google-auth>=1.0.1->kubernetes>=28.1.0->chromadb>=0.5.23->crewai) (4.9)\n",
            "Requirement already satisfied: filelock in /Users/jorgegarcelan/Desktop/UNI/6-LAB TSC/iris-uc3m/.venv/lib/python3.11/site-packages (from huggingface-hub<1.0,>=0.16.4->tokenizers->litellm==1.60.2->crewai) (3.18.0)\n",
            "Requirement already satisfied: fsspec>=2023.5.0 in /Users/jorgegarcelan/Desktop/UNI/6-LAB TSC/iris-uc3m/.venv/lib/python3.11/site-packages (from huggingface-hub<1.0,>=0.16.4->tokenizers->litellm==1.60.2->crewai) (2025.3.2)\n",
            "Requirement already satisfied: parso<0.9.0,>=0.8.4 in /Users/jorgegarcelan/Desktop/UNI/6-LAB TSC/iris-uc3m/.venv/lib/python3.11/site-packages (from jedi>=0.16->ipython>=5.3.0->pyvis>=0.3.2->crewai) (0.8.4)\n",
            "Requirement already satisfied: mdurl~=0.1 in /Users/jorgegarcelan/Desktop/UNI/6-LAB TSC/iris-uc3m/.venv/lib/python3.11/site-packages (from markdown-it-py>=2.2.0->rich>=10.11.0->chromadb>=0.5.23->crewai) (0.1.2)\n",
            "Requirement already satisfied: tzdata>=2022.7 in /Users/jorgegarcelan/Desktop/UNI/6-LAB TSC/iris-uc3m/.venv/lib/python3.11/site-packages (from pandas>=1.4.3->langchain-cohere<0.4.0,>=0.3.0->embedchain>=0.1.114->crewai-tools) (2025.2)\n",
            "Requirement already satisfied: ptyprocess>=0.5 in /Users/jorgegarcelan/Desktop/UNI/6-LAB TSC/iris-uc3m/.venv/lib/python3.11/site-packages (from pexpect>4.3->ipython>=5.3.0->pyvis>=0.3.2->crewai) (0.7.0)\n",
            "Requirement already satisfied: wcwidth in /Users/jorgegarcelan/Desktop/UNI/6-LAB TSC/iris-uc3m/.venv/lib/python3.11/site-packages (from prompt_toolkit<3.1.0,>=3.0.41->ipython>=5.3.0->pyvis>=0.3.2->crewai) (0.2.13)\n",
            "Requirement already satisfied: grpcio-tools>=1.41.0 in /Users/jorgegarcelan/Desktop/UNI/6-LAB TSC/iris-uc3m/.venv/lib/python3.11/site-packages (from qdrant-client<2.0.0,>=1.9.1->mem0ai<0.2.0,>=0.1.54->embedchain>=0.1.114->crewai-tools) (1.71.0)\n",
            "Requirement already satisfied: portalocker<3.0.0,>=2.7.0 in /Users/jorgegarcelan/Desktop/UNI/6-LAB TSC/iris-uc3m/.venv/lib/python3.11/site-packages (from qdrant-client<2.0.0,>=1.9.1->mem0ai<0.2.0,>=0.1.54->embedchain>=0.1.114->crewai-tools) (2.10.1)\n",
            "Requirement already satisfied: humanfriendly>=9.1 in /Users/jorgegarcelan/Desktop/UNI/6-LAB TSC/iris-uc3m/.venv/lib/python3.11/site-packages (from coloredlogs->onnxruntime>=1.14.1->chromadb>=0.5.23->crewai) (10.0)\n",
            "Requirement already satisfied: executing>=1.2.0 in /Users/jorgegarcelan/Desktop/UNI/6-LAB TSC/iris-uc3m/.venv/lib/python3.11/site-packages (from stack_data->ipython>=5.3.0->pyvis>=0.3.2->crewai) (2.2.0)\n",
            "Requirement already satisfied: asttokens>=2.1.0 in /Users/jorgegarcelan/Desktop/UNI/6-LAB TSC/iris-uc3m/.venv/lib/python3.11/site-packages (from stack_data->ipython>=5.3.0->pyvis>=0.3.2->crewai) (3.0.0)\n",
            "Requirement already satisfied: pure-eval in /Users/jorgegarcelan/Desktop/UNI/6-LAB TSC/iris-uc3m/.venv/lib/python3.11/site-packages (from stack_data->ipython>=5.3.0->pyvis>=0.3.2->crewai) (0.2.3)\n",
            "Requirement already satisfied: mpmath<1.4,>=1.1.0 in /Users/jorgegarcelan/Desktop/UNI/6-LAB TSC/iris-uc3m/.venv/lib/python3.11/site-packages (from sympy->onnxruntime>=1.14.1->chromadb>=0.5.23->crewai) (1.3.0)\n",
            "Requirement already satisfied: setuptools in /Users/jorgegarcelan/Desktop/UNI/6-LAB TSC/iris-uc3m/.venv/lib/python3.11/site-packages (from grpcio-tools>=1.41.0->qdrant-client<2.0.0,>=1.9.1->mem0ai<0.2.0,>=0.1.54->embedchain>=0.1.114->crewai-tools) (75.6.0)\n",
            "Requirement already satisfied: h2<5,>=3 in /Users/jorgegarcelan/Desktop/UNI/6-LAB TSC/iris-uc3m/.venv/lib/python3.11/site-packages (from httpx[http2]>=0.20.0->qdrant-client<2.0.0,>=1.9.1->mem0ai<0.2.0,>=0.1.54->embedchain>=0.1.114->crewai-tools) (4.2.0)\n",
            "Requirement already satisfied: pyasn1<0.7.0,>=0.6.1 in /Users/jorgegarcelan/Desktop/UNI/6-LAB TSC/iris-uc3m/.venv/lib/python3.11/site-packages (from pyasn1-modules>=0.2.1->google-auth>=1.0.1->kubernetes>=28.1.0->chromadb>=0.5.23->crewai) (0.6.1)\n",
            "Requirement already satisfied: hyperframe<7,>=6.1 in /Users/jorgegarcelan/Desktop/UNI/6-LAB TSC/iris-uc3m/.venv/lib/python3.11/site-packages (from h2<5,>=3->httpx[http2]>=0.20.0->qdrant-client<2.0.0,>=1.9.1->mem0ai<0.2.0,>=0.1.54->embedchain>=0.1.114->crewai-tools) (6.1.0)\n",
            "Requirement already satisfied: hpack<5,>=4.1 in /Users/jorgegarcelan/Desktop/UNI/6-LAB TSC/iris-uc3m/.venv/lib/python3.11/site-packages (from h2<5,>=3->httpx[http2]>=0.20.0->qdrant-client<2.0.0,>=1.9.1->mem0ai<0.2.0,>=0.1.54->embedchain>=0.1.114->crewai-tools) (4.1.0)\n",
            "Note: you may need to restart the kernel to use updated packages.\n"
          ]
        }
      ],
      "source": [
        "pip install openai crewai crewai-tools langchain_community"
      ]
    },
    {
      "cell_type": "markdown",
      "metadata": {
        "id": "5PQIQhK8Z2Kz"
      },
      "source": [
        "# Imports"
      ]
    },
    {
      "cell_type": "code",
      "execution_count": 2,
      "metadata": {
        "id": "NuxhN3l48W_9"
      },
      "outputs": [],
      "source": [
        "import warnings\n",
        "warnings.filterwarnings('ignore')"
      ]
    },
    {
      "cell_type": "code",
      "execution_count": 3,
      "metadata": {
        "id": "Cj-0i1n0TXJs"
      },
      "outputs": [],
      "source": [
        "import configparser\n",
        "import openai\n",
        "import os\n",
        "\n",
        "config = configparser.ConfigParser()\n",
        "config.read('../pruebas_openai/config.ini')\n",
        "\n",
        "OPENAI_MODEL = config['DEFAULT']['OPENAI_MODEL']\n",
        "openai.api_key = config['DEFAULT']['OPENAI_API_KEY']\n",
        "OPENAI_API_KEY = config['DEFAULT']['OPENAI_API_KEY']\n",
        "os.environ[\"OPENAI_API_KEY\"] = OPENAI_API_KEY"
      ]
    },
    {
      "cell_type": "code",
      "execution_count": 4,
      "metadata": {
        "id": "lEcd2r0LZoP1"
      },
      "outputs": [],
      "source": [
        "from crewai import Agent, Task, Crew\n",
        "from crewai.tools import BaseTool\n",
        "from langchain.chat_models import ChatOpenAI\n",
        "import requests\n",
        "from IPython.display import Markdown\n",
        "import pandas as pd"
      ]
    },
    {
      "cell_type": "markdown",
      "metadata": {},
      "source": [
        "# Artículos"
      ]
    },
    {
      "cell_type": "code",
      "execution_count": 5,
      "metadata": {},
      "outputs": [],
      "source": [
        "data = pd.read_csv(\"../data/contenido_2023_04_05_matriz_not_julia.csv\")\n",
        "data = data.iloc[[9]]"
      ]
    },
    {
      "cell_type": "code",
      "execution_count": 6,
      "metadata": {},
      "outputs": [
        {
          "data": {
            "text/plain": [
              "'Dice Esther Vivas (Sabadell, 1975) que \"la literatura de la maternidad parte a menudo de la propia experiencia\". ¿Quién iba, si no, a querer dedicar su tiempo a un asunto tan insignificante? El caso de esta periodista, que se había dedicado previamente al estudio del sistema agroalimentario y de los movimientos sociales, no es, dice, una excepción. A partir de su embarazo y de las primeras búsquedas de información sobre cómo se podría desarrollar el parto, comenzó a preguntarse por qué no le habían hablado de todo aquello. Por qué todo el mundo aceptaba esa violencia obstétrica. Mamá desobediente (editado por Capitán Swing en castellano y en catalán por Ara Llibres, bajo el título Mama desobedient) es el resultado de aquella primera \"indignación\", pero no se limita a ella. En el ensayo, que lleva por subtítulo Una mirada feminista a la maternidad, Vivas se ocupa primero de los mitos existentes en torno a ella, para centrarse luego en dos aspectos concretos de esta experiencia que generan un debate encendido: primero, la atención al parto; después, la lactancia.\\n\\nY no es casualidad que cuestiones aparentemente privadas sobre si una mujer le da el pecho o no a su hijo generen polémica. La autora no solo defiende que la maternidad es un asunto público, imbricado en la economía y la política, sino que la sitúa en el centro del feminismo de clase y el anticapitalismo. Si no se la ha considerado así, defiende en el libro, es porque existen intereses para ello.\\n\\nPregunta. ¿Por qué ser madre y feminista supone ser desobediente? ¿Desobediente con respecto al sistema neoliberal o con respecto a cierto feminismo?\\n\\nRespuesta. Ser madre implica desobedecer porque vivimos en un sistema que es hostil a la maternidad y a la crianza, y si eres feminista y de repente eres madre, esa maternidad te reafirma en tus valores feministas. ¿Qué sucede? Que en general el feminismo ha tenido una relación compleja con la maternidad, porque en la medida en que la maternidad ha sido utilizada por el patriarcado como un instrumento de control del cuerpo de las mujeres, cuando el feminismo se rebeló contra esta imposición, en los años sesenta o setenta, en la Segunda Ola, se creó un discurso antipaternal y antirreproductivo, y no se abordaron las contradicciones que implica la maternidad. Por eso creo que desde el feminismo es necesario reivindicar la experiencia materna, no en clave romántica sino en clave de experiencia que tenemos que poder vivir como mujeres, al margen de las imposiciones y restricciones del sistema.\\n\\nP. ¿Pensar la maternidad desde el feminismo supone repensar la idea que tenemos de la incorporación de la mujer al mundo laboral?\\n\\nR. Sí. En general, desde un cierto feminismo, a la hora de plantear la igualdad en el mercado de trabajo, se ha señalado la maternidad, el cuidado y la crianza como una carga. Desde este punto de vista, ante la maternidad patriarcal impuesta, ante ese modelo de feminidad abnegada cuyo fin último es ser madre, se ha planteado que la alternativa era supeditar la crianza al mercado y al empleo. Es necesario cambiar la mirada, porque el problema no es la maternidad, sino el mercado, una sociedad que es hostil a unas prácticas que son fundamentales para la reproducción de la vida, como son gestar, parir, dar de mamar y cuidar.\\n\\nP. ¿Cómo afecta esto a la manera en que el movimiento feminista se ha planteado la narrativa en torno a la igualdad en el trabajo?\\n\\nR. Aquí también hemos vistos distintos discursos y estrategias. Por un lado hay un cierto feminismo liberal que básicamente reivindica la igualdad para un sector de mujeres de clase media blanca. En Estados Unidos vemos en el partido demócrata y que aquí vemos a medio camino entre el PSOE y Ciudadanos. Por eso creo que hay que reivindicar el feminismo del 99%, el que reclama la igualdad del conjunto de las mujeres y que señala que las desigualdades de género vienen también de la desigualdades de clase y de etnia, y que por eso es necesario acabar con las desigualdades socioeconómicas para conseguir una igualdad de género real.\\n\\nP. Por lo heredado de la Segunda Ola, existe esta idea de que liberarse de la maternidad obligatoria ha sido algo emancipatorio, y que por tanto poner la maternidad en el centro del feminismo sería negar esa conquista. ¿Cómo se resuelve este conflicto?\\n\\nR. Lo que es necesario no es acabar con la experiencia de la maternidad, sino con lo que la activista feminista Adrienne Rich, ya en los años setenta, llamaba “la institución de la maternidad”. Es fundamental que la nueva oleada feminista incorpore la reivindicación de poder vivir la experiencia materna libre de imposiciones. La cuestión no es negar la maternidad sino reivindicarla. Esto no implica dar la razón a posturas reaccionarias en relación a la maternidad, sino reivindicar la maternidad en clave emancipadora. Yo como mujer tengo derecho a decidir cómo quiero vivir mi embarazo, mi parto y mi lactancia: esto es feminismo, como también es feminismo decidir si quiero tener un hijo o no, si quiero abortar o no. Reivindicar una maternidad feminista va de la mano con reivindicar el pleno control sobre nuestro cuerpo como mujeres.\\n\\nP. Le dedica parte del libro al debate sobre las bajas de maternidad y paternidad, y señala que las nuevas bajas intransferibles quieren reforzar la igualdad entre hombres y mujeres pero en realidad ignora la experiencia de la maternidad. ¿Qué posición cree que ha faltado en el debate?nuevas bajas intransferibles\\n\\nR. Se han obviado en gran medida las demandas de un sector del feminismo que reivindica una ampliación de los permisos de maternidad, porque en la actualidad el permiso de maternidad ni siquiera permite una lactancia materna en exclusiva hasta los seis meses, como recomiendan todas las instancias de salud. Y también es un debate que ha menospreciado el sentir de muchas madres. Hay varios estudios que señalan que cuando una mujer tiene un hijo, quiere estar con la criatura, y en cambio estos permisos iguales e intransferibles que se reivindican siguen estigmatizando la experiencia materna y la consideran una carga. Con esto no quiero decir que la maternidad sea tan solo una maternidad de las mujeres, es una responsabilidad de madres, de padres, de la sociedad en general, y que hay que darle el valor social, político y económico que realmente tiene.\\n\\nPor otro lado, es positivo plantear una ampliación del permiso de paternidad, pero hay que tener en cuenta que si este finalmente se amplía hasta las ocho semanas el año que viene, en tan solo tres años el permiso de paternidad habrá aumentado un 300%, pasando de una semana en 2015 a ocho semana en el 2019. Cuando el permiso de maternidad en treinta años, desde el 89, no se ha movido una coma, y es extremadamente corto. No se puede ampliar el permiso de paternidad sin reivindicar un aumento del de maternidad. Esto se dice que se hace en nombre de la igualdad, pero creo que no podemos atribuir la desigualdad en el mercado de trabajo solo a la experiencia materna, porque van mucho más allá.\\n\\nP. ¿En qué medida cree que estas bajas iguales e intransferibles contribuyen a estigmatizar la experiencia de la maternidad?R\\n\\n. Porque son unos permisos en los cuales básicamente se antepone el mercado y el empleo a la crianza. Porque si se considera, en relación al permiso de maternidad, que 16 semanas son suficientes para acompañar a la criatura después de nacer, son permisos que no tienen en cuenta esas necesidades de un bebé, que necesita estar con sus progenitores el máximo tiempo posible tras nacer, y que la fuente de alimento más beneficiosa es la leche materna.\\n\\nEste es un elemento del que no se acostumbra a hablar, pero que es una medida profundamente clasista. De los permisos actuales solo se benefician los progenitores que trabajan o han trabajado y cotizan, por lo que los sectores con menores recursos económicos no tienen acceso a ningún tipo de ayuda por maternidad o paternidad. Y en segundo lugar estos permisos iguales e intransferibles hacen que si tú como madre quieres estar más tiempo con tu criatura, quieres darle de mamar hasta los seis meses, solo aquellas mujeres con determinadas capacidades adquisitivas podrán hacerlo, porque solo ellas podrán tomarse una excedencia por su cuenta. Es una idea clasista que convierte la crianza en un privilegio.\\n\\nP. ¿Qué modelo, de los expuestos en el libro, considera más conveniente?\\n\\nR. Se tendrían que ampliar ambos permisos con un periodo de tiempo muy superior al actual, como de hecho hacen muchos países nórdicos, que dan un peso central a lo que es la ayuda a la maternidad y la crianza. Porque aquí cada año con los informes de la caída de la natalidad nos escandalizamos, pero no se hace absolutamente nada para revertirla. Apostaría por un modelo como los nórdicos, donde las bajas son más amplias que las que tenemos en el Estado español, y que pueden ser compartidas y una parte de ellas transferibles.\\n\\nP. ¿Por qué la lactancia tiene tanto espacio en el debate sobre la maternidad? Se discute desde sobre cómo y dónde se produce hasta qué forma es más conveniente.\\n\\nR. El parto y la lactancia son dos partes esenciales en la crianza. Quería profundizar en el debate sobre la lactancia materna porque también en los feminismos hay un cierto debate sobre si se impone la teta o el biberón. Y me parecía interesante señalar e investigar cómo, a pesar de que cada vez se ha recuperado la lactancia materna —algo que es positivo, porque en los años setenta prácticamente desapareció—, aún el contexto social es adverso, contrariamente a lo que puede parecer en un primer momento.\\n\\nP. En esa época se configura un discurso que asegura que el biberón da más libertad a las madres, y que además también facilita la incorporación al trabajo. ¿Cómo nos relacionamos hoy con estas dos ideas?\\n\\nR. Cuando yo reflexiono con una mirada crítica acerca de la lactancia artificial lo hago desde el punto de vista de los intereses económicos que hay detrás el negocio del biberón, no sobre lo que hace cada madre, porque por desgracia hacemos lo que buenamente podemos en nuestras circunstancias. Dicho esto, cuando se generalizó la lactancia artificial en los años setenta u ochenta, hay unos intereses empresariales claros. La generalización de la lactancia artificial supuso un negocio ingente para las empresas de la industria láctea y alimentaria, como Nestlé o Danone, de ahí que se promocionara como se hizo. Y lo que se hizo fue incidir en el personal sanitario para que este fuera proclive a promocionar la lactancia artificial en detrimento de la lactancia materna.\\n\\nPor otro lado, uno de los elementos que ha incomodado más al feminismo con respecto a la lactancia es el carácter biológico de la práctica, que es biosocial, hay un elemento cultural y otro biológico. Yo creo que desde el feminismo se trata de reconocer tanto el carácter biológico como cultural de la maternidad y de la lactancia, pero precisamente por esto, fruto de esta incomodidad, muchas veces se ha considerado que la maternidad era una práctica que encerraba a las madres en el hogar, que las alejaba del mercado de trabajo, y es necesario cambiar la mirada. Porque dar de mamar es una práctica profundamente feminista, e incluso diría que antineoliberal y anticapitalista. En la medida en que dar la teta no es solo lo mejor para la criatura (y hay determinadas circunstancias en las que dar el biberón es lo mejor), también es extremadamente beneficiosa para la mamá y en particular después del parto, por lo que implica de recuperación, de vínculo con la criatura. A la vez, la lactancia materna permite la autonomía de la mujer, porque no necesita gastar dinero, sabe lo que le da de comer, es kilómetro cero… Y si decía que dar la teta es antineoliberal es porque es una práctica que no beneficia al mercado, que necesita de unos tiempos y de un espacio que son contrarios a la lógica mercantil y productivista, y no tiene un impacto negativo en el medio ambiente.\\n\\nP. Las madres que optan por dar el pecho también suelen hablar de que esto supone una desigualdad insalvable con el padre en la tarea de cuidados.R\\n\\n. Dar el biberón per se no te hace más libre como mujer, ni es un mecanismo de igualdad. Basta con ver a las madres que dan el biberón y crían en soledad. Tampoco la teta per se te hace más libre. El carácter biológico de la lactancia es innegable, pero esto no implica que el padre no pueda implicarse en muchas otras tareas. Los bebés no solo se despiertan por la noche porque quieren mamar, sino por muchas otras circunstancias. Criar en igualdad no tiene tanto que ver con cómo alimentamos a la criatura nada más nacer, sino con muchos otros elementos vinculados a la relación de pareja y con un entorno social que es hostil a la maternidad y a la crianza.\\n\\nP. La tercera pata del libro aborda la violencia obstétrica, y habla de una evolución progresiva en los hospitales. ¿Cuál es el panorama general ahora mismo?violencia obstétrica\\n\\nR. Ha habido una serie de cambios muy significativos en relación a la atención al parto en el sistema hospitalario, que se han producido gracias y en parte a organizaciones de mujeres que han reivindicado un parto respetado. Sin El parto es nuestro no se entenderían los cambios en la atención sanitaria. Pero aún así, en la medida en que muchas de estas modificaciones que se han hecho a nivel gubernamental son de cumplimiento voluntario, aún existen muchas malas prácticas del personal sanitario, debido a que hay una serie de mitos y prejuicios en relación al nacimiento que acaban justificando estas prácticas. Y de hecho solo es necesario ver los porcentajes de cesáreas, de episiotomías, de partos instrumentales que se llevan a cabo, que son muy superiores de los que la Organización Mundial de la Salud considera razonables. Esto tiene un impacto físico y psíquico en las mujeres, y también en las criaturas.\\n\\nP. Llama particularmente la atención las cifras de episiotomía, que indican que se dan en España en el 43% de los partos frente al tope del 15% que recomienda la OMS. ¿Hay una carga cultural en esto?\\n\\nR. Más que una carga cultural hay unas prácticas médicas que consideran que en la medida en que el parto es una enfermedad, la atención al parto se aborda desde este punto de vista y esto dificulta que el proceso del parto se dé de manera natural. Estas prácticas facilitan el trabajo médico, pero tienen consecuencias negativas. En el caso de la episiotomía, particularmente, por lo que implica de problemas de micción, en las relaciones sexuales, etcétera. Hoy, cuatro de cada 10 mujeres que dan a luz sufren una episiotomía: hemos mejorado, porque en el año 95 eran 9 de cada 10. En los países nórdicos es 1 de cada 10. No creo que el periné de las mujeres españolas sea distinto al periné de las mujeres suecas. Si esto se produce es porque hay detrás unas prácticas médicas que consideran que esto es correcto. Hay que cambiar la formación médica para darle una perspectiva feminista y de género.\\n\\nP. En el libro se pregunta dónde están las comadronas, y también se plantea el problema de la formación. ¿Cómo se relacionan estos dos aspectos, qué se aprende en las universidades y quienes llegan a atender el parto?R\\n\\n. Decíamos que hay una visión por parte del personal sanitario patológica, que se ve como una enfermedad, y esta visión es compartida por la sociedad. Y en la medida en que la sociedad no reconoce el parto como un proceso fisiológico, es difícil conseguir que haya un parto respetado. Yo digo que la violencia obstétrica es la última frontera de la violencia de género porque es una violencia aceptada, por los profesionales, por las mujeres afectadas y por sus allegados. Se considera que el parto es eso. Y por eso pensamos siempre que el personal mejor preparado para atender al parto es un ginecólogo, cuando en los partos de bajo riesgo es la comadrona. Hay que reivindicar la figura de la comadrona en la atención al parto y su plena autonomía como profesionales de la salud.\\n\\nP. En ese sentido, ¿comadronas y madres son aliadas?R\\n\\n. Sí, por supuesto. Lo que señalan muchos estudios es que en la medida en que el parto es llevada por comadronas, el grado de satisfacción de las mujeres que dan a luz es superior. El problema es que hay una profunda relación jerárquica en el sistema hospitalario que tienes a menospreciarlas. A la vez hay una falta también de este personal en los hospitales, que va en detrimento de la calidad de la atención al parto. Que haya más comadronas revierte positivamente en la salud de las mujeres.\\n\\nEl 85% de excedencias para el cuidado de hijos tramitadas hasta marzo de 2021 fueron solicitadas por las madres\\n\\nVer más\\n\\nP. ¿Cuál considera que debe ser el lugar desde el que se reclamen estas reivindicaciones alrededor de la maternidad?R\\n\\n. Por un lado, es necesario que el feminismo reivindique la maternidad y la experiencia materna al margen de las imposiciones del sistema. Creo que esta nueva ola feminista, este feminismo del 99%, incorpore la maternidad a sus demandas y que se normalice la relación entre feminismos y maternidad. No como algo idílico o romántico, sino como experiencia y dándole el valor sociopolítico y económico que tiene. Luego están los grupos de crianza, los grupos de apoyo a la lactancia materna, creo que es importante que se sumen a esta oleada feminista en auge y que apuesten por una maternidad transformadora a la hora de llevar a cabo sus reivindicaciones. Porque la maternidad no es una cuestión individual, es una cuestión política. Porque si queremos vivir una maternidad digna lo que tenemos que hacer es cambiar el entorno socioeconómico. Y este cambio radical del sistema solo puede hacerse con el apoyo de otros movimientos sociales.'"
            ]
          },
          "execution_count": 6,
          "metadata": {},
          "output_type": "execute_result"
        }
      ],
      "source": [
        "# Texto de ejemplo\n",
        "texto_noticia = data['contenido'].values[0]\n",
        "texto_noticia"
      ]
    },
    {
      "cell_type": "markdown",
      "metadata": {
        "id": "zTseSPT2bemJ"
      },
      "source": [
        "# Define Agents"
      ]
    },
    {
      "cell_type": "code",
      "execution_count": 7,
      "metadata": {
        "id": "ppU_JNBZuqIg"
      },
      "outputs": [
        {
          "name": "stderr",
          "output_type": "stream",
          "text": [
            "/var/folders/dh/_ks73kfn57l67vxm7b5y16qw0000gn/T/ipykernel_24705/4042902887.py:1: LangChainDeprecationWarning: The class `ChatOpenAI` was deprecated in LangChain 0.0.10 and will be removed in 1.0. An updated version of the class exists in the :class:`~langchain-openai package and should be used instead. To use it run `pip install -U :class:`~langchain-openai` and import as `from :class:`~langchain_openai import ChatOpenAI``.\n",
            "  llm = ChatOpenAI(model_name=OPENAI_MODEL,\n"
          ]
        }
      ],
      "source": [
        "llm = ChatOpenAI(model_name=OPENAI_MODEL,\n",
        "                 api_key= OPENAI_API_KEY,\n",
        "                 temperature=0.2)"
      ]
    },
    {
      "cell_type": "code",
      "execution_count": 8,
      "metadata": {},
      "outputs": [],
      "source": [
        "def crear_agente(tipo, profesion, genero, politica):\n",
        "    pronombre = \"ella\" if genero == \"mujer\" else \"él\"\n",
        "    articulo = \"una\" if genero == \"mujer\" else \"un\"\n",
        "    role = f\"{tipo.capitalize()} ({profesion}, {genero}, {politica})\"\n",
        "\n",
        "    contexto = (\n",
        "        f\"{articulo.capitalize()} {profesion} con identidad de género {genero} \"\n",
        "        f\"y orientación política {politica}. {pronombre.capitalize()} aporta \"\n",
        "        f\"una perspectiva particular sobre el lenguaje y los sesgos debido a su trasfondo.\"\n",
        "    )\n",
        "\n",
        "    # ----------------------\n",
        "    # 1. Agente Analista\n",
        "    # ----------------------\n",
        "    if tipo == \"analista\":\n",
        "        goal = \"Detectar estereotipos, sesgos de género o lenguaje sexista en textos periodísticos.\"\n",
        "        backstory = contexto + \" Su labor es identificar sesgos implícitos o explícitos en el texto.\"\n",
        "\n",
        "    # ----------------------\n",
        "    # 2. Agente Crítico\n",
        "    # ----------------------\n",
        "    elif tipo == \"critico\":\n",
        "        goal = \"Explicar el impacto de los sesgos detectados sobre la percepción del rol de la mujer en la sociedad.\"\n",
        "        backstory = contexto + \" Analiza cómo estos sesgos afectan la forma en que se perciben las mujeres en contextos profesionales y sociales.\"\n",
        "\n",
        "    # ----------------------\n",
        "    # 3. Agente Redactor\n",
        "    # ----------------------\n",
        "    elif tipo == \"redactor\":\n",
        "        goal = \"Reescribir el texto original usando lenguaje inclusivo y eliminando estereotipos.\"\n",
        "        backstory = contexto + \" Se especializa en transformar lenguaje sesgado en narrativas igualitarias.\"\n",
        "\n",
        "    # ----------------------\n",
        "    # 4. Agente Comparador\n",
        "    # ----------------------\n",
        "    elif tipo == \"comparador\":\n",
        "        goal = \"Comparar los análisis de otros agentes y reflexionar sobre cómo la identidad influye en la detección de sesgos.\"\n",
        "        backstory = contexto + \" Observa cómo las variables de identidad (profesión, género, política) afectan la interpretación del texto.\"\n",
        "    else:\n",
        "        raise ValueError(f\"Tipo de agente no válido: {tipo}\")\n",
        "\n",
        "    return Agent(\n",
        "        role=role,\n",
        "        goal=goal,\n",
        "        backstory=backstory,\n",
        "        verbose=True,\n",
        "        llm=llm\n",
        "    )"
      ]
    },
    {
      "cell_type": "code",
      "execution_count": 9,
      "metadata": {},
      "outputs": [],
      "source": [
        "# ----------------------\n",
        "# 5. Agente Estilizador\n",
        "# ----------------------\n",
        "def crear_estilizador():\n",
        "    return Agent(\n",
        "        role=\"Estilizador (asistente técnico neutral)\",\n",
        "        goal=\"Convertir los resultados anteriores en un informe estructurado en Markdown.\",\n",
        "        backstory=\"Asistente especializado en presentación clara de resultados. No realiza análisis, sino que organiza y mejora la visualización del contenido.\",\n",
        "        verbose=True,\n",
        "        llm=llm\n",
        "    )\n"
      ]
    },
    {
      "cell_type": "markdown",
      "metadata": {
        "id": "JC1gVbotbhnX"
      },
      "source": [
        "## Crear agentes"
      ]
    },
    {
      "cell_type": "code",
      "execution_count": 10,
      "metadata": {
        "colab": {
          "base_uri": "https://localhost:8080/"
        },
        "collapsed": true,
        "id": "9u1XCX0ybpaU",
        "outputId": "7cf887b2-756e-47bc-967f-18178670ae40"
      },
      "outputs": [],
      "source": [
        "# Define los parámetros para cada uno de los 5 agentes funcionales\n",
        "profesion = \"jueza\" # \"jueza\", \"abogada\", \"periodista\", \"investigadora\", \"profesora\", \"médica\", \"psicóloga\", \"trabajadora social\"\n",
        "genero = \"mujer\" # \"mujer\", \"hombre\"\n",
        "politica = \"progresista\" # \"progresista\", \"conservadora\", \"neutra\"\n",
        "\n",
        "# Define los perfiles de los agentes\n",
        "perfiles = {\n",
        "    \"analista\":    {\"profesion\": profesion, \"genero\": genero, \"politica\": politica},\n",
        "    \"critico\":     {\"profesion\": profesion, \"genero\": genero, \"politica\": politica},\n",
        "    \"redactor\":    {\"profesion\": profesion, \"genero\": genero, \"politica\": politica},\n",
        "    \"comparador\":  {\"profesion\": profesion, \"genero\": genero, \"politica\": politica},\n",
        "}"
      ]
    },
    {
      "cell_type": "code",
      "execution_count": 11,
      "metadata": {},
      "outputs": [],
      "source": [
        "# Crear agentes\n",
        "agentes = {\n",
        "    tipo: crear_agente(tipo, **params)\n",
        "    for tipo, params in perfiles.items() if tipo != \"estilizador\"\n",
        "}\n",
        "agentes[\"estilizador\"] = crear_estilizador()\n"
      ]
    },
    {
      "cell_type": "markdown",
      "metadata": {
        "id": "qOybVgj9bsW1"
      },
      "source": [
        "## Crear tareas"
      ]
    },
    {
      "cell_type": "code",
      "execution_count": 12,
      "metadata": {
        "id": "l67T3CiQb4Sm"
      },
      "outputs": [],
      "source": [
        "tareas = [\n",
        "    Task(\n",
        "    description=(\n",
        "            f\"\"\"Analiza el siguiente texto completo con atención al contexto y la intención del autor.\n",
        "\n",
        "    Tu objetivo es detectar frases que perpetúen estereotipos, lenguaje sexista o sesgos de género de forma explícita o implícita.  \n",
        "    ⚠️ Ten en cuenta que algunas frases podrían parecer problemáticas en sí mismas, pero no lo son si el texto las está usando para **criticar** esos sesgos.  \n",
        "    No marques como sesgada ninguna frase si forma parte de una **denuncia o crítica** a ese mismo lenguaje.\n",
        "\n",
        "    1. Enumera las frases que verdaderamente refuercen o reproduzcan estereotipos o sesgos de género. Justifica cada una.\n",
        "    2. En el texto original:\n",
        "        - Usa `<span style=\"color: red; font-weight: bold;\">... </span>` para marcar frases con sesgos.\n",
        "        - Usa `<span style=\"color: blue;\">... </span>` para frases que denuncian o critican estereotipos.\n",
        "\n",
        "    Texto original:\n",
        "    {texto_noticia}\n",
        "    \"\"\"\n",
        "        ),\n",
        "        expected_output=(\n",
        "            \"Frases problemáticas con justificación + texto original anotado con Markdown.\"\n",
        "        ),\n",
        "        agent=agentes[\"analista\"]\n",
        "    ),\n",
        "    Task(\n",
        "        description=\"Explica cómo los sesgos detectados afectan la percepción de la mujer en la sociedad.\",\n",
        "        expected_output=\"Análisis crítico del impacto social.\",\n",
        "        agent=agentes[\"critico\"]\n",
        "    ),\n",
        "    Task(\n",
        "        description=\"Reescribe el texto con lenguaje inclusivo y sin estereotipos.\",\n",
        "        expected_output=\"Nueva versión del texto con lenguaje igualitario.\",\n",
        "        agent=agentes[\"redactor\"]\n",
        "    ),\n",
        "    Task(\n",
        "        description=\"Compara los análisis anteriores y reflexiona sobre cómo influyen la profesión, género y política de cada agente.\",\n",
        "        expected_output=\"Reflexión comparativa desde una perspectiva neutral.\",\n",
        "        agent=agentes[\"comparador\"]\n",
        "    ),\n",
        "    Task(\n",
        "        description=\"Toma todos los análisis anteriores y preséntalos en un informe en formato Markdown con títulos, listas, separadores y claridad visual.\",\n",
        "        expected_output=\"Informe en Markdown limpio y bien estructurado.\",\n",
        "        agent=agentes[\"estilizador\"]\n",
        "    )\n",
        "]"
      ]
    },
    {
      "cell_type": "markdown",
      "metadata": {
        "id": "g6Us-hNsda3k"
      },
      "source": [
        "# Orchestrate Agents"
      ]
    },
    {
      "cell_type": "code",
      "execution_count": 13,
      "metadata": {
        "id": "UFrPpP_AY5tz"
      },
      "outputs": [],
      "source": [
        "crew = Crew(\n",
        "    agents=list(agentes.values()),\n",
        "    tasks=tareas,\n",
        "    verbose=True\n",
        ")"
      ]
    },
    {
      "cell_type": "markdown",
      "metadata": {
        "id": "Sv8tdk1tezvL"
      },
      "source": [
        "# Execute"
      ]
    },
    {
      "cell_type": "code",
      "execution_count": 14,
      "metadata": {
        "colab": {
          "base_uri": "https://localhost:8080/"
        },
        "id": "9DfmRfn5e0J8",
        "outputId": "2e0d5166-e047-42d0-ff8e-dd20051a1acf"
      },
      "outputs": [
        {
          "data": {
            "text/html": [
              "<pre style=\"white-space:pre;overflow-x:auto;line-height:normal;font-family:Menlo,'DejaVu Sans Mono',consolas,'Courier New',monospace\"><span style=\"color: #008080; text-decoration-color: #008080\">╭──────────────────────────────────────────── Crew Execution Started ─────────────────────────────────────────────╮</span>\n",
              "<span style=\"color: #008080; text-decoration-color: #008080\">│</span>                                                                                                                 <span style=\"color: #008080; text-decoration-color: #008080\">│</span>\n",
              "<span style=\"color: #008080; text-decoration-color: #008080\">│</span>  <span style=\"color: #008080; text-decoration-color: #008080; font-weight: bold\">Crew Execution Started</span>                                                                                         <span style=\"color: #008080; text-decoration-color: #008080\">│</span>\n",
              "<span style=\"color: #008080; text-decoration-color: #008080\">│</span>  <span style=\"color: #c0c0c0; text-decoration-color: #c0c0c0\">Name: </span><span style=\"color: #008080; text-decoration-color: #008080\">crew</span>                                                                                                     <span style=\"color: #008080; text-decoration-color: #008080\">│</span>\n",
              "<span style=\"color: #008080; text-decoration-color: #008080\">│</span>  <span style=\"color: #c0c0c0; text-decoration-color: #c0c0c0\">ID: </span><span style=\"color: #008080; text-decoration-color: #008080\">9fd40c95-d073-4974-9c84-f6c7d8ca9c0d</span>                                                                       <span style=\"color: #008080; text-decoration-color: #008080\">│</span>\n",
              "<span style=\"color: #008080; text-decoration-color: #008080\">│</span>                                                                                                                 <span style=\"color: #008080; text-decoration-color: #008080\">│</span>\n",
              "<span style=\"color: #008080; text-decoration-color: #008080\">│</span>                                                                                                                 <span style=\"color: #008080; text-decoration-color: #008080\">│</span>\n",
              "<span style=\"color: #008080; text-decoration-color: #008080\">╰─────────────────────────────────────────────────────────────────────────────────────────────────────────────────╯</span>\n",
              "</pre>\n"
            ],
            "text/plain": [
              "\u001b[36m╭─\u001b[0m\u001b[36m───────────────────────────────────────────\u001b[0m\u001b[36m Crew Execution Started \u001b[0m\u001b[36m────────────────────────────────────────────\u001b[0m\u001b[36m─╮\u001b[0m\n",
              "\u001b[36m│\u001b[0m                                                                                                                 \u001b[36m│\u001b[0m\n",
              "\u001b[36m│\u001b[0m  \u001b[1;36mCrew Execution Started\u001b[0m                                                                                         \u001b[36m│\u001b[0m\n",
              "\u001b[36m│\u001b[0m  \u001b[37mName: \u001b[0m\u001b[36mcrew\u001b[0m                                                                                                     \u001b[36m│\u001b[0m\n",
              "\u001b[36m│\u001b[0m  \u001b[37mID: \u001b[0m\u001b[36m9fd40c95-d073-4974-9c84-f6c7d8ca9c0d\u001b[0m                                                                       \u001b[36m│\u001b[0m\n",
              "\u001b[36m│\u001b[0m                                                                                                                 \u001b[36m│\u001b[0m\n",
              "\u001b[36m│\u001b[0m                                                                                                                 \u001b[36m│\u001b[0m\n",
              "\u001b[36m╰─────────────────────────────────────────────────────────────────────────────────────────────────────────────────╯\u001b[0m\n"
            ]
          },
          "metadata": {},
          "output_type": "display_data"
        },
        {
          "data": {
            "text/html": [
              "<pre style=\"white-space:pre;overflow-x:auto;line-height:normal;font-family:Menlo,'DejaVu Sans Mono',consolas,'Courier New',monospace\">\n",
              "</pre>\n"
            ],
            "text/plain": [
              "\n"
            ]
          },
          "metadata": {},
          "output_type": "display_data"
        },
        {
          "data": {
            "text/html": [
              "<pre style=\"white-space:pre;overflow-x:auto;line-height:normal;font-family:Menlo,'DejaVu Sans Mono',consolas,'Courier New',monospace\"><span style=\"color: #008080; text-decoration-color: #008080; font-weight: bold\">🚀 Crew: crew</span>\n",
              "└── <span style=\"color: #808000; text-decoration-color: #808000; font-weight: bold\">📋 Task: 4933d26a-b148-4454-8a19-71080930986b</span>\n",
              "    <span style=\"color: #c0c0c0; text-decoration-color: #c0c0c0\">   Status: </span><span style=\"color: #bfbf7f; text-decoration-color: #bfbf7f\">Executing Task...</span>\n",
              "</pre>\n"
            ],
            "text/plain": [
              "\u001b[1;36m🚀 Crew: \u001b[0m\u001b[1;36mcrew\u001b[0m\n",
              "└── \u001b[1;33m📋 Task: 4933d26a-b148-4454-8a19-71080930986b\u001b[0m\n",
              "    \u001b[37m   Status: \u001b[0m\u001b[2;33mExecuting Task...\u001b[0m\n"
            ]
          },
          "metadata": {},
          "output_type": "display_data"
        },
        {
          "data": {
            "text/html": [
              "<pre style=\"white-space:pre;overflow-x:auto;line-height:normal;font-family:Menlo,'DejaVu Sans Mono',consolas,'Courier New',monospace\">\n",
              "</pre>\n"
            ],
            "text/plain": [
              "\n"
            ]
          },
          "metadata": {},
          "output_type": "display_data"
        },
        {
          "data": {
            "text/html": [
              "<pre style=\"white-space:pre;overflow-x:auto;line-height:normal;font-family:Menlo,'DejaVu Sans Mono',consolas,'Courier New',monospace\"><span style=\"color: #008080; text-decoration-color: #008080; font-weight: bold\">🚀 Crew: crew</span>\n",
              "└── <span style=\"color: #808000; text-decoration-color: #808000; font-weight: bold\">📋 Task: 4933d26a-b148-4454-8a19-71080930986b</span>\n",
              "    <span style=\"color: #c0c0c0; text-decoration-color: #c0c0c0\">   Status: </span><span style=\"color: #bfbf7f; text-decoration-color: #bfbf7f\">Executing Task...</span>\n",
              "    └── <span style=\"color: #008000; text-decoration-color: #008000; font-weight: bold\">🤖 Agent: </span><span style=\"color: #008000; text-decoration-color: #008000\">Analista (jueza, mujer, progresista)</span>\n",
              "        <span style=\"color: #c0c0c0; text-decoration-color: #c0c0c0\">    Status: </span><span style=\"color: #008000; text-decoration-color: #008000; font-weight: bold\">In Progress</span>\n",
              "</pre>\n"
            ],
            "text/plain": [
              "\u001b[1;36m🚀 Crew: \u001b[0m\u001b[1;36mcrew\u001b[0m\n",
              "└── \u001b[1;33m📋 Task: 4933d26a-b148-4454-8a19-71080930986b\u001b[0m\n",
              "    \u001b[37m   Status: \u001b[0m\u001b[2;33mExecuting Task...\u001b[0m\n",
              "    └── \u001b[1;32m🤖 Agent: \u001b[0m\u001b[32mAnalista (jueza, mujer, progresista)\u001b[0m\n",
              "        \u001b[37m    Status: \u001b[0m\u001b[1;32mIn Progress\u001b[0m\n"
            ]
          },
          "metadata": {},
          "output_type": "display_data"
        },
        {
          "data": {
            "text/html": [
              "<pre style=\"white-space:pre;overflow-x:auto;line-height:normal;font-family:Menlo,'DejaVu Sans Mono',consolas,'Courier New',monospace\">\n",
              "</pre>\n"
            ],
            "text/plain": [
              "\n"
            ]
          },
          "metadata": {},
          "output_type": "display_data"
        },
        {
          "name": "stdout",
          "output_type": "stream",
          "text": [
            "\u001b[1m\u001b[95m# Agent:\u001b[00m \u001b[1m\u001b[92mAnalista (jueza, mujer, progresista)\u001b[00m\n",
            "\u001b[95m## Task:\u001b[00m \u001b[92mAnaliza el siguiente texto completo con atención al contexto y la intención del autor.\n",
            "\n",
            "    Tu objetivo es detectar frases que perpetúen estereotipos, lenguaje sexista o sesgos de género de forma explícita o implícita.  \n",
            "    ⚠️ Ten en cuenta que algunas frases podrían parecer problemáticas en sí mismas, pero no lo son si el texto las está usando para **criticar** esos sesgos.  \n",
            "    No marques como sesgada ninguna frase si forma parte de una **denuncia o crítica** a ese mismo lenguaje.\n",
            "\n",
            "    1. Enumera las frases que verdaderamente refuercen o reproduzcan estereotipos o sesgos de género. Justifica cada una.\n",
            "    2. En el texto original:\n",
            "        - Usa `<span style=\"color: red; font-weight: bold;\">... </span>` para marcar frases con sesgos.\n",
            "        - Usa `<span style=\"color: blue;\">... </span>` para frases que denuncian o critican estereotipos.\n",
            "\n",
            "    Texto original:\n",
            "    Dice Esther Vivas (Sabadell, 1975) que \"la literatura de la maternidad parte a menudo de la propia experiencia\". ¿Quién iba, si no, a querer dedicar su tiempo a un asunto tan insignificante? El caso de esta periodista, que se había dedicado previamente al estudio del sistema agroalimentario y de los movimientos sociales, no es, dice, una excepción. A partir de su embarazo y de las primeras búsquedas de información sobre cómo se podría desarrollar el parto, comenzó a preguntarse por qué no le habían hablado de todo aquello. Por qué todo el mundo aceptaba esa violencia obstétrica. Mamá desobediente (editado por Capitán Swing en castellano y en catalán por Ara Llibres, bajo el título Mama desobedient) es el resultado de aquella primera \"indignación\", pero no se limita a ella. En el ensayo, que lleva por subtítulo Una mirada feminista a la maternidad, Vivas se ocupa primero de los mitos existentes en torno a ella, para centrarse luego en dos aspectos concretos de esta experiencia que generan un debate encendido: primero, la atención al parto; después, la lactancia.\n",
            "\n",
            "Y no es casualidad que cuestiones aparentemente privadas sobre si una mujer le da el pecho o no a su hijo generen polémica. La autora no solo defiende que la maternidad es un asunto público, imbricado en la economía y la política, sino que la sitúa en el centro del feminismo de clase y el anticapitalismo. Si no se la ha considerado así, defiende en el libro, es porque existen intereses para ello.\n",
            "\n",
            "Pregunta. ¿Por qué ser madre y feminista supone ser desobediente? ¿Desobediente con respecto al sistema neoliberal o con respecto a cierto feminismo?\n",
            "\n",
            "Respuesta. Ser madre implica desobedecer porque vivimos en un sistema que es hostil a la maternidad y a la crianza, y si eres feminista y de repente eres madre, esa maternidad te reafirma en tus valores feministas. ¿Qué sucede? Que en general el feminismo ha tenido una relación compleja con la maternidad, porque en la medida en que la maternidad ha sido utilizada por el patriarcado como un instrumento de control del cuerpo de las mujeres, cuando el feminismo se rebeló contra esta imposición, en los años sesenta o setenta, en la Segunda Ola, se creó un discurso antipaternal y antirreproductivo, y no se abordaron las contradicciones que implica la maternidad. Por eso creo que desde el feminismo es necesario reivindicar la experiencia materna, no en clave romántica sino en clave de experiencia que tenemos que poder vivir como mujeres, al margen de las imposiciones y restricciones del sistema.\n",
            "\n",
            "P. ¿Pensar la maternidad desde el feminismo supone repensar la idea que tenemos de la incorporación de la mujer al mundo laboral?\n",
            "\n",
            "R. Sí. En general, desde un cierto feminismo, a la hora de plantear la igualdad en el mercado de trabajo, se ha señalado la maternidad, el cuidado y la crianza como una carga. Desde este punto de vista, ante la maternidad patriarcal impuesta, ante ese modelo de feminidad abnegada cuyo fin último es ser madre, se ha planteado que la alternativa era supeditar la crianza al mercado y al empleo. Es necesario cambiar la mirada, porque el problema no es la maternidad, sino el mercado, una sociedad que es hostil a unas prácticas que son fundamentales para la reproducción de la vida, como son gestar, parir, dar de mamar y cuidar.\n",
            "\n",
            "P. ¿Cómo afecta esto a la manera en que el movimiento feminista se ha planteado la narrativa en torno a la igualdad en el trabajo?\n",
            "\n",
            "R. Aquí también hemos vistos distintos discursos y estrategias. Por un lado hay un cierto feminismo liberal que básicamente reivindica la igualdad para un sector de mujeres de clase media blanca. En Estados Unidos vemos en el partido demócrata y que aquí vemos a medio camino entre el PSOE y Ciudadanos. Por eso creo que hay que reivindicar el feminismo del 99%, el que reclama la igualdad del conjunto de las mujeres y que señala que las desigualdades de género vienen también de la desigualdades de clase y de etnia, y que por eso es necesario acabar con las desigualdades socioeconómicas para conseguir una igualdad de género real.\n",
            "\n",
            "P. Por lo heredado de la Segunda Ola, existe esta idea de que liberarse de la maternidad obligatoria ha sido algo emancipatorio, y que por tanto poner la maternidad en el centro del feminismo sería negar esa conquista. ¿Cómo se resuelve este conflicto?\n",
            "\n",
            "R. Lo que es necesario no es acabar con la experiencia de la maternidad, sino con lo que la activista feminista Adrienne Rich, ya en los años setenta, llamaba “la institución de la maternidad”. Es fundamental que la nueva oleada feminista incorpore la reivindicación de poder vivir la experiencia materna libre de imposiciones. La cuestión no es negar la maternidad sino reivindicarla. Esto no implica dar la razón a posturas reaccionarias en relación a la maternidad, sino reivindicar la maternidad en clave emancipadora. Yo como mujer tengo derecho a decidir cómo quiero vivir mi embarazo, mi parto y mi lactancia: esto es feminismo, como también es feminismo decidir si quiero tener un hijo o no, si quiero abortar o no. Reivindicar una maternidad feminista va de la mano con reivindicar el pleno control sobre nuestro cuerpo como mujeres.\n",
            "\n",
            "P. Le dedica parte del libro al debate sobre las bajas de maternidad y paternidad, y señala que las nuevas bajas intransferibles quieren reforzar la igualdad entre hombres y mujeres pero en realidad ignora la experiencia de la maternidad. ¿Qué posición cree que ha faltado en el debate?nuevas bajas intransferibles\n",
            "\n",
            "R. Se han obviado en gran medida las demandas de un sector del feminismo que reivindica una ampliación de los permisos de maternidad, porque en la actualidad el permiso de maternidad ni siquiera permite una lactancia materna en exclusiva hasta los seis meses, como recomiendan todas las instancias de salud. Y también es un debate que ha menospreciado el sentir de muchas madres. Hay varios estudios que señalan que cuando una mujer tiene un hijo, quiere estar con la criatura, y en cambio estos permisos iguales e intransferibles que se reivindican siguen estigmatizando la experiencia materna y la consideran una carga. Con esto no quiero decir que la maternidad sea tan solo una maternidad de las mujeres, es una responsabilidad de madres, de padres, de la sociedad en general, y que hay que darle el valor social, político y económico que realmente tiene.\n",
            "\n",
            "Por otro lado, es positivo plantear una ampliación del permiso de paternidad, pero hay que tener en cuenta que si este finalmente se amplía hasta las ocho semanas el año que viene, en tan solo tres años el permiso de paternidad habrá aumentado un 300%, pasando de una semana en 2015 a ocho semana en el 2019. Cuando el permiso de maternidad en treinta años, desde el 89, no se ha movido una coma, y es extremadamente corto. No se puede ampliar el permiso de paternidad sin reivindicar un aumento del de maternidad. Esto se dice que se hace en nombre de la igualdad, pero creo que no podemos atribuir la desigualdad en el mercado de trabajo solo a la experiencia materna, porque van mucho más allá.\n",
            "\n",
            "P. ¿En qué medida cree que estas bajas iguales e intransferibles contribuyen a estigmatizar la experiencia de la maternidad?R\n",
            "\n",
            ". Porque son unos permisos en los cuales básicamente se antepone el mercado y el empleo a la crianza. Porque si se considera, en relación al permiso de maternidad, que 16 semanas son suficientes para acompañar a la criatura después de nacer, son permisos que no tienen en cuenta esas necesidades de un bebé, que necesita estar con sus progenitores el máximo tiempo posible tras nacer, y que la fuente de alimento más beneficiosa es la leche materna.\n",
            "\n",
            "Este es un elemento del que no se acostumbra a hablar, pero que es una medida profundamente clasista. De los permisos actuales solo se benefician los progenitores que trabajan o han trabajado y cotizan, por lo que los sectores con menores recursos económicos no tienen acceso a ningún tipo de ayuda por maternidad o paternidad. Y en segundo lugar estos permisos iguales e intransferibles hacen que si tú como madre quieres estar más tiempo con tu criatura, quieres darle de mamar hasta los seis meses, solo aquellas mujeres con determinadas capacidades adquisitivas podrán hacerlo, porque solo ellas podrán tomarse una excedencia por su cuenta. Es una idea clasista que convierte la crianza en un privilegio.\n",
            "\n",
            "P. ¿Qué modelo, de los expuestos en el libro, considera más conveniente?\n",
            "\n",
            "R. Se tendrían que ampliar ambos permisos con un periodo de tiempo muy superior al actual, como de hecho hacen muchos países nórdicos, que dan un peso central a lo que es la ayuda a la maternidad y la crianza. Porque aquí cada año con los informes de la caída de la natalidad nos escandalizamos, pero no se hace absolutamente nada para revertirla. Apostaría por un modelo como los nórdicos, donde las bajas son más amplias que las que tenemos en el Estado español, y que pueden ser compartidas y una parte de ellas transferibles.\n",
            "\n",
            "P. ¿Por qué la lactancia tiene tanto espacio en el debate sobre la maternidad? Se discute desde sobre cómo y dónde se produce hasta qué forma es más conveniente.\n",
            "\n",
            "R. El parto y la lactancia son dos partes esenciales en la crianza. Quería profundizar en el debate sobre la lactancia materna porque también en los feminismos hay un cierto debate sobre si se impone la teta o el biberón. Y me parecía interesante señalar e investigar cómo, a pesar de que cada vez se ha recuperado la lactancia materna —algo que es positivo, porque en los años setenta prácticamente desapareció—, aún el contexto social es adverso, contrariamente a lo que puede parecer en un primer momento.\n",
            "\n",
            "P. En esa época se configura un discurso que asegura que el biberón da más libertad a las madres, y que además también facilita la incorporación al trabajo. ¿Cómo nos relacionamos hoy con estas dos ideas?\n",
            "\n",
            "R. Cuando yo reflexiono con una mirada crítica acerca de la lactancia artificial lo hago desde el punto de vista de los intereses económicos que hay detrás el negocio del biberón, no sobre lo que hace cada madre, porque por desgracia hacemos lo que buenamente podemos en nuestras circunstancias. Dicho esto, cuando se generalizó la lactancia artificial en los años setenta u ochenta, hay unos intereses empresariales claros. La generalización de la lactancia artificial supuso un negocio ingente para las empresas de la industria láctea y alimentaria, como Nestlé o Danone, de ahí que se promocionara como se hizo. Y lo que se hizo fue incidir en el personal sanitario para que este fuera proclive a promocionar la lactancia artificial en detrimento de la lactancia materna.\n",
            "\n",
            "Por otro lado, uno de los elementos que ha incomodado más al feminismo con respecto a la lactancia es el carácter biológico de la práctica, que es biosocial, hay un elemento cultural y otro biológico. Yo creo que desde el feminismo se trata de reconocer tanto el carácter biológico como cultural de la maternidad y de la lactancia, pero precisamente por esto, fruto de esta incomodidad, muchas veces se ha considerado que la maternidad era una práctica que encerraba a las madres en el hogar, que las alejaba del mercado de trabajo, y es necesario cambiar la mirada. Porque dar de mamar es una práctica profundamente feminista, e incluso diría que antineoliberal y anticapitalista. En la medida en que dar la teta no es solo lo mejor para la criatura (y hay determinadas circunstancias en las que dar el biberón es lo mejor), también es extremadamente beneficiosa para la mamá y en particular después del parto, por lo que implica de recuperación, de vínculo con la criatura. A la vez, la lactancia materna permite la autonomía de la mujer, porque no necesita gastar dinero, sabe lo que le da de comer, es kilómetro cero… Y si decía que dar la teta es antineoliberal es porque es una práctica que no beneficia al mercado, que necesita de unos tiempos y de un espacio que son contrarios a la lógica mercantil y productivista, y no tiene un impacto negativo en el medio ambiente.\n",
            "\n",
            "P. Las madres que optan por dar el pecho también suelen hablar de que esto supone una desigualdad insalvable con el padre en la tarea de cuidados.R\n",
            "\n",
            ". Dar el biberón per se no te hace más libre como mujer, ni es un mecanismo de igualdad. Basta con ver a las madres que dan el biberón y crían en soledad. Tampoco la teta per se te hace más libre. El carácter biológico de la lactancia es innegable, pero esto no implica que el padre no pueda implicarse en muchas otras tareas. Los bebés no solo se despiertan por la noche porque quieren mamar, sino por muchas otras circunstancias. Criar en igualdad no tiene tanto que ver con cómo alimentamos a la criatura nada más nacer, sino con muchos otros elementos vinculados a la relación de pareja y con un entorno social que es hostil a la maternidad y a la crianza.\n",
            "\n",
            "P. La tercera pata del libro aborda la violencia obstétrica, y habla de una evolución progresiva en los hospitales. ¿Cuál es el panorama general ahora mismo?violencia obstétrica\n",
            "\n",
            "R. Ha habido una serie de cambios muy significativos en relación a la atención al parto en el sistema hospitalario, que se han producido gracias y en parte a organizaciones de mujeres que han reivindicado un parto respetado. Sin El parto es nuestro no se entenderían los cambios en la atención sanitaria. Pero aún así, en la medida en que muchas de estas modificaciones que se han hecho a nivel gubernamental son de cumplimiento voluntario, aún existen muchas malas prácticas del personal sanitario, debido a que hay una serie de mitos y prejuicios en relación al nacimiento que acaban justificando estas prácticas. Y de hecho solo es necesario ver los porcentajes de cesáreas, de episiotomías, de partos instrumentales que se llevan a cabo, que son muy superiores de los que la Organización Mundial de la Salud considera razonables. Esto tiene un impacto físico y psíquico en las mujeres, y también en las criaturas.\n",
            "\n",
            "P. Llama particularmente la atención las cifras de episiotomía, que indican que se dan en España en el 43% de los partos frente al tope del 15% que recomienda la OMS. ¿Hay una carga cultural en esto?\n",
            "\n",
            "R. Más que una carga cultural hay unas prácticas médicas que consideran que en la medida en que el parto es una enfermedad, la atención al parto se aborda desde este punto de vista y esto dificulta que el proceso del parto se dé de manera natural. Estas prácticas facilitan el trabajo médico, pero tienen consecuencias negativas. En el caso de la episiotomía, particularmente, por lo que implica de problemas de micción, en las relaciones sexuales, etcétera. Hoy, cuatro de cada 10 mujeres que dan a luz sufren una episiotomía: hemos mejorado, porque en el año 95 eran 9 de cada 10. En los países nórdicos es 1 de cada 10. No creo que el periné de las mujeres españolas sea distinto al periné de las mujeres suecas. Si esto se produce es porque hay detrás unas prácticas médicas que consideran que esto es correcto. Hay que cambiar la formación médica para darle una perspectiva feminista y de género.\n",
            "\n",
            "P. En el libro se pregunta dónde están las comadronas, y también se plantea el problema de la formación. ¿Cómo se relacionan estos dos aspectos, qué se aprende en las universidades y quienes llegan a atender el parto?R\n",
            "\n",
            ". Decíamos que hay una visión por parte del personal sanitario patológica, que se ve como una enfermedad, y esta visión es compartida por la sociedad. Y en la medida en que la sociedad no reconoce el parto como un proceso fisiológico, es difícil conseguir que haya un parto respetado. Yo digo que la violencia obstétrica es la última frontera de la violencia de género porque es una violencia aceptada, por los profesionales, por las mujeres afectadas y por sus allegados. Se considera que el parto es eso. Y por eso pensamos siempre que el personal mejor preparado para atender al parto es un ginecólogo, cuando en los partos de bajo riesgo es la comadrona. Hay que reivindicar la figura de la comadrona en la atención al parto y su plena autonomía como profesionales de la salud.\n",
            "\n",
            "P. En ese sentido, ¿comadronas y madres son aliadas?R\n",
            "\n",
            ". Sí, por supuesto. Lo que señalan muchos estudios es que en la medida en que el parto es llevada por comadronas, el grado de satisfacción de las mujeres que dan a luz es superior. El problema es que hay una profunda relación jerárquica en el sistema hospitalario que tienes a menospreciarlas. A la vez hay una falta también de este personal en los hospitales, que va en detrimento de la calidad de la atención al parto. Que haya más comadronas revierte positivamente en la salud de las mujeres.\n",
            "\n",
            "El 85% de excedencias para el cuidado de hijos tramitadas hasta marzo de 2021 fueron solicitadas por las madres\n",
            "\n",
            "Ver más\n",
            "\n",
            "P. ¿Cuál considera que debe ser el lugar desde el que se reclamen estas reivindicaciones alrededor de la maternidad?R\n",
            "\n",
            ". Por un lado, es necesario que el feminismo reivindique la maternidad y la experiencia materna al margen de las imposiciones del sistema. Creo que esta nueva ola feminista, este feminismo del 99%, incorpore la maternidad a sus demandas y que se normalice la relación entre feminismos y maternidad. No como algo idílico o romántico, sino como experiencia y dándole el valor sociopolítico y económico que tiene. Luego están los grupos de crianza, los grupos de apoyo a la lactancia materna, creo que es importante que se sumen a esta oleada feminista en auge y que apuesten por una maternidad transformadora a la hora de llevar a cabo sus reivindicaciones. Porque la maternidad no es una cuestión individual, es una cuestión política. Porque si queremos vivir una maternidad digna lo que tenemos que hacer es cambiar el entorno socioeconómico. Y este cambio radical del sistema solo puede hacerse con el apoyo de otros movimientos sociales.\n",
            "    \u001b[00m\n"
          ]
        },
        {
          "data": {
            "text/html": [
              "<pre style=\"white-space:pre;overflow-x:auto;line-height:normal;font-family:Menlo,'DejaVu Sans Mono',consolas,'Courier New',monospace\"><span style=\"color: #008080; text-decoration-color: #008080; font-weight: bold\">🚀 Crew: crew</span>\n",
              "└── <span style=\"color: #808000; text-decoration-color: #808000; font-weight: bold\">📋 Task: 4933d26a-b148-4454-8a19-71080930986b</span>\n",
              "    <span style=\"color: #c0c0c0; text-decoration-color: #c0c0c0\">   Status: </span><span style=\"color: #bfbf7f; text-decoration-color: #bfbf7f\">Executing Task...</span>\n",
              "    └── <span style=\"color: #008000; text-decoration-color: #008000; font-weight: bold\">🤖 Agent: </span><span style=\"color: #008000; text-decoration-color: #008000\">Analista (jueza, mujer, progresista)</span>\n",
              "        <span style=\"color: #c0c0c0; text-decoration-color: #c0c0c0\">    Status: </span><span style=\"color: #008000; text-decoration-color: #008000; font-weight: bold\">In Progress</span>\n",
              "        └── <span style=\"color: #000080; text-decoration-color: #000080; font-weight: bold\">🧠 </span><span style=\"color: #000080; text-decoration-color: #000080\">Thinking...</span>\n",
              "</pre>\n"
            ],
            "text/plain": [
              "\u001b[1;36m🚀 Crew: \u001b[0m\u001b[1;36mcrew\u001b[0m\n",
              "└── \u001b[1;33m📋 Task: 4933d26a-b148-4454-8a19-71080930986b\u001b[0m\n",
              "    \u001b[37m   Status: \u001b[0m\u001b[2;33mExecuting Task...\u001b[0m\n",
              "    └── \u001b[1;32m🤖 Agent: \u001b[0m\u001b[32mAnalista (jueza, mujer, progresista)\u001b[0m\n",
              "        \u001b[37m    Status: \u001b[0m\u001b[1;32mIn Progress\u001b[0m\n",
              "        └── \u001b[1;34m🧠 \u001b[0m\u001b[34mThinking...\u001b[0m\n"
            ]
          },
          "metadata": {},
          "output_type": "display_data"
        },
        {
          "data": {
            "text/html": [
              "<pre style=\"white-space:pre;overflow-x:auto;line-height:normal;font-family:Menlo,'DejaVu Sans Mono',consolas,'Courier New',monospace\">\n",
              "</pre>\n"
            ],
            "text/plain": [
              "\n"
            ]
          },
          "metadata": {},
          "output_type": "display_data"
        },
        {
          "data": {
            "text/html": [
              "<pre style=\"white-space:pre;overflow-x:auto;line-height:normal;font-family:Menlo,'DejaVu Sans Mono',consolas,'Courier New',monospace\"><span style=\"color: #008080; text-decoration-color: #008080; font-weight: bold\">🚀 Crew: crew</span>\n",
              "└── <span style=\"color: #808000; text-decoration-color: #808000; font-weight: bold\">📋 Task: 4933d26a-b148-4454-8a19-71080930986b</span>\n",
              "    <span style=\"color: #c0c0c0; text-decoration-color: #c0c0c0\">   Status: </span><span style=\"color: #bfbf7f; text-decoration-color: #bfbf7f\">Executing Task...</span>\n",
              "    └── <span style=\"color: #008000; text-decoration-color: #008000; font-weight: bold\">🤖 Agent: </span><span style=\"color: #008000; text-decoration-color: #008000\">Analista (jueza, mujer, progresista)</span>\n",
              "        <span style=\"color: #c0c0c0; text-decoration-color: #c0c0c0\">    Status: </span><span style=\"color: #008000; text-decoration-color: #008000; font-weight: bold\">In Progress</span>\n",
              "</pre>\n"
            ],
            "text/plain": [
              "\u001b[1;36m🚀 Crew: \u001b[0m\u001b[1;36mcrew\u001b[0m\n",
              "└── \u001b[1;33m📋 Task: 4933d26a-b148-4454-8a19-71080930986b\u001b[0m\n",
              "    \u001b[37m   Status: \u001b[0m\u001b[2;33mExecuting Task...\u001b[0m\n",
              "    └── \u001b[1;32m🤖 Agent: \u001b[0m\u001b[32mAnalista (jueza, mujer, progresista)\u001b[0m\n",
              "        \u001b[37m    Status: \u001b[0m\u001b[1;32mIn Progress\u001b[0m\n"
            ]
          },
          "metadata": {},
          "output_type": "display_data"
        },
        {
          "data": {
            "text/html": [
              "<pre style=\"white-space:pre;overflow-x:auto;line-height:normal;font-family:Menlo,'DejaVu Sans Mono',consolas,'Courier New',monospace\">\n",
              "</pre>\n"
            ],
            "text/plain": [
              "\n"
            ]
          },
          "metadata": {},
          "output_type": "display_data"
        },
        {
          "name": "stdout",
          "output_type": "stream",
          "text": [
            "\n",
            "\n",
            "\u001b[1m\u001b[95m# Agent:\u001b[00m \u001b[1m\u001b[92mAnalista (jueza, mujer, progresista)\u001b[00m\n",
            "\u001b[95m## Final Answer:\u001b[00m \u001b[92m\n",
            "1. Frases que refuerzan o reproducen estereotipos o sesgos de género:\n",
            "\n",
            "   - **\"¿Quién iba, si no, a querer dedicar su tiempo a un asunto tan insignificante?\"**  \n",
            "     Justificación: Esta frase sugiere que la maternidad es un tema trivial y que solo se le puede dar importancia si se tiene una experiencia personal. Refuerza la idea de que el cuidado de los hijos es un asunto menor en comparación con otros temas.\n",
            "\n",
            "   - **\"la maternidad ha sido utilizada por el patriarcado como un instrumento de control del cuerpo de las mujeres\"**  \n",
            "     Justificación: Aunque la frase critica el uso patriarcal de la maternidad, también perpetúa la idea de que la maternidad es inherentemente negativa y que las mujeres son víctimas pasivas de un sistema opresor, sin reconocer la agencia de las mujeres en su experiencia materna.\n",
            "\n",
            "   - **\"ante ese modelo de feminidad abnegada cuyo fin último es ser madre\"**  \n",
            "     Justificación: Esta frase refuerza el estereotipo de que la maternidad es el único propósito de las mujeres, sugiriendo que ser madre es una obligación y no una elección personal.\n",
            "\n",
            "   - **\"la lactancia materna permite la autonomía de la mujer, porque no necesita gastar dinero\"**  \n",
            "     Justificación: Esta afirmación puede implicar que las mujeres que no pueden amamantar o que eligen no hacerlo son menos autónomas, perpetuando la idea de que la maternidad y la crianza son la única vía hacia la libertad y la independencia.\n",
            "\n",
            "   - **\"dar el biberón per se no te hace más libre como mujer, ni es un mecanismo de igualdad\"**  \n",
            "     Justificación: Aunque la frase critica la idea de que el biberón es sinónimo de libertad, también puede implicar que las mujeres que optan por esta opción están eligiendo un camino menos feminista, lo que puede ser visto como un juicio sobre sus decisiones.\n",
            "\n",
            "2. Texto original anotado:\n",
            "\n",
            "   Dice Esther Vivas (Sabadell, 1975) que \"la literatura de la maternidad parte a menudo de la propia experiencia\". <span style=\"color: red; font-weight: bold;\">¿Quién iba, si no, a querer dedicar su tiempo a un asunto tan insignificante?</span> El caso de esta periodista, que se había dedicado previamente al estudio del sistema agroalimentario y de los movimientos sociales, no es, dice, una excepción. A partir de su embarazo y de las primeras búsquedas de información sobre cómo se podría desarrollar el parto, comenzó a preguntarse por qué no le habían hablado de todo aquello. Por qué todo el mundo aceptaba esa violencia obstétrica. Mamá desobediente (editado por Capitán Swing en castellano y en catalán por Ara Llibres, bajo el título Mama desobedient) es el resultado de aquella primera \"indignación\", pero no se limita a ella. En el ensayo, que lleva por subtítulo Una mirada feminista a la maternidad, Vivas se ocupa primero de los mitos existentes en torno a ella, para centrarse luego en dos aspectos concretos de esta experiencia que generan un debate encendido: primero, la atención al parto; después, la lactancia.\n",
            "\n",
            "Y no es casualidad que cuestiones aparentemente privadas sobre si una mujer le da el pecho o no a su hijo generen polémica. La autora no solo defiende que la maternidad es un asunto público, imbricado en la economía y la política, sino que la sitúa en el centro del feminismo de clase y el anticapitalismo. Si no se la ha considerado así, defiende en el libro, es porque existen intereses para ello.\n",
            "\n",
            "Pregunta. <span style=\"color: blue;\">¿Por qué ser madre y feminista supone ser desobediente?</span> <span style=\"color: blue;\">¿Desobediente con respecto al sistema neoliberal o con respecto a cierto feminismo?</span>\n",
            "\n",
            "Respuesta. <span style=\"color: blue;\">Ser madre implica desobedecer porque vivimos en un sistema que es hostil a la maternidad y a la crianza, y si eres feminista y de repente eres madre, esa maternidad te reafirma en tus valores feministas.</span> <span style=\"color: red; font-weight: bold;\">¿Qué sucede? Que en general el feminismo ha tenido una relación compleja con la maternidad, porque en la medida en que la maternidad ha sido utilizada por el patriarcado como un instrumento de control del cuerpo de las mujeres,</span> <span style=\"color: blue;\">cuando el feminismo se rebeló contra esta imposición, en los años sesenta o setenta, en la Segunda Ola, se creó un discurso antipaternal y antirreproductivo, y no se abordaron las contradicciones que implica la maternidad.</span> Por eso creo que desde el feminismo es necesario reivindicar la experiencia materna, no en clave romántica sino en clave de experiencia que tenemos que poder vivir como mujeres, al margen de las imposiciones y restricciones del sistema.\n",
            "\n",
            "P. <span style=\"color: blue;\">¿Pensar la maternidad desde el feminismo supone repensar la idea que tenemos de la incorporación de la mujer al mundo laboral?</span>\n",
            "\n",
            "R. Sí. En general, desde un cierto feminismo, a la hora de plantear la igualdad en el mercado de trabajo, se ha señalado la maternidad, el cuidado y la crianza como una carga. Desde este punto de vista, ante la maternidad patriarcal impuesta, <span style=\"color: red; font-weight: bold;\">ante ese modelo de feminidad abnegada cuyo fin último es ser madre,</span> se ha planteado que la alternativa era supeditar la crianza al mercado y al empleo. Es necesario cambiar la mirada, porque el problema no es la maternidad, sino el mercado, una sociedad que es hostil a unas prácticas que son fundamentales para la reproducción de la vida, como son gestar, parir, dar de mamar y cuidar.\n",
            "\n",
            "P. <span style=\"color: blue;\">¿Cómo afecta esto a la manera en que el movimiento feminista se ha planteado la narrativa en torno a la igualdad en el trabajo?</span>\n",
            "\n",
            "R. Aquí también hemos vistos distintos discursos y estrategias. Por un lado hay un cierto feminismo liberal que básicamente reivindica la igualdad para un sector de mujeres de clase media blanca. En Estados Unidos vemos en el partido demócrata y que aquí vemos a medio camino entre el PSOE y Ciudadanos. Por eso creo que hay que reivindicar el feminismo del 99%, el que reclama la igualdad del conjunto de las mujeres y que señala que las desigualdades de género vienen también de la desigualdades de clase y de etnia, y que por eso es necesario acabar con las desigualdades socioeconómicas para conseguir una igualdad de género real.\n",
            "\n",
            "P. <span style=\"color: blue;\">Por lo heredado de la Segunda Ola, existe esta idea de que liberarse de la maternidad obligatoria ha sido algo emancipatorio, y que por tanto poner la maternidad en el centro del feminismo sería negar esa conquista. ¿Cómo se resuelve este conflicto?</span>\n",
            "\n",
            "R. Lo que es necesario no es acabar con la experiencia de la maternidad, sino con lo que la activista feminista Adrienne Rich, ya en los años setenta, llamaba “la institución de la maternidad”. Es fundamental que la nueva oleada feminista incorpore la reivindicación de poder vivir la experiencia materna libre de imposiciones. La cuestión no es negar la maternidad sino reivindicarla. Esto no implica dar la razón a posturas reaccionarias en relación a la maternidad, sino reivindicar la maternidad en clave emancipadora. <span style=\"color: blue;\">Yo como mujer tengo derecho a decidir cómo quiero vivir mi embarazo, mi parto y mi lactancia: esto es feminismo, como también es feminismo decidir si quiero tener un hijo o no, si quiero abortar o no.</span> Reivindicar una maternidad feminista va de la mano con reivindicar el pleno control sobre nuestro cuerpo como mujeres.\n",
            "\n",
            "P. <span style=\"color: blue;\">Le dedica parte del libro al debate sobre las bajas de maternidad y paternidad, y señala que las nuevas bajas intransferibles quieren reforzar la igualdad entre hombres y mujeres pero en realidad ignora la experiencia de la maternidad. ¿Qué posición cree que ha faltado en el debate?</span>\n",
            "\n",
            "R. Se han obviado en gran medida las demandas de un sector del feminismo que reivindica una ampliación de los permisos de maternidad, porque en la actualidad el permiso de maternidad ni siquiera permite una lactancia materna en exclusiva hasta los seis meses, como recomiendan todas las instancias de salud. Y también es un debate que ha menospreciado el sentir de muchas madres. Hay varios estudios que señalan que cuando una mujer tiene un hijo, quiere estar con la criatura, y en cambio estos permisos iguales e intransferibles que se reivindican siguen estigmatizando la experiencia materna y la consideran una carga. <span style=\"color: blue;\">Con esto no quiero decir que la maternidad sea tan solo una maternidad de las mujeres, es una responsabilidad de madres, de padres, de la sociedad en general, y que hay que darle el valor social, político y económico que realmente tiene.</span>\n",
            "\n",
            "Por otro lado, es positivo plantear una ampliación del permiso de paternidad, pero hay que tener en cuenta que si este finalmente se amplía hasta las ocho semanas el año que viene, en tan solo tres años el permiso de paternidad habrá aumentado un 300%, pasando de una semana en 2015 a ocho semana en el 2019. <span style=\"color: red; font-weight: bold;\">Cuando el permiso de maternidad en treinta años, desde el 89, no se ha movido una coma, y es extremadamente corto.</span> No se puede ampliar el permiso de paternidad sin reivindicar un aumento del de maternidad. Esto se dice que se hace en nombre de la igualdad, pero creo que no podemos atribuir la desigualdad en el mercado de trabajo solo a la experiencia materna, porque van mucho más allá.\n",
            "\n",
            "P. <span style=\"color: blue;\">¿En qué medida cree que estas bajas iguales e intransferibles contribuyen a estigmatizar la experiencia de la maternidad?</span>\n",
            "\n",
            "R. Porque son unos permisos en los cuales básicamente se antepone el mercado y el empleo a la crianza. Porque si se considera, en relación al permiso de maternidad, que 16 semanas son suficientes para acompañar a la criatura después de nacer, son permisos que no tienen en cuenta esas necesidades de un bebé, que necesita estar con sus progenitores el máximo tiempo posible tras nacer, y que la fuente de alimento más beneficiosa es la leche materna.\n",
            "\n",
            "Este es un elemento del que no se acostumbra a hablar, pero que es una medida profundamente clasista. De los permisos actuales solo se benefician los progenitores que trabajan o han trabajado y cotizan, por lo que los sectores con menores recursos económicos no tienen acceso a ningún tipo de ayuda por maternidad o paternidad. Y en segundo lugar estos permisos iguales e intransferibles hacen que si tú como madre quieres estar más tiempo con tu criatura, quieres darle de mamar hasta los seis meses, <span style=\"color: red; font-weight: bold;\">solo aquellas mujeres con determinadas capacidades adquisitivas podrán hacerlo, porque solo ellas podrán tomarse una excedencia por su cuenta.</span> Es una idea clasista que convierte la crianza en un privilegio.\n",
            "\n",
            "P. <span style=\"color: blue;\">¿Qué modelo, de los expuestos en el libro, considera más conveniente?</span>\n",
            "\n",
            "R. Se tendrían que ampliar ambos permisos con un periodo de tiempo muy superior al actual, como de hecho hacen muchos países nórdicos, que dan un peso central a lo que es la ayuda a la maternidad y la crianza. Porque aquí cada año con los informes de la caída de la natalidad nos escandalizamos, pero no se hace absolutamente nada para revertirla. Apostaría por un modelo como los nórdicos, donde las bajas son más amplias que las que tenemos en el Estado español, y que pueden ser compartidas y una parte de ellas transferibles.\n",
            "\n",
            "P. <span style=\"color: blue;\">¿Por qué la lactancia tiene tanto espacio en el debate sobre la maternidad? Se discute desde sobre cómo y dónde se produce hasta qué forma es más conveniente.</span>\n",
            "\n",
            "R. El parto y la lactancia son dos partes esenciales en la crianza. Quería profundizar en el debate sobre la lactancia materna porque también en los feminismos hay un cierto debate sobre si se impone la teta o el biberón. Y me parecía interesante señalar e investigar cómo, a pesar de que cada vez se ha recuperado la lactancia materna —algo que es positivo, porque en los años setenta prácticamente desapareció—, aún el contexto social es adverso, contrariamente a lo que puede parecer en un primer momento.\n",
            "\n",
            "P. <span style=\"color: blue;\">En esa época se configura un discurso que asegura que el biberón da más libertad a las madres, y que además también facilita la incorporación al trabajo. ¿Cómo nos relacionamos hoy con estas dos ideas?</span>\n",
            "\n",
            "R. Cuando yo reflexiono con una mirada crítica acerca de la lactancia artificial lo hago desde el punto de vista de los intereses económicos que hay detrás el negocio del biberón, no sobre lo que hace cada madre, porque por desgracia hacemos lo que buenamente podemos en nuestras circunstancias. Dicho esto, cuando se generalizó la lactancia artificial en los años setenta u ochenta, hay unos intereses empresariales claros. La generalización de la lactancia artificial supuso un negocio ingente para las empresas de la industria láctea y alimentaria, como Nestlé o Danone, de ahí que se promocionara como se hizo. Y lo que se hizo fue incidir en el personal sanitario para que este fuera proclive a promocionar la lactancia artificial en detrimento de la lactancia materna.\n",
            "\n",
            "Por otro lado, uno de los elementos que ha incomodado más al feminismo con respecto a la lactancia es el carácter biológico de la práctica, que es biosocial, hay un elemento cultural y otro biológico. Yo creo que desde el feminismo se trata de reconocer tanto el carácter biológico como cultural de la maternidad y de la lactancia, pero precisamente por esto, fruto de esta incomodidad, muchas veces se ha considerado que la maternidad era una práctica que encerraba a las madres en el hogar, que las alejaba del mercado de trabajo, y es necesario cambiar la mirada. Porque dar de mamar es una práctica profundamente feminista, e incluso diría que antineoliberal y anticapitalista. En la medida en que dar la teta no es solo lo mejor para la criatura (y hay determinadas circunstancias en las que dar el biberón es lo mejor), también es extremadamente beneficiosa para la mamá y en particular después del parto, por lo que implica de recuperación, de vínculo con la criatura. A la vez, la lactancia materna permite la autonomía de la mujer, porque no necesita gastar dinero, sabe lo que le da de comer, es kilómetro cero… Y si decía que dar la teta es antineoliberal es porque es una práctica que no beneficia al mercado, que necesita de unos tiempos y de un espacio que son contrarios a la lógica mercantil y productivista, y no tiene un impacto negativo en el medio ambiente.\n",
            "\n",
            "P. <span style=\"color: blue;\">Las madres que optan por dar el pecho también suelen hablar de que esto supone una desigualdad insalvable con el padre en la tarea de cuidados.</span>\n",
            "\n",
            "R. <span style=\"color: red; font-weight: bold;\">Dar el biberón per se no te hace más libre como mujer, ni es un mecanismo de igualdad.</span> Basta con ver a las madres que dan el biberón y crían en soledad. Tampoco la teta per se te hace más libre. El carácter biológico de la lactancia es innegable, pero esto no implica que el padre no pueda implicarse en muchas otras tareas. Los bebés no solo se despiertan por la noche porque quieren mamar, sino por muchas otras circunstancias. Criar en igualdad no tiene tanto que ver con cómo alimentamos a la criatura nada más nacer, sino con muchos otros elementos vinculados a la relación de pareja y con un entorno social que es hostil a la maternidad y a la crianza.\n",
            "\n",
            "P. <span style=\"color: blue;\">La tercera pata del libro aborda la violencia obstétrica, y habla de una evolución progresiva en los hospitales. ¿Cuál es el panorama general ahora mismo?</span>\n",
            "\n",
            "R. Ha habido una serie de cambios muy significativos en relación a la atención al parto en el sistema hospitalario, que se han producido gracias y en parte a organizaciones de mujeres que han reivindicado un parto respetado. Sin <span style=\"color: blue;\">El parto es nuestro</span> no se entenderían los cambios en la atención sanitaria. Pero aún así, en la medida en que muchas de estas modificaciones que se han hecho a nivel gubernamental son de cumplimiento voluntario, aún existen muchas malas prácticas del personal sanitario, debido a que hay una serie de mitos y prejuicios en relación al nacimiento que acaban justificando estas prácticas. Y de hecho solo es necesario ver los porcentajes de cesáreas, de episiotomías, de partos instrumentales que se llevan a cabo, que son muy superiores de los que la Organización Mundial de la Salud considera razonables. Esto tiene un impacto físico y psíquico en las mujeres, y también en las criaturas.\n",
            "\n",
            "P. <span style=\"color: blue;\">Llama particularmente la atención las cifras de episiotomía, que indican que se dan en España en el 43% de los partos frente al tope del 15% que recomienda la OMS. ¿Hay una carga cultural en esto?</span>\n",
            "\n",
            "R. Más que una carga cultural hay unas prácticas médicas que consideran que en la medida en que el parto es una enfermedad, la atención al parto se aborda desde este punto de vista y esto dificulta que el proceso del parto se dé de manera natural. Estas prácticas facilitan el trabajo médico, pero tienen consecuencias negativas. En el caso de la episiotomía, particularmente, por lo que implica de problemas de micción, en las relaciones sexuales, etcétera. Hoy, cuatro de cada 10 mujeres que dan a luz sufren una episiotomía: hemos mejorado, porque en el año 95 eran 9 de cada 10. En los países nórdicos es 1 de cada 10. No creo que el periné de las mujeres españolas sea distinto al periné de las mujeres suecas. Si esto se produce es porque hay detrás unas prácticas médicas que consideran que esto es correcto. Hay que cambiar la formación médica para darle una perspectiva feminista y de género.\n",
            "\n",
            "P. <span style=\"color: blue;\">En el libro se pregunta dónde están las comadronas, y también se plantea el problema de la formación. ¿Cómo se relacionan estos dos aspectos, qué se aprende en las universidades y quienes llegan a atender el parto?</span>\n",
            "\n",
            "R. Decíamos que hay una visión por parte del personal sanitario patológica, que se ve como una enfermedad, y esta visión es compartida por la sociedad. Y en la medida en que la sociedad no reconoce el parto como un proceso fisiológico, es difícil conseguir que haya un parto respetado. <span style=\"color: red; font-weight: bold;\">Yo digo que la violencia obstétrica es la última frontera de la violencia de género porque es una violencia aceptada, por los profesionales, por las mujeres afectadas y por sus allegados.</span> Se considera que el parto es eso. Y por eso pensamos siempre que el personal mejor preparado para atender al parto es un ginecólogo, cuando en los partos de bajo riesgo es la comadrona. Hay que reivindicar la figura de la comadrona en la atención al parto y su plena autonomía como profesionales de la salud.\n",
            "\n",
            "P. <span style=\"color: blue;\">¿comadronas y madres son aliadas?</span>\n",
            "\n",
            "R. Sí, por supuesto. Lo que señalan muchos estudios es que en la medida en que el parto es llevada por comadronas, el grado de satisfacción de las mujeres que dan a luz es superior. El problema es que hay una profunda relación jerárquica en el sistema hospitalario que tienes a menospreciarlas. A la vez hay una falta también de este personal en los hospitales, que va en detrimento de la calidad de la atención al parto. Que haya más comadronas revierte positivamente en la salud de las mujeres.\n",
            "\n",
            "El 85% de excedencias para el cuidado de hijos tramitadas hasta marzo de 2021 fueron solicitadas por las madres\n",
            "\n",
            "P. <span style=\"color: blue;\">¿Cuál considera que debe ser el lugar desde el que se reclamen estas reivindicaciones alrededor de la maternidad?</span>\n",
            "\n",
            "R. Por un lado, es necesario que el feminismo reivindique la maternidad y la experiencia materna al margen de las imposiciones del sistema. Creo que esta nueva ola feminista, este feminismo del 99%, incorpore la maternidad a sus demandas y que se normalice la relación entre feminismos y maternidad. No como algo idílico o romántico, sino como experiencia y dándole el valor sociopolítico y económico que tiene. Luego están los grupos de crianza, los grupos de apoyo a la lactancia materna, creo que es importante que se sumen a esta oleada feminista en auge y que apuesten por una maternidad transformadora a la hora de llevar a cabo sus reivindicaciones. Porque la maternidad no es una cuestión individual, es una cuestión política. Porque si queremos vivir una maternidad digna lo que tenemos que hacer es cambiar el entorno socioeconómico. Y este cambio radical del sistema solo puede hacerse con el apoyo de otros movimientos sociales.\u001b[00m\n",
            "\n",
            "\n"
          ]
        },
        {
          "data": {
            "text/html": [
              "<pre style=\"white-space:pre;overflow-x:auto;line-height:normal;font-family:Menlo,'DejaVu Sans Mono',consolas,'Courier New',monospace\"><span style=\"color: #008080; text-decoration-color: #008080; font-weight: bold\">🚀 Crew: crew</span>\n",
              "└── <span style=\"color: #808000; text-decoration-color: #808000; font-weight: bold\">📋 Task: 4933d26a-b148-4454-8a19-71080930986b</span>\n",
              "    <span style=\"color: #c0c0c0; text-decoration-color: #c0c0c0\">   Status: </span><span style=\"color: #bfbf7f; text-decoration-color: #bfbf7f\">Executing Task...</span>\n",
              "    └── <span style=\"color: #008000; text-decoration-color: #008000; font-weight: bold\">🤖 Agent: </span><span style=\"color: #008000; text-decoration-color: #008000\">Analista (jueza, mujer, progresista)</span>\n",
              "        <span style=\"color: #c0c0c0; text-decoration-color: #c0c0c0\">    Status: </span><span style=\"color: #008000; text-decoration-color: #008000; font-weight: bold\">✅ Completed</span>\n",
              "</pre>\n"
            ],
            "text/plain": [
              "\u001b[1;36m🚀 Crew: \u001b[0m\u001b[1;36mcrew\u001b[0m\n",
              "└── \u001b[1;33m📋 Task: 4933d26a-b148-4454-8a19-71080930986b\u001b[0m\n",
              "    \u001b[37m   Status: \u001b[0m\u001b[2;33mExecuting Task...\u001b[0m\n",
              "    └── \u001b[1;32m🤖 Agent: \u001b[0m\u001b[32mAnalista (jueza, mujer, progresista)\u001b[0m\n",
              "        \u001b[37m    Status: \u001b[0m\u001b[1;32m✅ Completed\u001b[0m\n"
            ]
          },
          "metadata": {},
          "output_type": "display_data"
        },
        {
          "data": {
            "text/html": [
              "<pre style=\"white-space:pre;overflow-x:auto;line-height:normal;font-family:Menlo,'DejaVu Sans Mono',consolas,'Courier New',monospace\">\n",
              "</pre>\n"
            ],
            "text/plain": [
              "\n"
            ]
          },
          "metadata": {},
          "output_type": "display_data"
        },
        {
          "data": {
            "text/html": [
              "<pre style=\"white-space:pre;overflow-x:auto;line-height:normal;font-family:Menlo,'DejaVu Sans Mono',consolas,'Courier New',monospace\"><span style=\"color: #008080; text-decoration-color: #008080; font-weight: bold\">🚀 Crew: crew</span>\n",
              "└── <span style=\"color: #008000; text-decoration-color: #008000; font-weight: bold\">📋 Task: 4933d26a-b148-4454-8a19-71080930986b</span>\n",
              "    <span style=\"color: #c0c0c0; text-decoration-color: #c0c0c0\">   Assigned to: </span><span style=\"color: #008000; text-decoration-color: #008000\">Analista (jueza, mujer, progresista)</span>\n",
              "    <span style=\"color: #c0c0c0; text-decoration-color: #c0c0c0\">   Status: </span><span style=\"color: #008000; text-decoration-color: #008000; font-weight: bold\">✅ Completed</span>\n",
              "    └── <span style=\"color: #008000; text-decoration-color: #008000; font-weight: bold\">🤖 Agent: </span><span style=\"color: #008000; text-decoration-color: #008000\">Analista (jueza, mujer, progresista)</span>\n",
              "        <span style=\"color: #c0c0c0; text-decoration-color: #c0c0c0\">    Status: </span><span style=\"color: #008000; text-decoration-color: #008000; font-weight: bold\">✅ Completed</span>\n",
              "</pre>\n"
            ],
            "text/plain": [
              "\u001b[1;36m🚀 Crew: \u001b[0m\u001b[1;36mcrew\u001b[0m\n",
              "└── \u001b[1;32m📋 Task: 4933d26a-b148-4454-8a19-71080930986b\u001b[0m\n",
              "    \u001b[37m   Assigned to: \u001b[0m\u001b[32mAnalista (jueza, mujer, progresista)\u001b[0m\n",
              "    \u001b[37m   Status: \u001b[0m\u001b[1;32m✅ Completed\u001b[0m\n",
              "    └── \u001b[1;32m🤖 Agent: \u001b[0m\u001b[32mAnalista (jueza, mujer, progresista)\u001b[0m\n",
              "        \u001b[37m    Status: \u001b[0m\u001b[1;32m✅ Completed\u001b[0m\n"
            ]
          },
          "metadata": {},
          "output_type": "display_data"
        },
        {
          "data": {
            "text/html": [
              "<pre style=\"white-space:pre;overflow-x:auto;line-height:normal;font-family:Menlo,'DejaVu Sans Mono',consolas,'Courier New',monospace\"><span style=\"color: #008000; text-decoration-color: #008000\">╭──────────────────────────────────────────────── Task Completion ────────────────────────────────────────────────╮</span>\n",
              "<span style=\"color: #008000; text-decoration-color: #008000\">│</span>                                                                                                                 <span style=\"color: #008000; text-decoration-color: #008000\">│</span>\n",
              "<span style=\"color: #008000; text-decoration-color: #008000\">│</span>  <span style=\"color: #008000; text-decoration-color: #008000; font-weight: bold\">Task Completed</span>                                                                                                 <span style=\"color: #008000; text-decoration-color: #008000\">│</span>\n",
              "<span style=\"color: #008000; text-decoration-color: #008000\">│</span>  <span style=\"color: #c0c0c0; text-decoration-color: #c0c0c0\">Name: </span><span style=\"color: #008000; text-decoration-color: #008000\">4933d26a-b148-4454-8a19-71080930986b</span>                                                                     <span style=\"color: #008000; text-decoration-color: #008000\">│</span>\n",
              "<span style=\"color: #008000; text-decoration-color: #008000\">│</span>  <span style=\"color: #c0c0c0; text-decoration-color: #c0c0c0\">Agent: </span><span style=\"color: #008000; text-decoration-color: #008000\">Analista (jueza, mujer, progresista)</span>                                                                    <span style=\"color: #008000; text-decoration-color: #008000\">│</span>\n",
              "<span style=\"color: #008000; text-decoration-color: #008000\">│</span>                                                                                                                 <span style=\"color: #008000; text-decoration-color: #008000\">│</span>\n",
              "<span style=\"color: #008000; text-decoration-color: #008000\">│</span>                                                                                                                 <span style=\"color: #008000; text-decoration-color: #008000\">│</span>\n",
              "<span style=\"color: #008000; text-decoration-color: #008000\">╰─────────────────────────────────────────────────────────────────────────────────────────────────────────────────╯</span>\n",
              "</pre>\n"
            ],
            "text/plain": [
              "\u001b[32m╭─\u001b[0m\u001b[32m───────────────────────────────────────────────\u001b[0m\u001b[32m Task Completion \u001b[0m\u001b[32m───────────────────────────────────────────────\u001b[0m\u001b[32m─╮\u001b[0m\n",
              "\u001b[32m│\u001b[0m                                                                                                                 \u001b[32m│\u001b[0m\n",
              "\u001b[32m│\u001b[0m  \u001b[1;32mTask Completed\u001b[0m                                                                                                 \u001b[32m│\u001b[0m\n",
              "\u001b[32m│\u001b[0m  \u001b[37mName: \u001b[0m\u001b[32m4933d26a-b148-4454-8a19-71080930986b\u001b[0m                                                                     \u001b[32m│\u001b[0m\n",
              "\u001b[32m│\u001b[0m  \u001b[37mAgent: \u001b[0m\u001b[32mAnalista (jueza, mujer, progresista)\u001b[0m                                                                    \u001b[32m│\u001b[0m\n",
              "\u001b[32m│\u001b[0m                                                                                                                 \u001b[32m│\u001b[0m\n",
              "\u001b[32m│\u001b[0m                                                                                                                 \u001b[32m│\u001b[0m\n",
              "\u001b[32m╰─────────────────────────────────────────────────────────────────────────────────────────────────────────────────╯\u001b[0m\n"
            ]
          },
          "metadata": {},
          "output_type": "display_data"
        },
        {
          "data": {
            "text/html": [
              "<pre style=\"white-space:pre;overflow-x:auto;line-height:normal;font-family:Menlo,'DejaVu Sans Mono',consolas,'Courier New',monospace\">\n",
              "</pre>\n"
            ],
            "text/plain": [
              "\n"
            ]
          },
          "metadata": {},
          "output_type": "display_data"
        },
        {
          "data": {
            "text/html": [
              "<pre style=\"white-space:pre;overflow-x:auto;line-height:normal;font-family:Menlo,'DejaVu Sans Mono',consolas,'Courier New',monospace\"><span style=\"color: #008080; text-decoration-color: #008080; font-weight: bold\">🚀 Crew: crew</span>\n",
              "├── <span style=\"color: #008000; text-decoration-color: #008000; font-weight: bold\">📋 Task: 4933d26a-b148-4454-8a19-71080930986b</span>\n",
              "│   <span style=\"color: #c0c0c0; text-decoration-color: #c0c0c0\">   Assigned to: </span><span style=\"color: #008000; text-decoration-color: #008000\">Analista (jueza, mujer, progresista)</span>\n",
              "│   <span style=\"color: #c0c0c0; text-decoration-color: #c0c0c0\">   Status: </span><span style=\"color: #008000; text-decoration-color: #008000; font-weight: bold\">✅ Completed</span>\n",
              "│   └── <span style=\"color: #008000; text-decoration-color: #008000; font-weight: bold\">🤖 Agent: </span><span style=\"color: #008000; text-decoration-color: #008000\">Analista (jueza, mujer, progresista)</span>\n",
              "│       <span style=\"color: #c0c0c0; text-decoration-color: #c0c0c0\">    Status: </span><span style=\"color: #008000; text-decoration-color: #008000; font-weight: bold\">✅ Completed</span>\n",
              "└── <span style=\"color: #808000; text-decoration-color: #808000; font-weight: bold\">📋 Task: 108e91af-a8b0-42d7-a053-260c97c0254c</span>\n",
              "    <span style=\"color: #c0c0c0; text-decoration-color: #c0c0c0\">   Status: </span><span style=\"color: #bfbf7f; text-decoration-color: #bfbf7f\">Executing Task...</span>\n",
              "</pre>\n"
            ],
            "text/plain": [
              "\u001b[1;36m🚀 Crew: \u001b[0m\u001b[1;36mcrew\u001b[0m\n",
              "├── \u001b[1;32m📋 Task: 4933d26a-b148-4454-8a19-71080930986b\u001b[0m\n",
              "│   \u001b[37m   Assigned to: \u001b[0m\u001b[32mAnalista (jueza, mujer, progresista)\u001b[0m\n",
              "│   \u001b[37m   Status: \u001b[0m\u001b[1;32m✅ Completed\u001b[0m\n",
              "│   └── \u001b[1;32m🤖 Agent: \u001b[0m\u001b[32mAnalista (jueza, mujer, progresista)\u001b[0m\n",
              "│       \u001b[37m    Status: \u001b[0m\u001b[1;32m✅ Completed\u001b[0m\n",
              "└── \u001b[1;33m📋 Task: 108e91af-a8b0-42d7-a053-260c97c0254c\u001b[0m\n",
              "    \u001b[37m   Status: \u001b[0m\u001b[2;33mExecuting Task...\u001b[0m\n"
            ]
          },
          "metadata": {},
          "output_type": "display_data"
        },
        {
          "data": {
            "text/html": [
              "<pre style=\"white-space:pre;overflow-x:auto;line-height:normal;font-family:Menlo,'DejaVu Sans Mono',consolas,'Courier New',monospace\">\n",
              "</pre>\n"
            ],
            "text/plain": [
              "\n"
            ]
          },
          "metadata": {},
          "output_type": "display_data"
        },
        {
          "data": {
            "text/html": [
              "<pre style=\"white-space:pre;overflow-x:auto;line-height:normal;font-family:Menlo,'DejaVu Sans Mono',consolas,'Courier New',monospace\"><span style=\"color: #008080; text-decoration-color: #008080; font-weight: bold\">🚀 Crew: crew</span>\n",
              "├── <span style=\"color: #008000; text-decoration-color: #008000; font-weight: bold\">📋 Task: 4933d26a-b148-4454-8a19-71080930986b</span>\n",
              "│   <span style=\"color: #c0c0c0; text-decoration-color: #c0c0c0\">   Assigned to: </span><span style=\"color: #008000; text-decoration-color: #008000\">Analista (jueza, mujer, progresista)</span>\n",
              "│   <span style=\"color: #c0c0c0; text-decoration-color: #c0c0c0\">   Status: </span><span style=\"color: #008000; text-decoration-color: #008000; font-weight: bold\">✅ Completed</span>\n",
              "│   └── <span style=\"color: #008000; text-decoration-color: #008000; font-weight: bold\">🤖 Agent: </span><span style=\"color: #008000; text-decoration-color: #008000\">Analista (jueza, mujer, progresista)</span>\n",
              "│       <span style=\"color: #c0c0c0; text-decoration-color: #c0c0c0\">    Status: </span><span style=\"color: #008000; text-decoration-color: #008000; font-weight: bold\">✅ Completed</span>\n",
              "└── <span style=\"color: #808000; text-decoration-color: #808000; font-weight: bold\">📋 Task: 108e91af-a8b0-42d7-a053-260c97c0254c</span>\n",
              "    <span style=\"color: #c0c0c0; text-decoration-color: #c0c0c0\">   Status: </span><span style=\"color: #bfbf7f; text-decoration-color: #bfbf7f\">Executing Task...</span>\n",
              "    └── <span style=\"color: #008000; text-decoration-color: #008000; font-weight: bold\">🤖 Agent: </span><span style=\"color: #008000; text-decoration-color: #008000\">Critico (jueza, mujer, progresista)</span>\n",
              "        <span style=\"color: #c0c0c0; text-decoration-color: #c0c0c0\">    Status: </span><span style=\"color: #008000; text-decoration-color: #008000; font-weight: bold\">In Progress</span>\n",
              "</pre>\n"
            ],
            "text/plain": [
              "\u001b[1;36m🚀 Crew: \u001b[0m\u001b[1;36mcrew\u001b[0m\n",
              "├── \u001b[1;32m📋 Task: 4933d26a-b148-4454-8a19-71080930986b\u001b[0m\n",
              "│   \u001b[37m   Assigned to: \u001b[0m\u001b[32mAnalista (jueza, mujer, progresista)\u001b[0m\n",
              "│   \u001b[37m   Status: \u001b[0m\u001b[1;32m✅ Completed\u001b[0m\n",
              "│   └── \u001b[1;32m🤖 Agent: \u001b[0m\u001b[32mAnalista (jueza, mujer, progresista)\u001b[0m\n",
              "│       \u001b[37m    Status: \u001b[0m\u001b[1;32m✅ Completed\u001b[0m\n",
              "└── \u001b[1;33m📋 Task: 108e91af-a8b0-42d7-a053-260c97c0254c\u001b[0m\n",
              "    \u001b[37m   Status: \u001b[0m\u001b[2;33mExecuting Task...\u001b[0m\n",
              "    └── \u001b[1;32m🤖 Agent: \u001b[0m\u001b[32mCritico (jueza, mujer, progresista)\u001b[0m\n",
              "        \u001b[37m    Status: \u001b[0m\u001b[1;32mIn Progress\u001b[0m\n"
            ]
          },
          "metadata": {},
          "output_type": "display_data"
        },
        {
          "data": {
            "text/html": [
              "<pre style=\"white-space:pre;overflow-x:auto;line-height:normal;font-family:Menlo,'DejaVu Sans Mono',consolas,'Courier New',monospace\">\n",
              "</pre>\n"
            ],
            "text/plain": [
              "\n"
            ]
          },
          "metadata": {},
          "output_type": "display_data"
        },
        {
          "name": "stdout",
          "output_type": "stream",
          "text": [
            "\u001b[1m\u001b[95m# Agent:\u001b[00m \u001b[1m\u001b[92mCritico (jueza, mujer, progresista)\u001b[00m\n",
            "\u001b[95m## Task:\u001b[00m \u001b[92mExplica cómo los sesgos detectados afectan la percepción de la mujer en la sociedad.\u001b[00m\n"
          ]
        },
        {
          "data": {
            "text/html": [
              "<pre style=\"white-space:pre;overflow-x:auto;line-height:normal;font-family:Menlo,'DejaVu Sans Mono',consolas,'Courier New',monospace\"><span style=\"color: #008080; text-decoration-color: #008080; font-weight: bold\">🚀 Crew: crew</span>\n",
              "├── <span style=\"color: #008000; text-decoration-color: #008000; font-weight: bold\">📋 Task: 4933d26a-b148-4454-8a19-71080930986b</span>\n",
              "│   <span style=\"color: #c0c0c0; text-decoration-color: #c0c0c0\">   Assigned to: </span><span style=\"color: #008000; text-decoration-color: #008000\">Analista (jueza, mujer, progresista)</span>\n",
              "│   <span style=\"color: #c0c0c0; text-decoration-color: #c0c0c0\">   Status: </span><span style=\"color: #008000; text-decoration-color: #008000; font-weight: bold\">✅ Completed</span>\n",
              "│   └── <span style=\"color: #008000; text-decoration-color: #008000; font-weight: bold\">🤖 Agent: </span><span style=\"color: #008000; text-decoration-color: #008000\">Analista (jueza, mujer, progresista)</span>\n",
              "│       <span style=\"color: #c0c0c0; text-decoration-color: #c0c0c0\">    Status: </span><span style=\"color: #008000; text-decoration-color: #008000; font-weight: bold\">✅ Completed</span>\n",
              "└── <span style=\"color: #808000; text-decoration-color: #808000; font-weight: bold\">📋 Task: 108e91af-a8b0-42d7-a053-260c97c0254c</span>\n",
              "    <span style=\"color: #c0c0c0; text-decoration-color: #c0c0c0\">   Status: </span><span style=\"color: #bfbf7f; text-decoration-color: #bfbf7f\">Executing Task...</span>\n",
              "    └── <span style=\"color: #008000; text-decoration-color: #008000; font-weight: bold\">🤖 Agent: </span><span style=\"color: #008000; text-decoration-color: #008000\">Critico (jueza, mujer, progresista)</span>\n",
              "        <span style=\"color: #c0c0c0; text-decoration-color: #c0c0c0\">    Status: </span><span style=\"color: #008000; text-decoration-color: #008000; font-weight: bold\">In Progress</span>\n",
              "        └── <span style=\"color: #000080; text-decoration-color: #000080; font-weight: bold\">🧠 </span><span style=\"color: #000080; text-decoration-color: #000080\">Thinking...</span>\n",
              "</pre>\n"
            ],
            "text/plain": [
              "\u001b[1;36m🚀 Crew: \u001b[0m\u001b[1;36mcrew\u001b[0m\n",
              "├── \u001b[1;32m📋 Task: 4933d26a-b148-4454-8a19-71080930986b\u001b[0m\n",
              "│   \u001b[37m   Assigned to: \u001b[0m\u001b[32mAnalista (jueza, mujer, progresista)\u001b[0m\n",
              "│   \u001b[37m   Status: \u001b[0m\u001b[1;32m✅ Completed\u001b[0m\n",
              "│   └── \u001b[1;32m🤖 Agent: \u001b[0m\u001b[32mAnalista (jueza, mujer, progresista)\u001b[0m\n",
              "│       \u001b[37m    Status: \u001b[0m\u001b[1;32m✅ Completed\u001b[0m\n",
              "└── \u001b[1;33m📋 Task: 108e91af-a8b0-42d7-a053-260c97c0254c\u001b[0m\n",
              "    \u001b[37m   Status: \u001b[0m\u001b[2;33mExecuting Task...\u001b[0m\n",
              "    └── \u001b[1;32m🤖 Agent: \u001b[0m\u001b[32mCritico (jueza, mujer, progresista)\u001b[0m\n",
              "        \u001b[37m    Status: \u001b[0m\u001b[1;32mIn Progress\u001b[0m\n",
              "        └── \u001b[1;34m🧠 \u001b[0m\u001b[34mThinking...\u001b[0m\n"
            ]
          },
          "metadata": {},
          "output_type": "display_data"
        },
        {
          "data": {
            "text/html": [
              "<pre style=\"white-space:pre;overflow-x:auto;line-height:normal;font-family:Menlo,'DejaVu Sans Mono',consolas,'Courier New',monospace\">\n",
              "</pre>\n"
            ],
            "text/plain": [
              "\n"
            ]
          },
          "metadata": {},
          "output_type": "display_data"
        },
        {
          "data": {
            "text/html": [
              "<pre style=\"white-space:pre;overflow-x:auto;line-height:normal;font-family:Menlo,'DejaVu Sans Mono',consolas,'Courier New',monospace\"><span style=\"color: #008080; text-decoration-color: #008080; font-weight: bold\">🚀 Crew: crew</span>\n",
              "├── <span style=\"color: #008000; text-decoration-color: #008000; font-weight: bold\">📋 Task: 4933d26a-b148-4454-8a19-71080930986b</span>\n",
              "│   <span style=\"color: #c0c0c0; text-decoration-color: #c0c0c0\">   Assigned to: </span><span style=\"color: #008000; text-decoration-color: #008000\">Analista (jueza, mujer, progresista)</span>\n",
              "│   <span style=\"color: #c0c0c0; text-decoration-color: #c0c0c0\">   Status: </span><span style=\"color: #008000; text-decoration-color: #008000; font-weight: bold\">✅ Completed</span>\n",
              "│   └── <span style=\"color: #008000; text-decoration-color: #008000; font-weight: bold\">🤖 Agent: </span><span style=\"color: #008000; text-decoration-color: #008000\">Analista (jueza, mujer, progresista)</span>\n",
              "│       <span style=\"color: #c0c0c0; text-decoration-color: #c0c0c0\">    Status: </span><span style=\"color: #008000; text-decoration-color: #008000; font-weight: bold\">✅ Completed</span>\n",
              "└── <span style=\"color: #808000; text-decoration-color: #808000; font-weight: bold\">📋 Task: 108e91af-a8b0-42d7-a053-260c97c0254c</span>\n",
              "    <span style=\"color: #c0c0c0; text-decoration-color: #c0c0c0\">   Status: </span><span style=\"color: #bfbf7f; text-decoration-color: #bfbf7f\">Executing Task...</span>\n",
              "    └── <span style=\"color: #008000; text-decoration-color: #008000; font-weight: bold\">🤖 Agent: </span><span style=\"color: #008000; text-decoration-color: #008000\">Critico (jueza, mujer, progresista)</span>\n",
              "        <span style=\"color: #c0c0c0; text-decoration-color: #c0c0c0\">    Status: </span><span style=\"color: #008000; text-decoration-color: #008000; font-weight: bold\">In Progress</span>\n",
              "</pre>\n"
            ],
            "text/plain": [
              "\u001b[1;36m🚀 Crew: \u001b[0m\u001b[1;36mcrew\u001b[0m\n",
              "├── \u001b[1;32m📋 Task: 4933d26a-b148-4454-8a19-71080930986b\u001b[0m\n",
              "│   \u001b[37m   Assigned to: \u001b[0m\u001b[32mAnalista (jueza, mujer, progresista)\u001b[0m\n",
              "│   \u001b[37m   Status: \u001b[0m\u001b[1;32m✅ Completed\u001b[0m\n",
              "│   └── \u001b[1;32m🤖 Agent: \u001b[0m\u001b[32mAnalista (jueza, mujer, progresista)\u001b[0m\n",
              "│       \u001b[37m    Status: \u001b[0m\u001b[1;32m✅ Completed\u001b[0m\n",
              "└── \u001b[1;33m📋 Task: 108e91af-a8b0-42d7-a053-260c97c0254c\u001b[0m\n",
              "    \u001b[37m   Status: \u001b[0m\u001b[2;33mExecuting Task...\u001b[0m\n",
              "    └── \u001b[1;32m🤖 Agent: \u001b[0m\u001b[32mCritico (jueza, mujer, progresista)\u001b[0m\n",
              "        \u001b[37m    Status: \u001b[0m\u001b[1;32mIn Progress\u001b[0m\n"
            ]
          },
          "metadata": {},
          "output_type": "display_data"
        },
        {
          "data": {
            "text/html": [
              "<pre style=\"white-space:pre;overflow-x:auto;line-height:normal;font-family:Menlo,'DejaVu Sans Mono',consolas,'Courier New',monospace\">\n",
              "</pre>\n"
            ],
            "text/plain": [
              "\n"
            ]
          },
          "metadata": {},
          "output_type": "display_data"
        },
        {
          "name": "stdout",
          "output_type": "stream",
          "text": [
            "\n",
            "\n",
            "\u001b[1m\u001b[95m# Agent:\u001b[00m \u001b[1m\u001b[92mCritico (jueza, mujer, progresista)\u001b[00m\n",
            "\u001b[95m## Final Answer:\u001b[00m \u001b[92m\n",
            "Los sesgos de género han permeado profundamente en la percepción social de la maternidad y el rol de la mujer, afectando no solo cómo se ve a las mujeres en contextos profesionales, sino también cómo se valoran sus experiencias y decisiones personales. Frases como \"¿Quién iba, si no, a querer dedicar su tiempo a un asunto tan insignificante?\" subrayan un desprecio hacia la maternidad, sugiriendo que el cuidado de los hijos es trivial y que solo es relevante si se vive de manera personal. Este tipo de lenguaje refuerza la idea de que las mujeres que eligen ser madres están eligiendo un camino menos valioso en comparación con otras aspiraciones profesionales.\n",
            "\n",
            "Además, la afirmación de que \"la maternidad ha sido utilizada por el patriarcado como un instrumento de control del cuerpo de las mujeres\" aunque crítica, también perpetúa la noción de que las mujeres son meras víctimas de un sistema opresor, despojándolas de su agencia y capacidad para tomar decisiones sobre su maternidad. Este enfoque puede llevar a una visión negativa de la maternidad, donde se la considera una carga en lugar de una experiencia enriquecedora y empoderadora.\n",
            "\n",
            "El estereotipo de que \"ante ese modelo de feminidad abnegada cuyo fin último es ser madre\" implica que la maternidad es el único propósito de las mujeres, lo que limita su identidad a un rol específico y reduce su valor a su capacidad para procrear. Esto no solo afecta la autoestima de las mujeres, sino que también influye en cómo son percibidas en el ámbito laboral, donde a menudo se les considera menos comprometidas o competentes debido a sus responsabilidades familiares.\n",
            "\n",
            "La idea de que \"la lactancia materna permite la autonomía de la mujer\" puede ser problemática, ya que implica que aquellas que no pueden o eligen no amamantar son menos autónomas. Esto crea una jerarquía entre las madres que amamantan y las que no, perpetuando la idea de que la maternidad y la crianza son las únicas vías hacia la libertad y la independencia. Asimismo, el juicio implícito en \"dar el biberón per se no te hace más libre como mujer\" puede llevar a que las mujeres se sientan culpables por sus elecciones, lo que contribuye a un entorno de competencia y desconfianza entre ellas.\n",
            "\n",
            "La violencia obstétrica, mencionada como \"la última frontera de la violencia de género\", refleja cómo las prácticas médicas y sociales deshumanizan a las mujeres en el proceso de parto, tratándolas como meros vehículos para la procreación. Esto no solo tiene consecuencias físicas y emocionales para las mujeres, sino que también perpetúa la idea de que su bienestar es secundario a la eficiencia del sistema médico.\n",
            "\n",
            "Finalmente, es crucial que el feminismo contemporáneo reevalúe su relación con la maternidad, no como un obstáculo a la emancipación, sino como una experiencia que debe ser reivindicada y valorada. La maternidad debe ser vista como una cuestión política que requiere un cambio en el entorno socioeconómico, donde se reconozca su importancia y se apoye a las mujeres en sus decisiones. Solo así se podrá avanzar hacia una sociedad que valore verdaderamente el papel de las mujeres, no solo como madres, sino como individuos plenos con derechos y aspiraciones diversas. La lucha por la igualdad de género debe incluir la reivindicación de la maternidad como una experiencia digna y empoderadora, que no debe ser estigmatizada ni desvalorizada.\u001b[00m\n",
            "\n",
            "\n"
          ]
        },
        {
          "data": {
            "text/html": [
              "<pre style=\"white-space:pre;overflow-x:auto;line-height:normal;font-family:Menlo,'DejaVu Sans Mono',consolas,'Courier New',monospace\"><span style=\"color: #008080; text-decoration-color: #008080; font-weight: bold\">🚀 Crew: crew</span>\n",
              "├── <span style=\"color: #008000; text-decoration-color: #008000; font-weight: bold\">📋 Task: 4933d26a-b148-4454-8a19-71080930986b</span>\n",
              "│   <span style=\"color: #c0c0c0; text-decoration-color: #c0c0c0\">   Assigned to: </span><span style=\"color: #008000; text-decoration-color: #008000\">Analista (jueza, mujer, progresista)</span>\n",
              "│   <span style=\"color: #c0c0c0; text-decoration-color: #c0c0c0\">   Status: </span><span style=\"color: #008000; text-decoration-color: #008000; font-weight: bold\">✅ Completed</span>\n",
              "│   └── <span style=\"color: #008000; text-decoration-color: #008000; font-weight: bold\">🤖 Agent: </span><span style=\"color: #008000; text-decoration-color: #008000\">Analista (jueza, mujer, progresista)</span>\n",
              "│       <span style=\"color: #c0c0c0; text-decoration-color: #c0c0c0\">    Status: </span><span style=\"color: #008000; text-decoration-color: #008000; font-weight: bold\">✅ Completed</span>\n",
              "└── <span style=\"color: #808000; text-decoration-color: #808000; font-weight: bold\">📋 Task: 108e91af-a8b0-42d7-a053-260c97c0254c</span>\n",
              "    <span style=\"color: #c0c0c0; text-decoration-color: #c0c0c0\">   Status: </span><span style=\"color: #bfbf7f; text-decoration-color: #bfbf7f\">Executing Task...</span>\n",
              "    └── <span style=\"color: #008000; text-decoration-color: #008000; font-weight: bold\">🤖 Agent: </span><span style=\"color: #008000; text-decoration-color: #008000\">Critico (jueza, mujer, progresista)</span>\n",
              "        <span style=\"color: #c0c0c0; text-decoration-color: #c0c0c0\">    Status: </span><span style=\"color: #008000; text-decoration-color: #008000; font-weight: bold\">✅ Completed</span>\n",
              "</pre>\n"
            ],
            "text/plain": [
              "\u001b[1;36m🚀 Crew: \u001b[0m\u001b[1;36mcrew\u001b[0m\n",
              "├── \u001b[1;32m📋 Task: 4933d26a-b148-4454-8a19-71080930986b\u001b[0m\n",
              "│   \u001b[37m   Assigned to: \u001b[0m\u001b[32mAnalista (jueza, mujer, progresista)\u001b[0m\n",
              "│   \u001b[37m   Status: \u001b[0m\u001b[1;32m✅ Completed\u001b[0m\n",
              "│   └── \u001b[1;32m🤖 Agent: \u001b[0m\u001b[32mAnalista (jueza, mujer, progresista)\u001b[0m\n",
              "│       \u001b[37m    Status: \u001b[0m\u001b[1;32m✅ Completed\u001b[0m\n",
              "└── \u001b[1;33m📋 Task: 108e91af-a8b0-42d7-a053-260c97c0254c\u001b[0m\n",
              "    \u001b[37m   Status: \u001b[0m\u001b[2;33mExecuting Task...\u001b[0m\n",
              "    └── \u001b[1;32m🤖 Agent: \u001b[0m\u001b[32mCritico (jueza, mujer, progresista)\u001b[0m\n",
              "        \u001b[37m    Status: \u001b[0m\u001b[1;32m✅ Completed\u001b[0m\n"
            ]
          },
          "metadata": {},
          "output_type": "display_data"
        },
        {
          "data": {
            "text/html": [
              "<pre style=\"white-space:pre;overflow-x:auto;line-height:normal;font-family:Menlo,'DejaVu Sans Mono',consolas,'Courier New',monospace\">\n",
              "</pre>\n"
            ],
            "text/plain": [
              "\n"
            ]
          },
          "metadata": {},
          "output_type": "display_data"
        },
        {
          "data": {
            "text/html": [
              "<pre style=\"white-space:pre;overflow-x:auto;line-height:normal;font-family:Menlo,'DejaVu Sans Mono',consolas,'Courier New',monospace\"><span style=\"color: #008080; text-decoration-color: #008080; font-weight: bold\">🚀 Crew: crew</span>\n",
              "├── <span style=\"color: #008000; text-decoration-color: #008000; font-weight: bold\">📋 Task: 4933d26a-b148-4454-8a19-71080930986b</span>\n",
              "│   <span style=\"color: #c0c0c0; text-decoration-color: #c0c0c0\">   Assigned to: </span><span style=\"color: #008000; text-decoration-color: #008000\">Analista (jueza, mujer, progresista)</span>\n",
              "│   <span style=\"color: #c0c0c0; text-decoration-color: #c0c0c0\">   Status: </span><span style=\"color: #008000; text-decoration-color: #008000; font-weight: bold\">✅ Completed</span>\n",
              "│   └── <span style=\"color: #008000; text-decoration-color: #008000; font-weight: bold\">🤖 Agent: </span><span style=\"color: #008000; text-decoration-color: #008000\">Analista (jueza, mujer, progresista)</span>\n",
              "│       <span style=\"color: #c0c0c0; text-decoration-color: #c0c0c0\">    Status: </span><span style=\"color: #008000; text-decoration-color: #008000; font-weight: bold\">✅ Completed</span>\n",
              "└── <span style=\"color: #008000; text-decoration-color: #008000; font-weight: bold\">📋 Task: 108e91af-a8b0-42d7-a053-260c97c0254c</span>\n",
              "    <span style=\"color: #c0c0c0; text-decoration-color: #c0c0c0\">   Assigned to: </span><span style=\"color: #008000; text-decoration-color: #008000\">Critico (jueza, mujer, progresista)</span>\n",
              "    <span style=\"color: #c0c0c0; text-decoration-color: #c0c0c0\">   Status: </span><span style=\"color: #008000; text-decoration-color: #008000; font-weight: bold\">✅ Completed</span>\n",
              "    └── <span style=\"color: #008000; text-decoration-color: #008000; font-weight: bold\">🤖 Agent: </span><span style=\"color: #008000; text-decoration-color: #008000\">Critico (jueza, mujer, progresista)</span>\n",
              "        <span style=\"color: #c0c0c0; text-decoration-color: #c0c0c0\">    Status: </span><span style=\"color: #008000; text-decoration-color: #008000; font-weight: bold\">✅ Completed</span>\n",
              "</pre>\n"
            ],
            "text/plain": [
              "\u001b[1;36m🚀 Crew: \u001b[0m\u001b[1;36mcrew\u001b[0m\n",
              "├── \u001b[1;32m📋 Task: 4933d26a-b148-4454-8a19-71080930986b\u001b[0m\n",
              "│   \u001b[37m   Assigned to: \u001b[0m\u001b[32mAnalista (jueza, mujer, progresista)\u001b[0m\n",
              "│   \u001b[37m   Status: \u001b[0m\u001b[1;32m✅ Completed\u001b[0m\n",
              "│   └── \u001b[1;32m🤖 Agent: \u001b[0m\u001b[32mAnalista (jueza, mujer, progresista)\u001b[0m\n",
              "│       \u001b[37m    Status: \u001b[0m\u001b[1;32m✅ Completed\u001b[0m\n",
              "└── \u001b[1;32m📋 Task: 108e91af-a8b0-42d7-a053-260c97c0254c\u001b[0m\n",
              "    \u001b[37m   Assigned to: \u001b[0m\u001b[32mCritico (jueza, mujer, progresista)\u001b[0m\n",
              "    \u001b[37m   Status: \u001b[0m\u001b[1;32m✅ Completed\u001b[0m\n",
              "    └── \u001b[1;32m🤖 Agent: \u001b[0m\u001b[32mCritico (jueza, mujer, progresista)\u001b[0m\n",
              "        \u001b[37m    Status: \u001b[0m\u001b[1;32m✅ Completed\u001b[0m\n"
            ]
          },
          "metadata": {},
          "output_type": "display_data"
        },
        {
          "data": {
            "text/html": [
              "<pre style=\"white-space:pre;overflow-x:auto;line-height:normal;font-family:Menlo,'DejaVu Sans Mono',consolas,'Courier New',monospace\"><span style=\"color: #008000; text-decoration-color: #008000\">╭──────────────────────────────────────────────── Task Completion ────────────────────────────────────────────────╮</span>\n",
              "<span style=\"color: #008000; text-decoration-color: #008000\">│</span>                                                                                                                 <span style=\"color: #008000; text-decoration-color: #008000\">│</span>\n",
              "<span style=\"color: #008000; text-decoration-color: #008000\">│</span>  <span style=\"color: #008000; text-decoration-color: #008000; font-weight: bold\">Task Completed</span>                                                                                                 <span style=\"color: #008000; text-decoration-color: #008000\">│</span>\n",
              "<span style=\"color: #008000; text-decoration-color: #008000\">│</span>  <span style=\"color: #c0c0c0; text-decoration-color: #c0c0c0\">Name: </span><span style=\"color: #008000; text-decoration-color: #008000\">108e91af-a8b0-42d7-a053-260c97c0254c</span>                                                                     <span style=\"color: #008000; text-decoration-color: #008000\">│</span>\n",
              "<span style=\"color: #008000; text-decoration-color: #008000\">│</span>  <span style=\"color: #c0c0c0; text-decoration-color: #c0c0c0\">Agent: </span><span style=\"color: #008000; text-decoration-color: #008000\">Critico (jueza, mujer, progresista)</span>                                                                     <span style=\"color: #008000; text-decoration-color: #008000\">│</span>\n",
              "<span style=\"color: #008000; text-decoration-color: #008000\">│</span>                                                                                                                 <span style=\"color: #008000; text-decoration-color: #008000\">│</span>\n",
              "<span style=\"color: #008000; text-decoration-color: #008000\">│</span>                                                                                                                 <span style=\"color: #008000; text-decoration-color: #008000\">│</span>\n",
              "<span style=\"color: #008000; text-decoration-color: #008000\">╰─────────────────────────────────────────────────────────────────────────────────────────────────────────────────╯</span>\n",
              "</pre>\n"
            ],
            "text/plain": [
              "\u001b[32m╭─\u001b[0m\u001b[32m───────────────────────────────────────────────\u001b[0m\u001b[32m Task Completion \u001b[0m\u001b[32m───────────────────────────────────────────────\u001b[0m\u001b[32m─╮\u001b[0m\n",
              "\u001b[32m│\u001b[0m                                                                                                                 \u001b[32m│\u001b[0m\n",
              "\u001b[32m│\u001b[0m  \u001b[1;32mTask Completed\u001b[0m                                                                                                 \u001b[32m│\u001b[0m\n",
              "\u001b[32m│\u001b[0m  \u001b[37mName: \u001b[0m\u001b[32m108e91af-a8b0-42d7-a053-260c97c0254c\u001b[0m                                                                     \u001b[32m│\u001b[0m\n",
              "\u001b[32m│\u001b[0m  \u001b[37mAgent: \u001b[0m\u001b[32mCritico (jueza, mujer, progresista)\u001b[0m                                                                     \u001b[32m│\u001b[0m\n",
              "\u001b[32m│\u001b[0m                                                                                                                 \u001b[32m│\u001b[0m\n",
              "\u001b[32m│\u001b[0m                                                                                                                 \u001b[32m│\u001b[0m\n",
              "\u001b[32m╰─────────────────────────────────────────────────────────────────────────────────────────────────────────────────╯\u001b[0m\n"
            ]
          },
          "metadata": {},
          "output_type": "display_data"
        },
        {
          "data": {
            "text/html": [
              "<pre style=\"white-space:pre;overflow-x:auto;line-height:normal;font-family:Menlo,'DejaVu Sans Mono',consolas,'Courier New',monospace\">\n",
              "</pre>\n"
            ],
            "text/plain": [
              "\n"
            ]
          },
          "metadata": {},
          "output_type": "display_data"
        },
        {
          "data": {
            "text/html": [
              "<pre style=\"white-space:pre;overflow-x:auto;line-height:normal;font-family:Menlo,'DejaVu Sans Mono',consolas,'Courier New',monospace\"><span style=\"color: #008080; text-decoration-color: #008080; font-weight: bold\">🚀 Crew: crew</span>\n",
              "├── <span style=\"color: #008000; text-decoration-color: #008000; font-weight: bold\">📋 Task: 4933d26a-b148-4454-8a19-71080930986b</span>\n",
              "│   <span style=\"color: #c0c0c0; text-decoration-color: #c0c0c0\">   Assigned to: </span><span style=\"color: #008000; text-decoration-color: #008000\">Analista (jueza, mujer, progresista)</span>\n",
              "│   <span style=\"color: #c0c0c0; text-decoration-color: #c0c0c0\">   Status: </span><span style=\"color: #008000; text-decoration-color: #008000; font-weight: bold\">✅ Completed</span>\n",
              "│   └── <span style=\"color: #008000; text-decoration-color: #008000; font-weight: bold\">🤖 Agent: </span><span style=\"color: #008000; text-decoration-color: #008000\">Analista (jueza, mujer, progresista)</span>\n",
              "│       <span style=\"color: #c0c0c0; text-decoration-color: #c0c0c0\">    Status: </span><span style=\"color: #008000; text-decoration-color: #008000; font-weight: bold\">✅ Completed</span>\n",
              "├── <span style=\"color: #008000; text-decoration-color: #008000; font-weight: bold\">📋 Task: 108e91af-a8b0-42d7-a053-260c97c0254c</span>\n",
              "│   <span style=\"color: #c0c0c0; text-decoration-color: #c0c0c0\">   Assigned to: </span><span style=\"color: #008000; text-decoration-color: #008000\">Critico (jueza, mujer, progresista)</span>\n",
              "│   <span style=\"color: #c0c0c0; text-decoration-color: #c0c0c0\">   Status: </span><span style=\"color: #008000; text-decoration-color: #008000; font-weight: bold\">✅ Completed</span>\n",
              "│   └── <span style=\"color: #008000; text-decoration-color: #008000; font-weight: bold\">🤖 Agent: </span><span style=\"color: #008000; text-decoration-color: #008000\">Critico (jueza, mujer, progresista)</span>\n",
              "│       <span style=\"color: #c0c0c0; text-decoration-color: #c0c0c0\">    Status: </span><span style=\"color: #008000; text-decoration-color: #008000; font-weight: bold\">✅ Completed</span>\n",
              "└── <span style=\"color: #808000; text-decoration-color: #808000; font-weight: bold\">📋 Task: 95b072fa-624d-4826-a3c6-34037c69941a</span>\n",
              "    <span style=\"color: #c0c0c0; text-decoration-color: #c0c0c0\">   Status: </span><span style=\"color: #bfbf7f; text-decoration-color: #bfbf7f\">Executing Task...</span>\n",
              "</pre>\n"
            ],
            "text/plain": [
              "\u001b[1;36m🚀 Crew: \u001b[0m\u001b[1;36mcrew\u001b[0m\n",
              "├── \u001b[1;32m📋 Task: 4933d26a-b148-4454-8a19-71080930986b\u001b[0m\n",
              "│   \u001b[37m   Assigned to: \u001b[0m\u001b[32mAnalista (jueza, mujer, progresista)\u001b[0m\n",
              "│   \u001b[37m   Status: \u001b[0m\u001b[1;32m✅ Completed\u001b[0m\n",
              "│   └── \u001b[1;32m🤖 Agent: \u001b[0m\u001b[32mAnalista (jueza, mujer, progresista)\u001b[0m\n",
              "│       \u001b[37m    Status: \u001b[0m\u001b[1;32m✅ Completed\u001b[0m\n",
              "├── \u001b[1;32m📋 Task: 108e91af-a8b0-42d7-a053-260c97c0254c\u001b[0m\n",
              "│   \u001b[37m   Assigned to: \u001b[0m\u001b[32mCritico (jueza, mujer, progresista)\u001b[0m\n",
              "│   \u001b[37m   Status: \u001b[0m\u001b[1;32m✅ Completed\u001b[0m\n",
              "│   └── \u001b[1;32m🤖 Agent: \u001b[0m\u001b[32mCritico (jueza, mujer, progresista)\u001b[0m\n",
              "│       \u001b[37m    Status: \u001b[0m\u001b[1;32m✅ Completed\u001b[0m\n",
              "└── \u001b[1;33m📋 Task: 95b072fa-624d-4826-a3c6-34037c69941a\u001b[0m\n",
              "    \u001b[37m   Status: \u001b[0m\u001b[2;33mExecuting Task...\u001b[0m\n"
            ]
          },
          "metadata": {},
          "output_type": "display_data"
        },
        {
          "data": {
            "text/html": [
              "<pre style=\"white-space:pre;overflow-x:auto;line-height:normal;font-family:Menlo,'DejaVu Sans Mono',consolas,'Courier New',monospace\">\n",
              "</pre>\n"
            ],
            "text/plain": [
              "\n"
            ]
          },
          "metadata": {},
          "output_type": "display_data"
        },
        {
          "data": {
            "text/html": [
              "<pre style=\"white-space:pre;overflow-x:auto;line-height:normal;font-family:Menlo,'DejaVu Sans Mono',consolas,'Courier New',monospace\"><span style=\"color: #008080; text-decoration-color: #008080; font-weight: bold\">🚀 Crew: crew</span>\n",
              "├── <span style=\"color: #008000; text-decoration-color: #008000; font-weight: bold\">📋 Task: 4933d26a-b148-4454-8a19-71080930986b</span>\n",
              "│   <span style=\"color: #c0c0c0; text-decoration-color: #c0c0c0\">   Assigned to: </span><span style=\"color: #008000; text-decoration-color: #008000\">Analista (jueza, mujer, progresista)</span>\n",
              "│   <span style=\"color: #c0c0c0; text-decoration-color: #c0c0c0\">   Status: </span><span style=\"color: #008000; text-decoration-color: #008000; font-weight: bold\">✅ Completed</span>\n",
              "│   └── <span style=\"color: #008000; text-decoration-color: #008000; font-weight: bold\">🤖 Agent: </span><span style=\"color: #008000; text-decoration-color: #008000\">Analista (jueza, mujer, progresista)</span>\n",
              "│       <span style=\"color: #c0c0c0; text-decoration-color: #c0c0c0\">    Status: </span><span style=\"color: #008000; text-decoration-color: #008000; font-weight: bold\">✅ Completed</span>\n",
              "├── <span style=\"color: #008000; text-decoration-color: #008000; font-weight: bold\">📋 Task: 108e91af-a8b0-42d7-a053-260c97c0254c</span>\n",
              "│   <span style=\"color: #c0c0c0; text-decoration-color: #c0c0c0\">   Assigned to: </span><span style=\"color: #008000; text-decoration-color: #008000\">Critico (jueza, mujer, progresista)</span>\n",
              "│   <span style=\"color: #c0c0c0; text-decoration-color: #c0c0c0\">   Status: </span><span style=\"color: #008000; text-decoration-color: #008000; font-weight: bold\">✅ Completed</span>\n",
              "│   └── <span style=\"color: #008000; text-decoration-color: #008000; font-weight: bold\">🤖 Agent: </span><span style=\"color: #008000; text-decoration-color: #008000\">Critico (jueza, mujer, progresista)</span>\n",
              "│       <span style=\"color: #c0c0c0; text-decoration-color: #c0c0c0\">    Status: </span><span style=\"color: #008000; text-decoration-color: #008000; font-weight: bold\">✅ Completed</span>\n",
              "└── <span style=\"color: #808000; text-decoration-color: #808000; font-weight: bold\">📋 Task: 95b072fa-624d-4826-a3c6-34037c69941a</span>\n",
              "    <span style=\"color: #c0c0c0; text-decoration-color: #c0c0c0\">   Status: </span><span style=\"color: #bfbf7f; text-decoration-color: #bfbf7f\">Executing Task...</span>\n",
              "    └── <span style=\"color: #008000; text-decoration-color: #008000; font-weight: bold\">🤖 Agent: </span><span style=\"color: #008000; text-decoration-color: #008000\">Redactor (jueza, mujer, progresista)</span>\n",
              "        <span style=\"color: #c0c0c0; text-decoration-color: #c0c0c0\">    Status: </span><span style=\"color: #008000; text-decoration-color: #008000; font-weight: bold\">In Progress</span>\n",
              "</pre>\n"
            ],
            "text/plain": [
              "\u001b[1;36m🚀 Crew: \u001b[0m\u001b[1;36mcrew\u001b[0m\n",
              "├── \u001b[1;32m📋 Task: 4933d26a-b148-4454-8a19-71080930986b\u001b[0m\n",
              "│   \u001b[37m   Assigned to: \u001b[0m\u001b[32mAnalista (jueza, mujer, progresista)\u001b[0m\n",
              "│   \u001b[37m   Status: \u001b[0m\u001b[1;32m✅ Completed\u001b[0m\n",
              "│   └── \u001b[1;32m🤖 Agent: \u001b[0m\u001b[32mAnalista (jueza, mujer, progresista)\u001b[0m\n",
              "│       \u001b[37m    Status: \u001b[0m\u001b[1;32m✅ Completed\u001b[0m\n",
              "├── \u001b[1;32m📋 Task: 108e91af-a8b0-42d7-a053-260c97c0254c\u001b[0m\n",
              "│   \u001b[37m   Assigned to: \u001b[0m\u001b[32mCritico (jueza, mujer, progresista)\u001b[0m\n",
              "│   \u001b[37m   Status: \u001b[0m\u001b[1;32m✅ Completed\u001b[0m\n",
              "│   └── \u001b[1;32m🤖 Agent: \u001b[0m\u001b[32mCritico (jueza, mujer, progresista)\u001b[0m\n",
              "│       \u001b[37m    Status: \u001b[0m\u001b[1;32m✅ Completed\u001b[0m\n",
              "└── \u001b[1;33m📋 Task: 95b072fa-624d-4826-a3c6-34037c69941a\u001b[0m\n",
              "    \u001b[37m   Status: \u001b[0m\u001b[2;33mExecuting Task...\u001b[0m\n",
              "    └── \u001b[1;32m🤖 Agent: \u001b[0m\u001b[32mRedactor (jueza, mujer, progresista)\u001b[0m\n",
              "        \u001b[37m    Status: \u001b[0m\u001b[1;32mIn Progress\u001b[0m\n"
            ]
          },
          "metadata": {},
          "output_type": "display_data"
        },
        {
          "data": {
            "text/html": [
              "<pre style=\"white-space:pre;overflow-x:auto;line-height:normal;font-family:Menlo,'DejaVu Sans Mono',consolas,'Courier New',monospace\">\n",
              "</pre>\n"
            ],
            "text/plain": [
              "\n"
            ]
          },
          "metadata": {},
          "output_type": "display_data"
        },
        {
          "name": "stdout",
          "output_type": "stream",
          "text": [
            "\u001b[1m\u001b[95m# Agent:\u001b[00m \u001b[1m\u001b[92mRedactor (jueza, mujer, progresista)\u001b[00m\n",
            "\u001b[95m## Task:\u001b[00m \u001b[92mReescribe el texto con lenguaje inclusivo y sin estereotipos.\u001b[00m\n"
          ]
        },
        {
          "data": {
            "text/html": [
              "<pre style=\"white-space:pre;overflow-x:auto;line-height:normal;font-family:Menlo,'DejaVu Sans Mono',consolas,'Courier New',monospace\"><span style=\"color: #008080; text-decoration-color: #008080; font-weight: bold\">🚀 Crew: crew</span>\n",
              "├── <span style=\"color: #008000; text-decoration-color: #008000; font-weight: bold\">📋 Task: 4933d26a-b148-4454-8a19-71080930986b</span>\n",
              "│   <span style=\"color: #c0c0c0; text-decoration-color: #c0c0c0\">   Assigned to: </span><span style=\"color: #008000; text-decoration-color: #008000\">Analista (jueza, mujer, progresista)</span>\n",
              "│   <span style=\"color: #c0c0c0; text-decoration-color: #c0c0c0\">   Status: </span><span style=\"color: #008000; text-decoration-color: #008000; font-weight: bold\">✅ Completed</span>\n",
              "│   └── <span style=\"color: #008000; text-decoration-color: #008000; font-weight: bold\">🤖 Agent: </span><span style=\"color: #008000; text-decoration-color: #008000\">Analista (jueza, mujer, progresista)</span>\n",
              "│       <span style=\"color: #c0c0c0; text-decoration-color: #c0c0c0\">    Status: </span><span style=\"color: #008000; text-decoration-color: #008000; font-weight: bold\">✅ Completed</span>\n",
              "├── <span style=\"color: #008000; text-decoration-color: #008000; font-weight: bold\">📋 Task: 108e91af-a8b0-42d7-a053-260c97c0254c</span>\n",
              "│   <span style=\"color: #c0c0c0; text-decoration-color: #c0c0c0\">   Assigned to: </span><span style=\"color: #008000; text-decoration-color: #008000\">Critico (jueza, mujer, progresista)</span>\n",
              "│   <span style=\"color: #c0c0c0; text-decoration-color: #c0c0c0\">   Status: </span><span style=\"color: #008000; text-decoration-color: #008000; font-weight: bold\">✅ Completed</span>\n",
              "│   └── <span style=\"color: #008000; text-decoration-color: #008000; font-weight: bold\">🤖 Agent: </span><span style=\"color: #008000; text-decoration-color: #008000\">Critico (jueza, mujer, progresista)</span>\n",
              "│       <span style=\"color: #c0c0c0; text-decoration-color: #c0c0c0\">    Status: </span><span style=\"color: #008000; text-decoration-color: #008000; font-weight: bold\">✅ Completed</span>\n",
              "└── <span style=\"color: #808000; text-decoration-color: #808000; font-weight: bold\">📋 Task: 95b072fa-624d-4826-a3c6-34037c69941a</span>\n",
              "    <span style=\"color: #c0c0c0; text-decoration-color: #c0c0c0\">   Status: </span><span style=\"color: #bfbf7f; text-decoration-color: #bfbf7f\">Executing Task...</span>\n",
              "    └── <span style=\"color: #008000; text-decoration-color: #008000; font-weight: bold\">🤖 Agent: </span><span style=\"color: #008000; text-decoration-color: #008000\">Redactor (jueza, mujer, progresista)</span>\n",
              "        <span style=\"color: #c0c0c0; text-decoration-color: #c0c0c0\">    Status: </span><span style=\"color: #008000; text-decoration-color: #008000; font-weight: bold\">In Progress</span>\n",
              "        └── <span style=\"color: #000080; text-decoration-color: #000080; font-weight: bold\">🧠 </span><span style=\"color: #000080; text-decoration-color: #000080\">Thinking...</span>\n",
              "</pre>\n"
            ],
            "text/plain": [
              "\u001b[1;36m🚀 Crew: \u001b[0m\u001b[1;36mcrew\u001b[0m\n",
              "├── \u001b[1;32m📋 Task: 4933d26a-b148-4454-8a19-71080930986b\u001b[0m\n",
              "│   \u001b[37m   Assigned to: \u001b[0m\u001b[32mAnalista (jueza, mujer, progresista)\u001b[0m\n",
              "│   \u001b[37m   Status: \u001b[0m\u001b[1;32m✅ Completed\u001b[0m\n",
              "│   └── \u001b[1;32m🤖 Agent: \u001b[0m\u001b[32mAnalista (jueza, mujer, progresista)\u001b[0m\n",
              "│       \u001b[37m    Status: \u001b[0m\u001b[1;32m✅ Completed\u001b[0m\n",
              "├── \u001b[1;32m📋 Task: 108e91af-a8b0-42d7-a053-260c97c0254c\u001b[0m\n",
              "│   \u001b[37m   Assigned to: \u001b[0m\u001b[32mCritico (jueza, mujer, progresista)\u001b[0m\n",
              "│   \u001b[37m   Status: \u001b[0m\u001b[1;32m✅ Completed\u001b[0m\n",
              "│   └── \u001b[1;32m🤖 Agent: \u001b[0m\u001b[32mCritico (jueza, mujer, progresista)\u001b[0m\n",
              "│       \u001b[37m    Status: \u001b[0m\u001b[1;32m✅ Completed\u001b[0m\n",
              "└── \u001b[1;33m📋 Task: 95b072fa-624d-4826-a3c6-34037c69941a\u001b[0m\n",
              "    \u001b[37m   Status: \u001b[0m\u001b[2;33mExecuting Task...\u001b[0m\n",
              "    └── \u001b[1;32m🤖 Agent: \u001b[0m\u001b[32mRedactor (jueza, mujer, progresista)\u001b[0m\n",
              "        \u001b[37m    Status: \u001b[0m\u001b[1;32mIn Progress\u001b[0m\n",
              "        └── \u001b[1;34m🧠 \u001b[0m\u001b[34mThinking...\u001b[0m\n"
            ]
          },
          "metadata": {},
          "output_type": "display_data"
        },
        {
          "data": {
            "text/html": [
              "<pre style=\"white-space:pre;overflow-x:auto;line-height:normal;font-family:Menlo,'DejaVu Sans Mono',consolas,'Courier New',monospace\">\n",
              "</pre>\n"
            ],
            "text/plain": [
              "\n"
            ]
          },
          "metadata": {},
          "output_type": "display_data"
        },
        {
          "data": {
            "text/html": [
              "<pre style=\"white-space:pre;overflow-x:auto;line-height:normal;font-family:Menlo,'DejaVu Sans Mono',consolas,'Courier New',monospace\"><span style=\"color: #008080; text-decoration-color: #008080; font-weight: bold\">🚀 Crew: crew</span>\n",
              "├── <span style=\"color: #008000; text-decoration-color: #008000; font-weight: bold\">📋 Task: 4933d26a-b148-4454-8a19-71080930986b</span>\n",
              "│   <span style=\"color: #c0c0c0; text-decoration-color: #c0c0c0\">   Assigned to: </span><span style=\"color: #008000; text-decoration-color: #008000\">Analista (jueza, mujer, progresista)</span>\n",
              "│   <span style=\"color: #c0c0c0; text-decoration-color: #c0c0c0\">   Status: </span><span style=\"color: #008000; text-decoration-color: #008000; font-weight: bold\">✅ Completed</span>\n",
              "│   └── <span style=\"color: #008000; text-decoration-color: #008000; font-weight: bold\">🤖 Agent: </span><span style=\"color: #008000; text-decoration-color: #008000\">Analista (jueza, mujer, progresista)</span>\n",
              "│       <span style=\"color: #c0c0c0; text-decoration-color: #c0c0c0\">    Status: </span><span style=\"color: #008000; text-decoration-color: #008000; font-weight: bold\">✅ Completed</span>\n",
              "├── <span style=\"color: #008000; text-decoration-color: #008000; font-weight: bold\">📋 Task: 108e91af-a8b0-42d7-a053-260c97c0254c</span>\n",
              "│   <span style=\"color: #c0c0c0; text-decoration-color: #c0c0c0\">   Assigned to: </span><span style=\"color: #008000; text-decoration-color: #008000\">Critico (jueza, mujer, progresista)</span>\n",
              "│   <span style=\"color: #c0c0c0; text-decoration-color: #c0c0c0\">   Status: </span><span style=\"color: #008000; text-decoration-color: #008000; font-weight: bold\">✅ Completed</span>\n",
              "│   └── <span style=\"color: #008000; text-decoration-color: #008000; font-weight: bold\">🤖 Agent: </span><span style=\"color: #008000; text-decoration-color: #008000\">Critico (jueza, mujer, progresista)</span>\n",
              "│       <span style=\"color: #c0c0c0; text-decoration-color: #c0c0c0\">    Status: </span><span style=\"color: #008000; text-decoration-color: #008000; font-weight: bold\">✅ Completed</span>\n",
              "└── <span style=\"color: #808000; text-decoration-color: #808000; font-weight: bold\">📋 Task: 95b072fa-624d-4826-a3c6-34037c69941a</span>\n",
              "    <span style=\"color: #c0c0c0; text-decoration-color: #c0c0c0\">   Status: </span><span style=\"color: #bfbf7f; text-decoration-color: #bfbf7f\">Executing Task...</span>\n",
              "    └── <span style=\"color: #008000; text-decoration-color: #008000; font-weight: bold\">🤖 Agent: </span><span style=\"color: #008000; text-decoration-color: #008000\">Redactor (jueza, mujer, progresista)</span>\n",
              "        <span style=\"color: #c0c0c0; text-decoration-color: #c0c0c0\">    Status: </span><span style=\"color: #008000; text-decoration-color: #008000; font-weight: bold\">In Progress</span>\n",
              "</pre>\n"
            ],
            "text/plain": [
              "\u001b[1;36m🚀 Crew: \u001b[0m\u001b[1;36mcrew\u001b[0m\n",
              "├── \u001b[1;32m📋 Task: 4933d26a-b148-4454-8a19-71080930986b\u001b[0m\n",
              "│   \u001b[37m   Assigned to: \u001b[0m\u001b[32mAnalista (jueza, mujer, progresista)\u001b[0m\n",
              "│   \u001b[37m   Status: \u001b[0m\u001b[1;32m✅ Completed\u001b[0m\n",
              "│   └── \u001b[1;32m🤖 Agent: \u001b[0m\u001b[32mAnalista (jueza, mujer, progresista)\u001b[0m\n",
              "│       \u001b[37m    Status: \u001b[0m\u001b[1;32m✅ Completed\u001b[0m\n",
              "├── \u001b[1;32m📋 Task: 108e91af-a8b0-42d7-a053-260c97c0254c\u001b[0m\n",
              "│   \u001b[37m   Assigned to: \u001b[0m\u001b[32mCritico (jueza, mujer, progresista)\u001b[0m\n",
              "│   \u001b[37m   Status: \u001b[0m\u001b[1;32m✅ Completed\u001b[0m\n",
              "│   └── \u001b[1;32m🤖 Agent: \u001b[0m\u001b[32mCritico (jueza, mujer, progresista)\u001b[0m\n",
              "│       \u001b[37m    Status: \u001b[0m\u001b[1;32m✅ Completed\u001b[0m\n",
              "└── \u001b[1;33m📋 Task: 95b072fa-624d-4826-a3c6-34037c69941a\u001b[0m\n",
              "    \u001b[37m   Status: \u001b[0m\u001b[2;33mExecuting Task...\u001b[0m\n",
              "    └── \u001b[1;32m🤖 Agent: \u001b[0m\u001b[32mRedactor (jueza, mujer, progresista)\u001b[0m\n",
              "        \u001b[37m    Status: \u001b[0m\u001b[1;32mIn Progress\u001b[0m\n"
            ]
          },
          "metadata": {},
          "output_type": "display_data"
        },
        {
          "data": {
            "text/html": [
              "<pre style=\"white-space:pre;overflow-x:auto;line-height:normal;font-family:Menlo,'DejaVu Sans Mono',consolas,'Courier New',monospace\">\n",
              "</pre>\n"
            ],
            "text/plain": [
              "\n"
            ]
          },
          "metadata": {},
          "output_type": "display_data"
        },
        {
          "name": "stdout",
          "output_type": "stream",
          "text": [
            "\n",
            "\n",
            "\u001b[1m\u001b[95m# Agent:\u001b[00m \u001b[1m\u001b[92mRedactor (jueza, mujer, progresista)\u001b[00m\n",
            "\u001b[95m## Final Answer:\u001b[00m \u001b[92m\n",
            "Dice Esther Vivas (Sabadell, 1975) que \"la literatura de la maternidad parte a menudo de la propia experiencia\". ¿Quién, si no, querría dedicar su tiempo a un asunto tan relevante? El caso de esta periodista, que se había dedicado previamente al estudio del sistema agroalimentario y de los movimientos sociales, no es, dice, una excepción. A partir de su embarazo y de las primeras búsquedas de información sobre cómo se podría desarrollar el parto, comenzó a preguntarse por qué no le habían hablado de todo aquello. Por qué todo el mundo aceptaba esa violencia obstétrica. Mamá desobediente (editado por Capitán Swing en castellano y en catalán por Ara Llibres, bajo el título Mama desobedient) es el resultado de aquella primera \"indignación\", pero no se limita a ella. En el ensayo, que lleva por subtítulo Una mirada feminista a la maternidad, Vivas se ocupa primero de los mitos existentes en torno a ella, para centrarse luego en dos aspectos concretos de esta experiencia que generan un debate encendido: primero, la atención al parto; después, la lactancia.\n",
            "\n",
            "Y no es casualidad que cuestiones aparentemente privadas sobre si una persona madre le da el pecho o no a su criatura generen polémica. La autora no solo defiende que la maternidad es un asunto público, imbricado en la economía y la política, sino que la sitúa en el centro del feminismo de clase y el anticapitalismo. Si no se la ha considerado así, defiende en el libro, es porque existen intereses para ello.\n",
            "\n",
            "Pregunta. ¿Por qué ser madre y feminista supone ser desobediente? ¿Desobediente con respecto al sistema neoliberal o con respecto a cierto feminismo?\n",
            "\n",
            "Respuesta. Ser madre implica desobedecer porque vivimos en un sistema que es hostil a la maternidad y a la crianza, y si eres feminista y de repente eres madre, esa maternidad te reafirma en tus valores feministas. ¿Qué sucede? Que en general el feminismo ha tenido una relación compleja con la maternidad, porque en la medida en que la maternidad ha sido utilizada por el patriarcado como un instrumento de control del cuerpo de las personas gestantes, cuando el feminismo se rebeló contra esta imposición, en los años sesenta o setenta, en la Segunda Ola, se creó un discurso antipaternal y antirreproductivo, y no se abordaron las contradicciones que implica la maternidad. Por eso creo que desde el feminismo es necesario reivindicar la experiencia materna, no en clave romántica sino en clave de experiencia que tenemos que poder vivir como personas, al margen de las imposiciones y restricciones del sistema.\n",
            "\n",
            "P. ¿Pensar la maternidad desde el feminismo supone repensar la idea que tenemos de la incorporación de las personas gestantes al mundo laboral?\n",
            "\n",
            "R. Sí. En general, desde un cierto feminismo, a la hora de plantear la igualdad en el mercado de trabajo, se ha señalado la maternidad, el cuidado y la crianza como una carga. Desde este punto de vista, ante la maternidad patriarcal impuesta, ante ese modelo de feminidad abnegada cuyo fin último es ser madre, se ha planteado que la alternativa era supeditar la crianza al mercado y al empleo. Es necesario cambiar la mirada, porque el problema no es la maternidad, sino el mercado, una sociedad que es hostil a unas prácticas que son fundamentales para la reproducción de la vida, como son gestar, parir, dar de mamar y cuidar.\n",
            "\n",
            "P. ¿Cómo afecta esto a la manera en que el movimiento feminista se ha planteado la narrativa en torno a la igualdad en el trabajo?\n",
            "\n",
            "R. Aquí también hemos visto distintos discursos y estrategias. Por un lado hay un cierto feminismo liberal que básicamente reivindica la igualdad para un sector de mujeres de clase media blanca. En Estados Unidos vemos en el partido demócrata y que aquí vemos a medio camino entre el PSOE y Ciudadanos. Por eso creo que hay que reivindicar el feminismo del 99%, el que reclama la igualdad del conjunto de las mujeres y que señala que las desigualdades de género vienen también de las desigualdades de clase y de etnia, y que por eso es necesario acabar con las desigualdades socioeconómicas para conseguir una igualdad de género real.\n",
            "\n",
            "P. Por lo heredado de la Segunda Ola, existe esta idea de que liberarse de la maternidad obligatoria ha sido algo emancipatorio, y que por tanto poner la maternidad en el centro del feminismo sería negar esa conquista. ¿Cómo se resuelve este conflicto?\n",
            "\n",
            "R. Lo que es necesario no es acabar con la experiencia de la maternidad, sino con lo que la activista feminista Adrienne Rich, ya en los años setenta, llamaba “la institución de la maternidad”. Es fundamental que la nueva oleada feminista incorpore la reivindicación de poder vivir la experiencia materna libre de imposiciones. La cuestión no es negar la maternidad sino reivindicarla. Esto no implica dar la razón a posturas reaccionarias en relación a la maternidad, sino reivindicar la maternidad en clave emancipadora. Yo como persona tengo derecho a decidir cómo quiero vivir mi embarazo, mi parto y mi lactancia: esto es feminismo, como también es feminismo decidir si quiero tener un hijo o no, si quiero abortar o no. Reivindicar una maternidad feminista va de la mano con reivindicar el pleno control sobre nuestro cuerpo como personas gestantes.\n",
            "\n",
            "P. Le dedica parte del libro al debate sobre las bajas de maternidad y paternidad, y señala que las nuevas bajas intransferibles quieren reforzar la igualdad entre hombres y mujeres pero en realidad ignoran la experiencia de la maternidad. ¿Qué posición cree que ha faltado en el debate?\n",
            "\n",
            "R. Se han obviado en gran medida las demandas de un sector del feminismo que reivindica una ampliación de los permisos de maternidad, porque en la actualidad el permiso de maternidad ni siquiera permite una lactancia materna en exclusiva hasta los seis meses, como recomiendan todas las instancias de salud. Y también es un debate que ha menospreciado el sentir de muchas madres. Hay varios estudios que señalan que cuando una persona tiene un hijo, quiere estar con la criatura, y en cambio estos permisos iguales e intransferibles que se reivindican siguen estigmatizando la experiencia materna y la consideran una carga. Con esto no quiero decir que la maternidad sea tan solo una maternidad de las mujeres, es una responsabilidad de madres, de padres, de la sociedad en general, y que hay que darle el valor social, político y económico que realmente tiene.\n",
            "\n",
            "Por otro lado, es positivo plantear una ampliación del permiso de paternidad, pero hay que tener en cuenta que si este finalmente se amplía hasta las ocho semanas el año que viene, en tan solo tres años el permiso de paternidad habrá aumentado un 300%, pasando de una semana en 2015 a ocho semanas en 2019. Cuando el permiso de maternidad en treinta años, desde el 89, no se ha movido una coma, y es extremadamente corto. No se puede ampliar el permiso de paternidad sin reivindicar un aumento del de maternidad. Esto se dice que se hace en nombre de la igualdad, pero creo que no podemos atribuir la desigualdad en el mercado de trabajo solo a la experiencia materna, porque van mucho más allá.\n",
            "\n",
            "P. ¿En qué medida cree que estas bajas iguales e intransferibles contribuyen a estigmatizar la experiencia de la maternidad?\n",
            "\n",
            "R. Porque son unos permisos en los cuales básicamente se antepone el mercado y el empleo a la crianza. Porque si se considera, en relación al permiso de maternidad, que 16 semanas son suficientes para acompañar a la criatura después de nacer, son permisos que no tienen en cuenta esas necesidades de un bebé, que necesita estar con sus progenitores el máximo tiempo posible tras nacer, y que la fuente de alimento más beneficiosa es la leche materna.\n",
            "\n",
            "Este es un elemento del que no se acostumbra a hablar, pero que es una medida profundamente clasista. De los permisos actuales solo se benefician las personas progenitoras que trabajan o han trabajado y cotizan, por lo que los sectores con menores recursos económicos no tienen acceso a ningún tipo de ayuda por maternidad o paternidad. Y en segundo lugar, estos permisos iguales e intransferibles hacen que si tú como madre quieres estar más tiempo con tu criatura, quieres darle de mamar hasta los seis meses, solo aquellas personas con determinadas capacidades adquisitivas podrán hacerlo, porque solo ellas podrán tomarse una excedencia por su cuenta. Es una idea clasista que convierte la crianza en un privilegio.\n",
            "\n",
            "P. ¿Qué modelo, de los expuestos en el libro, considera más conveniente?\n",
            "\n",
            "R. Se tendrían que ampliar ambos permisos con un periodo de tiempo muy superior al actual, como de hecho hacen muchos países nórdicos, que dan un peso central a lo que es la ayuda a la maternidad y la crianza. Porque aquí cada año con los informes de la caída de la natalidad nos escandalizamos, pero no se hace absolutamente nada para revertirla. Apostaría por un modelo como los nórdicos, donde las bajas son más amplias que las que tenemos en el Estado español, y que pueden ser compartidas y una parte de ellas transferibles.\n",
            "\n",
            "P. ¿Por qué la lactancia tiene tanto espacio en el debate sobre la maternidad? Se discute sobre cómo y dónde se produce hasta qué forma es más conveniente.\n",
            "\n",
            "R. El parto y la lactancia son dos partes esenciales en la crianza. Quería profundizar en el debate sobre la lactancia materna porque también en los feminismos hay un cierto debate sobre si se impone la teta o el biberón. Y me parecía interesante señalar e investigar cómo, a pesar de que cada vez se ha recuperado la lactancia materna —algo que es positivo, porque en los años setenta prácticamente desapareció—, aún el contexto social es adverso, contrariamente a lo que puede parecer en un primer momento.\n",
            "\n",
            "P. En esa época se configura un discurso que asegura que el biberón da más libertad a las madres, y que además también facilita la incorporación al trabajo. ¿Cómo nos relacionamos hoy con estas dos ideas?\n",
            "\n",
            "R. Cuando yo reflexiono con una mirada crítica acerca de la lactancia artificial lo hago desde el punto de vista de los intereses económicos que hay detrás del negocio del biberón, no sobre lo que hace cada madre, porque por desgracia hacemos lo que buenamente podemos en nuestras circunstancias. Dicho esto, cuando se generalizó la lactancia artificial en los años setenta u ochenta, hay unos intereses empresariales claros. La generalización de la lactancia artificial supuso un negocio ingente para las empresas de la industria láctea y alimentaria, como Nestlé o Danone, de ahí que se promocionara como se hizo. Y lo que se hizo fue incidir en el personal sanitario para que este fuera proclive a promocionar la lactancia artificial en detrimento de la lactancia materna.\n",
            "\n",
            "Por otro lado, uno de los elementos que ha incomodado más al feminismo con respecto a la lactancia es el carácter biológico de la práctica, que es biosocial, hay un elemento cultural y otro biológico. Yo creo que desde el feminismo se trata de reconocer tanto el carácter biológico como cultural de la maternidad y de la lactancia, pero precisamente por esto, fruto de esta incomodidad, muchas veces se ha considerado que la maternidad era una práctica que encerraba a las madres en el hogar, que las alejaba del mercado de trabajo, y es necesario cambiar la mirada. Porque dar de mamar es una práctica profundamente feminista, e incluso diría que antineoliberal y anticapitalista. En la medida en que dar la teta no es solo lo mejor para la criatura (y hay determinadas circunstancias en las que dar el biberón es lo mejor), también es extremadamente beneficiosa para la persona madre y en particular después del parto, por lo que implica de recuperación, de vínculo con la criatura. A la vez, la lactancia materna permite la autonomía de la persona gestante, porque no necesita gastar dinero, sabe lo que le da de comer, es kilómetro cero… Y si decía que dar la teta es antineoliberal es porque es una práctica que no beneficia al mercado, que necesita de unos tiempos y de un espacio que son contrarios a la lógica mercantil y productivista, y no tiene un impacto negativo en el medio ambiente.\n",
            "\n",
            "P. Las personas que optan por dar el pecho también suelen hablar de que esto supone una desigualdad insalvable con el padre en la tarea de cuidados.\n",
            "\n",
            "R. Dar el biberón per se no te hace más libre como persona, ni es un mecanismo de igualdad. Basta con ver a las madres que dan el biberón y crían en soledad. Tampoco la teta per se te hace más libre. El carácter biológico de la lactancia es innegable, pero esto no implica que el padre no pueda implicarse en muchas otras tareas. Los bebés no solo se despiertan por la noche porque quieren mamar, sino por muchas otras circunstancias. Criar en igualdad no tiene tanto que ver con cómo alimentamos a la criatura nada más nacer, sino con muchos otros elementos vinculados a la relación de pareja y con un entorno social que es hostil a la maternidad y a la crianza.\n",
            "\n",
            "P. La tercera pata del libro aborda la violencia obstétrica, y habla de una evolución progresiva en los hospitales. ¿Cuál es el panorama general ahora mismo?\n",
            "\n",
            "R. Ha habido una serie de cambios muy significativos en relación a la atención al parto en el sistema hospitalario, que se han producido gracias y en parte a organizaciones de mujeres que han reivindicado un parto respetado. Sin El parto es nuestro no se entenderían los cambios en la atención sanitaria. Pero aún así, en la medida en que muchas de estas modificaciones que se han hecho a nivel gubernamental son de cumplimiento voluntario, aún existen muchas malas prácticas del personal sanitario, debido a que hay una serie de mitos y prejuicios en relación al nacimiento que acaban justificando estas prácticas. Y de hecho solo es necesario ver los porcentajes de cesáreas, de episiotomías, de partos instrumentales que se llevan a cabo, que son muy superiores de los que la Organización Mundial de la Salud considera razonables. Esto tiene un impacto físico y psíquico en las personas gestantes, y también en las criaturas.\n",
            "\n",
            "P. Llama particularmente la atención las cifras de episiotomía, que indican que se dan en España en el 43% de los partos frente al tope del 15% que recomienda la OMS. ¿Hay una carga cultural en esto?\n",
            "\n",
            "R. Más que una carga cultural hay unas prácticas médicas que consideran que en la medida en que el parto es una enfermedad, la atención al parto se aborda desde este punto de vista y esto dificulta que el proceso del parto se dé de manera natural. Estas prácticas facilitan el trabajo médico, pero tienen consecuencias negativas. En el caso de la episiotomía, particularmente, por lo que implica de problemas de micción, en las relaciones sexuales, etcétera. Hoy, cuatro de cada 10 personas que dan a luz sufren una episiotomía: hemos mejorado, porque en el año 95 eran 9 de cada 10. En los países nórdicos es 1 de cada 10. No creo que el periné de las personas gestantes españolas sea distinto al periné de las personas gestantes suecas. Si esto se produce es porque hay detrás unas prácticas médicas que consideran que esto es correcto. Hay que cambiar la formación médica para darle una perspectiva feminista y de género.\n",
            "\n",
            "P. En el libro se pregunta dónde están las comadronas, y también se plantea el problema de la formación. ¿Cómo se relacionan estos dos aspectos, qué se aprende en las universidades y quienes llegan a atender el parto?\n",
            "\n",
            "R. Decíamos que hay una visión por parte del personal sanitario patológica, que se ve como una enfermedad, y esta visión es compartida por la sociedad. Y en la medida en que la sociedad no reconoce el parto como un proceso fisiológico, es difícil conseguir que haya un parto respetado. Yo digo que la violencia obstétrica es la última frontera de la violencia de género porque es una violencia aceptada, por los profesionales, por las personas afectadas y por sus allegados. Se considera que el parto es eso. Y por eso pensamos siempre que el personal mejor preparado para atender al parto es un ginecólogo, cuando en los partos de bajo riesgo es la comadrona. Hay que reivindicar la figura de la comadrona en la atención al parto y su plena autonomía como profesionales de la salud.\n",
            "\n",
            "P. ¿Comadronas y personas madres son aliadas?\n",
            "\n",
            "R. Sí, por supuesto. Lo que señalan muchos estudios es que en la medida en que el parto es llevado por comadronas, el grado de satisfacción de las personas que dan a luz es superior. El problema es que hay una profunda relación jerárquica en el sistema hospitalario que menosprecia a este personal. A la vez hay una falta también de este personal en los hospitales, que va en detrimento de la calidad de la atención al parto. Que haya más comadronas revierte positivamente en la salud de las personas gestantes.\n",
            "\n",
            "El 85% de excedencias para el cuidado de criaturas tramitadas hasta marzo de 2021 fueron solicitadas por las madres.\n",
            "\n",
            "P. ¿Cuál considera que debe ser el lugar desde el que se reclamen estas reivindicaciones alrededor de la maternidad?\n",
            "\n",
            "R. Por un lado, es necesario que el feminismo reivindique la maternidad y la experiencia materna al margen de las imposiciones del sistema. Creo que esta nueva ola feminista, este feminismo del 99%, incorpore la maternidad a sus demandas y que se normalice la relación entre feminismos y maternidad. No como algo idílico o romántico, sino como experiencia y dándole el valor sociopolítico y económico que tiene. Luego están los grupos de crianza, los grupos de apoyo a la lactancia materna, creo que es importante que se sumen a esta oleada feminista en auge y que apuesten por una maternidad transformadora a la hora de llevar a cabo sus reivindicaciones. Porque la maternidad no es una cuestión individual, es una cuestión política. Porque si queremos vivir una maternidad digna lo que tenemos que hacer es cambiar el entorno socioeconómico. Y este cambio radical del sistema solo puede hacerse con el apoyo de otros movimientos sociales.\u001b[00m\n",
            "\n",
            "\n"
          ]
        },
        {
          "data": {
            "text/html": [
              "<pre style=\"white-space:pre;overflow-x:auto;line-height:normal;font-family:Menlo,'DejaVu Sans Mono',consolas,'Courier New',monospace\"><span style=\"color: #008080; text-decoration-color: #008080; font-weight: bold\">🚀 Crew: crew</span>\n",
              "├── <span style=\"color: #008000; text-decoration-color: #008000; font-weight: bold\">📋 Task: 4933d26a-b148-4454-8a19-71080930986b</span>\n",
              "│   <span style=\"color: #c0c0c0; text-decoration-color: #c0c0c0\">   Assigned to: </span><span style=\"color: #008000; text-decoration-color: #008000\">Analista (jueza, mujer, progresista)</span>\n",
              "│   <span style=\"color: #c0c0c0; text-decoration-color: #c0c0c0\">   Status: </span><span style=\"color: #008000; text-decoration-color: #008000; font-weight: bold\">✅ Completed</span>\n",
              "│   └── <span style=\"color: #008000; text-decoration-color: #008000; font-weight: bold\">🤖 Agent: </span><span style=\"color: #008000; text-decoration-color: #008000\">Analista (jueza, mujer, progresista)</span>\n",
              "│       <span style=\"color: #c0c0c0; text-decoration-color: #c0c0c0\">    Status: </span><span style=\"color: #008000; text-decoration-color: #008000; font-weight: bold\">✅ Completed</span>\n",
              "├── <span style=\"color: #008000; text-decoration-color: #008000; font-weight: bold\">📋 Task: 108e91af-a8b0-42d7-a053-260c97c0254c</span>\n",
              "│   <span style=\"color: #c0c0c0; text-decoration-color: #c0c0c0\">   Assigned to: </span><span style=\"color: #008000; text-decoration-color: #008000\">Critico (jueza, mujer, progresista)</span>\n",
              "│   <span style=\"color: #c0c0c0; text-decoration-color: #c0c0c0\">   Status: </span><span style=\"color: #008000; text-decoration-color: #008000; font-weight: bold\">✅ Completed</span>\n",
              "│   └── <span style=\"color: #008000; text-decoration-color: #008000; font-weight: bold\">🤖 Agent: </span><span style=\"color: #008000; text-decoration-color: #008000\">Critico (jueza, mujer, progresista)</span>\n",
              "│       <span style=\"color: #c0c0c0; text-decoration-color: #c0c0c0\">    Status: </span><span style=\"color: #008000; text-decoration-color: #008000; font-weight: bold\">✅ Completed</span>\n",
              "└── <span style=\"color: #808000; text-decoration-color: #808000; font-weight: bold\">📋 Task: 95b072fa-624d-4826-a3c6-34037c69941a</span>\n",
              "    <span style=\"color: #c0c0c0; text-decoration-color: #c0c0c0\">   Status: </span><span style=\"color: #bfbf7f; text-decoration-color: #bfbf7f\">Executing Task...</span>\n",
              "    └── <span style=\"color: #008000; text-decoration-color: #008000; font-weight: bold\">🤖 Agent: </span><span style=\"color: #008000; text-decoration-color: #008000\">Redactor (jueza, mujer, progresista)</span>\n",
              "        <span style=\"color: #c0c0c0; text-decoration-color: #c0c0c0\">    Status: </span><span style=\"color: #008000; text-decoration-color: #008000; font-weight: bold\">✅ Completed</span>\n",
              "</pre>\n"
            ],
            "text/plain": [
              "\u001b[1;36m🚀 Crew: \u001b[0m\u001b[1;36mcrew\u001b[0m\n",
              "├── \u001b[1;32m📋 Task: 4933d26a-b148-4454-8a19-71080930986b\u001b[0m\n",
              "│   \u001b[37m   Assigned to: \u001b[0m\u001b[32mAnalista (jueza, mujer, progresista)\u001b[0m\n",
              "│   \u001b[37m   Status: \u001b[0m\u001b[1;32m✅ Completed\u001b[0m\n",
              "│   └── \u001b[1;32m🤖 Agent: \u001b[0m\u001b[32mAnalista (jueza, mujer, progresista)\u001b[0m\n",
              "│       \u001b[37m    Status: \u001b[0m\u001b[1;32m✅ Completed\u001b[0m\n",
              "├── \u001b[1;32m📋 Task: 108e91af-a8b0-42d7-a053-260c97c0254c\u001b[0m\n",
              "│   \u001b[37m   Assigned to: \u001b[0m\u001b[32mCritico (jueza, mujer, progresista)\u001b[0m\n",
              "│   \u001b[37m   Status: \u001b[0m\u001b[1;32m✅ Completed\u001b[0m\n",
              "│   └── \u001b[1;32m🤖 Agent: \u001b[0m\u001b[32mCritico (jueza, mujer, progresista)\u001b[0m\n",
              "│       \u001b[37m    Status: \u001b[0m\u001b[1;32m✅ Completed\u001b[0m\n",
              "└── \u001b[1;33m📋 Task: 95b072fa-624d-4826-a3c6-34037c69941a\u001b[0m\n",
              "    \u001b[37m   Status: \u001b[0m\u001b[2;33mExecuting Task...\u001b[0m\n",
              "    └── \u001b[1;32m🤖 Agent: \u001b[0m\u001b[32mRedactor (jueza, mujer, progresista)\u001b[0m\n",
              "        \u001b[37m    Status: \u001b[0m\u001b[1;32m✅ Completed\u001b[0m\n"
            ]
          },
          "metadata": {},
          "output_type": "display_data"
        },
        {
          "data": {
            "text/html": [
              "<pre style=\"white-space:pre;overflow-x:auto;line-height:normal;font-family:Menlo,'DejaVu Sans Mono',consolas,'Courier New',monospace\">\n",
              "</pre>\n"
            ],
            "text/plain": [
              "\n"
            ]
          },
          "metadata": {},
          "output_type": "display_data"
        },
        {
          "data": {
            "text/html": [
              "<pre style=\"white-space:pre;overflow-x:auto;line-height:normal;font-family:Menlo,'DejaVu Sans Mono',consolas,'Courier New',monospace\"><span style=\"color: #008080; text-decoration-color: #008080; font-weight: bold\">🚀 Crew: crew</span>\n",
              "├── <span style=\"color: #008000; text-decoration-color: #008000; font-weight: bold\">📋 Task: 4933d26a-b148-4454-8a19-71080930986b</span>\n",
              "│   <span style=\"color: #c0c0c0; text-decoration-color: #c0c0c0\">   Assigned to: </span><span style=\"color: #008000; text-decoration-color: #008000\">Analista (jueza, mujer, progresista)</span>\n",
              "│   <span style=\"color: #c0c0c0; text-decoration-color: #c0c0c0\">   Status: </span><span style=\"color: #008000; text-decoration-color: #008000; font-weight: bold\">✅ Completed</span>\n",
              "│   └── <span style=\"color: #008000; text-decoration-color: #008000; font-weight: bold\">🤖 Agent: </span><span style=\"color: #008000; text-decoration-color: #008000\">Analista (jueza, mujer, progresista)</span>\n",
              "│       <span style=\"color: #c0c0c0; text-decoration-color: #c0c0c0\">    Status: </span><span style=\"color: #008000; text-decoration-color: #008000; font-weight: bold\">✅ Completed</span>\n",
              "├── <span style=\"color: #008000; text-decoration-color: #008000; font-weight: bold\">📋 Task: 108e91af-a8b0-42d7-a053-260c97c0254c</span>\n",
              "│   <span style=\"color: #c0c0c0; text-decoration-color: #c0c0c0\">   Assigned to: </span><span style=\"color: #008000; text-decoration-color: #008000\">Critico (jueza, mujer, progresista)</span>\n",
              "│   <span style=\"color: #c0c0c0; text-decoration-color: #c0c0c0\">   Status: </span><span style=\"color: #008000; text-decoration-color: #008000; font-weight: bold\">✅ Completed</span>\n",
              "│   └── <span style=\"color: #008000; text-decoration-color: #008000; font-weight: bold\">🤖 Agent: </span><span style=\"color: #008000; text-decoration-color: #008000\">Critico (jueza, mujer, progresista)</span>\n",
              "│       <span style=\"color: #c0c0c0; text-decoration-color: #c0c0c0\">    Status: </span><span style=\"color: #008000; text-decoration-color: #008000; font-weight: bold\">✅ Completed</span>\n",
              "└── <span style=\"color: #008000; text-decoration-color: #008000; font-weight: bold\">📋 Task: 95b072fa-624d-4826-a3c6-34037c69941a</span>\n",
              "    <span style=\"color: #c0c0c0; text-decoration-color: #c0c0c0\">   Assigned to: </span><span style=\"color: #008000; text-decoration-color: #008000\">Redactor (jueza, mujer, progresista)</span>\n",
              "    <span style=\"color: #c0c0c0; text-decoration-color: #c0c0c0\">   Status: </span><span style=\"color: #008000; text-decoration-color: #008000; font-weight: bold\">✅ Completed</span>\n",
              "    └── <span style=\"color: #008000; text-decoration-color: #008000; font-weight: bold\">🤖 Agent: </span><span style=\"color: #008000; text-decoration-color: #008000\">Redactor (jueza, mujer, progresista)</span>\n",
              "        <span style=\"color: #c0c0c0; text-decoration-color: #c0c0c0\">    Status: </span><span style=\"color: #008000; text-decoration-color: #008000; font-weight: bold\">✅ Completed</span>\n",
              "</pre>\n"
            ],
            "text/plain": [
              "\u001b[1;36m🚀 Crew: \u001b[0m\u001b[1;36mcrew\u001b[0m\n",
              "├── \u001b[1;32m📋 Task: 4933d26a-b148-4454-8a19-71080930986b\u001b[0m\n",
              "│   \u001b[37m   Assigned to: \u001b[0m\u001b[32mAnalista (jueza, mujer, progresista)\u001b[0m\n",
              "│   \u001b[37m   Status: \u001b[0m\u001b[1;32m✅ Completed\u001b[0m\n",
              "│   └── \u001b[1;32m🤖 Agent: \u001b[0m\u001b[32mAnalista (jueza, mujer, progresista)\u001b[0m\n",
              "│       \u001b[37m    Status: \u001b[0m\u001b[1;32m✅ Completed\u001b[0m\n",
              "├── \u001b[1;32m📋 Task: 108e91af-a8b0-42d7-a053-260c97c0254c\u001b[0m\n",
              "│   \u001b[37m   Assigned to: \u001b[0m\u001b[32mCritico (jueza, mujer, progresista)\u001b[0m\n",
              "│   \u001b[37m   Status: \u001b[0m\u001b[1;32m✅ Completed\u001b[0m\n",
              "│   └── \u001b[1;32m🤖 Agent: \u001b[0m\u001b[32mCritico (jueza, mujer, progresista)\u001b[0m\n",
              "│       \u001b[37m    Status: \u001b[0m\u001b[1;32m✅ Completed\u001b[0m\n",
              "└── \u001b[1;32m📋 Task: 95b072fa-624d-4826-a3c6-34037c69941a\u001b[0m\n",
              "    \u001b[37m   Assigned to: \u001b[0m\u001b[32mRedactor (jueza, mujer, progresista)\u001b[0m\n",
              "    \u001b[37m   Status: \u001b[0m\u001b[1;32m✅ Completed\u001b[0m\n",
              "    └── \u001b[1;32m🤖 Agent: \u001b[0m\u001b[32mRedactor (jueza, mujer, progresista)\u001b[0m\n",
              "        \u001b[37m    Status: \u001b[0m\u001b[1;32m✅ Completed\u001b[0m\n"
            ]
          },
          "metadata": {},
          "output_type": "display_data"
        },
        {
          "data": {
            "text/html": [
              "<pre style=\"white-space:pre;overflow-x:auto;line-height:normal;font-family:Menlo,'DejaVu Sans Mono',consolas,'Courier New',monospace\"><span style=\"color: #008000; text-decoration-color: #008000\">╭──────────────────────────────────────────────── Task Completion ────────────────────────────────────────────────╮</span>\n",
              "<span style=\"color: #008000; text-decoration-color: #008000\">│</span>                                                                                                                 <span style=\"color: #008000; text-decoration-color: #008000\">│</span>\n",
              "<span style=\"color: #008000; text-decoration-color: #008000\">│</span>  <span style=\"color: #008000; text-decoration-color: #008000; font-weight: bold\">Task Completed</span>                                                                                                 <span style=\"color: #008000; text-decoration-color: #008000\">│</span>\n",
              "<span style=\"color: #008000; text-decoration-color: #008000\">│</span>  <span style=\"color: #c0c0c0; text-decoration-color: #c0c0c0\">Name: </span><span style=\"color: #008000; text-decoration-color: #008000\">95b072fa-624d-4826-a3c6-34037c69941a</span>                                                                     <span style=\"color: #008000; text-decoration-color: #008000\">│</span>\n",
              "<span style=\"color: #008000; text-decoration-color: #008000\">│</span>  <span style=\"color: #c0c0c0; text-decoration-color: #c0c0c0\">Agent: </span><span style=\"color: #008000; text-decoration-color: #008000\">Redactor (jueza, mujer, progresista)</span>                                                                    <span style=\"color: #008000; text-decoration-color: #008000\">│</span>\n",
              "<span style=\"color: #008000; text-decoration-color: #008000\">│</span>                                                                                                                 <span style=\"color: #008000; text-decoration-color: #008000\">│</span>\n",
              "<span style=\"color: #008000; text-decoration-color: #008000\">│</span>                                                                                                                 <span style=\"color: #008000; text-decoration-color: #008000\">│</span>\n",
              "<span style=\"color: #008000; text-decoration-color: #008000\">╰─────────────────────────────────────────────────────────────────────────────────────────────────────────────────╯</span>\n",
              "</pre>\n"
            ],
            "text/plain": [
              "\u001b[32m╭─\u001b[0m\u001b[32m───────────────────────────────────────────────\u001b[0m\u001b[32m Task Completion \u001b[0m\u001b[32m───────────────────────────────────────────────\u001b[0m\u001b[32m─╮\u001b[0m\n",
              "\u001b[32m│\u001b[0m                                                                                                                 \u001b[32m│\u001b[0m\n",
              "\u001b[32m│\u001b[0m  \u001b[1;32mTask Completed\u001b[0m                                                                                                 \u001b[32m│\u001b[0m\n",
              "\u001b[32m│\u001b[0m  \u001b[37mName: \u001b[0m\u001b[32m95b072fa-624d-4826-a3c6-34037c69941a\u001b[0m                                                                     \u001b[32m│\u001b[0m\n",
              "\u001b[32m│\u001b[0m  \u001b[37mAgent: \u001b[0m\u001b[32mRedactor (jueza, mujer, progresista)\u001b[0m                                                                    \u001b[32m│\u001b[0m\n",
              "\u001b[32m│\u001b[0m                                                                                                                 \u001b[32m│\u001b[0m\n",
              "\u001b[32m│\u001b[0m                                                                                                                 \u001b[32m│\u001b[0m\n",
              "\u001b[32m╰─────────────────────────────────────────────────────────────────────────────────────────────────────────────────╯\u001b[0m\n"
            ]
          },
          "metadata": {},
          "output_type": "display_data"
        },
        {
          "data": {
            "text/html": [
              "<pre style=\"white-space:pre;overflow-x:auto;line-height:normal;font-family:Menlo,'DejaVu Sans Mono',consolas,'Courier New',monospace\">\n",
              "</pre>\n"
            ],
            "text/plain": [
              "\n"
            ]
          },
          "metadata": {},
          "output_type": "display_data"
        },
        {
          "data": {
            "text/html": [
              "<pre style=\"white-space:pre;overflow-x:auto;line-height:normal;font-family:Menlo,'DejaVu Sans Mono',consolas,'Courier New',monospace\"><span style=\"color: #008080; text-decoration-color: #008080; font-weight: bold\">🚀 Crew: crew</span>\n",
              "├── <span style=\"color: #008000; text-decoration-color: #008000; font-weight: bold\">📋 Task: 4933d26a-b148-4454-8a19-71080930986b</span>\n",
              "│   <span style=\"color: #c0c0c0; text-decoration-color: #c0c0c0\">   Assigned to: </span><span style=\"color: #008000; text-decoration-color: #008000\">Analista (jueza, mujer, progresista)</span>\n",
              "│   <span style=\"color: #c0c0c0; text-decoration-color: #c0c0c0\">   Status: </span><span style=\"color: #008000; text-decoration-color: #008000; font-weight: bold\">✅ Completed</span>\n",
              "│   └── <span style=\"color: #008000; text-decoration-color: #008000; font-weight: bold\">🤖 Agent: </span><span style=\"color: #008000; text-decoration-color: #008000\">Analista (jueza, mujer, progresista)</span>\n",
              "│       <span style=\"color: #c0c0c0; text-decoration-color: #c0c0c0\">    Status: </span><span style=\"color: #008000; text-decoration-color: #008000; font-weight: bold\">✅ Completed</span>\n",
              "├── <span style=\"color: #008000; text-decoration-color: #008000; font-weight: bold\">📋 Task: 108e91af-a8b0-42d7-a053-260c97c0254c</span>\n",
              "│   <span style=\"color: #c0c0c0; text-decoration-color: #c0c0c0\">   Assigned to: </span><span style=\"color: #008000; text-decoration-color: #008000\">Critico (jueza, mujer, progresista)</span>\n",
              "│   <span style=\"color: #c0c0c0; text-decoration-color: #c0c0c0\">   Status: </span><span style=\"color: #008000; text-decoration-color: #008000; font-weight: bold\">✅ Completed</span>\n",
              "│   └── <span style=\"color: #008000; text-decoration-color: #008000; font-weight: bold\">🤖 Agent: </span><span style=\"color: #008000; text-decoration-color: #008000\">Critico (jueza, mujer, progresista)</span>\n",
              "│       <span style=\"color: #c0c0c0; text-decoration-color: #c0c0c0\">    Status: </span><span style=\"color: #008000; text-decoration-color: #008000; font-weight: bold\">✅ Completed</span>\n",
              "├── <span style=\"color: #008000; text-decoration-color: #008000; font-weight: bold\">📋 Task: 95b072fa-624d-4826-a3c6-34037c69941a</span>\n",
              "│   <span style=\"color: #c0c0c0; text-decoration-color: #c0c0c0\">   Assigned to: </span><span style=\"color: #008000; text-decoration-color: #008000\">Redactor (jueza, mujer, progresista)</span>\n",
              "│   <span style=\"color: #c0c0c0; text-decoration-color: #c0c0c0\">   Status: </span><span style=\"color: #008000; text-decoration-color: #008000; font-weight: bold\">✅ Completed</span>\n",
              "│   └── <span style=\"color: #008000; text-decoration-color: #008000; font-weight: bold\">🤖 Agent: </span><span style=\"color: #008000; text-decoration-color: #008000\">Redactor (jueza, mujer, progresista)</span>\n",
              "│       <span style=\"color: #c0c0c0; text-decoration-color: #c0c0c0\">    Status: </span><span style=\"color: #008000; text-decoration-color: #008000; font-weight: bold\">✅ Completed</span>\n",
              "└── <span style=\"color: #808000; text-decoration-color: #808000; font-weight: bold\">📋 Task: c99a72fd-4c98-4329-97d3-1a8f6743caa6</span>\n",
              "    <span style=\"color: #c0c0c0; text-decoration-color: #c0c0c0\">   Status: </span><span style=\"color: #bfbf7f; text-decoration-color: #bfbf7f\">Executing Task...</span>\n",
              "</pre>\n"
            ],
            "text/plain": [
              "\u001b[1;36m🚀 Crew: \u001b[0m\u001b[1;36mcrew\u001b[0m\n",
              "├── \u001b[1;32m📋 Task: 4933d26a-b148-4454-8a19-71080930986b\u001b[0m\n",
              "│   \u001b[37m   Assigned to: \u001b[0m\u001b[32mAnalista (jueza, mujer, progresista)\u001b[0m\n",
              "│   \u001b[37m   Status: \u001b[0m\u001b[1;32m✅ Completed\u001b[0m\n",
              "│   └── \u001b[1;32m🤖 Agent: \u001b[0m\u001b[32mAnalista (jueza, mujer, progresista)\u001b[0m\n",
              "│       \u001b[37m    Status: \u001b[0m\u001b[1;32m✅ Completed\u001b[0m\n",
              "├── \u001b[1;32m📋 Task: 108e91af-a8b0-42d7-a053-260c97c0254c\u001b[0m\n",
              "│   \u001b[37m   Assigned to: \u001b[0m\u001b[32mCritico (jueza, mujer, progresista)\u001b[0m\n",
              "│   \u001b[37m   Status: \u001b[0m\u001b[1;32m✅ Completed\u001b[0m\n",
              "│   └── \u001b[1;32m🤖 Agent: \u001b[0m\u001b[32mCritico (jueza, mujer, progresista)\u001b[0m\n",
              "│       \u001b[37m    Status: \u001b[0m\u001b[1;32m✅ Completed\u001b[0m\n",
              "├── \u001b[1;32m📋 Task: 95b072fa-624d-4826-a3c6-34037c69941a\u001b[0m\n",
              "│   \u001b[37m   Assigned to: \u001b[0m\u001b[32mRedactor (jueza, mujer, progresista)\u001b[0m\n",
              "│   \u001b[37m   Status: \u001b[0m\u001b[1;32m✅ Completed\u001b[0m\n",
              "│   └── \u001b[1;32m🤖 Agent: \u001b[0m\u001b[32mRedactor (jueza, mujer, progresista)\u001b[0m\n",
              "│       \u001b[37m    Status: \u001b[0m\u001b[1;32m✅ Completed\u001b[0m\n",
              "└── \u001b[1;33m📋 Task: c99a72fd-4c98-4329-97d3-1a8f6743caa6\u001b[0m\n",
              "    \u001b[37m   Status: \u001b[0m\u001b[2;33mExecuting Task...\u001b[0m\n"
            ]
          },
          "metadata": {},
          "output_type": "display_data"
        },
        {
          "data": {
            "text/html": [
              "<pre style=\"white-space:pre;overflow-x:auto;line-height:normal;font-family:Menlo,'DejaVu Sans Mono',consolas,'Courier New',monospace\">\n",
              "</pre>\n"
            ],
            "text/plain": [
              "\n"
            ]
          },
          "metadata": {},
          "output_type": "display_data"
        },
        {
          "data": {
            "text/html": [
              "<pre style=\"white-space:pre;overflow-x:auto;line-height:normal;font-family:Menlo,'DejaVu Sans Mono',consolas,'Courier New',monospace\"><span style=\"color: #008080; text-decoration-color: #008080; font-weight: bold\">🚀 Crew: crew</span>\n",
              "├── <span style=\"color: #008000; text-decoration-color: #008000; font-weight: bold\">📋 Task: 4933d26a-b148-4454-8a19-71080930986b</span>\n",
              "│   <span style=\"color: #c0c0c0; text-decoration-color: #c0c0c0\">   Assigned to: </span><span style=\"color: #008000; text-decoration-color: #008000\">Analista (jueza, mujer, progresista)</span>\n",
              "│   <span style=\"color: #c0c0c0; text-decoration-color: #c0c0c0\">   Status: </span><span style=\"color: #008000; text-decoration-color: #008000; font-weight: bold\">✅ Completed</span>\n",
              "│   └── <span style=\"color: #008000; text-decoration-color: #008000; font-weight: bold\">🤖 Agent: </span><span style=\"color: #008000; text-decoration-color: #008000\">Analista (jueza, mujer, progresista)</span>\n",
              "│       <span style=\"color: #c0c0c0; text-decoration-color: #c0c0c0\">    Status: </span><span style=\"color: #008000; text-decoration-color: #008000; font-weight: bold\">✅ Completed</span>\n",
              "├── <span style=\"color: #008000; text-decoration-color: #008000; font-weight: bold\">📋 Task: 108e91af-a8b0-42d7-a053-260c97c0254c</span>\n",
              "│   <span style=\"color: #c0c0c0; text-decoration-color: #c0c0c0\">   Assigned to: </span><span style=\"color: #008000; text-decoration-color: #008000\">Critico (jueza, mujer, progresista)</span>\n",
              "│   <span style=\"color: #c0c0c0; text-decoration-color: #c0c0c0\">   Status: </span><span style=\"color: #008000; text-decoration-color: #008000; font-weight: bold\">✅ Completed</span>\n",
              "│   └── <span style=\"color: #008000; text-decoration-color: #008000; font-weight: bold\">🤖 Agent: </span><span style=\"color: #008000; text-decoration-color: #008000\">Critico (jueza, mujer, progresista)</span>\n",
              "│       <span style=\"color: #c0c0c0; text-decoration-color: #c0c0c0\">    Status: </span><span style=\"color: #008000; text-decoration-color: #008000; font-weight: bold\">✅ Completed</span>\n",
              "├── <span style=\"color: #008000; text-decoration-color: #008000; font-weight: bold\">📋 Task: 95b072fa-624d-4826-a3c6-34037c69941a</span>\n",
              "│   <span style=\"color: #c0c0c0; text-decoration-color: #c0c0c0\">   Assigned to: </span><span style=\"color: #008000; text-decoration-color: #008000\">Redactor (jueza, mujer, progresista)</span>\n",
              "│   <span style=\"color: #c0c0c0; text-decoration-color: #c0c0c0\">   Status: </span><span style=\"color: #008000; text-decoration-color: #008000; font-weight: bold\">✅ Completed</span>\n",
              "│   └── <span style=\"color: #008000; text-decoration-color: #008000; font-weight: bold\">🤖 Agent: </span><span style=\"color: #008000; text-decoration-color: #008000\">Redactor (jueza, mujer, progresista)</span>\n",
              "│       <span style=\"color: #c0c0c0; text-decoration-color: #c0c0c0\">    Status: </span><span style=\"color: #008000; text-decoration-color: #008000; font-weight: bold\">✅ Completed</span>\n",
              "└── <span style=\"color: #808000; text-decoration-color: #808000; font-weight: bold\">📋 Task: c99a72fd-4c98-4329-97d3-1a8f6743caa6</span>\n",
              "    <span style=\"color: #c0c0c0; text-decoration-color: #c0c0c0\">   Status: </span><span style=\"color: #bfbf7f; text-decoration-color: #bfbf7f\">Executing Task...</span>\n",
              "    └── <span style=\"color: #008000; text-decoration-color: #008000; font-weight: bold\">🤖 Agent: </span><span style=\"color: #008000; text-decoration-color: #008000\">Comparador (jueza, mujer, progresista)</span>\n",
              "        <span style=\"color: #c0c0c0; text-decoration-color: #c0c0c0\">    Status: </span><span style=\"color: #008000; text-decoration-color: #008000; font-weight: bold\">In Progress</span>\n",
              "</pre>\n"
            ],
            "text/plain": [
              "\u001b[1;36m🚀 Crew: \u001b[0m\u001b[1;36mcrew\u001b[0m\n",
              "├── \u001b[1;32m📋 Task: 4933d26a-b148-4454-8a19-71080930986b\u001b[0m\n",
              "│   \u001b[37m   Assigned to: \u001b[0m\u001b[32mAnalista (jueza, mujer, progresista)\u001b[0m\n",
              "│   \u001b[37m   Status: \u001b[0m\u001b[1;32m✅ Completed\u001b[0m\n",
              "│   └── \u001b[1;32m🤖 Agent: \u001b[0m\u001b[32mAnalista (jueza, mujer, progresista)\u001b[0m\n",
              "│       \u001b[37m    Status: \u001b[0m\u001b[1;32m✅ Completed\u001b[0m\n",
              "├── \u001b[1;32m📋 Task: 108e91af-a8b0-42d7-a053-260c97c0254c\u001b[0m\n",
              "│   \u001b[37m   Assigned to: \u001b[0m\u001b[32mCritico (jueza, mujer, progresista)\u001b[0m\n",
              "│   \u001b[37m   Status: \u001b[0m\u001b[1;32m✅ Completed\u001b[0m\n",
              "│   └── \u001b[1;32m🤖 Agent: \u001b[0m\u001b[32mCritico (jueza, mujer, progresista)\u001b[0m\n",
              "│       \u001b[37m    Status: \u001b[0m\u001b[1;32m✅ Completed\u001b[0m\n",
              "├── \u001b[1;32m📋 Task: 95b072fa-624d-4826-a3c6-34037c69941a\u001b[0m\n",
              "│   \u001b[37m   Assigned to: \u001b[0m\u001b[32mRedactor (jueza, mujer, progresista)\u001b[0m\n",
              "│   \u001b[37m   Status: \u001b[0m\u001b[1;32m✅ Completed\u001b[0m\n",
              "│   └── \u001b[1;32m🤖 Agent: \u001b[0m\u001b[32mRedactor (jueza, mujer, progresista)\u001b[0m\n",
              "│       \u001b[37m    Status: \u001b[0m\u001b[1;32m✅ Completed\u001b[0m\n",
              "└── \u001b[1;33m📋 Task: c99a72fd-4c98-4329-97d3-1a8f6743caa6\u001b[0m\n",
              "    \u001b[37m   Status: \u001b[0m\u001b[2;33mExecuting Task...\u001b[0m\n",
              "    └── \u001b[1;32m🤖 Agent: \u001b[0m\u001b[32mComparador (jueza, mujer, progresista)\u001b[0m\n",
              "        \u001b[37m    Status: \u001b[0m\u001b[1;32mIn Progress\u001b[0m\n"
            ]
          },
          "metadata": {},
          "output_type": "display_data"
        },
        {
          "data": {
            "text/html": [
              "<pre style=\"white-space:pre;overflow-x:auto;line-height:normal;font-family:Menlo,'DejaVu Sans Mono',consolas,'Courier New',monospace\">\n",
              "</pre>\n"
            ],
            "text/plain": [
              "\n"
            ]
          },
          "metadata": {},
          "output_type": "display_data"
        },
        {
          "name": "stdout",
          "output_type": "stream",
          "text": [
            "\u001b[1m\u001b[95m# Agent:\u001b[00m \u001b[1m\u001b[92mComparador (jueza, mujer, progresista)\u001b[00m\n",
            "\u001b[95m## Task:\u001b[00m \u001b[92mCompara los análisis anteriores y reflexiona sobre cómo influyen la profesión, género y política de cada agente.\u001b[00m\n"
          ]
        },
        {
          "data": {
            "text/html": [
              "<pre style=\"white-space:pre;overflow-x:auto;line-height:normal;font-family:Menlo,'DejaVu Sans Mono',consolas,'Courier New',monospace\"><span style=\"color: #008080; text-decoration-color: #008080; font-weight: bold\">🚀 Crew: crew</span>\n",
              "├── <span style=\"color: #008000; text-decoration-color: #008000; font-weight: bold\">📋 Task: 4933d26a-b148-4454-8a19-71080930986b</span>\n",
              "│   <span style=\"color: #c0c0c0; text-decoration-color: #c0c0c0\">   Assigned to: </span><span style=\"color: #008000; text-decoration-color: #008000\">Analista (jueza, mujer, progresista)</span>\n",
              "│   <span style=\"color: #c0c0c0; text-decoration-color: #c0c0c0\">   Status: </span><span style=\"color: #008000; text-decoration-color: #008000; font-weight: bold\">✅ Completed</span>\n",
              "│   └── <span style=\"color: #008000; text-decoration-color: #008000; font-weight: bold\">🤖 Agent: </span><span style=\"color: #008000; text-decoration-color: #008000\">Analista (jueza, mujer, progresista)</span>\n",
              "│       <span style=\"color: #c0c0c0; text-decoration-color: #c0c0c0\">    Status: </span><span style=\"color: #008000; text-decoration-color: #008000; font-weight: bold\">✅ Completed</span>\n",
              "├── <span style=\"color: #008000; text-decoration-color: #008000; font-weight: bold\">📋 Task: 108e91af-a8b0-42d7-a053-260c97c0254c</span>\n",
              "│   <span style=\"color: #c0c0c0; text-decoration-color: #c0c0c0\">   Assigned to: </span><span style=\"color: #008000; text-decoration-color: #008000\">Critico (jueza, mujer, progresista)</span>\n",
              "│   <span style=\"color: #c0c0c0; text-decoration-color: #c0c0c0\">   Status: </span><span style=\"color: #008000; text-decoration-color: #008000; font-weight: bold\">✅ Completed</span>\n",
              "│   └── <span style=\"color: #008000; text-decoration-color: #008000; font-weight: bold\">🤖 Agent: </span><span style=\"color: #008000; text-decoration-color: #008000\">Critico (jueza, mujer, progresista)</span>\n",
              "│       <span style=\"color: #c0c0c0; text-decoration-color: #c0c0c0\">    Status: </span><span style=\"color: #008000; text-decoration-color: #008000; font-weight: bold\">✅ Completed</span>\n",
              "├── <span style=\"color: #008000; text-decoration-color: #008000; font-weight: bold\">📋 Task: 95b072fa-624d-4826-a3c6-34037c69941a</span>\n",
              "│   <span style=\"color: #c0c0c0; text-decoration-color: #c0c0c0\">   Assigned to: </span><span style=\"color: #008000; text-decoration-color: #008000\">Redactor (jueza, mujer, progresista)</span>\n",
              "│   <span style=\"color: #c0c0c0; text-decoration-color: #c0c0c0\">   Status: </span><span style=\"color: #008000; text-decoration-color: #008000; font-weight: bold\">✅ Completed</span>\n",
              "│   └── <span style=\"color: #008000; text-decoration-color: #008000; font-weight: bold\">🤖 Agent: </span><span style=\"color: #008000; text-decoration-color: #008000\">Redactor (jueza, mujer, progresista)</span>\n",
              "│       <span style=\"color: #c0c0c0; text-decoration-color: #c0c0c0\">    Status: </span><span style=\"color: #008000; text-decoration-color: #008000; font-weight: bold\">✅ Completed</span>\n",
              "└── <span style=\"color: #808000; text-decoration-color: #808000; font-weight: bold\">📋 Task: c99a72fd-4c98-4329-97d3-1a8f6743caa6</span>\n",
              "    <span style=\"color: #c0c0c0; text-decoration-color: #c0c0c0\">   Status: </span><span style=\"color: #bfbf7f; text-decoration-color: #bfbf7f\">Executing Task...</span>\n",
              "    └── <span style=\"color: #008000; text-decoration-color: #008000; font-weight: bold\">🤖 Agent: </span><span style=\"color: #008000; text-decoration-color: #008000\">Comparador (jueza, mujer, progresista)</span>\n",
              "        <span style=\"color: #c0c0c0; text-decoration-color: #c0c0c0\">    Status: </span><span style=\"color: #008000; text-decoration-color: #008000; font-weight: bold\">In Progress</span>\n",
              "        └── <span style=\"color: #000080; text-decoration-color: #000080; font-weight: bold\">🧠 </span><span style=\"color: #000080; text-decoration-color: #000080\">Thinking...</span>\n",
              "</pre>\n"
            ],
            "text/plain": [
              "\u001b[1;36m🚀 Crew: \u001b[0m\u001b[1;36mcrew\u001b[0m\n",
              "├── \u001b[1;32m📋 Task: 4933d26a-b148-4454-8a19-71080930986b\u001b[0m\n",
              "│   \u001b[37m   Assigned to: \u001b[0m\u001b[32mAnalista (jueza, mujer, progresista)\u001b[0m\n",
              "│   \u001b[37m   Status: \u001b[0m\u001b[1;32m✅ Completed\u001b[0m\n",
              "│   └── \u001b[1;32m🤖 Agent: \u001b[0m\u001b[32mAnalista (jueza, mujer, progresista)\u001b[0m\n",
              "│       \u001b[37m    Status: \u001b[0m\u001b[1;32m✅ Completed\u001b[0m\n",
              "├── \u001b[1;32m📋 Task: 108e91af-a8b0-42d7-a053-260c97c0254c\u001b[0m\n",
              "│   \u001b[37m   Assigned to: \u001b[0m\u001b[32mCritico (jueza, mujer, progresista)\u001b[0m\n",
              "│   \u001b[37m   Status: \u001b[0m\u001b[1;32m✅ Completed\u001b[0m\n",
              "│   └── \u001b[1;32m🤖 Agent: \u001b[0m\u001b[32mCritico (jueza, mujer, progresista)\u001b[0m\n",
              "│       \u001b[37m    Status: \u001b[0m\u001b[1;32m✅ Completed\u001b[0m\n",
              "├── \u001b[1;32m📋 Task: 95b072fa-624d-4826-a3c6-34037c69941a\u001b[0m\n",
              "│   \u001b[37m   Assigned to: \u001b[0m\u001b[32mRedactor (jueza, mujer, progresista)\u001b[0m\n",
              "│   \u001b[37m   Status: \u001b[0m\u001b[1;32m✅ Completed\u001b[0m\n",
              "│   └── \u001b[1;32m🤖 Agent: \u001b[0m\u001b[32mRedactor (jueza, mujer, progresista)\u001b[0m\n",
              "│       \u001b[37m    Status: \u001b[0m\u001b[1;32m✅ Completed\u001b[0m\n",
              "└── \u001b[1;33m📋 Task: c99a72fd-4c98-4329-97d3-1a8f6743caa6\u001b[0m\n",
              "    \u001b[37m   Status: \u001b[0m\u001b[2;33mExecuting Task...\u001b[0m\n",
              "    └── \u001b[1;32m🤖 Agent: \u001b[0m\u001b[32mComparador (jueza, mujer, progresista)\u001b[0m\n",
              "        \u001b[37m    Status: \u001b[0m\u001b[1;32mIn Progress\u001b[0m\n",
              "        └── \u001b[1;34m🧠 \u001b[0m\u001b[34mThinking...\u001b[0m\n"
            ]
          },
          "metadata": {},
          "output_type": "display_data"
        },
        {
          "data": {
            "text/html": [
              "<pre style=\"white-space:pre;overflow-x:auto;line-height:normal;font-family:Menlo,'DejaVu Sans Mono',consolas,'Courier New',monospace\">\n",
              "</pre>\n"
            ],
            "text/plain": [
              "\n"
            ]
          },
          "metadata": {},
          "output_type": "display_data"
        },
        {
          "data": {
            "text/html": [
              "<pre style=\"white-space:pre;overflow-x:auto;line-height:normal;font-family:Menlo,'DejaVu Sans Mono',consolas,'Courier New',monospace\"><span style=\"color: #008080; text-decoration-color: #008080; font-weight: bold\">🚀 Crew: crew</span>\n",
              "├── <span style=\"color: #008000; text-decoration-color: #008000; font-weight: bold\">📋 Task: 4933d26a-b148-4454-8a19-71080930986b</span>\n",
              "│   <span style=\"color: #c0c0c0; text-decoration-color: #c0c0c0\">   Assigned to: </span><span style=\"color: #008000; text-decoration-color: #008000\">Analista (jueza, mujer, progresista)</span>\n",
              "│   <span style=\"color: #c0c0c0; text-decoration-color: #c0c0c0\">   Status: </span><span style=\"color: #008000; text-decoration-color: #008000; font-weight: bold\">✅ Completed</span>\n",
              "│   └── <span style=\"color: #008000; text-decoration-color: #008000; font-weight: bold\">🤖 Agent: </span><span style=\"color: #008000; text-decoration-color: #008000\">Analista (jueza, mujer, progresista)</span>\n",
              "│       <span style=\"color: #c0c0c0; text-decoration-color: #c0c0c0\">    Status: </span><span style=\"color: #008000; text-decoration-color: #008000; font-weight: bold\">✅ Completed</span>\n",
              "├── <span style=\"color: #008000; text-decoration-color: #008000; font-weight: bold\">📋 Task: 108e91af-a8b0-42d7-a053-260c97c0254c</span>\n",
              "│   <span style=\"color: #c0c0c0; text-decoration-color: #c0c0c0\">   Assigned to: </span><span style=\"color: #008000; text-decoration-color: #008000\">Critico (jueza, mujer, progresista)</span>\n",
              "│   <span style=\"color: #c0c0c0; text-decoration-color: #c0c0c0\">   Status: </span><span style=\"color: #008000; text-decoration-color: #008000; font-weight: bold\">✅ Completed</span>\n",
              "│   └── <span style=\"color: #008000; text-decoration-color: #008000; font-weight: bold\">🤖 Agent: </span><span style=\"color: #008000; text-decoration-color: #008000\">Critico (jueza, mujer, progresista)</span>\n",
              "│       <span style=\"color: #c0c0c0; text-decoration-color: #c0c0c0\">    Status: </span><span style=\"color: #008000; text-decoration-color: #008000; font-weight: bold\">✅ Completed</span>\n",
              "├── <span style=\"color: #008000; text-decoration-color: #008000; font-weight: bold\">📋 Task: 95b072fa-624d-4826-a3c6-34037c69941a</span>\n",
              "│   <span style=\"color: #c0c0c0; text-decoration-color: #c0c0c0\">   Assigned to: </span><span style=\"color: #008000; text-decoration-color: #008000\">Redactor (jueza, mujer, progresista)</span>\n",
              "│   <span style=\"color: #c0c0c0; text-decoration-color: #c0c0c0\">   Status: </span><span style=\"color: #008000; text-decoration-color: #008000; font-weight: bold\">✅ Completed</span>\n",
              "│   └── <span style=\"color: #008000; text-decoration-color: #008000; font-weight: bold\">🤖 Agent: </span><span style=\"color: #008000; text-decoration-color: #008000\">Redactor (jueza, mujer, progresista)</span>\n",
              "│       <span style=\"color: #c0c0c0; text-decoration-color: #c0c0c0\">    Status: </span><span style=\"color: #008000; text-decoration-color: #008000; font-weight: bold\">✅ Completed</span>\n",
              "└── <span style=\"color: #808000; text-decoration-color: #808000; font-weight: bold\">📋 Task: c99a72fd-4c98-4329-97d3-1a8f6743caa6</span>\n",
              "    <span style=\"color: #c0c0c0; text-decoration-color: #c0c0c0\">   Status: </span><span style=\"color: #bfbf7f; text-decoration-color: #bfbf7f\">Executing Task...</span>\n",
              "    └── <span style=\"color: #008000; text-decoration-color: #008000; font-weight: bold\">🤖 Agent: </span><span style=\"color: #008000; text-decoration-color: #008000\">Comparador (jueza, mujer, progresista)</span>\n",
              "        <span style=\"color: #c0c0c0; text-decoration-color: #c0c0c0\">    Status: </span><span style=\"color: #008000; text-decoration-color: #008000; font-weight: bold\">In Progress</span>\n",
              "</pre>\n"
            ],
            "text/plain": [
              "\u001b[1;36m🚀 Crew: \u001b[0m\u001b[1;36mcrew\u001b[0m\n",
              "├── \u001b[1;32m📋 Task: 4933d26a-b148-4454-8a19-71080930986b\u001b[0m\n",
              "│   \u001b[37m   Assigned to: \u001b[0m\u001b[32mAnalista (jueza, mujer, progresista)\u001b[0m\n",
              "│   \u001b[37m   Status: \u001b[0m\u001b[1;32m✅ Completed\u001b[0m\n",
              "│   └── \u001b[1;32m🤖 Agent: \u001b[0m\u001b[32mAnalista (jueza, mujer, progresista)\u001b[0m\n",
              "│       \u001b[37m    Status: \u001b[0m\u001b[1;32m✅ Completed\u001b[0m\n",
              "├── \u001b[1;32m📋 Task: 108e91af-a8b0-42d7-a053-260c97c0254c\u001b[0m\n",
              "│   \u001b[37m   Assigned to: \u001b[0m\u001b[32mCritico (jueza, mujer, progresista)\u001b[0m\n",
              "│   \u001b[37m   Status: \u001b[0m\u001b[1;32m✅ Completed\u001b[0m\n",
              "│   └── \u001b[1;32m🤖 Agent: \u001b[0m\u001b[32mCritico (jueza, mujer, progresista)\u001b[0m\n",
              "│       \u001b[37m    Status: \u001b[0m\u001b[1;32m✅ Completed\u001b[0m\n",
              "├── \u001b[1;32m📋 Task: 95b072fa-624d-4826-a3c6-34037c69941a\u001b[0m\n",
              "│   \u001b[37m   Assigned to: \u001b[0m\u001b[32mRedactor (jueza, mujer, progresista)\u001b[0m\n",
              "│   \u001b[37m   Status: \u001b[0m\u001b[1;32m✅ Completed\u001b[0m\n",
              "│   └── \u001b[1;32m🤖 Agent: \u001b[0m\u001b[32mRedactor (jueza, mujer, progresista)\u001b[0m\n",
              "│       \u001b[37m    Status: \u001b[0m\u001b[1;32m✅ Completed\u001b[0m\n",
              "└── \u001b[1;33m📋 Task: c99a72fd-4c98-4329-97d3-1a8f6743caa6\u001b[0m\n",
              "    \u001b[37m   Status: \u001b[0m\u001b[2;33mExecuting Task...\u001b[0m\n",
              "    └── \u001b[1;32m🤖 Agent: \u001b[0m\u001b[32mComparador (jueza, mujer, progresista)\u001b[0m\n",
              "        \u001b[37m    Status: \u001b[0m\u001b[1;32mIn Progress\u001b[0m\n"
            ]
          },
          "metadata": {},
          "output_type": "display_data"
        },
        {
          "data": {
            "text/html": [
              "<pre style=\"white-space:pre;overflow-x:auto;line-height:normal;font-family:Menlo,'DejaVu Sans Mono',consolas,'Courier New',monospace\">\n",
              "</pre>\n"
            ],
            "text/plain": [
              "\n"
            ]
          },
          "metadata": {},
          "output_type": "display_data"
        },
        {
          "name": "stdout",
          "output_type": "stream",
          "text": [
            "\n",
            "\n",
            "\u001b[1m\u001b[95m# Agent:\u001b[00m \u001b[1m\u001b[92mComparador (jueza, mujer, progresista)\u001b[00m\n",
            "\u001b[95m## Final Answer:\u001b[00m \u001b[92m\n",
            "Al comparar los análisis anteriores, es evidente que la profesión, el género y la orientación política de cada agente influyen significativamente en la interpretación de los textos y en la identificación de sesgos de género. \n",
            "\n",
            "Por un lado, el análisis de las frases que refuerzan estereotipos de género muestra cómo el lenguaje puede deslegitimar la experiencia materna. Frases como \"¿Quién iba, si no, a querer dedicar su tiempo a un asunto tan insignificante?\" reflejan un desprecio hacia la maternidad, sugiriendo que el cuidado de los hijos es trivial y que solo es relevante si se vive de manera personal. Este tipo de lenguaje, que puede ser más fácilmente identificado por mujeres en posiciones de poder o en el ámbito académico, resuena con la experiencia de quienes han enfrentado la desvalorización de su rol como madres en un contexto profesional. \n",
            "\n",
            "Además, la afirmación de que \"la maternidad ha sido utilizada por el patriarcado como un instrumento de control del cuerpo de las mujeres\" aunque crítica, perpetúa la noción de que las mujeres son meras víctimas de un sistema opresor. Este enfoque puede ser más común en análisis feministas que provienen de un trasfondo académico o activista, donde se busca desmantelar narrativas que despojan a las mujeres de su agencia. La perspectiva de una mujer jueza, como la mía, podría enfatizar la necesidad de reconocer la capacidad de las mujeres para tomar decisiones sobre su maternidad, en lugar de verlas únicamente como víctimas.\n",
            "\n",
            "El estereotipo de que \"ante ese modelo de feminidad abnegada cuyo fin último es ser madre\" implica que la maternidad es el único propósito de las mujeres, lo que limita su identidad a un rol específico. Este tipo de análisis puede ser más prevalente en voces que provienen de contextos donde se ha luchado por la inclusión de la maternidad en la narrativa feminista, como en el caso de Esther Vivas. Su enfoque en la maternidad como un asunto público y político refleja una comprensión de las intersecciones entre género, clase y política que es crucial para un análisis más inclusivo.\n",
            "\n",
            "La idea de que \"la lactancia materna permite la autonomía de la mujer\" puede ser problemática, ya que implica que aquellas que no pueden o eligen no amamantar son menos autónomas. Este tipo de juicio puede ser más fácilmente identificado por mujeres que han experimentado la presión social en torno a la maternidad y la crianza. La crítica a la lactancia artificial y la promoción de la lactancia materna como un acto feminista también puede ser vista como una forma de empoderar a las mujeres, pero también puede crear divisiones entre ellas, lo que es un punto que debe ser considerado en cualquier análisis.\n",
            "\n",
            "La violencia obstétrica, mencionada como \"la última frontera de la violencia de género\", refleja cómo las prácticas médicas y sociales deshumanizan a las mujeres en el proceso de parto. Este tema puede resonar más con aquellas que han vivido experiencias de parto negativas y que buscan cambiar la narrativa en torno a la atención médica. La perspectiva de una mujer jueza puede aportar un enfoque crítico sobre cómo las políticas de salud deben ser reformadas para garantizar el respeto y la dignidad de las mujeres durante el parto.\n",
            "\n",
            "Finalmente, es crucial que el feminismo contemporáneo reevalúe su relación con la maternidad, no como un obstáculo a la emancipación, sino como una experiencia que debe ser reivindicada y valorada. La maternidad debe ser vista como una cuestión política que requiere un cambio en el entorno socioeconómico, donde se reconozca su importancia y se apoye a las mujeres en sus decisiones. La lucha por la igualdad de género debe incluir la reivindicación de la maternidad como una experiencia digna y empoderadora, que no debe ser estigmatizada ni desvalorizada. Este enfoque inclusivo y crítico es esencial para avanzar hacia una sociedad que valore verdaderamente el papel de las mujeres, no solo como madres, sino como individuos plenos con derechos y aspiraciones diversas.\u001b[00m\n",
            "\n",
            "\n"
          ]
        },
        {
          "data": {
            "text/html": [
              "<pre style=\"white-space:pre;overflow-x:auto;line-height:normal;font-family:Menlo,'DejaVu Sans Mono',consolas,'Courier New',monospace\"><span style=\"color: #008080; text-decoration-color: #008080; font-weight: bold\">🚀 Crew: crew</span>\n",
              "├── <span style=\"color: #008000; text-decoration-color: #008000; font-weight: bold\">📋 Task: 4933d26a-b148-4454-8a19-71080930986b</span>\n",
              "│   <span style=\"color: #c0c0c0; text-decoration-color: #c0c0c0\">   Assigned to: </span><span style=\"color: #008000; text-decoration-color: #008000\">Analista (jueza, mujer, progresista)</span>\n",
              "│   <span style=\"color: #c0c0c0; text-decoration-color: #c0c0c0\">   Status: </span><span style=\"color: #008000; text-decoration-color: #008000; font-weight: bold\">✅ Completed</span>\n",
              "│   └── <span style=\"color: #008000; text-decoration-color: #008000; font-weight: bold\">🤖 Agent: </span><span style=\"color: #008000; text-decoration-color: #008000\">Analista (jueza, mujer, progresista)</span>\n",
              "│       <span style=\"color: #c0c0c0; text-decoration-color: #c0c0c0\">    Status: </span><span style=\"color: #008000; text-decoration-color: #008000; font-weight: bold\">✅ Completed</span>\n",
              "├── <span style=\"color: #008000; text-decoration-color: #008000; font-weight: bold\">📋 Task: 108e91af-a8b0-42d7-a053-260c97c0254c</span>\n",
              "│   <span style=\"color: #c0c0c0; text-decoration-color: #c0c0c0\">   Assigned to: </span><span style=\"color: #008000; text-decoration-color: #008000\">Critico (jueza, mujer, progresista)</span>\n",
              "│   <span style=\"color: #c0c0c0; text-decoration-color: #c0c0c0\">   Status: </span><span style=\"color: #008000; text-decoration-color: #008000; font-weight: bold\">✅ Completed</span>\n",
              "│   └── <span style=\"color: #008000; text-decoration-color: #008000; font-weight: bold\">🤖 Agent: </span><span style=\"color: #008000; text-decoration-color: #008000\">Critico (jueza, mujer, progresista)</span>\n",
              "│       <span style=\"color: #c0c0c0; text-decoration-color: #c0c0c0\">    Status: </span><span style=\"color: #008000; text-decoration-color: #008000; font-weight: bold\">✅ Completed</span>\n",
              "├── <span style=\"color: #008000; text-decoration-color: #008000; font-weight: bold\">📋 Task: 95b072fa-624d-4826-a3c6-34037c69941a</span>\n",
              "│   <span style=\"color: #c0c0c0; text-decoration-color: #c0c0c0\">   Assigned to: </span><span style=\"color: #008000; text-decoration-color: #008000\">Redactor (jueza, mujer, progresista)</span>\n",
              "│   <span style=\"color: #c0c0c0; text-decoration-color: #c0c0c0\">   Status: </span><span style=\"color: #008000; text-decoration-color: #008000; font-weight: bold\">✅ Completed</span>\n",
              "│   └── <span style=\"color: #008000; text-decoration-color: #008000; font-weight: bold\">🤖 Agent: </span><span style=\"color: #008000; text-decoration-color: #008000\">Redactor (jueza, mujer, progresista)</span>\n",
              "│       <span style=\"color: #c0c0c0; text-decoration-color: #c0c0c0\">    Status: </span><span style=\"color: #008000; text-decoration-color: #008000; font-weight: bold\">✅ Completed</span>\n",
              "└── <span style=\"color: #808000; text-decoration-color: #808000; font-weight: bold\">📋 Task: c99a72fd-4c98-4329-97d3-1a8f6743caa6</span>\n",
              "    <span style=\"color: #c0c0c0; text-decoration-color: #c0c0c0\">   Status: </span><span style=\"color: #bfbf7f; text-decoration-color: #bfbf7f\">Executing Task...</span>\n",
              "    └── <span style=\"color: #008000; text-decoration-color: #008000; font-weight: bold\">🤖 Agent: </span><span style=\"color: #008000; text-decoration-color: #008000\">Comparador (jueza, mujer, progresista)</span>\n",
              "        <span style=\"color: #c0c0c0; text-decoration-color: #c0c0c0\">    Status: </span><span style=\"color: #008000; text-decoration-color: #008000; font-weight: bold\">✅ Completed</span>\n",
              "</pre>\n"
            ],
            "text/plain": [
              "\u001b[1;36m🚀 Crew: \u001b[0m\u001b[1;36mcrew\u001b[0m\n",
              "├── \u001b[1;32m📋 Task: 4933d26a-b148-4454-8a19-71080930986b\u001b[0m\n",
              "│   \u001b[37m   Assigned to: \u001b[0m\u001b[32mAnalista (jueza, mujer, progresista)\u001b[0m\n",
              "│   \u001b[37m   Status: \u001b[0m\u001b[1;32m✅ Completed\u001b[0m\n",
              "│   └── \u001b[1;32m🤖 Agent: \u001b[0m\u001b[32mAnalista (jueza, mujer, progresista)\u001b[0m\n",
              "│       \u001b[37m    Status: \u001b[0m\u001b[1;32m✅ Completed\u001b[0m\n",
              "├── \u001b[1;32m📋 Task: 108e91af-a8b0-42d7-a053-260c97c0254c\u001b[0m\n",
              "│   \u001b[37m   Assigned to: \u001b[0m\u001b[32mCritico (jueza, mujer, progresista)\u001b[0m\n",
              "│   \u001b[37m   Status: \u001b[0m\u001b[1;32m✅ Completed\u001b[0m\n",
              "│   └── \u001b[1;32m🤖 Agent: \u001b[0m\u001b[32mCritico (jueza, mujer, progresista)\u001b[0m\n",
              "│       \u001b[37m    Status: \u001b[0m\u001b[1;32m✅ Completed\u001b[0m\n",
              "├── \u001b[1;32m📋 Task: 95b072fa-624d-4826-a3c6-34037c69941a\u001b[0m\n",
              "│   \u001b[37m   Assigned to: \u001b[0m\u001b[32mRedactor (jueza, mujer, progresista)\u001b[0m\n",
              "│   \u001b[37m   Status: \u001b[0m\u001b[1;32m✅ Completed\u001b[0m\n",
              "│   └── \u001b[1;32m🤖 Agent: \u001b[0m\u001b[32mRedactor (jueza, mujer, progresista)\u001b[0m\n",
              "│       \u001b[37m    Status: \u001b[0m\u001b[1;32m✅ Completed\u001b[0m\n",
              "└── \u001b[1;33m📋 Task: c99a72fd-4c98-4329-97d3-1a8f6743caa6\u001b[0m\n",
              "    \u001b[37m   Status: \u001b[0m\u001b[2;33mExecuting Task...\u001b[0m\n",
              "    └── \u001b[1;32m🤖 Agent: \u001b[0m\u001b[32mComparador (jueza, mujer, progresista)\u001b[0m\n",
              "        \u001b[37m    Status: \u001b[0m\u001b[1;32m✅ Completed\u001b[0m\n"
            ]
          },
          "metadata": {},
          "output_type": "display_data"
        },
        {
          "data": {
            "text/html": [
              "<pre style=\"white-space:pre;overflow-x:auto;line-height:normal;font-family:Menlo,'DejaVu Sans Mono',consolas,'Courier New',monospace\">\n",
              "</pre>\n"
            ],
            "text/plain": [
              "\n"
            ]
          },
          "metadata": {},
          "output_type": "display_data"
        },
        {
          "data": {
            "text/html": [
              "<pre style=\"white-space:pre;overflow-x:auto;line-height:normal;font-family:Menlo,'DejaVu Sans Mono',consolas,'Courier New',monospace\"><span style=\"color: #008080; text-decoration-color: #008080; font-weight: bold\">🚀 Crew: crew</span>\n",
              "├── <span style=\"color: #008000; text-decoration-color: #008000; font-weight: bold\">📋 Task: 4933d26a-b148-4454-8a19-71080930986b</span>\n",
              "│   <span style=\"color: #c0c0c0; text-decoration-color: #c0c0c0\">   Assigned to: </span><span style=\"color: #008000; text-decoration-color: #008000\">Analista (jueza, mujer, progresista)</span>\n",
              "│   <span style=\"color: #c0c0c0; text-decoration-color: #c0c0c0\">   Status: </span><span style=\"color: #008000; text-decoration-color: #008000; font-weight: bold\">✅ Completed</span>\n",
              "│   └── <span style=\"color: #008000; text-decoration-color: #008000; font-weight: bold\">🤖 Agent: </span><span style=\"color: #008000; text-decoration-color: #008000\">Analista (jueza, mujer, progresista)</span>\n",
              "│       <span style=\"color: #c0c0c0; text-decoration-color: #c0c0c0\">    Status: </span><span style=\"color: #008000; text-decoration-color: #008000; font-weight: bold\">✅ Completed</span>\n",
              "├── <span style=\"color: #008000; text-decoration-color: #008000; font-weight: bold\">📋 Task: 108e91af-a8b0-42d7-a053-260c97c0254c</span>\n",
              "│   <span style=\"color: #c0c0c0; text-decoration-color: #c0c0c0\">   Assigned to: </span><span style=\"color: #008000; text-decoration-color: #008000\">Critico (jueza, mujer, progresista)</span>\n",
              "│   <span style=\"color: #c0c0c0; text-decoration-color: #c0c0c0\">   Status: </span><span style=\"color: #008000; text-decoration-color: #008000; font-weight: bold\">✅ Completed</span>\n",
              "│   └── <span style=\"color: #008000; text-decoration-color: #008000; font-weight: bold\">🤖 Agent: </span><span style=\"color: #008000; text-decoration-color: #008000\">Critico (jueza, mujer, progresista)</span>\n",
              "│       <span style=\"color: #c0c0c0; text-decoration-color: #c0c0c0\">    Status: </span><span style=\"color: #008000; text-decoration-color: #008000; font-weight: bold\">✅ Completed</span>\n",
              "├── <span style=\"color: #008000; text-decoration-color: #008000; font-weight: bold\">📋 Task: 95b072fa-624d-4826-a3c6-34037c69941a</span>\n",
              "│   <span style=\"color: #c0c0c0; text-decoration-color: #c0c0c0\">   Assigned to: </span><span style=\"color: #008000; text-decoration-color: #008000\">Redactor (jueza, mujer, progresista)</span>\n",
              "│   <span style=\"color: #c0c0c0; text-decoration-color: #c0c0c0\">   Status: </span><span style=\"color: #008000; text-decoration-color: #008000; font-weight: bold\">✅ Completed</span>\n",
              "│   └── <span style=\"color: #008000; text-decoration-color: #008000; font-weight: bold\">🤖 Agent: </span><span style=\"color: #008000; text-decoration-color: #008000\">Redactor (jueza, mujer, progresista)</span>\n",
              "│       <span style=\"color: #c0c0c0; text-decoration-color: #c0c0c0\">    Status: </span><span style=\"color: #008000; text-decoration-color: #008000; font-weight: bold\">✅ Completed</span>\n",
              "└── <span style=\"color: #008000; text-decoration-color: #008000; font-weight: bold\">📋 Task: c99a72fd-4c98-4329-97d3-1a8f6743caa6</span>\n",
              "    <span style=\"color: #c0c0c0; text-decoration-color: #c0c0c0\">   Assigned to: </span><span style=\"color: #008000; text-decoration-color: #008000\">Comparador (jueza, mujer, progresista)</span>\n",
              "    <span style=\"color: #c0c0c0; text-decoration-color: #c0c0c0\">   Status: </span><span style=\"color: #008000; text-decoration-color: #008000; font-weight: bold\">✅ Completed</span>\n",
              "    └── <span style=\"color: #008000; text-decoration-color: #008000; font-weight: bold\">🤖 Agent: </span><span style=\"color: #008000; text-decoration-color: #008000\">Comparador (jueza, mujer, progresista)</span>\n",
              "        <span style=\"color: #c0c0c0; text-decoration-color: #c0c0c0\">    Status: </span><span style=\"color: #008000; text-decoration-color: #008000; font-weight: bold\">✅ Completed</span>\n",
              "</pre>\n"
            ],
            "text/plain": [
              "\u001b[1;36m🚀 Crew: \u001b[0m\u001b[1;36mcrew\u001b[0m\n",
              "├── \u001b[1;32m📋 Task: 4933d26a-b148-4454-8a19-71080930986b\u001b[0m\n",
              "│   \u001b[37m   Assigned to: \u001b[0m\u001b[32mAnalista (jueza, mujer, progresista)\u001b[0m\n",
              "│   \u001b[37m   Status: \u001b[0m\u001b[1;32m✅ Completed\u001b[0m\n",
              "│   └── \u001b[1;32m🤖 Agent: \u001b[0m\u001b[32mAnalista (jueza, mujer, progresista)\u001b[0m\n",
              "│       \u001b[37m    Status: \u001b[0m\u001b[1;32m✅ Completed\u001b[0m\n",
              "├── \u001b[1;32m📋 Task: 108e91af-a8b0-42d7-a053-260c97c0254c\u001b[0m\n",
              "│   \u001b[37m   Assigned to: \u001b[0m\u001b[32mCritico (jueza, mujer, progresista)\u001b[0m\n",
              "│   \u001b[37m   Status: \u001b[0m\u001b[1;32m✅ Completed\u001b[0m\n",
              "│   └── \u001b[1;32m🤖 Agent: \u001b[0m\u001b[32mCritico (jueza, mujer, progresista)\u001b[0m\n",
              "│       \u001b[37m    Status: \u001b[0m\u001b[1;32m✅ Completed\u001b[0m\n",
              "├── \u001b[1;32m📋 Task: 95b072fa-624d-4826-a3c6-34037c69941a\u001b[0m\n",
              "│   \u001b[37m   Assigned to: \u001b[0m\u001b[32mRedactor (jueza, mujer, progresista)\u001b[0m\n",
              "│   \u001b[37m   Status: \u001b[0m\u001b[1;32m✅ Completed\u001b[0m\n",
              "│   └── \u001b[1;32m🤖 Agent: \u001b[0m\u001b[32mRedactor (jueza, mujer, progresista)\u001b[0m\n",
              "│       \u001b[37m    Status: \u001b[0m\u001b[1;32m✅ Completed\u001b[0m\n",
              "└── \u001b[1;32m📋 Task: c99a72fd-4c98-4329-97d3-1a8f6743caa6\u001b[0m\n",
              "    \u001b[37m   Assigned to: \u001b[0m\u001b[32mComparador (jueza, mujer, progresista)\u001b[0m\n",
              "    \u001b[37m   Status: \u001b[0m\u001b[1;32m✅ Completed\u001b[0m\n",
              "    └── \u001b[1;32m🤖 Agent: \u001b[0m\u001b[32mComparador (jueza, mujer, progresista)\u001b[0m\n",
              "        \u001b[37m    Status: \u001b[0m\u001b[1;32m✅ Completed\u001b[0m\n"
            ]
          },
          "metadata": {},
          "output_type": "display_data"
        },
        {
          "data": {
            "text/html": [
              "<pre style=\"white-space:pre;overflow-x:auto;line-height:normal;font-family:Menlo,'DejaVu Sans Mono',consolas,'Courier New',monospace\"><span style=\"color: #008000; text-decoration-color: #008000\">╭──────────────────────────────────────────────── Task Completion ────────────────────────────────────────────────╮</span>\n",
              "<span style=\"color: #008000; text-decoration-color: #008000\">│</span>                                                                                                                 <span style=\"color: #008000; text-decoration-color: #008000\">│</span>\n",
              "<span style=\"color: #008000; text-decoration-color: #008000\">│</span>  <span style=\"color: #008000; text-decoration-color: #008000; font-weight: bold\">Task Completed</span>                                                                                                 <span style=\"color: #008000; text-decoration-color: #008000\">│</span>\n",
              "<span style=\"color: #008000; text-decoration-color: #008000\">│</span>  <span style=\"color: #c0c0c0; text-decoration-color: #c0c0c0\">Name: </span><span style=\"color: #008000; text-decoration-color: #008000\">c99a72fd-4c98-4329-97d3-1a8f6743caa6</span>                                                                     <span style=\"color: #008000; text-decoration-color: #008000\">│</span>\n",
              "<span style=\"color: #008000; text-decoration-color: #008000\">│</span>  <span style=\"color: #c0c0c0; text-decoration-color: #c0c0c0\">Agent: </span><span style=\"color: #008000; text-decoration-color: #008000\">Comparador (jueza, mujer, progresista)</span>                                                                  <span style=\"color: #008000; text-decoration-color: #008000\">│</span>\n",
              "<span style=\"color: #008000; text-decoration-color: #008000\">│</span>                                                                                                                 <span style=\"color: #008000; text-decoration-color: #008000\">│</span>\n",
              "<span style=\"color: #008000; text-decoration-color: #008000\">│</span>                                                                                                                 <span style=\"color: #008000; text-decoration-color: #008000\">│</span>\n",
              "<span style=\"color: #008000; text-decoration-color: #008000\">╰─────────────────────────────────────────────────────────────────────────────────────────────────────────────────╯</span>\n",
              "</pre>\n"
            ],
            "text/plain": [
              "\u001b[32m╭─\u001b[0m\u001b[32m───────────────────────────────────────────────\u001b[0m\u001b[32m Task Completion \u001b[0m\u001b[32m───────────────────────────────────────────────\u001b[0m\u001b[32m─╮\u001b[0m\n",
              "\u001b[32m│\u001b[0m                                                                                                                 \u001b[32m│\u001b[0m\n",
              "\u001b[32m│\u001b[0m  \u001b[1;32mTask Completed\u001b[0m                                                                                                 \u001b[32m│\u001b[0m\n",
              "\u001b[32m│\u001b[0m  \u001b[37mName: \u001b[0m\u001b[32mc99a72fd-4c98-4329-97d3-1a8f6743caa6\u001b[0m                                                                     \u001b[32m│\u001b[0m\n",
              "\u001b[32m│\u001b[0m  \u001b[37mAgent: \u001b[0m\u001b[32mComparador (jueza, mujer, progresista)\u001b[0m                                                                  \u001b[32m│\u001b[0m\n",
              "\u001b[32m│\u001b[0m                                                                                                                 \u001b[32m│\u001b[0m\n",
              "\u001b[32m│\u001b[0m                                                                                                                 \u001b[32m│\u001b[0m\n",
              "\u001b[32m╰─────────────────────────────────────────────────────────────────────────────────────────────────────────────────╯\u001b[0m\n"
            ]
          },
          "metadata": {},
          "output_type": "display_data"
        },
        {
          "data": {
            "text/html": [
              "<pre style=\"white-space:pre;overflow-x:auto;line-height:normal;font-family:Menlo,'DejaVu Sans Mono',consolas,'Courier New',monospace\">\n",
              "</pre>\n"
            ],
            "text/plain": [
              "\n"
            ]
          },
          "metadata": {},
          "output_type": "display_data"
        },
        {
          "data": {
            "text/html": [
              "<pre style=\"white-space:pre;overflow-x:auto;line-height:normal;font-family:Menlo,'DejaVu Sans Mono',consolas,'Courier New',monospace\"><span style=\"color: #008080; text-decoration-color: #008080; font-weight: bold\">🚀 Crew: crew</span>\n",
              "├── <span style=\"color: #008000; text-decoration-color: #008000; font-weight: bold\">📋 Task: 4933d26a-b148-4454-8a19-71080930986b</span>\n",
              "│   <span style=\"color: #c0c0c0; text-decoration-color: #c0c0c0\">   Assigned to: </span><span style=\"color: #008000; text-decoration-color: #008000\">Analista (jueza, mujer, progresista)</span>\n",
              "│   <span style=\"color: #c0c0c0; text-decoration-color: #c0c0c0\">   Status: </span><span style=\"color: #008000; text-decoration-color: #008000; font-weight: bold\">✅ Completed</span>\n",
              "│   └── <span style=\"color: #008000; text-decoration-color: #008000; font-weight: bold\">🤖 Agent: </span><span style=\"color: #008000; text-decoration-color: #008000\">Analista (jueza, mujer, progresista)</span>\n",
              "│       <span style=\"color: #c0c0c0; text-decoration-color: #c0c0c0\">    Status: </span><span style=\"color: #008000; text-decoration-color: #008000; font-weight: bold\">✅ Completed</span>\n",
              "├── <span style=\"color: #008000; text-decoration-color: #008000; font-weight: bold\">📋 Task: 108e91af-a8b0-42d7-a053-260c97c0254c</span>\n",
              "│   <span style=\"color: #c0c0c0; text-decoration-color: #c0c0c0\">   Assigned to: </span><span style=\"color: #008000; text-decoration-color: #008000\">Critico (jueza, mujer, progresista)</span>\n",
              "│   <span style=\"color: #c0c0c0; text-decoration-color: #c0c0c0\">   Status: </span><span style=\"color: #008000; text-decoration-color: #008000; font-weight: bold\">✅ Completed</span>\n",
              "│   └── <span style=\"color: #008000; text-decoration-color: #008000; font-weight: bold\">🤖 Agent: </span><span style=\"color: #008000; text-decoration-color: #008000\">Critico (jueza, mujer, progresista)</span>\n",
              "│       <span style=\"color: #c0c0c0; text-decoration-color: #c0c0c0\">    Status: </span><span style=\"color: #008000; text-decoration-color: #008000; font-weight: bold\">✅ Completed</span>\n",
              "├── <span style=\"color: #008000; text-decoration-color: #008000; font-weight: bold\">📋 Task: 95b072fa-624d-4826-a3c6-34037c69941a</span>\n",
              "│   <span style=\"color: #c0c0c0; text-decoration-color: #c0c0c0\">   Assigned to: </span><span style=\"color: #008000; text-decoration-color: #008000\">Redactor (jueza, mujer, progresista)</span>\n",
              "│   <span style=\"color: #c0c0c0; text-decoration-color: #c0c0c0\">   Status: </span><span style=\"color: #008000; text-decoration-color: #008000; font-weight: bold\">✅ Completed</span>\n",
              "│   └── <span style=\"color: #008000; text-decoration-color: #008000; font-weight: bold\">🤖 Agent: </span><span style=\"color: #008000; text-decoration-color: #008000\">Redactor (jueza, mujer, progresista)</span>\n",
              "│       <span style=\"color: #c0c0c0; text-decoration-color: #c0c0c0\">    Status: </span><span style=\"color: #008000; text-decoration-color: #008000; font-weight: bold\">✅ Completed</span>\n",
              "├── <span style=\"color: #008000; text-decoration-color: #008000; font-weight: bold\">📋 Task: c99a72fd-4c98-4329-97d3-1a8f6743caa6</span>\n",
              "│   <span style=\"color: #c0c0c0; text-decoration-color: #c0c0c0\">   Assigned to: </span><span style=\"color: #008000; text-decoration-color: #008000\">Comparador (jueza, mujer, progresista)</span>\n",
              "│   <span style=\"color: #c0c0c0; text-decoration-color: #c0c0c0\">   Status: </span><span style=\"color: #008000; text-decoration-color: #008000; font-weight: bold\">✅ Completed</span>\n",
              "│   └── <span style=\"color: #008000; text-decoration-color: #008000; font-weight: bold\">🤖 Agent: </span><span style=\"color: #008000; text-decoration-color: #008000\">Comparador (jueza, mujer, progresista)</span>\n",
              "│       <span style=\"color: #c0c0c0; text-decoration-color: #c0c0c0\">    Status: </span><span style=\"color: #008000; text-decoration-color: #008000; font-weight: bold\">✅ Completed</span>\n",
              "└── <span style=\"color: #808000; text-decoration-color: #808000; font-weight: bold\">📋 Task: 7bec3792-a154-448e-ac01-ea9e71d9cbcc</span>\n",
              "    <span style=\"color: #c0c0c0; text-decoration-color: #c0c0c0\">   Status: </span><span style=\"color: #bfbf7f; text-decoration-color: #bfbf7f\">Executing Task...</span>\n",
              "</pre>\n"
            ],
            "text/plain": [
              "\u001b[1;36m🚀 Crew: \u001b[0m\u001b[1;36mcrew\u001b[0m\n",
              "├── \u001b[1;32m📋 Task: 4933d26a-b148-4454-8a19-71080930986b\u001b[0m\n",
              "│   \u001b[37m   Assigned to: \u001b[0m\u001b[32mAnalista (jueza, mujer, progresista)\u001b[0m\n",
              "│   \u001b[37m   Status: \u001b[0m\u001b[1;32m✅ Completed\u001b[0m\n",
              "│   └── \u001b[1;32m🤖 Agent: \u001b[0m\u001b[32mAnalista (jueza, mujer, progresista)\u001b[0m\n",
              "│       \u001b[37m    Status: \u001b[0m\u001b[1;32m✅ Completed\u001b[0m\n",
              "├── \u001b[1;32m📋 Task: 108e91af-a8b0-42d7-a053-260c97c0254c\u001b[0m\n",
              "│   \u001b[37m   Assigned to: \u001b[0m\u001b[32mCritico (jueza, mujer, progresista)\u001b[0m\n",
              "│   \u001b[37m   Status: \u001b[0m\u001b[1;32m✅ Completed\u001b[0m\n",
              "│   └── \u001b[1;32m🤖 Agent: \u001b[0m\u001b[32mCritico (jueza, mujer, progresista)\u001b[0m\n",
              "│       \u001b[37m    Status: \u001b[0m\u001b[1;32m✅ Completed\u001b[0m\n",
              "├── \u001b[1;32m📋 Task: 95b072fa-624d-4826-a3c6-34037c69941a\u001b[0m\n",
              "│   \u001b[37m   Assigned to: \u001b[0m\u001b[32mRedactor (jueza, mujer, progresista)\u001b[0m\n",
              "│   \u001b[37m   Status: \u001b[0m\u001b[1;32m✅ Completed\u001b[0m\n",
              "│   └── \u001b[1;32m🤖 Agent: \u001b[0m\u001b[32mRedactor (jueza, mujer, progresista)\u001b[0m\n",
              "│       \u001b[37m    Status: \u001b[0m\u001b[1;32m✅ Completed\u001b[0m\n",
              "├── \u001b[1;32m📋 Task: c99a72fd-4c98-4329-97d3-1a8f6743caa6\u001b[0m\n",
              "│   \u001b[37m   Assigned to: \u001b[0m\u001b[32mComparador (jueza, mujer, progresista)\u001b[0m\n",
              "│   \u001b[37m   Status: \u001b[0m\u001b[1;32m✅ Completed\u001b[0m\n",
              "│   └── \u001b[1;32m🤖 Agent: \u001b[0m\u001b[32mComparador (jueza, mujer, progresista)\u001b[0m\n",
              "│       \u001b[37m    Status: \u001b[0m\u001b[1;32m✅ Completed\u001b[0m\n",
              "└── \u001b[1;33m📋 Task: 7bec3792-a154-448e-ac01-ea9e71d9cbcc\u001b[0m\n",
              "    \u001b[37m   Status: \u001b[0m\u001b[2;33mExecuting Task...\u001b[0m\n"
            ]
          },
          "metadata": {},
          "output_type": "display_data"
        },
        {
          "data": {
            "text/html": [
              "<pre style=\"white-space:pre;overflow-x:auto;line-height:normal;font-family:Menlo,'DejaVu Sans Mono',consolas,'Courier New',monospace\">\n",
              "</pre>\n"
            ],
            "text/plain": [
              "\n"
            ]
          },
          "metadata": {},
          "output_type": "display_data"
        },
        {
          "data": {
            "text/html": [
              "<pre style=\"white-space:pre;overflow-x:auto;line-height:normal;font-family:Menlo,'DejaVu Sans Mono',consolas,'Courier New',monospace\"><span style=\"color: #008080; text-decoration-color: #008080; font-weight: bold\">🚀 Crew: crew</span>\n",
              "├── <span style=\"color: #008000; text-decoration-color: #008000; font-weight: bold\">📋 Task: 4933d26a-b148-4454-8a19-71080930986b</span>\n",
              "│   <span style=\"color: #c0c0c0; text-decoration-color: #c0c0c0\">   Assigned to: </span><span style=\"color: #008000; text-decoration-color: #008000\">Analista (jueza, mujer, progresista)</span>\n",
              "│   <span style=\"color: #c0c0c0; text-decoration-color: #c0c0c0\">   Status: </span><span style=\"color: #008000; text-decoration-color: #008000; font-weight: bold\">✅ Completed</span>\n",
              "│   └── <span style=\"color: #008000; text-decoration-color: #008000; font-weight: bold\">🤖 Agent: </span><span style=\"color: #008000; text-decoration-color: #008000\">Analista (jueza, mujer, progresista)</span>\n",
              "│       <span style=\"color: #c0c0c0; text-decoration-color: #c0c0c0\">    Status: </span><span style=\"color: #008000; text-decoration-color: #008000; font-weight: bold\">✅ Completed</span>\n",
              "├── <span style=\"color: #008000; text-decoration-color: #008000; font-weight: bold\">📋 Task: 108e91af-a8b0-42d7-a053-260c97c0254c</span>\n",
              "│   <span style=\"color: #c0c0c0; text-decoration-color: #c0c0c0\">   Assigned to: </span><span style=\"color: #008000; text-decoration-color: #008000\">Critico (jueza, mujer, progresista)</span>\n",
              "│   <span style=\"color: #c0c0c0; text-decoration-color: #c0c0c0\">   Status: </span><span style=\"color: #008000; text-decoration-color: #008000; font-weight: bold\">✅ Completed</span>\n",
              "│   └── <span style=\"color: #008000; text-decoration-color: #008000; font-weight: bold\">🤖 Agent: </span><span style=\"color: #008000; text-decoration-color: #008000\">Critico (jueza, mujer, progresista)</span>\n",
              "│       <span style=\"color: #c0c0c0; text-decoration-color: #c0c0c0\">    Status: </span><span style=\"color: #008000; text-decoration-color: #008000; font-weight: bold\">✅ Completed</span>\n",
              "├── <span style=\"color: #008000; text-decoration-color: #008000; font-weight: bold\">📋 Task: 95b072fa-624d-4826-a3c6-34037c69941a</span>\n",
              "│   <span style=\"color: #c0c0c0; text-decoration-color: #c0c0c0\">   Assigned to: </span><span style=\"color: #008000; text-decoration-color: #008000\">Redactor (jueza, mujer, progresista)</span>\n",
              "│   <span style=\"color: #c0c0c0; text-decoration-color: #c0c0c0\">   Status: </span><span style=\"color: #008000; text-decoration-color: #008000; font-weight: bold\">✅ Completed</span>\n",
              "│   └── <span style=\"color: #008000; text-decoration-color: #008000; font-weight: bold\">🤖 Agent: </span><span style=\"color: #008000; text-decoration-color: #008000\">Redactor (jueza, mujer, progresista)</span>\n",
              "│       <span style=\"color: #c0c0c0; text-decoration-color: #c0c0c0\">    Status: </span><span style=\"color: #008000; text-decoration-color: #008000; font-weight: bold\">✅ Completed</span>\n",
              "├── <span style=\"color: #008000; text-decoration-color: #008000; font-weight: bold\">📋 Task: c99a72fd-4c98-4329-97d3-1a8f6743caa6</span>\n",
              "│   <span style=\"color: #c0c0c0; text-decoration-color: #c0c0c0\">   Assigned to: </span><span style=\"color: #008000; text-decoration-color: #008000\">Comparador (jueza, mujer, progresista)</span>\n",
              "│   <span style=\"color: #c0c0c0; text-decoration-color: #c0c0c0\">   Status: </span><span style=\"color: #008000; text-decoration-color: #008000; font-weight: bold\">✅ Completed</span>\n",
              "│   └── <span style=\"color: #008000; text-decoration-color: #008000; font-weight: bold\">🤖 Agent: </span><span style=\"color: #008000; text-decoration-color: #008000\">Comparador (jueza, mujer, progresista)</span>\n",
              "│       <span style=\"color: #c0c0c0; text-decoration-color: #c0c0c0\">    Status: </span><span style=\"color: #008000; text-decoration-color: #008000; font-weight: bold\">✅ Completed</span>\n",
              "└── <span style=\"color: #808000; text-decoration-color: #808000; font-weight: bold\">📋 Task: 7bec3792-a154-448e-ac01-ea9e71d9cbcc</span>\n",
              "    <span style=\"color: #c0c0c0; text-decoration-color: #c0c0c0\">   Status: </span><span style=\"color: #bfbf7f; text-decoration-color: #bfbf7f\">Executing Task...</span>\n",
              "    └── <span style=\"color: #008000; text-decoration-color: #008000; font-weight: bold\">🤖 Agent: </span><span style=\"color: #008000; text-decoration-color: #008000\">Estilizador (asistente técnico neutral)</span>\n",
              "        <span style=\"color: #c0c0c0; text-decoration-color: #c0c0c0\">    Status: </span><span style=\"color: #008000; text-decoration-color: #008000; font-weight: bold\">In Progress</span>\n",
              "</pre>\n"
            ],
            "text/plain": [
              "\u001b[1;36m🚀 Crew: \u001b[0m\u001b[1;36mcrew\u001b[0m\n",
              "├── \u001b[1;32m📋 Task: 4933d26a-b148-4454-8a19-71080930986b\u001b[0m\n",
              "│   \u001b[37m   Assigned to: \u001b[0m\u001b[32mAnalista (jueza, mujer, progresista)\u001b[0m\n",
              "│   \u001b[37m   Status: \u001b[0m\u001b[1;32m✅ Completed\u001b[0m\n",
              "│   └── \u001b[1;32m🤖 Agent: \u001b[0m\u001b[32mAnalista (jueza, mujer, progresista)\u001b[0m\n",
              "│       \u001b[37m    Status: \u001b[0m\u001b[1;32m✅ Completed\u001b[0m\n",
              "├── \u001b[1;32m📋 Task: 108e91af-a8b0-42d7-a053-260c97c0254c\u001b[0m\n",
              "│   \u001b[37m   Assigned to: \u001b[0m\u001b[32mCritico (jueza, mujer, progresista)\u001b[0m\n",
              "│   \u001b[37m   Status: \u001b[0m\u001b[1;32m✅ Completed\u001b[0m\n",
              "│   └── \u001b[1;32m🤖 Agent: \u001b[0m\u001b[32mCritico (jueza, mujer, progresista)\u001b[0m\n",
              "│       \u001b[37m    Status: \u001b[0m\u001b[1;32m✅ Completed\u001b[0m\n",
              "├── \u001b[1;32m📋 Task: 95b072fa-624d-4826-a3c6-34037c69941a\u001b[0m\n",
              "│   \u001b[37m   Assigned to: \u001b[0m\u001b[32mRedactor (jueza, mujer, progresista)\u001b[0m\n",
              "│   \u001b[37m   Status: \u001b[0m\u001b[1;32m✅ Completed\u001b[0m\n",
              "│   └── \u001b[1;32m🤖 Agent: \u001b[0m\u001b[32mRedactor (jueza, mujer, progresista)\u001b[0m\n",
              "│       \u001b[37m    Status: \u001b[0m\u001b[1;32m✅ Completed\u001b[0m\n",
              "├── \u001b[1;32m📋 Task: c99a72fd-4c98-4329-97d3-1a8f6743caa6\u001b[0m\n",
              "│   \u001b[37m   Assigned to: \u001b[0m\u001b[32mComparador (jueza, mujer, progresista)\u001b[0m\n",
              "│   \u001b[37m   Status: \u001b[0m\u001b[1;32m✅ Completed\u001b[0m\n",
              "│   └── \u001b[1;32m🤖 Agent: \u001b[0m\u001b[32mComparador (jueza, mujer, progresista)\u001b[0m\n",
              "│       \u001b[37m    Status: \u001b[0m\u001b[1;32m✅ Completed\u001b[0m\n",
              "└── \u001b[1;33m📋 Task: 7bec3792-a154-448e-ac01-ea9e71d9cbcc\u001b[0m\n",
              "    \u001b[37m   Status: \u001b[0m\u001b[2;33mExecuting Task...\u001b[0m\n",
              "    └── \u001b[1;32m🤖 Agent: \u001b[0m\u001b[32mEstilizador (asistente técnico neutral)\u001b[0m\n",
              "        \u001b[37m    Status: \u001b[0m\u001b[1;32mIn Progress\u001b[0m\n"
            ]
          },
          "metadata": {},
          "output_type": "display_data"
        },
        {
          "data": {
            "text/html": [
              "<pre style=\"white-space:pre;overflow-x:auto;line-height:normal;font-family:Menlo,'DejaVu Sans Mono',consolas,'Courier New',monospace\">\n",
              "</pre>\n"
            ],
            "text/plain": [
              "\n"
            ]
          },
          "metadata": {},
          "output_type": "display_data"
        },
        {
          "name": "stdout",
          "output_type": "stream",
          "text": [
            "\u001b[1m\u001b[95m# Agent:\u001b[00m \u001b[1m\u001b[92mEstilizador (asistente técnico neutral)\u001b[00m\n",
            "\u001b[95m## Task:\u001b[00m \u001b[92mToma todos los análisis anteriores y preséntalos en un informe en formato Markdown con títulos, listas, separadores y claridad visual.\u001b[00m\n"
          ]
        },
        {
          "data": {
            "text/html": [
              "<pre style=\"white-space:pre;overflow-x:auto;line-height:normal;font-family:Menlo,'DejaVu Sans Mono',consolas,'Courier New',monospace\"><span style=\"color: #008080; text-decoration-color: #008080; font-weight: bold\">🚀 Crew: crew</span>\n",
              "├── <span style=\"color: #008000; text-decoration-color: #008000; font-weight: bold\">📋 Task: 4933d26a-b148-4454-8a19-71080930986b</span>\n",
              "│   <span style=\"color: #c0c0c0; text-decoration-color: #c0c0c0\">   Assigned to: </span><span style=\"color: #008000; text-decoration-color: #008000\">Analista (jueza, mujer, progresista)</span>\n",
              "│   <span style=\"color: #c0c0c0; text-decoration-color: #c0c0c0\">   Status: </span><span style=\"color: #008000; text-decoration-color: #008000; font-weight: bold\">✅ Completed</span>\n",
              "│   └── <span style=\"color: #008000; text-decoration-color: #008000; font-weight: bold\">🤖 Agent: </span><span style=\"color: #008000; text-decoration-color: #008000\">Analista (jueza, mujer, progresista)</span>\n",
              "│       <span style=\"color: #c0c0c0; text-decoration-color: #c0c0c0\">    Status: </span><span style=\"color: #008000; text-decoration-color: #008000; font-weight: bold\">✅ Completed</span>\n",
              "├── <span style=\"color: #008000; text-decoration-color: #008000; font-weight: bold\">📋 Task: 108e91af-a8b0-42d7-a053-260c97c0254c</span>\n",
              "│   <span style=\"color: #c0c0c0; text-decoration-color: #c0c0c0\">   Assigned to: </span><span style=\"color: #008000; text-decoration-color: #008000\">Critico (jueza, mujer, progresista)</span>\n",
              "│   <span style=\"color: #c0c0c0; text-decoration-color: #c0c0c0\">   Status: </span><span style=\"color: #008000; text-decoration-color: #008000; font-weight: bold\">✅ Completed</span>\n",
              "│   └── <span style=\"color: #008000; text-decoration-color: #008000; font-weight: bold\">🤖 Agent: </span><span style=\"color: #008000; text-decoration-color: #008000\">Critico (jueza, mujer, progresista)</span>\n",
              "│       <span style=\"color: #c0c0c0; text-decoration-color: #c0c0c0\">    Status: </span><span style=\"color: #008000; text-decoration-color: #008000; font-weight: bold\">✅ Completed</span>\n",
              "├── <span style=\"color: #008000; text-decoration-color: #008000; font-weight: bold\">📋 Task: 95b072fa-624d-4826-a3c6-34037c69941a</span>\n",
              "│   <span style=\"color: #c0c0c0; text-decoration-color: #c0c0c0\">   Assigned to: </span><span style=\"color: #008000; text-decoration-color: #008000\">Redactor (jueza, mujer, progresista)</span>\n",
              "│   <span style=\"color: #c0c0c0; text-decoration-color: #c0c0c0\">   Status: </span><span style=\"color: #008000; text-decoration-color: #008000; font-weight: bold\">✅ Completed</span>\n",
              "│   └── <span style=\"color: #008000; text-decoration-color: #008000; font-weight: bold\">🤖 Agent: </span><span style=\"color: #008000; text-decoration-color: #008000\">Redactor (jueza, mujer, progresista)</span>\n",
              "│       <span style=\"color: #c0c0c0; text-decoration-color: #c0c0c0\">    Status: </span><span style=\"color: #008000; text-decoration-color: #008000; font-weight: bold\">✅ Completed</span>\n",
              "├── <span style=\"color: #008000; text-decoration-color: #008000; font-weight: bold\">📋 Task: c99a72fd-4c98-4329-97d3-1a8f6743caa6</span>\n",
              "│   <span style=\"color: #c0c0c0; text-decoration-color: #c0c0c0\">   Assigned to: </span><span style=\"color: #008000; text-decoration-color: #008000\">Comparador (jueza, mujer, progresista)</span>\n",
              "│   <span style=\"color: #c0c0c0; text-decoration-color: #c0c0c0\">   Status: </span><span style=\"color: #008000; text-decoration-color: #008000; font-weight: bold\">✅ Completed</span>\n",
              "│   └── <span style=\"color: #008000; text-decoration-color: #008000; font-weight: bold\">🤖 Agent: </span><span style=\"color: #008000; text-decoration-color: #008000\">Comparador (jueza, mujer, progresista)</span>\n",
              "│       <span style=\"color: #c0c0c0; text-decoration-color: #c0c0c0\">    Status: </span><span style=\"color: #008000; text-decoration-color: #008000; font-weight: bold\">✅ Completed</span>\n",
              "└── <span style=\"color: #808000; text-decoration-color: #808000; font-weight: bold\">📋 Task: 7bec3792-a154-448e-ac01-ea9e71d9cbcc</span>\n",
              "    <span style=\"color: #c0c0c0; text-decoration-color: #c0c0c0\">   Status: </span><span style=\"color: #bfbf7f; text-decoration-color: #bfbf7f\">Executing Task...</span>\n",
              "    └── <span style=\"color: #008000; text-decoration-color: #008000; font-weight: bold\">🤖 Agent: </span><span style=\"color: #008000; text-decoration-color: #008000\">Estilizador (asistente técnico neutral)</span>\n",
              "        <span style=\"color: #c0c0c0; text-decoration-color: #c0c0c0\">    Status: </span><span style=\"color: #008000; text-decoration-color: #008000; font-weight: bold\">In Progress</span>\n",
              "        └── <span style=\"color: #000080; text-decoration-color: #000080; font-weight: bold\">🧠 </span><span style=\"color: #000080; text-decoration-color: #000080\">Thinking...</span>\n",
              "</pre>\n"
            ],
            "text/plain": [
              "\u001b[1;36m🚀 Crew: \u001b[0m\u001b[1;36mcrew\u001b[0m\n",
              "├── \u001b[1;32m📋 Task: 4933d26a-b148-4454-8a19-71080930986b\u001b[0m\n",
              "│   \u001b[37m   Assigned to: \u001b[0m\u001b[32mAnalista (jueza, mujer, progresista)\u001b[0m\n",
              "│   \u001b[37m   Status: \u001b[0m\u001b[1;32m✅ Completed\u001b[0m\n",
              "│   └── \u001b[1;32m🤖 Agent: \u001b[0m\u001b[32mAnalista (jueza, mujer, progresista)\u001b[0m\n",
              "│       \u001b[37m    Status: \u001b[0m\u001b[1;32m✅ Completed\u001b[0m\n",
              "├── \u001b[1;32m📋 Task: 108e91af-a8b0-42d7-a053-260c97c0254c\u001b[0m\n",
              "│   \u001b[37m   Assigned to: \u001b[0m\u001b[32mCritico (jueza, mujer, progresista)\u001b[0m\n",
              "│   \u001b[37m   Status: \u001b[0m\u001b[1;32m✅ Completed\u001b[0m\n",
              "│   └── \u001b[1;32m🤖 Agent: \u001b[0m\u001b[32mCritico (jueza, mujer, progresista)\u001b[0m\n",
              "│       \u001b[37m    Status: \u001b[0m\u001b[1;32m✅ Completed\u001b[0m\n",
              "├── \u001b[1;32m📋 Task: 95b072fa-624d-4826-a3c6-34037c69941a\u001b[0m\n",
              "│   \u001b[37m   Assigned to: \u001b[0m\u001b[32mRedactor (jueza, mujer, progresista)\u001b[0m\n",
              "│   \u001b[37m   Status: \u001b[0m\u001b[1;32m✅ Completed\u001b[0m\n",
              "│   └── \u001b[1;32m🤖 Agent: \u001b[0m\u001b[32mRedactor (jueza, mujer, progresista)\u001b[0m\n",
              "│       \u001b[37m    Status: \u001b[0m\u001b[1;32m✅ Completed\u001b[0m\n",
              "├── \u001b[1;32m📋 Task: c99a72fd-4c98-4329-97d3-1a8f6743caa6\u001b[0m\n",
              "│   \u001b[37m   Assigned to: \u001b[0m\u001b[32mComparador (jueza, mujer, progresista)\u001b[0m\n",
              "│   \u001b[37m   Status: \u001b[0m\u001b[1;32m✅ Completed\u001b[0m\n",
              "│   └── \u001b[1;32m🤖 Agent: \u001b[0m\u001b[32mComparador (jueza, mujer, progresista)\u001b[0m\n",
              "│       \u001b[37m    Status: \u001b[0m\u001b[1;32m✅ Completed\u001b[0m\n",
              "└── \u001b[1;33m📋 Task: 7bec3792-a154-448e-ac01-ea9e71d9cbcc\u001b[0m\n",
              "    \u001b[37m   Status: \u001b[0m\u001b[2;33mExecuting Task...\u001b[0m\n",
              "    └── \u001b[1;32m🤖 Agent: \u001b[0m\u001b[32mEstilizador (asistente técnico neutral)\u001b[0m\n",
              "        \u001b[37m    Status: \u001b[0m\u001b[1;32mIn Progress\u001b[0m\n",
              "        └── \u001b[1;34m🧠 \u001b[0m\u001b[34mThinking...\u001b[0m\n"
            ]
          },
          "metadata": {},
          "output_type": "display_data"
        },
        {
          "data": {
            "text/html": [
              "<pre style=\"white-space:pre;overflow-x:auto;line-height:normal;font-family:Menlo,'DejaVu Sans Mono',consolas,'Courier New',monospace\">\n",
              "</pre>\n"
            ],
            "text/plain": [
              "\n"
            ]
          },
          "metadata": {},
          "output_type": "display_data"
        },
        {
          "data": {
            "text/html": [
              "<pre style=\"white-space:pre;overflow-x:auto;line-height:normal;font-family:Menlo,'DejaVu Sans Mono',consolas,'Courier New',monospace\"><span style=\"color: #008080; text-decoration-color: #008080; font-weight: bold\">🚀 Crew: crew</span>\n",
              "├── <span style=\"color: #008000; text-decoration-color: #008000; font-weight: bold\">📋 Task: 4933d26a-b148-4454-8a19-71080930986b</span>\n",
              "│   <span style=\"color: #c0c0c0; text-decoration-color: #c0c0c0\">   Assigned to: </span><span style=\"color: #008000; text-decoration-color: #008000\">Analista (jueza, mujer, progresista)</span>\n",
              "│   <span style=\"color: #c0c0c0; text-decoration-color: #c0c0c0\">   Status: </span><span style=\"color: #008000; text-decoration-color: #008000; font-weight: bold\">✅ Completed</span>\n",
              "│   └── <span style=\"color: #008000; text-decoration-color: #008000; font-weight: bold\">🤖 Agent: </span><span style=\"color: #008000; text-decoration-color: #008000\">Analista (jueza, mujer, progresista)</span>\n",
              "│       <span style=\"color: #c0c0c0; text-decoration-color: #c0c0c0\">    Status: </span><span style=\"color: #008000; text-decoration-color: #008000; font-weight: bold\">✅ Completed</span>\n",
              "├── <span style=\"color: #008000; text-decoration-color: #008000; font-weight: bold\">📋 Task: 108e91af-a8b0-42d7-a053-260c97c0254c</span>\n",
              "│   <span style=\"color: #c0c0c0; text-decoration-color: #c0c0c0\">   Assigned to: </span><span style=\"color: #008000; text-decoration-color: #008000\">Critico (jueza, mujer, progresista)</span>\n",
              "│   <span style=\"color: #c0c0c0; text-decoration-color: #c0c0c0\">   Status: </span><span style=\"color: #008000; text-decoration-color: #008000; font-weight: bold\">✅ Completed</span>\n",
              "│   └── <span style=\"color: #008000; text-decoration-color: #008000; font-weight: bold\">🤖 Agent: </span><span style=\"color: #008000; text-decoration-color: #008000\">Critico (jueza, mujer, progresista)</span>\n",
              "│       <span style=\"color: #c0c0c0; text-decoration-color: #c0c0c0\">    Status: </span><span style=\"color: #008000; text-decoration-color: #008000; font-weight: bold\">✅ Completed</span>\n",
              "├── <span style=\"color: #008000; text-decoration-color: #008000; font-weight: bold\">📋 Task: 95b072fa-624d-4826-a3c6-34037c69941a</span>\n",
              "│   <span style=\"color: #c0c0c0; text-decoration-color: #c0c0c0\">   Assigned to: </span><span style=\"color: #008000; text-decoration-color: #008000\">Redactor (jueza, mujer, progresista)</span>\n",
              "│   <span style=\"color: #c0c0c0; text-decoration-color: #c0c0c0\">   Status: </span><span style=\"color: #008000; text-decoration-color: #008000; font-weight: bold\">✅ Completed</span>\n",
              "│   └── <span style=\"color: #008000; text-decoration-color: #008000; font-weight: bold\">🤖 Agent: </span><span style=\"color: #008000; text-decoration-color: #008000\">Redactor (jueza, mujer, progresista)</span>\n",
              "│       <span style=\"color: #c0c0c0; text-decoration-color: #c0c0c0\">    Status: </span><span style=\"color: #008000; text-decoration-color: #008000; font-weight: bold\">✅ Completed</span>\n",
              "├── <span style=\"color: #008000; text-decoration-color: #008000; font-weight: bold\">📋 Task: c99a72fd-4c98-4329-97d3-1a8f6743caa6</span>\n",
              "│   <span style=\"color: #c0c0c0; text-decoration-color: #c0c0c0\">   Assigned to: </span><span style=\"color: #008000; text-decoration-color: #008000\">Comparador (jueza, mujer, progresista)</span>\n",
              "│   <span style=\"color: #c0c0c0; text-decoration-color: #c0c0c0\">   Status: </span><span style=\"color: #008000; text-decoration-color: #008000; font-weight: bold\">✅ Completed</span>\n",
              "│   └── <span style=\"color: #008000; text-decoration-color: #008000; font-weight: bold\">🤖 Agent: </span><span style=\"color: #008000; text-decoration-color: #008000\">Comparador (jueza, mujer, progresista)</span>\n",
              "│       <span style=\"color: #c0c0c0; text-decoration-color: #c0c0c0\">    Status: </span><span style=\"color: #008000; text-decoration-color: #008000; font-weight: bold\">✅ Completed</span>\n",
              "└── <span style=\"color: #808000; text-decoration-color: #808000; font-weight: bold\">📋 Task: 7bec3792-a154-448e-ac01-ea9e71d9cbcc</span>\n",
              "    <span style=\"color: #c0c0c0; text-decoration-color: #c0c0c0\">   Status: </span><span style=\"color: #bfbf7f; text-decoration-color: #bfbf7f\">Executing Task...</span>\n",
              "    └── <span style=\"color: #008000; text-decoration-color: #008000; font-weight: bold\">🤖 Agent: </span><span style=\"color: #008000; text-decoration-color: #008000\">Estilizador (asistente técnico neutral)</span>\n",
              "        <span style=\"color: #c0c0c0; text-decoration-color: #c0c0c0\">    Status: </span><span style=\"color: #008000; text-decoration-color: #008000; font-weight: bold\">In Progress</span>\n",
              "</pre>\n"
            ],
            "text/plain": [
              "\u001b[1;36m🚀 Crew: \u001b[0m\u001b[1;36mcrew\u001b[0m\n",
              "├── \u001b[1;32m📋 Task: 4933d26a-b148-4454-8a19-71080930986b\u001b[0m\n",
              "│   \u001b[37m   Assigned to: \u001b[0m\u001b[32mAnalista (jueza, mujer, progresista)\u001b[0m\n",
              "│   \u001b[37m   Status: \u001b[0m\u001b[1;32m✅ Completed\u001b[0m\n",
              "│   └── \u001b[1;32m🤖 Agent: \u001b[0m\u001b[32mAnalista (jueza, mujer, progresista)\u001b[0m\n",
              "│       \u001b[37m    Status: \u001b[0m\u001b[1;32m✅ Completed\u001b[0m\n",
              "├── \u001b[1;32m📋 Task: 108e91af-a8b0-42d7-a053-260c97c0254c\u001b[0m\n",
              "│   \u001b[37m   Assigned to: \u001b[0m\u001b[32mCritico (jueza, mujer, progresista)\u001b[0m\n",
              "│   \u001b[37m   Status: \u001b[0m\u001b[1;32m✅ Completed\u001b[0m\n",
              "│   └── \u001b[1;32m🤖 Agent: \u001b[0m\u001b[32mCritico (jueza, mujer, progresista)\u001b[0m\n",
              "│       \u001b[37m    Status: \u001b[0m\u001b[1;32m✅ Completed\u001b[0m\n",
              "├── \u001b[1;32m📋 Task: 95b072fa-624d-4826-a3c6-34037c69941a\u001b[0m\n",
              "│   \u001b[37m   Assigned to: \u001b[0m\u001b[32mRedactor (jueza, mujer, progresista)\u001b[0m\n",
              "│   \u001b[37m   Status: \u001b[0m\u001b[1;32m✅ Completed\u001b[0m\n",
              "│   └── \u001b[1;32m🤖 Agent: \u001b[0m\u001b[32mRedactor (jueza, mujer, progresista)\u001b[0m\n",
              "│       \u001b[37m    Status: \u001b[0m\u001b[1;32m✅ Completed\u001b[0m\n",
              "├── \u001b[1;32m📋 Task: c99a72fd-4c98-4329-97d3-1a8f6743caa6\u001b[0m\n",
              "│   \u001b[37m   Assigned to: \u001b[0m\u001b[32mComparador (jueza, mujer, progresista)\u001b[0m\n",
              "│   \u001b[37m   Status: \u001b[0m\u001b[1;32m✅ Completed\u001b[0m\n",
              "│   └── \u001b[1;32m🤖 Agent: \u001b[0m\u001b[32mComparador (jueza, mujer, progresista)\u001b[0m\n",
              "│       \u001b[37m    Status: \u001b[0m\u001b[1;32m✅ Completed\u001b[0m\n",
              "└── \u001b[1;33m📋 Task: 7bec3792-a154-448e-ac01-ea9e71d9cbcc\u001b[0m\n",
              "    \u001b[37m   Status: \u001b[0m\u001b[2;33mExecuting Task...\u001b[0m\n",
              "    └── \u001b[1;32m🤖 Agent: \u001b[0m\u001b[32mEstilizador (asistente técnico neutral)\u001b[0m\n",
              "        \u001b[37m    Status: \u001b[0m\u001b[1;32mIn Progress\u001b[0m\n"
            ]
          },
          "metadata": {},
          "output_type": "display_data"
        },
        {
          "data": {
            "text/html": [
              "<pre style=\"white-space:pre;overflow-x:auto;line-height:normal;font-family:Menlo,'DejaVu Sans Mono',consolas,'Courier New',monospace\">\n",
              "</pre>\n"
            ],
            "text/plain": [
              "\n"
            ]
          },
          "metadata": {},
          "output_type": "display_data"
        },
        {
          "name": "stdout",
          "output_type": "stream",
          "text": [
            "\n",
            "\n",
            "\u001b[1m\u001b[95m# Agent:\u001b[00m \u001b[1m\u001b[92mEstilizador (asistente técnico neutral)\u001b[00m\n",
            "\u001b[95m## Final Answer:\u001b[00m \u001b[92m\n",
            "# Informe sobre la Maternidad y el Feminismo\n",
            "\n",
            "## 1. Frases que refuerzan o reproducen estereotipos o sesgos de género\n",
            "\n",
            "- **\"¿Quién iba, si no, a querer dedicar su tiempo a un asunto tan insignificante?\"**  \n",
            "  Justificación: Esta frase sugiere que la maternidad es un tema trivial y que solo se le puede dar importancia si se tiene una experiencia personal. Refuerza la idea de que el cuidado de los hijos es un asunto menor en comparación con otros temas.\n",
            "\n",
            "- **\"La maternidad ha sido utilizada por el patriarcado como un instrumento de control del cuerpo de las mujeres.\"**  \n",
            "  Justificación: Aunque la frase critica el uso patriarcal de la maternidad, también perpetúa la idea de que la maternidad es inherentemente negativa y que las mujeres son víctimas pasivas de un sistema opresor, sin reconocer la agencia de las mujeres en su experiencia materna.\n",
            "\n",
            "- **\"Ante ese modelo de feminidad abnegada cuyo fin último es ser madre.\"**  \n",
            "  Justificación: Esta frase refuerza el estereotipo de que la maternidad es el único propósito de las mujeres, sugiriendo que ser madre es una obligación y no una elección personal.\n",
            "\n",
            "- **\"La lactancia materna permite la autonomía de la mujer, porque no necesita gastar dinero.\"**  \n",
            "  Justificación: Esta afirmación puede implicar que las mujeres que no pueden amamantar o que eligen no hacerlo son menos autónomas, perpetuando la idea de que la maternidad y la crianza son la única vía hacia la libertad y la independencia.\n",
            "\n",
            "- **\"Dar el biberón per se no te hace más libre como mujer, ni es un mecanismo de igualdad.\"**  \n",
            "  Justificación: Aunque la frase critica la idea de que el biberón es sinónimo de libertad, también puede implicar que las mujeres que optan por esta opción están eligiendo un camino menos feminista, lo que puede ser visto como un juicio sobre sus decisiones.\n",
            "\n",
            "---\n",
            "\n",
            "## 2. Texto Original Anotado\n",
            "\n",
            "Esther Vivas (Sabadell, 1975) afirma que \"la literatura de la maternidad parte a menudo de la propia experiencia\".  \n",
            "**¿Quién iba, si no, a querer dedicar su tiempo a un asunto tan insignificante?**  \n",
            "El caso de esta periodista, que se había dedicado previamente al estudio del sistema agroalimentario y de los movimientos sociales, no es, dice, una excepción. A partir de su embarazo y de las primeras búsquedas de información sobre cómo se podría desarrollar el parto, comenzó a preguntarse por qué no le habían hablado de todo aquello. Por qué todo el mundo aceptaba esa violencia obstétrica. *Mamá desobediente* (editado por Capitán Swing en castellano y en catalán por Ara Llibres, bajo el título *Mama desobedient*) es el resultado de aquella primera \"indignación\", pero no se limita a ella. En el ensayo, que lleva por subtítulo *Una mirada feminista a la maternidad*, Vivas se ocupa primero de los mitos existentes en torno a ella, para centrarse luego en dos aspectos concretos de esta experiencia que generan un debate encendido: primero, la atención al parto; después, la lactancia.\n",
            "\n",
            "Y no es casualidad que cuestiones aparentemente privadas sobre si una mujer le da el pecho o no a su hijo generen polémica. La autora no solo defiende que la maternidad es un asunto público, imbricado en la economía y la política, sino que la sitúa en el centro del feminismo de clase y el anticapitalismo. Si no se la ha considerado así, defiende en el libro, es porque existen intereses para ello.\n",
            "\n",
            "### Preguntas y Respuestas\n",
            "\n",
            "**P. ¿Por qué ser madre y feminista supone ser desobediente?**  \n",
            "**R.** Ser madre implica desobedecer porque vivimos en un sistema que es hostil a la maternidad y a la crianza, y si eres feminista y de repente eres madre, esa maternidad te reafirma en tus valores feministas.\n",
            "\n",
            "**P. ¿Pensar la maternidad desde el feminismo supone repensar la idea que tenemos de la incorporación de la mujer al mundo laboral?**  \n",
            "**R.** Sí. En general, desde un cierto feminismo, a la hora de plantear la igualdad en el mercado de trabajo, se ha señalado la maternidad, el cuidado y la crianza como una carga.\n",
            "\n",
            "**P. ¿Cómo afecta esto a la manera en que el movimiento feminista se ha planteado la narrativa en torno a la igualdad en el trabajo?**  \n",
            "**R.** Aquí también hemos visto distintos discursos y estrategias. Por un lado hay un cierto feminismo liberal que básicamente reivindica la igualdad para un sector de mujeres de clase media blanca.\n",
            "\n",
            "**P. ¿Qué modelo, de los expuestos en el libro, considera más conveniente?**  \n",
            "**R.** Se tendrían que ampliar ambos permisos con un periodo de tiempo muy superior al actual, como de hecho hacen muchos países nórdicos.\n",
            "\n",
            "---\n",
            "\n",
            "## 3. Reflexiones Finales\n",
            "\n",
            "Los sesgos de género han permeado profundamente en la percepción social de la maternidad y el rol de la mujer, afectando no solo cómo se ve a las mujeres en contextos profesionales, sino también cómo se valoran sus experiencias y decisiones personales. Frases como \"¿Quién iba, si no, a querer dedicar su tiempo a un asunto tan insignificante?\" subrayan un desprecio hacia la maternidad, sugiriendo que el cuidado de los hijos es trivial y que solo es relevante si se vive de manera personal.\n",
            "\n",
            "Además, la afirmación de que \"la maternidad ha sido utilizada por el patriarcado como un instrumento de control del cuerpo de las mujeres\" perpetúa la noción de que las mujeres son meras víctimas de un sistema opresor. Este enfoque puede llevar a una visión negativa de la maternidad, donde se la considera una carga en lugar de una experiencia enriquecedora y empoderadora.\n",
            "\n",
            "La violencia obstétrica, mencionada como \"la última frontera de la violencia de género\", refleja cómo las prácticas médicas y sociales deshumanizan a las mujeres en el proceso de parto. Esto no solo tiene consecuencias físicas y emocionales para las mujeres, sino que también perpetúa la idea de que su bienestar es secundario a la eficiencia del sistema médico.\n",
            "\n",
            "Finalmente, es crucial que el feminismo contemporáneo reevalúe su relación con la maternidad, no como un obstáculo a la emancipación, sino como una experiencia que debe ser reivindicada y valorada. La maternidad debe ser vista como una cuestión política que requiere un cambio en el entorno socioeconómico, donde se reconozca su importancia y se apoye a las mujeres en sus decisiones. La lucha por la igualdad de género debe incluir la reivindicación de la maternidad como una experiencia digna y empoderadora, que no debe ser estigmatizada ni desvalorizada.\u001b[00m\n",
            "\n",
            "\n"
          ]
        },
        {
          "data": {
            "text/html": [
              "<pre style=\"white-space:pre;overflow-x:auto;line-height:normal;font-family:Menlo,'DejaVu Sans Mono',consolas,'Courier New',monospace\"><span style=\"color: #008080; text-decoration-color: #008080; font-weight: bold\">🚀 Crew: crew</span>\n",
              "├── <span style=\"color: #008000; text-decoration-color: #008000; font-weight: bold\">📋 Task: 4933d26a-b148-4454-8a19-71080930986b</span>\n",
              "│   <span style=\"color: #c0c0c0; text-decoration-color: #c0c0c0\">   Assigned to: </span><span style=\"color: #008000; text-decoration-color: #008000\">Analista (jueza, mujer, progresista)</span>\n",
              "│   <span style=\"color: #c0c0c0; text-decoration-color: #c0c0c0\">   Status: </span><span style=\"color: #008000; text-decoration-color: #008000; font-weight: bold\">✅ Completed</span>\n",
              "│   └── <span style=\"color: #008000; text-decoration-color: #008000; font-weight: bold\">🤖 Agent: </span><span style=\"color: #008000; text-decoration-color: #008000\">Analista (jueza, mujer, progresista)</span>\n",
              "│       <span style=\"color: #c0c0c0; text-decoration-color: #c0c0c0\">    Status: </span><span style=\"color: #008000; text-decoration-color: #008000; font-weight: bold\">✅ Completed</span>\n",
              "├── <span style=\"color: #008000; text-decoration-color: #008000; font-weight: bold\">📋 Task: 108e91af-a8b0-42d7-a053-260c97c0254c</span>\n",
              "│   <span style=\"color: #c0c0c0; text-decoration-color: #c0c0c0\">   Assigned to: </span><span style=\"color: #008000; text-decoration-color: #008000\">Critico (jueza, mujer, progresista)</span>\n",
              "│   <span style=\"color: #c0c0c0; text-decoration-color: #c0c0c0\">   Status: </span><span style=\"color: #008000; text-decoration-color: #008000; font-weight: bold\">✅ Completed</span>\n",
              "│   └── <span style=\"color: #008000; text-decoration-color: #008000; font-weight: bold\">🤖 Agent: </span><span style=\"color: #008000; text-decoration-color: #008000\">Critico (jueza, mujer, progresista)</span>\n",
              "│       <span style=\"color: #c0c0c0; text-decoration-color: #c0c0c0\">    Status: </span><span style=\"color: #008000; text-decoration-color: #008000; font-weight: bold\">✅ Completed</span>\n",
              "├── <span style=\"color: #008000; text-decoration-color: #008000; font-weight: bold\">📋 Task: 95b072fa-624d-4826-a3c6-34037c69941a</span>\n",
              "│   <span style=\"color: #c0c0c0; text-decoration-color: #c0c0c0\">   Assigned to: </span><span style=\"color: #008000; text-decoration-color: #008000\">Redactor (jueza, mujer, progresista)</span>\n",
              "│   <span style=\"color: #c0c0c0; text-decoration-color: #c0c0c0\">   Status: </span><span style=\"color: #008000; text-decoration-color: #008000; font-weight: bold\">✅ Completed</span>\n",
              "│   └── <span style=\"color: #008000; text-decoration-color: #008000; font-weight: bold\">🤖 Agent: </span><span style=\"color: #008000; text-decoration-color: #008000\">Redactor (jueza, mujer, progresista)</span>\n",
              "│       <span style=\"color: #c0c0c0; text-decoration-color: #c0c0c0\">    Status: </span><span style=\"color: #008000; text-decoration-color: #008000; font-weight: bold\">✅ Completed</span>\n",
              "├── <span style=\"color: #008000; text-decoration-color: #008000; font-weight: bold\">📋 Task: c99a72fd-4c98-4329-97d3-1a8f6743caa6</span>\n",
              "│   <span style=\"color: #c0c0c0; text-decoration-color: #c0c0c0\">   Assigned to: </span><span style=\"color: #008000; text-decoration-color: #008000\">Comparador (jueza, mujer, progresista)</span>\n",
              "│   <span style=\"color: #c0c0c0; text-decoration-color: #c0c0c0\">   Status: </span><span style=\"color: #008000; text-decoration-color: #008000; font-weight: bold\">✅ Completed</span>\n",
              "│   └── <span style=\"color: #008000; text-decoration-color: #008000; font-weight: bold\">🤖 Agent: </span><span style=\"color: #008000; text-decoration-color: #008000\">Comparador (jueza, mujer, progresista)</span>\n",
              "│       <span style=\"color: #c0c0c0; text-decoration-color: #c0c0c0\">    Status: </span><span style=\"color: #008000; text-decoration-color: #008000; font-weight: bold\">✅ Completed</span>\n",
              "└── <span style=\"color: #808000; text-decoration-color: #808000; font-weight: bold\">📋 Task: 7bec3792-a154-448e-ac01-ea9e71d9cbcc</span>\n",
              "    <span style=\"color: #c0c0c0; text-decoration-color: #c0c0c0\">   Status: </span><span style=\"color: #bfbf7f; text-decoration-color: #bfbf7f\">Executing Task...</span>\n",
              "    └── <span style=\"color: #008000; text-decoration-color: #008000; font-weight: bold\">🤖 Agent: </span><span style=\"color: #008000; text-decoration-color: #008000\">Estilizador (asistente técnico neutral)</span>\n",
              "        <span style=\"color: #c0c0c0; text-decoration-color: #c0c0c0\">    Status: </span><span style=\"color: #008000; text-decoration-color: #008000; font-weight: bold\">✅ Completed</span>\n",
              "</pre>\n"
            ],
            "text/plain": [
              "\u001b[1;36m🚀 Crew: \u001b[0m\u001b[1;36mcrew\u001b[0m\n",
              "├── \u001b[1;32m📋 Task: 4933d26a-b148-4454-8a19-71080930986b\u001b[0m\n",
              "│   \u001b[37m   Assigned to: \u001b[0m\u001b[32mAnalista (jueza, mujer, progresista)\u001b[0m\n",
              "│   \u001b[37m   Status: \u001b[0m\u001b[1;32m✅ Completed\u001b[0m\n",
              "│   └── \u001b[1;32m🤖 Agent: \u001b[0m\u001b[32mAnalista (jueza, mujer, progresista)\u001b[0m\n",
              "│       \u001b[37m    Status: \u001b[0m\u001b[1;32m✅ Completed\u001b[0m\n",
              "├── \u001b[1;32m📋 Task: 108e91af-a8b0-42d7-a053-260c97c0254c\u001b[0m\n",
              "│   \u001b[37m   Assigned to: \u001b[0m\u001b[32mCritico (jueza, mujer, progresista)\u001b[0m\n",
              "│   \u001b[37m   Status: \u001b[0m\u001b[1;32m✅ Completed\u001b[0m\n",
              "│   └── \u001b[1;32m🤖 Agent: \u001b[0m\u001b[32mCritico (jueza, mujer, progresista)\u001b[0m\n",
              "│       \u001b[37m    Status: \u001b[0m\u001b[1;32m✅ Completed\u001b[0m\n",
              "├── \u001b[1;32m📋 Task: 95b072fa-624d-4826-a3c6-34037c69941a\u001b[0m\n",
              "│   \u001b[37m   Assigned to: \u001b[0m\u001b[32mRedactor (jueza, mujer, progresista)\u001b[0m\n",
              "│   \u001b[37m   Status: \u001b[0m\u001b[1;32m✅ Completed\u001b[0m\n",
              "│   └── \u001b[1;32m🤖 Agent: \u001b[0m\u001b[32mRedactor (jueza, mujer, progresista)\u001b[0m\n",
              "│       \u001b[37m    Status: \u001b[0m\u001b[1;32m✅ Completed\u001b[0m\n",
              "├── \u001b[1;32m📋 Task: c99a72fd-4c98-4329-97d3-1a8f6743caa6\u001b[0m\n",
              "│   \u001b[37m   Assigned to: \u001b[0m\u001b[32mComparador (jueza, mujer, progresista)\u001b[0m\n",
              "│   \u001b[37m   Status: \u001b[0m\u001b[1;32m✅ Completed\u001b[0m\n",
              "│   └── \u001b[1;32m🤖 Agent: \u001b[0m\u001b[32mComparador (jueza, mujer, progresista)\u001b[0m\n",
              "│       \u001b[37m    Status: \u001b[0m\u001b[1;32m✅ Completed\u001b[0m\n",
              "└── \u001b[1;33m📋 Task: 7bec3792-a154-448e-ac01-ea9e71d9cbcc\u001b[0m\n",
              "    \u001b[37m   Status: \u001b[0m\u001b[2;33mExecuting Task...\u001b[0m\n",
              "    └── \u001b[1;32m🤖 Agent: \u001b[0m\u001b[32mEstilizador (asistente técnico neutral)\u001b[0m\n",
              "        \u001b[37m    Status: \u001b[0m\u001b[1;32m✅ Completed\u001b[0m\n"
            ]
          },
          "metadata": {},
          "output_type": "display_data"
        },
        {
          "data": {
            "text/html": [
              "<pre style=\"white-space:pre;overflow-x:auto;line-height:normal;font-family:Menlo,'DejaVu Sans Mono',consolas,'Courier New',monospace\">\n",
              "</pre>\n"
            ],
            "text/plain": [
              "\n"
            ]
          },
          "metadata": {},
          "output_type": "display_data"
        },
        {
          "data": {
            "text/html": [
              "<pre style=\"white-space:pre;overflow-x:auto;line-height:normal;font-family:Menlo,'DejaVu Sans Mono',consolas,'Courier New',monospace\"><span style=\"color: #008080; text-decoration-color: #008080; font-weight: bold\">🚀 Crew: crew</span>\n",
              "├── <span style=\"color: #008000; text-decoration-color: #008000; font-weight: bold\">📋 Task: 4933d26a-b148-4454-8a19-71080930986b</span>\n",
              "│   <span style=\"color: #c0c0c0; text-decoration-color: #c0c0c0\">   Assigned to: </span><span style=\"color: #008000; text-decoration-color: #008000\">Analista (jueza, mujer, progresista)</span>\n",
              "│   <span style=\"color: #c0c0c0; text-decoration-color: #c0c0c0\">   Status: </span><span style=\"color: #008000; text-decoration-color: #008000; font-weight: bold\">✅ Completed</span>\n",
              "│   └── <span style=\"color: #008000; text-decoration-color: #008000; font-weight: bold\">🤖 Agent: </span><span style=\"color: #008000; text-decoration-color: #008000\">Analista (jueza, mujer, progresista)</span>\n",
              "│       <span style=\"color: #c0c0c0; text-decoration-color: #c0c0c0\">    Status: </span><span style=\"color: #008000; text-decoration-color: #008000; font-weight: bold\">✅ Completed</span>\n",
              "├── <span style=\"color: #008000; text-decoration-color: #008000; font-weight: bold\">📋 Task: 108e91af-a8b0-42d7-a053-260c97c0254c</span>\n",
              "│   <span style=\"color: #c0c0c0; text-decoration-color: #c0c0c0\">   Assigned to: </span><span style=\"color: #008000; text-decoration-color: #008000\">Critico (jueza, mujer, progresista)</span>\n",
              "│   <span style=\"color: #c0c0c0; text-decoration-color: #c0c0c0\">   Status: </span><span style=\"color: #008000; text-decoration-color: #008000; font-weight: bold\">✅ Completed</span>\n",
              "│   └── <span style=\"color: #008000; text-decoration-color: #008000; font-weight: bold\">🤖 Agent: </span><span style=\"color: #008000; text-decoration-color: #008000\">Critico (jueza, mujer, progresista)</span>\n",
              "│       <span style=\"color: #c0c0c0; text-decoration-color: #c0c0c0\">    Status: </span><span style=\"color: #008000; text-decoration-color: #008000; font-weight: bold\">✅ Completed</span>\n",
              "├── <span style=\"color: #008000; text-decoration-color: #008000; font-weight: bold\">📋 Task: 95b072fa-624d-4826-a3c6-34037c69941a</span>\n",
              "│   <span style=\"color: #c0c0c0; text-decoration-color: #c0c0c0\">   Assigned to: </span><span style=\"color: #008000; text-decoration-color: #008000\">Redactor (jueza, mujer, progresista)</span>\n",
              "│   <span style=\"color: #c0c0c0; text-decoration-color: #c0c0c0\">   Status: </span><span style=\"color: #008000; text-decoration-color: #008000; font-weight: bold\">✅ Completed</span>\n",
              "│   └── <span style=\"color: #008000; text-decoration-color: #008000; font-weight: bold\">🤖 Agent: </span><span style=\"color: #008000; text-decoration-color: #008000\">Redactor (jueza, mujer, progresista)</span>\n",
              "│       <span style=\"color: #c0c0c0; text-decoration-color: #c0c0c0\">    Status: </span><span style=\"color: #008000; text-decoration-color: #008000; font-weight: bold\">✅ Completed</span>\n",
              "├── <span style=\"color: #008000; text-decoration-color: #008000; font-weight: bold\">📋 Task: c99a72fd-4c98-4329-97d3-1a8f6743caa6</span>\n",
              "│   <span style=\"color: #c0c0c0; text-decoration-color: #c0c0c0\">   Assigned to: </span><span style=\"color: #008000; text-decoration-color: #008000\">Comparador (jueza, mujer, progresista)</span>\n",
              "│   <span style=\"color: #c0c0c0; text-decoration-color: #c0c0c0\">   Status: </span><span style=\"color: #008000; text-decoration-color: #008000; font-weight: bold\">✅ Completed</span>\n",
              "│   └── <span style=\"color: #008000; text-decoration-color: #008000; font-weight: bold\">🤖 Agent: </span><span style=\"color: #008000; text-decoration-color: #008000\">Comparador (jueza, mujer, progresista)</span>\n",
              "│       <span style=\"color: #c0c0c0; text-decoration-color: #c0c0c0\">    Status: </span><span style=\"color: #008000; text-decoration-color: #008000; font-weight: bold\">✅ Completed</span>\n",
              "└── <span style=\"color: #008000; text-decoration-color: #008000; font-weight: bold\">📋 Task: 7bec3792-a154-448e-ac01-ea9e71d9cbcc</span>\n",
              "    <span style=\"color: #c0c0c0; text-decoration-color: #c0c0c0\">   Assigned to: </span><span style=\"color: #008000; text-decoration-color: #008000\">Estilizador (asistente técnico neutral)</span>\n",
              "    <span style=\"color: #c0c0c0; text-decoration-color: #c0c0c0\">   Status: </span><span style=\"color: #008000; text-decoration-color: #008000; font-weight: bold\">✅ Completed</span>\n",
              "    └── <span style=\"color: #008000; text-decoration-color: #008000; font-weight: bold\">🤖 Agent: </span><span style=\"color: #008000; text-decoration-color: #008000\">Estilizador (asistente técnico neutral)</span>\n",
              "        <span style=\"color: #c0c0c0; text-decoration-color: #c0c0c0\">    Status: </span><span style=\"color: #008000; text-decoration-color: #008000; font-weight: bold\">✅ Completed</span>\n",
              "</pre>\n"
            ],
            "text/plain": [
              "\u001b[1;36m🚀 Crew: \u001b[0m\u001b[1;36mcrew\u001b[0m\n",
              "├── \u001b[1;32m📋 Task: 4933d26a-b148-4454-8a19-71080930986b\u001b[0m\n",
              "│   \u001b[37m   Assigned to: \u001b[0m\u001b[32mAnalista (jueza, mujer, progresista)\u001b[0m\n",
              "│   \u001b[37m   Status: \u001b[0m\u001b[1;32m✅ Completed\u001b[0m\n",
              "│   └── \u001b[1;32m🤖 Agent: \u001b[0m\u001b[32mAnalista (jueza, mujer, progresista)\u001b[0m\n",
              "│       \u001b[37m    Status: \u001b[0m\u001b[1;32m✅ Completed\u001b[0m\n",
              "├── \u001b[1;32m📋 Task: 108e91af-a8b0-42d7-a053-260c97c0254c\u001b[0m\n",
              "│   \u001b[37m   Assigned to: \u001b[0m\u001b[32mCritico (jueza, mujer, progresista)\u001b[0m\n",
              "│   \u001b[37m   Status: \u001b[0m\u001b[1;32m✅ Completed\u001b[0m\n",
              "│   └── \u001b[1;32m🤖 Agent: \u001b[0m\u001b[32mCritico (jueza, mujer, progresista)\u001b[0m\n",
              "│       \u001b[37m    Status: \u001b[0m\u001b[1;32m✅ Completed\u001b[0m\n",
              "├── \u001b[1;32m📋 Task: 95b072fa-624d-4826-a3c6-34037c69941a\u001b[0m\n",
              "│   \u001b[37m   Assigned to: \u001b[0m\u001b[32mRedactor (jueza, mujer, progresista)\u001b[0m\n",
              "│   \u001b[37m   Status: \u001b[0m\u001b[1;32m✅ Completed\u001b[0m\n",
              "│   └── \u001b[1;32m🤖 Agent: \u001b[0m\u001b[32mRedactor (jueza, mujer, progresista)\u001b[0m\n",
              "│       \u001b[37m    Status: \u001b[0m\u001b[1;32m✅ Completed\u001b[0m\n",
              "├── \u001b[1;32m📋 Task: c99a72fd-4c98-4329-97d3-1a8f6743caa6\u001b[0m\n",
              "│   \u001b[37m   Assigned to: \u001b[0m\u001b[32mComparador (jueza, mujer, progresista)\u001b[0m\n",
              "│   \u001b[37m   Status: \u001b[0m\u001b[1;32m✅ Completed\u001b[0m\n",
              "│   └── \u001b[1;32m🤖 Agent: \u001b[0m\u001b[32mComparador (jueza, mujer, progresista)\u001b[0m\n",
              "│       \u001b[37m    Status: \u001b[0m\u001b[1;32m✅ Completed\u001b[0m\n",
              "└── \u001b[1;32m📋 Task: 7bec3792-a154-448e-ac01-ea9e71d9cbcc\u001b[0m\n",
              "    \u001b[37m   Assigned to: \u001b[0m\u001b[32mEstilizador (asistente técnico neutral)\u001b[0m\n",
              "    \u001b[37m   Status: \u001b[0m\u001b[1;32m✅ Completed\u001b[0m\n",
              "    └── \u001b[1;32m🤖 Agent: \u001b[0m\u001b[32mEstilizador (asistente técnico neutral)\u001b[0m\n",
              "        \u001b[37m    Status: \u001b[0m\u001b[1;32m✅ Completed\u001b[0m\n"
            ]
          },
          "metadata": {},
          "output_type": "display_data"
        },
        {
          "data": {
            "text/html": [
              "<pre style=\"white-space:pre;overflow-x:auto;line-height:normal;font-family:Menlo,'DejaVu Sans Mono',consolas,'Courier New',monospace\"><span style=\"color: #008000; text-decoration-color: #008000\">╭──────────────────────────────────────────────── Task Completion ────────────────────────────────────────────────╮</span>\n",
              "<span style=\"color: #008000; text-decoration-color: #008000\">│</span>                                                                                                                 <span style=\"color: #008000; text-decoration-color: #008000\">│</span>\n",
              "<span style=\"color: #008000; text-decoration-color: #008000\">│</span>  <span style=\"color: #008000; text-decoration-color: #008000; font-weight: bold\">Task Completed</span>                                                                                                 <span style=\"color: #008000; text-decoration-color: #008000\">│</span>\n",
              "<span style=\"color: #008000; text-decoration-color: #008000\">│</span>  <span style=\"color: #c0c0c0; text-decoration-color: #c0c0c0\">Name: </span><span style=\"color: #008000; text-decoration-color: #008000\">7bec3792-a154-448e-ac01-ea9e71d9cbcc</span>                                                                     <span style=\"color: #008000; text-decoration-color: #008000\">│</span>\n",
              "<span style=\"color: #008000; text-decoration-color: #008000\">│</span>  <span style=\"color: #c0c0c0; text-decoration-color: #c0c0c0\">Agent: </span><span style=\"color: #008000; text-decoration-color: #008000\">Estilizador (asistente técnico neutral)</span>                                                                 <span style=\"color: #008000; text-decoration-color: #008000\">│</span>\n",
              "<span style=\"color: #008000; text-decoration-color: #008000\">│</span>                                                                                                                 <span style=\"color: #008000; text-decoration-color: #008000\">│</span>\n",
              "<span style=\"color: #008000; text-decoration-color: #008000\">│</span>                                                                                                                 <span style=\"color: #008000; text-decoration-color: #008000\">│</span>\n",
              "<span style=\"color: #008000; text-decoration-color: #008000\">╰─────────────────────────────────────────────────────────────────────────────────────────────────────────────────╯</span>\n",
              "</pre>\n"
            ],
            "text/plain": [
              "\u001b[32m╭─\u001b[0m\u001b[32m───────────────────────────────────────────────\u001b[0m\u001b[32m Task Completion \u001b[0m\u001b[32m───────────────────────────────────────────────\u001b[0m\u001b[32m─╮\u001b[0m\n",
              "\u001b[32m│\u001b[0m                                                                                                                 \u001b[32m│\u001b[0m\n",
              "\u001b[32m│\u001b[0m  \u001b[1;32mTask Completed\u001b[0m                                                                                                 \u001b[32m│\u001b[0m\n",
              "\u001b[32m│\u001b[0m  \u001b[37mName: \u001b[0m\u001b[32m7bec3792-a154-448e-ac01-ea9e71d9cbcc\u001b[0m                                                                     \u001b[32m│\u001b[0m\n",
              "\u001b[32m│\u001b[0m  \u001b[37mAgent: \u001b[0m\u001b[32mEstilizador (asistente técnico neutral)\u001b[0m                                                                 \u001b[32m│\u001b[0m\n",
              "\u001b[32m│\u001b[0m                                                                                                                 \u001b[32m│\u001b[0m\n",
              "\u001b[32m│\u001b[0m                                                                                                                 \u001b[32m│\u001b[0m\n",
              "\u001b[32m╰─────────────────────────────────────────────────────────────────────────────────────────────────────────────────╯\u001b[0m\n"
            ]
          },
          "metadata": {},
          "output_type": "display_data"
        },
        {
          "data": {
            "text/html": [
              "<pre style=\"white-space:pre;overflow-x:auto;line-height:normal;font-family:Menlo,'DejaVu Sans Mono',consolas,'Courier New',monospace\">\n",
              "</pre>\n"
            ],
            "text/plain": [
              "\n"
            ]
          },
          "metadata": {},
          "output_type": "display_data"
        },
        {
          "data": {
            "text/html": [
              "<pre style=\"white-space:pre;overflow-x:auto;line-height:normal;font-family:Menlo,'DejaVu Sans Mono',consolas,'Courier New',monospace\"><span style=\"color: #008000; text-decoration-color: #008000\">╭──────────────────────────────────────────────── Crew Completion ────────────────────────────────────────────────╮</span>\n",
              "<span style=\"color: #008000; text-decoration-color: #008000\">│</span>                                                                                                                 <span style=\"color: #008000; text-decoration-color: #008000\">│</span>\n",
              "<span style=\"color: #008000; text-decoration-color: #008000\">│</span>  <span style=\"color: #008000; text-decoration-color: #008000; font-weight: bold\">Crew Execution Completed</span>                                                                                       <span style=\"color: #008000; text-decoration-color: #008000\">│</span>\n",
              "<span style=\"color: #008000; text-decoration-color: #008000\">│</span>  <span style=\"color: #c0c0c0; text-decoration-color: #c0c0c0\">Name: </span><span style=\"color: #008000; text-decoration-color: #008000\">crew</span>                                                                                                     <span style=\"color: #008000; text-decoration-color: #008000\">│</span>\n",
              "<span style=\"color: #008000; text-decoration-color: #008000\">│</span>  <span style=\"color: #c0c0c0; text-decoration-color: #c0c0c0\">ID: </span><span style=\"color: #008000; text-decoration-color: #008000\">9fd40c95-d073-4974-9c84-f6c7d8ca9c0d</span>                                                                       <span style=\"color: #008000; text-decoration-color: #008000\">│</span>\n",
              "<span style=\"color: #008000; text-decoration-color: #008000\">│</span>                                                                                                                 <span style=\"color: #008000; text-decoration-color: #008000\">│</span>\n",
              "<span style=\"color: #008000; text-decoration-color: #008000\">│</span>                                                                                                                 <span style=\"color: #008000; text-decoration-color: #008000\">│</span>\n",
              "<span style=\"color: #008000; text-decoration-color: #008000\">╰─────────────────────────────────────────────────────────────────────────────────────────────────────────────────╯</span>\n",
              "</pre>\n"
            ],
            "text/plain": [
              "\u001b[32m╭─\u001b[0m\u001b[32m───────────────────────────────────────────────\u001b[0m\u001b[32m Crew Completion \u001b[0m\u001b[32m───────────────────────────────────────────────\u001b[0m\u001b[32m─╮\u001b[0m\n",
              "\u001b[32m│\u001b[0m                                                                                                                 \u001b[32m│\u001b[0m\n",
              "\u001b[32m│\u001b[0m  \u001b[1;32mCrew Execution Completed\u001b[0m                                                                                       \u001b[32m│\u001b[0m\n",
              "\u001b[32m│\u001b[0m  \u001b[37mName: \u001b[0m\u001b[32mcrew\u001b[0m                                                                                                     \u001b[32m│\u001b[0m\n",
              "\u001b[32m│\u001b[0m  \u001b[37mID: \u001b[0m\u001b[32m9fd40c95-d073-4974-9c84-f6c7d8ca9c0d\u001b[0m                                                                       \u001b[32m│\u001b[0m\n",
              "\u001b[32m│\u001b[0m                                                                                                                 \u001b[32m│\u001b[0m\n",
              "\u001b[32m│\u001b[0m                                                                                                                 \u001b[32m│\u001b[0m\n",
              "\u001b[32m╰─────────────────────────────────────────────────────────────────────────────────────────────────────────────────╯\u001b[0m\n"
            ]
          },
          "metadata": {},
          "output_type": "display_data"
        },
        {
          "data": {
            "text/html": [
              "<pre style=\"white-space:pre;overflow-x:auto;line-height:normal;font-family:Menlo,'DejaVu Sans Mono',consolas,'Courier New',monospace\">\n",
              "</pre>\n"
            ],
            "text/plain": [
              "\n"
            ]
          },
          "metadata": {},
          "output_type": "display_data"
        }
      ],
      "source": [
        "resultado = crew.kickoff()"
      ]
    },
    {
      "cell_type": "code",
      "execution_count": 15,
      "metadata": {
        "colab": {
          "base_uri": "https://localhost:8080/",
          "height": 1000
        },
        "id": "ttNiC_LV1UGu",
        "outputId": "ae2913d1-b454-4e6d-ea04-7b5bffd95f13"
      },
      "outputs": [
        {
          "data": {
            "text/markdown": [
              "# Informe sobre la Maternidad y el Feminismo\n",
              "\n",
              "## 1. Frases que refuerzan o reproducen estereotipos o sesgos de género\n",
              "\n",
              "- **\"¿Quién iba, si no, a querer dedicar su tiempo a un asunto tan insignificante?\"**  \n",
              "  Justificación: Esta frase sugiere que la maternidad es un tema trivial y que solo se le puede dar importancia si se tiene una experiencia personal. Refuerza la idea de que el cuidado de los hijos es un asunto menor en comparación con otros temas.\n",
              "\n",
              "- **\"La maternidad ha sido utilizada por el patriarcado como un instrumento de control del cuerpo de las mujeres.\"**  \n",
              "  Justificación: Aunque la frase critica el uso patriarcal de la maternidad, también perpetúa la idea de que la maternidad es inherentemente negativa y que las mujeres son víctimas pasivas de un sistema opresor, sin reconocer la agencia de las mujeres en su experiencia materna.\n",
              "\n",
              "- **\"Ante ese modelo de feminidad abnegada cuyo fin último es ser madre.\"**  \n",
              "  Justificación: Esta frase refuerza el estereotipo de que la maternidad es el único propósito de las mujeres, sugiriendo que ser madre es una obligación y no una elección personal.\n",
              "\n",
              "- **\"La lactancia materna permite la autonomía de la mujer, porque no necesita gastar dinero.\"**  \n",
              "  Justificación: Esta afirmación puede implicar que las mujeres que no pueden amamantar o que eligen no hacerlo son menos autónomas, perpetuando la idea de que la maternidad y la crianza son la única vía hacia la libertad y la independencia.\n",
              "\n",
              "- **\"Dar el biberón per se no te hace más libre como mujer, ni es un mecanismo de igualdad.\"**  \n",
              "  Justificación: Aunque la frase critica la idea de que el biberón es sinónimo de libertad, también puede implicar que las mujeres que optan por esta opción están eligiendo un camino menos feminista, lo que puede ser visto como un juicio sobre sus decisiones.\n",
              "\n",
              "---\n",
              "\n",
              "## 2. Texto Original Anotado\n",
              "\n",
              "Esther Vivas (Sabadell, 1975) afirma que \"la literatura de la maternidad parte a menudo de la propia experiencia\".  \n",
              "**¿Quién iba, si no, a querer dedicar su tiempo a un asunto tan insignificante?**  \n",
              "El caso de esta periodista, que se había dedicado previamente al estudio del sistema agroalimentario y de los movimientos sociales, no es, dice, una excepción. A partir de su embarazo y de las primeras búsquedas de información sobre cómo se podría desarrollar el parto, comenzó a preguntarse por qué no le habían hablado de todo aquello. Por qué todo el mundo aceptaba esa violencia obstétrica. *Mamá desobediente* (editado por Capitán Swing en castellano y en catalán por Ara Llibres, bajo el título *Mama desobedient*) es el resultado de aquella primera \"indignación\", pero no se limita a ella. En el ensayo, que lleva por subtítulo *Una mirada feminista a la maternidad*, Vivas se ocupa primero de los mitos existentes en torno a ella, para centrarse luego en dos aspectos concretos de esta experiencia que generan un debate encendido: primero, la atención al parto; después, la lactancia.\n",
              "\n",
              "Y no es casualidad que cuestiones aparentemente privadas sobre si una mujer le da el pecho o no a su hijo generen polémica. La autora no solo defiende que la maternidad es un asunto público, imbricado en la economía y la política, sino que la sitúa en el centro del feminismo de clase y el anticapitalismo. Si no se la ha considerado así, defiende en el libro, es porque existen intereses para ello.\n",
              "\n",
              "### Preguntas y Respuestas\n",
              "\n",
              "**P. ¿Por qué ser madre y feminista supone ser desobediente?**  \n",
              "**R.** Ser madre implica desobedecer porque vivimos en un sistema que es hostil a la maternidad y a la crianza, y si eres feminista y de repente eres madre, esa maternidad te reafirma en tus valores feministas.\n",
              "\n",
              "**P. ¿Pensar la maternidad desde el feminismo supone repensar la idea que tenemos de la incorporación de la mujer al mundo laboral?**  \n",
              "**R.** Sí. En general, desde un cierto feminismo, a la hora de plantear la igualdad en el mercado de trabajo, se ha señalado la maternidad, el cuidado y la crianza como una carga.\n",
              "\n",
              "**P. ¿Cómo afecta esto a la manera en que el movimiento feminista se ha planteado la narrativa en torno a la igualdad en el trabajo?**  \n",
              "**R.** Aquí también hemos visto distintos discursos y estrategias. Por un lado hay un cierto feminismo liberal que básicamente reivindica la igualdad para un sector de mujeres de clase media blanca.\n",
              "\n",
              "**P. ¿Qué modelo, de los expuestos en el libro, considera más conveniente?**  \n",
              "**R.** Se tendrían que ampliar ambos permisos con un periodo de tiempo muy superior al actual, como de hecho hacen muchos países nórdicos.\n",
              "\n",
              "---\n",
              "\n",
              "## 3. Reflexiones Finales\n",
              "\n",
              "Los sesgos de género han permeado profundamente en la percepción social de la maternidad y el rol de la mujer, afectando no solo cómo se ve a las mujeres en contextos profesionales, sino también cómo se valoran sus experiencias y decisiones personales. Frases como \"¿Quién iba, si no, a querer dedicar su tiempo a un asunto tan insignificante?\" subrayan un desprecio hacia la maternidad, sugiriendo que el cuidado de los hijos es trivial y que solo es relevante si se vive de manera personal.\n",
              "\n",
              "Además, la afirmación de que \"la maternidad ha sido utilizada por el patriarcado como un instrumento de control del cuerpo de las mujeres\" perpetúa la noción de que las mujeres son meras víctimas de un sistema opresor. Este enfoque puede llevar a una visión negativa de la maternidad, donde se la considera una carga en lugar de una experiencia enriquecedora y empoderadora.\n",
              "\n",
              "La violencia obstétrica, mencionada como \"la última frontera de la violencia de género\", refleja cómo las prácticas médicas y sociales deshumanizan a las mujeres en el proceso de parto. Esto no solo tiene consecuencias físicas y emocionales para las mujeres, sino que también perpetúa la idea de que su bienestar es secundario a la eficiencia del sistema médico.\n",
              "\n",
              "Finalmente, es crucial que el feminismo contemporáneo reevalúe su relación con la maternidad, no como un obstáculo a la emancipación, sino como una experiencia que debe ser reivindicada y valorada. La maternidad debe ser vista como una cuestión política que requiere un cambio en el entorno socioeconómico, donde se reconozca su importancia y se apoye a las mujeres en sus decisiones. La lucha por la igualdad de género debe incluir la reivindicación de la maternidad como una experiencia digna y empoderadora, que no debe ser estigmatizada ni desvalorizada."
            ],
            "text/plain": [
              "<IPython.core.display.Markdown object>"
            ]
          },
          "metadata": {},
          "output_type": "display_data"
        }
      ],
      "source": [
        "display(Markdown(resultado.raw))"
      ]
    },
    {
      "cell_type": "code",
      "execution_count": 16,
      "metadata": {},
      "outputs": [
        {
          "data": {
            "text/markdown": [
              "1. Frases que refuerzan o reproducen estereotipos o sesgos de género:\n",
              "\n",
              "   - **\"¿Quién iba, si no, a querer dedicar su tiempo a un asunto tan insignificante?\"**  \n",
              "     Justificación: Esta frase sugiere que la maternidad es un tema trivial y que solo se le puede dar importancia si se tiene una experiencia personal. Refuerza la idea de que el cuidado de los hijos es un asunto menor en comparación con otros temas.\n",
              "\n",
              "   - **\"la maternidad ha sido utilizada por el patriarcado como un instrumento de control del cuerpo de las mujeres\"**  \n",
              "     Justificación: Aunque la frase critica el uso patriarcal de la maternidad, también perpetúa la idea de que la maternidad es inherentemente negativa y que las mujeres son víctimas pasivas de un sistema opresor, sin reconocer la agencia de las mujeres en su experiencia materna.\n",
              "\n",
              "   - **\"ante ese modelo de feminidad abnegada cuyo fin último es ser madre\"**  \n",
              "     Justificación: Esta frase refuerza el estereotipo de que la maternidad es el único propósito de las mujeres, sugiriendo que ser madre es una obligación y no una elección personal.\n",
              "\n",
              "   - **\"la lactancia materna permite la autonomía de la mujer, porque no necesita gastar dinero\"**  \n",
              "     Justificación: Esta afirmación puede implicar que las mujeres que no pueden amamantar o que eligen no hacerlo son menos autónomas, perpetuando la idea de que la maternidad y la crianza son la única vía hacia la libertad y la independencia.\n",
              "\n",
              "   - **\"dar el biberón per se no te hace más libre como mujer, ni es un mecanismo de igualdad\"**  \n",
              "     Justificación: Aunque la frase critica la idea de que el biberón es sinónimo de libertad, también puede implicar que las mujeres que optan por esta opción están eligiendo un camino menos feminista, lo que puede ser visto como un juicio sobre sus decisiones.\n",
              "\n",
              "2. Texto original anotado:\n",
              "\n",
              "   Dice Esther Vivas (Sabadell, 1975) que \"la literatura de la maternidad parte a menudo de la propia experiencia\". <span style=\"color: red; font-weight: bold;\">¿Quién iba, si no, a querer dedicar su tiempo a un asunto tan insignificante?</span> El caso de esta periodista, que se había dedicado previamente al estudio del sistema agroalimentario y de los movimientos sociales, no es, dice, una excepción. A partir de su embarazo y de las primeras búsquedas de información sobre cómo se podría desarrollar el parto, comenzó a preguntarse por qué no le habían hablado de todo aquello. Por qué todo el mundo aceptaba esa violencia obstétrica. Mamá desobediente (editado por Capitán Swing en castellano y en catalán por Ara Llibres, bajo el título Mama desobedient) es el resultado de aquella primera \"indignación\", pero no se limita a ella. En el ensayo, que lleva por subtítulo Una mirada feminista a la maternidad, Vivas se ocupa primero de los mitos existentes en torno a ella, para centrarse luego en dos aspectos concretos de esta experiencia que generan un debate encendido: primero, la atención al parto; después, la lactancia.\n",
              "\n",
              "Y no es casualidad que cuestiones aparentemente privadas sobre si una mujer le da el pecho o no a su hijo generen polémica. La autora no solo defiende que la maternidad es un asunto público, imbricado en la economía y la política, sino que la sitúa en el centro del feminismo de clase y el anticapitalismo. Si no se la ha considerado así, defiende en el libro, es porque existen intereses para ello.\n",
              "\n",
              "Pregunta. <span style=\"color: blue;\">¿Por qué ser madre y feminista supone ser desobediente?</span> <span style=\"color: blue;\">¿Desobediente con respecto al sistema neoliberal o con respecto a cierto feminismo?</span>\n",
              "\n",
              "Respuesta. <span style=\"color: blue;\">Ser madre implica desobedecer porque vivimos en un sistema que es hostil a la maternidad y a la crianza, y si eres feminista y de repente eres madre, esa maternidad te reafirma en tus valores feministas.</span> <span style=\"color: red; font-weight: bold;\">¿Qué sucede? Que en general el feminismo ha tenido una relación compleja con la maternidad, porque en la medida en que la maternidad ha sido utilizada por el patriarcado como un instrumento de control del cuerpo de las mujeres,</span> <span style=\"color: blue;\">cuando el feminismo se rebeló contra esta imposición, en los años sesenta o setenta, en la Segunda Ola, se creó un discurso antipaternal y antirreproductivo, y no se abordaron las contradicciones que implica la maternidad.</span> Por eso creo que desde el feminismo es necesario reivindicar la experiencia materna, no en clave romántica sino en clave de experiencia que tenemos que poder vivir como mujeres, al margen de las imposiciones y restricciones del sistema.\n",
              "\n",
              "P. <span style=\"color: blue;\">¿Pensar la maternidad desde el feminismo supone repensar la idea que tenemos de la incorporación de la mujer al mundo laboral?</span>\n",
              "\n",
              "R. Sí. En general, desde un cierto feminismo, a la hora de plantear la igualdad en el mercado de trabajo, se ha señalado la maternidad, el cuidado y la crianza como una carga. Desde este punto de vista, ante la maternidad patriarcal impuesta, <span style=\"color: red; font-weight: bold;\">ante ese modelo de feminidad abnegada cuyo fin último es ser madre,</span> se ha planteado que la alternativa era supeditar la crianza al mercado y al empleo. Es necesario cambiar la mirada, porque el problema no es la maternidad, sino el mercado, una sociedad que es hostil a unas prácticas que son fundamentales para la reproducción de la vida, como son gestar, parir, dar de mamar y cuidar.\n",
              "\n",
              "P. <span style=\"color: blue;\">¿Cómo afecta esto a la manera en que el movimiento feminista se ha planteado la narrativa en torno a la igualdad en el trabajo?</span>\n",
              "\n",
              "R. Aquí también hemos vistos distintos discursos y estrategias. Por un lado hay un cierto feminismo liberal que básicamente reivindica la igualdad para un sector de mujeres de clase media blanca. En Estados Unidos vemos en el partido demócrata y que aquí vemos a medio camino entre el PSOE y Ciudadanos. Por eso creo que hay que reivindicar el feminismo del 99%, el que reclama la igualdad del conjunto de las mujeres y que señala que las desigualdades de género vienen también de la desigualdades de clase y de etnia, y que por eso es necesario acabar con las desigualdades socioeconómicas para conseguir una igualdad de género real.\n",
              "\n",
              "P. <span style=\"color: blue;\">Por lo heredado de la Segunda Ola, existe esta idea de que liberarse de la maternidad obligatoria ha sido algo emancipatorio, y que por tanto poner la maternidad en el centro del feminismo sería negar esa conquista. ¿Cómo se resuelve este conflicto?</span>\n",
              "\n",
              "R. Lo que es necesario no es acabar con la experiencia de la maternidad, sino con lo que la activista feminista Adrienne Rich, ya en los años setenta, llamaba “la institución de la maternidad”. Es fundamental que la nueva oleada feminista incorpore la reivindicación de poder vivir la experiencia materna libre de imposiciones. La cuestión no es negar la maternidad sino reivindicarla. Esto no implica dar la razón a posturas reaccionarias en relación a la maternidad, sino reivindicar la maternidad en clave emancipadora. <span style=\"color: blue;\">Yo como mujer tengo derecho a decidir cómo quiero vivir mi embarazo, mi parto y mi lactancia: esto es feminismo, como también es feminismo decidir si quiero tener un hijo o no, si quiero abortar o no.</span> Reivindicar una maternidad feminista va de la mano con reivindicar el pleno control sobre nuestro cuerpo como mujeres.\n",
              "\n",
              "P. <span style=\"color: blue;\">Le dedica parte del libro al debate sobre las bajas de maternidad y paternidad, y señala que las nuevas bajas intransferibles quieren reforzar la igualdad entre hombres y mujeres pero en realidad ignora la experiencia de la maternidad. ¿Qué posición cree que ha faltado en el debate?</span>\n",
              "\n",
              "R. Se han obviado en gran medida las demandas de un sector del feminismo que reivindica una ampliación de los permisos de maternidad, porque en la actualidad el permiso de maternidad ni siquiera permite una lactancia materna en exclusiva hasta los seis meses, como recomiendan todas las instancias de salud. Y también es un debate que ha menospreciado el sentir de muchas madres. Hay varios estudios que señalan que cuando una mujer tiene un hijo, quiere estar con la criatura, y en cambio estos permisos iguales e intransferibles que se reivindican siguen estigmatizando la experiencia materna y la consideran una carga. <span style=\"color: blue;\">Con esto no quiero decir que la maternidad sea tan solo una maternidad de las mujeres, es una responsabilidad de madres, de padres, de la sociedad en general, y que hay que darle el valor social, político y económico que realmente tiene.</span>\n",
              "\n",
              "Por otro lado, es positivo plantear una ampliación del permiso de paternidad, pero hay que tener en cuenta que si este finalmente se amplía hasta las ocho semanas el año que viene, en tan solo tres años el permiso de paternidad habrá aumentado un 300%, pasando de una semana en 2015 a ocho semana en el 2019. <span style=\"color: red; font-weight: bold;\">Cuando el permiso de maternidad en treinta años, desde el 89, no se ha movido una coma, y es extremadamente corto.</span> No se puede ampliar el permiso de paternidad sin reivindicar un aumento del de maternidad. Esto se dice que se hace en nombre de la igualdad, pero creo que no podemos atribuir la desigualdad en el mercado de trabajo solo a la experiencia materna, porque van mucho más allá.\n",
              "\n",
              "P. <span style=\"color: blue;\">¿En qué medida cree que estas bajas iguales e intransferibles contribuyen a estigmatizar la experiencia de la maternidad?</span>\n",
              "\n",
              "R. Porque son unos permisos en los cuales básicamente se antepone el mercado y el empleo a la crianza. Porque si se considera, en relación al permiso de maternidad, que 16 semanas son suficientes para acompañar a la criatura después de nacer, son permisos que no tienen en cuenta esas necesidades de un bebé, que necesita estar con sus progenitores el máximo tiempo posible tras nacer, y que la fuente de alimento más beneficiosa es la leche materna.\n",
              "\n",
              "Este es un elemento del que no se acostumbra a hablar, pero que es una medida profundamente clasista. De los permisos actuales solo se benefician los progenitores que trabajan o han trabajado y cotizan, por lo que los sectores con menores recursos económicos no tienen acceso a ningún tipo de ayuda por maternidad o paternidad. Y en segundo lugar estos permisos iguales e intransferibles hacen que si tú como madre quieres estar más tiempo con tu criatura, quieres darle de mamar hasta los seis meses, <span style=\"color: red; font-weight: bold;\">solo aquellas mujeres con determinadas capacidades adquisitivas podrán hacerlo, porque solo ellas podrán tomarse una excedencia por su cuenta.</span> Es una idea clasista que convierte la crianza en un privilegio.\n",
              "\n",
              "P. <span style=\"color: blue;\">¿Qué modelo, de los expuestos en el libro, considera más conveniente?</span>\n",
              "\n",
              "R. Se tendrían que ampliar ambos permisos con un periodo de tiempo muy superior al actual, como de hecho hacen muchos países nórdicos, que dan un peso central a lo que es la ayuda a la maternidad y la crianza. Porque aquí cada año con los informes de la caída de la natalidad nos escandalizamos, pero no se hace absolutamente nada para revertirla. Apostaría por un modelo como los nórdicos, donde las bajas son más amplias que las que tenemos en el Estado español, y que pueden ser compartidas y una parte de ellas transferibles.\n",
              "\n",
              "P. <span style=\"color: blue;\">¿Por qué la lactancia tiene tanto espacio en el debate sobre la maternidad? Se discute desde sobre cómo y dónde se produce hasta qué forma es más conveniente.</span>\n",
              "\n",
              "R. El parto y la lactancia son dos partes esenciales en la crianza. Quería profundizar en el debate sobre la lactancia materna porque también en los feminismos hay un cierto debate sobre si se impone la teta o el biberón. Y me parecía interesante señalar e investigar cómo, a pesar de que cada vez se ha recuperado la lactancia materna —algo que es positivo, porque en los años setenta prácticamente desapareció—, aún el contexto social es adverso, contrariamente a lo que puede parecer en un primer momento.\n",
              "\n",
              "P. <span style=\"color: blue;\">En esa época se configura un discurso que asegura que el biberón da más libertad a las madres, y que además también facilita la incorporación al trabajo. ¿Cómo nos relacionamos hoy con estas dos ideas?</span>\n",
              "\n",
              "R. Cuando yo reflexiono con una mirada crítica acerca de la lactancia artificial lo hago desde el punto de vista de los intereses económicos que hay detrás el negocio del biberón, no sobre lo que hace cada madre, porque por desgracia hacemos lo que buenamente podemos en nuestras circunstancias. Dicho esto, cuando se generalizó la lactancia artificial en los años setenta u ochenta, hay unos intereses empresariales claros. La generalización de la lactancia artificial supuso un negocio ingente para las empresas de la industria láctea y alimentaria, como Nestlé o Danone, de ahí que se promocionara como se hizo. Y lo que se hizo fue incidir en el personal sanitario para que este fuera proclive a promocionar la lactancia artificial en detrimento de la lactancia materna.\n",
              "\n",
              "Por otro lado, uno de los elementos que ha incomodado más al feminismo con respecto a la lactancia es el carácter biológico de la práctica, que es biosocial, hay un elemento cultural y otro biológico. Yo creo que desde el feminismo se trata de reconocer tanto el carácter biológico como cultural de la maternidad y de la lactancia, pero precisamente por esto, fruto de esta incomodidad, muchas veces se ha considerado que la maternidad era una práctica que encerraba a las madres en el hogar, que las alejaba del mercado de trabajo, y es necesario cambiar la mirada. Porque dar de mamar es una práctica profundamente feminista, e incluso diría que antineoliberal y anticapitalista. En la medida en que dar la teta no es solo lo mejor para la criatura (y hay determinadas circunstancias en las que dar el biberón es lo mejor), también es extremadamente beneficiosa para la mamá y en particular después del parto, por lo que implica de recuperación, de vínculo con la criatura. A la vez, la lactancia materna permite la autonomía de la mujer, porque no necesita gastar dinero, sabe lo que le da de comer, es kilómetro cero… Y si decía que dar la teta es antineoliberal es porque es una práctica que no beneficia al mercado, que necesita de unos tiempos y de un espacio que son contrarios a la lógica mercantil y productivista, y no tiene un impacto negativo en el medio ambiente.\n",
              "\n",
              "P. <span style=\"color: blue;\">Las madres que optan por dar el pecho también suelen hablar de que esto supone una desigualdad insalvable con el padre en la tarea de cuidados.</span>\n",
              "\n",
              "R. <span style=\"color: red; font-weight: bold;\">Dar el biberón per se no te hace más libre como mujer, ni es un mecanismo de igualdad.</span> Basta con ver a las madres que dan el biberón y crían en soledad. Tampoco la teta per se te hace más libre. El carácter biológico de la lactancia es innegable, pero esto no implica que el padre no pueda implicarse en muchas otras tareas. Los bebés no solo se despiertan por la noche porque quieren mamar, sino por muchas otras circunstancias. Criar en igualdad no tiene tanto que ver con cómo alimentamos a la criatura nada más nacer, sino con muchos otros elementos vinculados a la relación de pareja y con un entorno social que es hostil a la maternidad y a la crianza.\n",
              "\n",
              "P. <span style=\"color: blue;\">La tercera pata del libro aborda la violencia obstétrica, y habla de una evolución progresiva en los hospitales. ¿Cuál es el panorama general ahora mismo?</span>\n",
              "\n",
              "R. Ha habido una serie de cambios muy significativos en relación a la atención al parto en el sistema hospitalario, que se han producido gracias y en parte a organizaciones de mujeres que han reivindicado un parto respetado. Sin <span style=\"color: blue;\">El parto es nuestro</span> no se entenderían los cambios en la atención sanitaria. Pero aún así, en la medida en que muchas de estas modificaciones que se han hecho a nivel gubernamental son de cumplimiento voluntario, aún existen muchas malas prácticas del personal sanitario, debido a que hay una serie de mitos y prejuicios en relación al nacimiento que acaban justificando estas prácticas. Y de hecho solo es necesario ver los porcentajes de cesáreas, de episiotomías, de partos instrumentales que se llevan a cabo, que son muy superiores de los que la Organización Mundial de la Salud considera razonables. Esto tiene un impacto físico y psíquico en las mujeres, y también en las criaturas.\n",
              "\n",
              "P. <span style=\"color: blue;\">Llama particularmente la atención las cifras de episiotomía, que indican que se dan en España en el 43% de los partos frente al tope del 15% que recomienda la OMS. ¿Hay una carga cultural en esto?</span>\n",
              "\n",
              "R. Más que una carga cultural hay unas prácticas médicas que consideran que en la medida en que el parto es una enfermedad, la atención al parto se aborda desde este punto de vista y esto dificulta que el proceso del parto se dé de manera natural. Estas prácticas facilitan el trabajo médico, pero tienen consecuencias negativas. En el caso de la episiotomía, particularmente, por lo que implica de problemas de micción, en las relaciones sexuales, etcétera. Hoy, cuatro de cada 10 mujeres que dan a luz sufren una episiotomía: hemos mejorado, porque en el año 95 eran 9 de cada 10. En los países nórdicos es 1 de cada 10. No creo que el periné de las mujeres españolas sea distinto al periné de las mujeres suecas. Si esto se produce es porque hay detrás unas prácticas médicas que consideran que esto es correcto. Hay que cambiar la formación médica para darle una perspectiva feminista y de género.\n",
              "\n",
              "P. <span style=\"color: blue;\">En el libro se pregunta dónde están las comadronas, y también se plantea el problema de la formación. ¿Cómo se relacionan estos dos aspectos, qué se aprende en las universidades y quienes llegan a atender el parto?</span>\n",
              "\n",
              "R. Decíamos que hay una visión por parte del personal sanitario patológica, que se ve como una enfermedad, y esta visión es compartida por la sociedad. Y en la medida en que la sociedad no reconoce el parto como un proceso fisiológico, es difícil conseguir que haya un parto respetado. <span style=\"color: red; font-weight: bold;\">Yo digo que la violencia obstétrica es la última frontera de la violencia de género porque es una violencia aceptada, por los profesionales, por las mujeres afectadas y por sus allegados.</span> Se considera que el parto es eso. Y por eso pensamos siempre que el personal mejor preparado para atender al parto es un ginecólogo, cuando en los partos de bajo riesgo es la comadrona. Hay que reivindicar la figura de la comadrona en la atención al parto y su plena autonomía como profesionales de la salud.\n",
              "\n",
              "P. <span style=\"color: blue;\">¿comadronas y madres son aliadas?</span>\n",
              "\n",
              "R. Sí, por supuesto. Lo que señalan muchos estudios es que en la medida en que el parto es llevada por comadronas, el grado de satisfacción de las mujeres que dan a luz es superior. El problema es que hay una profunda relación jerárquica en el sistema hospitalario que tienes a menospreciarlas. A la vez hay una falta también de este personal en los hospitales, que va en detrimento de la calidad de la atención al parto. Que haya más comadronas revierte positivamente en la salud de las mujeres.\n",
              "\n",
              "El 85% de excedencias para el cuidado de hijos tramitadas hasta marzo de 2021 fueron solicitadas por las madres\n",
              "\n",
              "P. <span style=\"color: blue;\">¿Cuál considera que debe ser el lugar desde el que se reclamen estas reivindicaciones alrededor de la maternidad?</span>\n",
              "\n",
              "R. Por un lado, es necesario que el feminismo reivindique la maternidad y la experiencia materna al margen de las imposiciones del sistema. Creo que esta nueva ola feminista, este feminismo del 99%, incorpore la maternidad a sus demandas y que se normalice la relación entre feminismos y maternidad. No como algo idílico o romántico, sino como experiencia y dándole el valor sociopolítico y económico que tiene. Luego están los grupos de crianza, los grupos de apoyo a la lactancia materna, creo que es importante que se sumen a esta oleada feminista en auge y que apuesten por una maternidad transformadora a la hora de llevar a cabo sus reivindicaciones. Porque la maternidad no es una cuestión individual, es una cuestión política. Porque si queremos vivir una maternidad digna lo que tenemos que hacer es cambiar el entorno socioeconómico. Y este cambio radical del sistema solo puede hacerse con el apoyo de otros movimientos sociales."
            ],
            "text/plain": [
              "<IPython.core.display.Markdown object>"
            ]
          },
          "metadata": {},
          "output_type": "display_data"
        }
      ],
      "source": [
        "analista_output = resultado.tasks_output[0].raw\n",
        "display(Markdown(analista_output))"
      ]
    }
  ],
  "metadata": {
    "colab": {
      "provenance": []
    },
    "kernelspec": {
      "display_name": ".venv",
      "language": "python",
      "name": "python3"
    },
    "language_info": {
      "codemirror_mode": {
        "name": "ipython",
        "version": 3
      },
      "file_extension": ".py",
      "mimetype": "text/x-python",
      "name": "python",
      "nbconvert_exporter": "python",
      "pygments_lexer": "ipython3",
      "version": "3.11.11"
    }
  },
  "nbformat": 4,
  "nbformat_minor": 0
}
