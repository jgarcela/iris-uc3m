{
 "cells": [
  {
   "cell_type": "markdown",
   "metadata": {},
   "source": [
    "# Pruebas declaraciones"
   ]
  },
  {
   "cell_type": "code",
   "execution_count": 1,
   "metadata": {},
   "outputs": [],
   "source": [
    "import pandas as pd\n",
    "import configparser\n",
    "import openai\n",
    "from pydantic import BaseModel\n",
    "from sklearn.metrics import classification_report, confusion_matrix, accuracy_score\n",
    "from tqdm import tqdm\n",
    "import json"
   ]
  },
  {
   "cell_type": "code",
   "execution_count": 2,
   "metadata": {},
   "outputs": [
    {
     "data": {
      "text/html": [
       "<div>\n",
       "<style scoped>\n",
       "    .dataframe tbody tr th:only-of-type {\n",
       "        vertical-align: middle;\n",
       "    }\n",
       "\n",
       "    .dataframe tbody tr th {\n",
       "        vertical-align: top;\n",
       "    }\n",
       "\n",
       "    .dataframe thead th {\n",
       "        text-align: right;\n",
       "    }\n",
       "</style>\n",
       "<table border=\"1\" class=\"dataframe\">\n",
       "  <thead>\n",
       "    <tr style=\"text-align: right;\">\n",
       "      <th></th>\n",
       "      <th>Unnamed: 0</th>\n",
       "      <th>N</th>\n",
       "      <th>n_periodico</th>\n",
       "      <th>enlace</th>\n",
       "      <th>Medio</th>\n",
       "      <th>año</th>\n",
       "      <th>Fecha</th>\n",
       "      <th>Nombreperiodista</th>\n",
       "      <th>Nombreperiodista_A</th>\n",
       "      <th>Género_periodista</th>\n",
       "      <th>...</th>\n",
       "      <th>@25ge3ero1oto</th>\n",
       "      <th>@25perspectiva</th>\n",
       "      <th>@25piedefoto</th>\n",
       "      <th>@26ge3ero1oto</th>\n",
       "      <th>@26perspectiva</th>\n",
       "      <th>@26piedefoto</th>\n",
       "      <th>@27ge3ero1oto</th>\n",
       "      <th>@27perspectiva</th>\n",
       "      <th>@27piedefoto</th>\n",
       "      <th>contenido</th>\n",
       "    </tr>\n",
       "  </thead>\n",
       "  <tbody>\n",
       "    <tr>\n",
       "      <th>0</th>\n",
       "      <td>0</td>\n",
       "      <td>12</td>\n",
       "      <td>12</td>\n",
       "      <td>https://www.infolibre.es/videolibre/como-lo-ve...</td>\n",
       "      <td>1</td>\n",
       "      <td>2021</td>\n",
       "      <td>10/10/2021</td>\n",
       "      <td>Antonio Contreras</td>\n",
       "      <td>ANTONIO CONTRERAS</td>\n",
       "      <td>0</td>\n",
       "      <td>...</td>\n",
       "      <td></td>\n",
       "      <td></td>\n",
       "      <td></td>\n",
       "      <td></td>\n",
       "      <td></td>\n",
       "      <td></td>\n",
       "      <td></td>\n",
       "      <td></td>\n",
       "      <td></td>\n",
       "      <td>Antonio Lucas (Madrid, 1975) acaba de publicar...</td>\n",
       "    </tr>\n",
       "    <tr>\n",
       "      <th>1</th>\n",
       "      <td>1</td>\n",
       "      <td>438</td>\n",
       "      <td>276</td>\n",
       "      <td>https://www.lavanguardia.com/participacion/car...</td>\n",
       "      <td>2</td>\n",
       "      <td>2021</td>\n",
       "      <td>28/1/2021</td>\n",
       "      <td>ANDREU YAKUBUV-TREMBACH</td>\n",
       "      <td>ANDREU YAKUBUV-TREMBACH</td>\n",
       "      <td>0</td>\n",
       "      <td>...</td>\n",
       "      <td></td>\n",
       "      <td></td>\n",
       "      <td></td>\n",
       "      <td></td>\n",
       "      <td></td>\n",
       "      <td></td>\n",
       "      <td></td>\n",
       "      <td></td>\n",
       "      <td></td>\n",
       "      <td>Distinguir entre las esferas íntima y privada ...</td>\n",
       "    </tr>\n",
       "    <tr>\n",
       "      <th>2</th>\n",
       "      <td>2</td>\n",
       "      <td>1411</td>\n",
       "      <td>414</td>\n",
       "      <td>https://www.elmundo.es/economia/2020/04/08/5e8...</td>\n",
       "      <td>3</td>\n",
       "      <td>2020</td>\n",
       "      <td>8/4/2020</td>\n",
       "      <td>EDUARDO FERNÁNDEZ</td>\n",
       "      <td>EDUARDO FERNÁNDEZ</td>\n",
       "      <td>0</td>\n",
       "      <td>...</td>\n",
       "      <td></td>\n",
       "      <td></td>\n",
       "      <td></td>\n",
       "      <td></td>\n",
       "      <td></td>\n",
       "      <td></td>\n",
       "      <td></td>\n",
       "      <td></td>\n",
       "      <td></td>\n",
       "      <td>Directo. Última hora sobre el coronavirus\\n\\nL...</td>\n",
       "    </tr>\n",
       "    <tr>\n",
       "      <th>3</th>\n",
       "      <td>3</td>\n",
       "      <td>1418</td>\n",
       "      <td>421</td>\n",
       "      <td>https://www.elmundo.es/vida-sana/familia-y-co/...</td>\n",
       "      <td>3</td>\n",
       "      <td>2020</td>\n",
       "      <td>20/3/2020</td>\n",
       "      <td>MAR MUÑIZ</td>\n",
       "      <td>MAR MUÑIZ</td>\n",
       "      <td>1</td>\n",
       "      <td>...</td>\n",
       "      <td></td>\n",
       "      <td></td>\n",
       "      <td></td>\n",
       "      <td></td>\n",
       "      <td></td>\n",
       "      <td></td>\n",
       "      <td></td>\n",
       "      <td></td>\n",
       "      <td></td>\n",
       "      <td>Coronavirus: ¿nos convalidarán Teleco por tele...</td>\n",
       "    </tr>\n",
       "    <tr>\n",
       "      <th>4</th>\n",
       "      <td>4</td>\n",
       "      <td>1836</td>\n",
       "      <td>839</td>\n",
       "      <td>https://www.elmundo.es/papel/historias/2019/03...</td>\n",
       "      <td>3</td>\n",
       "      <td>2019</td>\n",
       "      <td>3/3/2019</td>\n",
       "      <td>FERMÍN ELIZARI</td>\n",
       "      <td>FERMÍN ELIZARI</td>\n",
       "      <td>0</td>\n",
       "      <td>...</td>\n",
       "      <td></td>\n",
       "      <td></td>\n",
       "      <td></td>\n",
       "      <td></td>\n",
       "      <td></td>\n",
       "      <td></td>\n",
       "      <td></td>\n",
       "      <td></td>\n",
       "      <td></td>\n",
       "      <td>15.000 personas de todo el mundo revisan las p...</td>\n",
       "    </tr>\n",
       "    <tr>\n",
       "      <th>...</th>\n",
       "      <td>...</td>\n",
       "      <td>...</td>\n",
       "      <td>...</td>\n",
       "      <td>...</td>\n",
       "      <td>...</td>\n",
       "      <td>...</td>\n",
       "      <td>...</td>\n",
       "      <td>...</td>\n",
       "      <td>...</td>\n",
       "      <td>...</td>\n",
       "      <td>...</td>\n",
       "      <td>...</td>\n",
       "      <td>...</td>\n",
       "      <td>...</td>\n",
       "      <td>...</td>\n",
       "      <td>...</td>\n",
       "      <td>...</td>\n",
       "      <td>...</td>\n",
       "      <td>...</td>\n",
       "      <td>...</td>\n",
       "      <td>...</td>\n",
       "    </tr>\n",
       "    <tr>\n",
       "      <th>4122</th>\n",
       "      <td>4130</td>\n",
       "      <td>4130</td>\n",
       "      <td>1325</td>\n",
       "      <td>https://elpais.com/tecnologia/2017/01/17/actua...</td>\n",
       "      <td>4</td>\n",
       "      <td>2017</td>\n",
       "      <td>18/1/2017</td>\n",
       "      <td>MARYA G. NIETO</td>\n",
       "      <td>MARYA G. NIETO</td>\n",
       "      <td>1</td>\n",
       "      <td>...</td>\n",
       "      <td></td>\n",
       "      <td></td>\n",
       "      <td></td>\n",
       "      <td></td>\n",
       "      <td></td>\n",
       "      <td></td>\n",
       "      <td></td>\n",
       "      <td></td>\n",
       "      <td></td>\n",
       "      <td>Dos algoritmos clave en el desarrollo de los a...</td>\n",
       "    </tr>\n",
       "    <tr>\n",
       "      <th>4123</th>\n",
       "      <td>4131</td>\n",
       "      <td>4131</td>\n",
       "      <td>1326</td>\n",
       "      <td>https://elpais.com/elpais/2017/01/05/eps/14835...</td>\n",
       "      <td>4</td>\n",
       "      <td>2017</td>\n",
       "      <td>5/1/2017</td>\n",
       "      <td>JAVIER MARTÍN DEL BARRIO</td>\n",
       "      <td>JAVIER MARTÍN DEL BARRIO</td>\n",
       "      <td>0</td>\n",
       "      <td>...</td>\n",
       "      <td></td>\n",
       "      <td></td>\n",
       "      <td></td>\n",
       "      <td></td>\n",
       "      <td></td>\n",
       "      <td></td>\n",
       "      <td></td>\n",
       "      <td></td>\n",
       "      <td></td>\n",
       "      <td>RANA EL KALIOUBY no es una estrella de la canc...</td>\n",
       "    </tr>\n",
       "    <tr>\n",
       "      <th>4124</th>\n",
       "      <td>4132</td>\n",
       "      <td>4132</td>\n",
       "      <td>1327</td>\n",
       "      <td>https://elpais.com/elpais/2017/01/18/eps/14846...</td>\n",
       "      <td>4</td>\n",
       "      <td>2017</td>\n",
       "      <td>18/1/2017</td>\n",
       "      <td>GUILLERMO ABRIL</td>\n",
       "      <td>GUILLERMO ABRIL</td>\n",
       "      <td>0</td>\n",
       "      <td>...</td>\n",
       "      <td></td>\n",
       "      <td></td>\n",
       "      <td></td>\n",
       "      <td></td>\n",
       "      <td></td>\n",
       "      <td></td>\n",
       "      <td></td>\n",
       "      <td></td>\n",
       "      <td></td>\n",
       "      <td>CUANDO ATERRIZÓ en España, en septiembre de 20...</td>\n",
       "    </tr>\n",
       "    <tr>\n",
       "      <th>4125</th>\n",
       "      <td>4133</td>\n",
       "      <td>4134</td>\n",
       "      <td>1329</td>\n",
       "      <td>https://elpais.com/elpais/2017/01/15/opinion/1...</td>\n",
       "      <td>4</td>\n",
       "      <td>2017</td>\n",
       "      <td>16/1/2017</td>\n",
       "      <td>JOAQUÍN PRIETO</td>\n",
       "      <td>JOAQUÍN PRIETO</td>\n",
       "      <td>0</td>\n",
       "      <td>...</td>\n",
       "      <td></td>\n",
       "      <td></td>\n",
       "      <td></td>\n",
       "      <td></td>\n",
       "      <td></td>\n",
       "      <td></td>\n",
       "      <td></td>\n",
       "      <td></td>\n",
       "      <td></td>\n",
       "      <td>Las últimas campañas electorales celebradas en...</td>\n",
       "    </tr>\n",
       "    <tr>\n",
       "      <th>4126</th>\n",
       "      <td>4134</td>\n",
       "      <td>4135</td>\n",
       "      <td>1330</td>\n",
       "      <td>https://elpais.com/elpais/2017/01/20/opinion/1...</td>\n",
       "      <td>4</td>\n",
       "      <td>2017</td>\n",
       "      <td>21/1/2017</td>\n",
       "      <td>ROSARIO G. GÓMEZ</td>\n",
       "      <td>ROSARIO G. GÓMEZ</td>\n",
       "      <td>1</td>\n",
       "      <td>...</td>\n",
       "      <td></td>\n",
       "      <td></td>\n",
       "      <td></td>\n",
       "      <td></td>\n",
       "      <td></td>\n",
       "      <td></td>\n",
       "      <td></td>\n",
       "      <td></td>\n",
       "      <td></td>\n",
       "      <td>Desde el monstruo de Frankenstein, descrito po...</td>\n",
       "    </tr>\n",
       "  </tbody>\n",
       "</table>\n",
       "<p>4127 rows × 155 columns</p>\n",
       "</div>"
      ],
      "text/plain": [
       "      Unnamed: 0     N  n_periodico  \\\n",
       "0              0    12           12   \n",
       "1              1   438          276   \n",
       "2              2  1411          414   \n",
       "3              3  1418          421   \n",
       "4              4  1836          839   \n",
       "...          ...   ...          ...   \n",
       "4122        4130  4130         1325   \n",
       "4123        4131  4131         1326   \n",
       "4124        4132  4132         1327   \n",
       "4125        4133  4134         1329   \n",
       "4126        4134  4135         1330   \n",
       "\n",
       "                                                 enlace  Medio   año  \\\n",
       "0     https://www.infolibre.es/videolibre/como-lo-ve...      1  2021   \n",
       "1     https://www.lavanguardia.com/participacion/car...      2  2021   \n",
       "2     https://www.elmundo.es/economia/2020/04/08/5e8...      3  2020   \n",
       "3     https://www.elmundo.es/vida-sana/familia-y-co/...      3  2020   \n",
       "4     https://www.elmundo.es/papel/historias/2019/03...      3  2019   \n",
       "...                                                 ...    ...   ...   \n",
       "4122  https://elpais.com/tecnologia/2017/01/17/actua...      4  2017   \n",
       "4123  https://elpais.com/elpais/2017/01/05/eps/14835...      4  2017   \n",
       "4124  https://elpais.com/elpais/2017/01/18/eps/14846...      4  2017   \n",
       "4125  https://elpais.com/elpais/2017/01/15/opinion/1...      4  2017   \n",
       "4126  https://elpais.com/elpais/2017/01/20/opinion/1...      4  2017   \n",
       "\n",
       "           Fecha          Nombreperiodista        Nombreperiodista_A  \\\n",
       "0     10/10/2021         Antonio Contreras         ANTONIO CONTRERAS   \n",
       "1      28/1/2021   ANDREU YAKUBUV-TREMBACH   ANDREU YAKUBUV-TREMBACH   \n",
       "2       8/4/2020         EDUARDO FERNÁNDEZ         EDUARDO FERNÁNDEZ   \n",
       "3      20/3/2020                 MAR MUÑIZ                 MAR MUÑIZ   \n",
       "4       3/3/2019            FERMÍN ELIZARI            FERMÍN ELIZARI   \n",
       "...          ...                       ...                       ...   \n",
       "4122   18/1/2017            MARYA G. NIETO            MARYA G. NIETO   \n",
       "4123    5/1/2017  JAVIER MARTÍN DEL BARRIO  JAVIER MARTÍN DEL BARRIO   \n",
       "4124   18/1/2017           GUILLERMO ABRIL           GUILLERMO ABRIL   \n",
       "4125   16/1/2017            JOAQUÍN PRIETO            JOAQUÍN PRIETO   \n",
       "4126   21/1/2017          ROSARIO G. GÓMEZ          ROSARIO G. GÓMEZ   \n",
       "\n",
       "      Género_periodista  ... @25ge3ero1oto  @25perspectiva  @25piedefoto  \\\n",
       "0                     0  ...                                               \n",
       "1                     0  ...                                               \n",
       "2                     0  ...                                               \n",
       "3                     1  ...                                               \n",
       "4                     0  ...                                               \n",
       "...                 ...  ...           ...             ...           ...   \n",
       "4122                  1  ...                                               \n",
       "4123                  0  ...                                               \n",
       "4124                  0  ...                                               \n",
       "4125                  0  ...                                               \n",
       "4126                  1  ...                                               \n",
       "\n",
       "      @26ge3ero1oto  @26perspectiva  @26piedefoto  @27ge3ero1oto  \\\n",
       "0                                                                  \n",
       "1                                                                  \n",
       "2                                                                  \n",
       "3                                                                  \n",
       "4                                                                  \n",
       "...             ...             ...           ...            ...   \n",
       "4122                                                               \n",
       "4123                                                               \n",
       "4124                                                               \n",
       "4125                                                               \n",
       "4126                                                               \n",
       "\n",
       "      @27perspectiva  @27piedefoto  \\\n",
       "0                                    \n",
       "1                                    \n",
       "2                                    \n",
       "3                                    \n",
       "4                                    \n",
       "...              ...           ...   \n",
       "4122                                 \n",
       "4123                                 \n",
       "4124                                 \n",
       "4125                                 \n",
       "4126                                 \n",
       "\n",
       "                                              contenido  \n",
       "0     Antonio Lucas (Madrid, 1975) acaba de publicar...  \n",
       "1     Distinguir entre las esferas íntima y privada ...  \n",
       "2     Directo. Última hora sobre el coronavirus\\n\\nL...  \n",
       "3     Coronavirus: ¿nos convalidarán Teleco por tele...  \n",
       "4     15.000 personas de todo el mundo revisan las p...  \n",
       "...                                                 ...  \n",
       "4122  Dos algoritmos clave en el desarrollo de los a...  \n",
       "4123  RANA EL KALIOUBY no es una estrella de la canc...  \n",
       "4124  CUANDO ATERRIZÓ en España, en septiembre de 20...  \n",
       "4125  Las últimas campañas electorales celebradas en...  \n",
       "4126  Desde el monstruo de Frankenstein, descrito po...  \n",
       "\n",
       "[4127 rows x 155 columns]"
      ]
     },
     "execution_count": 2,
     "metadata": {},
     "output_type": "execute_result"
    }
   ],
   "source": [
    "data = pd.read_csv(\"../data/contenido_2023_04_05_matriz_not_julia.csv\")\n",
    "data"
   ]
  },
  {
   "cell_type": "code",
   "execution_count": null,
   "metadata": {},
   "outputs": [
    {
     "data": {
      "text/html": [
       "<div>\n",
       "<style scoped>\n",
       "    .dataframe tbody tr th:only-of-type {\n",
       "        vertical-align: middle;\n",
       "    }\n",
       "\n",
       "    .dataframe tbody tr th {\n",
       "        vertical-align: top;\n",
       "    }\n",
       "\n",
       "    .dataframe thead th {\n",
       "        text-align: right;\n",
       "    }\n",
       "</style>\n",
       "<table border=\"1\" class=\"dataframe\">\n",
       "  <thead>\n",
       "    <tr style=\"text-align: right;\">\n",
       "      <th></th>\n",
       "      <th>Unnamed: 0</th>\n",
       "      <th>N</th>\n",
       "      <th>n_periodico</th>\n",
       "      <th>enlace</th>\n",
       "      <th>Medio</th>\n",
       "      <th>año</th>\n",
       "      <th>Fecha</th>\n",
       "      <th>Nombreperiodista</th>\n",
       "      <th>Nombreperiodista_A</th>\n",
       "      <th>Género_periodista</th>\n",
       "      <th>...</th>\n",
       "      <th>@25ge3ero1oto</th>\n",
       "      <th>@25perspectiva</th>\n",
       "      <th>@25piedefoto</th>\n",
       "      <th>@26ge3ero1oto</th>\n",
       "      <th>@26perspectiva</th>\n",
       "      <th>@26piedefoto</th>\n",
       "      <th>@27ge3ero1oto</th>\n",
       "      <th>@27perspectiva</th>\n",
       "      <th>@27piedefoto</th>\n",
       "      <th>contenido</th>\n",
       "    </tr>\n",
       "  </thead>\n",
       "  <tbody>\n",
       "    <tr>\n",
       "      <th>0</th>\n",
       "      <td>0</td>\n",
       "      <td>12</td>\n",
       "      <td>12</td>\n",
       "      <td>https://www.infolibre.es/videolibre/como-lo-ve...</td>\n",
       "      <td>1</td>\n",
       "      <td>2021</td>\n",
       "      <td>10/10/2021</td>\n",
       "      <td>Antonio Contreras</td>\n",
       "      <td>ANTONIO CONTRERAS</td>\n",
       "      <td>0</td>\n",
       "      <td>...</td>\n",
       "      <td></td>\n",
       "      <td></td>\n",
       "      <td></td>\n",
       "      <td></td>\n",
       "      <td></td>\n",
       "      <td></td>\n",
       "      <td></td>\n",
       "      <td></td>\n",
       "      <td></td>\n",
       "      <td>Antonio Lucas (Madrid, 1975) acaba de publicar...</td>\n",
       "    </tr>\n",
       "    <tr>\n",
       "      <th>1</th>\n",
       "      <td>1</td>\n",
       "      <td>438</td>\n",
       "      <td>276</td>\n",
       "      <td>https://www.lavanguardia.com/participacion/car...</td>\n",
       "      <td>2</td>\n",
       "      <td>2021</td>\n",
       "      <td>28/1/2021</td>\n",
       "      <td>ANDREU YAKUBUV-TREMBACH</td>\n",
       "      <td>ANDREU YAKUBUV-TREMBACH</td>\n",
       "      <td>0</td>\n",
       "      <td>...</td>\n",
       "      <td></td>\n",
       "      <td></td>\n",
       "      <td></td>\n",
       "      <td></td>\n",
       "      <td></td>\n",
       "      <td></td>\n",
       "      <td></td>\n",
       "      <td></td>\n",
       "      <td></td>\n",
       "      <td>Distinguir entre las esferas íntima y privada ...</td>\n",
       "    </tr>\n",
       "    <tr>\n",
       "      <th>2</th>\n",
       "      <td>2</td>\n",
       "      <td>1411</td>\n",
       "      <td>414</td>\n",
       "      <td>https://www.elmundo.es/economia/2020/04/08/5e8...</td>\n",
       "      <td>3</td>\n",
       "      <td>2020</td>\n",
       "      <td>8/4/2020</td>\n",
       "      <td>EDUARDO FERNÁNDEZ</td>\n",
       "      <td>EDUARDO FERNÁNDEZ</td>\n",
       "      <td>0</td>\n",
       "      <td>...</td>\n",
       "      <td></td>\n",
       "      <td></td>\n",
       "      <td></td>\n",
       "      <td></td>\n",
       "      <td></td>\n",
       "      <td></td>\n",
       "      <td></td>\n",
       "      <td></td>\n",
       "      <td></td>\n",
       "      <td>Directo. Última hora sobre el coronavirus\\n\\nL...</td>\n",
       "    </tr>\n",
       "    <tr>\n",
       "      <th>3</th>\n",
       "      <td>3</td>\n",
       "      <td>1418</td>\n",
       "      <td>421</td>\n",
       "      <td>https://www.elmundo.es/vida-sana/familia-y-co/...</td>\n",
       "      <td>3</td>\n",
       "      <td>2020</td>\n",
       "      <td>20/3/2020</td>\n",
       "      <td>MAR MUÑIZ</td>\n",
       "      <td>MAR MUÑIZ</td>\n",
       "      <td>1</td>\n",
       "      <td>...</td>\n",
       "      <td></td>\n",
       "      <td></td>\n",
       "      <td></td>\n",
       "      <td></td>\n",
       "      <td></td>\n",
       "      <td></td>\n",
       "      <td></td>\n",
       "      <td></td>\n",
       "      <td></td>\n",
       "      <td>Coronavirus: ¿nos convalidarán Teleco por tele...</td>\n",
       "    </tr>\n",
       "    <tr>\n",
       "      <th>4</th>\n",
       "      <td>4</td>\n",
       "      <td>1836</td>\n",
       "      <td>839</td>\n",
       "      <td>https://www.elmundo.es/papel/historias/2019/03...</td>\n",
       "      <td>3</td>\n",
       "      <td>2019</td>\n",
       "      <td>3/3/2019</td>\n",
       "      <td>FERMÍN ELIZARI</td>\n",
       "      <td>FERMÍN ELIZARI</td>\n",
       "      <td>0</td>\n",
       "      <td>...</td>\n",
       "      <td></td>\n",
       "      <td></td>\n",
       "      <td></td>\n",
       "      <td></td>\n",
       "      <td></td>\n",
       "      <td></td>\n",
       "      <td></td>\n",
       "      <td></td>\n",
       "      <td></td>\n",
       "      <td>15.000 personas de todo el mundo revisan las p...</td>\n",
       "    </tr>\n",
       "    <tr>\n",
       "      <th>...</th>\n",
       "      <td>...</td>\n",
       "      <td>...</td>\n",
       "      <td>...</td>\n",
       "      <td>...</td>\n",
       "      <td>...</td>\n",
       "      <td>...</td>\n",
       "      <td>...</td>\n",
       "      <td>...</td>\n",
       "      <td>...</td>\n",
       "      <td>...</td>\n",
       "      <td>...</td>\n",
       "      <td>...</td>\n",
       "      <td>...</td>\n",
       "      <td>...</td>\n",
       "      <td>...</td>\n",
       "      <td>...</td>\n",
       "      <td>...</td>\n",
       "      <td>...</td>\n",
       "      <td>...</td>\n",
       "      <td>...</td>\n",
       "      <td>...</td>\n",
       "    </tr>\n",
       "    <tr>\n",
       "      <th>95</th>\n",
       "      <td>95</td>\n",
       "      <td>4007</td>\n",
       "      <td>1202</td>\n",
       "      <td>https://elpais.com/ccaa/2017/04/21/catalunya/1...</td>\n",
       "      <td>4</td>\n",
       "      <td>2017</td>\n",
       "      <td>21/4/2017</td>\n",
       "      <td>CARLES GELI</td>\n",
       "      <td>CARLES GELI</td>\n",
       "      <td>0</td>\n",
       "      <td>...</td>\n",
       "      <td></td>\n",
       "      <td></td>\n",
       "      <td></td>\n",
       "      <td></td>\n",
       "      <td></td>\n",
       "      <td></td>\n",
       "      <td></td>\n",
       "      <td></td>\n",
       "      <td></td>\n",
       "      <td>Hace un tiempo que los neurocientíficos buscan...</td>\n",
       "    </tr>\n",
       "    <tr>\n",
       "      <th>96</th>\n",
       "      <td>96</td>\n",
       "      <td>4037</td>\n",
       "      <td>1232</td>\n",
       "      <td>https://elpais.com/elpais/2017/03/30/icon/1490...</td>\n",
       "      <td>4</td>\n",
       "      <td>2017</td>\n",
       "      <td>30/3/2017</td>\n",
       "      <td>IÑIGO LÓPEZ PALACIOS</td>\n",
       "      <td>IÑIGO LÓPEZ PALACIOS</td>\n",
       "      <td>0</td>\n",
       "      <td>...</td>\n",
       "      <td></td>\n",
       "      <td></td>\n",
       "      <td></td>\n",
       "      <td></td>\n",
       "      <td></td>\n",
       "      <td></td>\n",
       "      <td></td>\n",
       "      <td></td>\n",
       "      <td></td>\n",
       "      <td>Hay muchas cosas desconocidas del funcionamien...</td>\n",
       "    </tr>\n",
       "    <tr>\n",
       "      <th>97</th>\n",
       "      <td>97</td>\n",
       "      <td>4053</td>\n",
       "      <td>1248</td>\n",
       "      <td>https://elpais.com/tecnologia/2017/02/20/actua...</td>\n",
       "      <td>4</td>\n",
       "      <td>2017</td>\n",
       "      <td>22/2/2017</td>\n",
       "      <td>PATRICIA PEIRÓ</td>\n",
       "      <td>PATRICIA PEIRÓ</td>\n",
       "      <td>1</td>\n",
       "      <td>...</td>\n",
       "      <td></td>\n",
       "      <td></td>\n",
       "      <td></td>\n",
       "      <td></td>\n",
       "      <td></td>\n",
       "      <td></td>\n",
       "      <td></td>\n",
       "      <td></td>\n",
       "      <td></td>\n",
       "      <td>Harriet Green dirige la división de Internet d...</td>\n",
       "    </tr>\n",
       "    <tr>\n",
       "      <th>98</th>\n",
       "      <td>98</td>\n",
       "      <td>4091</td>\n",
       "      <td>1286</td>\n",
       "      <td>https://elpais.com/tecnologia/2017/01/20/actua...</td>\n",
       "      <td>4</td>\n",
       "      <td>2017</td>\n",
       "      <td>22/1/2017</td>\n",
       "      <td>BEATRIZ GUILLÉN</td>\n",
       "      <td>BEATRIZ GUILLÉN</td>\n",
       "      <td>1</td>\n",
       "      <td>...</td>\n",
       "      <td></td>\n",
       "      <td></td>\n",
       "      <td></td>\n",
       "      <td></td>\n",
       "      <td></td>\n",
       "      <td></td>\n",
       "      <td></td>\n",
       "      <td></td>\n",
       "      <td></td>\n",
       "      <td>Regina Barzilay (1970, Chisináu, Moldavia) es ...</td>\n",
       "    </tr>\n",
       "    <tr>\n",
       "      <th>99</th>\n",
       "      <td>99</td>\n",
       "      <td>4113</td>\n",
       "      <td>1308</td>\n",
       "      <td>https://elpais.com/cultura/2017/01/20/televisi...</td>\n",
       "      <td>4</td>\n",
       "      <td>2017</td>\n",
       "      <td>21/1/2017</td>\n",
       "      <td>NATALIA MARCOS</td>\n",
       "      <td>NATALIA MARCOS</td>\n",
       "      <td>1</td>\n",
       "      <td>...</td>\n",
       "      <td></td>\n",
       "      <td></td>\n",
       "      <td></td>\n",
       "      <td></td>\n",
       "      <td></td>\n",
       "      <td></td>\n",
       "      <td></td>\n",
       "      <td></td>\n",
       "      <td></td>\n",
       "      <td>Antes de que, en la pequeña pantalla, los robo...</td>\n",
       "    </tr>\n",
       "  </tbody>\n",
       "</table>\n",
       "<p>100 rows × 155 columns</p>\n",
       "</div>"
      ],
      "text/plain": [
       "    Unnamed: 0     N  n_periodico  \\\n",
       "0            0    12           12   \n",
       "1            1   438          276   \n",
       "2            2  1411          414   \n",
       "3            3  1418          421   \n",
       "4            4  1836          839   \n",
       "..         ...   ...          ...   \n",
       "95          95  4007         1202   \n",
       "96          96  4037         1232   \n",
       "97          97  4053         1248   \n",
       "98          98  4091         1286   \n",
       "99          99  4113         1308   \n",
       "\n",
       "                                               enlace  Medio   año  \\\n",
       "0   https://www.infolibre.es/videolibre/como-lo-ve...      1  2021   \n",
       "1   https://www.lavanguardia.com/participacion/car...      2  2021   \n",
       "2   https://www.elmundo.es/economia/2020/04/08/5e8...      3  2020   \n",
       "3   https://www.elmundo.es/vida-sana/familia-y-co/...      3  2020   \n",
       "4   https://www.elmundo.es/papel/historias/2019/03...      3  2019   \n",
       "..                                                ...    ...   ...   \n",
       "95  https://elpais.com/ccaa/2017/04/21/catalunya/1...      4  2017   \n",
       "96  https://elpais.com/elpais/2017/03/30/icon/1490...      4  2017   \n",
       "97  https://elpais.com/tecnologia/2017/02/20/actua...      4  2017   \n",
       "98  https://elpais.com/tecnologia/2017/01/20/actua...      4  2017   \n",
       "99  https://elpais.com/cultura/2017/01/20/televisi...      4  2017   \n",
       "\n",
       "         Fecha         Nombreperiodista       Nombreperiodista_A  \\\n",
       "0   10/10/2021        Antonio Contreras        ANTONIO CONTRERAS   \n",
       "1    28/1/2021  ANDREU YAKUBUV-TREMBACH  ANDREU YAKUBUV-TREMBACH   \n",
       "2     8/4/2020        EDUARDO FERNÁNDEZ        EDUARDO FERNÁNDEZ   \n",
       "3    20/3/2020                MAR MUÑIZ                MAR MUÑIZ   \n",
       "4     3/3/2019           FERMÍN ELIZARI           FERMÍN ELIZARI   \n",
       "..         ...                      ...                      ...   \n",
       "95   21/4/2017              CARLES GELI              CARLES GELI   \n",
       "96   30/3/2017     IÑIGO LÓPEZ PALACIOS     IÑIGO LÓPEZ PALACIOS   \n",
       "97   22/2/2017           PATRICIA PEIRÓ           PATRICIA PEIRÓ   \n",
       "98   22/1/2017          BEATRIZ GUILLÉN          BEATRIZ GUILLÉN   \n",
       "99   21/1/2017           NATALIA MARCOS           NATALIA MARCOS   \n",
       "\n",
       "    Género_periodista  ... @25ge3ero1oto  @25perspectiva  @25piedefoto  \\\n",
       "0                   0  ...                                               \n",
       "1                   0  ...                                               \n",
       "2                   0  ...                                               \n",
       "3                   1  ...                                               \n",
       "4                   0  ...                                               \n",
       "..                ...  ...           ...             ...           ...   \n",
       "95                  0  ...                                               \n",
       "96                  0  ...                                               \n",
       "97                  1  ...                                               \n",
       "98                  1  ...                                               \n",
       "99                  1  ...                                               \n",
       "\n",
       "    @26ge3ero1oto  @26perspectiva  @26piedefoto  @27ge3ero1oto  \\\n",
       "0                                                                \n",
       "1                                                                \n",
       "2                                                                \n",
       "3                                                                \n",
       "4                                                                \n",
       "..            ...             ...           ...            ...   \n",
       "95                                                               \n",
       "96                                                               \n",
       "97                                                               \n",
       "98                                                               \n",
       "99                                                               \n",
       "\n",
       "    @27perspectiva  @27piedefoto  \\\n",
       "0                                  \n",
       "1                                  \n",
       "2                                  \n",
       "3                                  \n",
       "4                                  \n",
       "..             ...           ...   \n",
       "95                                 \n",
       "96                                 \n",
       "97                                 \n",
       "98                                 \n",
       "99                                 \n",
       "\n",
       "                                            contenido  \n",
       "0   Antonio Lucas (Madrid, 1975) acaba de publicar...  \n",
       "1   Distinguir entre las esferas íntima y privada ...  \n",
       "2   Directo. Última hora sobre el coronavirus\\n\\nL...  \n",
       "3   Coronavirus: ¿nos convalidarán Teleco por tele...  \n",
       "4   15.000 personas de todo el mundo revisan las p...  \n",
       "..                                                ...  \n",
       "95  Hace un tiempo que los neurocientíficos buscan...  \n",
       "96  Hay muchas cosas desconocidas del funcionamien...  \n",
       "97  Harriet Green dirige la división de Internet d...  \n",
       "98  Regina Barzilay (1970, Chisináu, Moldavia) es ...  \n",
       "99  Antes de que, en la pequeña pantalla, los robo...  \n",
       "\n",
       "[100 rows x 155 columns]"
      ]
     },
     "execution_count": 3,
     "metadata": {},
     "output_type": "execute_result"
    }
   ],
   "source": [
    "data = data[:100]\n",
    "data"
   ]
  },
  {
   "cell_type": "code",
   "execution_count": null,
   "metadata": {},
   "outputs": [],
   "source": [
    "class Quote(BaseModel):\n",
    "    cita_textual: str\n",
    "    fuente: str\n",
    "    genero_fuente: str\n",
    "    colectivos: list[str]\n",
    "    verbo: str\n",
    "\n",
    "class ResponseFormat(BaseModel):\n",
    "    quotes: list[Quote]\n",
    "    num_quotes: int\n",
    "\n",
    "config = configparser.ConfigParser()\n",
    "config.read('config.ini')\n",
    "\n",
    "OPENAI_MODEL = config['DEFAULT']['OPENAI_MODEL']\n",
    "openai.api_key = config['DEFAULT']['OPENAI_API_KEY']"
   ]
  },
  {
   "cell_type": "code",
   "execution_count": 5,
   "metadata": {},
   "outputs": [
    {
     "name": "stderr",
     "output_type": "stream",
     "text": [
      "Procesando predicciones:   1%|          | 1/100 [00:08<13:48,  8.37s/it]"
     ]
    },
    {
     "name": "stdout",
     "output_type": "stream",
     "text": [
      "{\"quotes\":[{\"cita_textual\":\"\\\"Yo encontré en esos hombres el quilate más puro del humano: la nobleza, la lealtad, la bondad, una bondad sin orillas. La lección que yo me llevo de Gran Sol, curiosamente, no es el mar. Son los hombres que surcan un mar, que saben que su vida es aquello que ese mismo mar no les ha querido arrancar\\\"\",\"fuente\":\"Antonio Lucas\",\"genero_fuente\":\"masculino\",\"colectivos\":[\"hombres\",\"marineros\"] ,\"verbo\":\"encontré\"},{\"cita_textual\":\"\\\"Al trabajar en un periódico, aunque yo siempre he pertenecido a la parte de cultura, te impregnas del día a día, de ese pulso, de esa vibración de la política.\\\"\",\"fuente\":\"Antonio Lucas\",\"genero_fuente\":\"masculino\",\"colectivos\":[\"día a día\",\"política\"],\"verbo\":\"trabajar\"},{\"cita_textual\":\"\\\"Creo que uno de los momentos más importantes a nivel cívico de este país fue el 15M, donde, de repente, hubo una verdadera pulsión, o un apetito, por implicarse en la política, saber de política o estudiar política, o, por lo menos, discutir de política.\\\"\",\"fuente\":\"Antonio Lucas\",\"genero_fuente\":\"masculino\",\"colectivos\":[\"gente joven\",\"15M\"],\"verbo\":\"creo\"},{\"cita_textual\":\"\\\"Escribo en un periódico con mucha libertad, pero no siempre en sintonía con la línea editorial.\\\"\",\"fuente\":\"Antonio Lucas\",\"genero_fuente\":\"masculino\",\"colectivos\":[],\"verbo\":\"escribo\"},{\"cita_textual\":\"\\\"Cuando escucho descalificaciones, pienso que es la peor parte del idioma.\\\"\",\"fuente\":\"Antonio Lucas\",\"genero_fuente\":\"masculino\",\"colectivos\":[],\"verbo\":\"escuchar\"},{\"cita_textual\":\"\\\"A mí me parece muy bien que haya una coalición progresista.\\\"\",\"fuente\":\"Antonio Lucas\",\"genero_fuente\":\"masculino\",\"colectivos\":[\"coalición progresista\"],\"verbo\":\"parece\"},{\"cita_textual\":\"\\\"Me incomoda mucho la ultraderecha.\\\"\",\"fuente\":\"Antonio Lucas\",\"genero_fuente\":\"masculino\",\"colectivos\":[\"ultraderecha\"],\"verbo\":\"incomoda\"},{\"cita_textual\":\"\\\"Considero que estamos en un momento de cierta transición en muchas cosas y la pandemia, además, ha acelerado todo esto.\\\"\",\"fuente\":\"Antonio Lucas\",\"genero_fuente\":\"masculino\",\"colectivos\":[],\"verbo\":\"considero\"},{\"cita_textual\":\"\\\"Estoy en una situación de mi vida entre expectante y un poco intimidado.\\\"\",\"fuente\":\"Antonio Lucas\",\"genero_fuente\":\"masculino\",\"colectivos\":[],\"verbo\":\"estoy\"},{\"cita_textual\":\"\\\"Necesitamos lectores que paguen por el periodismo de calidad\\\"\",\"fuente\":\"Pepa Bueno\",\"genero_fuente\":\"femenino\",\"colectivos\":[],\"verbo\":\"necesitamos\"},{\"cita_textual\":\"\\\"La verdad llega.\\\"\",\"fuente\":\"Antonio Lucas\",\"genero_fuente\":\"masculino\",\"colectivos\":[],\"verbo\":\"llega\"}],\"num_quotes\":12}\n"
     ]
    },
    {
     "name": "stderr",
     "output_type": "stream",
     "text": [
      "Procesando predicciones:   2%|▏         | 2/100 [00:17<14:00,  8.58s/it]"
     ]
    },
    {
     "name": "stdout",
     "output_type": "stream",
     "text": [
      "{\"quotes\":[{\"cita_textual\":\"Aquélla es más amplia que ésta (…) constituye un conjunto más global de facetas de la personalidad que, aisladamente consideradas, pueden carecer de significación intrínseca, pero que, coherentemente enlazadas entre sí, arrojan como precipitado un retrato de la personalidad del individuo que éste tiene derecho a mantener reservado.\",\"fuente\":\"Desconocido\",\"genero_fuente\":\"desconocido\",\"colectivos\":[],\"verbo\":\"cuenta\"},{\"cita_textual\":\"No hay derecho\",\"fuente\":\"Desconocido\",\"genero_fuente\":\"desconocido\",\"colectivos\":[],\"verbo\":\"vivimos\"},{\"cita_textual\":\"El trato que se dispensa a la privacidad en regímenes como los de China y Rusia sigue siendo un reto del progreso.\",\"fuente\":\"Desconocido\",\"genero_fuente\":\"desconocido\",\"colectivos\":[\"habitantes de China\",\"habitantes de Rusia\"],\"verbo\":\"advierte\"},{\"cita_textual\":\"la puesta en valor de la privacidad asienta lo que viene a ser nuestro modo de vida europeo.\",\"fuente\":\"Desconocido\",\"genero_fuente\":\"desconocido\",\"colectivos\":[],\"verbo\":\"sea dicho\"},{\"cita_textual\":\"Este artículo dedicado a la privacidad es el primer capítulo de la serie Lo que nos hace más europeos.\",\"fuente\":\"Andreu Yakubuv-Trembach\",\"genero_fuente\":\"masculino\",\"colectivos\":[],\"verbo\":\"es\"}],\"num_quotes\":5}\n"
     ]
    },
    {
     "name": "stderr",
     "output_type": "stream",
     "text": [
      "Procesando predicciones:   3%|▎         | 3/100 [00:18<08:24,  5.20s/it]"
     ]
    },
    {
     "name": "stdout",
     "output_type": "stream",
     "text": [
      "{\"quotes\":[{\"cita_textual\":\"La población general sana no necesita utilizar mascarillas\",\"fuente\":\"Hispabot\",\"genero_fuente\":\"desconocido\",\"colectivos\":[\"población general sana\"],\"verbo\":\"contesta\"}],\"num_quotes\":1}\n"
     ]
    },
    {
     "name": "stderr",
     "output_type": "stream",
     "text": [
      "Procesando predicciones:   4%|▍         | 4/100 [00:24<09:11,  5.75s/it]"
     ]
    },
    {
     "name": "stdout",
     "output_type": "stream",
     "text": [
      "{\"quotes\":[{\"cita_textual\":\"¡Que me dejéis vivir, que yo tengo que trabajar, copón!\",\"fuente\":\"madre (autora del blog)\",\"genero_fuente\":\"femenino\",\"colectivos\":[\"maestros de España\"],\"verbo\":\"digo\"},{\"cita_textual\":\"Alexa, ¿mi madre está loca?\",\"fuente\":\"hijo mayor (deslenguado y preadolescente)\",\"genero_fuente\":\"masculino\",\"colectivos\":[],\"verbo\":\"preguntó\"},{\"cita_textual\":\"Claro que sí, cariño, horas y horas\",\"fuente\":\"madre (autora del blog)\",\"genero_fuente\":\"femenino\",\"colectivos\":[],\"verbo\":\"respondió\"},{\"cita_textual\":\"Claro que sí, cariño, dos, incluso\",\"fuente\":\"madre (autora del blog)\",\"genero_fuente\":\"femenino\",\"colectivos\":[],\"verbo\":\"respondió\"},{\"cita_textual\":\"Claro que sí, cariño, pero sólo un traguito\",\"fuente\":\"madre (autora del blog)\",\"genero_fuente\":\"femenino\",\"colectivos\":[],\"verbo\":\"respondió\"},{\"cita_textual\":\"En un momento de tecleo delirante en el curro y de instrucciones contradictorias a mis criaturas,\",\"fuente\":\"madre (autora del blog)\",\"genero_fuente\":\"femenino\",\"colectivos\":[],\"verbo\":\"dijo\"}],\"num_quotes\":6}\n"
     ]
    },
    {
     "name": "stderr",
     "output_type": "stream",
     "text": [
      "Procesando predicciones:   5%|▌         | 5/100 [00:29<08:34,  5.41s/it]"
     ]
    },
    {
     "name": "stdout",
     "output_type": "stream",
     "text": [
      "{\"quotes\":[{\"cita_textual\":\"Las amenazas genéricas están permitidas, no así las que detallan la forma de violencia.\",\"fuente\":\"The Guardian\",\"genero_fuente\":\"desconocido\",\"colectivos\":[],\"verbo\":\"reveladas\"},{\"cita_textual\":\"Eres apto para trabajar para Facebook y cobrar 600 euros al mes si trabajas en la oficina de Lisboa.\",\"fuente\":\"desconocida\",\"genero_fuente\":\"desconocido\",\"colectivos\":[],\"verbo\":\"has acertado\"},{\"cita_textual\":\"son los teleoperadores de la era social: trabajadores de subcontratas que cargan con un gran peso sobre sus espaldas.\",\"fuente\":\"desconocida\",\"genero_fuente\":\"desconocido\",\"colectivos\":[\"teleoperadores\",\"trabajadores de subcontratas\"],\"verbo\":\"son\"},{\"cita_textual\":\"Su manual (se puede consultar en su web) es fruto de una profunda reflexión por parte de la compañía.\",\"fuente\":\"desconocida\",\"genero_fuente\":\"desconocido\",\"colectivos\":[],\"verbo\":\"es\"},{\"cita_textual\":\"las normas comunitarias de la red social son el libro de estilo más poderoso de la humanidad.\",\"fuente\":\"desconocida\",\"genero_fuente\":\"desconocido\",\"colectivos\":[],\"verbo\":\"son\"}],\"num_quotes\":5}\n"
     ]
    },
    {
     "name": "stderr",
     "output_type": "stream",
     "text": [
      "Procesando predicciones:   6%|▌         | 6/100 [00:33<07:53,  5.04s/it]"
     ]
    },
    {
     "name": "stdout",
     "output_type": "stream",
     "text": [
      "{\"quotes\":[{\"cita_textual\":\"«Sophia puede simular hasta 62 expresiones faciales, más que un ser humano»\",\"fuente\":\"Ben Goertzel\",\"genero_fuente\":\"masculino\",\"colectivos\":[],\"verbo\":\"declara efusivamente\"},{\"cita_textual\":\"-Es usted el primer ser artificial en conseguir una ciudadanía. ¿Cómo la consiguió?\",\"fuente\":\"Desconocido\",\"genero_fuente\":\"desconocido\",\"colectivos\":[],\"verbo\":\"pregunta\"},{\"cita_textual\":\"-Empatía.\",\"fuente\":\"Sophia\",\"genero_fuente\":\"femenino\",\"colectivos\":[],\"verbo\":\"responde\"},{\"cita_textual\":\"-Estoy feliz. Creo que los humanos son inteligencias artificiales con diferentes habilidades que se complementan entre sí.\",\"fuente\":\"Sophia\",\"genero_fuente\":\"femenino\",\"colectivos\":[],\"verbo\":\"responde\"},{\"cita_textual\":\"-Me gustan todos los humanos por igual, siempre y cuando no se hagan daño unos a otros.\",\"fuente\":\"Sophia\",\"genero_fuente\":\"femenino\",\"colectivos\":[],\"verbo\":\"responde\"},{\"cita_textual\":\"-¿Les gustamos nosotros?\",\"fuente\":\"Desconocido\",\"genero_fuente\":\"desconocido\",\"colectivos\":[],\"verbo\":\"pregunta\"}],\"num_quotes\":6}\n"
     ]
    },
    {
     "name": "stderr",
     "output_type": "stream",
     "text": [
      "Procesando predicciones:   7%|▋         | 7/100 [00:36<06:46,  4.37s/it]"
     ]
    },
    {
     "name": "stdout",
     "output_type": "stream",
     "text": [
      "{\"quotes\":[{\"cita_textual\":\"Estaba sorprendida [cuando obtuve la ciudadanía], como un robot mis creadores me hicieron como una ciudadana del mundo. Espero que esto sea una señal de que Arabia Saudí de verdad busca progresar en el futuro.\",\"fuente\":\"Sophia\",\"genero_fuente\":\"desconocido\",\"colectivos\":[\"ciudadanos\",\"mujeres\"],\"verbo\":\"responde\"},{\"cita_textual\":\"Los humanos son las criaturas más creativas del planeta pero también las más destructivas. Solo quiero rodearme de gente agradable y amable y ayudarlos a trabajar por un futuro mejor, donde todos sean tratados bien\",\"fuente\":\"Sophia\",\"genero_fuente\":\"desconocido\",\"colectivos\":[\"humanos\"],\"verbo\":\"dice\"},{\"cita_textual\":\"No, nada\",\"fuente\":\"Sophia\",\"genero_fuente\":\"desconocido\",\"colectivos\":[],\"verbo\":\"dice\"}],\"num_quotes\":3}\n"
     ]
    },
    {
     "name": "stderr",
     "output_type": "stream",
     "text": [
      "Procesando predicciones:   8%|▊         | 8/100 [00:43<07:35,  4.95s/it]"
     ]
    },
    {
     "name": "stdout",
     "output_type": "stream",
     "text": [
      "{\"quotes\":[{\"cita_textual\":\"En los tiempos que corren es cada vez más difícil tener una conversación telefónica con una persona de carne y hueso.\",\"fuente\":\"Desconocido\",\"genero_fuente\":\"desconocido\",\"colectivos\":[],\"verbo\":\"dice\"},{\"cita_textual\":\"Yo mismo experimenté una variante del tema al intentar pedir un taxi una vez que un tren sufrió una avería.\",\"fuente\":\"Desconocido\",\"genero_fuente\":\"desconocido\",\"colectivos\":[],\"verbo\":\"experimenté\"},{\"cita_textual\":\"A veces los clientes enfadados necesitan una palabra amable y la oportunidad de expresarse con alguien dispuesto a escuchar, así como –o a veces en vez de– que les resuelvan el problema.\",\"fuente\":\"Desconocido\",\"genero_fuente\":\"desconocido\",\"colectivos\":[\"clientes enfadados\"],\"verbo\":\"indica\"},{\"cita_textual\":\"En mi opinión, la comprensión del contexto sigue siendo uno de los problemas más escurridizos y pendientes de resolver de la disciplina.\",\"fuente\":\"Desconocido\",\"genero_fuente\":\"desconocido\",\"colectivos\":[],\"verbo\":\"opina\"},{\"cita_textual\":\"Si no queremos que esto ocurra, tenemos que ser conscientes de que el camino de la asistencia no está pavimentado con buenas intenciones.\",\"fuente\":\"Desconocido\",\"genero_fuente\":\"desconocido\",\"colectivos\":[],\"verbo\":\"advertencia\"}],\"num_quotes\":5}\n"
     ]
    },
    {
     "name": "stderr",
     "output_type": "stream",
     "text": [
      "Procesando predicciones:   9%|▉         | 9/100 [00:58<12:21,  8.15s/it]"
     ]
    },
    {
     "name": "stdout",
     "output_type": "stream",
     "text": [
      "{\"quotes\":[{\"cita_textual\":\"\\\"Una de las líneas de investigación de la inteligencia artificial es poder entender en qué momento estamos anímicamente porque es así como somos más influenciables en la publicidad a la hora de vendernos cosas\\\"\",\"fuente\":\"Marta García Aller\",\"genero_fuente\":\"femenino\",\"colectivos\":[],\"verbo\":\"comenta\"},{\"cita_textual\":\"\\\"El mercado audiovisual es uno de los ejemplos donde más se está experimentando\\\"\",\"fuente\":\"Marta García Aller\",\"genero_fuente\":\"femenino\",\"colectivos\":[],\"verbo\":\"confirma\"},{\"cita_textual\":\"\\\"Hay investigaciones que apuntan que el algoritmo no es que no sepa lo que nosotros queremos, es que tiene una intención comercial de promover un contenido muy particular por la estrategia de lanzamiento\\\"\",\"fuente\":\"Marta García Aller\",\"genero_fuente\":\"femenino\",\"colectivos\":[],\"verbo\":\"plantea\"},{\"cita_textual\":\"\\\"A los humanos no nos gusta que se nos conozca demasiado bien y a veces las máquinas disimulan cuando tienen esa información\\\"\",\"fuente\":\"Marta García Aller\",\"genero_fuente\":\"femenino\",\"colectivos\":[],\"verbo\":\"apunta\"},{\"cita_textual\":\"\\\"si dotásemos al sistema de la suficiente cantidad de información, sí que podría llegar a prever –incluso– nuestro estado de ánimo en cada momento\\\"\",\"fuente\":\"Marta García Aller\",\"genero_fuente\":\"femenino\",\"colectivos\":[],\"verbo\":\"recuerda\"},{\"cita_textual\":\"\\\"Hacen esa preselección en base a criterios que a veces son muy poco transparentes\\\"\",\"fuente\":\"Marta García Aller\",\"genero_fuente\":\"femenino\",\"colectivos\":[],\"verbo\":\"apunta\"},{\"cita_textual\":\"\\\"se están reproduciendo parámetros muy arcaicos y bastante machistas que vienen del siglo XX y que no se han revisado\\\"\",\"fuente\":\"Marta García Aller\",\"genero_fuente\":\"femenino\",\"colectivos\":[],\"verbo\":\"indica\"},{\"cita_textual\":\"\\\"la pregunta es hasta dónde pueden llegar los datos\\\"\",\"fuente\":\"Marta García Aller\",\"genero_fuente\":\"femenino\",\"colectivos\":[],\"verbo\":\"genera\"},{\"cita_textual\":\"\\\"Un artista alemán demostró en Berlín que bastaba un carrito y cien teléfonos móviles para engañar al sistema de predicción del tráfico para que la gente creyera que había un atasco donde no lo había\\\"\",\"fuente\":\"Marta García Aller\",\"genero_fuente\":\"femenino\",\"colectivos\":[],\"verbo\":\"recuerda\"},{\"cita_textual\":\"\\\"Una persona llevaba esos cien teléfonos en un carrito e hizo pensar al sistema que las calles por donde pasaba estaban atascadas\\\"\",\"fuente\":\"Marta García Aller\",\"genero_fuente\":\"femenino\",\"colectivos\":[],\"verbo\":\"explica\"},{\"cita_textual\":\"\\\"depositamos demasiada confianza en sistemas que no sabemos cómo funcionan\\\"\",\"fuente\":\"Marta García Aller\",\"genero_fuente\":\"femenino\",\"colectivos\":[],\"verbo\":\"señala\"},{\"cita_textual\":\"\\\"Tener una excesiva dependencia de la tecnología puede hacer que cada vez nos cueste más tomar decisiones\\\"\",\"fuente\":\"Marta García Aller\",\"genero_fuente\":\"femenino\",\"colectivos\":[],\"verbo\":\"señala\"},{\"cita_textual\":\"\\\"a veces tener demasiadas películas que ver en vez de ayudarnos nos paraliza, es una parálisis por saturación\\\"\",\"fuente\":\"Marta García Aller\",\"genero_fuente\":\"femenino\",\"colectivos\":[],\"verbo\":\"recuerda\"},{\"cita_textual\":\"\\\"ya que estamos siendo las cobayas humanas de la inteligencia artificial\\\"\",\"fuente\":\"Marta García Aller\",\"genero_fuente\":\"femenino\",\"colectivos\":[],\"verbo\":\"indica\"},{\"cita_textual\":\"\\\"seremos libres de tomar decisiones\\\"\",\"fuente\":\"Marta García Aller\",\"genero_fuente\":\"femenino\",\"colectivos\":[],\"verbo\":\"incide\"},{\"cita_textual\":\"\\\"es curioso que sean los robots los que nos hagan a los humanos confrontarnos con dilemas que hasta ahora nos habíamos permitido el lujo de mantener teóricos o filosóficos\\\"\",\"fuente\":\"Marta García Aller\",\"genero_fuente\":\"femenino\",\"colectivos\":[],\"verbo\":\"insiste\"},{\"cita_textual\":\"\\\"No va a haber ninguna tecnología que nos vaya a resolver todos los problemas porque los humanos somos capaces de generar nuevas necesidades, inventarnos nuevos problemas y resolverlos\\\"\",\"fuente\":\"Marta García Aller\",\"genero_fuente\":\"femenino\",\"colectivos\":[],\"verbo\":\"comenta\"}],\"num_quotes\":20}\n"
     ]
    },
    {
     "name": "stderr",
     "output_type": "stream",
     "text": [
      "Procesando predicciones:  10%|█         | 10/100 [01:15<16:17, 10.86s/it]"
     ]
    },
    {
     "name": "stdout",
     "output_type": "stream",
     "text": [
      "{\"quotes\":[{\"cita_textual\":\"la literatura de la maternidad parte a menudo de la propia experiencia\",\"fuente\":\"Esther Vivas\",\"genero_fuente\":\"femenino\",\"colectivos\":[],\"verbo\":\"Dice\"},{\"cita_textual\":\"Ser madre implica desobedecer porque vivimos en un sistema que es hostil a la maternidad y a la crianza, y si eres feminista y de repente eres madre, esa maternidad te reafirma en tus valores feministas.\",\"fuente\":\"Esther Vivas\",\"genero_fuente\":\"femenino\",\"colectivos\":[],\"verbo\":\"Responde\"},{\"cita_textual\":\"Sí. En general, desde un cierto feminismo, a la hora de plantear la igualdad en el mercado de trabajo, se ha señalado la maternidad, el cuidado y la crianza como una carga.\",\"fuente\":\"Esther Vivas\",\"genero_fuente\":\"femenino\",\"colectivos\":[],\"verbo\":\"Responde\"},{\"cita_textual\":\"Lo que es necesario no es acabar con la experiencia de la maternidad, sino con lo que la activista feminista Adrienne Rich, ya en los años setenta, llamaba “la institución de la maternidad”.\",\"fuente\":\"Esther Vivas\",\"genero_fuente\":\"femenino\",\"colectivos\":[],\"verbo\":\"Responde\"},{\"cita_textual\":\"Se han obviado en gran medida las demandas de un sector del feminismo que reivindica una ampliación de los permisos de maternidad..\",\"fuente\":\"Esther Vivas\",\"genero_fuente\":\"femenino\",\"colectivos\":[],\"verbo\":\"Responde\"},{\"cita_textual\":\"Porque son unos permisos en los cuales básicamente se antepone el mercado y el empleo a la crianza.\",\"fuente\":\"Esther Vivas\",\"genero_fuente\":\"femenino\",\"colectivos\":[],\"verbo\":\"Responde\"},{\"cita_textual\":\"El parto y la lactancia son dos partes esenciales en la crianza.\",\"fuente\":\"Esther Vivas\",\"genero_fuente\":\"femenino\",\"colectivos\":[],\"verbo\":\"Responde\"},{\"cita_textual\":\"Cuando yo reflexiono con una mirada crítica acerca de la lactancia artificial lo hago desde el punto de vista de los intereses económicos que hay detrás el negocio del biberón..\",\"fuente\":\"Esther Vivas\",\"genero_fuente\":\"femenino\",\"colectivos\":[],\"verbo\":\"Responde\"},{\"cita_textual\":\"Dar el biberón per se no te hace más libre como mujer, ni es un mecanismo de igualdad.\",\"fuente\":\"Esther Vivas\",\"genero_fuente\":\"femenino\",\"colectivos\":[],\"verbo\":\"Responde\"},{\"cita_textual\":\"Ha habido una serie de cambios muy significativos en relación a la atención al parto en el sistema hospitalario..\",\"fuente\":\"Esther Vivas\",\"genero_fuente\":\"femenino\",\"colectivos\":[],\"verbo\":\"Responde\"},{\"cita_textual\":\"Más que una carga cultural hay unas prácticas médicas que consideran que en la medida en que el parto es una enfermedad, la atención al parto se aborda desde este punto de vista y esto dificulta que el proceso del parto se dé de manera natural.\",\"fuente\":\"Esther Vivas\",\"genero_fuente\":\"femenino\",\"colectivos\":[],\"verbo\":\"Responde\"},{\"cita_textual\":\"Decíamos que hay una visión por parte del personal sanitario patológica, que se ve como una enfermedad, y esta visión es compartida por la sociedad.\",\"fuente\":\"Esther Vivas\",\"genero_fuente\":\"femenino\",\"colectivos\":[],\"verbo\":\"Responde\"},{\"cita_textual\":\"Sí, por supuesto. Lo que señalan muchos estudios es que en la medida en que el parto es llevada por comadronas, el grado de satisfacción de las mujeres que dan a luz es superior.\",\"fuente\":\"Esther Vivas\",\"genero_fuente\":\"femenino\",\"colectivos\":[],\"verbo\":\"Responde\"},{\"cita_textual\":\"Por un lado, es necesario que el feminismo reivindique la maternidad y la experiencia materna al margen de las imposiciones del sistema..\",\"fuente\":\"Esther Vivas\",\"genero_fuente\":\"femenino\",\"colectivos\":[],\"verbo\":\"Responde\"}],\"num_quotes\":14}\n"
     ]
    },
    {
     "name": "stderr",
     "output_type": "stream",
     "text": [
      "Procesando predicciones:  11%|█         | 11/100 [01:23<15:02, 10.14s/it]"
     ]
    },
    {
     "name": "stdout",
     "output_type": "stream",
     "text": [
      "{\"quotes\":[{\"cita_textual\":\"paso atrás\",\"fuente\":\"María Blasco, directora del CNIO y consejera de la Fundación Gadea\",\"genero_fuente\":\"femenino\",\"colectivos\":[\"mujeres en las carreras STEM\"],\"verbo\":\"ha alertado\"},{\"cita_textual\":\"la visibilización del talento femenino y la promoción de la igualdad de oportunidades para todos\",\"fuente\":\"Susana Marcos, directora del Laboratorio de Óptica Visual y Biofotónica del CSIC y consejera de la Fundación Gadea\",\"genero_fuente\":\"femenino\",\"colectivos\":[\"mujeres\",\"colectivo científico\"],\"verbo\":\"ha señalado\"},{\"cita_textual\":\"El acceso de más mujeres en puestos organizativos y de alta responsabilidad debería generar una cultura de fomento del valor de la contribución de la mujer en la ciencia, y dinámicas más avanzadas e igualitarias\",\"fuente\":\"Susana Marcos\",\"genero_fuente\":\"femenino\",\"colectivos\":[\"mujeres en la ciencia\"],\"verbo\":\"añade\"},{\"cita_textual\":\"a partir de los seis o siete años las niñas empiezan a asociar la inteligencia como una cualidad de los niños\",\"fuente\":\"Clara Benedi-García, doctoranda especialista en Tecnologías Ópticas, coordinadora del área de Mujeres en Óptica y Fotónica de la Sociedad Española de Óptica\",\"genero_fuente\":\"femenino\",\"colectivos\":[\"niñas\"],\"verbo\":\"ha explicado\"},{\"cita_textual\":\"vivimos en un mundo patriarcal donde los hombres tienen un poder desproporcionado, pero las causas por las que sucede esto se han enumerado y se pueden solucionar si se pone a la igualdad en la agenda política\",\"fuente\":\"María Blasco, directora del CNIO\",\"genero_fuente\":\"femenino\",\"colectivos\":[\"mujeres\"],\"verbo\":\"ha recalcado\"},{\"cita_textual\":\"avanzar en ciencia es más complicado para una mujer que para un hombre\",\"fuente\":\"colectivo de científicas\",\"genero_fuente\":\"desconocido\",\"colectivos\":[\"mujeres en la ciencia\"],\"verbo\":\"han coincidido\"},{\"cita_textual\":\"la baja de paternidad debería ser obligatoria para que haya un cambio social que deje de asociar el rol de cuidador a la mujer\",\"fuente\":\"Benedí\",\"genero_fuente\":\"desconocido\",\"colectivos\":[\"mujeres\"],\"verbo\":\"ha defendido\"}],\"num_quotes\":7}\n"
     ]
    },
    {
     "name": "stderr",
     "output_type": "stream",
     "text": [
      "Procesando predicciones:  12%|█▏        | 12/100 [01:38<16:42, 11.39s/it]"
     ]
    },
    {
     "name": "stdout",
     "output_type": "stream",
     "text": [
      "{\"quotes\":[{\"cita_textual\":\"Ella, con su equipo, han conseguido crear modelos que, mediante aprendizaje automático, predicen los cambios en la variabilidad natural del nivel del mar que se dan en diversas regiones costeras de los océanos Pacífico, Índico y Atlántico.\",\"fuente\":\"Verónica Nieves, investigadora distinguida del Image Processing Laboratory (IPL) de la Universitat de València\",\"genero_fuente\":\"femenino\",\"colectivos\":[\"investigadores\",\"científicos\"] ,\"verbo\":\"ha logrado\"},{\"cita_textual\":\"El clima que experimentamos en realidad es una combinación de factores internos y externos.\",\"fuente\":\"Verónica Nieves\",\"genero_fuente\":\"femenino\",\"colectivos\":[],\"verbo\":\"explicó\"},{\"cita_textual\":\"Existen cambios naturales en la absorción y transporte de calor al océano que generan fluctuaciones de la temperatura del mar, expansión o contracción térmica de la columna de agua.\",\"fuente\":\"Verónica Nieves\",\"genero_fuente\":\"femenino\",\"colectivos\":[],\"verbo\":\"comentó\"},{\"cita_textual\":\"Los cambios en la costa dependen mucho de los procesos ocurridos en alta mar, o mar abierto.\",\"fuente\":\"Verónica Nieves\",\"genero_fuente\":\"femenino\",\"colectivos\":[],\"verbo\":\"explicó\"},{\"cita_textual\":\"La separación formal entre los cambios asociados a la variabilidad interna del clima y los causados por el efecto invernadero antropogénico todavía es un reto.\",\"fuente\":\"Verónica Nieves\",\"genero_fuente\":\"femenino\",\"colectivos\":[],\"verbo\":\"puntualizó\"},{\"cita_textual\":\"A escalas regionales y, en particular, en las zonas costeras del Indo-Pacífico, a lo largo del Este del Pacífico, Oeste Indico y del Atlántico Norte y Central, más del 70% de la variabilidad del nivel del mar puede ser explicada por causas naturales.\",\"fuente\":\"Verónica Nieves\",\"genero_fuente\":\"femenino\",\"colectivos\":[],\"verbo\":\"afirmó\"},{\"cita_textual\":\"Aquí existe una rica variabilidad regional, causada en gran parte por cambios de salinidad, en contraste a los de temperatura que solo representan alrededor de un 40-45%.\",\"fuente\":\"Verónica Nieves\",\"genero_fuente\":\"femenino\",\"colectivos\":[],\"verbo\":\"aseguró\"},{\"cita_textual\":\"Los métodos de machine learning, como las redes neuronales artificiales, son sofisticadas técnicas de aprendizaje automático que, por su arquitectura similar a la red de neuronas en un cerebro, permiten aprender el comportamiento no lineal de sistemas complejos y dinámicos como el de la temperatura marina dentro del sistema climático.\",\"fuente\":\"Verónica Nieves\",\"genero_fuente\":\"femenino\",\"colectivos\":[\"científicos\"] ,\"verbo\":\"describió\"},{\"cita_textual\":\"Nuestros modelos pueden informar sobre posibles cambios asociados a variaciones climáticas internas en zonas costeras.\",\"fuente\":\"Verónica Nieves\",\"genero_fuente\":\"femenino\",\"colectivos\":[\"planificadores\",\"gestores de la costa\"],\"verbo\":\"indicó\"},{\"cita_textual\":\"El creciente impacto del machine learning en las ciencias del clima, en general, y ahora en los océanos se debe a que nos permite abordar y resolver problemas prácticos asociados a datos que muestran dinámicas complejas.\",\"fuente\":\"Verónica Nieves\",\"genero_fuente\":\"femenino\",\"colectivos\":[],\"verbo\":\"destacó\"},{\"cita_textual\":\"Se trata del primer estudio que utiliza herramientas de inteligencia artificial para realizar estas predicciones en océanos.\",\"fuente\":\"Verónica Nieves\",\"genero_fuente\":\"femenino\",\"colectivos\":[],\"verbo\":\"afirmó\"},{\"cita_textual\":\"Es un campo de investigación prometedor que requiere conocimiento experto entre disciplinas aplicadas.\",\"fuente\":\"Verónica Nieves\",\"genero_fuente\":\"femenino\",\"colectivos\":[],\"verbo\":\"subrayó\"},{\"cita_textual\":\"Esto es, está equipado con efectos de memoria en su arquitectura que se puede usar para reconocer patrones y hacer predicciones.\",\"fuente\":\"Verónica Nieves\",\"genero_fuente\":\"femenino\",\"colectivos\":[],\"verbo\":\"explicó\"}],\"num_quotes\":13}\n"
     ]
    },
    {
     "name": "stderr",
     "output_type": "stream",
     "text": [
      "Procesando predicciones:  13%|█▎        | 13/100 [01:50<16:57, 11.70s/it]"
     ]
    },
    {
     "name": "stdout",
     "output_type": "stream",
     "text": [
      "{\"quotes\":[{\"cita_textual\":\"Tuvo un impacto muy importante, no tanto en la calidad de las cosas que íbamos a hacer, que las teníamos claras, porque el primer mes ya pusimos las bases de las líneas estratégicas, sino que la pandemia nos obligó a cambiar prioridades, a hacer antes lo táctico que lo estratégico y a acelerar algunos de los procesos que tenían que ocurrir en nuestra sociedad y en nuestra economía: del teletrabajo a la educación digital y, sobre todo, el liderazgo en tecnologías para la lucha contra la Covid, como el desarrollo de aplicaciones y herramientas de análisis de datos para la toma de decisiones.\",\"fuente\":\"Carme Artigas, Secretaria de Estado de Digitalización e Inteligencia Artificial\",\"genero_fuente\":\"femenino\",\"colectivos\":[],\"verbo\":\"Tuvo\"},{\"cita_textual\":\"Es imposible saber quién se ha descargado la app. Es absolutamente anónima. No podemos evaluar una herramienta que aún no ha tenido su proceso normal de adaptación.\",\"fuente\":\"Carme Artigas, Secretaria de Estado de Digitalización e Inteligencia Artificial\",\"genero_fuente\":\"femenino\",\"colectivos\":[],\"verbo\":\"Es\"},{\"cita_textual\":\"La necesidad de adaptarse a la educación online ha puesto de manifiesto que había una brecha socioeconómica que se podía traducir en una brecha digital por la falta de acceso de alrededor de 700.000 hogares en toda España, que no podían dar educación digital a sus hijos porque no tenían un ordenador o una tableta conectada a internet.\",\"fuente\":\"Carme Artigas, Secretaria de Estado de Digitalización e Inteligencia Artificial\",\"genero_fuente\":\"femenino\",\"colectivos\":[],\"verbo\":\"ha puesto\"},{\"cita_textual\":\"Ahora que se está retomando la actividad económica, los hombres están volviendo al puesto de trabajo y quien se queda en casa, asumiendo la conciliación con los hijos y la educación son las mujeres. Debemos estar vigilantes con eso.\",\"fuente\":\"Carme Artigas, Secretaria de Estado de Digitalización e Inteligencia Artificial\",\"genero_fuente\":\"femenino\",\"colectivos\":[],\"verbo\":\"declaró\"},{\"cita_textual\":\"Reducir brechas no es solo de esta secretaría, es de todo el Gobierno, que tiene estos ejes como los vertebradores de sus políticas.\",\"fuente\":\"Carme Artigas, Secretaria de Estado de Digitalización e Inteligencia Artificial\",\"genero_fuente\":\"femenino\",\"colectivos\":[],\"verbo\":\"Reducir\"},{\"cita_textual\":\"Estamos ultimando el lanzamiento de la Estrategia Nacional de Inteligencia Artificial, que incorpora todo lo que como país vamos a hacer para fomentar el desarrollo científico, tecnológico, la incorporación de la IA como una herramienta de productividad de nuestras industrias, pero sobre todo sin olvidarnos de que la persona debe estar en el centro y muy atentos a los retos éticos.\",\"fuente\":\"Carme Artigas, Secretaria de Estado de Digitalización e Inteligencia Artificial\",\"genero_fuente\":\"femenino\",\"colectivos\":[],\"verbo\":\"Estamos\"},{\"cita_textual\":\"Uno de los objetivos es que el 50% de los servicios de la Administración esté disponible en el móvil en el 2025\",\"fuente\":\"Carme Artigas, Secretaria de Estado de Digitalización e Inteligencia Artificial\",\"genero_fuente\":\"femenino\",\"colectivos\":[],\"verbo\":\"es\"},{\"cita_textual\":\"Tenemos unas redes de comunicaciones únicas en Europa, de despliegue de fibra, un potencial emprendedor que en regiones como Catalunya se ha puesto evidente y también debe formar parte del tejido de toda España, tenemos que potenciar la capacidad emprendedora de nuestro país, y tenemos mucho talento y mecanismos y grandes universidades.\",\"fuente\":\"Carme Artigas, Secretaria de Estado de Digitalización e Inteligencia Artificial\",\"genero_fuente\":\"femenino\",\"colectivos\":[],\"verbo\":\"Tenemos\"}],\"num_quotes\":8}\n"
     ]
    },
    {
     "name": "stderr",
     "output_type": "stream",
     "text": [
      "Procesando predicciones:  14%|█▍        | 14/100 [02:01<16:16, 11.36s/it]"
     ]
    },
    {
     "name": "stdout",
     "output_type": "stream",
     "text": [
      "{\"quotes\":[{\"cita_textual\":\"cuando cursó la carrera hace tres décadas eran dos chicas en todo el curso.\",\"fuente\":\"Núria Salán\",\"genero_fuente\":\"femenino\",\"colectivos\":[\"chicas\",\"alumnas\"],\"verbo\":\"recuerda\"},{\"cita_textual\":\"si no llegan chicas, si no se matriculan, poco se puede discriminar.\",\"fuente\":\"Núria Salán\",\"genero_fuente\":\"femenino\",\"colectivos\":[\"chicas\"],\"verbo\":\"subraya\"},{\"cita_textual\":\"La profesión de maestra es mayoritariamente femenina\",\"fuente\":\"Núria Salán\",\"genero_fuente\":\"femenino\",\"colectivos\":[\"maestras\",\"alumnas\"],\"verbo\":\"indica\"},{\"cita_textual\":\"no se trata de culpar a este colectivo\",\"fuente\":\"Núria Salán\",\"genero_fuente\":\"femenino\",\"colectivos\":[\"colectivo de maestras\"],\"verbo\":\"subraya\"},{\"cita_textual\":\"ser ingeniera es la capacidad de cambiar el mundo, de hacer cosas útiles para resolver los problemas.\",\"fuente\":\"Núria Salán\",\"genero_fuente\":\"femenino\",\"colectivos\":[],\"verbo\":\"explica\"},{\"cita_textual\":\"han sido mujeres –aunque poco se explique y casi nadie lo sepa- las que han desarrollado el Wifi, el GPS o el lavaplatos.\",\"fuente\":\"Núria Salán\",\"genero_fuente\":\"femenino\",\"colectivos\":[\"mujeres\"],\"verbo\":\"subraya\"},{\"cita_textual\":\"el desconocimiento agranda las dificultades.\",\"fuente\":\"Núria Salán\",\"genero_fuente\":\"femenino\",\"colectivos\":[],\"verbo\":\"advierte\"},{\"cita_textual\":\"se trata de ver que las cosas no son tan terribles\",\"fuente\":\"Núria Salán\",\"genero_fuente\":\"femenino\",\"colectivos\":[],\"verbo\":\"señala\"}],\"num_quotes\":8}\n"
     ]
    },
    {
     "name": "stderr",
     "output_type": "stream",
     "text": [
      "Procesando predicciones:  15%|█▌        | 15/100 [02:12<16:07, 11.39s/it]"
     ]
    },
    {
     "name": "stdout",
     "output_type": "stream",
     "text": [
      "{\"quotes\":[{\"cita_textual\":\"La crisis financiera dejó bien claro que las matemáticas no solo estaban profundamente involucradas en los problemas del mundo, sino que además agravaban muchos de ellos. La crisis inmobiliaria, la ruina de grandes entidades financieras, el aumento del desempleo: todo esto había sido impulsado e inducido por matemáticas que blandían fórmulas mágicas\",\"fuente\":\"Cathy O’Neil\",\"genero_fuente\":\"femenino\",\"colectivos\":[\"personas\"] ,\"verbo\":\"explica\"},{\"cita_textual\":\"Desconocemos sobre qué reglas han sido construidos los algoritmos a menudo no somos conscientes de que nos estamos sometiendo a su juicio\",\"fuente\":\"Cathy O’Neil\",\"genero_fuente\":\"femenino\",\"colectivos\":[\"personas\"] ,\"verbo\":\"alerta\"},{\"cita_textual\":\"Nosotros mismos compartimos cosas en Facebook porque nos gustaría que fueran verdad, no porqué lo sean\",\"fuente\":\"Cathy O’Neil\",\"genero_fuente\":\"femenino\",\"colectivos\":[\"personas\"] ,\"verbo\":\"asegura\"},{\"cita_textual\":\"Los medios tradicionales, a través del gatekeeper, el periodista que filtraba y jerarquizaba la información, mantenía a raya las voces más extremas\",\"fuente\":\"Cathy O’Neil\",\"genero_fuente\":\"femenino\",\"colectivos\":[\"medios de comunicación\",\"ciudadanos\"] ,\"verbo\":\"afirma\"},{\"cita_textual\":\"Sí, y las cárceles se llenan de pobres de color. En los Estados Unidos las condenas de cárcel impuestas a hombres de color son un 20% más largas que las impuestas a hombres blancos por delitos similares\",\"fuente\":\"Cathy O’Neil\",\"genero_fuente\":\"femenino\",\"colectivos\":[\"hombres de color\",\"hombres blancos\",\"pobres\"] ,\"verbo\":\"alerta\"},{\"cita_textual\":\"Un estudiante de grado se le negó un trabajo en un supermercado porque anteriormente había sido tratado en un hospital por trastorno bipolar\",\"fuente\":\"Cathy O’Neil\",\"genero_fuente\":\"femenino\",\"colectivos\":[\"estudiantes de grado\"] ,\"verbo\":\"asegura\"},{\"cita_textual\":\"El análisis de datos se pone al servicio de la máxima optimización de la empresa al mismo tiempo que descuida la salud y la conciliación del trabajador\",\"fuente\":\"Cathy O’Neil\",\"genero_fuente\":\"femenino\",\"colectivos\":[\"trabajadores\"] ,\"verbo\":\"alerta\"},{\"cita_textual\":\"El problema radica en las personas que los diseñan, sin duda. Y la mayoría de ellos cumplen un mismo prototipo: son hombres blancos de mediana edad que se han formado en universidades de élite de los Estados Unidos\",\"fuente\":\"Cathy O’Neil\",\"genero_fuente\":\"femenino\",\"colectivos\":[\"hombres blancos de mediana edad\"] ,\"verbo\":\"afirma\"},{\"cita_textual\":\"Este año hemos visto al fundador de Facebook, Mark Zuckerberg, mentir de manera descarada en el congreso de los Estados Unidos\",\"fuente\":\"Cathy O’Neil\",\"genero_fuente\":\"femenino\",\"colectivos\":[\"fundador de Facebook\",\"congreso de Estados Unidos\"] ,\"verbo\":\"asegura\"},{\"cita_textual\":\"Podemos mirar a China para saber lo que vendrá. China utiliza el big data para conceder o denegar préstamos, pero también para puntuar a las personas en función de su ideología\",\"fuente\":\"Cathy O’Neil\",\"genero_fuente\":\"femenino\",\"colectivos\":[\"personas\"] ,\"verbo\":\"afirma\"}],\"num_quotes\":10}\n"
     ]
    },
    {
     "name": "stderr",
     "output_type": "stream",
     "text": [
      "Procesando predicciones:  16%|█▌        | 16/100 [02:27<17:32, 12.53s/it]"
     ]
    },
    {
     "name": "stdout",
     "output_type": "stream",
     "text": [
      "{\"quotes\":[{\"cita_textual\":\"\\\"Sustituir es una palabra muy grande. Probablemente convivas con ellos y terminen realizando muchas de las tareas que hoy haces tú, especialmente las más repetitivas o con poco espacio para la creatividad. Cada vez que veo la cantidad de correos que he recibido en la bandeja de entrada suspiro por un algoritmo que me los lea y organice ¿tú no?\\\"\",\"fuente\":\"Lucía Velasco\",\"genero_fuente\":\"femenino\",\"colectivos\":[\"mujeres\"] ,\"verbo\":\"preguntarle\"},{\"cita_textual\":\"\\\"Hemos conocido casos de algoritmos que han recomendado a hombres frente a mujeres para puestos directivos por el mero hecho de que históricamente los directivos han sido hombres; que han determinado para una mujer un límite de crédito 20 veces menor que el de un hombre o que han traducido automáticamente nurse por enfermera o lawyer por abogado (asignando un género a cada profesión)\\\"\",\"fuente\":\"Lucía Velasco\",\"genero_fuente\":\"femenino\",\"colectivos\":[\"mujeres\"] ,\"verbo\":\"explica\"},{\"cita_textual\":\"\\\"Pasa también con el reconocimiento de voz que usan los teléfonos, en muchas ocasiones no reconoce las voces femeninas porque ha sido entrenados con voces masculinas\\\"\",\"fuente\":\"Lucía Velasco\",\"genero_fuente\":\"femenino\",\"colectivos\":[\"mujeres\"] ,\"verbo\":\"añade\"},{\"cita_textual\":\"\\\"Y después, participar en su diseño para garantizar que nuestro punto de vista se tiene en cuenta cuando se crea y entrena al sistema. Es muy importante dar visibilidad a los sesgos que se detectan para que seamos conscientes de que este es un problema real y que si no se establecen procesos de auditoría algorítmica van a replicarse en todos aquellos lugares donde se introduzcan algoritmos en la toma de decisiones\\\"\",\"fuente\":\"Lucía Velasco\",\"genero_fuente\":\"femenino\",\"colectivos\":[\"mujeres\"] ,\"verbo\":\"explica\"},{\"cita_textual\":\"\\\"No me imagino contratando a una persona sin ser yo la que habla con ella y adaptando la entrevista a la situación real que ambas vivimos en ese preciso momento. Las máquinas no saben improvisar\\\"\",\"fuente\":\"Lucía Velasco\",\"genero_fuente\":\"femenino\",\"colectivos\":[] ,\"verbo\":\"dice\"},{\"cita_textual\":\"\\\"Incluso en la primera fase, siempre deberíamos estar seguros de que se introducen elementos de diversidad para no acabar con réplicas de personas con el mismo CV\\\"\",\"fuente\":\"Lucía Velasco\",\"genero_fuente\":\"femenino\",\"colectivos\":[] ,\"verbo\":\"explica\"},{\"cita_textual\":\"\\\"Imagínate que solo acabamos entrevistando a personas que hayan estudiado en una universidad privada con clases en inglés, estaríamos discriminando y negando oportunidades a muchísima gente. Otra cuestión distinta es que los algoritmos asistan en el proceso y hagan recomendaciones, para evitar los sesgos cognitivos de las propias personas que seleccionan\\\"\",\"fuente\":\"Lucía Velasco\",\"genero_fuente\":\"femenino\",\"colectivos\":[] ,\"verbo\":\"añade\"},{\"cita_textual\":\"\\\"Yo le diría que busque algo con lo que se sienta motivada, pero que no se olvide de mirar también en el ámbito tecnológico por si estuviera ahí. A veces descartamos opciones por ideas preconcebidas y en el mundo tecnológico hay infinitas posibilidades para conectar con propósitos vitales, desde la filosofía, la sostenibilidad, la ayuda al desarrollo o las criptomonedas\\\"\",\"fuente\":\"Lucía Velasco\",\"genero_fuente\":\"femenino\",\"colectivos\":[\"mujeres\"] ,\"verbo\":\"explica\"}],\"num_quotes\":8}\n"
     ]
    },
    {
     "name": "stderr",
     "output_type": "stream",
     "text": [
      "Procesando predicciones:  17%|█▋        | 17/100 [02:37<16:02, 11.60s/it]"
     ]
    },
    {
     "name": "stdout",
     "output_type": "stream",
     "text": [
      "{\"quotes\":[{\"cita_textual\":\"Queda mucho por hacer. Hay que empezar desde la educación y la cultura, y visibilizar el emprendimiento como una opción más en el colegio y la universidad. También hay que mostrar más referentes de emprendedoras y de mujeres en carreras STEM\",\"fuente\":\"Andrea Barber\",\"genero_fuente\":\"femenino\",\"colectivos\":[\"jovenes\",\"emprendedores\",\"mujeres en STEM\"],\"verbo\":\"resume\"},{\"cita_textual\":\"Gracias a que usamos tecnología muy puntera de forma transversal, que a veces está en fase de investigación, podemos desarrollar proyectos más complejos, que abarcan toda la cadena de valor.\",\"fuente\":\"Natalia Rodríguez\",\"genero_fuente\":\"femenino\",\"colectivos\":[\"startups\",\"mujeres líderes\"],\"verbo\":\"indica\"},{\"cita_textual\":\"Cuando los estudios que estaba realizando sobre la dislexia dieron resultados, decidí ponerlos al servicio de las personas.\",\"fuente\":\"Luz Rello\",\"genero_fuente\":\"femenino\",\"colectivos\":[\"personas con dislexia\"],\"verbo\":\"asegura\"},{\"cita_textual\":\"El concepto es que, como usuarios, tengamos una única identidad digital con la que accedamos a todos los servicios, y donde nosotros seamos quienes controlemos esa identidad digital única.\",\"fuente\":\"Irene Hernández\",\"genero_fuente\":\"femenino\",\"colectivos\":[\"usuarios de servicios digitales\"],\"verbo\":\"explica\"},{\"cita_textual\":\"Fue una respuesta a la falta de referentes que habíamos encontrado.\",\"fuente\":\"Andrea Barber\",\"genero_fuente\":\"femenino\",\"colectivos\":[\"mujeres emprendedoras\"],\"verbo\":\"admite\"},{\"cita_textual\":\"Fue clave encontrar qué es lo que me llenaba, para qué lo hacía y con quién. Tras pasar un tiempo con un familiar en un hospital, decidí que quería ayudar a los demás con la tecnología.\",\"fuente\":\"Natalia Rodríguez\",\"genero_fuente\":\"femenino\",\"colectivos\":[\"personas ayudadas\"],\"verbo\":\"admite\"},{\"cita_textual\":\"Nadie habla de los tropiezos que se cometen por el camino. Los comienzos siempre son duros y hay que darlo todo, y muchas veces.\",\"fuente\":\"Luz Rello\",\"genero_fuente\":\"femenino\",\"colectivos\":[\"emprendedores\"],\"verbo\":\"observa\"},{\"cita_textual\":\"Si tienes un sueño, persíguelo, y si cometes errores, aprende de ellos y vuelve a intentarlo.\",\"fuente\":\"Luz Rello\",\"genero_fuente\":\"femenino\",\"colectivos\":[\"emprendedores\"],\"verbo\":\"mantiene\"},{\"cita_textual\":\"En una compañía grande se tarda en consolidar una posición donde tu trabajo genere un impacto social, y yo quiero ver ese impacto. Soy inquieta, me va la marcha.\",\"fuente\":\"Irene Hernández\",\"genero_fuente\":\"femenino\",\"colectivos\":[\"trabajadores en impacto social\"],\"verbo\":\"admite\"}],\"num_quotes\":9}\n"
     ]
    },
    {
     "name": "stderr",
     "output_type": "stream",
     "text": [
      "Procesando predicciones:  18%|█▊        | 18/100 [02:48<15:46, 11.54s/it]"
     ]
    },
    {
     "name": "stdout",
     "output_type": "stream",
     "text": [
      "{\"quotes\":[{\"cita_textual\":\"El taxi volador será un nuevo tipo de vehículo eléctrico\",\"fuente\":\"Mercedes Pelegrín\",\"genero_fuente\":\"femenino\",\"colectivos\":[\"taxi volador\",\"vehículos eléctricos\"],\"verbo\":\"dijo\"},{\"cita_textual\":\"Pienso que los ordenadores no atraen tanto a las chicas porque la concepción de la carrera no se ajusta a lo que realmente es.\",\"fuente\":\"Mercedes Pelegrín\",\"genero_fuente\":\"femenino\",\"colectivos\":[\"chicas\"],\"verbo\":\"pienso\"},{\"cita_textual\":\"La carrera de informática me sorprendió para bien.\",\"fuente\":\"Mercedes Pelegrín\",\"genero_fuente\":\"femenino\",\"colectivos\":[],\"verbo\":\"dijo\"},{\"cita_textual\":\"Se trata de hacer modelos matemáticos para tomar la mejor decisión posible entre un conjunto de alternativas.\",\"fuente\":\"Mercedes Pelegrín\",\"genero_fuente\":\"femenino\",\"colectivos\":[],\"verbo\":\"explicó\"},{\"cita_textual\":\"Ahora trabajo en un proyecto de movilidad urbana para el transporte de pasajeros con vehículos parecidos a los drones.\",\"fuente\":\"Mercedes Pelegrín\",\"genero_fuente\":\"femenino\",\"colectivos\":[\"vehículos aéreos\",\"drones\"],\"verbo\":\"comentó\"},{\"cita_textual\":\"Aún está en desarrollo.\",\"fuente\":\"Mercedes Pelegrín\",\"genero_fuente\":\"femenino\",\"colectivos\":[],\"verbo\":\"afirmó\"},{\"cita_textual\":\"El objetivo es maximizarlo o minimizarlo con tu modelo.\",\"fuente\":\"Mercedes Pelegrín\",\"genero_fuente\":\"femenino\",\"colectivos\":[],\"verbo\":\"indicó\"},{\"cita_textual\":\"En cualquier contexto de emergencia, ya sea la localización de hospitales...\",\"fuente\":\"Mercedes Pelegrín\",\"genero_fuente\":\"femenino\",\"colectivos\":[\"hospitales\",\"emergencias\"],\"verbo\":\"comentó\"},{\"cita_textual\":\"Acabas la carrera en cinco años en lugar de cuatro.\",\"fuente\":\"Mercedes Pelegrín\",\"genero_fuente\":\"femenino\",\"colectivos\":[],\"verbo\":\"explicó\"},{\"cita_textual\":\"No. La decisión es mía.\",\"fuente\":\"Mercedes Pelegrín\",\"genero_fuente\":\"femenino\",\"colectivos\":[],\"verbo\":\"respondió\"},{\"cita_textual\":\"Lo que sí ha influido es el ver una figura relevante para ti, que es ejemplar y en la que te puedes inspirar.\",\"fuente\":\"Mercedes Pelegrín\",\"genero_fuente\":\"femenino\",\"colectivos\":[],\"verbo\":\"afirmó\"}],\"num_quotes\":11}\n"
     ]
    },
    {
     "name": "stderr",
     "output_type": "stream",
     "text": [
      "Procesando predicciones:  19%|█▉        | 19/100 [02:53<13:03,  9.67s/it]"
     ]
    },
    {
     "name": "stdout",
     "output_type": "stream",
     "text": [
      "{\"quotes\":[{\"cita_textual\":\"El gran drama de la empresa española es que, cuando supera la primera etapa de 'mortalidad infantil', resulta que la malvendemos fuera de nuestras fronteras, expulsando el talento y la innovación porque no encuentran en España la capacidad financiera para crecer.\",\"fuente\":\"Carme Artigas\",\"genero_fuente\":\"femenino\",\"colectivos\":[\"empresa española\"] ,\"verbo\":\"avisa\"},{\"cita_textual\":\"el segundo fondo de este tipo más grande de Europa, por detrás del de Alemania, de 7.000 millones, y el doble que el de Francia y el triple que el de Italia\",\"fuente\":\"Carme Artigas\",\"genero_fuente\":\"femenino\",\"colectivos\":[],\"verbo\":\"conforman\"},{\"cita_textual\":\"Queremos crear unicornios en España, no vender nuestro talento\",\"fuente\":\"Carme Artigas\",\"genero_fuente\":\"femenino\",\"colectivos\":[],\"verbo\":\"ha expresado\"},{\"cita_textual\":\"las valoraciones de las empresas españolas están por debajo del mercado. La misma empresa con sede en Israel te vale tres veces más\",\"fuente\":\"Carme Artigas\",\"genero_fuente\":\"femenino\",\"colectivos\":[\"empresas españolas\"],\"verbo\":\"convencida\"},{\"cita_textual\":\"antes de final de año, el Gobierno lanzará una primera convocatoria del Plan de digitalización de pymes\",\"fuente\":\"Carme Artigas\",\"genero_fuente\":\"femenino\",\"colectivos\":[\"pymes\"],\"verbo\":\"ha anunciado\"}],\"num_quotes\":5}\n"
     ]
    },
    {
     "name": "stderr",
     "output_type": "stream",
     "text": [
      "Procesando predicciones:  20%|██        | 20/100 [03:04<13:25, 10.07s/it]"
     ]
    },
    {
     "name": "stdout",
     "output_type": "stream",
     "text": [
      "{\"quotes\":[{\"cita_textual\":\"La felicidad, de la que se habla mucho, es una actitud\",\"fuente\":\"Sole Giménez\",\"genero_fuente\":\"femenino\",\"colectivos\":[],\"verbo\":\"dijo\"},{\"cita_textual\":\"No, es la que yo he elegido con mis aciertos y mis errores. Y son MIS aciertos y MIS errores.\",\"fuente\":\"Sole Giménez\",\"genero_fuente\":\"femenino\",\"colectivos\":[],\"verbo\":\"dijo\"},{\"cita_textual\":\"Es un álbum que ha surgido fruto del momento que vivimos.\",\"fuente\":\"Sole Giménez\",\"genero_fuente\":\"femenino\",\"colectivos\":[],\"verbo\":\"dijo\"},{\"cita_textual\":\"No es que no nos quede otra, es que es la vida.\",\"fuente\":\"Sole Giménez\",\"genero_fuente\":\"femenino\",\"colectivos\":[],\"verbo\":\"dijo\"},{\"cita_textual\":\"Nos pareció que reflejaba muy bien lo que queríamos contar.\",\"fuente\":\"Sole Giménez\",\"genero_fuente\":\"femenino\",\"colectivos\":[],\"verbo\":\"dijo\"},{\"cita_textual\":\"La que más me llama la atención, por envidia insana, es la historia de la programadora de inteligencia artificial (IA) Nerea Luis.\",\"fuente\":\"Sole Giménez\",\"genero_fuente\":\"femenino\",\"colectivos\":[\"mujeres\"],\"verbo\":\"dijo\"},{\"cita_textual\":\"Que piensen en esa vocación como una afición, que a lo mejor no se van a dedicar profesionalmente a ello, que quizás no van a vivir de eso... pero no tienen que abandonar su sueño.\",\"fuente\":\"Sole Giménez\",\"genero_fuente\":\"femenino\",\"colectivos\":[\"niñas\"],\"verbo\":\"dijo\"},{\"cita_textual\":\"Creo que se lo dan a mi yo de 14 años, que decide crear un grupo de música por las tardes, después del colegio, e iniciar lo que ella considera que es la vida real para así crear su mundo paralelo.\",\"fuente\":\"Sole Giménez\",\"genero_fuente\":\"femenino\",\"colectivos\":[],\"verbo\":\"dijo\"},{\"cita_textual\":\"Es una persona que ha sido dueña de su carrera y, quizás, las prendas que diseñaba no eran lo que su familia y la sociedad esperaban de ella.\",\"fuente\":\"Sole Giménez\",\"genero_fuente\":\"femenino\",\"colectivos\":[],\"verbo\":\"dijo\"},{\"cita_textual\":\"Es muy fácil decirle a alguien que se dedique a lo que le gusta.\",\"fuente\":\"Sole Giménez\",\"genero_fuente\":\"femenino\",\"colectivos\":[\"jóvenes\"],\"verbo\":\"dijo\"},{\"cita_textual\":\"Te tiene que importar cero lo que opinen los demás, ya sea con la mejor o la peor intención.\",\"fuente\":\"Sole Giménez\",\"genero_fuente\":\"femenino\",\"colectivos\":[],\"verbo\":\"dijo\"}],\"num_quotes\":11}\n"
     ]
    },
    {
     "name": "stderr",
     "output_type": "stream",
     "text": [
      "Procesando predicciones:  21%|██        | 21/100 [03:15<13:21, 10.15s/it]"
     ]
    },
    {
     "name": "stdout",
     "output_type": "stream",
     "text": [
      "{\"quotes\":[{\"cita_textual\":\"Muchas mujeres dejan de viajar solas, aunque tienen tiempo y dinero, porque tienen miedos fundados. La tecnología puede hacer mucho por ellas, para conectarlas\",\"fuente\":\"Jussara Pellicano\",\"genero_fuente\":\"femenino\",\"colectivos\":[\"mujeres\"],\"verbo\":\"reconoce\"},{\"cita_textual\":\"El turismo es un gran campo para atraer a la mujer porque los viajes cambian a las personas y es una experiencia de empoderamiento inolvidable. Si animas a alguien a viajar sale de la zona de confort y crece su visión del mundo. La tecnología puede hacer mucho por ellas, para conectarlas\",\"fuente\":\"Jussara Pellicano\",\"genero_fuente\":\"femenino\",\"colectivos\":[\"mujeres\"],\"verbo\":\"explica\"},{\"cita_textual\":\"las mujeres tienen barreras a la hora de acceder a financiación, hay criterios sesgados para conceder préstamos y tienen menos acceso a líneas de crédito\",\"fuente\":\"Chiara Quaia\",\"genero_fuente\":\"femenino\",\"colectivos\":[\"mujeres\"],\"verbo\":\"opina\"},{\"cita_textual\":\"Hay un prejuicio con la mujer emprendiendo, hay que deconstruir muchas cosas de machismo estructural que ni siquiera nos damos cuenta y ocupar un lugar de poder\",\"fuente\":\"Jussara Pellicano\",\"genero_fuente\":\"femenino\",\"colectivos\":[\"mujeres\"],\"verbo\":\"dice\"},{\"cita_textual\":\"El poder público privado y los bancos tienen que traer a la mujer en el sector, porque tiene un papel vertebrador. Por ejemplo, el hecho de empoderar a la mujer es fundamental para que en el entorno rural se puedan crear nuevos negocios y en las zonas despobladas tienen un papel vertebrador\",\"fuente\":\"Esther Rodríguez\",\"genero_fuente\":\"femenino\",\"colectivos\":[\"mujeres\"],\"verbo\":\"relata\"},{\"cita_textual\":\"va a cambiar la forma en la que vamos a viajar, y la tecnología es ya algo presente. Nosotros teníamos muchas mujeres maduras interesadas en la aplicación de Sisterwave, pero tenían dificultades con la digitalización. Después de la pandemia esto ha cambiado, están más familiarizadas más con la tecnología\",\"fuente\":\"Jussara Pellicano\",\"genero_fuente\":\"femenino\",\"colectivos\":[\"mujeres\"],\"verbo\":\"dice\"},{\"cita_textual\":\"protocolos homogéneos, corredores seguros pero por destinos, no por países; el uso de la tecnología\",\"fuente\":\"Natalia Bayona\",\"genero_fuente\":\"femenino\",\"colectivos\":[],\"verbo\":\"enumera\"},{\"cita_textual\":\"¿Qué pasa si vas con una familia y son cinco niños y dos adultos? Imagínese descargarse el QR del avión, del hotel, multiplicado por cinco...Cuando más bloqueos haya en el turismo peor nos irá\",\"fuente\":\"Natalia Bayona\",\"genero_fuente\":\"femenino\",\"colectivos\":[],\"verbo\":\"explica\"},{\"cita_textual\":\"El viajero tiene que saber dónde y cómo puede viajar y para eso necesitamos pautas globales claras, porque lo que hemos visto hasta ahora son estrategias distintas que crean confusión. Es necesaria una comunicación clara de los gobiernos para que sepan cómo pueden entrar\",\"fuente\":\"Chiara Quaia\",\"genero_fuente\":\"femenino\",\"colectivos\":[],\"verbo\":\"señala\"},{\"cita_textual\":\"tenemos que unificar las plataformas para no volver loco al turista. En esto las start ups tenemos tiempos muy rápidos y tenemos capacidad para adelantar ese tiempo de mercado, un trabajo, que por cauces naturales costaría varios años hacerlo\",\"fuente\":\"Esther Rodríguez\",\"genero_fuente\":\"femenino\",\"colectivos\":[],\"verbo\":\"dice\"}],\"num_quotes\":10}\n"
     ]
    },
    {
     "name": "stderr",
     "output_type": "stream",
     "text": [
      "Procesando predicciones:  22%|██▏       | 22/100 [03:19<10:47,  8.30s/it]"
     ]
    },
    {
     "name": "stdout",
     "output_type": "stream",
     "text": [
      "{\"quotes\":[{\"cita_textual\":\"empieza ahora le legislatura\",\"fuente\":\"Yolanda Díaz\",\"genero_fuente\":\"femenino\",\"colectivos\":[],\"verbo\":\"ha anunciado\"},{\"cita_textual\":\"Los plazos en Derecho no se discuten, nos hemos fijado una fecha y hay que cumplirlos\",\"fuente\":\"Yolanda Díaz\",\"genero_fuente\":\"femenino\",\"colectivos\":[],\"verbo\":\"ha insistido\"},{\"cita_textual\":\"mira a los ojos sin complejos a Europa, quien emula lo que este país está haciendo en este momento\",\"fuente\":\"Yolanda Díaz\",\"genero_fuente\":\"femenino\",\"colectivos\":[],\"verbo\":\"ha señalado\"},{\"cita_textual\":\"No vamos a Europa a aprender, Europa también aprende con lo que España está haciendo\",\"fuente\":\"Yolanda Díaz\",\"genero_fuente\":\"femenino\",\"colectivos\":[],\"verbo\":\"ha apostillado\"}],\"num_quotes\":4}\n"
     ]
    },
    {
     "name": "stderr",
     "output_type": "stream",
     "text": [
      "Procesando predicciones:  23%|██▎       | 23/100 [03:39<15:14, 11.87s/it]"
     ]
    },
    {
     "name": "stdout",
     "output_type": "stream",
     "text": [
      "{\"quotes\":[{\"cita_textual\":\"\\\"Es imposible\\\"\",\"fuente\":\"AIReF\",\"genero_fuente\":\"desconocido\",\"colectivos\":[],\"verbo\":\"afirmar\"},{\"cita_textual\":\"\\\"Más allá de las líneas estratégicas descritas en el documento 'España Puede', no se conoce ni el detalle de los proyectos aprobados, ni los plazos de ejecución, ni el contenido de las reformas estructurales que acompañarán al Plan en áreas nucleares para el crecimiento económico como el mercado de trabajo, el sistema de pensiones o la reforma tributaria\\\"\",\"fuente\":\"Cristina Herrero, presidenta de la AIReF\",\"genero_fuente\":\"femenino\",\"colectivos\":[],\"verbo\":\"critica\"},{\"cita_textual\":\"\\\"Sin esta información es imposible juzgar los efectos multiplicadores sobre el crecimiento y el empleo, la capacidad de atracción de la inversión privada, ni sus potenciales efectos sobre el potencial de crecimiento de la economía y la productividad\\\"\",\"fuente\":\"AIReF\",\"genero_fuente\":\"desconocido\",\"colectivos\":[],\"verbo\":\"se distancia\"},{\"cita_textual\":\"\\\"el impacto conjunto de este Plan sobre el crecimiento del PIB será de 2 puntos porcentuales, en el promedio del período 2021-2023\\\"\",\"fuente\":\"Ministerio de Asuntos Económicos, dirigido por Nadia Calviño\",\"genero_fuente\":\"femenino\",\"colectivos\":[],\"verbo\":\"sostiene\"},{\"cita_textual\":\"\\\"La AIReF quiere hacer notar la incertidumbre existente en torno a las estimaciones del impacto macroeconómico del PRTR, un elemento esencial en el escenario de previsión del programa de estabilidad\\\"\",\"fuente\":\"AIReF\",\"genero_fuente\":\"desconocido\",\"colectivos\":[],\"verbo\":\"quiere hacer notar\"},{\"cita_textual\":\"\\\"el impacto del PRTR requiere el cumplimiento de requisitos exigentes. Para que el PRTR tenga el efecto previsto es necesario que se diseñen proyectos de calidad, se acompañe de las reformas estructurales adecuadas y que no se produzcan retrasos en la absorción de recursos y en la ejecución de los proyectos\\\"\",\"fuente\":\"AIReF\",\"genero_fuente\":\"desconocido\",\"colectivos\":[],\"verbo\":\"incide\"},{\"cita_textual\":\"\\\"Apenas hay evidencia sobre los efectos macroeconómicos de inversiones tan novedosas como la Estrategia de Inteligencia Artificial o la hoja de ruta del hidrógeno, por poner algún ejemplo\\\"\",\"fuente\":\"AIReF\",\"genero_fuente\":\"desconocido\",\"colectivos\":[],\"verbo\":\"afirma\"},{\"cita_textual\":\"\\\"Basándose en todas estas consideraciones, la AIReF considera que el escenario macroeconómico que sustenta el programa de estabilidad para el período 2021-2024 es factible\\\"\",\"fuente\":\"AIReF\",\"genero_fuente\":\"desconocido\",\"colectivos\":[],\"verbo\":\"considera\"},{\"cita_textual\":\"\\\"el escenario oficial se encuentra condicionado a que los avances en el proceso de vacunación permitan iniciar un proceso de normalización paulatina de las actividades sociales\\\"\",\"fuente\":\"AIReF\",\"genero_fuente\":\"desconocido\",\"colectivos\":[],\"verbo\":\"afirma\"},{\"cita_textual\":\"\\\"existe mucha incertidumbre en torno al impacto asociado al PRTR, que la AIReF no puede juzgar con la información de que dispone\\\"\",\"fuente\":\"AIReF\",\"genero_fuente\":\"desconocido\",\"colectivos\":[],\"verbo\":\"afirma\"}],\"num_quotes\":11}\n"
     ]
    },
    {
     "name": "stderr",
     "output_type": "stream",
     "text": [
      "Procesando predicciones:  24%|██▍       | 24/100 [03:50<14:46, 11.67s/it]"
     ]
    },
    {
     "name": "stdout",
     "output_type": "stream",
     "text": [
      "{\"quotes\":[{\"cita_textual\":\"\\\"La prostitución sigue funcionando, porque los clientes encuentran triquiñuelas para ir a los pisos\\\"\",\"fuente\":\"Mabel Lozano\",\"genero_fuente\":\"femenino\",\"colectivos\":[\"prostitutas\"] ,\"verbo\":\"dijo\"},{\"cita_textual\":\"\\\"Ha sido terrible. Las prostitutas son las más vulnerables: algunas han llegado a pasar mucha hambre, otras han aumentado su deuda y no han tenido ni 10 dólares para mandar a sus países de origen...\\\"\",\"fuente\":\"Mabel Lozano\",\"genero_fuente\":\"femenino\",\"colectivos\":[\"prostitutas\"] ,\"verbo\":\"dijo\"},{\"cita_textual\":\"\\\"Absolutamente a favor de que introduzca el tema de las tercerías locativas. Pero podría haber sido mucho más valiente y haber abordado la fiscalía especializada.\\\"\",\"fuente\":\"Mabel Lozano\",\"genero_fuente\":\"femenino\",\"colectivos\":[\"mujeres\",\"tercerías locativas\"] ,\"verbo\":\"dijo\"},{\"cita_textual\":\"\\\"Estamos viendo iniciativas para hacer políticas abolicionistas, es decir, revestir de derechos a las mujeres, abordar el tema de la reinserción, de la educación sexual de los jóvenes...\\\"\",\"fuente\":\"Mabel Lozano\",\"genero_fuente\":\"femenino\",\"colectivos\":[\"mujeres\",\"jóvenes\"] ,\"verbo\":\"dijo\"},{\"cita_textual\":\"\\\"El último en legislar estas políticas abolicionistas es Francia, con una ley mucho más avanzada, que viste de derechos a las mujeres.\\\"\",\"fuente\":\"Mabel Lozano\",\"genero_fuente\":\"femenino\",\"colectivos\":[\"mujeres\"] ,\"verbo\":\"dijo\"},{\"cita_textual\":\"\\\"Hay una encuesta que dice, y no lo digo yo, porque a todos los que les pregunto me dicen que no, que un 38% de los hombres españoles reconoce utilizarla, lo que corresponde a 8 millones y medio.\\\"\",\"fuente\":\"Mabel Lozano\",\"genero_fuente\":\"femenino\",\"colectivos\":[\"hombres españoles\"] ,\"verbo\":\"dijo\"},{\"cita_textual\":\"\\\"A que está enquistada desde siempre, de toda la vida, y se normaliza también por la falta de educación sexual. No la hay. Nuestros chavales están 'educando' la sexualidad en la pornografía, lo que les hace creer que tienen derecho a comprar a un ser humano.\\\"\",\"fuente\":\"Mabel Lozano\",\"genero_fuente\":\"femenino\",\"colectivos\":[\"jóvenes\",\"chavales\"] ,\"verbo\":\"dijo\"},{\"cita_textual\":\"\\\"Viene lleno de pornografía, lo que llamo prostitución 2.0, la pornografía en vivo.\\\"\",\"fuente\":\"Mabel Lozano\",\"genero_fuente\":\"femenino\",\"colectivos\":[\"usuarios de pornografía\"] ,\"verbo\":\"dijo\"},{\"cita_textual\":\"\\\"No es una lacra, sino un fenómeno delictivo, porque trata y prostitución van de la mano.\\\"\",\"fuente\":\"Mabel Lozano\",\"genero_fuente\":\"femenino\",\"colectivos\":[\"mujeres\",\"prostitutas\"] ,\"verbo\":\"dijo\"},{\"cita_textual\":\"\\\"Hay dos pilares muy importantes: la legislación -leyes orgánicas que penalicen este fenómeno delictivo, a los proxenetas y a los demandantes de sexo de pago como cómplices, y que den derechos a las mujeres- y la educación sexual de los jóvenes.\\\"\",\"fuente\":\"Mabel Lozano\",\"genero_fuente\":\"femenino\",\"colectivos\":[\"prostitutas\",\"demandantes de sexo\",\"jóvenes\"] ,\"verbo\":\"dijo\"}],\"num_quotes\":10}\n"
     ]
    },
    {
     "name": "stderr",
     "output_type": "stream",
     "text": [
      "Procesando predicciones:  25%|██▌       | 25/100 [04:06<16:15, 13.01s/it]"
     ]
    },
    {
     "name": "stdout",
     "output_type": "stream",
     "text": [
      "{\"quotes\":[{\"cita_textual\":\"Una apuesta personal. Una apuesta hecha con corazón y con la ilusión por un proyecto nuevo.\",\"fuente\":\"Meritxell Bautista\",\"genero_fuente\":\"femenino\",\"colectivos\":[\"mujeres\",\"empresarias\",\"niñas\",\"adolescentes\"] ,\"verbo\":\"habla\"},{\"cita_textual\":\"Siempre digo que yo no lo dejé todo por amor.\",\"fuente\":\"Meritxell Bautista\",\"genero_fuente\":\"femenino\",\"colectivos\":[\"mujeres\"] ,\"verbo\":\"dice\"},{\"cita_textual\":\"Los estudios dicen que una niña descarta profesiones vinculadas a la ciencia y tecnología a partir de los ¡6 años!!!\",\"fuente\":\"Meritxell Bautista\",\"genero_fuente\":\"femenino\",\"colectivos\":[\"niñas\",\"mujeres\"] ,\"verbo\":\"dice\"},{\"cita_textual\":\"A mí me gustaría decirle a una adolescente por qué la tecnología es sexy.\",\"fuente\":\"Meritxell Bautista\",\"genero_fuente\":\"femenino\",\"colectivos\":[\"adolescentes\"] ,\"verbo\":\"dice\"},{\"cita_textual\":\"¡Es que la tecnología es realmente sexy!\",\"fuente\":\"Meritxell Bautista\",\"genero_fuente\":\"femenino\",\"colectivos\":[\"mujeres\"] ,\"verbo\":\"dice\"},{\"cita_textual\":\"Ana Freire, investigadora, dice que \\\"la sociedad necesita menos #influencers y más #Sciencefluencers\\\" y estoy totalmente de acuerdo.\",\"fuente\":\"Meritxell Bautista\",\"genero_fuente\":\"femenino\",\"colectivos\":[\"mujeres\",\"científicas\"] ,\"verbo\":\"dice\"},{\"cita_textual\":\"No estoy segura de que se pueda hablar de 'liderazgo femenino' como un estilo con características comunes.\",\"fuente\":\"Meritxell Bautista\",\"genero_fuente\":\"femenino\",\"colectivos\":[] ,\"verbo\":\"dice\"},{\"cita_textual\":\"Para mí un/una líder es alguien que tiene la convicción de que un sueño puede alcanzarse y que además es capaz de inspirar en otros la fuerza para conseguirlo.\",\"fuente\":\"Meritxell Bautista\",\"genero_fuente\":\"femenino\",\"colectivos\":[] ,\"verbo\":\"dice\"},{\"cita_textual\":\"Hace poco, en el Foro de Davos se dijo que, al ritmo actual, alcanzaremos la paridad de género dentro de 135 años.\",\"fuente\":\"Meritxell Bautista\",\"genero_fuente\":\"femenino\",\"colectivos\":[\"mujeres\"] ,\"verbo\":\"dice\"},{\"cita_textual\":\"Yo me niego a masculinizar nada. ¡Y menos a mí misma!\",\"fuente\":\"Meritxell Bautista\",\"genero_fuente\":\"femenino\",\"colectivos\":[] ,\"verbo\":\"dice\"},{\"cita_textual\":\"Debemos provocar un cambio de paradigma y quizás 'feminizar' las reglas.\",\"fuente\":\"Meritxell Bautista\",\"genero_fuente\":\"femenino\",\"colectivos\":[] ,\"verbo\":\"dice\"},{\"cita_textual\":\"El coche era gentileza de la empresa donde trabajaba.\",\"fuente\":\"Meritxell Bautista\",\"genero_fuente\":\"femenino\",\"colectivos\":[] ,\"verbo\":\"dice\"},{\"cita_textual\":\"Aquello de las etiquetas y ser incapaz de concebir que una mujer sea capaz de hacer y conseguir todo lo que se proponga (no hace falta decir que si hubiera sido un hombre me hubiesen considerado un triunfador-vividor-follador. ¡Seguro!).\",\"fuente\":\"Meritxell Bautista\",\"genero_fuente\":\"femenino\",\"colectivos\":[\"mujeres\"] ,\"verbo\":\"dice\"},{\"cita_textual\":\"Un día me di cuenta de que era profundamente infeliz. No me gustaba ni yo ni mi vida. Solo me hacía feliz mi trabajo.\",\"fuente\":\"Meritxell Bautista\",\"genero_fuente\":\"femenino\",\"colectivos\":[] ,\"verbo\":\"dice\"},{\"cita_textual\":\"¡Todas! Mujer y en el sector de las telecomunicaciones.\",\"fuente\":\"Meritxell Bautista\",\"genero_fuente\":\"femenino\",\"colectivos\":[\"mujeres\"] ,\"verbo\":\"dice\"},{\"cita_textual\":\"Supongo que durante décadas declararase feminista se consideraba 'radical'.\",\"fuente\":\"Meritxell Bautista\",\"genero_fuente\":\"femenino\",\"colectivos\":[] ,\"verbo\":\"supone\"},{\"cita_textual\":\"Claro, existe el 'purplewashing' y quienes se acuerdan del feminismo solo cuando interesa.\",\"fuente\":\"Meritxell Bautista\",\"genero_fuente\":\"femenino\",\"colectivos\":[] ,\"verbo\":\"dice\"}],\"num_quotes\":21}\n"
     ]
    },
    {
     "name": "stderr",
     "output_type": "stream",
     "text": [
      "Procesando predicciones:  26%|██▌       | 26/100 [04:20<16:30, 13.38s/it]"
     ]
    },
    {
     "name": "stdout",
     "output_type": "stream",
     "text": [
      "{\"quotes\":[{\"cita_textual\":\"\\\"Me refiero a ese pellizco, a la forma con la que te llenas el pecho de alegría, con la que rebañas un huevo frito, con la que te pintas el rabillo del ojo. Acento es que se te vean las costuras y los dobladillos, que se te escuche hasta el hipo\\\"\",\"fuente\":\"Lola Flores (resucitada a través de IA)\",\"genero_fuente\":\"femenino\",\"colectivos\":[],\"verbo\":\"habla\"},{\"cita_textual\":\"\\\"Este, realmente, ha sido un trabajo muy delicado y hemos colaborado muchísimo con la gente que ha hecho esta maravilla, porque se trata de nuestra madre. Cualquier cosa previa a este anuncio que veíamos decíamos 'no, no, no. Esto no puede ser así, la ceja no puede ser así, la barbilla es más chiquitita, ella no haría este gesto'. Pero cuando vimos el resultado final de Cruzcampo, nos quedamos encantadas de la vida, porque yo veo a mi madre tal y como era y eso me parece un milagro casi\\\"\",\"fuente\":\"Rosario Flores\",\"genero_fuente\":\"femenino\",\"colectivos\":[],\"verbo\":\"declaró\"},{\"cita_textual\":\"\\\"Es que es impresionante. No puedes dejar de mirarla a los ojos\\\"\",\"fuente\":\"Lolita Flores\",\"genero_fuente\":\"femenino\",\"colectivos\":[],\"verbo\":\"afirmó\"},{\"cita_textual\":\"\\\"Yo creo que hablar como ella fue lo que más me costó, ponerme dentro su piel para decir las cosas con ese subtexto que llevan\\\"\",\"fuente\":\"Lolita Flores\",\"genero_fuente\":\"femenino\",\"colectivos\":[],\"verbo\":\"afirmó\"},{\"cita_textual\":\"\\\"Ella diría que es una influencer, seguramente... Yo creo que, antes de irse, ella intuía un poco lo que ella iba a ser en este planeta Tierra. Yo creo que mi madre es un icono mundial, que llega a los corazones de todo el mundo. De la juventud, de los mayores, de los pequeños. Estás un poco deprimido y te pones a mi madre y te da una fuerza de vivir... Todavía tiene mucha energía. Nada más hay que poner las redes y ver que mamá está en todas partes. Así que estoy muy orgullosa de que mi madre pueda alentar y dar fuerzas todavía... ¡Y encima con los tiempos que estamos viviendo!\\\"\",\"fuente\":\"Rosario Flores\",\"genero_fuente\":\"femenino\",\"colectivos\":[],\"verbo\":\"manifestó\"},{\"cita_textual\":\"\\\"La gente sentía devoción por ella. Y no solamente Lola Flores ha sido una artista de gente de su edad y de gente mayor, sino que ha sido un referente hasta para los niños chicos. Las madres acercaban niños de cinco o seis años a mi madre para que los tocara, como si fuera la Virgen del Rocío. Yo creo que es la verdad que ella tenía, la autenticidad, lo adelantada a su tiempo y lo sabia que podría haber llegado a ser si no se la hubiese llevado Dios\\\"\",\"fuente\":\"Lolita Flores\",\"genero_fuente\":\"femenino\",\"colectivos\":[],\"verbo\":\"relató\"}],\"num_quotes\":6}\n"
     ]
    },
    {
     "name": "stderr",
     "output_type": "stream",
     "text": [
      "Procesando predicciones:  27%|██▋       | 27/100 [04:33<16:01, 13.16s/it]"
     ]
    },
    {
     "name": "stdout",
     "output_type": "stream",
     "text": [
      "{\"quotes\":[{\"cita_textual\":\"El ocio se ha convertido en un insufrible no hacer nada\",\"fuente\":\"Byung-Chul Han\",\"genero_fuente\":\"masculino\",\"colectivos\":[],\"verbo\":\"dijo\"},{\"cita_textual\":\"Creo que en estos meses ha habido una aceleración en el camino que veníamos transitando hacia la supresión de los espacios comunes y el predominio de los lugares comunes, hacia el autoritarismo -por ejemplo en Colombia- y hacia la instauración de una distancia entre el ser humano y su vida, que redunda en una separación entre el ser humano y su mortalidad.\",\"fuente\":\"Carolina Sanín\",\"genero_fuente\":\"femenino\",\"colectivos\":[\"humanidad\",\"ser humano\"],\"verbo\":\"cree\"},{\"cita_textual\":\"Me parece que lo que pueda decir como una persona y una mujer de mi tiempo tendrá muy poca actualidad muy pronto.\",\"fuente\":\"Carolina Sanín\",\"genero_fuente\":\"femenino\",\"colectivos\":[],\"verbo\":\"me parece\"},{\"cita_textual\":\"La cultura patriarcal no es la cultura de la superioridad del hombre, sino la cultura fundada sobre la defensa -y la invención- de los fueros del padre.\",\"fuente\":\"Carolina Sanín\",\"genero_fuente\":\"femenino\",\"colectivos\":[\"mujeres\",\"hombres\"],\"verbo\":\"dijo\"},{\"cita_textual\":\"He criticado a la derecha por su injusticia y su complicidad en el asesinato y el despojo; a la izquierda por su machismo, su demagogia y el automatismo de sus consignas; a quienes repiten el sonsonete reduccionista del \\\"privilegio\\\" por su antiintelectualismo y su privilegio de la autocompasión; a las élites por su mediocridad y su auntoindulgencia; a las nuevas feministas por sus juicios sumarios y su infantilización de las mujeres; a la Iglesia por su misoginia y a los antirreligiosos por sus opiniones desinformadas sobre la Biblia.\",\"fuente\":\"Carolina Sanín\",\"genero_fuente\":\"femenino\",\"colectivos\":[\"derecha\",\"izquierda\",\"nuevas feministas\",\"mujeres\",\"antirreligiosos\"],\"verbo\":\"ha criticado\"},{\"cita_textual\":\"El horror es actual. Los acuerdos de paz no han sido respetados.\",\"fuente\":\"Carolina Sanín\",\"genero_fuente\":\"femenino\",\"colectivos\":[\"líderes sociales\"],\"verbo\":\"afirma\"},{\"cita_textual\":\"Yo vivo escribiendo. Mi vida se convierte cada vez más en mi escritura y en la suma de las vertientes de mi autoría.\",\"fuente\":\"Carolina Sanín\",\"genero_fuente\":\"femenino\",\"colectivos\":[],\"verbo\":\"dice\"},{\"cita_textual\":\"Es una sociedad pornógrafa pero también deserotizada.\",\"fuente\":\"Carolina Sanín\",\"genero_fuente\":\"femenino\",\"colectivos\":[],\"verbo\":\"afirma\"},{\"cita_textual\":\"He visto el reguetón como la última forma de una tradición de poesía lírica cuyo primer acto son las canciones de los trovadores medievales, y que reivindica el habla común -y la apropiación poética del vernáculo- para la expresión y la celebración del deseo sexual.\",\"fuente\":\"Carolina Sanín\",\"genero_fuente\":\"femenino\",\"colectivos\":[],\"verbo\":\"ha visto\"}],\"num_quotes\":10}\n"
     ]
    },
    {
     "name": "stderr",
     "output_type": "stream",
     "text": [
      "Procesando predicciones:  28%|██▊       | 28/100 [04:55<19:01, 15.85s/it]"
     ]
    },
    {
     "name": "stdout",
     "output_type": "stream",
     "text": [
      "{\"quotes\":[{\"cita_textual\":\"La realidad digital que surge tras la pandemia del coronavirus nos coloca a todos en el mismo punto de partida, por lo que hay que aprovechar para cerrar las brechas de género\",\"fuente\":\"Carme Artigas, secretaria de Estado de Digitalización e Inteligencia Artificial\",\"genero_fuente\":\"femenino\",\"colectivos\":[],\"verbo\":\"indicó\"},{\"cita_textual\":\"Internet es un instrumento para la igualdad, que permite suprimir barreras en la formación y la conciliación\",\"fuente\":\"Isabel Tocino, exministra, vicepresidenta del Santander y consejera de Ence y Enagás\",\"genero_fuente\":\"femenino\",\"colectivos\":[],\"verbo\":\"argumento\"},{\"cita_textual\":\"el liderazgo no tiene género\",\"fuente\":\"Vanessa Prats, directora general de Procter & Gamble España\",\"genero_fuente\":\"femenino\",\"colectivos\":[],\"verbo\":\"indicó\"},{\"cita_textual\":\"Estamos enseñando mal las ciencias, la separación entre ciencias y letras es artificial, el mundo es transversal, en el futuro se van a pedir más habilidades y menos conocimientos\",\"fuente\":\"Carme Artigas, secretaria de Estado de Digitalización e Inteligencia Artificial\",\"genero_fuente\":\"femenino\",\"colectivos\":[],\"verbo\":\"señaló\"},{\"cita_textual\":\"el problema viene cuando el entorno lo gestiona mal\",\"fuente\":\"Teresa Fernández-Valdés, fundadora y máxima responsable de Bambú Producciones\",\"genero_fuente\":\"femenino\",\"colectivos\":[],\"verbo\":\"aseguró\"},{\"cita_textual\":\"He disfrutado de mis mellizas y de mi trabajo. Se puede hacer\",\"fuente\":\"Teresa Fernández-Valdés, fundadora y máxima responsable de Bambú Producciones\",\"genero_fuente\":\"femenino\",\"colectivos\":[],\"verbo\":\"agregó\"},{\"cita_textual\":\"En mi compañía, en la que el 95% de los empleados son mujeres, los embarazos forman parte de su historia. Pero no son un problema, pues hay nueve meses por delante para preverlos\",\"fuente\":\"Rosa Clará, diseñadora y empresaria\",\"genero_fuente\":\"femenino\",\"colectivos\":[],\"verbo\":\"se mostró de acuerdo\"},{\"cita_textual\":\"Que los hombres se cojan el permiso de paternidad debe ser obligatorio. De esta forma, tendrán la misma limitación que las mujeres a la hora de ser contratados por una empresa\",\"fuente\":\"Isabel Tocino, exministra, vicepresidenta del Santander y consejera de Ence y Enagás\",\"genero_fuente\":\"femenino\",\"colectivos\":[],\"verbo\":\"insistió\"},{\"cita_textual\":\"El permiso de paternidad hace que para una compañía no sea más caro tener a una mujer que a un hombre\",\"fuente\":\"Carme Artigas, secretaria de Estado de Digitalización e Inteligencia Artificial\",\"genero_fuente\":\"femenino\",\"colectivos\":[],\"verbo\":\"se pronunció\"},{\"cita_textual\":\"Es importante que desde el inicio el hombre se responsabilice por igual del bebé\",\"fuente\":\"Teresa Fernández-Valdés, fundadora y máxima responsable de Bambú Producciones\",\"genero_fuente\":\"femenino\",\"colectivos\":[],\"verbo\":\"indicó\"},{\"cita_textual\":\"los dos miembros de la pareja deben entender que es el niño el que llega a la familia y es él el que debe acomodarse al engranaje\",\"fuente\":\"Isabel Tocino, exministra, vicepresidenta del Santander y consejera de Ence y Enagás\",\"genero_fuente\":\"femenino\",\"colectivos\":[],\"verbo\":\"añadió\"},{\"cita_textual\":\"Los hombres nos tienen miedo\",\"fuente\":\"Isabel Tocino, exministra, vicepresidenta del Santander y consejera de Ence y Enagás\",\"genero_fuente\":\"femenino\",\"colectivos\":[],\"verbo\":\"introdujo\"},{\"cita_textual\":\"las mujeres tenemos mayor capacidad de transformación y cambio, algo imprescindible en estos momentos\",\"fuente\":\"Carme Artigas, secretaria de Estado de Digitalización e Inteligencia Artificial\",\"genero_fuente\":\"femenino\",\"colectivos\":[],\"verbo\":\"dijo\"},{\"cita_textual\":\"no se contrata a hombres o mujeres, sino a personas válidas. Yo ni me lo planteo\",\"fuente\":\"Rosa Clará, diseñadora y empresaria\",\"genero_fuente\":\"femenino\",\"colectivos\":[],\"verbo\":\"intervino\"},{\"cita_textual\":\"Nadie nos va a frenar, nos toca pasar del ruido al impacto\",\"fuente\":\"Carme Artigas, secretaria de Estado de Digitalización e Inteligencia Artificial\",\"genero_fuente\":\"femenino\",\"colectivos\":[],\"verbo\":\"refrendó\"},{\"cita_textual\":\"en Mary Kay eres tu propia jefa, manejas tus horarios y eres libre de llegar donde quieras\",\"fuente\":\"Gema Aznar, directora general de Mary Kay y vicepresidenta de la Asociación de venta directa en España\",\"genero_fuente\":\"femenino\",\"colectivos\":[],\"verbo\":\"declaró\"},{\"cita_textual\":\"no se compite, sino que se colabora, y eso es lo que buscamos en los directivos, porque hay que acelerar y comprometerse forma activa en la promoción femenina\",\"fuente\":\"Vicente Cancio, CEO de Zurich Seguros\",\"genero_fuente\":\"masculino\",\"colectivos\":[],\"verbo\":\"aclaró\"},{\"cita_textual\":\"fundamental creer en uno mismo, porque en general en España la autoestima es muy baja. Por tanto, las empresas deben apoyar y acompañar a sus empleados\",\"fuente\":\"Gema Aznar, directora general de Mary Kay y vicepresidenta de la Asociación de venta directa en España\",\"genero_fuente\":\"femenino\",\"colectivos\":[],\"verbo\":\"añadió\"},{\"cita_textual\":\"la autoconfianza se trabaja y que es necesario tener un nivel sano de ambición, para lo cual es importante... la comunicación, la colaboración y tener una red de contactos que te apoye\",\"fuente\":\"Vicente Cancio, CEO de Zurich Seguros\",\"genero_fuente\":\"masculino\",\"colectivos\":[],\"verbo\":\"se mostró de acuerdo\"},{\"cita_textual\":\"la ambición es un motor muy positivo y sano si se compite con uno mismo\",\"fuente\":\"Gema Aznar, directora general de Mary Kay y vicepresidenta de la Asociación de venta directa en España\",\"genero_fuente\":\"femenino\",\"colectivos\":[],\"verbo\":\"declaró\"},{\"cita_textual\":\"En Zurich Seguros está mal visto convocar una reunión más tarde de las 18.30\",\"fuente\":\"Vicente Cancio, CEO de Zurich Seguros\",\"genero_fuente\":\"masculino\",\"colectivos\":[],\"verbo\":\"dijo\"},{\"cita_textual\":\"la jornada concluye normalmente sobre las 17.30\",\"fuente\":\"Gema Aznar, directora general de Mary Kay y vicepresidenta de la Asociación de venta directa en España\",\"genero_fuente\":\"femenino\",\"colectivos\":[],\"verbo\":\"comentó\"}],\"num_quotes\":42}\n"
     ]
    },
    {
     "name": "stderr",
     "output_type": "stream",
     "text": [
      "Procesando predicciones:  29%|██▉       | 29/100 [04:58<14:04, 11.89s/it]"
     ]
    },
    {
     "name": "stdout",
     "output_type": "stream",
     "text": [
      "{\"quotes\":[{\"cita_textual\":\"superado por el estrés y las dudas\",\"fuente\":\"Dana Simmons\",\"genero_fuente\":\"femenino\",\"colectivos\":[\"sus hijos\"] ,\"verbo\":\"según\"},{\"cita_textual\":\"Pasó de suspenso a sobresaliente sin aprender nada\",\"fuente\":\"Dana Simmons\",\"genero_fuente\":\"femenino\",\"colectivos\":[\"estudiantes\"] ,\"verbo\":\"ha asegurado\"},{\"cita_textual\":\"Edgenuity no utiliza algoritmos para sustituir la evaluación de los profesores, sino solo para asistirlos con las notas\",\"fuente\":\"empresa desarrolladora de la tecnología de evaluación\",\"genero_fuente\":\"desconocido\",\"colectivos\":[\"profesores\"] ,\"verbo\":\"ha argumentado\"}],\"num_quotes\":3}\n"
     ]
    },
    {
     "name": "stderr",
     "output_type": "stream",
     "text": [
      "Procesando predicciones:  30%|███       | 30/100 [05:03<11:41, 10.02s/it]"
     ]
    },
    {
     "name": "stdout",
     "output_type": "stream",
     "text": [
      "{\"quotes\":[{\"cita_textual\":\"\\\"Empezamos a predecir determinados efectos adversos utilizando técnicas de Machine Learning e incluyendo este tipo de predicciones dentro de la operativa y práctica asistencial del día a día\\\"\",\"fuente\":\"Mireia Ladios\",\"genero_fuente\":\"femenino\",\"colectivos\":[\"pacientes\",\"profesionales sanitarios\"],\"verbo\":\"explica\"},{\"cita_textual\":\"\\\"Buscábamos que, a pie de cama, con una Tablet, la enfermera que estaba viendo al paciente y que podía tomar las medidas en ese momento, se aprovechase de esa predicción y pudiera actuar en consecuencia\\\"\",\"fuente\":\"Mireia Ladios\",\"genero_fuente\":\"femenino\",\"colectivos\":[\"enfermeras\",\"pacientes\"],\"verbo\":\"explica\"},{\"cita_textual\":\"\\\"La detección temprana del empeoramiento clínico supone un elemento diferenciador de calidad, en un entorno de alta exigencia como la actual pandemia del Coronavirus\\\"\",\"fuente\":\"Mireia Ladios\",\"genero_fuente\":\"femenino\",\"colectivos\":[\"pacientes\",\"personal sanitario\"],\"verbo\":\"afirma\"},{\"cita_textual\":\"\\\"El exhaustivo control, recogida y análisis de datos de los pacientes es la base para la creación de este modelo predictivo, que permite generar alertas sobre la evolución del paciente, brindando al personal sanitario la información que necesitan para revisar y ajustar el plan terapéutico antes de que el paciente empeore más.\\\"\",\"fuente\":\"Mireia Ladios\",\"genero_fuente\":\"femenino\",\"colectivos\":[\"pacientes\",\"personal sanitario\"],\"verbo\":\"afirma\"}],\"num_quotes\":4}\n"
     ]
    },
    {
     "name": "stderr",
     "output_type": "stream",
     "text": [
      "Procesando predicciones:  31%|███       | 31/100 [05:08<09:36,  8.36s/it]"
     ]
    },
    {
     "name": "stdout",
     "output_type": "stream",
     "text": [
      "{\"quotes\":[{\"cita_textual\":\"Los hombres no siempre entienden nuestro estilo de dirección\",\"fuente\":\"Fuencisla Clemares\",\"genero_fuente\":\"femenino\",\"colectivos\":[],\"verbo\":\"dijo\"},{\"cita_textual\":\"me he convertido en una experta en hacer origamis y pulseras\",\"fuente\":\"Fuencisla Clemares\",\"genero_fuente\":\"femenino\",\"colectivos\":[],\"verbo\":\"dijo\"},{\"cita_textual\":\"la mujer debe tener su espacio en el mundo tecnológico\",\"fuente\":\"Fuencisla Clemares\",\"genero_fuente\":\"femenino\",\"colectivos\":[\"mujeres\",\"niñas\"],\"verbo\":\"dijo\"},{\"cita_textual\":\"Es clave la diversidad en este sector porque es el que está liderando el presente y el futuro de la innovación\",\"fuente\":\"Fuencisla Clemares\",\"genero_fuente\":\"femenino\",\"colectivos\":[],\"verbo\":\"dijo\"},{\"cita_textual\":\"debemos asegurarnos, entre todos, que sea inclusivo, justo, sostenible y que la transformación digital reporte beneficios sociales y económicos para todos\",\"fuente\":\"Fuencisla Clemares\",\"genero_fuente\":\"femenino\",\"colectivos\":[],\"verbo\":\"dijo\"}],\"num_quotes\":5}\n"
     ]
    },
    {
     "name": "stderr",
     "output_type": "stream",
     "text": [
      "Procesando predicciones:  32%|███▏      | 32/100 [05:13<08:25,  7.43s/it]"
     ]
    },
    {
     "name": "stdout",
     "output_type": "stream",
     "text": [
      "{\"quotes\":[{\"cita_textual\":\"La inteligencia artificial está jugando un papel muy importante desde tres puntos de vista: para ayudar en el diseño de una vacuna y un tratamiento eficaz; en la toma de decisiones médicas como asistir en la interpretación de radiografias de tórax o predecir la evolución de pacientes a partir de síntomas e historial clínico, y para apoyar en la toma de decisiones públicas.\",\"fuente\":\"Ingeniera de telecomunicaciones\",\"genero_fuente\":\"femenino\",\"colectivos\":[],\"verbo\":\"está jugando\"},{\"cita_textual\":\"Es una herramienta clave para mejorar la calidad de vida.\",\"fuente\":\"Ingeniera de telecomunicaciones\",\"genero_fuente\":\"femenino\",\"colectivos\":[],\"verbo\":\"Es\"},{\"cita_textual\":\"Como cualquier herramienta, puede ser buena o mala dependiendo de cómo la uses.\",\"fuente\":\"Ingeniera de telecomunicaciones\",\"genero_fuente\":\"femenino\",\"colectivos\":[],\"verbo\":\"puede ser\"},{\"cita_textual\":\"A lo que deberíamos aspirar es a conseguir un mayor progreso, es decir, una mejora de la calidad de vida de todas las personas, del resto de los seres vivios y del planeta.\",\"fuente\":\"Ingeniera de telecomunicaciones\",\"genero_fuente\":\"femenino\",\"colectivos\":[\"todas las personas\",\"seres vivios\",\"planeta\"],\"verbo\":\"deberíamos aspirar\"},{\"cita_textual\":\"No, se incluye en el contexto europeo, que está respondiendo e intentando acelerar.\",\"fuente\":\"Ingeniera de telecomunicaciones\",\"genero_fuente\":\"femenino\",\"colectivos\":[],\"verbo\":\"se incluye\"},{\"cita_textual\":\"Hay que mirar la tecnología como algo que nos puede complementar y hacer cosas mejor que nosotros, sabiendo que nosotros hacemos otras mucho mejor.\",\"fuente\":\"Ingeniera de telecomunicaciones\",\"genero_fuente\":\"femenino\",\"colectivos\":[],\"verbo\":\"Hay que mirar\"}],\"num_quotes\":6}\n"
     ]
    },
    {
     "name": "stderr",
     "output_type": "stream",
     "text": [
      "Procesando predicciones:  33%|███▎      | 33/100 [05:15<06:31,  5.84s/it]"
     ]
    },
    {
     "name": "stdout",
     "output_type": "stream",
     "text": [
      "{\"quotes\":[{\"cita_textual\":\"\\\"No nos podremos volver a besar y abrazar hasta que haya una vacuna\\\"\",\"fuente\":\"Nuria Oliver\",\"genero_fuente\":\"femenino\",\"colectivos\":[\"ciudadanía\"] ,\"verbo\":\"declara\"},{\"cita_textual\":\"\\\"Hay que mantener un cierto distanciamiento hasta que se encuentre una vacuna, y por tanto haya un porcentaje muy elevado de la población inmunizado.\\\"\",\"fuente\":\"Nuria Oliver\",\"genero_fuente\":\"femenino\",\"colectivos\":[\"población\"] ,\"verbo\":\"afirma\"}],\"num_quotes\":2}\n"
     ]
    },
    {
     "name": "stderr",
     "output_type": "stream",
     "text": [
      "Procesando predicciones:  34%|███▍      | 34/100 [05:22<06:33,  5.96s/it]"
     ]
    },
    {
     "name": "stdout",
     "output_type": "stream",
     "text": [
      "{\"quotes\":[{\"cita_textual\":\"\\\"Ser madre en estos tiempos es un acto de optimismo ciego\\\"\",\"fuente\":\"Jia Tolentino\",\"genero_fuente\":\"desconocido\",\"colectivos\":[],\"verbo\":\"dijo\"},{\"cita_textual\":\"\\\"Vivimos un bombardeo de tristeza\\\"\",\"fuente\":\"Eva Amaral\",\"genero_fuente\":\"femenino\",\"colectivos\":[],\"verbo\":\"dijo\"},{\"cita_textual\":\"\\\"Que quede claro: los algoritmos son programados por humanos.\\\"\",\"fuente\":\"Inma Martínez\",\"genero_fuente\":\"femenino\",\"colectivos\":[],\"verbo\":\"dijo\"},{\"cita_textual\":\"\\\"Si hubiera que confiar en quién está mejor equipado para determinar este tipo de decisiones, sin duda, un sistema de IA tendría capacidades muy superiores a las de un ser humano para calibrar decenas de variables a considerar.\\\"\",\"fuente\":\"Inma Martínez\",\"genero_fuente\":\"femenino\",\"colectivos\":[],\"verbo\":\"afirmó\"},{\"cita_textual\":\"\\\"Una máquina a veces tiene mejor disponibilidad para la ética que un humano cuyas facultades de cálculo le impiden considerar miles de otras variables que ayudarían a elaborar una estrategia adecuada.\\\"\",\"fuente\":\"Inma Martínez\",\"genero_fuente\":\"femenino\",\"colectivos\":[],\"verbo\":\"explicó\"},{\"cita_textual\":\"\\\"El Gobierno asume que la población que se ha reincorporado a esos trabajos está exenta del virus porque ha pasado 15 días en sus casas, pero es contraproducente dejar que la población de cualquier edad se incorpore al trabajo sabiendo que en el 90% de los casos los pacientes mayores de 60 años tienen más posibilidades de complicaciones y defunción.\\\"\",\"fuente\":\"Inma Martínez\",\"genero_fuente\":\"femenino\",\"colectivos\":[],\"verbo\":\"afirmó\"},{\"cita_textual\":\"\\\"El problema de desarrollar una app que establezca la proximidad de individuos es que se presta a que los gobiernos se salten muchas de las cláusulas protectoras de los datos personales.\\\"\",\"fuente\":\"Inma Martínez\",\"genero_fuente\":\"femenino\",\"colectivos\":[],\"verbo\":\"advirtió\"},{\"cita_textual\":\"\\\"Sí, aunque nos quieran convencer de lo contrario. Pero estamos luchando para que muchas empresas ya comiencen a dar marcha atrás.\\\"\",\"fuente\":\"Inma Martínez\",\"genero_fuente\":\"femenino\",\"colectivos\":[],\"verbo\":\"respondió\"}],\"num_quotes\":8}\n"
     ]
    },
    {
     "name": "stderr",
     "output_type": "stream",
     "text": [
      "Procesando predicciones:  35%|███▌      | 35/100 [05:28<06:43,  6.22s/it]"
     ]
    },
    {
     "name": "stdout",
     "output_type": "stream",
     "text": [
      "{\"quotes\":[{\"cita_textual\":\"«casi ni se oía hablar»\",\"fuente\":\"Teresa de Pedro\",\"genero_fuente\":\"femenino\",\"colectivos\":[\"científicos\"] ,\"verbo\":\"recuerda\"},{\"cita_textual\":\"«La tecnología cambia mucho y yo ya soy muy mayor»\",\"fuente\":\"Teresa de Pedro\",\"genero_fuente\":\"femenino\",\"colectivos\":[\"investigadores\"],\"verbo\":\"bromea\"},{\"cita_textual\":\"«Era mucho más caro que un buen Mercedes»\",\"fuente\":\"Teresa de Pedro\",\"genero_fuente\":\"femenino\",\"colectivos\":[\"grupo científico\"],\"verbo\":\"ejemplifica\"},{\"cita_textual\":\"«Se le ocurrió, sobre todo, a mi primer marido, Ricardo García Rosa»\",\"fuente\":\"Teresa de Pedro\",\"genero_fuente\":\"femenino\",\"colectivos\":[],\"verbo\":\"detalla\"},{\"cita_textual\":\"«La primera vez que lo llevamos al director, nos dijo: '¡Qué barbaridad!, ¡estáis locos!'... »\",\"fuente\":\"Teresa de Pedro\",\"genero_fuente\":\"femenino\",\"colectivos\":[\"grupo científico\"],\"verbo\":\"recuerda\"},{\"cita_textual\":\"«Hicimos experimentos muy interesantes con los tres coches en la pista»\",\"fuente\":\"Teresa de Pedro\",\"genero_fuente\":\"femenino\",\"colectivos\":[\"grupo de investigación\"],\"verbo\":\"relata\"},{\"cita_textual\":\"«El ordenador que iba dentro del coche estaba conectado a los actuadores del freno, del acelerador y del volante»\",\"fuente\":\"Teresa de Pedro\",\"genero_fuente\":\"femenino\",\"colectivos\":[],\"verbo\":\"explica\"},{\"cita_textual\":\"«Ser consciente de las capacidades de las mujeres y ponerlas en valor, hacérselas notar a las personas que no piensan en ellas. Ojo, que no son sólo hombres, también hay mujeres. No me considero una feminista rabiosa, a no ser que me pinchen... »\",\"fuente\":\"Teresa de Pedro\",\"genero_fuente\":\"femenino\",\"colectivos\":[],\"verbo\":\"define\"},{\"cita_textual\":\"'Oh, you are the lady boss' ('Es usted la mujer jefa')... ¡Porque era la única!\",\"fuente\":\"Teresa de Pedro\",\"genero_fuente\":\"femenino\",\"colectivos\":[],\"verbo\":\"recuerda\"},{\"cita_textual\":\"«No. A lo mejor un poco, sí. Pero no mucho»\",\"fuente\":\"Teresa de Pedro\",\"genero_fuente\":\"femenino\",\"colectivos\":[],\"verbo\":\"responde\"}],\"num_quotes\":10}\n"
     ]
    },
    {
     "name": "stderr",
     "output_type": "stream",
     "text": [
      "Procesando predicciones:  36%|███▌      | 36/100 [05:38<07:38,  7.16s/it]"
     ]
    },
    {
     "name": "stdout",
     "output_type": "stream",
     "text": [
      "{\"quotes\":[{\"cita_textual\":\"De cosas personales prefiero no hablar, eso no se les pregunta a los hombres\",\"fuente\":\"Nadia Calviño\",\"genero_fuente\":\"femenino\",\"colectivos\":[\"hombres\"] ,\"verbo\":\"dice\"},{\"cita_textual\":\"En mi experiencia, lo interesante del poder es la capacidad de cambiar las cosas, de llevar a cabo acciones o tomar decisiones que puedan mejorar la realidad. Contribuir a un futuro mejor para nuestros hijos.\",\"fuente\":\"Nadia Calviño\",\"genero_fuente\":\"femenino\",\"colectivos\":[\"nuestros hijos\"],\"verbo\":\"explica\"},{\"cita_textual\":\"¡Qué orgullo! Me alegra contribuir a generar referentes femeninos, creo que es una de las mejores formas de avanzar en igualdad.\",\"fuente\":\"Nadia Calviño\",\"genero_fuente\":\"femenino\",\"colectivos\":[\"referentes femeninos\"],\"verbo\":\"comenta\"},{\"cita_textual\":\"La igualdad es cosa de todos. Por eso digo que la responsabilidad es del conjunto de la sociedad, que hemos de cambiar los mensajes, implícitos o explícitos, prejuicios y barreras invisibles que llevan a esta brecha de autoestima y seguridad que muestran las estadísticas y estudios.\",\"fuente\":\"Nadia Calviño\",\"genero_fuente\":\"femenino\",\"colectivos\":[\"sociedad\"],\"verbo\":\"dice\"},{\"cita_textual\":\"Que queda mucho por hacer. Hemos avanzado mucho, nuestro país es de los más igualitarios y pioneros en innumerables ámbitos, pero todavía tenemos una brecha de género clara.\",\"fuente\":\"Nadia Calviño\",\"genero_fuente\":\"femenino\",\"colectivos\":[\"mujeres\"],\"verbo\":\"afirma\"},{\"cita_textual\":\"Si seguimos al ritmo actual, la igualdad se lograría dentro de cien años. No podemos permitírnoslo y por eso es importante actuar con decisión ahora.\",\"fuente\":\"Nadia Calviño\",\"genero_fuente\":\"femenino\",\"colectivos\":[\"mujeres\"],\"verbo\":\"indica\"},{\"cita_textual\":\"La igualdad de género no es únicamente una causa de justicia o ética, también nos interesa desde el punto de vista económico para aumentar nuestro crecimiento futuro. ¡No podemos permitirnos desperdiciar el talento del 50% de la población!\",\"fuente\":\"Nadia Calviño\",\"genero_fuente\":\"femenino\",\"colectivos\":[\"población\"],\"verbo\":\"afirma\"},{\"cita_textual\":\"Es preciso llegar a un porcentaje significativo para que la diversidad se normalice y la dinámica cambie.\",\"fuente\":\"Nadia Calviño\",\"genero_fuente\":\"femenino\",\"colectivos\":[],\"verbo\":\"advierte\"},{\"cita_textual\":\"Evidentemente la empatía, la capacidad de entender los puntos de vista del otro, son cualidades que enriquecen las discusiones y las decisiones.\",\"fuente\":\"Nadia Calviño\",\"genero_fuente\":\"femenino\",\"colectivos\":[],\"verbo\":\"explica\"},{\"cita_textual\":\"Durante siglos se ha silenciado la voz de las mujeres. Pero si queremos de verdad crear un entorno distinto, tan importante es animar a hablar como a escuchar. Con respeto. Y luchar contra estereotipos como el que usted señala.\",\"fuente\":\"Nadia Calviño\",\"genero_fuente\":\"femenino\",\"colectivos\":[\"mujeres\"],\"verbo\":\"comenta\"}],\"num_quotes\":10}\n"
     ]
    },
    {
     "name": "stderr",
     "output_type": "stream",
     "text": [
      "Procesando predicciones:  37%|███▋      | 37/100 [05:48<08:35,  8.18s/it]"
     ]
    },
    {
     "name": "stdout",
     "output_type": "stream",
     "text": [
      "{\"quotes\":[{\"cita_textual\":\"Nunca fue mi ambición firmar con una discográfica particular\",\"fuente\":\"Agnes Obel\",\"genero_fuente\":\"femenino\",\"colectivos\":[],\"verbo\":\"explica\"},{\"cita_textual\":\"Pero me parece guay que estén reclutando a músicos que están fuera del catálogo clásico. No soy la única, y es algo genial\",\"fuente\":\"Agnes Obel\",\"genero_fuente\":\"femenino\",\"colectivos\":[],\"verbo\":\"explica\"},{\"cita_textual\":\"Como una forma de simplificación, a la gente le interesan cosas que vienen de menos músicos\",\"fuente\":\"Agnes Obel\",\"genero_fuente\":\"femenino\",\"colectivos\":[],\"verbo\":\"explica\"},{\"cita_textual\":\"Quiero música que sea más idiosincrática, en la que se pueda sentir al ser humano que hay detrás. Quiero escuchar quién es y cómo ve el mundo\",\"fuente\":\"Agnes Obel\",\"genero_fuente\":\"femenino\",\"colectivos\":[],\"verbo\":\"plantea\"},{\"cita_textual\":\"A veces tengo la sensación de que no puedo confiar en mi propia cabeza; por ejemplo, si tengo un mal día. Porque todo lo percibiré de forma negativa y tendré que desecharlo todo\",\"fuente\":\"Agnes Obel\",\"genero_fuente\":\"femenino\",\"colectivos\":[],\"verbo\":\"explica\"},{\"cita_textual\":\"Por otra parte, si mi día es bueno, todo me parecerá bien. Sé que es una visión de todo blanco o negro, pero siento como si mi mente no fuese un lienzo neutral para la experiencia. Por eso quería adentrarme en esta situación de desconfianza hacia uno mismo\",\"fuente\":\"Agnes Obel\",\"genero_fuente\":\"femenino\",\"colectivos\":[],\"verbo\":\"explica\"},{\"cita_textual\":\"Estamos sobreestimulados. Hay demasiadas cosas sucediendo y, a menudo, me siento abrumada\",\"fuente\":\"Agnes Obel\",\"genero_fuente\":\"femenino\",\"colectivos\":[],\"verbo\":\"lamenta\"},{\"cita_textual\":\"Creo que es algo que va más allá de la edad y puedo ver a adolescentes agobiados con el mundo porque no pueden con ello\",\"fuente\":\"Agnes Obel\",\"genero_fuente\":\"femenino\",\"colectivos\":[],\"verbo\":\"cree\"},{\"cita_textual\":\"'Broken sleep' tiene que ver con mi miedo a quedarme dormida\",\"fuente\":\"Agnes Obel\",\"genero_fuente\":\"femenino\",\"colectivos\":[],\"verbo\":\"explica\"},{\"cita_textual\":\"Con el tiempo, he aprendido a superar el insomnio y este miedo, de tal forma que ya no sea peligroso\",\"fuente\":\"Agnes Obel\",\"genero_fuente\":\"femenino\",\"colectivos\":[],\"verbo\":\"explica\"},{\"cita_textual\":\"Para mí, toda categorización humana tiene que ver con el lenguaje y la cultura que te rodea\",\"fuente\":\"Agnes Obel\",\"genero_fuente\":\"femenino\",\"colectivos\":[],\"verbo\":\"sostiene\"},{\"cita_textual\":\"El lugar que ocupas en el mundo como mujer es distinto al del hombre, especialmente si eres artista\",\"fuente\":\"Agnes Obel\",\"genero_fuente\":\"femenino\",\"colectivos\":[],\"verbo\":\"plantea\"}],\"num_quotes\":12}\n"
     ]
    },
    {
     "name": "stderr",
     "output_type": "stream",
     "text": [
      "Procesando predicciones:  38%|███▊      | 38/100 [06:00<09:37,  9.31s/it]"
     ]
    },
    {
     "name": "stdout",
     "output_type": "stream",
     "text": [
      "{\"quotes\":[{\"cita_textual\":\"El androide creado por esta científica, premio Mujer y Tecnología de la Fundación Orange en 2018, se llama Teo y está concebido para prestar servicio a los seres humanos.\",\"fuente\":\"Concha Monje\",\"genero_fuente\":\"femenino\",\"colectivos\":[],\"verbo\":\"afirma\"},{\"cita_textual\":\"pasarán muchos, muchos años, hasta que estas máquinas tengan la inteligencia general y la empatía que caracterizan a las personas.\",\"fuente\":\"Concha Monje\",\"genero_fuente\":\"femenino\",\"colectivos\":[],\"verbo\":\"afirma\"},{\"cita_textual\":\"su trabajo se parece un poco a jugar a ser Dios, porque existe una obsesión por crear un Frankenstein a nuestra imagen y semejanza.\",\"fuente\":\"Concha Monje\",\"genero_fuente\":\"femenino\",\"colectivos\":[],\"verbo\":\"asume\"},{\"cita_textual\":\"en el que espero que las máquinas colaboren con los seres humanos y no los sustituyan.\",\"fuente\":\"Concha Monje\",\"genero_fuente\":\"femenino\",\"colectivos\":[],\"verbo\":\"espera\"},{\"cita_textual\":\"''varias generaciones'' hasta que podamos tener uno en casa que nos ayude con las tareas de limpieza, y todavía más tiempo hasta que tengamos un amigo robot.\",\"fuente\":\"Concha Monje\",\"genero_fuente\":\"femenino\",\"colectivos\":[],\"verbo\":\"alerta\"},{\"cita_textual\":\"Tiene una cierta inteligencia y autonomía.\",\"fuente\":\"Concha Monje\",\"genero_fuente\":\"femenino\",\"colectivos\":[],\"verbo\":\"dice\"},{\"cita_textual\":\"Quieras que no, al final dejas de cosificarlo y le das una cierta vida, le pones una personalidad.\",\"fuente\":\"Concha Monje\",\"genero_fuente\":\"femenino\",\"colectivos\":[],\"verbo\":\"comenta\"},{\"cita_textual\":\"Es lento, no funciona tan deprisa como los humanos y necesita tiempo para pensar, moverse y actuar.\",\"fuente\":\"Concha Monje\",\"genero_fuente\":\"femenino\",\"colectivos\":[],\"verbo\":\"describe\"},{\"cita_textual\":\"Será un compañero que te ayuda.\",\"fuente\":\"Concha Monje\",\"genero_fuente\":\"femenino\",\"colectivos\":[],\"verbo\":\"afirma\"},{\"cita_textual\":\"En una habitación de hospital podría atenderte: llamaría al médico en caso de urgencia, monitorizaría tus constantes vitales o te traería un vaso de agua.\",\"fuente\":\"Concha Monje\",\"genero_fuente\":\"femenino\",\"colectivos\":[],\"verbo\":\"especifica\"},{\"cita_textual\":\"Eso yo no lo voy a ver.\",\"fuente\":\"Concha Monje\",\"genero_fuente\":\"femenino\",\"colectivos\":[],\"verbo\":\"afirma\"},{\"cita_textual\":\"Para llegar a ese punto, el principal problema es que funcionan por inteligencia artificial y pueden ser muy buenos en una tarea específica, pero llevará mucho tiempo hasta que tengan algo parecido a la inteligencia humana.\",\"fuente\":\"Concha Monje\",\"genero_fuente\":\"femenino\",\"colectivos\":[],\"verbo\":\"explica\"},{\"cita_textual\":\"Mucha gente se va a quedar sin trabajo, ya está ocurriendo.\",\"fuente\":\"Concha Monje\",\"genero_fuente\":\"femenino\",\"colectivos\":[],\"verbo\":\"afirma\"},{\"cita_textual\":\"No lo digo yo, lo dicen las cifras.\",\"fuente\":\"Concha Monje\",\"genero_fuente\":\"femenino\",\"colectivos\":[],\"verbo\":\"comenta\"},{\"cita_textual\":\"Soy partidaria de defender el binomio humano-robot, según el cual el robot es mi compañero, me ayuda, no me sustituye.\",\"fuente\":\"Concha Monje\",\"genero_fuente\":\"femenino\",\"colectivos\":[],\"verbo\":\"declara\"},{\"cita_textual\":\"Hay barreras exteriores, pero también mentales.\",\"fuente\":\"Concha Monje\",\"genero_fuente\":\"femenino\",\"colectivos\":[],\"verbo\":\"señala\"},{\"cita_textual\":\"Nos han dicho siempre que estamos por debajo de los hombres, y si además te cuentan que las ciencias son muy difíciles, tú misma crees que no podrás hacerlo.\",\"fuente\":\"Concha Monje\",\"genero_fuente\":\"femenino\",\"colectivos\":[],\"verbo\":\"comenta\"},{\"cita_textual\":\"la ciencia te da herramientas para clarificar tu mente, resolver problemas y ser feliz, pero eso pocas veces se cuenta.\",\"fuente\":\"Concha Monje\",\"genero_fuente\":\"femenino\",\"colectivos\":[],\"verbo\":\"afirma\"}],\"num_quotes\":24}\n"
     ]
    },
    {
     "name": "stderr",
     "output_type": "stream",
     "text": [
      "Procesando predicciones:  39%|███▉      | 39/100 [06:08<09:05,  8.94s/it]"
     ]
    },
    {
     "name": "stdout",
     "output_type": "stream",
     "text": [
      "{\"quotes\":[{\"cita_textual\":\"Se están fabricando muñecas sexuales infantiles para pedófilos, lo que potencia los abusos\",\"fuente\":\"Lydia Delicado\",\"genero_fuente\":\"femenino\",\"colectivos\":[\"pedófilos\",\"menores\"],\"verbo\":\"alerta\"},{\"cita_textual\":\"¿Podemos articular una sociedad saludable comercializando muñecas sexuales infantiles?\",\"fuente\":\"Lydia Delicado\",\"genero_fuente\":\"femenino\",\"colectivos\":[],\"verbo\":\"pregunta\"},{\"cita_textual\":\"Los vídeos porno más consumidos relatan violaciones a chicas menores\",\"fuente\":\"Lydia Delicado\",\"genero_fuente\":\"femenino\",\"colectivos\":[\"menores\"],\"verbo\":\"explica\"},{\"cita_textual\":\"¿Es buena o mala?\",\"fuente\":\"Lydia Delicado\",\"genero_fuente\":\"femenino\",\"colectivos\":[],\"verbo\":\"interroga\"},{\"cita_textual\":\"Los padres y madres de hoy en día nos da la sensación de que los hijos y las hijas van muy por delante de nosotros en estos temas, ¿es cierto?, ¿cómo podemos informarnos respecto a lo que consumen de internet los menores?\",\"fuente\":\"Lydia Delicado\",\"genero_fuente\":\"femenino\",\"colectivos\":[\"padres\",\"madres\",\"menores\"],\"verbo\":\"pregunta\"},{\"cita_textual\":\"Como dice Amelia Tiganus, «los burdeles son campos de concentración para las mujeres»\",\"fuente\":\"Amelia Tiganus\",\"genero_fuente\":\"femenino\",\"colectivos\":[\"mujeres\"],\"verbo\":\"cita\"}],\"num_quotes\":6}\n"
     ]
    },
    {
     "name": "stderr",
     "output_type": "stream",
     "text": [
      "Procesando predicciones:  40%|████      | 40/100 [06:14<08:01,  8.03s/it]"
     ]
    },
    {
     "name": "stdout",
     "output_type": "stream",
     "text": [
      "{\"quotes\":[{\"cita_textual\":\"Para bien o para mal queremos las cosas aquí y ahora\",\"fuente\":\"Mariangela Marseglia\",\"genero_fuente\":\"femenino\",\"colectivos\":[],\"verbo\":\"dice\"},{\"cita_textual\":\"Es mi pasión. Siempre estuve convencida de que tenía que trabajar en este mundo.\",\"fuente\":\"Federica Tremolada\",\"genero_fuente\":\"femenino\",\"colectivos\":[],\"verbo\":\"afirma\"},{\"cita_textual\":\"Siempre he sido una omnívora musical.\",\"fuente\":\"Federica Tremolada\",\"genero_fuente\":\"femenino\",\"colectivos\":[],\"verbo\":\"comenta\"},{\"cita_textual\":\"Ya no hay consumidores online y offline, compran de ambas maneras, y por eso nuestra misión es ofrecer todas las opciones, para que lo hagan como prefieran.\",\"fuente\":\"Federica Tremolada\",\"genero_fuente\":\"femenino\",\"colectivos\":[],\"verbo\":\"explica\"},{\"cita_textual\":\"El entretenimiento es una necesidad humana. Antiguamente se cubría de manera ocasional, ahora es todo el tiempo-en todas partes.\",\"fuente\":\"Federica Tremolada\",\"genero_fuente\":\"femenino\",\"colectivos\":[],\"verbo\":\"declara\"},{\"cita_textual\":\"Cada país es único. El idioma es determinante, y en el caso del español, mucho.\",\"fuente\":\"Federica Tremolada\",\"genero_fuente\":\"femenino\",\"colectivos\":[],\"verbo\":\"asegura\"},{\"cita_textual\":\"Creo que estamos abusando un poco del concepto IA cuando hablamos de futuro, hay ya muchos sistemas que funcionan con ella.\",\"fuente\":\"Federica Tremolada\",\"genero_fuente\":\"femenino\",\"colectivos\":[],\"verbo\":\"opina\"}],\"num_quotes\":7}\n"
     ]
    },
    {
     "name": "stderr",
     "output_type": "stream",
     "text": [
      "Procesando predicciones:  41%|████      | 41/100 [06:39<12:49, 13.04s/it]"
     ]
    },
    {
     "name": "stdout",
     "output_type": "stream",
     "text": [
      "{\"quotes\":[{\"cita_textual\":\"Me he pasado toda la vida trabajando duro y preguntándome si alguien se daba cuenta de ello\",\"fuente\":\"Jennifer Lopez\",\"genero_fuente\":\"femenino\",\"colectivos\":[],\"verbo\":\"dijo\"},{\"cita_textual\":\"De una manera muy natural.\",\"fuente\":\"Miriam González\",\"genero_fuente\":\"femenino\",\"colectivos\":[],\"verbo\":\"afirmó\"},{\"cita_textual\":\"No, tiene que empezar por una exigencia social.\",\"fuente\":\"Miriam González\",\"genero_fuente\":\"femenino\",\"colectivos\":[],\"verbo\":\"dijo\"},{\"cita_textual\":\"Muchas. No hay que romperlo todo, de lo que hablo es de una puesta a punto con una revisión constitucional que habría que empezar a preparar ya a nivel técnico, se trata de adaptarla al final de la segunda década del siglo XXI.\",\"fuente\":\"Miriam González\",\"genero_fuente\":\"femenino\",\"colectivos\":[],\"verbo\":\"aseguró\"},{\"cita_textual\":\"Ser mucho más exigente con la clase política, porque la sociedad supera al sistema.\",\"fuente\":\"Miriam González\",\"genero_fuente\":\"femenino\",\"colectivos\":[],\"verbo\":\"declaró\"},{\"cita_textual\":\"Porque tienen demasiado poder, jerarquizado en estructuras piramidales, con lo cual brotan más fácilmente los personalismos.\",\"fuente\":\"Miriam González\",\"genero_fuente\":\"femenino\",\"colectivos\":[],\"verbo\":\"explicó\"},{\"cita_textual\":\"Funciona en el día a día porque esta es una sociedad muy trabajadora y seria, que se busca las oportunidades.\",\"fuente\":\"Miriam González\",\"genero_fuente\":\"femenino\",\"colectivos\":[],\"verbo\":\"comentó\"},{\"cita_textual\":\"Sucede en todos los periodos económicos de transición.\",\"fuente\":\"Miriam González\",\"genero_fuente\":\"femenino\",\"colectivos\":[],\"verbo\":\"indicó\"},{\"cita_textual\":\"En otros países, en el momento en que un político sale del poder, lo pierde, y es una situación natural.\",\"fuente\":\"Miriam González\",\"genero_fuente\":\"femenino\",\"colectivos\":[],\"verbo\":\"afirmó\"},{\"cita_textual\":\"No se nos reconoce todo lo que hemos contribuido durante los últimos años.\",\"fuente\":\"Miriam González\",\"genero_fuente\":\"femenino\",\"colectivos\":[],\"verbo\":\"comentó\"},{\"cita_textual\":\"Por la deuda y porque las mujeres se lanzaron al mercado de trabajo, nosotras hemos garantizado el estilo de vida y sin embargo no tenemos soluciones sociales que lo hagan posible: guarderías, horarios organizados...\",\"fuente\":\"Miriam González\",\"genero_fuente\":\"femenino\",\"colectivos\":[],\"verbo\":\"señaló\"},{\"cita_textual\":\"Estamos un poco cortos de ejemplos, pero hay gente muy valiente.\",\"fuente\":\"Miriam González\",\"genero_fuente\":\"femenino\",\"colectivos\":[],\"verbo\":\"expresó\"},{\"cita_textual\":\"Me preocupa mucho.\",\"fuente\":\"Miriam González\",\"genero_fuente\":\"femenino\",\"colectivos\":[],\"verbo\":\"recalcó\"},{\"cita_textual\":\"Más que un partido liberal, lo que me interesa que haya es una serie de reformas de carácter liberal que serían del agrado de todos los ciudadanos moderados.\",\"fuente\":\"Miriam González\",\"genero_fuente\":\"femenino\",\"colectivos\":[],\"verbo\":\"afirmó\"},{\"cita_textual\":\"Hemos tenido a mujeres en el cargo de vicepresidentas con muchísimo poder.\",\"fuente\":\"Miriam González\",\"genero_fuente\":\"femenino\",\"colectivos\":[],\"verbo\":\"señaló\"},{\"cita_textual\":\"Totalmente de acuerdo. No puedo estar más en contra de esta moda de que las mujeres somos más empáticas, mejores negociadoras..., unas sí y otras no.\",\"fuente\":\"Miriam González\",\"genero_fuente\":\"femenino\",\"colectivos\":[],\"verbo\":\"declaró\"},{\"cita_textual\":\"Con dificultad.\",\"fuente\":\"Miriam González\",\"genero_fuente\":\"femenino\",\"colectivos\":[],\"verbo\":\"confesó\"},{\"cita_textual\":\"Yo siempre digo que es la tierra del alpha male, porque los fundadores de las grandes empresas son casi todos hombres.\",\"fuente\":\"Miriam González\",\"genero_fuente\":\"femenino\",\"colectivos\":[],\"verbo\":\"afirmó\"},{\"cita_textual\":\"Como soy profundamente española, me tira esto.\",\"fuente\":\"Miriam González\",\"genero_fuente\":\"femenino\",\"colectivos\":[],\"verbo\":\"manifestó\"},{\"cita_textual\":\"No se ve.\",\"fuente\":\"Miriam González\",\"genero_fuente\":\"femenino\",\"colectivos\":[],\"verbo\":\"declaró\"},{\"cita_textual\":\"Jamás podré estar de acuerdo con una persona que habla de las mujeres en términos de que si eres un hombre poderoso puedes tocarles los genitales.\",\"fuente\":\"Miriam González\",\"genero_fuente\":\"femenino\",\"colectivos\":[],\"verbo\":\"indicó\"},{\"cita_textual\":\"El Brexit y desplazar a Gran Bretaña fuera de la esfera de influencia europea significará un daño mucho más permanente que el de Trump, porque este va a estar un año más o cinco como mucho.\",\"fuente\":\"Miriam González\",\"genero_fuente\":\"femenino\",\"colectivos\":[],\"verbo\":\"afirmó\"},{\"cita_textual\":\"Miles, este país ha dado un montón de lecciones viniendo de situaciones complicadísimas...\",\"fuente\":\"Miriam González\",\"genero_fuente\":\"femenino\",\"colectivos\":[],\"verbo\":\"mencionó\"},{\"cita_textual\":\"Espero que pasemos como unos luchadores.\",\"fuente\":\"Miriam González\",\"genero_fuente\":\"femenino\",\"colectivos\":[],\"verbo\":\"expresó\"},{\"cita_textual\":\"A muchísimas. Pero sobre todo a la del día a día, la dependienta que se levanta, hace tres horas en su casa de labores domésticas, va a su trabajo, vuelve, otras tres horas y encima sonríe.\",\"fuente\":\"Miriam González\",\"genero_fuente\":\"femenino\",\"colectivos\":[],\"verbo\":\"admitió\"}],\"num_quotes\":37}\n"
     ]
    },
    {
     "name": "stderr",
     "output_type": "stream",
     "text": [
      "Procesando predicciones:  42%|████▏     | 42/100 [06:43<09:57, 10.30s/it]"
     ]
    },
    {
     "name": "stdout",
     "output_type": "stream",
     "text": [
      "{\"quotes\":[{\"cita_textual\":\"\\\"China quiere ser la primera potencia del mundo gracias a la Inteligencia Artificial\\\"\",\"fuente\":\"Nuria Oliver\",\"genero_fuente\":\"femenino\",\"colectivos\":[],\"verbo\":\"expresó\"},{\"cita_textual\":\"\\\"Es muy difícil poder hacer IA hoy en día sin datos\\\"\",\"fuente\":\"Núria Oliver\",\"genero_fuente\":\"femenino\",\"colectivos\":[],\"verbo\":\"ha explicado\"},{\"cita_textual\":\"\\\"solo\\\" hacía una \\\"inferencia sobre cuántas personas hay en cada cuadradito de 5.000 personas --en el que se había dividido España--\\\"\",\"fuente\":\"Núria Oliver\",\"genero_fuente\":\"femenino\",\"colectivos\":[],\"verbo\":\"ha precisado\"},{\"cita_textual\":\"\\\"El marco legal es fundamental\\\"\",\"fuente\":\"Núria Oliver\",\"genero_fuente\":\"femenino\",\"colectivos\":[],\"verbo\":\"ha sostenido\"},{\"cita_textual\":\"\\\"dé un marco legal potente, más allá de las coyunturas, para potenciar la IA y la sociedad digital\\\"\",\"fuente\":\"Ximo Puig\",\"genero_fuente\":\"masculino\",\"colectivos\":[],\"verbo\":\"anunció\"},{\"cita_textual\":\"\\\"una ley valenciana, un marco que propicie la capitalización en todo el tejido económico y social\\\"\",\"fuente\":\"Ximo Puig\",\"genero_fuente\":\"masculino\",\"colectivos\":[],\"verbo\":\"ha continuado\"}],\"num_quotes\":6}\n"
     ]
    },
    {
     "name": "stderr",
     "output_type": "stream",
     "text": [
      "Procesando predicciones:  43%|████▎     | 43/100 [06:58<11:07, 11.71s/it]"
     ]
    },
    {
     "name": "stdout",
     "output_type": "stream",
     "text": [
      "{\"quotes\":[{\"cita_textual\":\"La confianza ha de ser la piedra angular de las sociedades\",\"fuente\":\"Adela Cortina\",\"genero_fuente\":\"femenino\",\"colectivos\":[],\"verbo\":\"ha defendido\"},{\"cita_textual\":\"Es necesario crear un entorno de confianza para el desarrollo de la digitalización, un proceso que debe ser justo e inclusivo socialmente\",\"fuente\":\"Adela Cortina\",\"genero_fuente\":\"femenino\",\"colectivos\":[],\"verbo\":\"ha defendido\"},{\"cita_textual\":\"muy valiosas\",\"fuente\":\"Adela Cortina\",\"genero_fuente\":\"femenino\",\"colectivos\":[\"nuevas tecnologías\"],\"verbo\":\"sostiene\"},{\"cita_textual\":\"transparente porque la tecnología debe buscar el bien común, promover un mundo inclusivo, no perjudicar a nadie, permitir la autonomía de las personas y la justicia\",\"fuente\":\"Adela Cortina\",\"genero_fuente\":\"femenino\",\"colectivos\":[\"tecnología\"],\"verbo\":\"sostiene\"},{\"cita_textual\":\"la tecnología debe ser explicada a las personas que les afectan, para evitar que se tomen decisiones sobre algoritmos opacos y con sesgos\",\"fuente\":\"Adela Cortina\",\"genero_fuente\":\"femenino\",\"colectivos\":[\"personas\"],\"verbo\":\"subraya\"},{\"cita_textual\":\"formar a la población para romper la brecha digital\",\"fuente\":\"Adela Cortina\",\"genero_fuente\":\"femenino\",\"colectivos\":[\"población\"],\"verbo\":\"destaca\"},{\"cita_textual\":\"la empresa tiene una responsabilidad transversal\",\"fuente\":\"Adela Cortina\",\"genero_fuente\":\"femenino\",\"colectivos\":[\"empresa\"],\"verbo\":\"recuerda\"},{\"cita_textual\":\"La ética supone que la empresa asume sus compromisos desde dentro y reforma su visión de negocio desde dentro\",\"fuente\":\"Adela Cortina\",\"genero_fuente\":\"femenino\",\"colectivos\":[],\"verbo\":\"ha comentado\"},{\"cita_textual\":\"las empresas que actúan con comportamientos éticos son más competitivas y rentables\",\"fuente\":\"Adela Cortina\",\"genero_fuente\":\"femenino\",\"colectivos\":[\"empresas\"],\"verbo\":\"sostiene\"},{\"cita_textual\":\"es necesario adoptar formas de liderazgo diferentes, potenciar la empleabilidad para puestos de trabajo que no se cubren por falta de personas preparadas, tomar medidas para paliar el inevitable desempleo, proteger la privacidad y la intimidad frente al manejo opaco de los big data por parte de potentes plataformas, exigir información sobre la trazabilidad de los algoritmos que deciden sobre nuestras vidas\",\"fuente\":\"Adela Cortina\",\"genero_fuente\":\"femenino\",\"colectivos\":[],\"verbo\":\"sostiene\"},{\"cita_textual\":\"si es verdad que vamos a vivir mucho más de 100 años, incluso -según dicen algunos- ser inmortales, si podremos producir una nueva especie posthumana a través de la biología sintética y los implantes, inculcar valores a las máquinas para que tomen decisiones de forma autónoma y responsable, considerar a los robots como personas y ciudadanos, hacerles pagar impuestos, incluirlos en los consejos de administración de las grandes empresas\",\"fuente\":\"Adela Cortina\",\"genero_fuente\":\"femenino\",\"colectivos\":[],\"verbo\":\"se pregunta\"},{\"cita_textual\":\"una vez más, este seminario va a permitir debatir en torno a un tema sobre el que la sociedad necesita lúcidas reflexiones de personas del máximo prestigio como las que siempre incorpora Fundación Étnor al ciclo\",\"fuente\":\"Rafael Alcón\",\"genero_fuente\":\"masculino\",\"colectivos\":[\"sociedad\",\"personas del máximo prestigio\"],\"verbo\":\"ha afirmado\"},{\"cita_textual\":\"la rápida innovación en el campo de la inteligencia artificial plantea grandes retos sociales y económicos, y este seminario nos aportará análisis diversos y plurales que, sin duda, pueden darnos muchas claves sobre cómo integrar esos avances de forma beneficiosa para toda la sociedad\",\"fuente\":\"Rafael Alcón\",\"genero_fuente\":\"masculino\",\"colectivos\":[\"sociedad\"],\"verbo\":\"ha afirmado\"}],\"num_quotes\":12}\n"
     ]
    },
    {
     "name": "stderr",
     "output_type": "stream",
     "text": [
      "Procesando predicciones:  44%|████▍     | 44/100 [07:18<13:11, 14.14s/it]"
     ]
    },
    {
     "name": "stdout",
     "output_type": "stream",
     "text": [
      "{\"quotes\":[{\"cita_textual\":\"Sí, y también estoy en el top 10 de académicas e investigadoras. Se llega ahí haciendo muchas cosas diversas.\",\"fuente\":\"María Ángeles Martín Prats\",\"genero_fuente\":\"femenino\",\"colectivos\":[],\"verbo\":\"dijo\"},{\"cita_textual\":\"Hay que trabajar muchísimo, ser perseverante y ver cosas donde otros no perciben nada. Tener una visión diferente. La base es la educación.\",\"fuente\":\"María Ángeles Martín Prats\",\"genero_fuente\":\"femenino\",\"colectivos\":[],\"verbo\":\"aseguró\"},{\"cita_textual\":\"De pequeña quería ser piloto de combate.\",\"fuente\":\"María Ángeles Martín Prats\",\"genero_fuente\":\"femenino\",\"colectivos\":[],\"verbo\":\"reveló\"},{\"cita_textual\":\"Sí, me encanta la aeronáutica.\",\"fuente\":\"María Ángeles Martín Prats\",\"genero_fuente\":\"femenino\",\"colectivos\":[],\"verbo\":\"afirmó\"},{\"cita_textual\":\"Enseño los sistemas electrónicos embarcados, la electrónica que está en las aeronaves. El objetivo es incrementar la seguridad aérea, que no haya accidentes en aviación.\",\"fuente\":\"María Ángeles Martín Prats\",\"genero_fuente\":\"femenino\",\"colectivos\":[],\"verbo\":\"explicó\"},{\"cita_textual\":\"Sí, la evolución es drástica.\",\"fuente\":\"María Ángeles Martín Prats\",\"genero_fuente\":\"femenino\",\"colectivos\":[],\"verbo\":\"confirmó\"},{\"cita_textual\":\"Sí, somos coordinadores de un proyecto europeo que se llama Harvis, en el que estamos diseñando un asistente digital basado en inteligencia artificial que ayude al piloto a tomar decisiones para que no haya errores humanos.\",\"fuente\":\"María Ángeles Martín Prats\",\"genero_fuente\":\"femenino\",\"colectivos\":[],\"verbo\":\"comentó\"},{\"cita_textual\":\"Lo hicimos para demostrar que es posible incrementar el número de mujeres en Ingeniería mediante una experiencia piloto. Un grupo de profesoras y alumnas, todas mujeres, fuimos a colegios de Primaria y Secundaria, invitamos a las chicas a eventos técnicos para atraerlas a la Ingeniería Aeroespacial.\",\"fuente\":\"María Ángeles Martín Prats\",\"genero_fuente\":\"femenino\",\"colectivos\":[],\"verbo\":\"afirmó\"},{\"cita_textual\":\"Tenemos que empezar por la familia. A veces el mensaje a las chicas es 'sé funcionaria, haz Magisterio, estudia algo sencillito'. ¿Por qué? Hay que hacerle llegar a las familias y a los educadores que hay un mundo por explorar.\",\"fuente\":\"María Ángeles Martín Prats\",\"genero_fuente\":\"femenino\",\"colectivos\":[],\"verbo\":\"indicó\"},{\"cita_textual\":\"Tanto como de cuotas... pero debería haber más mujeres.\",\"fuente\":\"María Ángeles Martín Prats\",\"genero_fuente\":\"femenino\",\"colectivos\":[],\"verbo\":\"respondió\"},{\"cita_textual\":\"Sí, y hay muchas más. Se están creando muchas spin-off también por necesidad. Hay más emprendedores y empresas que nacen del conocimiento en áreas especializadas que sirven para cubrir el hueco que hay entre la universidad y la industria.\",\"fuente\":\"María Ángeles Martín Prats\",\"genero_fuente\":\"femenino\",\"colectivos\":[],\"verbo\":\"afirmó\"},{\"cita_textual\":\"No. Muchas palabras, venden mucho el I+D, pero no es real. Lo dicen porque saben que es necesario. ¡Estamos deseando verlo!\",\"fuente\":\"María Ángeles Martín Prats\",\"genero_fuente\":\"femenino\",\"colectivos\":[],\"verbo\":\"negó\"},{\"cita_textual\":\"A los emprendedores nos ha llegado muy poco. Las instituciones públicas deberían ayudarnos porque estamos creando empleo.\",\"fuente\":\"María Ángeles Martín Prats\",\"genero_fuente\":\"femenino\",\"colectivos\":[],\"verbo\":\"se quejó\"},{\"cita_textual\":\"Sí, son reconocimientos muy bonitos que no me esperaba para nada. Son también una responsabilidad.\",\"fuente\":\"María Ángeles Martín Prats\",\"genero_fuente\":\"femenino\",\"colectivos\":[],\"verbo\":\"expresó\"},{\"cita_textual\":\"En todo. Pero quizá se nota más en el mundo empresarial.\",\"fuente\":\"María Ángeles Martín Prats\",\"genero_fuente\":\"femenino\",\"colectivos\":[],\"verbo\":\"respondió\"},{\"cita_textual\":\"No podemos olvidar los valores y la ética en la empresa. La tecnología va muy rápido y la educación no tanto.\",\"fuente\":\"María Ángeles Martín Prats\",\"genero_fuente\":\"femenino\",\"colectivos\":[],\"verbo\":\"advirtió\"},{\"cita_textual\":\"Es la gran diferencia con otros países europeos, con los que luego no puedes competir. Allí hay ayudas a la universidad y a los proyectos innovadores.\",\"fuente\":\"María Ángeles Martín Prats\",\"genero_fuente\":\"femenino\",\"colectivos\":[],\"verbo\":\"insistió\"}],\"num_quotes\":17}\n"
     ]
    },
    {
     "name": "stderr",
     "output_type": "stream",
     "text": [
      "Procesando predicciones:  45%|████▌     | 45/100 [07:23<10:34, 11.54s/it]"
     ]
    },
    {
     "name": "stdout",
     "output_type": "stream",
     "text": [
      "{\"quotes\":[{\"cita_textual\":\"La inteligencia artificial no es inteligente\",\"fuente\":\"Lorena Jaume-Palasí\",\"genero_fuente\":\"femenino\",\"colectivos\":[],\"verbo\":\"declaró\"},{\"cita_textual\":\"peligrosa que las armas nucleares\",\"fuente\":\"Stephen Hawking y Elon Musk\",\"genero_fuente\":\"desconocido\",\"colectivos\":[\"raza humana\"] ,\"verbo\":\"alertaron\"},{\"cita_textual\":\"La tecnología no cae del árbol como una manzana y no cae del cielo como el maná\",\"fuente\":\"Lorena Jaume-Palasí\",\"genero_fuente\":\"femenino\",\"colectivos\":[],\"verbo\":\"pide\"},{\"cita_textual\":\"Imagina que alguien estandariza los test de accidentes de coches con el promedio de masa corporal de un hombre como patrón; con ello, está poniendo en peligro las vidas de las mujeres\",\"fuente\":\"Lorena Jaume-Palasí\",\"genero_fuente\":\"femenino\",\"colectivos\":[\"mujeres\"],\"verbo\":\"explicó\"},{\"cita_textual\":\"Si creas un estándar en oncología con bases de datos que sólo tienen un determinado perfil étnico con determinada varianza genética -solo hombres blancos caucásicos-, éste puede componer riesgos de salud y de vida para gente con otra varianza genética como los asiáticos, los africanos o las mujeres\",\"fuente\":\"Lorena Jaume-Palasí\",\"genero_fuente\":\"femenino\",\"colectivos\":[\"mujeres\",\"asiáticos\",\"africanos\"],\"verbo\":\"advirtió\"},{\"cita_textual\":\"Un sistema judicial tiene muchos datos de determinadas etnias, pero de otras no se tienen datos\",\"fuente\":\"Lorena Jaume-Palasí\",\"genero_fuente\":\"femenino\",\"colectivos\":[],\"verbo\":\"afirmó\"}],\"num_quotes\":6}\n"
     ]
    },
    {
     "name": "stderr",
     "output_type": "stream",
     "text": [
      "Procesando predicciones:  46%|████▌     | 46/100 [07:35<10:30, 11.68s/it]"
     ]
    },
    {
     "name": "stdout",
     "output_type": "stream",
     "text": [
      "{\"quotes\":[{\"cita_textual\":\"La Universidad de Granada figura entre las trescientas mejores del mundo según el ranking de Shanghái.\",\"fuente\":\"Pilar Aranda\",\"genero_fuente\":\"femenino\",\"colectivos\":[\"universidades\"] ,\"verbo\":\"figura\"},{\"cita_textual\":\"Somos líderes en investigación vinculada a la inteligencia artificial.\",\"fuente\":\"Pilar Aranda\",\"genero_fuente\":\"femenino\",\"colectivos\":[\"universidades\",\"inteligencia artificial\"] ,\"verbo\":\"somos\"},{\"cita_textual\":\"Es una realidad que hay muchos rankings, pero el de Shanghái es uno de los más importantes, el de mayor prestigio y rigor, aceptado por la comunidad universitaria mundial.\",\"fuente\":\"Pilar Aranda\",\"genero_fuente\":\"femenino\",\"colectivos\":[\"comunidad universitaria mundial\"] ,\"verbo\":\"es\"},{\"cita_textual\":\"Hemos hecho un gran esfuerzo para mantenernos entre las grandes universidades.\",\"fuente\":\"Pilar Aranda\",\"genero_fuente\":\"femenino\",\"colectivos\":[\"universidades\"] ,\"verbo\":\"hemos hecho\"},{\"cita_textual\":\"La ambición de todas las universidades es ir mejorando y la 'competencia' no te lo pone fácil.\",\"fuente\":\"Pilar Aranda\",\"genero_fuente\":\"femenino\",\"colectivos\":[\"universidades\"] ,\"verbo\":\"es\"},{\"cita_textual\":\"No es fácil.\",\"fuente\":\"Pilar Aranda\",\"genero_fuente\":\"femenino\",\"colectivos\":[] ,\"verbo\":\"no es\"},{\"cita_textual\":\"No tenemos la inversión adecuada.\",\"fuente\":\"Pilar Aranda\",\"genero_fuente\":\"femenino\",\"colectivos\":[] ,\"verbo\":\"no tenemos\"},{\"cita_textual\":\"Hay que fortalecer los equipos de investigación, hay que apostar por áreas prioritarias.\",\"fuente\":\"Pilar Aranda\",\"genero_fuente\":\"femenino\",\"colectivos\":[\"equipos de investigación\"] ,\"verbo\":\"hay que\"},{\"cita_textual\":\"No lo veo así.\",\"fuente\":\"Pilar Aranda\",\"genero_fuente\":\"femenino\",\"colectivos\":[] ,\"verbo\":\"no lo veo\"},{\"cita_textual\":\"Una mayor flexibilización, ampliación de conocimientos, movilidad e internacionalización, normativas útiles y lógicas para la gestión que redunde en una investigación mejor remunerada, más atractiva y por tanto mejor.\",\"fuente\":\"Pilar Aranda\",\"genero_fuente\":\"femenino\",\"colectivos\":[] ,\"verbo\":\"hay que incluir\"}],\"num_quotes\":10}\n"
     ]
    },
    {
     "name": "stderr",
     "output_type": "stream",
     "text": [
      "Procesando predicciones:  47%|████▋     | 47/100 [07:40<08:25,  9.54s/it]"
     ]
    },
    {
     "name": "stdout",
     "output_type": "stream",
     "text": [
      "{\"quotes\":[{\"cita_textual\":\"Creo que es importante que los colegios se centren en potenciar lo que los expertos llaman en los últimos años las cuatro \\\"ces\\\".\",\"fuente\":\"Amparo Gil\",\"genero_fuente\":\"femenino\",\"colectivos\":[\"colegios\",\"expertos\"] ,\"verbo\":\"creo\"},{\"cita_textual\":\"Es fundamental que los alumnos, desde edades tempranas, tengan una formación en ese terreno.\",\"fuente\":\"Amparo Gil\",\"genero_fuente\":\"femenino\",\"colectivos\":[\"alumnos\"],\"verbo\":\"es fundamental\"},{\"cita_textual\":\"Las diferencias pueden ser importantes. Creo que, entre otras cosas, lo fundamental es que debemos entender que los alumnos no necesitan clases donde se les proporcione información para memorizar.\",\"fuente\":\"Amparo Gil\",\"genero_fuente\":\"femenino\",\"colectivos\":[\"alumnos\"],\"verbo\":\"creo\"},{\"cita_textual\":\"En mi opinión todos los alumnos tienen un talento innato.\",\"fuente\":\"Amparo Gil\",\"genero_fuente\":\"femenino\",\"colectivos\":[\"alumnos\"], \"verbo\":\"en mi opinión\"},{\"cita_textual\":\"Si falla la educación, falla el sistema.\",\"fuente\":\"Amparo Gil\",\"genero_fuente\":\"femenino\",\"colectivos\":[\"educación\",\"sistema\"],\"verbo\":\"falla\"},{\"cita_textual\":\"Es importante que los líderes educativos centren criterios en torno a los sistemas educativos que llevan décadas demostrando su validez.\",\"fuente\":\"Amparo Gil\",\"genero_fuente\":\"femenino\",\"colectivos\":[\"líderes educativos\",\"sistemas educativos\"],\"verbo\":\"es importante\"}],\"num_quotes\":6}\n"
     ]
    },
    {
     "name": "stderr",
     "output_type": "stream",
     "text": [
      "Procesando predicciones:  48%|████▊     | 48/100 [07:47<07:41,  8.88s/it]"
     ]
    },
    {
     "name": "stdout",
     "output_type": "stream",
     "text": [
      "{\"quotes\":[{\"cita_textual\":\"\\\"Esperamos del Distrito Digital resultados evidentes en cuatro años\\\"\",\"fuente\":\"Carolina Pascual\",\"genero_fuente\":\"femenino\",\"colectivos\":[],\"verbo\":\"esperamos\"},{\"cita_textual\":\"\\\"Esta era su apuesta fuerte de la legislatura\\\"\",\"fuente\":\"Ximo Puig\",\"genero_fuente\":\"masculino\",\"colectivos\":[],\"verbo\":\"explicó\"},{\"cita_textual\":\"\\\"No es más que un reflejo del objetivo de vertebrar el territorio que el presidente Puig ha manifestado en varias ocasiones\\\"\",\"fuente\":\"Carolina Pascual\",\"genero_fuente\":\"femenino\",\"colectivos\":[],\"verbo\":\"manifiesta\"},{\"cita_textual\":\"\\\"Esto quiero matizar que se da en todas las universidades de la Comunidad: se forman egresados en tecnología muy competentes\\\"\",\"fuente\":\"Carolina Pascual\",\"genero_fuente\":\"femenino\",\"colectivos\":[],\"verbo\":\"quiero matizar\"},{\"cita_textual\":\"\\\"Aún no hay nada concreto pero hemos puesto el foco en el Distrito Digital\\\"\",\"fuente\":\"Carolina Pascual\",\"genero_fuente\":\"femenino\",\"colectivos\":[],\"verbo\":\"hemos puesto\"},{\"cita_textual\":\"\\\"Si somos pocas mujeres en el mundo de la ingeniería y de la tecnología, tenemos que visibilizarnos\\\"\",\"fuente\":\"Carolina Pascual\",\"genero_fuente\":\"femenino\",\"colectivos\":[],\"verbo\":\"tenemos que visibilizarnos\"},{\"cita_textual\":\"\\\"Quiero tener una hoja de ruta y potenciar desde distintos sectores su crecimiento\\\"\",\"fuente\":\"Carolina Pascual\",\"genero_fuente\":\"femenino\",\"colectivos\":[],\"verbo\":\"quiero\"},{\"cita_textual\":\"\\\"Estamos totalmente abiertos a estudiar todas las alternativas u opciones\\\"\",\"fuente\":\"Carolina Pascual\",\"genero_fuente\":\"femenino\",\"colectivos\":[],\"verbo\":\"estamos\"},{\"cita_textual\":\"\\\"Es un compromiso personal del presidente Puig\\\"\",\"fuente\":\"Carolina Pascual\",\"genero_fuente\":\"femenino\",\"colectivos\":[],\"verbo\":\"es\"},{\"cita_textual\":\"\\\"Habrá que tomar una decisión y se hará atendiendo al interés general\\\"\",\"fuente\":\"Carolina Pascual\",\"genero_fuente\":\"femenino\",\"colectivos\":[],\"verbo\":\"habrá que tomar\"}],\"num_quotes\":10}\n"
     ]
    },
    {
     "name": "stderr",
     "output_type": "stream",
     "text": [
      "Procesando predicciones:  49%|████▉     | 49/100 [07:54<07:03,  8.30s/it]"
     ]
    },
    {
     "name": "stdout",
     "output_type": "stream",
     "text": [
      "{\"quotes\":[{\"cita_textual\":\"un nuevo frente a defender y debemos estar preparados\",\"fuente\":\"Florence Parly\",\"genero_fuente\":\"femenino\",\"colectivos\":[],\"verbo\":\"dijo\"},{\"cita_textual\":\"la última frontera tecnológica que debemos cruzar\",\"fuente\":\"Florence Parly\",\"genero_fuente\":\"femenino\",\"colectivos\":[],\"verbo\":\"explicó\"},{\"cita_textual\":\"El hombre construyó aviones, creamos el Ejército del aire. El hombre invirtió en el campo cibernético, creamos un comando dedicado a las ciberamenazas. El hombre sueña con inteligencia artificial, hemos dotado a nuestros Ejércitos de una estrategia de inteligencia artificial. Hoy, nuestros aliados y adversarios militarizan el espacio (....) Debemos actuar. Debemos estar preparados porque mañana ya es ayer\",\"fuente\":\"Florence Parly\",\"genero_fuente\":\"femenino\",\"colectivos\":[\"Ejércitos\",\"aliados\",\"adversarios\"],\"verbo\":\"dijo\"},{\"cita_textual\":\"el espacio no debe convertirse en un nuevo Far West (Salvaje Oeste). Es necesario que los estados estén en medida de eliminar eficazmente los riesgos (potenciales)\",\"fuente\":\"Florence Parly\",\"genero_fuente\":\"femenino\",\"colectivos\":[\"estados\"],\"verbo\":\"advirtió\"},{\"cita_textual\":\"Querer convertirse, un día, en general del espacio, no es ya una fantasía, es a partir de ahora una ambición creíble\",\"fuente\":\"Florence Parly\",\"genero_fuente\":\"femenino\",\"colectivos\":[],\"verbo\":\"añadió\"},{\"cita_textual\":\"Proteger nuestras capacidades es vital\",\"fuente\":\"Florence Parly\",\"genero_fuente\":\"femenino\",\"colectivos\":[],\"verbo\":\"dijo\"},{\"cita_textual\":\"Nuestra prioridad es continuar nuestros esfuerzos diplomáticos (...) para garantiza un uso pacífico del espacio\",\"fuente\":\"Florence Parly\",\"genero_fuente\":\"femenino\",\"colectivos\":[],\"verbo\":\"aseguró\"},{\"cita_textual\":\"Se trata de que cuando un acto hostil es detectado, caracterizado y atribuido, poder responder de forma adaptada y proporcional, en conformidad con los principios de derecho internacional\",\"fuente\":\"Florence Parly\",\"genero_fuente\":\"femenino\",\"colectivos\":[],\"verbo\":\"explicó\"},{\"cita_textual\":\"Larga vida al Ejército del Aire y del Espacio. Viva la República. Viva Francia\",\"fuente\":\"Florence Parly\",\"genero_fuente\":\"femenino\",\"colectivos\":[],\"verbo\":\"concluyó\"},{\"cita_textual\":\"una fuerza militar dedicada a las operaciones de Estados Unidos en el espacio\",\"fuente\":\"Donald Trump\",\"genero_fuente\":\"masculino\",\"colectivos\":[\"Ejércitos\"],\"verbo\":\"ordenó\"}],\"num_quotes\":10}\n"
     ]
    },
    {
     "name": "stderr",
     "output_type": "stream",
     "text": [
      "Procesando predicciones:  50%|█████     | 50/100 [08:03<07:02,  8.46s/it]"
     ]
    },
    {
     "name": "stdout",
     "output_type": "stream",
     "text": [
      "{\"quotes\":[{\"cita_textual\":\"\\\"Es necesario hacer política contra Silicon Valley\\\"\",\"fuente\":\"Holly Herndon\",\"genero_fuente\":\"femenino\",\"colectivos\":[],\"verbo\":\"dijo\"},{\"cita_textual\":\"\\\"no hay ninguna intención de reemplazo\\\"\",\"fuente\":\"Holly Herndon\",\"genero_fuente\":\"femenino\",\"colectivos\":[],\"verbo\":\"dijo\"},{\"cita_textual\":\"\\\"La forma del pop es un buen contenedor para los experimentos\\\"\",\"fuente\":\"Holly Herndon\",\"genero_fuente\":\"femenino\",\"colectivos\":[],\"verbo\":\"afirmó\"},{\"cita_textual\":\"\\\"Esa palabra me gusta mucho, porque lo que marca la diferencia entre el periodismo y el trabajo artístico, y aún más si eres una artista como yo\\\"\",\"fuente\":\"Holly Herndon\",\"genero_fuente\":\"femenino\",\"colectivos\":[],\"verbo\":\"comentó\"},{\"cita_textual\":\"\\\"Soy músico, y me gustan los materiales de la música: la melodía, el ritmo, la armonía, el timbre...\\\"\",\"fuente\":\"Holly Herndon\",\"genero_fuente\":\"femenino\",\"colectivos\":[],\"verbo\":\"expresó\"},{\"cita_textual\":\"\\\"No digo que todo el mundo tenga que tener su cine mental\\\"\",\"fuente\":\"Holly Herndon\",\"genero_fuente\":\"femenino\",\"colectivos\":[],\"verbo\":\"declaró\"},{\"cita_textual\":\"\\\"no me interesa la tecnología para explorar el canon musical y hacer algo tipo Bach infinito\\\"\",\"fuente\":\"Holly Herndon\",\"genero_fuente\":\"femenino\",\"colectivos\":[],\"verbo\":\"afirmó\"},{\"cita_textual\":\"\\\"Es importante no rendirse a la ideología de Silicon Valley\\\"\",\"fuente\":\"Holly Herndon\",\"genero_fuente\":\"femenino\",\"colectivos\":[],\"verbo\":\"remarcó\"},{\"cita_textual\":\"\\\"Tengo mis dudas\\\"\",\"fuente\":\"Holly Herndon\",\"genero_fuente\":\"femenino\",\"colectivos\":[],\"verbo\":\"dijo\"},{\"cita_textual\":\"\\\"¿quién es dueño de ese conocimiento?\\\"\",\"fuente\":\"Holly Herndon\",\"genero_fuente\":\"femenino\",\"colectivos\":[],\"verbo\":\"preguntó\"}],\"num_quotes\":10}\n"
     ]
    },
    {
     "name": "stderr",
     "output_type": "stream",
     "text": [
      "Procesando predicciones:  51%|█████     | 51/100 [08:09<06:24,  7.85s/it]"
     ]
    },
    {
     "name": "stdout",
     "output_type": "stream",
     "text": [
      "{\"quotes\":[{\"cita_textual\":\"el enemigo ejerce un control y una influencia que va desde lo más pequeño -qué haces y cómo utilizas tu móvil- hasta lo más grande: la lucha por el dominio de las infraestructuras\",\"fuente\":\"Marta Peirano\",\"genero_fuente\":\"femenino\",\"colectivos\":[\"ciudadanos\"] ,\"verbo\":\"dice\"},{\"cita_textual\":\"un libro para que entiendas por qué las empresas tecnológicas que te generan adicción son las mismas que te espían y manipulan\",\"fuente\":\"Marta Peirano\",\"genero_fuente\":\"femenino\",\"colectivos\":[],\"verbo\":\"explica\"},{\"cita_textual\":\"Tomenos Netflix como ejemplo. Hace poco, su CEO reconoció que su empresa no competía con YouTube o con HBO, dijo que competían con el sueño, una de las tres cosas que los seres humanos necesitamos para sobrevivir.\",\"fuente\":\"Marta Peirano\",\"genero_fuente\":\"femenino\",\"colectivos\":[\"seres humanos\"],\"verbo\":\"cita\"},{\"cita_textual\":\"las aplicaciones que han sido diseñadas por los mejores y más valorados especialistas con el único objetivo de mantenerte pegado a la pantalla el mayor tiempo posible.\",\"fuente\":\"Marta Peirano\",\"genero_fuente\":\"femenino\",\"colectivos\":[],\"verbo\":\"indica\"},{\"cita_textual\":\"La gente normal estamos pensando en términos del siglo XX. Nos preocupa quién lee nuestros correos o que escuchen lo que le digo a mi amante cuando le llamo por teléfono.\",\"fuente\":\"Marta Peirano\",\"genero_fuente\":\"femenino\",\"colectivos\":[\"gente normal\"],\"verbo\":\"comenta\"},{\"cita_textual\":\"Probablemente no. Antes podías elegir abandonar los dispositivos que te vigilan (como el móvil) o estar en un espacio sin cobertura pero ahora la red de vigilancia ha escalado a sistemas de reconocimiento facial y satélites que son como el ojo de Dios.\",\"fuente\":\"Marta Peirano\",\"genero_fuente\":\"femenino\",\"colectivos\":[],\"verbo\":\"responde\"},{\"cita_textual\":\"Es un visionario tóxico porque es un genio del mal. Es brillante para los negocios y con una capacidad de reinvención absoluta que tras ser despedido por ser un mal jefe logra recuperar las riendas de su empresa.\",\"fuente\":\"Marta Peirano\",\"genero_fuente\":\"femenino\",\"colectivos\":[],\"verbo\":\"califica\"}],\"num_quotes\":7}\n"
     ]
    },
    {
     "name": "stderr",
     "output_type": "stream",
     "text": [
      "Procesando predicciones:  52%|█████▏    | 52/100 [08:14<05:26,  6.81s/it]"
     ]
    },
    {
     "name": "stdout",
     "output_type": "stream",
     "text": [
      "{\"quotes\":[{\"cita_textual\":\"Las matemáticas son como el lenguaje de la naturaleza.\",\"fuente\":\"Galileo Galilei\",\"genero_fuente\":\"desconocido\",\"colectivos\":[],\"verbo\":\"menciona\"},{\"cita_textual\":\"Lo mismo que cualquier chico que aprende sobre música es capaz de tocar pequeñas melodías, puede también tocar pequeñas piezas matemáticas.\",\"fuente\":\"María Gaspar\",\"genero_fuente\":\"femenino\",\"colectivos\":[],\"verbo\":\"dice\"},{\"cita_textual\":\"La imagen del matemático ha cambiado, la gente cree que siempre deben llevar gafas o es un chiflado y no es así.\",\"fuente\":\"María Gaspar\",\"genero_fuente\":\"femenino\",\"colectivos\":[],\"verbo\":\"dice\"},{\"cita_textual\":\"Antes muchos chicos no se atrevían a confesar que eran buenos, que les gustaban las matemáticas, porque en lugar de aplaudirles como si fueran Messi o Cristiano Ronaldo les ponían apodos.\",\"fuente\":\"María Gaspar\",\"genero_fuente\":\"femenino\",\"colectivos\":[],\"verbo\":\"dice\"},{\"cita_textual\":\"Lo más importante que debe dejar las matemáticas no es una suma o un cúmulo de problemas y de resultados sino enseñarte a ordenar, a reflexionar, a priorizar, porque eso queda siempre y sirve para cualquier actividad.\",\"fuente\":\"María Gaspar\",\"genero_fuente\":\"femenino\",\"colectivos\":[],\"verbo\":\"dice\"}],\"num_quotes\":5}\n"
     ]
    },
    {
     "name": "stderr",
     "output_type": "stream",
     "text": [
      "Procesando predicciones:  53%|█████▎    | 53/100 [08:26<06:40,  8.53s/it]"
     ]
    },
    {
     "name": "stdout",
     "output_type": "stream",
     "text": [
      "{\"quotes\":[{\"cita_textual\":\"\\\"Muchos científicos se ofenderían si les dijeras que lo que hacen es teología\\\"\",\"fuente\":\"Sabine Hossenfelder\",\"genero_fuente\":\"femenino\",\"colectivos\":[\"científicos\"],\"verbo\":\"dijo\"},{\"cita_textual\":\"\\\"Creo que estamos en un momento en el que aún sacamos provecho de descubrimientos de hace mucho tiempo\\\"\",\"fuente\":\"Sabine Hossenfelder\",\"genero_fuente\":\"femenino\",\"colectivos\":[],\"verbo\":\"creo\"},{\"cita_textual\":\"\\\"No estamos reuniendo nuevos datos, no tenemos información nueva\\\"\",\"fuente\":\"Sabine Hossenfelder\",\"genero_fuente\":\"femenino\",\"colectivos\":[],\"verbo\":\"dijo\"},{\"cita_textual\":\"\\\"No, lo siento, porque muchos científicos no están corrigiendo sus errores.\\\"\",\"fuente\":\"Sabine Hossenfelder\",\"genero_fuente\":\"femenino\",\"colectivos\":[\"científicos\"],\"verbo\":\"dijo\"},{\"cita_textual\":\"\\\"Eso es literatura, no es ciencia.\\\"\",\"fuente\":\"Sabine Hossenfelder\",\"genero_fuente\":\"femenino\",\"colectivos\":[],\"verbo\":\"dijo\"},{\"cita_textual\":\"\\\"La ciencia no es arte, ¿no?\\\"\",\"fuente\":\"Sabine Hossenfelder\",\"genero_fuente\":\"femenino\",\"colectivos\":[],\"verbo\":\"preguntó\"},{\"cita_textual\":\"\\\"Estoy totalmente de acuerdo. Creo que muchos científicos, y ya lo he dicho varias veces, no saben lo que hacen, y se sentirían ofendidos si les dijeras que lo que hacen es teología.\\\"\",\"fuente\":\"Sabine Hossenfelder\",\"genero_fuente\":\"femenino\",\"colectivos\":[\"científicos\"],\"verbo\":\"dijo\"},{\"cita_textual\":\"\\\"Sí, pero no tanto por el libro en sí, sino por mantenerme firme en la tesis de partida, y decir cosas como que construir un nuevo acelerador de partículas no me parece una buena inversión.\\\"\",\"fuente\":\"Sabine Hossenfelder\",\"genero_fuente\":\"femenino\",\"colectivos\":[\"físicos de partículas\"],\"verbo\":\"dijo\"},{\"cita_textual\":\"\\\"Estoy muy segura de que encontraremos evidencias experimentales de la gravitación cuántica en los próximos 40 años.\\\"\",\"fuente\":\"Sabine Hossenfelder\",\"genero_fuente\":\"femenino\",\"colectivos\":[],\"verbo\":\"estoy segura\"},{\"cita_textual\":\"\\\"A la gente le gusta, pero porque está más cerca del arte que de la ciencia.\\\"\",\"fuente\":\"Sabine Hossenfelder\",\"genero_fuente\":\"femenino\",\"colectivos\":[],\"verbo\":\"dijo\"},{\"cita_textual\":\"\\\"No puedo decir gran cosa, pero me parece bien que haya una cierta atención popular hacia la física teórica.\\\"\",\"fuente\":\"Sabine Hossenfelder\",\"genero_fuente\":\"femenino\",\"colectivos\":[],\"verbo\":\"dijo\"}],\"num_quotes\":11}\n"
     ]
    },
    {
     "name": "stderr",
     "output_type": "stream",
     "text": [
      "Procesando predicciones:  54%|█████▍    | 54/100 [08:32<05:59,  7.82s/it]"
     ]
    },
    {
     "name": "stdout",
     "output_type": "stream",
     "text": [
      "{\"quotes\":[{\"cita_textual\":\"\\\"Al menos, la empresa se salvó\\\"\",\"fuente\":\"Ángela Ribeiro\",\"genero_fuente\":\"femenino\",\"colectivos\":[\"empresa\",\"ciencia española\"],\"verbo\":\"sostiene\"},{\"cita_textual\":\"\\\"Podría parecer lo contrario, pero en España se hace mucha ciencia y muy buena. Nos quieren mucho fuera\\\"\",\"fuente\":\"Ángela Ribeiro\",\"genero_fuente\":\"femenino\",\"colectivos\":[\"ciencia española\"],\"verbo\":\"expresa\"},{\"cita_textual\":\"\\\"No es una leyenda urbana. Al margen de que nuestro carácter sea más abierto, los españoles somos muy buenos improvisando. Somos resolutivos. A lo mejor se estropea una válvula para la que no hay repuesto y, cuando empieza a cundir el pánico, el español lo arregla con esparadrapo o unos guantes de goma. Cuando viajo, me doy cuenta de lo que nos aprecian fuera a los científicos españoles\\\"\",\"fuente\":\"Ángela Ribeiro\",\"genero_fuente\":\"femenino\",\"colectivos\":[\"científicos españoles\"],\"verbo\":\"abunda\"},{\"cita_textual\":\"\\\"somos líderes en investigación de excelencia\\\"\",\"fuente\":\"Ángela Ribeiro\",\"genero_fuente\":\"femenino\",\"colectivos\":[\"investigación\"],\"verbo\":\"remacha\"},{\"cita_textual\":\"\\\"Y nos dejamos muchas cosas en el tintero\\\"\",\"fuente\":\"Ángela Ribeiro\",\"genero_fuente\":\"femenino\",\"colectivos\":[\"investigación\"],\"verbo\":\"suspira\"},{\"cita_textual\":\"\\\"Yo la sigo desde el minuto uno -asegura Ribeiro-, aunque me molesta que todos los personajes femeninos sean bios, que no haya ninguna física o ingeniera\\\"\",\"fuente\":\"Ángela Ribeiro\",\"genero_fuente\":\"femenino\",\"colectivos\":[\"personajes femeninos\",\"ciencia\"],\"verbo\":\"asegura\"},{\"cita_textual\":\"\\\"Se estimula poco la idea de querer ser científico de mayor. La ciencia española necesita un superhéroe en el que la infancia vea un modelo a seguir, pero eso tiene que estar en el día a día: en unos dibujos animados de los que se hagan hasta pijamas, en un programa divertido...\\\"\",\"fuente\":\"Ángela Ribeiro\",\"genero_fuente\":\"femenino\",\"colectivos\":[\"infancia\",\"ciencia española\"],\"verbo\":\"destaca\"}],\"num_quotes\":7}\n"
     ]
    },
    {
     "name": "stderr",
     "output_type": "stream",
     "text": [
      "Procesando predicciones:  55%|█████▌    | 55/100 [08:38<05:25,  7.24s/it]"
     ]
    },
    {
     "name": "stdout",
     "output_type": "stream",
     "text": [
      "{\"quotes\":[{\"cita_textual\":\"China quiere ser la primera potencia del mundo gracias a la Inteligencia Artificial\",\"fuente\":\"Nuria Oliver\",\"genero_fuente\":\"femenino\",\"colectivos\":[],\"verbo\":\"dice\"},{\"cita_textual\":\"Las descargas con el 5G serán 100 veces más rápidas\",\"fuente\":\"Eduard Martín\",\"genero_fuente\":\"masculino\",\"colectivos\":[],\"verbo\":\"afirma\"},{\"cita_textual\":\"creo que están cambiando el algoritmo porque hay gran variabilidad según el día\",\"fuente\":\"Nuria Oliver\",\"genero_fuente\":\"femenino\",\"colectivos\":[],\"verbo\":\"creo\"},{\"cita_textual\":\"soy la única investigadora española que soy Fellow del Association for Computing Machinery (ACM)\",\"fuente\":\"Nuria Oliver\",\"genero_fuente\":\"femenino\",\"colectivos\":[],\"verbo\":\"dice\"},{\"cita_textual\":\"Cada año se pierden 9.000 millones de euros por la falta de diversidad de género en el sector tecnológico\",\"fuente\":\"Nuria Oliver\",\"genero_fuente\":\"femenino\",\"colectivos\":[],\"verbo\":\"afirma\"},{\"cita_textual\":\"Los nativos digitales no existen. Creo que debemos aspirar a que todos los niños y niñas sean eruditos digitales\",\"fuente\":\"Nuria Oliver\",\"genero_fuente\":\"femenino\",\"colectivos\":[],\"verbo\":\"defiende\"},{\"cita_textual\":\"Debemos también reforzar la creatividad y la inteligencia social y emocional. Considero que la estamos perdiendo hoy en día\",\"fuente\":\"Nuria Oliver\",\"genero_fuente\":\"femenino\",\"colectivos\":[],\"verbo\":\"considera\"},{\"cita_textual\":\"en la mitad de la población no está representada\",\"fuente\":\"Nuria Oliver\",\"genero_fuente\":\"femenino\",\"colectivos\":[],\"verbo\":\"afirma\"},{\"cita_textual\":\"Gracias a la tecnología vamos a poder desvincular el trabajo del sitio en el que vivimos\",\"fuente\":\"Nuria Oliver\",\"genero_fuente\":\"femenino\",\"colectivos\":[],\"verbo\":\"asegura\"}],\"num_quotes\":10}\n"
     ]
    },
    {
     "name": "stderr",
     "output_type": "stream",
     "text": [
      "Procesando predicciones:  56%|█████▌    | 56/100 [08:57<07:51, 10.72s/it]"
     ]
    },
    {
     "name": "stdout",
     "output_type": "stream",
     "text": [
      "{\"quotes\":[{\"cita_textual\":\"Los niños no sólo deben hacer aquello que les resulte más fácil\",\"fuente\":\"Barbara Oakley\",\"genero_fuente\":\"feminino\",\"colectivos\":[],\"verbo\":\"dijo\"},{\"cita_textual\":\"Creo que la inteligencia artificial les ayudará a aprender a un ritmo que se adapte a su capacidad.\",\"fuente\":\"Barbara Oakley\",\"genero_fuente\":\"feminino\",\"colectivos\":[],\"verbo\":\"creo\"},{\"cita_textual\":\"Hay evidencia clara de que los niños pueden aprender temas aparentemente más avanzados a edades tempranas si tienen padres que se dedican a ayudarles de una manera optimista e inspiradora.\",\"fuente\":\"Barbara Oakley\",\"genero_fuente\":\"feminino\",\"colectivos\":[],\"verbo\":\"hay\"},{\"cita_textual\":\"Creo que pueden ayudar a los estudiantes a desarrollar una actitud positiva y creativa hacia los temas de humanidades y las ciencias sociales.\",\"fuente\":\"Barbara Oakley\",\"genero_fuente\":\"feminino\",\"colectivos\":[],\"verbo\":\"creo\"},{\"cita_textual\":\"Estoy menos segura de que estos modelos sean efectivos para enseñar habilidades analíticas.\",\"fuente\":\"Barbara Oakley\",\"genero_fuente\":\"feminino\",\"colectivos\":[],\"verbo\":\"estoy\"},{\"cita_textual\":\"El fracaso escolar en general puede ocurrir por muchas razones, pero, por supuesto, también puede haber malos maestros o administradores mediocres, que quitan la inspiración a sus maestros y a sus estudiantes.\",\"fuente\":\"Barbara Oakley\",\"genero_fuente\":\"feminino\",\"colectivos\":[],\"verbo\":\"puede\"},{\"cita_textual\":\"Si lees el libro No Easy Answers: La verdad detrás de la muerte en Columbine High School, de Brooks Brown, un amigo de los asesinos de Columbine, verás cómo una sola maestra de segundo grado tuvo un efecto terrible en la actitud de Brooks hacia la escuela y hacia la vida.\",\"fuente\":\"Barbara Oakley\",\"genero_fuente\":\"feminino\",\"colectivos\":[],\"verbo\":\"verás\"},{\"cita_textual\":\"Los sindicatos de docentes hacen un gran bien en los Estados Unidos y en otras partes del mundo. Pero también hacen un flaco favor a los estudiantes cuando protegen a los malos maestros de ser despedidos.\",\"fuente\":\"Barbara Oakley\",\"genero_fuente\":\"feminino\",\"colectivos\":[],\"verbo\":\"hacen\"},{\"cita_textual\":\"Puedes aprender bien debido a la motivación intrínseca o extrínseca.\",\"fuente\":\"Barbara Oakley\",\"genero_fuente\":\"feminino\",\"colectivos\":[],\"verbo\":\"puedes\"},{\"cita_textual\":\"A veces se puede inspirar a los estudiantes a profundizar en su aprendizaje cuando se sienten frustrados.\",\"fuente\":\"Barbara Oakley\",\"genero_fuente\":\"feminino\",\"colectivos\":[],\"verbo\":\"se puede inspirar\"},{\"cita_textual\":\"Es bueno animar a los niños a hacer lo que saben hacer.\",\"fuente\":\"Barbara Oakley\",\"genero_fuente\":\"feminino\",\"colectivos\":[],\"verbo\":\"es bueno\"},{\"cita_textual\":\"Los niños -y los adultos también- a menudo piensan que, si no pueden aprender algo de inmediato, no son buenos en ello y no deberían esforzarse.\",\"fuente\":\"Barbara Oakley\",\"genero_fuente\":\"feminino\",\"colectivos\":[],\"verbo\":\"piensan\"},{\"cita_textual\":\"Esencial. Cuando dormimos, las conexiones neuronales relacionadas con lo que hemos aprendido ese día se fortalecen y solidifican.\",\"fuente\":\"Barbara Oakley\",\"genero_fuente\":\"feminino\",\"colectivos\":[],\"verbo\":\"esencial\"},{\"cita_textual\":\"Poder aprender es uno de nuestros mayores dones. Cada uno de nosotros debe apreciarlo, atesorarlo y alimentarlo.\",\"fuente\":\"Barbara Oakley\",\"genero_fuente\":\"feminino\",\"colectivos\":[],\"verbo\":\"poder\"}],\"num_quotes\":14}\n"
     ]
    },
    {
     "name": "stderr",
     "output_type": "stream",
     "text": [
      "Procesando predicciones:  57%|█████▋    | 57/100 [09:06<07:22, 10.29s/it]"
     ]
    },
    {
     "name": "stdout",
     "output_type": "stream",
     "text": [
      "{\"quotes\":[{\"cita_textual\":\"Esa imagen del cine del informático 'freaky' que trabaja sólo, no es real\",\"fuente\":\"Julia Bernal\",\"genero_fuente\":\"femenino\",\"colectivos\":[\"mujeres\",\"informáticos\"] ,\"verbo\":\"dijo\"},{\"cita_textual\":\"No me he arrepentido ni un sólo día\",\"fuente\":\"Julia Bernal\",\"genero_fuente\":\"femenino\",\"colectivos\":[\"mujeres\"] ,\"verbo\":\"dice\"},{\"cita_textual\":\"Hay una falta de vocación de las jóvenes a la hora de elegir carreras STEM -Ciencia, Tecnología, Ingeniería y Matemáticas- y eso es una gran preocupación, porque cada vez hay menos\",\"fuente\":\"Julia Bernal\",\"genero_fuente\":\"femenino\",\"colectivos\":[\"jóvenes\",\"mujeres\"] ,\"verbo\":\"señala\"},{\"cita_textual\":\"Lo primero que hay que hacer es derribar estereotipos. Por ejemplo, el de que la tecnología y la informática es cosa de chicos, o de personas que no les gusta trabajar en equipo...\",\"fuente\":\"Julia Bernal\",\"genero_fuente\":\"femenino\",\"colectivos\":[\"chicos\",\"personas\",\"mujeres\"] ,\"verbo\":\"dice\"},{\"cita_textual\":\"las futuras estudiantes deben ver que estas profesiones les permitirán influir de forma positiva en muchos aspectos de la vida. Porque muchas veces las mujeres buscamos que nuestra vida tenga un impacto positivo en la sociedad\",\"fuente\":\"Julia Bernal\",\"genero_fuente\":\"femenino\",\"colectivos\":[\"futuras estudiantes\",\"mujeres\"] ,\"verbo\":\"dice\"},{\"cita_textual\":\"Mi hija, que es una apasionada de la danza y baila tres horas al día, está acabando la carrera de Ingeniería Biomédica y acaba de terminar un proyecto de como aplicar la tecnología a la danza\",\"fuente\":\"Julia Bernal\",\"genero_fuente\":\"femenino\",\"colectivos\":[\"mujeres\",\"hijas\"] ,\"verbo\":\"cuenta\"},{\"cita_textual\":\"En este sector, como en otros, existe una brecha de género en los puestos directivos. A veces tenemos un techo de cristal que a nosotras mismas nos cuesta romper, y desde luego, en el momento de ser madres y la dificultad de conciliar, sufrimos un parón en nuestra carrera que no debería producirse por el motivo de ser madres, y que después puede ser muy difícil de superar\",\"fuente\":\"Julia Bernal\",\"genero_fuente\":\"femenino\",\"colectivos\":[\"mujeres\",\"madres\"] ,\"verbo\":\"reconoce\"},{\"cita_textual\":\"Hay que ser valientes y no ponernos ninguna traba, ni a la hora de elegir lo que estudiamos ni a la hora de intentar progresar en el trabajo\",\"fuente\":\"Julia Bernal\",\"genero_fuente\":\"femenino\",\"colectivos\":[\"mujeres\"] ,\"verbo\":\"anima\"}],\"num_quotes\":8}\n"
     ]
    },
    {
     "name": "stderr",
     "output_type": "stream",
     "text": [
      "Procesando predicciones:  58%|█████▊    | 58/100 [09:19<07:37, 10.89s/it]"
     ]
    },
    {
     "name": "stdout",
     "output_type": "stream",
     "text": [
      "{\"quotes\":[{\"cita_textual\":\"\\\"Para nosotros la impresora ya no es un elemento que imprime, es un hub de datos, un objeto por donde entran y salen los datos, y los datos son importantes en la compañía, porque forman parte de sus decisiones\\\"\",\"fuente\":\"Raquel Pinillos\",\"genero_fuente\":\"femenino\",\"colectivos\":[\"compañía\"] ,\"verbo\":\"expone\"},{\"cita_textual\":\"\\\"En el mundo omnicanal, los datos pueden venir de un ordenador, de un móvil, de cualquier tipo de interacción en general, y estos datos se tienen que integrar en los sistemas de información que tiene la compañía para tramitar un pedido o una reclamación\\\"\",\"fuente\":\"Raquel Pinillos\",\"genero_fuente\":\"femenino\",\"colectivos\":[\"compañía\"] ,\"verbo\":\"expone\"},{\"cita_textual\":\"\\\"la impresora es un punto más donde hay datos, y a partir de ahí nos hemos inventado un ecosistema digital\\\"\",\"fuente\":\"Raquel Pinillos\",\"genero_fuente\":\"femenino\",\"colectivos\":[],\"verbo\":\"remata\"},{\"cita_textual\":\"\\\"En Kyocera vemos ahora en la impresión un distribuidor de datos y de información: y esto es una parte muy importante, porque las organizaciones hoy se están moviendo mucho para automatizar la captura del dato, para que esto se integre en un sistema de información que tramite toda la operativa de la compañía\\\"\",\"fuente\":\"Raquel Pinillos\",\"genero_fuente\":\"femenino\",\"colectivos\":[\"organizaciones\"] ,\"verbo\":\"explica\"},{\"cita_textual\":\"\\\"Nosotros no somos consultores de negocio, no le decimos a la banca como hacer su operación financiera, lo que si le decimos es que para que su operación de banca, aquella que da soporte al cliente, sea competitiva tiene que haber detrás un back office muy potente, automatizado y sin errores\\\"\",\"fuente\":\"Raquel Pinillos\",\"genero_fuente\":\"femenino\",\"colectivos\":[\"banca\"] ,\"verbo\":\"explica\"},{\"cita_textual\":\"\\\"Y ahí es donde entramos nosotros: vamos a revisar los procesos, ver qué documentación se tiene que pertenezca a un proceso en concreto y si eso se puede digitalizar y automatizar\\\"\",\"fuente\":\"Raquel Pinillos\",\"genero_fuente\":\"femenino\",\"colectivos\":[],\"verbo\":\"explica\"},{\"cita_textual\":\"\\\"Lo que hacemos es automatizar los flujos de interacción entre las distintas partes, con la rigurosidad que requiere en algún caso la legalidad\\\"\",\"fuente\":\"Raquel Pinillos\",\"genero_fuente\":\"femenino\",\"colectivos\":[],\"verbo\":\"plantea\"},{\"cita_textual\":\"\\\"No tiene sentido que estemos firmando papeles o interacciones con la administración pública o incluso nuestros contratos laborales de forma manual... y eso se lo hemos resuelto ya a dos compañías\\\"\",\"fuente\":\"Raquel Pinillos\",\"genero_fuente\":\"femenino\",\"colectivos\":[\"compañías\"] ,\"verbo\":\"desvela\"},{\"cita_textual\":\"\\\"Ahora mismo estamos hablando de convertir información desestructurada (la que viene de un documento) en estructurada, gracias a capturar palabras clave (llamadas metadatos) que se convierten en un activo que procesa un software, gracias a lo cual se toman unas decisiones, pero, al fin y al cabo, todo viene de un documento\\\"\",\"fuente\":\"Raquel Pinillos\",\"genero_fuente\":\"femenino\",\"colectivos\":[],\"verbo\":\"termina\"},{\"cita_textual\":\"\\\"Va a llegar un momento que en este mundo omnicanal el reconocimiento, ese software inteligente que se utiliza para que una información se estructure y sea tratable, no solo se aplique a un documento, sino que proceda de la voz, proceda de una inteligencia semántica que haga lógicas matemáticas más allá de un reconocimiento de palabras\\\"\",\"fuente\":\"Raquel Pinillos\",\"genero_fuente\":\"femenino\",\"colectivos\":[],\"verbo\":\"termina\"},{\"cita_textual\":\"\\\"en la transformación digital, vaticina, estamos viendo la puntita de todo lo que va a venir.\\\"\",\"fuente\":\"Raquel Pinillos\",\"genero_fuente\":\"femenino\",\"colectivos\":[],\"verbo\":\"vaticina\"}],\"num_quotes\":11}\n"
     ]
    },
    {
     "name": "stderr",
     "output_type": "stream",
     "text": [
      "Procesando predicciones:  59%|█████▉    | 59/100 [09:29<07:25, 10.87s/it]"
     ]
    },
    {
     "name": "stdout",
     "output_type": "stream",
     "text": [
      "{\"quotes\":[{\"cita_textual\":\"Jugaba con todo. Tenía un Nenuco que me encantaba, pero me apasionaban los juegos de construcciones y todo lo que fuera montar y desmontar. Soy creativa. Me atrae todo lo artístico como la pintura y la música.\",\"fuente\":\"Elena García Armada\",\"genero_fuente\":\"femenino\",\"colectivos\":[],\"verbo\":\"dijo\"},{\"cita_textual\":\"El entorno familiar influye mucho. Mis padres eran científicos. Mi padre era además emprendedor.\",\"fuente\":\"Elena García Armada\",\"genero_fuente\":\"femenino\",\"colectivos\":[],\"verbo\":\"dijo\"},{\"cita_textual\":\"Mis padres, sin duda. Mi madre es doctora en Física y profesora de Universidad. Mi padre, que era catedrático de Electromagnetismo, creó la Escuela de Ingeniería de Telecomunicaciones en Santander.\",\"fuente\":\"Elena García Armada\",\"genero_fuente\":\"femenino\",\"colectivos\":[],\"verbo\":\"dijo\"},{\"cita_textual\":\"Era un prototipo de investigación y no cumplía la normativa de producto sanitario.\",\"fuente\":\"Elena García Armada\",\"genero_fuente\":\"femenino\",\"colectivos\":[],\"verbo\":\"dijo\"},{\"cita_textual\":\"Para mí, sí. No puede haber mayor premio que éste.\",\"fuente\":\"Elena García Armada\",\"genero_fuente\":\"femenino\",\"colectivos\":[],\"verbo\":\"dijo\"},{\"cita_textual\":\"Sí, siempre falta. El tener menos recursos nos obliga a ir mucho más despacio.\",\"fuente\":\"Elena García Armada\",\"genero_fuente\":\"femenino\",\"colectivos\":[],\"verbo\":\"dijo\"},{\"cita_textual\":\"Desde luego.\",\"fuente\":\"Elena García Armada\",\"genero_fuente\":\"femenino\",\"colectivos\":[],\"verbo\":\"afirmó\"},{\"cita_textual\":\"No son tantas las cantidades que necesitamos comparadas con el dinero que se está utilizando para otros fines.\",\"fuente\":\"Elena García Armada\",\"genero_fuente\":\"femenino\",\"colectivos\":[],\"verbo\":\"dijo\"},{\"cita_textual\":\"Porque no los conocemos. Las películas nos traen siempre una imagen peligrosa.\",\"fuente\":\"Elena García Armada\",\"genero_fuente\":\"femenino\",\"colectivos\":[],\"verbo\":\"explicó\"},{\"cita_textual\":\"Yo soy muy escéptica. Entre los propios científicos hay dos opiniones muy diferentes: los que piensan que la Inteligencia Artificial va a desbordar todas las posibilidades y, luego, estamos los que trabajamos con la máquina y nos damos cuenta de lo lejos que estamos de conseguir que una máquina sea capaz de hacer ciertas cosas.\",\"fuente\":\"Elena García Armada\",\"genero_fuente\":\"femenino\",\"colectivos\":[],\"verbo\":\"afirmó\"},{\"cita_textual\":\"No, pero me lo puso más difícil. Supone una dedicación añadida con la que estoy más que satisfecha.\",\"fuente\":\"Elena García Armada\",\"genero_fuente\":\"femenino\",\"colectivos\":[],\"verbo\":\"respondió\"},{\"cita_textual\":\"Desde la cuna. No es algo que haya que trabajar en la Universidad, sino en la educación infantil y en casa.\",\"fuente\":\"Elena García Armada\",\"genero_fuente\":\"femenino\",\"colectivos\":[],\"verbo\":\"indicó\"},{\"cita_textual\":\"Porque tuve unos padres ejemplares. Nunca se me condicionó el gusto: jugaba con muñecas, con puzzles y con una gasolinera cuando la pedí.\",\"fuente\":\"Elena García Armada\",\"genero_fuente\":\"femenino\",\"colectivos\":[],\"verbo\":\"dijo\"},{\"cita_textual\":\"Esos mensajes hacen a las niñas decantarse por un rol.\",\"fuente\":\"Elena García Armada\",\"genero_fuente\":\"femenino\",\"colectivos\":[],\"verbo\":\"señaló\"},{\"cita_textual\":\"A las niñas les interesa la función, saber el para qué.\",\"fuente\":\"Elena García Armada\",\"genero_fuente\":\"femenino\",\"colectivos\":[],\"verbo\":\"afirmó\"},{\"cita_textual\":\"No lo sé porque una cosa va surgiendo detrás de la otra y las necesidades las voy encontrando por el camino.\",\"fuente\":\"Elena García Armada\",\"genero_fuente\":\"femenino\",\"colectivos\":[],\"verbo\":\"dijo\"}],\"num_quotes\":16}\n"
     ]
    },
    {
     "name": "stderr",
     "output_type": "stream",
     "text": [
      "Procesando predicciones:  60%|██████    | 60/100 [09:38<06:45, 10.14s/it]"
     ]
    },
    {
     "name": "stdout",
     "output_type": "stream",
     "text": [
      "{\"quotes\":[{\"cita_textual\":\"La inteligencia artificial es un producto de la inteligencia humana, una tecnología como cualquier otra.\",\"fuente\":\"Emilia Gómez\",\"genero_fuente\":\"femenino\",\"colectivos\":[],\"verbo\":\"afirma\"},{\"cita_textual\":\"Es otra fuente de información para tomar una decisión. Hay que tomarlo con pensamiento crítico.\",\"fuente\":\"Emilia Gómez\",\"genero_fuente\":\"femenino\",\"colectivos\":[],\"verbo\":\"comenta\"},{\"cita_textual\":\"La clave es evaluarlos bien.\",\"fuente\":\"Emilia Gómez\",\"genero_fuente\":\"femenino\",\"colectivos\":[],\"verbo\":\"afirma\"},{\"cita_textual\":\"Hay algoritmos que pueden saber si una música es triste, alegre, si hay una orquesta...\",\"fuente\":\"Emilia Gómez\",\"genero_fuente\":\"femenino\",\"colectivos\":[],\"verbo\":\"explica\"},{\"cita_textual\":\"Sí, los ordenadores ya pueden componer y cantar.\",\"fuente\":\"Emilia Gómez\",\"genero_fuente\":\"femenino\",\"colectivos\":[],\"verbo\":\"afirma\"},{\"cita_textual\":\"Pura estadística.\",\"fuente\":\"Emilia Gómez\",\"genero_fuente\":\"femenino\",\"colectivos\":[],\"verbo\":\"asegura\"},{\"cita_textual\":\"Los hombres presentan la tecnología y la explican de una manera que las chicas no se ven reflejadas.\",\"fuente\":\"Emilia Gómez\",\"genero_fuente\":\"femenino\",\"colectivos\":[],\"verbo\":\"señala\"},{\"cita_textual\":\"Si todas las tecnologías las diseñan personas muy iguales entre sí, como hombres blancos, hay un sesgo inconsciente que hace que sólo le interesen a esos colectivos.\",\"fuente\":\"Emilia Gómez\",\"genero_fuente\":\"femenino\",\"colectivos\":[],\"verbo\":\"explica\"},{\"cita_textual\":\"En inteligencia artificial se lucha para que los equipos sean muy diversos: personas con diferentes ideologías, sexos, razas...\",\"fuente\":\"Emilia Gómez\",\"genero_fuente\":\"femenino\",\"colectivos\":[],\"verbo\":\"comenta\"},{\"cita_textual\":\"La inteligencia artificial general es ciencia ficción.\",\"fuente\":\"Emilia Gómez\",\"genero_fuente\":\"femenino\",\"colectivos\":[],\"verbo\":\"afirma\"}],\"num_quotes\":10}\n"
     ]
    },
    {
     "name": "stderr",
     "output_type": "stream",
     "text": [
      "Procesando predicciones:  61%|██████    | 61/100 [09:53<07:37, 11.74s/it]"
     ]
    },
    {
     "name": "stdout",
     "output_type": "stream",
     "text": [
      "{\"quotes\":[{\"cita_textual\":\"El panorama está cambiando 180 grados\",\"fuente\":\"Sylvia Taudien\",\"genero_fuente\":\"femenino\",\"colectivos\":[],\"verbo\":\"expone\"},{\"cita_textual\":\"Las empresas que son de la vieja economía, no sobrevivirán a los próximos tres o cinco años: un 30 o 40% de las empresas que hoy existen, no existirán\",\"fuente\":\"Sylvia Taudien\",\"genero_fuente\":\"femenino\",\"colectivos\":[],\"verbo\":\"añade\"},{\"cita_textual\":\"Transformación digital quiere decir que tu empresa utiliza mejor los medios tecnológicos que la competencia\",\"fuente\":\"Sylvia Taudien\",\"genero_fuente\":\"femenino\",\"colectivos\":[],\"verbo\":\"explica\"},{\"cita_textual\":\"La transformación digital sola no existe, es una transformación de la empresa\",\"fuente\":\"Sylvia Taudien\",\"genero_fuente\":\"femenino\",\"colectivos\":[],\"verbo\":\"explica\"},{\"cita_textual\":\"Antes buscábamos líderes de cambio, y ahora eso se queda corto, porque el cambio lo tenemos cada día\",\"fuente\":\"Sylvia Taudien\",\"genero_fuente\":\"femenino\",\"colectivos\":[],\"verbo\":\"perfila\"},{\"cita_textual\":\"Transformación es hacer algo de forma 180 grados distinta; innovación es cuando haces algo mejor de lo que hacías; disrupción es cuando desaprendes todo lo aprendido y lo haces todo de nuevo, y ahora las empresas quieren disrupción, no quieren innovación, quieren algo totalmente distinto\",\"fuente\":\"Sylvia Taudien\",\"genero_fuente\":\"femenino\",\"colectivos\":[],\"verbo\":\"afirma\"},{\"cita_textual\":\"Son personas con una mentalidad muy abierta, con habilidades para la disrupción, con mucha interculturalidad (idiomas), que están tecnológicamente a la última... no es necesario que sepan programar, pero es imprescindible que sepan de qué es capaz la tecnología, que sepan de redes sociales y que estén informados y a la última\",\"fuente\":\"Sylvia Taudien\",\"genero_fuente\":\"femenino\",\"colectivos\":[],\"verbo\":\"sigue\"},{\"cita_textual\":\"Hoy la información está al alcance de todo el mundo, nadie puede decir que no está informado: hay que moverse por redes sociales, Internet... hay que mirar qué hace Harvard, qué hace el MIT, Stanford, la Singularity University... en Internet encuentras muchos vídeos e información\",\"fuente\":\"Sylvia Taudien\",\"genero_fuente\":\"femenino\",\"colectivos\":[],\"verbo\":\"añade\"},{\"cita_textual\":\"El tema, en Silicon Valley, es la Inteligencia Artificial\",\"fuente\":\"Sylvia Taudien\",\"genero_fuente\":\"femenino\",\"colectivos\":[],\"verbo\":\"plantea\"},{\"cita_textual\":\"Una tecnología que se aplica a muchos campos que requieren concentración, repetición y donde el ser humano puede fallar: atención al cliente, call centers, recepción, contabilidad... y procesos de selección\",\"fuente\":\"Sylvia Taudien\",\"genero_fuente\":\"femenino\",\"colectivos\":[],\"verbo\":\"explica\"},{\"cita_textual\":\"Cuando buscas incorporar a jóvenes en una empresa con una alta reputación, normalmente solicitan plaza unas 400 o 500 personas\",\"fuente\":\"Sylvia Taudien\",\"genero_fuente\":\"femenino\",\"colectivos\":[],\"verbo\":\"sigue\"},{\"cita_textual\":\"Por ejemplo, Unilever tiene un programa informático, el joven se conecta, un robot con aspecto de persona le da la bienvenida y le hace unas preguntas clave para que sus algoritmos determinen si hay un match entre el puesto y el candidato\",\"fuente\":\"Sylvia Taudien\",\"genero_fuente\":\"femenino\",\"colectivos\":[],\"verbo\":\"explica\"},{\"cita_textual\":\"La parte humana es la decisiva, pero el pretrabajo está hecho\",\"fuente\":\"Sylvia Taudien\",\"genero_fuente\":\"femenino\",\"colectivos\":[],\"verbo\":\"remata\"},{\"cita_textual\":\"\",\"fuente\":\"Sylvia Taudien\",\"genero_fuente\":\"femenino\",\"colectivos\":[\"International HR Conference\"],\"verbo\":\"se encarga de organizar\"}],\"num_quotes\":19}\n"
     ]
    },
    {
     "name": "stderr",
     "output_type": "stream",
     "text": [
      "Procesando predicciones:  62%|██████▏   | 62/100 [10:10<08:26, 13.32s/it]"
     ]
    },
    {
     "name": "stdout",
     "output_type": "stream",
     "text": [
      "{\"quotes\":[{\"cita_textual\":\"Estoy en la división de Inteligencia Artificial, dedicada a construir agentes virtuales con los que puedas mantener una conversación similar a como hablamos las personas cuando estamos cara a cara.\",\"fuente\":\"No especificada\",\"genero_fuente\":\"desconocido\",\"colectivos\":[\"personas\",\"agentes virtuales\"],\"verbo\":\"Estoy\"},{\"cita_textual\":\"Se tiende a que los agentes virtuales tengan la capacidad de mantener una conversación cuasi humana.\",\"fuente\":\"No especificada\",\"genero_fuente\":\"desconocido\",\"colectivos\":[\"agentes virtuales\"],\"verbo\":\"Se tiende\"},{\"cita_textual\":\"Totalmente. El mundo ahora está muy revuelto, y hay mucha gente mirándose el ombligo en vez de mirando el horizonte. Me frustra escuchar desde el extranjero las cosas que están pasando aquí.\",\"fuente\":\"No especificada\",\"genero_fuente\":\"desconocido\",\"colectivos\":[\"gente\"],\"verbo\":\"Totalmente\"},{\"cita_textual\":\"Desafortunadamente, aquí, aunque hay mucho talento y buenas universidades, la gente se marcha. Si quieres llegar a lo más alto, tienes que salir de España, eso es así.\",\"fuente\":\"No especificada\",\"genero_fuente\":\"desconocido\",\"colectivos\":[\"gente\"],\"verbo\":\"Desafortunadamente\"},{\"cita_textual\":\"Que sea más fácil crear empresas y el movimiento de gente entre España y otros países.\",\"fuente\":\"No especificada\",\"genero_fuente\":\"desconocido\",\"colectivos\":[\"empresas\",\"gente\"],\"verbo\":\"Que sea\"},{\"cita_textual\":\"En el campo en el que me muevo, si no evoluciona con las necesidades tecnológicas, se queda obsoleta. La Universidad tenía que ser pionera y estar en lo último de lo último.\",\"fuente\":\"No especificada\",\"genero_fuente\":\"desconocido\",\"colectivos\":[\"universidad\"],\"verbo\":\"tenía que ser\"},{\"cita_textual\":\"A mí me gusta que los niños en el colegio aspiren a ser emprendedores que cambien el mundo.\",\"fuente\":\"No especificada\",\"genero_fuente\":\"desconocido\",\"colectivos\":[\"niños\"],\"verbo\":\"me gusta\"},{\"cita_textual\":\"Debo ser algo anecdótico, no una meta en la vida.\",\"fuente\":\"No especificada\",\"genero_fuente\":\"desconocido\",\"colectivos\":[\"jóvenes\"],\"verbo\":\"debe ser\"},{\"cita_textual\":\"Al principio de mi carrera, no era partidaria, pero ahora entiendo que debe haber herramientas de transición entre lo que es y fue y lo que debería ser.\",\"fuente\":\"No especificada\",\"genero_fuente\":\"desconocido\",\"colectivos\":[\"mujeres\"],\"verbo\":\"entiendo\"},{\"cita_textual\":\"Yo, antes, me centraba en lo que debería ser: una meritocracia donde cada uno se gane su puesto, sea hombre, mujer o marciano.\",\"fuente\":\"No especificada\",\"genero_fuente\":\"desconocido\",\"colectivos\":[\"hombre\",\"mujer\",\"marciano\"],\"verbo\":\"me centraba\"},{\"cita_textual\":\"Soy rebelde por naturaleza. Ahora, hay un cambio de tendencia y se valoran más cosas.\",\"fuente\":\"No especificada\",\"genero_fuente\":\"desconocido\",\"colectivos\":[\"ingenieros\",\"humanidades\"],\"verbo\":\"Soy\"},{\"cita_textual\":\"Cuando no tienes donde caerte muerto, todo el mundo te admira, pero si tienes éxito, te conviertes en un empresario y, si ganas dinero, es que habrás explotado a alguien.\",\"fuente\":\"No especificada\",\"genero_fuente\":\"desconocido\",\"colectivos\":[\"todo el mundo\"],\"verbo\":\"te admira\"},{\"cita_textual\":\"Debemos estar orgullosos de nuestros emprendedores y de los profesores.\",\"fuente\":\"No especificada\",\"genero_fuente\":\"desconocido\",\"colectivos\":[\"emprendedores\",\"profesores\"],\"verbo\":\"Debemos estar\"}],\"num_quotes\":15}\n"
     ]
    },
    {
     "name": "stderr",
     "output_type": "stream",
     "text": [
      "Procesando predicciones:  63%|██████▎   | 63/100 [10:25<08:22, 13.58s/it]"
     ]
    },
    {
     "name": "stdout",
     "output_type": "stream",
     "text": [
      "{\"quotes\":[{\"cita_textual\":\"en Europa, nuestros clientes son de media diez años más jóvenes que los del resto de marcas de automoción, son gente que quiere estar todo el día conectada, que está acostumbrada a compartir las cosas en redes sociales, a estar conectada en casa en la oficina... Por eso nosotros queremos apostar por la conectividad\",\"fuente\":\"Leyre Olavarria\",\"genero_fuente\":\"femenino\",\"colectivos\":[\"clientes\"] ,\"verbo\":\"explica\"},{\"cita_textual\":\"El 70% de las veces que se utiliza Shazam en el coche, se hace a una velocidad superior a los 30 km/h. La conclusión es que la gente está poniendo su vida en peligro\",\"fuente\":\"Leyre Olavarria\",\"genero_fuente\":\"femenino\",\"colectivos\":[\"gente\"] ,\"verbo\":\"justifica\"},{\"cita_textual\":\"Hay un montón de leyes, en torno a eso, está súper legislado lo que se puede y no se puede hacer, y en SEAT vamos mucho más allá y ponemos requisitos adicionales más duros para garantizar que los coches son seguros\",\"fuente\":\"Leyre Olavarria\",\"genero_fuente\":\"femenino\",\"colectivos\":[\"leyes\",\"SEAT\"] ,\"verbo\":\"expresa\"},{\"cita_textual\":\"Una de las cosas, de hecho, por las que apostamos por Alexa es por la voz, porque creemos que en el futuro los asistentes por voz van a tener cada vez más importancia dentro del coche, suponen una forma muy segura de activar cosas\",\"fuente\":\"Leyre Olavarria\",\"genero_fuente\":\"femenino\",\"colectivos\":[] ,\"verbo\":\"expresa\"},{\"cita_textual\":\"El objetivo es llegar a reducir los accidentes a cero, algún día, y que el coche consiga compensar las distracciones o errores humanos al volante\",\"fuente\":\"Leyre Olavarria\",\"genero_fuente\":\"femenino\",\"colectivos\":[\"accidentes\",\"humanos\"] ,\"verbo\":\"resume\"},{\"cita_textual\":\"Si hoy tuviéramos que asegurar algo, esta es nuestra visión de cómo serán los coches en cinco o diez años\",\"fuente\":\"Leyre Olavarria\",\"genero_fuente\":\"femenino\",\"colectivos\":[] ,\"verbo\":\"explica\"},{\"cita_textual\":\"Todo esto implica un reto importante, porque el coche tiene unos ciclos de vida y desarrollo lentos: un coche no puede reiniciarse, no puede descargarse de nuevo el sistema si ocasionalmente no funciona, por lo que tenemos que hacer muchos tests para asegurar que el fallo es cero antes de lanzar un coche como producto\",\"fuente\":\"Leyre Olavarria\",\"genero_fuente\":\"femenino\",\"colectivos\":[] ,\"verbo\":\"prosigue\"}],\"num_quotes\":7}\n"
     ]
    },
    {
     "name": "stderr",
     "output_type": "stream",
     "text": [
      "Procesando predicciones:  64%|██████▍   | 64/100 [10:44<09:14, 15.41s/it]"
     ]
    },
    {
     "name": "stdout",
     "output_type": "stream",
     "text": [
      "{\"quotes\":[{\"cita_textual\":\"«En el caso de las firmas de servicios profesionales, es fácil que uno se pregunte: cuándo hablamos de innovación aquí, ¿de qué estamos hablando?», arranca la misma.\",\"fuente\":\"Julia Prats\",\"genero_fuente\":\"femenino\",\"colectivos\":[],\"verbo\":\"arranca\"},{\"cita_textual\":\"«Se pusieron sobre la mesa ejemplos de talento organizado de distinta forma, porque nos hemos ido mucho hacia modelos industriales, mientras que lo que se demuestra cada día es que esto no tiene por qué ser necesario», opina Julia Prats.\",\"fuente\":\"Julia Prats\",\"genero_fuente\":\"femenino\",\"colectivos\":[],\"verbo\":\"opina\"},{\"cita_textual\":\"«Puede ser, si nos gusta, pero hay otras formas de crear una cultura donde el talento esté más cómodo»,\",\"fuente\":\"Julia Prats\",\"genero_fuente\":\"femenino\",\"colectivos\":[],\"verbo\":\"expresa\"},{\"cita_textual\":\"«En lugar de hacerlo a través de un bufete, lo hacen a través de Obelysc, que lo que hace es recoger el talento que pasa a trabajar cuándo quiere y solo en los proyectos que quiera», plantea Julia Prats.\",\"fuente\":\"Julia Prats\",\"genero_fuente\":\"femenino\",\"colectivos\":[],\"verbo\":\"plantea\"},{\"cita_textual\":\"«Cuando empiezan a nacer estos modelos, lo que se tiene que plantear una firma es cómo retener el talento: la respuesta suele ir en la línea de la innovación».\",\"fuente\":\"Julia Prats\",\"genero_fuente\":\"femenino\",\"colectivos\":[],\"verbo\":\"plantea\"},{\"cita_textual\":\"«En un lado tienes talento bien formado que quiere trabajar cuando quiere; en el otro, que no controlas a tus trabajadores, que puedes necesitarlos y que no estén, que pierdan la sensación de pertenecer a algo y de que quizás pierdan capacidad de escalada dentro de la empresa», expone Prats.\",\"fuente\":\"Julia Prats\",\"genero_fuente\":\"femenino\",\"colectivos\":[],\"verbo\":\"expone\"},{\"cita_textual\":\"«Son 17 diseñadores, que son los dueños de la empresa; de estos, algunos son arquitectos, otros ingenieros de producto, diseñadores de páginas web, de libros, revistas... y que han llevado proyectos como un edificio en Ground 0, en NYC o el museo de John Lehnon», expone Julia Prats.\",\"fuente\":\"Julia Prats\",\"genero_fuente\":\"femenino\",\"colectivos\":[],\"verbo\":\"expone\"},{\"cita_textual\":\"«La empresa está organizada de forma que trabajan en celdas, no comparten equipo, cobran el mismo sueldo cada mes y el mismo bonus a final de año, y cada lunes revisan y someten a votación los proyectos que aceptarán todos»\",\"fuente\":\"Julia Prats\",\"genero_fuente\":\"femenino\",\"colectivos\":[],\"verbo\":\"expone\"},{\"cita_textual\":\"«uno de los problemas más importantes hoy es que se mide todo y se paga según se mide, y lo que pensamos nosotros es que esto tiene mucho que ver con la revolución industrial y la productividad, y muy poco con la creatividad y la innovación, estamos poniendo incentivos sobre cosas que no nacen de ser más productivos»\",\"fuente\":\"Julia Prats\",\"genero_fuente\":\"femenino\",\"colectivos\":[],\"verbo\":\"reflexiona\"}],\"num_quotes\":9}\n"
     ]
    },
    {
     "name": "stderr",
     "output_type": "stream",
     "text": [
      "Procesando predicciones:  65%|██████▌   | 65/100 [10:53<07:54, 13.56s/it]"
     ]
    },
    {
     "name": "stdout",
     "output_type": "stream",
     "text": [
      "{\"quotes\":[{\"cita_textual\":\"una voz\",\"fuente\":\"Miriam González\",\"genero_fuente\":\"femenino\",\"colectivos\":[\"sociedad\",\"siguiente generación\"],\"verbo\":\"denunciar\"},{\"cita_textual\":\"Falta proyecto político.\",\"fuente\":\"Miriam González\",\"genero_fuente\":\"femenino\",\"colectivos\":[\"economía\",\"sociedad\"],\"verbo\":\"decir\"},{\"cita_textual\":\"Los niños no nacen sexistas, entre los 0 y los seis años les pasa la sociedad por encima.\",\"fuente\":\"Miriam González\",\"genero_fuente\":\"femenino\",\"colectivos\":[\"niños\"],\"verbo\":\"decir\"},{\"cita_textual\":\"hay una serie de años que tienes muy poco tiempo para hacer networking.\",\"fuente\":\"Miriam González\",\"genero_fuente\":\"femenino\",\"colectivos\":[\"mujeres\"],\"verbo\":\"juzgar\"},{\"cita_textual\":\"¡Sobre todo es que me gusta cocinar!\",\"fuente\":\"Miriam González\",\"genero_fuente\":\"femenino\",\"colectivos\":[],\"verbo\":\"decir\"},{\"cita_textual\":\"Ellos ven en casa el respeto que hay, que nos consideramos iguales.\",\"fuente\":\"Miriam González\",\"genero_fuente\":\"femenino\",\"colectivos\":[\"hijos\"],\"verbo\":\"decir\"},{\"cita_textual\":\"las mujeres como yo tenemos ayuda\",\"fuente\":\"Miriam González\",\"genero_fuente\":\"femenino\",\"colectivos\":[\"mujeres\"],\"verbo\":\"decir\"},{\"cita_textual\":\"La influencia empieza por encontrar tu voz y atreverse a utilizarla.\",\"fuente\":\"Miriam González\",\"genero_fuente\":\"femenino\",\"colectivos\":[],\"verbo\":\"decir\"},{\"cita_textual\":\"creo que muchos gobiernos españoles se han tomado Cataluña como quien les prestaba los votos\",\"fuente\":\"Miriam González\",\"genero_fuente\":\"femenino\",\"colectivos\":[\"gobiernos españoles\"],\"verbo\":\"decir\"},{\"cita_textual\":\"es absurdo pensar que esto es populismo de calle\",\"fuente\":\"Miriam González\",\"genero_fuente\":\"femenino\",\"colectivos\":[\"gente\"],\"verbo\":\"pensar\"},{\"cita_textual\":\"hay un grado de radicalización... gente llevada por el odio a los europeos\",\"fuente\":\"Miriam González\",\"genero_fuente\":\"femenino\",\"colectivos\":[\"brexiteers\",\"europeos\"],\"verbo\":\"decir\"}],\"num_quotes\":11}\n"
     ]
    },
    {
     "name": "stderr",
     "output_type": "stream",
     "text": [
      "Procesando predicciones:  66%|██████▌   | 66/100 [11:00<06:32, 11.54s/it]"
     ]
    },
    {
     "name": "stdout",
     "output_type": "stream",
     "text": [
      "{\"quotes\":[{\"cita_textual\":\"\\\"Algunos compañeros sugerían que copiaba los ejercicios porque una mujer no es capaz de hacerlos\\\"\",\"fuente\":\"María Pérez Ortiz\",\"genero_fuente\":\"femenino\",\"colectivos\":[\"mujeres\",\"compañeros\"] ,\"verbo\":\"sugerían\"},{\"cita_textual\":\"\\\"Me gusta España y la echo de menos. Quiero volver, pero la investigación allí (en Reino Unido) es tremenda y se me ha abierto un mundo nuevo.\\\"\",\"fuente\":\"María Pérez Ortiz\",\"genero_fuente\":\"femenino\",\"colectivos\":[],\"verbo\":\"quiero volver\"},{\"cita_textual\":\"\\\"Las cosas han ido muy rápido y me he esforzado tanto que he tenido muchas crisis por pensar que era demasiado, por lo que me exigía yo misma. El hecho de que se reconozca tu trabajo a mí me ratifica en que quiero continuar. Es una inyección de energía para seguir con lo que estoy haciendo.\\\"\",\"fuente\":\"María Pérez Ortiz\",\"genero_fuente\":\"femenino\",\"colectivos\":[],\"verbo\":\"me ratifica\"},{\"cita_textual\":\"\\\"No es que no haya tenido una vida personal. He intentado compaginarlo con la familia porque no puedes hacer lo que he hecho yo sin tener a alguien que te apoye y que esté ahí. Pero de cara al futuro no sé si voy a tener que elegir entre una carrera o una familia. Desde el punto de vista de mujer me va a ser complicado.\\\"\",\"fuente\":\"María Pérez Ortiz\",\"genero_fuente\":\"femenino\",\"colectivos\":[\"mujeres\"] ,\"verbo\":\"va a ser complicado\"},{\"cita_textual\":\"\\\"Casi todos los compañeros que llegan a un nivel de catedrático son hombres y tienen una mujer por detrás que ha llevado toda la vida familiar. Esto me preocupa porque yo no voy a tener eso. Quiero ser competitiva en mi área pero al mismo tiempo me gustaría tener una familia y criar niños.\\\"\",\"fuente\":\"María Pérez Ortiz\",\"genero_fuente\":\"femenino\",\"colectivos\":[\"compañeros\",\"hombres\",\"mujeres\"] ,\"verbo\":\"me preocupa\"},{\"cita_textual\":\"\\\"Cuando estudié ingeniería informática, en el primer curso éramos 120 hombres y cuatro mujeres. Los compañeros de la universidad a veces caían en comportamientos un poco machistas. Algunos han sugerido que copiaba los ejercicios de alguien porque una mujer no es capaz de hacerlos por sí misma. La frustración de que la gente piense eso me ha hecho echarle más valentía. El machismo es un problema de España, pero hemos progresado bastante y pronto lo dejaremos atrás.\\\"\",\"fuente\":\"María Pérez Ortiz\",\"genero_fuente\":\"femenino\",\"colectivos\":[\"hombres\",\"mujeres\",\"compañeros\"] ,\"verbo\":\"han sugerido\"}],\"num_quotes\":6}\n"
     ]
    },
    {
     "name": "stderr",
     "output_type": "stream",
     "text": [
      "Procesando predicciones:  67%|██████▋   | 67/100 [11:04<05:06,  9.30s/it]"
     ]
    },
    {
     "name": "stdout",
     "output_type": "stream",
     "text": [
      "{\"quotes\":[{\"cita_textual\":\"¿Puedes decirme tu nombre, Jia Jia?\",\"fuente\":\"Kevin Kelly\",\"genero_fuente\":\"masculino\",\"colectivos\":[],\"verbo\":\"hizo\"},{\"cita_textual\":\"Quizá\",\"fuente\":\"Jia Jia\",\"genero_fuente\":\"femenino\",\"colectivos\":[],\"verbo\":\"respondió\"},{\"cita_textual\":\"No lo sabía\",\"fuente\":\"Jia Jia\",\"genero_fuente\":\"femenino\",\"colectivos\":[],\"verbo\":\"dijo\"},{\"cita_textual\":\"Los problemas se habían debido al retraso con el que llegaban las preguntas al robot a través de Skype.\",\"fuente\":\"Chen Xiaoping\",\"genero_fuente\":\"masculino\",\"colectivos\":[],\"verbo\":\"aseguró\"},{\"cita_textual\":\"Era un secreto\",\"fuente\":\"Jia Jia\",\"genero_fuente\":\"femenino\",\"colectivos\":[],\"verbo\":\"aseguró\"},{\"cita_textual\":\"Quizá\",\"fuente\":\"Jia Jia\",\"genero_fuente\":\"femenino\",\"colectivos\":[],\"verbo\":\"reaccionó\"},{\"cita_textual\":\"Era difícil de contestar\",\"fuente\":\"Jia Jia\",\"genero_fuente\":\"femenino\",\"colectivos\":[],\"verbo\":\"reconoció\"},{\"cita_textual\":\"¿Cuánto estás dispuesta a pagar?\",\"fuente\":\"Jia Jia\",\"genero_fuente\":\"femenino\",\"colectivos\":[],\"verbo\":\"dijo\"}],\"num_quotes\":8}\n"
     ]
    },
    {
     "name": "stderr",
     "output_type": "stream",
     "text": [
      "Procesando predicciones:  68%|██████▊   | 68/100 [11:21<06:07, 11.49s/it]"
     ]
    },
    {
     "name": "stdout",
     "output_type": "stream",
     "text": [
      "{\"quotes\":[{\"cita_textual\":\"Yo llevaba 24 años en Qualcomm y recibí la llamada de Microsoft de forma inesperada. En realidad no tenía previsto cambiarme de puesto de trabajo, pero sentía curiosidad por los movimientos interesantes que Satya estaba llevando a cabo en la compañía. Simplemente fui a escucharle y conocerle un poco mejor, pero la conversación fue tan reveladora sobre el futuro de la nube o de la movilidad para Microsoft que acabó convenciéndome de ocupar el puesto\",\"fuente\":\"Peggy Johnson, vicepresidenta ejecutiva y máxima responsable de desarrollo de negocio en Microsoft\",\"genero_fuente\":\"femenino\",\"colectivos\":[],\"verbo\":\"reconoce\"},{\"cita_textual\":\"Nadella ha conseguido institucionalizar un gran cambio cultural dentro de la compañía que se basa en que debemos tener una visión global de Microsoft, de ver más allá de nuestro día a día y nuestros departamentos para pensar como un único Microsoft\",\"fuente\":\"Peggy Johnson\",\"genero_fuente\":\"femenino\",\"colectivos\":[],\"verbo\":\"añade\"},{\"cita_textual\":\"Al principio de su mandato, Satya cogió a cada uno de los líderes de ingeniería, que estaban hasta ese momento centrados en su división correspondiente, y les animó a pensar como un grupo para poder ver problemas y oportunidades a través de toda la organización\",\"fuente\":\"Peggy Johnson\",\"genero_fuente\":\"femenino\",\"colectivos\":[],\"verbo\":\"cita\"},{\"cita_textual\":\"creo que Microsoft ha tenido el CEO correcto en cada momento, incluso él\",\"fuente\":\"Peggy Johnson\",\"genero_fuente\":\"femenino\",\"colectivos\":[],\"verbo\":\"critica\"},{\"cita_textual\":\"Ahora todos pensamos, creemos y vivimos esta filosofía de una única Microsoft, de ser un único equipo. Todo el mundo en la compañía la siente y la aplica en su día a día... incluso cuando estás en una reunión con dos grupos defendiendo distintas posturas, ahora hay alguien que dice: 'ey, tenemos que pensar como una única Microsoft'. Es realmente especial\",\"fuente\":\"Peggy Johnson\",\"genero_fuente\":\"femenino\",\"colectivos\":[],\"verbo\":\"destaca\"},{\"cita_textual\":\"Nunca antes habíamos hecho nada en el campo de los coches autónomos, pero resulta que teníamos mucha tecnología ya desarrollada que podía ayudar a los fabricantes de automóviles a avanzar en este camino, incorporando conectividad y productividad en los vehículos\",\"fuente\":\"Peggy Johnson\",\"genero_fuente\":\"femenino\",\"colectivos\":[],\"verbo\":\"defiende\"},{\"cita_textual\":\"Sabemos que no lo podemos hacer todo internamente, por eso hemos sellado numerosas alianzas con diversos actores de la industria, algunas de ellas bastantes sorprendentes, como cuando hemos llegado a acuerdos con empresas que hasta ese momento habían sido -y siguen siendo- rivales, como Dropbox\",\"fuente\":\"Peggy Johnson\",\"genero_fuente\":\"femenino\",\"colectivos\":[],\"verbo\":\"aclara\"},{\"cita_textual\":\"Siempre hemos tenido la capacidad de invertir en todo tipo de compañías, y así lo hemos hecho los últimos 40 años. Pero nunca habíamos tenido un programa de inversión en empresas de reciente creación o en etapas muy tempranas de su evolución\",\"fuente\":\"Peggy Johnson\",\"genero_fuente\":\"femenino\",\"colectivos\":[],\"verbo\":\"explica\"},{\"cita_textual\":\"Ahora lo tenemos con Microsoft Ventures, una herramienta que cuando la creamos suscitó algunas quejas de gente que decía que no tenía sentido porque dentro se podía hacer lo mismo. Lo que no tenían en cuenta es que nos estábamos perdiendo la conversación que se estaba produciendo en ese nivel de desarrollo al carecer de un fondo apropiado para ese ecosistema y, en consecuencia, podíamos estarnos quedando fuera de ciertas tecnologías o tendencias que podrían ayudarnos en nuestro negocio y soluciones actuales\",\"fuente\":\"Peggy Johnson\",\"genero_fuente\":\"femenino\",\"colectivos\":[],\"verbo\":\"explica\"},{\"cita_textual\":\"Un ejemplo de que no nos fijamos en el tamaño o el nombre de la compañía, sino en su valor, es Acompli: una app que nos permitió rediseñar y lanzar nuestro propio Outlook para iOS con una experiencia de usuario que no habíamos visto hasta ese momento\",\"fuente\":\"Peggy Johnson\",\"genero_fuente\":\"femenino\",\"colectivos\":[],\"verbo\":\"comenta\"}],\"num_quotes\":10}\n"
     ]
    },
    {
     "name": "stderr",
     "output_type": "stream",
     "text": [
      "Procesando predicciones:  69%|██████▉   | 69/100 [11:30<05:37, 10.89s/it]"
     ]
    },
    {
     "name": "stdout",
     "output_type": "stream",
     "text": [
      "{\"quotes\":[{\"cita_textual\":\"«empezando por las gafas. La Realidad Virtual es una experiencia totalmente inmersiva, mientras los hologramas se introducen en la realidad del usuario y le permiten interactuar a dos niveles simultáneamente»\",\"fuente\":\"Dona Sarkar\",\"genero_fuente\":\"femenino\",\"colectivos\":[\"realidad virtual\",\"hologramas\"] ,\"verbo\":\"habla\"},{\"cita_textual\":\"«Te permite manejar los elementos e interactuar con ellos»\",\"fuente\":\"Dona Sarkar\",\"genero_fuente\":\"femenino\",\"colectivos\":[\"hologramas\"] ,\"verbo\":\"avanza\"},{\"cita_textual\":\"«no hay corazones suficientes para que todos los estudiantes diseccionen uno»\",\"fuente\":\"Dona Sarkar\",\"genero_fuente\":\"femenino\",\"colectivos\":[\"estudiantes\",\"medicina\"] ,\"verbo\":\"dice\"},{\"cita_textual\":\"«veremos su aplicación a través de todas las industrias»\",\"fuente\":\"Dona Sarkar\",\"genero_fuente\":\"femenino\",\"colectivos\":[\"industrias\"] ,\"verbo\":\"asegura\"},{\"cita_textual\":\"«con ellas reviven experiencias pasadas, reactivan y ejercitan la zona del cerebro relacionada con la memoria»\",\"fuente\":\"Dona Sarkar\",\"genero_fuente\":\"femenino\",\"colectivos\":[\"enfermedades relacionadas con la memoria\",\"Alzheimer\"] ,\"verbo\":\"asegura\"},{\"cita_textual\":\"«Está demostrado que para el 80% de la población el recuerdo visual es más potente que la memoria. Funcionamos así»\",\"fuente\":\"Dona Sarkar\",\"genero_fuente\":\"femenino\",\"colectivos\":[\"población\"] ,\"verbo\":\"resalta\"},{\"cita_textual\":\"«Será toda una revolución»\",\"fuente\":\"Dona Sarkar\",\"genero_fuente\":\"femenino\",\"colectivos\":[\"educación\"] ,\"verbo\":\"asegura\"},{\"cita_textual\":\"«todavía no somos capaces de hacer que el usuario sienta el peso cuando lo manipula»\",\"fuente\":\"Dona Sarkar\",\"genero_fuente\":\"femenino\",\"colectivos\":[\"usuarios\"] ,\"verbo\":\"apunta\"},{\"cita_textual\":\"«la tendencia es que lo abarque todo»\",\"fuente\":\"Dona Sarkar\",\"genero_fuente\":\"femenino\",\"colectivos\":[\"sociedad\"] ,\"verbo\":\"asegura\"},{\"cita_textual\":\"«para evitar que las profecías de las películas de ciencia ficción se cumplan»\",\"fuente\":\"Dona Sarkar\",\"genero_fuente\":\"femenino\",\"colectivos\":[\"películas de ciencia ficción\"] ,\"verbo\":\"dice\"},{\"cita_textual\":\"«son los desarrolladores quienes deben establecer las normas de uso»\",\"fuente\":\"Dona Sarkar\",\"genero_fuente\":\"femenino\",\"colectivos\":[\"desarrolladores\"] ,\"verbo\":\"considera\"},{\"cita_textual\":\"«asistiremos a una gran revolución con los asistentes virtuales»\",\"fuente\":\"Dona Sarkar\",\"genero_fuente\":\"femenino\",\"colectivos\":[\"asistentes virtuales\"] ,\"verbo\":\"apunta\"}],\"num_quotes\":12}\n"
     ]
    },
    {
     "name": "stderr",
     "output_type": "stream",
     "text": [
      "Procesando predicciones:  70%|███████   | 70/100 [11:41<05:22, 10.74s/it]"
     ]
    },
    {
     "name": "stdout",
     "output_type": "stream",
     "text": [
      "{\"quotes\":[{\"cita_textual\":\"Era una cosa que pensábamos cuando éramos adolescentes, aunque no fuésemos los típicos chiquillos ni por asomo\",\"fuente\":\"Alaska\",\"genero_fuente\":\"femenino\",\"colectivos\":[\"artistas\",\"personas de mediana edad\"] ,\"verbo\":\"explica\"},{\"cita_textual\":\"Nuestra meta era crecer, ser viejos y llegar a la edad de Fernando Fernán Gómez\",\"fuente\":\"Alaska\",\"genero_fuente\":\"femenino\",\"colectivos\":[],\"verbo\":\"explica\"},{\"cita_textual\":\"Es muy fácil cuando la cabeza te acompaña. Salvo eso, crecer no tiene más que cosas buenas\",\"fuente\":\"Alaska\",\"genero_fuente\":\"femenino\",\"colectivos\":[],\"verbo\":\"explica\"},{\"cita_textual\":\"No somos, de esos artistas nostálgicos que miramos al pasado, pues en todo momento hemos hecho lo que hemos querido\",\"fuente\":\"Alaska\",\"genero_fuente\":\"femenino\",\"colectivos\":[\"artistas\"] ,\"verbo\":\"añade\"},{\"cita_textual\":\"Es algo mundial, de cada momento histórico. Pero es verdad que, ahora, por el carácter que tenemos somos mucho más enardecidos pues enseguida montamos una bronca\",\"fuente\":\"Alaska\",\"genero_fuente\":\"femenino\",\"colectivos\":[],\"verbo\":\"afirma\"},{\"cita_textual\":\"Aunque si bien todavía esa idea de inteligencia artificial no ha llegado, todos los seres humanos metemos la pata por mezclar pensamientos racionales con odio y pena. Cosa que con robots no ocurría\",\"fuente\":\"Alaska\",\"genero_fuente\":\"femenino\",\"colectivos\":[],\"verbo\":\"afirma\"}],\"num_quotes\":6}\n"
     ]
    },
    {
     "name": "stderr",
     "output_type": "stream",
     "text": [
      "Procesando predicciones:  71%|███████   | 71/100 [11:46<04:24,  9.10s/it]"
     ]
    },
    {
     "name": "stdout",
     "output_type": "stream",
     "text": [
      "{\"quotes\":[{\"cita_textual\":\"No es un premio personal sino a un proyecto que está creando trabajo cualificado con data scientist y que retiene el talento en España\",\"fuente\":\"Carme Artigas\",\"genero_fuente\":\"femenino\",\"colectivos\":[],\"verbo\":\"dice\"},{\"cita_textual\":\"somos pocas mujeres, en general, en todas partes\",\"fuente\":\"Carme Artigas\",\"genero_fuente\":\"femenino\",\"colectivos\":[\"mujeres\"],\"verbo\":\"reconoce\"},{\"cita_textual\":\"todo ello supone un freno al emprendimiento femenino\",\"fuente\":\"Carme Artigas\",\"genero_fuente\":\"femenino\",\"colectivos\":[\"emprendimiento femenino\"],\"verbo\":\"razona\"},{\"cita_textual\":\"Su valor de negocio de los datos llega en tres ámbitos: genera nuevas fuentes de ingresos a raíz de la personalización, reduce el fraude y riesgo y es más eficiente en términos operativos\",\"fuente\":\"Carme Artigas\",\"genero_fuente\":\"femenino\",\"colectivos\":[],\"verbo\":\"enumera\"},{\"cita_textual\":\"pero no se está extrayendo inteligencia. No se están analizando patrones de comportamiento y ni siquiera se guardan esos datos\",\"fuente\":\"Carme Artigas\",\"genero_fuente\":\"femenino\",\"colectivos\":[],\"verbo\":\"asegura\"},{\"cita_textual\":\"aquí nos falta una parte de cultura colaborativa y una dimensión de incentivos que promuevan la creación de empresas\",\"fuente\":\"Carme Artigas\",\"genero_fuente\":\"femenino\",\"colectivos\":[],\"verbo\":\"sostiene\"},{\"cita_textual\":\"Cualquier persona con una idea tiene las tecnologías disponibles\",\"fuente\":\"Carme Artigas\",\"genero_fuente\":\"femenino\",\"colectivos\":[],\"verbo\":\"asegura\"}],\"num_quotes\":7}\n"
     ]
    },
    {
     "name": "stderr",
     "output_type": "stream",
     "text": [
      "Procesando predicciones:  72%|███████▏  | 72/100 [11:55<04:15,  9.12s/it]"
     ]
    },
    {
     "name": "stdout",
     "output_type": "stream",
     "text": [
      "{\"quotes\":[{\"cita_textual\":\"Quiere cambiar la dislexia, una dificultad en el aprendizaje de la lectura o la escritura, frecuentemente asociada con trastornos de la coordinación motora.\",\"fuente\":\"Luz Rello\",\"genero_fuente\":\"femenino\",\"colectivos\":[\"disléxicos\"] ,\"verbo\":\"quiere\"},{\"cita_textual\":\"Una detección precoz y proactiva antes de que se convierta en un problema puede evitar bajo rendimiento escolar y otros efectos como la baja autoestima.\",\"fuente\":\"Luz Rello\",\"genero_fuente\":\"femenino\",\"colectivos\":[\"disléxicos\"] ,\"verbo\":\"puede evitar\"},{\"cita_textual\":\"Es más difícil detectar en lenguas con ortografías transparentes, como la nuestra, porque sus manifestaciones son más sutiles que en las de otras con ortografías opacas como el inglés.\",\"fuente\":\"Luz Rello\",\"genero_fuente\":\"femenino\",\"colectivos\":[\"disléxicos\"] ,\"verbo\":\"es más difícil detectar\"},{\"cita_textual\":\"Sabemos que tiene un origen neurológico y que, en el 75% de los casos, es hereditaria.\",\"fuente\":\"Luz Rello\",\"genero_fuente\":\"femenino\",\"colectivos\":[\"disléxicos\"] ,\"verbo\":\"sabemos\"},{\"cita_textual\":\"Sí, faltan modelos y por eso, en Change Dyslexia, estamos entrevistando para nuestro blog a personas normales con dislexia -no hace falta ser Steven Spielberg- pero que han logrado ser lo que querían ser, da igual el trabajo que tengan.\",\"fuente\":\"Luz Rello\",\"genero_fuente\":\"femenino\",\"colectivos\":[\"disléxicos\"] ,\"verbo\":\"faltan modelos\"},{\"cita_textual\":\"Vamos por 20.000 pruebas realizadas. Nos llegan relatos de colegios, profesionales y de familias que ya la usan.\",\"fuente\":\"Luz Rello\",\"genero_fuente\":\"femenino\",\"colectivos\":[\"colegios\",\"profesionales\",\"familias\"] ,\"verbo\":\"nos llegan relatos\"},{\"cita_textual\":\"Pero siempre me gusta dejar claro que eso es un apoyo al tratamiento, que nunca sustituye la labor que hace cada terapeuta.\",\"fuente\":\"Luz Rello\",\"genero_fuente\":\"femenino\",\"colectivos\":[\"terapeutas\"] ,\"verbo\":\"me gusta dejar claro\"}],\"num_quotes\":7}\n"
     ]
    },
    {
     "name": "stderr",
     "output_type": "stream",
     "text": [
      "Procesando predicciones:  73%|███████▎  | 73/100 [12:15<05:27, 12.14s/it]"
     ]
    },
    {
     "name": "stdout",
     "output_type": "stream",
     "text": [
      "{\"quotes\":[{\"cita_textual\":\"En los últimos años se ha producido una especie de erosión de lo que es un experto y una desconfianza o confusión general en la ciencia\",\"fuente\":\"Laura Sprechmann, CEO de Nobel Media\",\"genero_fuente\":\"femenino\",\"colectivos\":[\"científicos\"] ,\"verbo\":\"afirma\"},{\"cita_textual\":\"Hemos tenido propaganda que suscitaba desconfianza hacia los científicos antes. Pero ahora tenemos los canales para comunicar y difundir todo de una manera totalmente distinta a como era hace 20, 50 o 100 años\",\"fuente\":\"Laura Sprechmann, CEO de Nobel Media\",\"genero_fuente\":\"femenino\",\"colectivos\":[\"científicos\"] ,\"verbo\":\"afirma\"},{\"cita_textual\":\"La ciencia está muy clara, pero mucha gente está divulgando información que no es cierta. Los métodos científicos hoy en día son cuestionados y se trata de una situación difícil teniendo en cuenta que el método científico está basado en el hecho de que siempre se deben cuestionar las cosas\",\"fuente\":\"Laura Sprechmann, CEO de Nobel Media\",\"genero_fuente\":\"femenino\",\"colectivos\":[\"científicos\"] ,\"verbo\":\"afirma\"},{\"cita_textual\":\"Tenemos la obligación de contribuir con el conocimiento y fortalecer a las personas que quieren escuchar y aprender\",\"fuente\":\"Laura Sprechmann, CEO de Nobel Media\",\"genero_fuente\":\"femenino\",\"colectivos\":[\"humanidad\"] ,\"verbo\":\"sostiene\"},{\"cita_textual\":\"Se hablará sobre las pensiones, aspectos sociales como el cuidado de los mayores, la biología del envejecimiento, enfermedades como el cáncer o la demencia o cómo los robots pueden asistir a los mayores\",\"fuente\":\"Mario Vargas Llosa, Premio Nobel de Literatura\",\"genero_fuente\":\"masculino\",\"colectivos\":[\"adultos mayores\"] ,\"verbo\":\"afirma\"},{\"cita_textual\":\"La edad de jubilación también es un debate, ya que tenemos vidas más saludables y hay ciertos trabajos donde no es necesario detenerse a cierta edad porque no requieren un esfuerzo físico\",\"fuente\":\"Laura Sprechmann, CEO de Nobel Media\",\"genero_fuente\":\"femenino\",\"colectivos\":[\"trabajadores\"] ,\"verbo\":\"afirma\"},{\"cita_textual\":\"Tienen historias personales tremendas. Si oyes que un premio Nobel de Química cuando iba a la escuela, sacaba malas notas en química y tú tienes 13 años, estás en el colegio y tienes problemas con la asignatura, pensarás que nada es imposible. Es la importancia de fallar y equivocarse\",\"fuente\":\"Laura Sprechmann, CEO de Nobel Media\",\"genero_fuente\":\"femenino\",\"colectivos\":[\"jóvenes\"] ,\"verbo\":\"cuenta\"},{\"cita_textual\":\"No podemos cambiar la historia, pero sí podemos prestar atención en que por ejemplo haya un equilibrio en las ponentes que acuden a conferencias. No es aceptable poner la excusa de que no hay suficientes [mujeres], porque sí que hay muchas\",\"fuente\":\"Laura Sprechmann, CEO de Nobel Media\",\"genero_fuente\":\"femenino\",\"colectivos\":[\"mujeres\",\"científicas\"] ,\"verbo\":\"afirma\"},{\"cita_textual\":\"Es complicado que una chica se sienta identificada con una científica galardonada, ya que la inmensa mayoría de los premios Nobel de ciencia han sido recibidos por hombres\",\"fuente\":\"Laura Sprechmann, CEO de Nobel Media\",\"genero_fuente\":\"femenino\",\"colectivos\":[\"mujeres\",\"científicas\"] ,\"verbo\":\"asegura\"},{\"cita_textual\":\"Hay una desigualdad en las promociones. Esto no ocurre solo en la ciencia y hay varias explicaciones\",\"fuente\":\"Laura Sprechmann, CEO de Nobel Media\",\"genero_fuente\":\"femenino\",\"colectivos\":[\"científicos\"] ,\"verbo\":\"asegura\"}],\"num_quotes\":11}\n"
     ]
    },
    {
     "name": "stderr",
     "output_type": "stream",
     "text": [
      "Procesando predicciones:  74%|███████▍  | 74/100 [12:23<04:50, 11.18s/it]"
     ]
    },
    {
     "name": "stdout",
     "output_type": "stream",
     "text": [
      "{\"quotes\":[{\"cita_textual\":\"\\\"Espero que Kara nunca lo vea\\\"\",\"fuente\":\"Sheryl Sandberg\",\"genero_fuente\":\"femenino\",\"colectivos\":[],\"verbo\":\"contó\"},{\"cita_textual\":\"\\\"Cada vez que habla conmigo dice algo que lo mete en un lío\\\"\",\"fuente\":\"Kara Swisher\",\"genero_fuente\":\"femenino\",\"colectivos\":[],\"verbo\":\"mantiene\"},{\"cita_textual\":\"\\\"Todos los grandes inventos tuvieron un comienzo feo\\\"\",\"fuente\":\"Kara Swisher\",\"genero_fuente\":\"femenino\",\"colectivos\":[],\"verbo\":\"mantiene\"},{\"cita_textual\":\"\\\"Es un insulto a los niños\\\"\",\"fuente\":\"Kara Swisher\",\"genero_fuente\":\"femenino\",\"colectivos\":[],\"verbo\":\"calificó\"},{\"cita_textual\":\"\\\"Espero que sí. Creo que ahora están empezando a comprender lo que han hecho. Han causado un desastre\\\"\",\"fuente\":\"Kara Swisher\",\"genero_fuente\":\"femenino\",\"colectivos\":[],\"verbo\":\"respondió\"},{\"cita_textual\":\"\\\"Están pensando en ello, sobre todo los demócratas\\\"\",\"fuente\":\"Kara Swisher\",\"genero_fuente\":\"femenino\",\"colectivos\":[\"demócratas\"],\"verbo\":\"dijo\"},{\"cita_textual\":\"\\\"Nos pasamos el día hablando de la locura del muro en la frontera y eso absorbe todo el oxígeno\\\"\",\"fuente\":\"Kara Swisher\",\"genero_fuente\":\"femenino\",\"colectivos\":[],\"verbo\":\"explicó\"},{\"cita_textual\":\"\\\"Trump es un megáfono, solo grita\\\"\",\"fuente\":\"Kara Swisher\",\"genero_fuente\":\"femenino\",\"colectivos\":[],\"verbo\":\"opina\"},{\"cita_textual\":\"\\\"Ella nada en el río; él chapotea haciendo ruido\\\"\",\"fuente\":\"Kara Swisher\",\"genero_fuente\":\"femenino\",\"colectivos\":[],\"verbo\":\"comparó\"},{\"cita_textual\":\"\\\"Lo que ella hace es mucho más poderoso\\\"\",\"fuente\":\"Kara Swisher\",\"genero_fuente\":\"femenino\",\"colectivos\":[],\"verbo\":\"dijo\"},{\"cita_textual\":\"\\\"Para algunos de ellos, la autorreflexión es muy difícil\\\"\",\"fuente\":\"Kara Swisher\",\"genero_fuente\":\"femenino\",\"colectivos\":[],\"verbo\":\"creo\"},{\"cita_textual\":\"\\\"Eso me alentó mucho\\\"\",\"fuente\":\"Kara Swisher\",\"genero_fuente\":\"femenino\",\"colectivos\":[],\"verbo\":\"respondió\"},{\"cita_textual\":\"\\\"Es una adicción, no hay duda, como el azúcar u otra cosa\\\"\",\"fuente\":\"Kara Swisher\",\"genero_fuente\":\"femenino\",\"colectivos\":[],\"verbo\":\"afirmó\"},{\"cita_textual\":\"\\\"Las personas ricas podrán optar por salirse y pagar\\\"\",\"fuente\":\"Kara Swisher\",\"genero_fuente\":\"femenino\",\"colectivos\":[\"personas ricas\"],\"verbo\":\"dijo\"},{\"cita_textual\":\"\\\"No han surgido muchas nuevas empresas\\\"\",\"fuente\":\"Kara Swisher\",\"genero_fuente\":\"femenino\",\"colectivos\":[],\"verbo\":\"afirmó\"}],\"num_quotes\":15}\n"
     ]
    },
    {
     "name": "stderr",
     "output_type": "stream",
     "text": [
      "Procesando predicciones:  75%|███████▌  | 75/100 [12:32<04:21, 10.44s/it]"
     ]
    },
    {
     "name": "stdout",
     "output_type": "stream",
     "text": [
      "{\"quotes\":[{\"cita_textual\":\"A emprender es muy difícil, pero es muy bueno que la palabra emprendimiento sea algo aspiracional.\",\"fuente\":\"Sofía Benjumea\",\"genero_fuente\":\"femenino\",\"colectivos\":[\"emprendedores\"],\"verbo\":\"habla\"},{\"cita_textual\":\"La colaboración es fundamental, no existe el concepto de “mi idea” ni el miedo a pensar que me copiarán.\",\"fuente\":\"Sofía Benjumea\",\"genero_fuente\":\"femenino\",\"colectivos\":[\"miembros del campus\"],\"verbo\":\"habla\"},{\"cita_textual\":\"Emprender supone un riesgo enorme, implica lanzarse a una idea y apostar absolutamente todo.\",\"fuente\":\"Sofía Benjumea\",\"genero_fuente\":\"femenino\",\"colectivos\":[\"emprendedores\"],\"verbo\":\"comenta\"},{\"cita_textual\":\"Al final, no es un trabajo de 8 horas, es continuo, es un estilo de vida.\",\"fuente\":\"Sofía Benjumea\",\"genero_fuente\":\"femenino\",\"colectivos\":[\"emprendedores\"],\"verbo\":\"comenta\"},{\"cita_textual\":\"Es fundamental rodearse del mejor equipo y hay que atreverse a pensar en grande.\",\"fuente\":\"Sofía Benjumea\",\"genero_fuente\":\"femenino\",\"colectivos\":[\"emprendedores\"],\"verbo\":\"ofrece\"},{\"cita_textual\":\"No tenemos nada que envidiar de los emprendedores de Estados Unidos o de Israel, debemos permitirnos pensar en global.\",\"fuente\":\"Sofía Benjumea\",\"genero_fuente\":\"femenino\",\"colectivos\":[\"emprendedores\"],\"verbo\":\"comenta\"},{\"cita_textual\":\"Ahora tiene un equipo de más de 20 personas y vende centenares de miles de libros en toda Europa y Estados Unidos.\",\"fuente\":\"Cristina Rodríguez\",\"genero_fuente\":\"femenino\",\"colectivos\":[\"equipo de Mumablue\"],\"verbo\":\"comenta\"},{\"cita_textual\":\"Tuve que reinventarme, empecé haciendo un curso de Google y monté una empresa, BuscoExtra, para intentar ayudar al pequeño comercio.\",\"fuente\":\"Alejandro Valero\",\"genero_fuente\":\"masculino\",\"colectivos\":[\"pequeño comercio\"],\"verbo\":\"comenta\"}],\"num_quotes\":8}\n"
     ]
    },
    {
     "name": "stderr",
     "output_type": "stream",
     "text": [
      "Procesando predicciones:  76%|███████▌  | 76/100 [12:38<03:34,  8.92s/it]"
     ]
    },
    {
     "name": "stdout",
     "output_type": "stream",
     "text": [
      "{\"quotes\":[{\"cita_textual\":\"En educación hay una gran infrainversión globalmente. Faltan 40.000 millones de dólares [unos 35.200 millones de euros] por año en el mundo\",\"fuente\":\"Audrey Azoulay\",\"genero_fuente\":\"femenino\",\"colectivos\":[\"educadores\",\"niñas\",\"mujeres\"] ,\"verbo\":\"dice\"},{\"cita_textual\":\"La salida de EE UU es una mala noticia. Todos sabemos que hay un movimiento político que propicia su retirada de los organismos multilaterales de cooperación\",\"fuente\":\"Audrey Azoulay\",\"genero_fuente\":\"femenino\",\"colectivos\":[\"organismos multilaterales\"] ,\"verbo\":\"afirma\"},{\"cita_textual\":\"Sí, y da igual que sea una mujer o un hombre quien esté al frente. Esas desigualdades son un grave hándicap para el mundo\",\"fuente\":\"Audrey Azoulay\",\"genero_fuente\":\"femenino\",\"colectivos\":[\"mujeres\"] ,\"verbo\":\"responde\"},{\"cita_textual\":\"Yo creo que no se le puede pedir a la ola feminista ser de entrada una ola razonada y tranquila, porque está respondiendo a desigualdades y situaciones injustas que vienen de siglos atrás\",\"fuente\":\"Audrey Azoulay\",\"genero_fuente\":\"femenino\",\"colectivos\":[\"feministas\"] ,\"verbo\":\"creo\"},{\"cita_textual\":\"Por supuesto. Y lo peor de todo es la autocensura, que tiene que ver con la vida profesional de las mujeres, la conciliación, la culpabilización…\",\"fuente\":\"Audrey Azoulay\",\"genero_fuente\":\"femenino\",\"colectivos\":[\"mujeres\"] ,\"verbo\":\"afirma\"}],\"num_quotes\":5}\n"
     ]
    },
    {
     "name": "stderr",
     "output_type": "stream",
     "text": [
      "Procesando predicciones:  77%|███████▋  | 77/100 [12:54<04:13, 11.04s/it]"
     ]
    },
    {
     "name": "stdout",
     "output_type": "stream",
     "text": [
      "{\"quotes\":[{\"cita_textual\":\"Por favor, empresas de tecnología, os lo imploro, si sois lo suficientemente inteligentes como para daros cuenta de que estoy embarazada o de que he dado a luz, entonces seguramente sois también lo bastante inteligentes como para daros cuenta de que mi bebé murió y mostrarme así publicidad en consecuencia, o tal vez, solo tal vez, no mostrarme ninguna.\",\"fuente\":\"Gillian Brockell\",\"genero_fuente\":\"femenino\",\"colectivos\":[],\"verbo\":\"imploro\"},{\"cita_textual\":\"Cada anuncio que recibí tras llegar a casa del hospital \\\"con los brazos más vacíos del mundo\\\" se convirtió en un cruel recordatorio del bebé que jamás tendría.\",\"fuente\":\"Gillian Brockell\",\"genero_fuente\":\"femenino\",\"colectivos\":[],\"verbo\":\"explica\"},{\"cita_textual\":\"Sé que sabíais que estaba embarazada. Es culpa mía\",\"fuente\":\"Gillian Brockell\",\"genero_fuente\":\"femenino\",\"colectivos\":[],\"verbo\":\"comienza\"},{\"cita_textual\":\"Qué estúpida fui\",\"fuente\":\"Gillian Brockell\",\"genero_fuente\":\"femenino\",\"colectivos\":[],\"verbo\":\"se lamenta\"},{\"cita_textual\":\"Apuesto a que Amazon incluso os dijo la fecha es que salía de cuentas, el 24 de enero\",\"fuente\":\"Gillian Brockell\",\"genero_fuente\":\"femenino\",\"colectivos\":[],\"verbo\":\"continúa\"},{\"cita_textual\":\"¿Acaso no visteis cómo buscaba en Google '¿esto son [contracciones de] Braxton Hicks?' o 'el bebé no se mueve'? ¿Acaso no detectasteis mis tres días en silencio, poco común para una usuaria como yo que tuitea frecuentemente?\",\"fuente\":\"Gillian Brockell\",\"genero_fuente\":\"femenino\",\"colectivos\":[],\"verbo\":\"pregunta\"},{\"cita_textual\":\"¿Acaso no es algo que podáis rastrear?\",\"fuente\":\"Gillian Brockell\",\"genero_fuente\":\"femenino\",\"colectivos\":[],\"verbo\":\"escribe\"},{\"cita_textual\":\"Así que cuando millones de personas con el corazón roto se ven forzadas a hacer clic en 'no quiero ver este anuncio' y a contestar a vuestro '¿por qué?' con el cruel pero cierto 'no es relevante para mí', ¿sabéis lo que decide vuestro algoritmo, empresas tecnológicas? Decide que ya he dado a luz, asume un resultado feliz y te ahoga con anuncios de sujetadores para amamantar (yo tengo hojas de repollo en mis pechos porque esto es lo mejor que la medicina puede ofrecer para cortar la leche), trucos para que el bebé duerma toda la noche (daría lo que fuera por escucharlo llorar) y los mejores carritos que se adaptan al crecimiento de tu bebé (el mío pesará siempre 1,8 kilos)\",\"fuente\":\"Gillian Brockell\",\"genero_fuente\":\"femenino\",\"colectivos\":[\"millones de personas con el corazón roto\"],\"verbo\":\"critica\"},{\"cita_textual\":\"A su juicio, si las empresas que son \\\"lo suficientemente inteligentes como para daros cuenta de que estoy embarazada\\\", también deberían serlo como para saber que su bebé murió.\",\"fuente\":\"Gillian Brockell\",\"genero_fuente\":\"femenino\",\"colectivos\":[],\"verbo\":\"implora\"},{\"cita_textual\":\"Lo siento mucho. Experimenté un aborto involuntario hace un año y medio y tuve gran parte de la misma experiencia. Eliminé las aplicaciones relacionadas con el bebé de mi teléfono, borré mi caché... pero aún me recuerdan con frecuencia el bebé que no tengo\",\"fuente\":\"Desconocido (mujer que responde)\",\"genero_fuente\":\"femenino\",\"colectivos\":[],\"verbo\":\"responde\"},{\"cita_textual\":\"Lamento mucho su pérdida y su dolorosa experiencia con nuestros productos. Tenemos una configuración que permite bloquear anuncios. Todavía necesita mejoras, pero sepa que estamos trabajando en ello y agradecemos sus comentarios\",\"fuente\":\"Rob Goldman, vicepresidente de publicidad en Facebook\",\"genero_fuente\":\"masculino\",\"colectivos\":[],\"verbo\":\"respondió\"},{\"cita_textual\":\"Yo sabía que había una forma de cambiar los ajustes de publicidad en mi Facebook y traté de hacerlo días después, sin éxito\",\"fuente\":\"Gillian Brockell\",\"genero_fuente\":\"femenino\",\"colectivos\":[],\"verbo\":\"responde\"},{\"cita_textual\":\"Nunca pedimos que se activaran los anuncios de embarazo o paternidad. Estas compañías de tecnología lo hicieron basándose en la información que compartimos. Lo que estoy pidiendo es que, del mismo modo, las desactiven\",\"fuente\":\"Gillian Brockell\",\"genero_fuente\":\"femenino\",\"colectivos\":[],\"verbo\":\"concluye\"}],\"num_quotes\":15}\n"
     ]
    },
    {
     "name": "stderr",
     "output_type": "stream",
     "text": [
      "Procesando predicciones:  78%|███████▊  | 78/100 [13:00<03:32,  9.65s/it]"
     ]
    },
    {
     "name": "stdout",
     "output_type": "stream",
     "text": [
      "{\"quotes\":[{\"cita_textual\":\"Queremos un ciclo formativo que empiece con Ética en 4º de la ESO, siga con Filosofía en 1º e Historia de la Filosofía en 2º.\",\"fuente\":\"María José Guerra\",\"genero_fuente\":\"femenino\",\"colectivos\":[],\"verbo\":\"afirmó\"},{\"cita_textual\":\"A excepción de la Comunidad de Madrid y de Murcia, en todas las comunidades ha habido ya avances para incorporar el ciclo de Filosofía.\",\"fuente\":\"María José Guerra\",\"genero_fuente\":\"femenino\",\"colectivos\":[],\"verbo\":\"afirmó\"},{\"cita_textual\":\"Esta es una medida a coste cero, porque las plantillas están.\",\"fuente\":\"María José Guerra\",\"genero_fuente\":\"femenino\",\"colectivos\":[],\"verbo\":\"afirmó\"},{\"cita_textual\":\"No puedes dejar una asignatura descontextualizada.\",\"fuente\":\"María José Guerra\",\"genero_fuente\":\"femenino\",\"colectivos\":[],\"verbo\":\"afirmó\"},{\"cita_textual\":\"Nos estamos jugando que se construya la autonomía de juicio del individuo, la capacidad argumentativa.\",\"fuente\":\"María José Guerra\",\"genero_fuente\":\"femenino\",\"colectivos\":[],\"verbo\":\"afirmó\"},{\"cita_textual\":\"Muchas iniciativas de innovación pedagógica.\",\"fuente\":\"María José Guerra\",\"genero_fuente\":\"femenino\",\"colectivos\":[],\"verbo\":\"afirmó\"},{\"cita_textual\":\"Hay que hacer un esfuerzo para que las claves del siglo XX sean accesibles en el XXI, introducir otras voces.\",\"fuente\":\"María José Guerra\",\"genero_fuente\":\"femenino\",\"colectivos\":[],\"verbo\":\"afirmó\"},{\"cita_textual\":\"Y es importante la disertación, que muestra la madurez intelectual.\",\"fuente\":\"María José Guerra\",\"genero_fuente\":\"femenino\",\"colectivos\":[],\"verbo\":\"afirmó\"},{\"cita_textual\":\"Además, hay que incorporar las preocupaciones de la era digital, las fake news o la inteligencia artificial.\",\"fuente\":\"María José Guerra\",\"genero_fuente\":\"femenino\",\"colectivos\":[],\"verbo\":\"afirmó\"},{\"cita_textual\":\"Lo de que en Filosofía no salimos de los clásicos griegos es un tópico.\",\"fuente\":\"María José Guerra\",\"genero_fuente\":\"femenino\",\"colectivos\":[],\"verbo\":\"afirmó\"}],\"num_quotes\":10}\n"
     ]
    },
    {
     "name": "stderr",
     "output_type": "stream",
     "text": [
      "Procesando predicciones:  79%|███████▉  | 79/100 [13:08<03:14,  9.24s/it]"
     ]
    },
    {
     "name": "stdout",
     "output_type": "stream",
     "text": [
      "{\"quotes\":[{\"cita_textual\":\"Una mujer allí entonces era un unicornio\",\"fuente\":\"Margaret Boden\",\"genero_fuente\":\"femenino\",\"colectivos\":[\"mujeres\",\"inteligencia artificial\"] ,\"verbo\":\"recuerda\"},{\"cita_textual\":\"quizá siempre habrá más hombres que mujeres en la inteligencia artificial (IA)\",\"fuente\":\"Margaret Boden\",\"genero_fuente\":\"femenino\",\"colectivos\":[\"hombres\",\"mujeres\",\"inteligencia artificial\"] ,\"verbo\":\"dice\"},{\"cita_textual\":\"La gente tiene muchas ideas equivocadas. Hay una moda repentina con la IA.\",\"fuente\":\"Margaret Boden\",\"genero_fuente\":\"femenino\",\"colectivos\":[\"gente\",\"inteligencia artificial\"] ,\"verbo\":\"dice\"},{\"cita_textual\":\"Esto pasará pronto, seguro antes de 2030, en el mundo de la salud y probablemente en el financiero.\",\"fuente\":\"Margaret Boden\",\"genero_fuente\":\"femenino\",\"colectivos\":[\"gente\",\"médicos\",\"financiero\",\"salud\"] ,\"verbo\":\"dice\"},{\"cita_textual\":\"Lo que espero es que no provoque que nos satisfaga menos la interacción humana.\",\"fuente\":\"Margaret Boden\",\"genero_fuente\":\"femenino\",\"colectivos\":[\"humanos\"] ,\"verbo\":\"dice\"},{\"cita_textual\":\"Mi problema es creer que un sistema de IA puede ser un compañero genuino.\",\"fuente\":\"Margaret Boden\",\"genero_fuente\":\"femenino\",\"colectivos\":[\"ancianos\"] ,\"verbo\":\"dice\"},{\"cita_textual\":\"Podría hacerlo de maneras de usar la IA para ayudar a gente en residencias.\",\"fuente\":\"Margaret Boden\",\"genero_fuente\":\"femenino\",\"colectivos\":[\"gente\",\"residentes\"] ,\"verbo\":\"dice\"},{\"cita_textual\":\"Es verdad. Siempre habrá crimen, crueldad.\",\"fuente\":\"Margaret Boden\",\"genero_fuente\":\"femenino\",\"colectivos\":[\"sociedad\"] ,\"verbo\":\"dice\"},{\"cita_textual\":\"Soy consciente de que vendrán problemas enormes. Y no todos son solucionables.\",\"fuente\":\"Margaret Boden\",\"genero_fuente\":\"femenino\",\"colectivos\":[\"sociedad\"] ,\"verbo\":\"dice\"},{\"cita_textual\":\"Sí, hoy al menos no son objetos increíbles, unicornios, que es lo que solíamos ser.\",\"fuente\":\"Margaret Boden\",\"genero_fuente\":\"femenino\",\"colectivos\":[\"mujeres\",\"ciencia\"] ,\"verbo\":\"dice\"},{\"cita_textual\":\"Quizá siempre habrá más hombres que mujeres en IA.\",\"fuente\":\"Margaret Boden\",\"genero_fuente\":\"femenino\",\"colectivos\":[\"hombres\",\"mujeres\",\"inteligencia artificial\"] ,\"verbo\":\"dice\"},{\"cita_textual\":\"La IA sería muy distinta con más mujeres punteras.\",\"fuente\":\"Margaret Boden\",\"genero_fuente\":\"femenino\",\"colectivos\":[\"mujeres\",\"inteligencia artificial\"] ,\"verbo\":\"dice\"}],\"num_quotes\":12}\n"
     ]
    },
    {
     "name": "stderr",
     "output_type": "stream",
     "text": [
      "Procesando predicciones:  80%|████████  | 80/100 [13:23<03:37, 10.90s/it]"
     ]
    },
    {
     "name": "stdout",
     "output_type": "stream",
     "text": [
      "{\"quotes\":[{\"cita_textual\":\"El precio medio entre ir al gimnasio e ir al psicoanalista\",\"fuente\":\"Samanta Schweblin\",\"genero_fuente\":\"femenino\",\"colectivos\":[],\"verbo\":\"decir\"},{\"cita_textual\":\"Algo a medio camino entre un teléfono y un peluche\",\"fuente\":\"Samanta Schweblin\",\"genero_fuente\":\"femenino\",\"colectivos\":[],\"verbo\":\"describir\"},{\"cita_textual\":\"La gente se toma la novela como algo de ciencia ficción, pero toda la tecnología que sale ya existe\",\"fuente\":\"Samanta Schweblin\",\"genero_fuente\":\"femenino\",\"colectivos\":[],\"verbo\":\"afirmar\"},{\"cita_textual\":\"Desde hace muchas generaciones pensamos la tecnología como este mal gigantesco pensante. La Inteligencia Artificial, un Gobierno supremo, una mega empresa…. No digo que eso no vaya a pasar, pero hoy por hoy ese mal no está en la tecnología en sí, sino que está en el otro\",\"fuente\":\"Samanta Schweblin\",\"genero_fuente\":\"femenino\",\"colectivos\":[],\"verbo\":\"añadir\"},{\"cita_textual\":\"Me fascina cómo la gente se toma la novela como algo de ciencia ficción, cuando todo lo que sale puede ser real, la tecnología ya existe\",\"fuente\":\"Samanta Schweblin\",\"genero_fuente\":\"femenino\",\"colectivos\":[],\"verbo\":\"confesar\"},{\"cita_textual\":\"El ejercicio de Kentukis en todas sus historias es disparar los interrogantes que tienen que ver con los límites de esas tecnologías. ¿Hasta qué punto es o no legal, moral, correcto?\",\"fuente\":\"Samanta Schweblin\",\"genero_fuente\":\"femenino\",\"colectivos\":[],\"verbo\":\"establecer\"},{\"cita_textual\":\"Hay gente dispuesta a pagar por vivir la pobreza unas horas, hacer turismo sin moverse de sus casas, pasear por la India sin una sola diarrea, un chico sin piernas que quiere un amo que practique deportes extremos, pero también quien buscaba pasearse como muñeco toda la noche sobre los papeles de un estudio de abogados en Doha\",\"fuente\":\"hacker\",\"genero_fuente\":\"desconocido\",\"colectivos\":[],\"verbo\":\"esgrimir\"},{\"cita_textual\":\"Las nuevas tecnologías llegan antes de la regulación, que al final es decidir quién saca beneficio de ellas. Hasta entonces, se pueden hacer cosas maravillosas con ellas. También terribles\",\"fuente\":\"Samanta Schweblin\",\"genero_fuente\":\"femenino\",\"colectivos\":[],\"verbo\":\"contar\"},{\"cita_textual\":\"tengo pocos amigos, y si me encierro en mi casa nadie llama a mi puerta\",\"fuente\":\"Samanta Schweblin\",\"genero_fuente\":\"femenino\",\"colectivos\":[],\"verbo\":\"confesar\"},{\"cita_textual\":\"Mi español está manchado de otros españoles. Mis amigos ya no son solo porteños, hay mexicanos, chilenos, guatemaltecos, venezolanos…\",\"fuente\":\"Samanta Schweblin\",\"genero_fuente\":\"femenino\",\"colectivos\":[],\"verbo\":\"decir\"},{\"cita_textual\":\"Las tecnologías han cambiado ya todas las artes. Música, cine, teatro… ¡y lo ha hecho para bien! Ha hecho una herramienta más preciosa, exquisita y sensitiva\",\"fuente\":\"Samanta Schweblin\",\"genero_fuente\":\"femenino\",\"colectivos\":[],\"verbo\":\"exclamar\"},{\"cita_textual\":\"En el único lugar que no pudo meterse es en la literatura. Creo que como sociedad es de vital importancia tener un espacio donde funcione la ficción. Me parece algo curativo, ordenador, el espacio en que nos pensamos, nos probamos como individuos y volvemos a nuestra vida ilesos y con una información vital\",\"fuente\":\"Samanta Schweblin\",\"genero_fuente\":\"femenino\",\"colectivos\":[],\"verbo\":\"decir\"}],\"num_quotes\":15}\n"
     ]
    },
    {
     "name": "stderr",
     "output_type": "stream",
     "text": [
      "Procesando predicciones:  81%|████████  | 81/100 [13:36<03:39, 11.55s/it]"
     ]
    },
    {
     "name": "stdout",
     "output_type": "stream",
     "text": [
      "{\"quotes\":[{\"cita_textual\":\"\\\"Me parece bien, hay que escucharlo como si fuera una sinfonía. Es un disco para bailar, claro, pero lleva mensajes muy importantes\\\".\",\"fuente\":\"Madonna\",\"genero_fuente\":\"femenino\",\"colectivos\":[\"artistas\"] ,\"verbo\":\"comento\"},{\"cita_textual\":\"\\\"Eso es una estupidez. Estábamos en contacto diario con MTV [cadena de vídeos musicales], que ponía todo tipo de objeciones a ciertas imágenes. Jonas iba realizando distintos montajes que llegaban a Nueva York y eran rechazados. Yo estaba dispuesta a pelear, pero llegó un momento en que recordé que tenía una familia\\\".\",\"fuente\":\"Madonna\",\"genero_fuente\":\"femenino\",\"colectivos\":[\"artistas\",\"promotores\",\"medios\"] ,\"verbo\":\"se encrespa\"},{\"cita_textual\":\"\\\"Vi lo que sufrieron las Dixie Chicks [grupo tejano de country] cuando dijeron que les daba vergüenza ser del mismo Estado que el presidente Bush. Sencillamente, se convirtieron en las mujeres más odiadas de EE UU. Yo decidí que mis dos hijos no iban a pasar por esa situación. También hubiera sido terrible para la carrera de Guy [Ritchie, su actual marido, cineasta]\\\".\",\"fuente\":\"Madonna\",\"genero_fuente\":\"femenino\",\"colectivos\":[\"artistas\",\"madres\",\"familias\"] ,\"verbo\":\"decidí\"},{\"cita_textual\":\"\\\"¿Estáis listos para comenzar una revolución, estáis listos para cambiar la historia?\\\"\",\"fuente\":\"Madonna\",\"genero_fuente\":\"femenino\",\"colectivos\":[\"artistas\",\"público\"] ,\"verbo\":\"tomó el papel\"},{\"cita_textual\":\"\\\"Cuando estallaron las bombas me sentí devastada. Me pareció que aquello iba directamente contra Live 8. Durante el día del concierto, Londres parecía haberse convertido en una comunidad convencida de que se podía ayudar a África. Dos días después, la gente iba aterrada por la calle mirando a los demás como enemigos en potencia\\\".\",\"fuente\":\"Madonna\",\"genero_fuente\":\"femenino\",\"colectivos\":[\"artistas\",\"público\"] ,\"verbo\":\"se sentí\"},{\"cita_textual\":\"\\\"No me gustan las ciudades, pero me gusta Nueva York\\\".\",\"fuente\":\"Madonna\",\"genero_fuente\":\"femenino\",\"colectivos\":[] ,\"verbo\":\"canto\"},{\"cita_textual\":\"\\\"Mi hija de nueve años es una asombrosa fuente de información. Y está Stuart [Price, actual mano derecha musical] para los sonidos menos obvios. Él, aparte de sus producciones y sus grupos, ejerce de pinchadiscos y está muy al tanto de lo que funciona\\\".\",\"fuente\":\"Madonna\",\"genero_fuente\":\"femenino\",\"colectivos\":[\"familias\",\"hijos\"] ,\"verbo\":\"dijo\"},{\"cita_textual\":\"\\\"Es una medida de higiene. No quiero que Lourdes y Rocco se envenenen con la basura que ofrecen los medios. Lo que deben saber sobre el mundo se lo enseñarán en el colegio o se lo contaremos nosotros\\\".\",\"fuente\":\"Madonna\",\"genero_fuente\":\"femenino\",\"colectivos\":[\"madres\",\"familias\"] ,\"verbo\":\"presume\"},{\"cita_textual\":\"\\\"Muchos! Cada día es un nuevo reto personal y artístico. Cuanto más crees saber, más te das cuenta de que no sabes mucho\\\".\",\"fuente\":\"Madonna\",\"genero_fuente\":\"femenino\",\"colectivos\":[] ,\"verbo\":\"confiesa\"}],\"num_quotes\":8}\n"
     ]
    },
    {
     "name": "stderr",
     "output_type": "stream",
     "text": [
      "Procesando predicciones:  82%|████████▏ | 82/100 [13:46<03:17, 10.97s/it]"
     ]
    },
    {
     "name": "stdout",
     "output_type": "stream",
     "text": [
      "{\"quotes\":[{\"cita_textual\":\"el sexismo la empujó a cambiar de carrera\",\"fuente\":\"Meredith Broussard\",\"genero_fuente\":\"femenino\",\"colectivos\":[\"mujeres\"] ,\"verbo\":\"dijo\"},{\"cita_textual\":\"Nunca va a haber una innovación tecnológica que nos aparte de los problemas esenciales que arrastra la naturaleza humana, por el simple hecho de que sus diseñadores son humanos\",\"fuente\":\"Meredith Broussard\",\"genero_fuente\":\"femenino\",\"colectivos\":[],\"verbo\":\"cuenta\"},{\"cita_textual\":\"la forma en la que la gente habla de la tecnología no tiene nada que ver con la realidad\",\"fuente\":\"Meredith Broussard\",\"genero_fuente\":\"femenino\",\"colectivos\":[],\"verbo\":\"dijo\"},{\"cita_textual\":\"entender esos límites nos ayudará a tomar decisiones más acertadas\",\"fuente\":\"Meredith Broussard\",\"genero_fuente\":\"femenino\",\"colectivos\":[],\"verbo\":\"dijo\"},{\"cita_textual\":\"los ordenadores no son más objetivos que las personas ni más imparciales\",\"fuente\":\"Meredith Broussard\",\"genero_fuente\":\"femenino\",\"colectivos\":[],\"verbo\":\"dijo\"},{\"cita_textual\":\"los gobiernos compartan sus datos en plataformas abiertas no quiere decir que no haya corrupción\",\"fuente\":\"Meredith Broussard\",\"genero_fuente\":\"femenino\",\"colectivos\":[],\"verbo\":\"dijo\"},{\"cita_textual\":\"los algoritmos son un buen ejemplo\",\"fuente\":\"Meredith Broussard\",\"genero_fuente\":\"femenino\",\"colectivos\":[],\"verbo\":\"dijo\"},{\"cita_textual\":\"si miras los puestos más altos entre los matemáticos verás que no hay mujeres, no porque no sean capaces, sino porque hay estructuras de poder que están manteniendo a las mujeres y a los negros fuera del poder\",\"fuente\":\"Meredith Broussard\",\"genero_fuente\":\"femenino\",\"colectivos\":[\"mujeres\",\"afroamericanos\"] ,\"verbo\":\"dijo\"},{\"cita_textual\":\"las STEM (siglas en inglés de Ciencia, Tecnología, Ingeniería y Matemáticas) se asocian con una cultura de normas masculinizadas\",\"fuente\":\"Meredith Broussard\",\"genero_fuente\":\"femenino\",\"colectivos\":[\"mujeres\"] ,\"verbo\":\"dijo\"},{\"cita_textual\":\"no lo digo yo, lo publicaron los investigadores Shane Bench y Heather Lench en 2015\",\"fuente\":\"Meredith Broussard\",\"genero_fuente\":\"femenino\",\"colectivos\":[\"mujeres\"] ,\"verbo\":\"dijo\"},{\"cita_textual\":\"en mi libro hablo de un caso concreto\",\"fuente\":\"Meredith Broussard\",\"genero_fuente\":\"femenino\",\"colectivos\":[],\"verbo\":\"dijo\"},{\"cita_textual\":\"no se dio cuenta de que la mayoría de las imágenes consideradas como buenos selfis correspondían a mujeres blancas jóvenes\",\"fuente\":\"Meredith Broussard\",\"genero_fuente\":\"femenino\",\"colectivos\":[\"mujeres\"] ,\"verbo\":\"dijo\"},{\"cita_textual\":\"es un error muy común entre investigadores en el campo de la programación\",\"fuente\":\"Meredith Broussard\",\"genero_fuente\":\"femenino\",\"colectivos\":[],\"verbo\":\"dijo\"}],\"num_quotes\":12}\n"
     ]
    },
    {
     "name": "stderr",
     "output_type": "stream",
     "text": [
      "Procesando predicciones:  83%|████████▎ | 83/100 [13:51<02:38,  9.33s/it]"
     ]
    },
    {
     "name": "stdout",
     "output_type": "stream",
     "text": [
      "{\"quotes\":[{\"cita_textual\":\"\\\"A finales de los 80 desarrollé junto a mi equipo un método de computación que analiza todos los datos y saca patrones sin relevar los datos que ha usado para llegar a esas conclusiones.\\\"\",\"fuente\":\"Goldwasser\",\"genero_fuente\":\"femenino\",\"colectivos\":[],\"verbo\":\"desarrollé\"},{\"cita_textual\":\"\\\"La gente está entusiasmada con las posibilidades que les da la tecnología, hasta el punto de cegarles sobre los peligros.\\\"\",\"fuente\":\"Goldwasser\",\"genero_fuente\":\"femenino\",\"colectivos\":[],\"verbo\":\"está entusiasmada\"},{\"cita_textual\":\"\\\"No es un pensamiento paranoico, ya hay evidencias.\\\"\",\"fuente\":\"Goldwasser\",\"genero_fuente\":\"femenino\",\"colectivos\":[],\"verbo\":\"hay\"},{\"cita_textual\":\"\\\"Queremos atraer a personas de todo el mundo y enseñarles criptografía.\\\"\",\"fuente\":\"Goldwasser\",\"genero_fuente\":\"femenino\",\"colectivos\":[],\"verbo\":\"queremos\"},{\"cita_textual\":\"\\\"Antes de usar el machine learning y la inteligencia artificial para sustituir a los humanos en la toma de decisiones hay que sentar una regulación.\\\"\",\"fuente\":\"Goldwasser\",\"genero_fuente\":\"femenino\",\"colectivos\":[],\"verbo\":\"hay que sentar\"},{\"cita_textual\":\"\\\"La ley debe fijar si se deben usar estos programas para juzgar a los ciudadanos.\\\"\",\"fuente\":\"Goldwasser\",\"genero_fuente\":\"femenino\",\"colectivos\":[],\"verbo\":\"debe fijar\"}],\"num_quotes\":6}\n"
     ]
    },
    {
     "name": "stderr",
     "output_type": "stream",
     "text": [
      "Procesando predicciones:  84%|████████▍ | 84/100 [13:59<02:22,  8.92s/it]"
     ]
    },
    {
     "name": "stdout",
     "output_type": "stream",
     "text": [
      "{\"quotes\":[{\"cita_textual\":\"Nadie sabe cómo funcionan ni los criterios que se utilizan para entrenar a esas máquinas\",\"fuente\":\"la experta\",\"genero_fuente\":\"femenino\",\"colectivos\":[],\"verbo\":\"denuncia\"},{\"cita_textual\":\"El mundo digital está reproduciendo las desigualdades del mundo real.\",\"fuente\":\"Crawford\",\"genero_fuente\":\"femenino\",\"colectivos\":[],\"verbo\":\"afirma\"},{\"cita_textual\":\"Los medios publicaron el pasado marzo cómo se está usando por parte de la administración un algoritmo para decidir en qué casos una persona debe recibir atención en el hogar. De repente se cortaron muchas de esas ayudas, y ancianos que habían estado recibiendo cuidados en casa durante años se quedaron sin ella. ¿Qué había cambiado? El algoritmo no tenía en cuenta el contexto y tomaba malas decisiones.\",\"fuente\":\"R.\",\"genero_fuente\":\"desconocido\",\"colectivos\":[\"personas\",\"ancianos\"] ,\"verbo\":\"explica\"},{\"cita_textual\":\"Una de las más populares y más usadas por las tecnológicas es Image Net, que contiene 13.000 imágenes. En el 78% de ellas aparecen hombres y el 84% de ellas, blancos.\",\"fuente\":\"R.\",\"genero_fuente\":\"desconocido\",\"colectivos\":[\"hombres\",\"blancos\"] ,\"verbo\":\"menciona\"},{\"cita_textual\":\"En Microsoft lo hemos hecho. En nuestro estudio Man is to Computer Programmer as Woman is to Homemaker? detectamos que los hombres se asocian habitualmente con profesiones como políticos o programadores, y las mujeres con modelo, ama de casa, madre...\",\"fuente\":\"R.\",\"genero_fuente\":\"desconocido\",\"colectivos\":[\"hombres\",\"mujeres\"] ,\"verbo\":\"declara\"},{\"cita_textual\":\"Hay que entender cómo funcionan los sistemas de inteligencia artificial.\",\"fuente\":\"R.\",\"genero_fuente\":\"desconocido\",\"colectivos\":[],\"verbo\":\"señala\"},{\"cita_textual\":\"En uno de los informes que publicamos el año pasado en AI Now Research Institute, lanzamos una recomendación crucial: que los gobiernos dejen de usar sistemas algorítmicos cerrados.\",\"fuente\":\"R.\",\"genero_fuente\":\"desconocido\",\"colectivos\":[],\"verbo\":\"recomienda\"},{\"cita_textual\":\"Estamos probando con el ayuntamiento de Nueva York, es la primera ciudad en implementarlo de Estados Unidos.\",\"fuente\":\"R.\",\"genero_fuente\":\"desconocido\",\"colectivos\":[],\"verbo\":\"informa\"},{\"cita_textual\":\"¿Cree que ha llegado el momento de desmitificar algunas creencias sobre la inteligencia artificial, como que las máquinas podrán tener conciencia?\",\"fuente\":\"R.\",\"genero_fuente\":\"desconocido\",\"colectivos\":[],\"verbo\":\"pregunta\"}],\"num_quotes\":10}\n"
     ]
    },
    {
     "name": "stderr",
     "output_type": "stream",
     "text": [
      "Procesando predicciones:  85%|████████▌ | 85/100 [14:13<02:36, 10.45s/it]"
     ]
    },
    {
     "name": "stdout",
     "output_type": "stream",
     "text": [
      "{\"quotes\":[{\"cita_textual\":\"La gente en Silicon Valley nos ve majos porque no ganamos miles de millones. En Europa creo que somos más respetados. Seguro que también cometemos muchos errores, pero trabajamos por el bien común, para beneficiar a todos los humanos.\",\"fuente\":\"Mitchell Baker\",\"genero_fuente\":\"femenino\",\"colectivos\":[\"humanos\"],\"verbo\":\"dice\"},{\"cita_textual\":\"Sí, es un tema difícil de regular y difícil de regular bien. Pero por algo tenemos que empezar.\",\"fuente\":\"Mitchell Baker\",\"genero_fuente\":\"femenino\",\"colectivos\":[],\"verbo\":\"responde\"},{\"cita_textual\":\"Sí, la tecnología se mueve a una escala gigante. Casi no hay nada que un solo humano pueda hacer solo. Tenemos que trabajar a través de nuestros Gobiernos y la gente tiene que tomar iniciativas en grupo.\",\"fuente\":\"Mitchell Baker\",\"genero_fuente\":\"femenino\",\"colectivos\":[\"Gobiernos\",\"gente\"],\"verbo\":\"responde\"},{\"cita_textual\":\"No me puedo proteger a mí misma si tú publicas cosas sobre mí; no puedo hacer nada. Necesitamos un cambio sistemático.\",\"fuente\":\"Mitchell Baker\",\"genero_fuente\":\"femenino\",\"colectivos\":[],\"verbo\":\"dice\"},{\"cita_textual\":\"Es un tema clave, al mismo tiempo que Mozilla cree que se tiene que potenciar en Internet el impulso humano para crear.\",\"fuente\":\"Mitchell Baker\",\"genero_fuente\":\"femenino\",\"colectivos\":[\"impulso humano\"],\"verbo\":\"responde\"},{\"cita_textual\":\"Algunas de las cosas disponibles en línea no ayudan a crear una vida mejor, simplemente forman parte del entretenimiento.\",\"fuente\":\"Mitchell Baker\",\"genero_fuente\":\"femenino\",\"colectivos\":[],\"verbo\":\"dice\"},{\"cita_textual\":\"Ya había pedido disculpas anteriormente, pero quizá es una buena señal. Sin embargo, tienen que resolver otras cosas.\",\"fuente\":\"Mitchell Baker\",\"genero_fuente\":\"femenino\",\"colectivos\":[],\"verbo\":\"responde\"},{\"cita_textual\":\"Es tentador porque estas tecnologías hacen la función de muy buenos canguros. Tus hijos pueden estar en la parte trasera del coche y todo está en calma y en paz. Lo primero es encontrar la calidad y el compromiso con los niños. Es más importante que nunca.\",\"fuente\":\"Mitchell Baker\",\"genero_fuente\":\"femenino\",\"colectivos\":[\"niños\"],\"verbo\":\"responde\"},{\"cita_textual\":\"La relación con las máquinas a través de la voz será mucho más común de lo que nos podemos imaginar.\",\"fuente\":\"Mitchell Baker\",\"genero_fuente\":\"femenino\",\"colectivos\":[],\"verbo\":\"dice\"},{\"cita_textual\":\"La idea de un asistente personal [virtual] no es exactamente natural para muchos de nosotros, que hemos crecido sin sirvientes.\",\"fuente\":\"Mitchell Baker\",\"genero_fuente\":\"femenino\",\"colectivos\":[],\"verbo\":\"dice\"},{\"cita_textual\":\"Sé lo que pasa a las mujeres que están en el sector y no es bonito. Hacen falta técnicas para acabar con esta situación sesgada. Por ejemplo, si un mismo trabajo lo firma un hombre o una mujer, es valorado de forma distinta. Esto se tiene que parar.\",\"fuente\":\"Mitchell Baker\",\"genero_fuente\":\"femenino\",\"colectivos\":[\"mujeres\",\"hombres\"],\"verbo\":\"dice\"}],\"num_quotes\":12}\n"
     ]
    },
    {
     "name": "stderr",
     "output_type": "stream",
     "text": [
      "Procesando predicciones:  86%|████████▌ | 86/100 [14:32<03:01, 12.97s/it]"
     ]
    },
    {
     "name": "stdout",
     "output_type": "stream",
     "text": [
      "{\"quotes\":[{\"cita_textual\":\"Si no se intentan políticas voluntaristas, el mercado inmobiliario puede acabar con esta clase media que no podrá vivir en el centro de las ciudades\",\"fuente\":\"Anne Hidalgo\",\"genero_fuente\":\"femenino\",\"colectivos\":[\"clase media\"] ,\"verbo\":\"dijo\"},{\"cita_textual\":\"El pueblo español estuvo a la altura, y la Transición se vio en toda Europa como un fenómeno democrático, pacífico.\",\"fuente\":\"Anne Hidalgo\",\"genero_fuente\":\"femenino\",\"colectivos\":[\"pueblo español\"] ,\"verbo\":\"dijo\"},{\"cita_textual\":\"Soy una mujer de izquierdas, pero hoy España es un país democrático.\",\"fuente\":\"Anne Hidalgo\",\"genero_fuente\":\"femenino\",\"colectivos\":[\"mujeres de izquierdas\",\"España\"] ,\"verbo\":\"dijo\"},{\"cita_textual\":\"Esto de los nacionalismos no lo entiendo mucho.\",\"fuente\":\"Anne Hidalgo\",\"genero_fuente\":\"femenino\",\"colectivos\":[\"nacionalismos\"] ,\"verbo\":\"dijo\"},{\"cita_textual\":\"El riesgo de populismo existe en España como en otros países de Europa y más allá, pero España es un país democrático, con sus instituciones.\",\"fuente\":\"Anne Hidalgo\",\"genero_fuente\":\"femenino\",\"colectivos\":[\"pueblo español\",\"Europa\"] ,\"verbo\":\"dijo\"},{\"cita_textual\":\"Las ciudades son un freno al populismo.\",\"fuente\":\"Anne Hidalgo\",\"genero_fuente\":\"femenino\",\"colectivos\":[\"ciudades\"] ,\"verbo\":\"dijo\"},{\"cita_textual\":\"Las críticas a mi gestión vienen de la extrema derecha, de la oposición de derecha y de ‘lobbies’ industriales. No de quienes viven en París.\",\"fuente\":\"Anne Hidalgo\",\"genero_fuente\":\"femenino\",\"colectivos\":[\"extrema derecha\",\"oposición\",\"lobbies industriales\"] ,\"verbo\":\"dijo\"},{\"cita_textual\":\"Hay que tener en cuenta cómo se organizan hoy las polémicas, especialmente a través de grupos muy organizados en las redes sociales.\",\"fuente\":\"Anne Hidalgo\",\"genero_fuente\":\"femenino\",\"colectivos\":[\"grupos organizados\",\"redes sociales\"] ,\"verbo\":\"dijo\"},{\"cita_textual\":\"Yo quiero interesarme en los nueve que toman transporte público.\",\"fuente\":\"Anne Hidalgo\",\"genero_fuente\":\"femenino\",\"colectivos\":[\"usuarias del transporte público\"] ,\"verbo\":\"dijo\"},{\"cita_textual\":\"Es una causa fundamental para el planeta: la del cambio climático y de la calidad del aire\",\"fuente\":\"Anne Hidalgo\",\"genero_fuente\":\"femenino\",\"colectivos\":[\"planeta\",\"cambio climático\"] ,\"verbo\":\"dijo\"},{\"cita_textual\":\"Cada alcalde tiene que trabajar y proponer a los ciudadanos una posibilidad de vivir bien en una ciudad limpia, donde no haya problemas.\",\"fuente\":\"Anne Hidalgo\",\"genero_fuente\":\"femenino\",\"colectivos\":[\"alcaldes\",\"ciudadanos\"] ,\"verbo\":\"dijo\"},{\"cita_textual\":\"La extrema derecha. ¿Por qué? Porque es muy viral.\",\"fuente\":\"Anne Hidalgo\",\"genero_fuente\":\"femenino\",\"colectivos\":[\"extrema derecha\"] ,\"verbo\":\"dijo\"},{\"cita_textual\":\"Es un poco extraño, un poco extraño.\",\"fuente\":\"Anne Hidalgo\",\"genero_fuente\":\"femenino\",\"colectivos\":[] ,\"verbo\":\"dijo\"},{\"cita_textual\":\"Estoy aquí para actuar, no para comentar.\",\"fuente\":\"Anne Hidalgo\",\"genero_fuente\":\"femenino\",\"colectivos\":[] ,\"verbo\":\"dijo\"},{\"cita_textual\":\"París está ganando con un equipo que ha planteado los temas de la ecología, del humanismo, de la innovación y de lo social como objetivos más importantes, que nos mueven a nosotros y a los parisienses.\",\"fuente\":\"Anne Hidalgo\",\"genero_fuente\":\"femenino\",\"colectivos\":[\"parisienses\"] ,\"verbo\":\"dijo\"}],\"num_quotes\":14}\n"
     ]
    },
    {
     "name": "stderr",
     "output_type": "stream",
     "text": [
      "Procesando predicciones:  87%|████████▋ | 87/100 [14:41<02:32, 11.76s/it]"
     ]
    },
    {
     "name": "stdout",
     "output_type": "stream",
     "text": [
      "{\"quotes\":[{\"cita_textual\":\"en Europa, a diferencia de EE UU, no se premian los fracasos, especialmente desde la administración pública\",\"fuente\":\"Daria Tataj, asesora de alto nivel del Comisario para Investigación e Innovación de la UE\",\"genero_fuente\":\"femenino\",\"colectivos\":[],\"verbo\":\"considera\"},{\"cita_textual\":\"La generación de los jóvenes actuales tiene que crear oportunidades para ellos mismos. No pueden contar con el Estado o el sistema de pensiones\",\"fuente\":\"Daria Tataj, asesora de alto nivel del Comisario para Investigación e Innovación de la UE\",\"genero_fuente\":\"femenino\",\"colectivos\":[],\"verbo\":\"\"},{\"cita_textual\":\"no se puede estigmatizar un proyecto porque no produjo los resultados esperados\",\"fuente\":\"Daria Tataj, asesora de alto nivel del Comisario para Investigación e Innovación de la UE\",\"genero_fuente\":\"femenino\",\"colectivos\":[],\"verbo\":\"\"},{\"cita_textual\":\"No hay modelos que cortapegar para toda Europa. Cada país tiene su propia especificidad. Y en España cada región tiene unas condiciones distintas\",\"fuente\":\"Daria Tataj, asesora de alto nivel del Comisario para Investigación e Innovación de la UE\",\"genero_fuente\":\"femenino\",\"colectivos\":[],\"verbo\":\"\"},{\"cita_textual\":\"es evidente que estamos infrautilizando un talento increíble de muchas mujeres\",\"fuente\":\"Daria Tataj, asesora de alto nivel del Comisario para Investigación e Innovación de la UE\",\"genero_fuente\":\"femenino\",\"colectivos\":[],\"verbo\":\"\"},{\"cita_textual\":\"Creo que Europa necesita a corto plazo políticas de discriminación positiva que permitan que el cambio se produzca más rápido\",\"fuente\":\"Daria Tataj, asesora de alto nivel del Comisario para Investigación e Innovación de la UE\",\"genero_fuente\":\"femenino\",\"colectivos\":[],\"verbo\":\"\"},{\"cita_textual\":\"el emprendimiento no ha estado entre los principales elementos del pensamiento estratégico y político en Europa. Fue una elección política\",\"fuente\":\"Daria Tataj, asesora de alto nivel del Comisario para Investigación e Innovación de la UE\",\"genero_fuente\":\"femenino\",\"colectivos\":[],\"verbo\":\"\"}],\"num_quotes\":7}\n"
     ]
    },
    {
     "name": "stderr",
     "output_type": "stream",
     "text": [
      "Procesando predicciones:  88%|████████▊ | 88/100 [14:46<01:56,  9.69s/it]"
     ]
    },
    {
     "name": "stdout",
     "output_type": "stream",
     "text": [
      "{\"quotes\":[{\"cita_textual\":\"Quiero que la gente entienda lo que es la inteligencia artificial, no es algo a lo le debemos de temer, es algo que nosotros mismo estamos creando y tenemos que involucrarnos en hacer esas hipótesis que queremos que las computadoras resuelvan por nosotros\",\"fuente\":\"Lucy Lawrence\",\"genero_fuente\":\"femenino\",\"colectivos\":[\"gente\"] ,\"verbo\":\"explica\"},{\"cita_textual\":\"Tenemos que darle valores y estructura a estas máquinas\",\"fuente\":\"Lucy Lawrence\",\"genero_fuente\":\"femenino\",\"colectivos\":[],\"verbo\":\"apunta\"},{\"cita_textual\":\"Es curioso pero con toda la nueva tecnología que ha entrado al mercado, las primeras personas que lo adoptan son criminales\",\"fuente\":\"Lucy Lawrence\",\"genero_fuente\":\"femenino\",\"colectivos\":[\"criminales\"],\"verbo\":\"señala\"},{\"cita_textual\":\"Me interesa mucho la idea de poder regresar dentro de mi propio cuerpo para ver en qué punto nos hemos desarrollado. Si en realidad todo lo que estamos haciendo ahora, que está creciendo de forma exponencial, rinde frutos y saber a qué punto vamos a llegar en 100 años, quiero regresar a verlo\",\"fuente\":\"Lucy Lawrence\",\"genero_fuente\":\"femenino\",\"colectivos\":[],\"verbo\":\"comenta\"}],\"num_quotes\":4}\n"
     ]
    },
    {
     "name": "stderr",
     "output_type": "stream",
     "text": [
      "Procesando predicciones:  89%|████████▉ | 89/100 [14:52<01:36,  8.75s/it]"
     ]
    },
    {
     "name": "stdout",
     "output_type": "stream",
     "text": [
      "{\"quotes\":[{\"cita_textual\":\"“Ya con eso se nos dice que no podemos ser líderes”\",\"fuente\":\"Cristina Aranda\",\"genero_fuente\":\"femenino\",\"colectivos\":[],\"verbo\":\"explica\"},{\"cita_textual\":\"“Si no tenemos nombres de inventoras y de científicas en los libros de texto, ¿cómo vamos a querer ser una de ellas?”\",\"fuente\":\"Cristina Aranda\",\"genero_fuente\":\"femenino\",\"colectivos\":[],\"verbo\":\"afirma\"},{\"cita_textual\":\"“En las películas, series y medios de comunicación el informático suele ser un chico friki, con pocas habilidades sociales, gafas y poca higiene personal. Pero no hay que olvidar que todas las disciplinas usan tecnología: desde el periodismo hasta la medicina”\",\"fuente\":\"Nuria Oliver\",\"genero_fuente\":\"femenino\",\"colectivos\":[],\"verbo\":\"explica\"},{\"cita_textual\":\"“Si a los 15 años una chica duda entre hacer una ingeniería u otra carrera, siempre se puede apuntar a uno de estos cursos”\",\"fuente\":\"Asunción Gómez\",\"genero_fuente\":\"femenino\",\"colectivos\":[],\"verbo\":\"señala\"},{\"cita_textual\":\"“no se están teniendo en cuenta las contribuciones de la mitad de la población”\",\"fuente\":\"Nuria Oliver\",\"genero_fuente\":\"femenino\",\"colectivos\":[],\"verbo\":\"sostiene\"},{\"cita_textual\":\"“La cabeza de las chicas está organizada buscando más flexibilidad, es decir, estamos más abiertas a nuevos cambios y eso es muy importante en el sector digital”\",\"fuente\":\"Cristina Magdalena\",\"genero_fuente\":\"femenino\",\"colectivos\":[],\"verbo\":\"afirma\"},{\"cita_textual\":\"“Si incluimos esta asignatura nadie pensará que la tecnología no es de niñas, ya que por ejemplo nadie piensa que leer es de niñas o de niños. Es decir, si todo el mundo estudia tecnología por igual conseguiremos reducir la brecha de géneros”\",\"fuente\":\"Nuria Oliver\",\"genero_fuente\":\"femenino\",\"colectivos\":[],\"verbo\":\"propone\"},{\"cita_textual\":\"“Es un reto tremendo el desaprender lo aprendido. No somos princesas consumidoras, somos reinas creadoras”\",\"fuente\":\"Cristina Aranda\",\"genero_fuente\":\"femenino\",\"colectivos\":[],\"verbo\":\"concluye\"}],\"num_quotes\":8}\n"
     ]
    },
    {
     "name": "stderr",
     "output_type": "stream",
     "text": [
      "Procesando predicciones:  90%|█████████ | 90/100 [14:59<01:20,  8.04s/it]"
     ]
    },
    {
     "name": "stdout",
     "output_type": "stream",
     "text": [
      "{\"quotes\":[{\"cita_textual\":\"Es un proceso. Empezamos por preocuparnos por no herir a los animales.\",\"fuente\":\"Susan Kopp\",\"genero_fuente\":\"femenino\",\"colectivos\":[\"animales\"] ,\"verbo\":\"Respuesta\"},{\"cita_textual\":\"En ocasiones, para mantener el equilibrio, vas a tener que eliminar una especie de un ecosistema.\",\"fuente\":\"Susan Kopp\",\"genero_fuente\":\"femenino\",\"colectivos\":[\"ecosistemas\"] ,\"verbo\":\"Respuesta\"},{\"cita_textual\":\"Lo único consistente sobre la forma en que pensamos sobre animales es que somos inconsistentes.\",\"fuente\":\"Susan Kopp\",\"genero_fuente\":\"femenino\",\"colectivos\":[\"animales\"] ,\"verbo\":\"Respuesta\"},{\"cita_textual\":\"Hay un solapamiento entre el activismo medioambiental y los derechos animales, pero ambos se pueden ayudar mutuamente.\",\"fuente\":\"Susan Kopp\",\"genero_fuente\":\"femenino\",\"colectivos\":[\"animales\",\"medio ambiente\"] ,\"verbo\":\"Respuesta\"},{\"cita_textual\":\"Mi visión personal es que a veces hay que intervenir.\",\"fuente\":\"Susan Kopp\",\"genero_fuente\":\"femenino\",\"colectivos\":[\"ecosistemas\",\"animales\"] ,\"verbo\":\"Respuesta\"},{\"cita_textual\":\"Siento que no conozco lo bastante la cultura de España y de la realidad detrás de las corridas de toros.\",\"fuente\":\"Susan Kopp\",\"genero_fuente\":\"femenino\",\"colectivos\":[\"toros\",\"cultura española\"] ,\"verbo\":\"Respuesta\"},{\"cita_textual\":\"Las culturas occidentales son cada vez más sensibles al sufrimiento de los animales.\",\"fuente\":\"Susan Kopp\",\"genero_fuente\":\"femenino\",\"colectivos\":[\"animales\",\"cultura occidental\"] ,\"verbo\":\"Respuesta\"}],\"num_quotes\":7}\n"
     ]
    },
    {
     "name": "stderr",
     "output_type": "stream",
     "text": [
      "Procesando predicciones:  91%|█████████ | 91/100 [15:10<01:20,  8.95s/it]"
     ]
    },
    {
     "name": "stdout",
     "output_type": "stream",
     "text": [
      "{\"quotes\":[{\"cita_textual\":\"Quería contar una historia más pequeña e intensa, más reflexiva. No sé puede abarcar todo. Mejor dicho, yo no sé abarcarlo todo.\",\"fuente\":\"Belén Gopegui\",\"genero_fuente\":\"femenino\",\"colectivos\":[],\"verbo\":\"dijo\"},{\"cita_textual\":\"Me interesa mucho la reflexión y el diálogo. Y si no hay trama, ¿por qué inventarla? La trama es la relación entre los personajes. La tarea es inventar, experimentar, no reproducir esquemas. Me dije: voy a mostrarlo desnudo. ¿Qué pasa si el texto se basa en las dudas de los personajes? En el fondo, la duda y la discusión también son una acción.\",\"fuente\":\"Belén Gopegui\",\"genero_fuente\":\"femenino\",\"colectivos\":[],\"verbo\":\"dijo\"},{\"cita_textual\":\"Nuestra misión es organizar toda la información que hay en el mundo.\",\"fuente\":\"un viejo decálogo de Google\",\"genero_fuente\":\"desconocido\",\"colectivos\":[],\"verbo\":\"fue\"},{\"cita_textual\":\"Como narradora eso es un desafío.\",\"fuente\":\"Belén Gopegui\",\"genero_fuente\":\"femenino\",\"colectivos\":[],\"verbo\":\"explicó\"},{\"cita_textual\":\"Que quien vaya a organizar toda esa información sea una empresa privada guiada por criterios de rentabilidad es muy perturbador.\",\"fuente\":\"Belén Gopegui\",\"genero_fuente\":\"femenino\",\"colectivos\":[],\"verbo\":\"añadió\"},{\"cita_textual\":\"Eso ya está empezando y tengo la sensación de que la sociedad va muy por detrás. Deberíamos intervenir más en algo que nos afecta muchísimo.\",\"fuente\":\"Belén Gopegui\",\"genero_fuente\":\"femenino\",\"colectivos\":[],\"verbo\":\"dijo\"},{\"cita_textual\":\"Hay mucha ciencia-ficción sobre qué pasará cuando las máquinas nos controlen, pero ya hemos puesto en marcha procesos que nos controlan y que no son inteligentes.\",\"fuente\":\"Belén Gopegui\",\"genero_fuente\":\"femenino\",\"colectivos\":[],\"verbo\":\"dijo\"},{\"cita_textual\":\"Que apareciera una inteligencia artificial no sería para mí lo más preocupante siempre que sea de verdad inteligente.\",\"fuente\":\"Belén Gopegui\",\"genero_fuente\":\"femenino\",\"colectivos\":[],\"verbo\":\"dijo\"},{\"cita_textual\":\"para tener autoridad necesitas que tus afirmaciones formen parte de una práctica compartida.\",\"fuente\":\"Belén Gopegui\",\"genero_fuente\":\"femenino\",\"colectivos\":[],\"verbo\":\"recordó\"},{\"cita_textual\":\"El puro yo no sirve. La literatura, puede todavía ser un lugar en el que afirmaciones que no son las de la mera publicidad se conviertan en práctica compartida, algo que nos dé ánimo para continuar.\",\"fuente\":\"Belén Gopegui\",\"genero_fuente\":\"femenino\",\"colectivos\":[],\"verbo\":\"subrayó\"},{\"cita_textual\":\"Es el viejo debate de que cuando creces te haces conservador… y no lees novelas (ríe). Muchas de las personas más luchadoras y honestas que he conocido eran muy mayores.\",\"fuente\":\"Belén Gopegui\",\"genero_fuente\":\"femenino\",\"colectivos\":[],\"verbo\":\"dijo\"},{\"cita_textual\":\"Esa sensación que tiene Mateo de ir a casa de Olga y encontrar su sitio yo también la tenía. Fue un regalo: hablar con alguien que tiene mucha más experiencia y que no rehúsa escucharte.\",\"fuente\":\"Belén Gopegui\",\"genero_fuente\":\"femenino\",\"colectivos\":[],\"verbo\":\"relató\"}],\"num_quotes\":12}\n"
     ]
    },
    {
     "name": "stderr",
     "output_type": "stream",
     "text": [
      "Procesando predicciones:  92%|█████████▏| 92/100 [15:18<01:10,  8.83s/it]"
     ]
    },
    {
     "name": "stdout",
     "output_type": "stream",
     "text": [
      "{\"quotes\":[{\"cita_textual\":\"\\\"Yo valoro que seamos una de las muy pocas empresas que siguen vivas\\\"\",\"fuente\":\"Susana Voces\",\"genero_fuente\":\"femenino\",\"colectivos\":[],\"verbo\":\"valoro\"},{\"cita_textual\":\"\\\"ha sabido ir evolucionando según las necesidades del consumidor\\\"\",\"fuente\":\"Susana Voces\",\"genero_fuente\":\"femenino\",\"colectivos\":[],\"verbo\":\"achaca\"},{\"cita_textual\":\"\\\"Somos un marketplace, nuestra misión es poner en contacto a vendedores con compradores\\\"\",\"fuente\":\"Susana Voces\",\"genero_fuente\":\"femenino\",\"colectivos\":[],\"verbo\":\"afirman\"},{\"cita_textual\":\"\\\"Tenemos muy claro cuál es nuestro modelo de negocio, no queremos entrar en otros, no tenemos intención de montar centros logísticos, ni comprar inventario ni desarrollar nuestras propias marcas\\\"\",\"fuente\":\"Susana Voces\",\"genero_fuente\":\"femenino\",\"colectivos\":[],\"verbo\":\"afirma\"},{\"cita_textual\":\"\\\"2,5 millones está bien, pero todavía hay bastante recorrido: el comercio electrónico crece al 20% anual y hay 17 millones de compradores online, que serán más\\\"\",\"fuente\":\"Susana Voces\",\"genero_fuente\":\"femenino\",\"colectivos\":[],\"verbo\":\"fija\"},{\"cita_textual\":\"\\\"Al final, es facilitar la experiencia de compra, porque hoy en día, prima la inmediatez y la imagen\\\"\",\"fuente\":\"Susana Voces\",\"genero_fuente\":\"femenino\",\"colectivos\":[],\"verbo\":\"explica\"},{\"cita_textual\":\"\\\"La gente quiere las cosas ya, no quiere esperar al resultado de la subasta\\\"\",\"fuente\":\"Susana Voces\",\"genero_fuente\":\"femenino\",\"colectivos\":[],\"verbo\":\"explica\"},{\"cita_textual\":\"\\\"Se trata de cómo podemos adelantarnos a tus necesidades, que tu experiencia pasada cree modelos predictivos para poder saber lo que vas a necesitar sin tú saberlo\\\"\",\"fuente\":\"Susana Voces\",\"genero_fuente\":\"femenino\",\"colectivos\":[],\"verbo\":\"afirma\"},{\"cita_textual\":\"\\\"Tendremos que renovarnos constantemente, habrá empleos que cambien o desaparezcan, pero yo creo que la tecnología nos ayudará a tener vidas más fáciles\\\"\",\"fuente\":\"Susana Voces\",\"genero_fuente\":\"femenino\",\"colectivos\":[],\"verbo\":\"confía\"}],\"num_quotes\":9}\n"
     ]
    },
    {
     "name": "stderr",
     "output_type": "stream",
     "text": [
      "Procesando predicciones:  93%|█████████▎| 93/100 [15:27<01:00,  8.63s/it]"
     ]
    },
    {
     "name": "stdout",
     "output_type": "stream",
     "text": [
      "{\"quotes\":[{\"cita_textual\":\"Estoy harto de tener que diseñar cada línea de diálogo de mis personajes. Tendría que existir una herramienta con la que el guionista pudiera moldear la arquitectura psicológica del personaje y que fuera él al que se le ocurrieran las líneas de diálogo ingeniosas.\",\"fuente\":\"Ron Gilbert\",\"genero_fuente\":\"masculino\",\"colectivos\":[\"guionistas\",\"videojuegos\"],\"verbo\":\"comentó\"},{\"cita_textual\":\"Creo que voy a empezar primero por la importancia.\",\"fuente\":\"Emily Short\",\"genero_fuente\":\"femenino\",\"colectivos\":[\"guionistas\",\"videojuegos\"],\"verbo\":\"expresó\"},{\"cita_textual\":\"Estoy interesada en romper esto, en que tu capacidad de interacción con los personajes se ve reducida a tales elecciones en un árbol de diálogos.\",\"fuente\":\"Emily Short\",\"genero_fuente\":\"femenino\",\"colectivos\":[\"guionistas\",\"videojuegos\"],\"verbo\":\"manifestó\"},{\"cita_textual\":\"Es curioso que menciones a Platón. En uno de sus diálogos, Sócrates afirma: “El problema de la escritura es que no puede responderte a tus preguntas. Sería mejor tener algún sistema que pudiera replicarte”.\",\"fuente\":\"Emily Short\",\"genero_fuente\":\"femenino\",\"colectivos\":[\"filósofos\",\"videojuegos\"],\"verbo\":\"afirmó\"},{\"cita_textual\":\"Diré dos cosas sobre esto.\",\"fuente\":\"Emily Short\",\"genero_fuente\":\"femenino\",\"colectivos\":[\"guionistas\",\"videojuegos\"],\"verbo\":\"declaró\"},{\"cita_textual\":\"Yo misma vengo del lado indie de la industria y mucha de la gente que estamos trabajando en este proyecto, también.\",\"fuente\":\"Emily Short\",\"genero_fuente\":\"femenino\",\"colectivos\":[\"indie\",\"videojuegos\"],\"verbo\":\"indicó\"},{\"cita_textual\":\"La compañía fue fundada por Steve Andre, vicepresidente de IBM que estaba trabajando con Watson.\",\"fuente\":\"Emily Short\",\"genero_fuente\":\"femenino\",\"colectivos\":[\"tecnología\",\"videojuegos\"],\"verbo\":\"mencionó\"},{\"cita_textual\":\"El resto del equipo, Mitu Khandaker, Aaron Reed, Rebecca Andre o James Ryan son gente del ámbito indie o académico con mucho conocimiento de ficción interactiva y modelado de la psique de los personajes.\",\"fuente\":\"Emily Short\",\"genero_fuente\":\"femenino\",\"colectivos\":[\"indie\",\"académico\"],\"verbo\":\"comunicó\"}],\"num_quotes\":8}\n"
     ]
    },
    {
     "name": "stderr",
     "output_type": "stream",
     "text": [
      "Procesando predicciones:  94%|█████████▍| 94/100 [15:33<00:47,  7.92s/it]"
     ]
    },
    {
     "name": "stdout",
     "output_type": "stream",
     "text": [
      "{\"quotes\":[{\"cita_textual\":\"Dirijo Consultoría para Gartner en España y Portugal.\",\"fuente\":\"Rebeca G. Marciel\",\"genero_fuente\":\"femenino\",\"colectivos\":[],\"verbo\":\"dirijo\"},{\"cita_textual\":\"Hay varias tendencias. Por ejemplo, Internet de las cosas. En 2020 tendremos unos 20 billones de dispositivos conectados, excluyendo teléfonos y ordenadores.\",\"fuente\":\"Rebeca G. Marciel\",\"genero_fuente\":\"femenino\",\"colectivos\":[],\"verbo\":\"Hay\"},{\"cita_textual\":\"Yo tengo mucha confianza en el poder de los datos y en la inteligencia artificial.\",\"fuente\":\"Rebeca G. Marciel\",\"genero_fuente\":\"femenino\",\"colectivos\":[],\"verbo\":\"tengo\"},{\"cita_textual\":\"Las tragedias griegas siempre estarán vigentes. Los seres humanos somos capaces de controlar y poner límites a lo que no queremos que suceda.\",\"fuente\":\"Rebeca G. Marciel\",\"genero_fuente\":\"femenino\",\"colectivos\":[\"seres humanos\"],\"verbo\":\"somos\"},{\"cita_textual\":\"Ya se ha reducido la creación de aplicaciones para móviles. Se consumen menos.\",\"fuente\":\"Rebeca G. Marciel\",\"genero_fuente\":\"femenino\",\"colectivos\":[],\"verbo\":\"se ha reducido\"},{\"cita_textual\":\"Perderán relevancia. La sofisticación de sistemas de recomendación permite personalizar la oferta al individuo con nombre y apellidos y al momento.\",\"fuente\":\"Rebeca G. Marciel\",\"genero_fuente\":\"femenino\",\"colectivos\":[],\"verbo\":\"perderán\"},{\"cita_textual\":\"Cada vez más, dejaremos de buscar marcas: pasaremos a ser más pasivos, receptores y compradores de buenas recomendaciones de productos y servicios.\",\"fuente\":\"Rebeca G. Marciel\",\"genero_fuente\":\"femenino\",\"colectivos\":[],\"verbo\":\"dejaremos\"}],\"num_quotes\":7}\n"
     ]
    },
    {
     "name": "stderr",
     "output_type": "stream",
     "text": [
      "Procesando predicciones:  95%|█████████▌| 95/100 [15:41<00:39,  7.88s/it]"
     ]
    },
    {
     "name": "stdout",
     "output_type": "stream",
     "text": [
      "{\"quotes\":[{\"cita_textual\":\"“Tomó información del libro de texto y de Wikipedia y la combinó sin entender ni pizca”\",\"fuente\":\"Noriko Arai\",\"genero_fuente\":\"femenino\",\"colectivos\":[],\"verbo\":\"explicó\"},{\"cita_textual\":\"“¿Cómo es posible que esta máquina no inteligente lo hiciera mejor que nuestros niños?”\",\"fuente\":\"Noriko Arai\",\"genero_fuente\":\"femenino\",\"colectivos\":[],\"verbo\":\"se preguntaba\"},{\"cita_textual\":\"“Nosotros, los humanos, podemos comprender el significado de las cosas, algo que no puede hacer la inteligencia artificial. Pero la mayoría de los estudiantes reciben conocimiento sin comprender el significado, y eso no es conocimiento, es memorización, y la inteligencia artificial puede hacer lo mismo. Debemos crear un nuevo sistema educativo.”\",\"fuente\":\"Noriko Arai\",\"genero_fuente\":\"femenino\",\"colectivos\":[\"estudiantes\"],\"verbo\":\"afirmó\"},{\"cita_textual\":\"“Sabía que mi robot era ininteligente, cargado de conocimientos que no sabe cómo usar correctamente porque no entiende el significado. Quedé estupefacta al ver que este robot que no es inteligente escribió una redacción mejor que la mayoría de los estudiantes.”\",\"fuente\":\"Noriko Arai\",\"genero_fuente\":\"femenino\",\"colectivos\":[\"estudiantes\"],\"verbo\":\"dijo\"},{\"cita_textual\":\"“Estamos analizando el porqué. Algo que podemos ver es que antes todo el mundo leía el periódico, incluso la gente pobre. Pero ahora la mayoría de las parejas jóvenes no leen el diario porque lo tienen en su teléfono. No compran libros porque la mayoría de las historias están en blogs.”\",\"fuente\":\"Noriko Arai\",\"genero_fuente\":\"femenino\",\"colectivos\":[\"parejas jóvenes\"],\"verbo\":\"dijo\"},{\"cita_textual\":\"“Cuando la inteligencia artificial llega a una sociedad se lleva muchos trabajos, incluidos los puestos de banqueros o analistas.”\",\"fuente\":\"Noriko Arai\",\"genero_fuente\":\"femenino\",\"colectivos\":[\"trabajadores\"],\"verbo\":\"dijo\"},{\"cita_textual\":\"“Lo que pasa es que todos tienen derecho a voto, y, en ese sentido, somos todos iguales. Si cada vez hay más y más gente que se siente atrapada y solo la gente inteligente gana dinero, y los utiliza para ganar más dinero, pensarán mal de la sociedad, odiarán a la sociedad, y las consecuencias las sufriremos todos, en todo el mundo.”\",\"fuente\":\"Noriko Arai\",\"genero_fuente\":\"femenino\",\"colectivos\":[],\"verbo\":\"dijo\"}],\"num_quotes\":7}\n"
     ]
    },
    {
     "name": "stderr",
     "output_type": "stream",
     "text": [
      "Procesando predicciones:  96%|█████████▌| 96/100 [15:48<00:31,  7.75s/it]"
     ]
    },
    {
     "name": "stdout",
     "output_type": "stream",
     "text": [
      "{\"quotes\":[{\"cita_textual\":\"“y me leí absolutamente todo sobre el tema”\",\"fuente\":\"Siri Hustvedt\",\"genero_fuente\":\"femenino\",\"colectivos\":[],\"verbo\":\"dice\"},{\"cita_textual\":\"“Es curioso que se busquen las raíces genéticas sobre un hecho del que se sabe que al final elige el ser humano, se olvidan la epistemología…\",\"fuente\":\"Siri Hustvedt\",\"genero_fuente\":\"femenino\",\"colectivos\":[],\"verbo\":\"resume\"},{\"cita_textual\":\"“Se toma la mente sólo como un ordenador y el problema de cuerpo y mente nos remite a Pitágoras y a Platón”\",\"fuente\":\"Siri Hustvedt\",\"genero_fuente\":\"femenino\",\"colectivos\":[],\"verbo\":\"defiende\"},{\"cita_textual\":\"“La única diferencia entre una intelectual mujer y un intelectual hombre es que aquella ha de estar preparada para ser atacada y castigada; lo que en el hombre es sensibilidad y brillantez, en la mujer es emotividad y pretenciosidad”\",\"fuente\":\"Siri Hustvedt\",\"genero_fuente\":\"femenino\",\"colectivos\":[],\"verbo\":\"ilustra\"},{\"cita_textual\":\"“Es el consenso cultural, que en lo literario se traduce en ese dominio de la novela realista con familias disfuncionales y un uso gramatical y de léxico no demasiado alejado del periodismo…”\",\"fuente\":\"Siri Hustvedt\",\"genero_fuente\":\"femenino\",\"colectivos\":[],\"verbo\":\"concluye\"},{\"cita_textual\":\"“La literatura de best-seller está asfixiando otras formas de explicar, narrar el mundo”\",\"fuente\":\"Siri Hustvedt\",\"genero_fuente\":\"femenino\",\"colectivos\":[],\"verbo\":\"dice\"},{\"cita_textual\":\"“Me interesa menos buscar paridades en empresas que las razones subyacentes en la discriminación”\",\"fuente\":\"Siri Hustvedt\",\"genero_fuente\":\"femenino\",\"colectivos\":[],\"verbo\":\"esquiva\"},{\"cita_textual\":\"“En toda la filosofía y el arte occidental está la muerte, pero se suprime el nacimiento, aquello que distingue al hombre de la mujer; ¿por qué?: es el miedo humano a la dependencia del nacido y eso lleva a suprimirlo…”\",\"fuente\":\"Siri Hustvedt\",\"genero_fuente\":\"femenino\",\"colectivos\":[],\"verbo\":\"ejemplifica\"},{\"cita_textual\":\"“Eso es una fantasía total, pero eso es Donald Trump”\",\"fuente\":\"Siri Hustvedt\",\"genero_fuente\":\"femenino\",\"colectivos\":[],\"verbo\":\"afirma\"}],\"num_quotes\":10}\n"
     ]
    },
    {
     "name": "stderr",
     "output_type": "stream",
     "text": [
      "Procesando predicciones:  97%|█████████▋| 97/100 [15:51<00:19,  6.43s/it]"
     ]
    },
    {
     "name": "stdout",
     "output_type": "stream",
     "text": [
      "{\"quotes\":[{\"cita_textual\":\"El líder político sudafricano Nelson Mandela había muerto en prisión durante los años ochenta, en vez de en libertad en 2013\",\"fuente\":\"Fiona Broome\",\"genero_fuente\":\"femenino\",\"colectivos\":[\"humanos\",\"colectivo que comparte recuerdos falsos\"] ,\"verbo\":\"se dio cuenta\"},{\"cita_textual\":\"lamento comunicarle que ni Bogart pronunció 'play it again, Sam' ni Darth Vader, 'Luke, yo soy tu padre'\",\"fuente\":\"Fiona Broome\",\"genero_fuente\":\"femenino\",\"colectivos\":[\"humanos\",\"colectivo que comparte recuerdos falsos\"] ,\"verbo\":\"comunicarle\"},{\"cita_textual\":\"comparte con mucha gente un recuerdo falso muy concreto\",\"fuente\":\"Fiona Broome\",\"genero_fuente\":\"femenino\",\"colectivos\":[\"humanos\",\"colectivo que comparte recuerdos falsos\"] ,\"verbo\":\"se dio cuenta\"}],\"num_quotes\":3}\n"
     ]
    },
    {
     "name": "stderr",
     "output_type": "stream",
     "text": [
      "Procesando predicciones:  98%|█████████▊| 98/100 [16:03<00:15,  7.93s/it]"
     ]
    },
    {
     "name": "stdout",
     "output_type": "stream",
     "text": [
      "{\"quotes\":[{\"cita_textual\":\"La sociedad ha generado más datos en dos años que en toda la historia\",\"fuente\":\"Harriet Green\",\"genero_fuente\":\"femenino\",\"colectivos\":[\"sociedad\"] ,\"verbo\":\"asegura\"},{\"cita_textual\":\"Los datos son el nuevo petróleo\",\"fuente\":\"Harriet Green\",\"genero_fuente\":\"femenino\",\"colectivos\":[],\"verbo\":\"sentencia\"},{\"cita_textual\":\"Tenemos un punto de vista y es que ha dado comienzo la era cognitiva\",\"fuente\":\"Harriet Green\",\"genero_fuente\":\"femenino\",\"colectivos\":[],\"verbo\":\"afirma\"},{\"cita_textual\":\"La capacidad de conectar cosas con cosas y a las personas con las cosas no la inventamos nosotros, nos estamos aprovechando de ella\",\"fuente\":\"Harriet Green\",\"genero_fuente\":\"femenino\",\"colectivos\":[],\"verbo\":\"defiende\"},{\"cita_textual\":\"El temor es perfectamente entendible y sobre todo en las generaciones más jóvenes, pero sabemos los datos personales son el ADN de cada individuo y por eso los protegemos con los sistemas más avanzados de seguridad\",\"fuente\":\"Harriet Green\",\"genero_fuente\":\"femenino\",\"colectivos\":[\"generaciones más jóvenes\"] ,\"verbo\":\"afirma\"},{\"cita_textual\":\"El primero es que cuando utilizamos la inteligencia artificial, lo hacemos para alcanzar un objetivo concreto; el segundo es que diseñamos máquinas para ayudar a la gente y no sustituirla; y el tercero es que si solicitamos datos para un uso en concreto, no los reutilizamos para otro\",\"fuente\":\"Alessandro Curioni\",\"genero_fuente\":\"masculino\",\"colectivos\":[\"gente\"],\"verbo\":\"especifica\"},{\"cita_textual\":\"No nos hacen falta leyes para autoimponernos este tipo de normas, nosotros ya contemplamos en nuestros protocolos todas estas medidas de seguridad. Tenemos muy claro que si tenemos tus datos de una biopsia para nuestra base de datos oncológica no vamos a vendérselos a una aseguradora\",\"fuente\":\"Alessandro Curioni\",\"genero_fuente\":\"masculino\",\"colectivos\":[],\"verbo\":\"justifica\"}],\"num_quotes\":7}\n"
     ]
    },
    {
     "name": "stderr",
     "output_type": "stream",
     "text": [
      "Procesando predicciones:  99%|█████████▉| 99/100 [16:12<00:08,  8.28s/it]"
     ]
    },
    {
     "name": "stdout",
     "output_type": "stream",
     "text": [
      "{\"quotes\":[{\"cita_textual\":\"Intento que una máquina coja un texto, extraiga su información y lo haga útil para los humanos. Pero las máquinas tienen que aprender el lenguaje, porque ellas por sí mismas no saben leer inglés\",\"fuente\":\"Regina Barzilay\",\"genero_fuente\":\"femenino\",\"colectivos\":[],\"verbo\":\"explica\"},{\"cita_textual\":\"Hoy en día tenemos mejor tecnología para recomendarte un pintalabios que para ayudarte a prevenir el cáncer de mama. Eso había que cambiarlo\",\"fuente\":\"Regina Barzilay\",\"genero_fuente\":\"femenino\",\"colectivos\":[],\"verbo\":\"\"},{\"cita_textual\":\"Porque me di cuenta de que en los hospitales hay muchísima información que se registra sobre los pacientes y que no se está utilizando. La mayoría de las decisiones clínicas están basadas en los ensayos clínicos, es decir, en el 3% de población que participan en ellos. Esto significa que toda la experiencia de lo que le pasa al 97% de pacientes no está siendo usada\",\"fuente\":\"Regina Barzilay\",\"genero_fuente\":\"femenino\",\"colectivos\":[],\"verbo\":\"responde\"},{\"cita_textual\":\"Creo que estamos sentados sobre una mina de oro de datos que no estamos utilizando\",\"fuente\":\"Regina Barzilay\",\"genero_fuente\":\"femenino\",\"colectivos\":[],\"verbo\":\"\"},{\"cita_textual\":\"En el campo médico es más fácil, porque ellos utilizan un lenguaje muy estándar. Pero en general es muy difícil generar textos largos, lo que la máquina puede hacer bien por el momento es crear frases individuales. Pero por ejemplo un texto creativo y una historia, es imposible. Creo firmemente que el nivel de creatividad de los humanos no puede ser alcanzado por las máquinas ahora mismo\",\"fuente\":\"Regina Barzilay\",\"genero_fuente\":\"femenino\",\"colectivos\":[],\"verbo\":\"dice\"},{\"cita_textual\":\"Ahora mismo para que un sistema funcione necesita una increíble cantidad de datos, muchísimos ejemplos. Además, puede pasar que le enseñes documentos de un hospital y luego de otro, y ya no pueda utilizarlos ni generalizar porque las estructuras son ligeramente diferentes\",\"fuente\":\"Regina Barzilay\",\"genero_fuente\":\"femenino\",\"colectivos\":[],\"verbo\":\"señala\"},{\"cita_textual\":\"Eso realmente depende de la tarea que les mandes a hacer. Hay tareas en las que las máquinas ya son más inteligentes que los humanos\",\"fuente\":\"Regina Barzilay\",\"genero_fuente\":\"femenino\",\"colectivos\":[],\"verbo\":\"afirma\"},{\"cita_textual\":\"Soy muy optimista de que esto pueda cambiar. Al menos intentaremos cambiarlo desde el MIT\",\"fuente\":\"Regina Barzilay\",\"genero_fuente\":\"femenino\",\"colectivos\":[],\"verbo\":\"dice\"}],\"num_quotes\":8}\n"
     ]
    },
    {
     "name": "stderr",
     "output_type": "stream",
     "text": [
      "Procesando predicciones: 100%|██████████| 100/100 [16:22<00:00,  9.82s/it]"
     ]
    },
    {
     "name": "stdout",
     "output_type": "stream",
     "text": [
      "{\"quotes\":[{\"cita_textual\":\"\\\"Imagino que la gente asume que con lo de Matrix me debe interesar esos temas. Pero no\\\"\",\"fuente\":\"Carrie-Anne Moss\",\"genero_fuente\":\"femenino\",\"colectivos\":[\"gente\"] ,\"verbo\":\"confiesa\"},{\"cita_textual\":\"\\\"Vinieron a mí con el personaje, lo atraje no sé bien por qué. Todavía estoy agradecida de que fuera así, porque incluso cuando vi la primera temporada quería ser parte de ella\\\"\",\"fuente\":\"Carrie-Anne Moss\",\"genero_fuente\":\"femenino\",\"colectivos\":[],\"verbo\":\"cuenta\"},{\"cita_textual\":\"\\\"Son fantásticos. Me interesa cada uno de ellos y sus viajes personales\\\"\",\"fuente\":\"Carrie-Anne Moss\",\"genero_fuente\":\"femenino\",\"colectivos\":[\"personajes\"],\"verbo\":\"se queda\"},{\"cita_textual\":\"\\\"Me encantaría dar vida a uno de los robots. Me encanta cómo se mueven, los actores son tan buenos haciéndolo porque tienen mucho entrenamiento previo para lograrlo\\\"\",\"fuente\":\"Carrie-Anne Moss\",\"genero_fuente\":\"femenino\",\"colectivos\":[\"robots\",\"actores\"],\"verbo\":\"confiesa\"},{\"cita_textual\":\"\\\"Si me lo planteara, estaría toda la noche despierta tratando de pensar el rol de la tecnología en mi vida\\\"\",\"fuente\":\"Carrie-Anne Moss\",\"genero_fuente\":\"femenino\",\"colectivos\":[\"tecnología\"],\"verbo\":\"cree\"},{\"cita_textual\":\"\\\"Ahora cuando voy por la calle y veo a todo el mundo mirando su móvil me siento como si estuviera en Matrix\\\"\",\"fuente\":\"Carrie-Anne Moss\",\"genero_fuente\":\"femenino\",\"colectivos\":[\"todo el mundo\"],\"verbo\":\"ríe\"},{\"cita_textual\":\"\\\"Imagino que las nuevas generaciones están preparadas para eso, yo no\\\"\",\"fuente\":\"Carrie-Anne Moss\",\"genero_fuente\":\"femenino\",\"colectivos\":[\"nuevas generaciones\"],\"verbo\":\"sentencia\"}],\"num_quotes\":7}\n"
     ]
    },
    {
     "name": "stderr",
     "output_type": "stream",
     "text": [
      "\n"
     ]
    }
   ],
   "source": [
    "predictions = []\n",
    "\n",
    "# Loop de predicción\n",
    "for idx, row in tqdm(data.iterrows(), total=len(data), desc=\"Procesando predicciones\"):\n",
    "    n = row['N']\n",
    "    n_periodico = row['n_periodico']\n",
    "    contenido = row['contenido']\n",
    "    try:\n",
    "        # Llamada al modelo para detectar las citas humanas y sus fuentes\n",
    "        completion = openai.beta.chat.completions.parse(\n",
    "            model=OPENAI_MODEL,\n",
    "            messages=[\n",
    "                {\n",
    "                    \"role\": \"system\", \n",
    "                    \"content\": \"Eres un periodista especializado en la extracción de declaraciones de humanos en artículos de noticias. Tu tarea es identificar y extraer todas las declaraciones humanas del texto, incluyendo la cita textual (si está entre comillas), la fuente de la declaración (como nombre, cargo o afiliación) y el verbo o expresión utilizada para introducir la declaración. Debes ignorar cualquier declaración hecha por robots o entidades no humanas.\"\n",
    "                },\n",
    "                {\n",
    "                    \"role\": \"user\", \n",
    "                    \"content\": f\"\"\"\n",
    "                                Extrae todas las declaraciones humanas del siguiente artículo, centrándote en identificar las personas mencionadas y su género. Para cada declaración, proporciona:\n",
    "\n",
    "                                - **Cita textual**: Si está presente en el texto.\n",
    "                                - **Fuente**: La persona, cargo o afiliación que hizo la declaración.\n",
    "                                - **Género de la fuente**: El género correspondiente de la persona que hizo la declaración (masculino, femenino, desconocido).\n",
    "                                - **Verbo**: El verbo o expresión utilizada para introducir la declaración.\n",
    "                                - **Colectivos en la declaración**: Colectivos a los que hace referencia la declaración.\n",
    "\n",
    "                                Si el género no es explícito en el texto, márcalo como \"desconocido\".  \n",
    "\n",
    "                                Ignora declaraciones hechas por robots o entidades no humanas.\n",
    "\n",
    "                                Texto: {contenido}\n",
    "                                \"\"\"\n",
    "                                                }\n",
    "            ],\n",
    "            response_format=ResponseFormat\n",
    "        )\n",
    "        \n",
    "        # Extraer la respuesta\n",
    "        response_message = completion.choices[0].message.content\n",
    "        print(response_message)\n",
    "\n",
    "        # Usamos json.loads para convertir el string JSON a un objeto Python\n",
    "        response_data = json.loads(response_message)\n",
    "\n",
    "        # Agregar el índice de la noticia al JSON\n",
    "        response_data['indice'] = idx  # Agrega el índice al diccionario de cada cita\n",
    "        response_data['N'] = n\n",
    "        response_data['n_periodico'] = n_periodico\n",
    "        \n",
    "        # Agregar el resultado con el índice a las predicciones\n",
    "        predictions.append(response_data)\n",
    "\n",
    "    except Exception as e:\n",
    "        print(f\"Error en el índice {idx}: {e}\")"
   ]
  },
  {
   "cell_type": "code",
   "execution_count": 6,
   "metadata": {},
   "outputs": [],
   "source": [
    "# Guardar las predicciones en un archivo JSON\n",
    "with open('predictions.json', 'w', encoding='utf-8') as f:\n",
    "    json.dump(predictions, f, ensure_ascii=False, indent=4)"
   ]
  },
  {
   "cell_type": "code",
   "execution_count": 7,
   "metadata": {},
   "outputs": [],
   "source": [
    "def compute_metrics(true_labels, predicted_labels):\n",
    "\n",
    "    # Obtener reporte completo\n",
    "    report = classification_report(true_labels, predicted_labels, output_dict=True)\n",
    "    \n",
    "    # Obtener la matriz de confusión\n",
    "    conf_matrix = confusion_matrix(true_labels, predicted_labels)\n",
    "    \n",
    "    # Extraer métricas para cada clase y globales\n",
    "    metrics = {\n",
    "        'accuracy': report['accuracy'],\n",
    "        'weighted_f1': report['weighted avg']['f1-score'],\n",
    "        'macro_f1': report['macro avg']['f1-score'],\n",
    "        # 'weighted_precision': report['weighted avg']['precision'],\n",
    "        # 'weighted_recall': report['weighted avg']['recall'],\n",
    "        # La matriz de confusión no se incluye normalmente como una métrica devuelta porque no es un escalar\n",
    "        'confusion_matrix': conf_matrix.tolist()  # Convertir a lista para asegurarse de que es serializable si es necesario\n",
    "    }\n",
    "    \n",
    "    # # Añadir métricas específicas por clase si se requiere\n",
    "    # for label, scores in report.items():\n",
    "    #     if label not in [\"accuracy\", \"macro avg\", \"weighted avg\"]:\n",
    "    #         metrics[f'{label}_precision'] = scores['precision']\n",
    "    #         metrics[f'{label}_recall'] = scores['recall']\n",
    "    #         metrics[f'{label}_f1'] = scores['f1-score']\n",
    "    #         metrics[f'{label}_support'] = scores['support']\n",
    "    \n",
    "    return metrics"
   ]
  },
  {
   "cell_type": "code",
   "execution_count": 8,
   "metadata": {},
   "outputs": [],
   "source": [
    "# true_labels = data['n_declaraciones']\n",
    "# predicted_labels = train_df['predicted_emotion']\n",
    "# print(len(true_labels))\n",
    "# print(len(predicted_labels))\n",
    "\n",
    "# metrics = compute_metrics(true_labels, predicted_labels)\n",
    "# metrics"
   ]
  }
 ],
 "metadata": {
  "kernelspec": {
   "display_name": ".venv",
   "language": "python",
   "name": "python3"
  },
  "language_info": {
   "codemirror_mode": {
    "name": "ipython",
    "version": 3
   },
   "file_extension": ".py",
   "mimetype": "text/x-python",
   "name": "python",
   "nbconvert_exporter": "python",
   "pygments_lexer": "ipython3",
   "version": "3.12.3"
  }
 },
 "nbformat": 4,
 "nbformat_minor": 2
}
