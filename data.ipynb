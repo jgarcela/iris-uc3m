{
 "cells": [
  {
   "cell_type": "markdown",
   "metadata": {},
   "source": []
  },
  {
   "cell_type": "code",
   "execution_count": 1,
   "metadata": {},
   "outputs": [],
   "source": [
    "import newspaper\n",
    "import pandas as pd\n",
    "from tqdm import tqdm"
   ]
  },
  {
   "cell_type": "code",
   "execution_count": null,
   "metadata": {},
   "outputs": [],
   "source": [
    "data = pd.read_csv(\"data/2023_04_05_matriz_not_julia.csv\", sep=\";\")\n",
    "data"
   ]
  },
  {
   "cell_type": "code",
   "execution_count": 3,
   "metadata": {},
   "outputs": [],
   "source": [
    "tqdm.pandas()\n",
    "\n",
    "# Función para extraer el contenido de la noticia\n",
    "def get_article_text(url):\n",
    "    try:\n",
    "        article = newspaper.Article(url)\n",
    "        article.download()\n",
    "        article.parse()\n",
    "        return article.text\n",
    "    except Exception as e:\n",
    "        print(f\"Error al procesar {url}: {e}\")\n",
    "        return None  # Devuelve None si hay un error"
   ]
  },
  {
   "cell_type": "code",
   "execution_count": null,
   "metadata": {},
   "outputs": [],
   "source": [
    "# Crear la nueva columna \"contenido\"\n",
    "data['contenido'] = data['enlace'].progress_apply(get_article_text)\n",
    "\n",
    "# Ver los primeros resultados\n",
    "print(data.head())"
   ]
  },
  {
   "cell_type": "code",
   "execution_count": 5,
   "metadata": {},
   "outputs": [],
   "source": [
    "data.to_csv(\"data/contenido_2023_04_05_matriz_not_julia.csv\")"
   ]
  },
  {
   "cell_type": "code",
   "execution_count": null,
   "metadata": {},
   "outputs": [],
   "source": [
    "# Corregir URLs con \"htmll\" al final\n",
    "data['enlace'] = data['enlace'].str.replace(\"htmll\", \"html\", regex=False)\n",
    "\n",
    "# Filtrar las filas donde 'contenido' es None o está vacío\n",
    "filt = data['contenido'].isna() | (data['contenido'] == \"\")\n",
    "\n",
    "# Aplicar la función solo a estas filas\n",
    "data.loc[filt, 'contenido'] = data.loc[filt, 'enlace'].progress_apply(get_article_text)"
   ]
  },
  {
   "cell_type": "code",
   "execution_count": 7,
   "metadata": {},
   "outputs": [],
   "source": [
    "data.to_csv(\"data/contenido_2023_04_05_matriz_not_julia.csv\")"
   ]
  },
  {
   "cell_type": "code",
   "execution_count": null,
   "metadata": {},
   "outputs": [],
   "source": [
    "data"
   ]
  },
  {
   "cell_type": "code",
   "execution_count": null,
   "metadata": {},
   "outputs": [],
   "source": [
    "import re\n",
    "import pandas as pd\n",
    "import spacy\n",
    "import nltk\n",
    "from nltk.corpus import stopwords\n",
    "from sklearn.model_selection import train_test_split\n",
    "\n",
    "# Descargar stopwords de NLTK si no lo has hecho\n",
    "nltk.download('stopwords')\n",
    "stop_words = set(stopwords.words('spanish'))  # Stopwords en español\n",
    "\n",
    "# Cargar modelo de Spacy para lematización en español\n",
    "nlp = spacy.load(\"es_core_news_sm\")\n",
    "\n",
    "def clean_text(text):\n",
    "    text = text.lower()  # Convertir a minúsculas\n",
    "    text = re.sub(r'\\s+', ' ', text)  # Eliminar espacios extra\n",
    "    text = re.sub(r'http\\S+', '', text)  # Eliminar URLs\n",
    "    text = re.sub(r'\\W', ' ', text)  # Eliminar caracteres no alfanuméricos\n",
    "    \n",
    "    # Tokenización y lematización con Spacy\n",
    "    doc = nlp(text)\n",
    "    tokens = [token.lemma_ for token in doc if token.text not in stop_words and not token.is_punct]\n",
    "    \n",
    "    return \" \".join(tokens).strip()\n",
    "\n",
    "# Aplicar limpieza\n",
    "data['contenido_clean'] = data['contenido'].apply(clean_text)\n"
   ]
  },
  {
   "cell_type": "code",
   "execution_count": null,
   "metadata": {},
   "outputs": [],
   "source": [
    "data.to_csv(\"data/contenido_2023_04_05_matriz_not_julia.csv\")"
   ]
  }
 ],
 "metadata": {
  "kernelspec": {
   "display_name": ".venv",
   "language": "python",
   "name": "python3"
  },
  "language_info": {
   "codemirror_mode": {
    "name": "ipython",
    "version": 3
   },
   "file_extension": ".py",
   "mimetype": "text/x-python",
   "name": "python",
   "nbconvert_exporter": "python",
   "pygments_lexer": "ipython3",
   "version": "3.12.3"
  }
 },
 "nbformat": 4,
 "nbformat_minor": 2
}
